{
 "cells": [
  {
   "cell_type": "code",
   "execution_count": 1,
   "metadata": {},
   "outputs": [],
   "source": [
    "# Import libaries\n",
    "import numpy as np\n",
    "import pandas as pd\n",
    "import requests\n",
    "from tqdm import tqdm"
   ]
  },
  {
   "attachments": {},
   "cell_type": "markdown",
   "metadata": {},
   "source": [
    "### Read in table with titles to be scraped"
   ]
  },
  {
   "cell_type": "code",
   "execution_count": 2,
   "metadata": {},
   "outputs": [],
   "source": [
    "no_dupes = pd.read_csv('../data/imdb_titles_no_dupes.csv')"
   ]
  },
  {
   "cell_type": "code",
   "execution_count": 3,
   "metadata": {},
   "outputs": [
    {
     "data": {
      "text/plain": [
       "(2484, 9)"
      ]
     },
     "execution_count": 3,
     "metadata": {},
     "output_type": "execute_result"
    }
   ],
   "source": [
    "no_dupes.shape"
   ]
  },
  {
   "cell_type": "code",
   "execution_count": 4,
   "metadata": {},
   "outputs": [
    {
     "data": {
      "text/html": [
       "<div>\n",
       "<style scoped>\n",
       "    .dataframe tbody tr th:only-of-type {\n",
       "        vertical-align: middle;\n",
       "    }\n",
       "\n",
       "    .dataframe tbody tr th {\n",
       "        vertical-align: top;\n",
       "    }\n",
       "\n",
       "    .dataframe thead th {\n",
       "        text-align: right;\n",
       "    }\n",
       "</style>\n",
       "<table border=\"1\" class=\"dataframe\">\n",
       "  <thead>\n",
       "    <tr style=\"text-align: right;\">\n",
       "      <th></th>\n",
       "      <th>name</th>\n",
       "      <th>href</th>\n",
       "      <th>years</th>\n",
       "      <th>imdb_description</th>\n",
       "      <th>pg_rating</th>\n",
       "      <th>imdb_genre_tags</th>\n",
       "      <th>imdb_rating</th>\n",
       "      <th>num_votes</th>\n",
       "      <th>img_thumbnail</th>\n",
       "    </tr>\n",
       "  </thead>\n",
       "  <tbody>\n",
       "    <tr>\n",
       "      <th>0</th>\n",
       "      <td>Game of Thrones</td>\n",
       "      <td>/title/tt0944947/</td>\n",
       "      <td>(2011–2019)</td>\n",
       "      <td>Nine noble families fight for control over the...</td>\n",
       "      <td>TV-MA</td>\n",
       "      <td>Action, Adventure, Drama</td>\n",
       "      <td>9.2</td>\n",
       "      <td>2148311</td>\n",
       "      <td>https://m.media-amazon.com/images/M/MV5BYTRiND...</td>\n",
       "    </tr>\n",
       "    <tr>\n",
       "      <th>1</th>\n",
       "      <td>Prison Break</td>\n",
       "      <td>/title/tt0455275/</td>\n",
       "      <td>(2005–2017)</td>\n",
       "      <td>Due to a political conspiracy, an innocent man...</td>\n",
       "      <td>TV-14</td>\n",
       "      <td>Action, Crime, Drama</td>\n",
       "      <td>8.3</td>\n",
       "      <td>548267</td>\n",
       "      <td>https://m.media-amazon.com/images/M/MV5BMTg3NT...</td>\n",
       "    </tr>\n",
       "    <tr>\n",
       "      <th>2</th>\n",
       "      <td>Vikings</td>\n",
       "      <td>/title/tt2306299/</td>\n",
       "      <td>(2013–2020)</td>\n",
       "      <td>Vikings transports us to the brutal and myster...</td>\n",
       "      <td>TV-MA</td>\n",
       "      <td>Action, Adventure, Drama</td>\n",
       "      <td>8.5</td>\n",
       "      <td>547494</td>\n",
       "      <td>https://m.media-amazon.com/images/M/MV5BODk4Zj...</td>\n",
       "    </tr>\n",
       "    <tr>\n",
       "      <th>3</th>\n",
       "      <td>The Boys</td>\n",
       "      <td>/title/tt1190634/</td>\n",
       "      <td>(2019– )</td>\n",
       "      <td>A group of vigilantes set out to take down cor...</td>\n",
       "      <td>TV-MA</td>\n",
       "      <td>Action, Comedy, Crime</td>\n",
       "      <td>8.7</td>\n",
       "      <td>542317</td>\n",
       "      <td>https://m.media-amazon.com/images/M/MV5BOTEyND...</td>\n",
       "    </tr>\n",
       "    <tr>\n",
       "      <th>4</th>\n",
       "      <td>The Mandalorian</td>\n",
       "      <td>/title/tt8111088/</td>\n",
       "      <td>(2019– )</td>\n",
       "      <td>The travels of a lone bounty hunter in the out...</td>\n",
       "      <td>TV-14</td>\n",
       "      <td>Action, Adventure, Fantasy</td>\n",
       "      <td>8.7</td>\n",
       "      <td>527088</td>\n",
       "      <td>https://m.media-amazon.com/images/M/MV5BZjRlZD...</td>\n",
       "    </tr>\n",
       "    <tr>\n",
       "      <th>5</th>\n",
       "      <td>The Witcher</td>\n",
       "      <td>/title/tt5180504/</td>\n",
       "      <td>(2019– )</td>\n",
       "      <td>Geralt of Rivia, a solitary monster hunter, st...</td>\n",
       "      <td>TV-MA</td>\n",
       "      <td>Action, Adventure, Drama</td>\n",
       "      <td>8.1</td>\n",
       "      <td>513940</td>\n",
       "      <td>https://m.media-amazon.com/images/M/MV5BN2FiOW...</td>\n",
       "    </tr>\n",
       "    <tr>\n",
       "      <th>6</th>\n",
       "      <td>Money Heist</td>\n",
       "      <td>/title/tt6468322/</td>\n",
       "      <td>(2017–2021)</td>\n",
       "      <td>An unusual group of robbers attempt to carry o...</td>\n",
       "      <td>TV-MA</td>\n",
       "      <td>Action, Crime, Drama</td>\n",
       "      <td>8.2</td>\n",
       "      <td>491872</td>\n",
       "      <td>https://m.media-amazon.com/images/M/MV5BODI0ZT...</td>\n",
       "    </tr>\n",
       "    <tr>\n",
       "      <th>7</th>\n",
       "      <td>Squid Game</td>\n",
       "      <td>/title/tt10919420/</td>\n",
       "      <td>(2021– )</td>\n",
       "      <td>Hundreds of cash-strapped players accept a str...</td>\n",
       "      <td>TV-MA</td>\n",
       "      <td>Action, Drama, Mystery</td>\n",
       "      <td>8.0</td>\n",
       "      <td>469810</td>\n",
       "      <td>https://m.media-amazon.com/images/M/MV5BYWE3MD...</td>\n",
       "    </tr>\n",
       "    <tr>\n",
       "      <th>8</th>\n",
       "      <td>Daredevil</td>\n",
       "      <td>/title/tt3322312/</td>\n",
       "      <td>(2015–2018)</td>\n",
       "      <td>A blind lawyer by day, vigilante by night. Mat...</td>\n",
       "      <td>TV-MA</td>\n",
       "      <td>Action, Crime, Drama</td>\n",
       "      <td>8.6</td>\n",
       "      <td>450320</td>\n",
       "      <td>https://m.media-amazon.com/images/M/MV5BODcwOT...</td>\n",
       "    </tr>\n",
       "    <tr>\n",
       "      <th>9</th>\n",
       "      <td>Arrow</td>\n",
       "      <td>/title/tt2193021/</td>\n",
       "      <td>(2012–2020)</td>\n",
       "      <td>Spoiled billionaire playboy Oliver Queen is mi...</td>\n",
       "      <td>TV-14</td>\n",
       "      <td>Action, Adventure, Crime</td>\n",
       "      <td>7.5</td>\n",
       "      <td>436286</td>\n",
       "      <td>https://m.media-amazon.com/images/M/MV5BMTI0NT...</td>\n",
       "    </tr>\n",
       "  </tbody>\n",
       "</table>\n",
       "</div>"
      ],
      "text/plain": [
       "              name                href        years  \\\n",
       "0  Game of Thrones   /title/tt0944947/  (2011–2019)   \n",
       "1     Prison Break   /title/tt0455275/  (2005–2017)   \n",
       "2          Vikings   /title/tt2306299/  (2013–2020)   \n",
       "3         The Boys   /title/tt1190634/     (2019– )   \n",
       "4  The Mandalorian   /title/tt8111088/     (2019– )   \n",
       "5      The Witcher   /title/tt5180504/     (2019– )   \n",
       "6      Money Heist   /title/tt6468322/  (2017–2021)   \n",
       "7       Squid Game  /title/tt10919420/     (2021– )   \n",
       "8        Daredevil   /title/tt3322312/  (2015–2018)   \n",
       "9            Arrow   /title/tt2193021/  (2012–2020)   \n",
       "\n",
       "                                    imdb_description pg_rating  \\\n",
       "0  Nine noble families fight for control over the...     TV-MA   \n",
       "1  Due to a political conspiracy, an innocent man...     TV-14   \n",
       "2  Vikings transports us to the brutal and myster...     TV-MA   \n",
       "3  A group of vigilantes set out to take down cor...     TV-MA   \n",
       "4  The travels of a lone bounty hunter in the out...     TV-14   \n",
       "5  Geralt of Rivia, a solitary monster hunter, st...     TV-MA   \n",
       "6  An unusual group of robbers attempt to carry o...     TV-MA   \n",
       "7  Hundreds of cash-strapped players accept a str...     TV-MA   \n",
       "8  A blind lawyer by day, vigilante by night. Mat...     TV-MA   \n",
       "9  Spoiled billionaire playboy Oliver Queen is mi...     TV-14   \n",
       "\n",
       "              imdb_genre_tags  imdb_rating  num_votes  \\\n",
       "0    Action, Adventure, Drama          9.2    2148311   \n",
       "1        Action, Crime, Drama          8.3     548267   \n",
       "2    Action, Adventure, Drama          8.5     547494   \n",
       "3       Action, Comedy, Crime          8.7     542317   \n",
       "4  Action, Adventure, Fantasy          8.7     527088   \n",
       "5    Action, Adventure, Drama          8.1     513940   \n",
       "6        Action, Crime, Drama          8.2     491872   \n",
       "7      Action, Drama, Mystery          8.0     469810   \n",
       "8        Action, Crime, Drama          8.6     450320   \n",
       "9    Action, Adventure, Crime          7.5     436286   \n",
       "\n",
       "                                       img_thumbnail  \n",
       "0  https://m.media-amazon.com/images/M/MV5BYTRiND...  \n",
       "1  https://m.media-amazon.com/images/M/MV5BMTg3NT...  \n",
       "2  https://m.media-amazon.com/images/M/MV5BODk4Zj...  \n",
       "3  https://m.media-amazon.com/images/M/MV5BOTEyND...  \n",
       "4  https://m.media-amazon.com/images/M/MV5BZjRlZD...  \n",
       "5  https://m.media-amazon.com/images/M/MV5BN2FiOW...  \n",
       "6  https://m.media-amazon.com/images/M/MV5BODI0ZT...  \n",
       "7  https://m.media-amazon.com/images/M/MV5BYWE3MD...  \n",
       "8  https://m.media-amazon.com/images/M/MV5BODcwOT...  \n",
       "9  https://m.media-amazon.com/images/M/MV5BMTI0NT...  "
      ]
     },
     "execution_count": 4,
     "metadata": {},
     "output_type": "execute_result"
    }
   ],
   "source": [
    "no_dupes.head(10)"
   ]
  },
  {
   "attachments": {},
   "cell_type": "markdown",
   "metadata": {},
   "source": [
    "### Define functions for our API call"
   ]
  },
  {
   "cell_type": "code",
   "execution_count": 5,
   "metadata": {},
   "outputs": [],
   "source": [
    "def wiki_text_query(inp_subject, start_year=\"\"):\n",
    "    '''a wrappper for a function call to wiki_api_query_internal(subject) that first gets the \"correct\" search term'''\n",
    "\n",
    "    warning_flag, search_string, search_url = wiki_search_term(inp_subject, start_year)\n",
    "\n",
    "    try:\n",
    "        output = wiki_text_query_internal(search_string)\n",
    "        if len(output) == 0:\n",
    "            print(f\"Warning: 0 length output for: {search_string}\")\n",
    "        \n",
    "        return warning_flag, search_string, search_url, output\n",
    "\n",
    "    except:\n",
    "        print(f\"ERROR 2: broken search for: {search_string}\")\n",
    "        return warning_flag, \"\", \"\", \"\"\n",
    "    "
   ]
  },
  {
   "cell_type": "code",
   "execution_count": 6,
   "metadata": {},
   "outputs": [],
   "source": [
    "def wiki_search_term(inp_subject, start_year=\"\"):\n",
    "    '''returns the \"correct\" search term to use, that first tries to search for _____({year } TV_series) \n",
    "        then tries _____(TV_series), before trying ______\n",
    "        Warning Flag codes:\n",
    "        0 - page found under _____({year } TV_series)\n",
    "        1 - page found under _____(TV_series)\n",
    "        2 - page found under _____\n",
    "        3 - no page found for search term\n",
    "        4 - page found using manual override search term\n",
    "        '''\n",
    "\n",
    "    warningflag = 0\n",
    "    \n",
    "    S = requests.Session()\n",
    "    URL = \"https://en.wikipedia.org/w/api.php\"\n",
    "    \n",
    "    PARAMS = {\n",
    "        \"action\": \"opensearch\",\n",
    "        \"namespace\": \"0\",\n",
    "        \"limit\": \"5\",\n",
    "        \"format\": \"json\"\n",
    "    }\n",
    "\n",
    "    R = S.get(url=URL, params=PARAMS | {'search': inp_subject + f\" ({start_year} TV series)\"})\n",
    "    DATA = R.json()\n",
    "    # print(f\"DATA: {DATA}\")\n",
    "\n",
    "    if len(DATA[1]) > 0:\n",
    "        return warningflag, DATA[1][0], DATA[3][0]\n",
    "    else:\n",
    "        R = S.get(url=URL, params=PARAMS | {'search': inp_subject + \" (TV series)\"})\n",
    "        DATA = R.json()\n",
    "        warningflag = 1\n",
    "\n",
    "        if len(DATA[1]) > 0:\n",
    "            return warningflag, DATA[1][0], DATA[3][0]\n",
    "        else:\n",
    "            R = S.get(url=URL, params=PARAMS | {'search': inp_subject})\n",
    "            DATA = R.json()\n",
    "            warningflag = 2\n",
    "\n",
    "            if len(DATA[1]) > 0:\n",
    "                return warningflag, DATA[1][0], DATA[3][0]\n",
    "            else:\n",
    "                warningflag = 3\n",
    "                return warningflag, DATA[0], \"\"\n",
    "\n",
    "# Reference: https://www.mediawiki.org/wiki/API:Opensearch"
   ]
  },
  {
   "cell_type": "code",
   "execution_count": 7,
   "metadata": {},
   "outputs": [],
   "source": [
    "def wiki_text_query_internal(subject):\n",
    "\n",
    "    url = 'https://en.wikipedia.org/w/api.php'\n",
    "\n",
    "    params = {\n",
    "            'action': 'query',\n",
    "            'format': 'json',\n",
    "            'titles': subject,\n",
    "            'prop': 'extracts',\n",
    "            # 'exintro': True,      #if True- returns just the first blurb on page\n",
    "            'explaintext': True,\n",
    "            'redirects':True,\n",
    "        }\n",
    "    \n",
    "    response = requests.get(url, params=params)\n",
    "    data = response.json()\n",
    "    \n",
    "    page = next(iter(data['query']['pages'].values()))\n",
    "\n",
    "    return page['extract']\n",
    "\n",
    "    \n",
    "# Reference: https://www.jcchouinard.com/wikipedia-api/\n",
    "# Reference: https://www.mediawiki.org/wiki/API:Parsing_wikitext\n",
    "# Reference: https://www.mediawiki.org/wiki/API:Get_the_contents_of_a_page"
   ]
  },
  {
   "cell_type": "code",
   "execution_count": null,
   "metadata": {},
   "outputs": [],
   "source": [
    "s = requests.Session()\n",
    "s.auth = ('user', 'pass')\n",
    "s.headers.update({'x-test': 'true'})\n",
    "\n",
    "# both 'x-test' and 'x-test2' are sent\n",
    "s.get('http://httpbin.org/headers', headers={'x-test2': 'true'})"
   ]
  },
  {
   "cell_type": "code",
   "execution_count": 8,
   "metadata": {},
   "outputs": [],
   "source": [
    "def override_query(inp_subject, start_year=\"\"):\n",
    "    '''direct search without trying alternate terms'''\n",
    "\n",
    "    warning_flag = 4\n",
    "    search_string = inp_subject\n",
    "    \n",
    "    search_url = f\"https://en.wikipedia.org/wiki/{inp_subject.replace(' ', '_')}\"\n",
    "\n",
    "    try:\n",
    "        output = wiki_text_query_internal(search_string)\n",
    "        if len(output) == 0:\n",
    "            print(f\"Warning: 0 length output for: {search_string}\")\n",
    "        \n",
    "        return warning_flag, search_string, search_url, output\n",
    "\n",
    "    except:\n",
    "        print(f\"ERROR 2: broken search for: {search_string}\")\n",
    "        return warning_flag, \"\", \"\", \"\"\n",
    "\n",
    "# Reference: https://www.jcchouinard.com/wikipedia-api/\n",
    "# Reference: https://www.mediawiki.org/wiki/API:Parsing_wikitext\n",
    "# Reference: https://www.mediawiki.org/wiki/API:Get_the_contents_of_a_page"
   ]
  },
  {
   "attachments": {},
   "cell_type": "markdown",
   "metadata": {},
   "source": [
    "### API query for the article text of each entry in our list"
   ]
  },
  {
   "cell_type": "code",
   "execution_count": 9,
   "metadata": {},
   "outputs": [],
   "source": [
    "# Create an array of the start year of each series, to help handle edge cases where the year is contained in the URL\n",
    "\n",
    "start_years = {}\n",
    "for i in range(len(no_dupes)):\n",
    "    year_entry = no_dupes['years'][i]\n",
    "    temp_read_in = year_entry[1:5]\n",
    "    if (temp_read_in[0] != '1') and (temp_read_in[0] != '2'):\n",
    "        j = 0\n",
    "        while j < len(year_entry):\n",
    "            if (year_entry[j] == '1') or (year_entry[j] == '2'):\n",
    "                break\n",
    "            j += 1\n",
    "        start_index = j-1\n",
    "        temp_read_in = year_entry[j: j+4]\n",
    "    \n",
    "    start_years[i] = temp_read_in"
   ]
  },
  {
   "cell_type": "code",
   "execution_count": 10,
   "metadata": {},
   "outputs": [
    {
     "name": "stderr",
     "output_type": "stream",
     "text": [
      " 15%|█▌        | 375/2484 [03:31<19:17,  1.82it/s]"
     ]
    },
    {
     "name": "stdout",
     "output_type": "stream",
     "text": [
      "ERROR 2: broken search for: Tokyo Ghoul: Root A\n"
     ]
    },
    {
     "name": "stderr",
     "output_type": "stream",
     "text": [
      " 15%|█▌        | 380/2484 [03:34<21:13,  1.65it/s]"
     ]
    },
    {
     "name": "stdout",
     "output_type": "stream",
     "text": [
      "ERROR 2: broken search for: Rurouni Kenshin: Trust and Betrayal\n"
     ]
    },
    {
     "name": "stderr",
     "output_type": "stream",
     "text": [
      " 30%|██▉       | 744/2484 [07:12<17:44,  1.64it/s]"
     ]
    },
    {
     "name": "stdout",
     "output_type": "stream",
     "text": [
      "ERROR 2: broken search for: The Wheel of Time: Origins\n"
     ]
    },
    {
     "name": "stderr",
     "output_type": "stream",
     "text": [
      " 34%|███▍      | 848/2484 [08:16<15:18,  1.78it/s]"
     ]
    },
    {
     "name": "stdout",
     "output_type": "stream",
     "text": [
      "ERROR 2: broken search for: Owari no serafu\n"
     ]
    },
    {
     "name": "stderr",
     "output_type": "stream",
     "text": [
      " 36%|███▋      | 903/2484 [08:48<15:55,  1.65it/s]"
     ]
    },
    {
     "name": "stdout",
     "output_type": "stream",
     "text": [
      "ERROR 2: broken search for: Scam 1992: The Harshad Mehta Story\n"
     ]
    },
    {
     "name": "stderr",
     "output_type": "stream",
     "text": [
      " 38%|███▊      | 946/2484 [09:12<14:48,  1.73it/s]"
     ]
    },
    {
     "name": "stdout",
     "output_type": "stream",
     "text": [
      "ERROR 2: broken search for: Self Made: Inspired by the Life of Madam C.J. Walker\n"
     ]
    },
    {
     "name": "stderr",
     "output_type": "stream",
     "text": [
      " 48%|████▊     | 1183/2484 [11:31<13:02,  1.66it/s]"
     ]
    },
    {
     "name": "stdout",
     "output_type": "stream",
     "text": [
      "ERROR 2: broken search for: The Filthy Frank Show\n"
     ]
    },
    {
     "name": "stderr",
     "output_type": "stream",
     "text": [
      " 66%|██████▌   | 1641/2484 [15:49<09:36,  1.46it/s]"
     ]
    },
    {
     "name": "stdout",
     "output_type": "stream",
     "text": [
      "ERROR 2: broken search for: Inside Look: The Assassination of Gianni Versace - American Crime Story\n"
     ]
    },
    {
     "name": "stderr",
     "output_type": "stream",
     "text": [
      " 66%|██████▌   | 1644/2484 [15:51<08:51,  1.58it/s]"
     ]
    },
    {
     "name": "stdout",
     "output_type": "stream",
     "text": [
      "ERROR 2: broken search for: Jeen-yuhs: A Kanye Trilogy\n"
     ]
    },
    {
     "name": "stderr",
     "output_type": "stream",
     "text": [
      " 69%|██████▊   | 1704/2484 [16:27<07:30,  1.73it/s]"
     ]
    },
    {
     "name": "stdout",
     "output_type": "stream",
     "text": [
      "ERROR 2: broken search for: FIFA Uncovered\n"
     ]
    },
    {
     "name": "stderr",
     "output_type": "stream",
     "text": [
      " 69%|██████▉   | 1711/2484 [16:31<07:38,  1.69it/s]"
     ]
    },
    {
     "name": "stdout",
     "output_type": "stream",
     "text": [
      "ERROR 2: broken search for: I Just Killed My Dad\n"
     ]
    },
    {
     "name": "stderr",
     "output_type": "stream",
     "text": [
      " 69%|██████▉   | 1719/2484 [16:36<07:24,  1.72it/s]"
     ]
    },
    {
     "name": "stdout",
     "output_type": "stream",
     "text": [
      "ERROR 2: broken search for: Sins of Our Mother\n"
     ]
    },
    {
     "name": "stderr",
     "output_type": "stream",
     "text": [
      " 83%|████████▎ | 2061/2484 [19:48<04:05,  1.72it/s]"
     ]
    },
    {
     "name": "stdout",
     "output_type": "stream",
     "text": [
      "ERROR 2: broken search for: A Young Doctor's Notebook & Other Stories\n"
     ]
    },
    {
     "name": "stderr",
     "output_type": "stream",
     "text": [
      " 83%|████████▎ | 2074/2484 [19:55<03:48,  1.79it/s]"
     ]
    },
    {
     "name": "stdout",
     "output_type": "stream",
     "text": [
      "ERROR 2: broken search for: Pera Palas'ta Gece Yarisi\n"
     ]
    },
    {
     "name": "stderr",
     "output_type": "stream",
     "text": [
      " 84%|████████▎ | 2078/2484 [19:57<03:41,  1.83it/s]"
     ]
    },
    {
     "name": "stdout",
     "output_type": "stream",
     "text": [
      "ERROR 2: broken search for: The Heavy Water War: Stopping Hitler's Atomic Bomb\n"
     ]
    },
    {
     "name": "stderr",
     "output_type": "stream",
     "text": [
      " 99%|█████████▉| 2460/2484 [23:29<00:13,  1.77it/s]"
     ]
    },
    {
     "name": "stdout",
     "output_type": "stream",
     "text": [
      "ERROR 2: broken search for: Doctor Foster: A Woman Scorned\n"
     ]
    },
    {
     "name": "stderr",
     "output_type": "stream",
     "text": [
      "100%|██████████| 2484/2484 [23:42<00:00,  1.75it/s]\n"
     ]
    }
   ],
   "source": [
    "wiki_articles = {}\n",
    "\n",
    "for i in tqdm(range(len(no_dupes))):\n",
    "\n",
    "    name = no_dupes['name'][i]\n",
    "    start_year = start_years[i]\n",
    "    \n",
    "    warning_flag, search_term, search_url, wiki_text = wiki_text_query(name, start_year)\n",
    "    \n",
    "    entry = {\n",
    "        'index_no': i,\n",
    "        'name' : name,\n",
    "        'wiki_warning_flag' : warning_flag,\n",
    "        'wiki_search_term' : search_term,\n",
    "        'wiki_search_url': search_url,\n",
    "        'wiki_text' : wiki_text\n",
    "    }\n",
    "\n",
    "    wiki_articles[i] = entry"
   ]
  },
  {
   "cell_type": "code",
   "execution_count": 39,
   "metadata": {},
   "outputs": [
    {
     "data": {
      "text/plain": [
       "{'index_no': 0,\n",
       " 'name': 'Game of Thrones',\n",
       " 'wiki_warning_flag': 1,\n",
       " 'wiki_search_term': 'Game of thrones (TV series)',\n",
       " 'wiki_search_url': 'https://en.wikipedia.org/wiki/Game_of_thrones_(TV_series)',\n",
       " 'wiki_text': 'Game of Thrones is an American fantasy drama television series created by David Benioff and D. B. Weiss for HBO. It is an adaptation of A Song of Ice and Fire, a series of fantasy novels by George R. R. Martin, the first of which is A Game of Thrones. The show was shot in the United Kingdom, Canada, Croatia, Iceland, Malta, Morocco, and Spain. It premiered on HBO in the United States on April 17, 2011, and concluded on May 19, 2019, with 73 episodes broadcast over eight seasons.\\nSet on the fictional continents of Westeros and Essos, Game of Thrones has a large ensemble cast and follows several story arcs throughout the course of the show. The first major arc concerns the Iron Throne of the Seven Kingdoms of Westeros through a web of political conflicts among the noble families either vying to claim the throne or fighting for independence from whoever sits on it. The second focuses on the last descendant of the realm\\'s deposed ruling dynasty, who has been exiled to Essos and is plotting to return and reclaim the throne. The third follows the Night\\'s Watch, a military order defending the realm against threats from beyond Westeros\\'s northern border.\\nGame of Thrones attracted a record viewership on HBO and has a broad, active, and international fan base. Critics have praised the series for its acting, complex characters, story, scope, and production values, although its frequent use of nudity and violence (including sexual violence) has been subject to criticism. The final season received significant critical backlash for its reduced length and creative decisions, with many considering it a disappointing conclusion. The series received 59 Primetime Emmy Awards, the most by a drama series, including Outstanding Drama Series in 2015, 2016, 2018 and 2019. Its other awards and nominations include three Hugo Awards for Best Dramatic Presentation, a Peabody Award, and five nominations for the Golden Globe Award for Best Television Series – Drama.\\nA prequel series, House of the Dragon, premiered on HBO in 2022.\\n\\n\\n== Premise ==\\n\\n\\n=== Plot ===\\n\\nGame of Thrones is roughly based on the storylines of the A Song of Ice and Fire book series by George R. R. Martin, set in the fictional Seven Kingdoms of Westeros and the continent of Essos. The series follows several simultaneous plot lines. The first story arc follows a war of succession among competing claimants for control of the Iron Throne of the Seven Kingdoms, with other noble families fighting for independence from the throne. The second concerns the exiled scion\\'s actions to reclaim the throne; the third chronicles the threat of the impending winter, as well as the legendary creatures and fierce peoples of the North.\\n\\n\\n=== Cast and characters ===\\n\\nGame of Thrones has an ensemble cast which has been estimated to be the largest on television. In 2014, several actors\\' contracts were renegotiated to include a seventh-season option. By the final season, five of the main cast members made $1 million per episode, making them among the highest paid television performers.Eddard \"Ned\" Stark (Sean Bean) is the head of House Stark. He and his wife, Catelyn (Michelle Fairley), have five children: Robb (Richard Madden), Sansa (Sophie Turner), Arya (Maisie Williams), Bran (Isaac Hempstead-Wright), and Rickon (Art Parkinson). Ned also has an illegitimate son, Jon Snow (Kit Harington), who, along with his scholarly friend, Samwell Tarly (John Bradley), serve in the Night\\'s Watch under Lord Commander Jeor Mormont (James Cosmo). The Wildlings living north of the Wall include the young Gilly (Hannah Murray) and the warriors Tormund Giantsbane (Kristofer Hivju) and Ygritte (Rose Leslie).Others associated with House Stark include Ned\\'s ward Theon Greyjoy (Alfie Allen), Ned\\'s vassal Roose Bolton (Michael McElhatton), and Roose\\'s illegitimate son, Ramsay (Iwan Rheon). Robb accepts help from the healer Talisa Maegyr (Oona Chaplin), while elsewhere, Arya befriends the blacksmith\\'s apprentice Gendry Rivers (Joe Dempsie) and the assassin Jaqen H\\'ghar (Tom Wlaschiha). In the Stormlands, the tall warrior Brienne of Tarth (Gwendoline Christie) serves on the Rainbow Guard.\\nIn King\\'s Landing, Ned\\'s old friend, King Robert I Baratheon (Mark Addy), shares a loveless political marriage with Cersei Lannister (Lena Headey). Her younger twin brother, Ser Jamie (Nikolaj Coster-Waldau), serves on the Kingsguard. The third and youngest Lannister sibling is the dwarf Tyrion (Peter Dinklage), who is attended by his mistress Shae (Sibel Kekilli) and the sellsword Bronn (Jerome Flynn). Cersei\\'s father is Tywin (Charles Dance), head of House Lannister and richest man in Westeros. Cersei has two sons: Joffrey (Jack Gleeson) and Tommen (Dean-Charles Chapman). Joffrey is guarded by the scar-faced warrior Sandor \"The Hound\" Clegane (Rory McCann).The king\\'s Small Council of advisors includes, among others, the crafty Master of Coin, Lord Petyr \"Littlefinger\" Baelish (Aidan Gillen), and the eunuch spymaster, Lord Varys (Conleth Hill). In Dragonstone, Robert\\'s younger brother, Stannis (Stephen Dillane), is advised by the foreign priestess Melisandre (Carice van Houten) and former smuggler Ser Davos Seaworth (Liam Cunningham). In the Reach, the Tyrell family, led by its matriarch Olenna (Diana Rigg), is represented at court by Margaery (Natalie Dormer), the matriarch\\'s granddaughter. The High Sparrow (Jonathan Pryce) is eventually given power as a religious leader. In the southern principality of Dorne, the warrior Ellaria Sand (Indira Varma) seeks vengeance against the Lannisters.Across the Narrow Sea, in Pentos, siblings Viserys Targaryen (Harry Lloyd) and Daenerys Targaryen (Emilia Clarke) (colloquially referred to as \"Dany\") are in exile, with the former plotting to reclaim his father\\'s throne. Daenerys is forced into marrying Khal Drogo (Jason Momoa), a leader of the nomadic Dothraki. Her retinue eventually comes to include the exiled knight Ser Jorah Mormont (Iain Glen), her aide Missandei (Nathalie Emmanuel), the sellsword Daario Naharis (Michiel Huisman), and the elite soldier Grey Worm (Jacob Anderson).\\n\\n\\n=== Themes ===\\n\\nThe series has been praised by both television critics and historians for what was perceived as a sort of medieval realism. George R. R. Martin set out to make the story feel more like historical fiction than contemporary fantasy, with less emphasis on magic and sorcery and more on battles, political intrigue, and the characters, believing that magic should be used moderately in the epic fantasy genre. Martin has said that, \"the true horrors of human history derive not from orcs and Dark Lords, but from ourselves\". Academics have classified the series as neo-medieval which focuses on the overlapping of medieval history and popular fantasy. A common theme in the fantasy genre is the battle between good and evil, which Martin says does not mirror the real world. Martin explores the relationship between good and evil through the questions of redemption and character change. The series allows the audience to view different characters from their perspective, unlike in many other fantasies.In early seasons, under the influence of the A Song of Ice and Fire books, main characters were regularly killed off, and this was credited with developing tension among viewers. Martin stated in an interview that he wanted to depict war and violence in a realistic way, which sometimes mean the hero or main characters could be injured or killed. In later seasons, critics pointed out that certain characters had developed \"plot armor\" to survive in unlikely circumstances and attributed this to Game of Thrones deviating from the novels to become more of a traditional television series. In a 2012 study, out of 40 recent television drama shows, Game of Thrones ranked second in deaths per episode, averaging 14. A scientific study conducted in 2018 stated that about 60% of the major characters died as a result of violence and war.\\n\\n\\n=== Inspirations and derivations ===\\nAlthough the series\\'s first season closely follows the events of the first novel, there were significant changes made for later seasons. According to Benioff, the TV adaptation is \"about adapting the series as a whole and following the map George laid out for us and hitting the major milestones, but not necessarily each of the stops along the way\". Aspects of the novels\\' plots and their adaptations are based upon settings, characters, and events in European history. Most of Westeros is reminiscent of high medieval Europe, from its geography and castles to its cultures, the feudal system, palace intrigues, and the knights\\' tournaments. Like medieval Europe, most of the houses in the series use the patriarchal system of power. The series also includes elements of gothic fiction, including torture tropes.A principal inspiration for the novels is the English Wars of the Roses (1455–1485) between the houses of Lancaster and York, reflected in Martin\\'s houses of Lannister and Stark. The scheming Cersei Lannister evokes Isabella, the \"She-Wolf of France\" (1295–1358). She and her family, as portrayed in Maurice Druon\\'s historical novel series, The Accursed Kings, were a main inspiration of Martin\\'s. Other historical antecedents of series elements include: Hadrian\\'s Wall (which becomes Martin\\'s Wall), the Roman Empire, and the legend of Atlantis (ancient Valyria), Byzantine Greek fire (\"wildfire\"), Icelandic sagas of the Viking Age (the Ironborn), the Mongol hordes (the Dothraki), the Hundred Years\\' War, and the Italian Renaissance. The series\\'s popularity has been attributed, in part, to Martin\\'s skill at fusing these elements into a seamless, credible version of alternate history.\\n\\n\\n== Production ==\\n\\n\\n=== Conception and development ===\\n\\nThe A Song of Ice and Fire series of novels was popular before Game of Thrones. The series has sold more than 90 million copies worldwide with the novels being translated into 45 different languages. George R. R. Martin received multiple fantasy writing awards and nominations, including a World Fantasy Award and multiple Locus Awards, for the series. Writing for Time magazine in 2005 after the release of A Feast for Crows, journalist Lev Grossman called Martin the \"American Tolkien\", stating he is a \"major force for evolution in fantasy\".In January 2006, David Benioff had a telephone conversation with Martin\\'s literary agent about the books he represented. Having been a fan of fantasy fiction when he was younger, he became interested in A Song of Ice and Fire, which he had not read. The literary agent sent Benioff the series\\'s first four books. Benioff read a few hundred pages of the first novel, A Game of Thrones, shared his enthusiasm with D. B. Weiss, and suggested that they adapt Martin\\'s novels into a television series; Weiss finished the first novel in \"maybe 36 hours\". They pitched the series to HBO after a five-hour meeting with Martin (himself a veteran screenwriter) in a restaurant on Santa Monica Boulevard. According to Benioff, they won Martin over by knowing the answer to his question, \"Who is Jon Snow\\'s mother?\"\\n\\nBefore being approached by Benioff and Weiss, Martin had had meetings with other scriptwriters, most of whom wanted to adapt the series as a feature film. Martin, however, deemed it \"unfilmable\", saying that the size of one of his novels is as long as The Lord of the Rings, which had been adapted as three feature films. Benioff agreed it would be impossible to turn the novels into a feature film as their scale is too big for a feature film, and dozens of characters would have to be discarded. Benioff added, \"a fantasy movie of this scope, financed by a major studio, would almost certainly need a PG-13 rating. That means no sex, no blood, no profanity. Fuck that.\" Martin was pleased with the suggestion that they adapt it as an HBO series, saying that he \"never imagined it anywhere else\".The series began development in January 2007. HBO acquired the television rights to the novels, with Benioff and Weiss as the series\\' executive producers and Martin as a co-executive producer. The intention was for each novel to yield a season\\'s worth of episodes. Initially, Martin would write one episode per season while Benioff and Weiss would write the rest. Jane Espenson and Bryan Cogman were added later to write one episode each for the first season. The first and second drafts of the pilot script by Benioff and Weiss were submitted in August 2007 and June 2008, respectively. Although HBO liked both drafts, a pilot was not ordered until November 2008. The pilot episode, \"Winter Is Coming\", was shot in 2009; after its poor reception following a private viewing, HBO demanded an extensive re-shoot (about 90 percent of the episode, with cast and directorial changes). The pilot reportedly cost HBO $5–10 million to produce, while the first season\\'s budget was estimated at $50–60 million. For the second season, the series received a 15-percent budget increase for the climactic battle in \"Blackwater\" (which had an $8 million budget). Between 2012 and 2015, the average budget per episode increased from $6 million to \"at least\" $8 million. The sixth-season budget was over $10 million per episode, for a season total of over $100 million, a record for a series\\'s production cost. By the final season, the production budget per episode was estimated to be $15 million.\\n\\n\\n=== Casting ===\\nNina Gold and Robert Sterne were the series\\' primary casting directors. Through a process of auditions and readings, the main cast was assembled. The only exceptions were Peter Dinklage and Sean Bean, whom the writers wanted from the start; they were announced as joining the pilot in 2009. Other actors signed for the pilot were Kit Harington as Jon Snow, Jack Gleeson as Joffrey Baratheon, Harry Lloyd as Viserys Targaryen, and Mark Addy as Robert Baratheon. According to Benioff and Weiss, Addy was the easiest actor to cast for the series because of his audition performance. Some characters in the pilot were recast for the first season. The role of Catelyn Stark was played initially by Jennifer Ehle, but the role was recast with Michelle Fairley. The character of Daenerys Targaryen was also recast, with Emilia Clarke replacing Tamzin Merchant. The rest of the first season\\'s cast was selected in the second half of 2009.Although many of the cast returned after the first season, the producers had many new characters to cast in each of the following seasons. Because of the large number of new characters, Benioff and Weiss postponed introducing several key characters in the second season and merged several characters into one, or assigned plot functions to different characters. Some recurring characters were recast over the years; for example, Gregor Clegane was played by three different actors, while Dean-Charles Chapman played both Tommen Baratheon and a minor Lannister character.\\n\\n\\n=== Writing ===\\n\\nGame of Thrones used seven writers over its six seasons. Benioff and Weiss wrote most of each season\\'s episodes. A Song of Ice and Fire author George R. R. Martin wrote one episode in each of the first four seasons. Martin did not write an episode for the later seasons, since he wanted to focus on completing the sixth novel (The Winds of Winter). Jane Espenson co-wrote one first-season episode as a freelance writer.Cogman, initially a script coordinator for the series, was promoted to producer for the fifth season. Cogman, who wrote at least one episode for the first five seasons, was the only other writer in the writers\\' room with Benioff and Weiss. Before Cogman\\'s promotion, Vanessa Taylor—a writer during the second and third seasons—worked closely with Benioff and Weiss. Dave Hill joined the writing staff for the fifth season after working as an assistant to Benioff and Weiss. Although Martin was not in the writers\\' room, he read the script outlines and made comments.Benioff and Weiss sometimes assigned characters to particular writers; for example, Cogman was assigned to Arya Stark for the fourth season. The writers spent several weeks writing a character outline, including what material from the novels to use and the overarching themes. After these individual outlines were completed, they spent another two to three weeks discussing each main character\\'s individual arc and arranging them episode by episode. A detailed outline was created, with each of the writers working on part of it to create a script for each episode. Cogman, who wrote two episodes for the fifth season, took a month and a half to complete both scripts. They were then read by Benioff and Weiss, who made notes, and parts of the script were rewritten. All ten episodes were written before filming began since they were shot out of order by two units in different countries. Benioff and Weiss wrote their episodes together; one wrote the first half of the script with the other writing the second half. They then passed the drafts back and forth to make notes and do rewrites.\\n\\n\\n==== Adaptation schedule and episodes ====\\n\\nAfter Game of Thrones story line began outpacing the published novels in the sixth season, the series was based on a plot outline of the future novels provided by Martin along with original content. Before season four, Martin stated there was an issue with the television series being released before the source material could be written. According to Benioff, Martin gave the showrunners an outline on the final two books of the series. In April 2016, the showrunners\\' plan was to shoot 13 more episodes after the sixth season: seven episodes in the seventh season and six episodes in the eighth. Later that month, the series was renewed for a seventh season with a seven-episode order. HBO announced in June 2016 that the eighth season would be the final for the series.\\nThe first two seasons adapted one novel each. For the later seasons, its creators saw Game of Thrones as an adaptation of A Song of Ice and Fire as a whole rather than the individual novels, enabling them to move events across novels as the screen adaptation required.\\n\\n\\n=== Filming ===\\n\\nPrincipal photography for the first season was scheduled to begin on July 26, 2010; the primary location was the Paint Hall Studios in Belfast, Northern Ireland. Exterior scenes in Northern Ireland were filmed at Sandy Brae in the Mourne Mountains (standing in for Vaes Dothrak); Castle Ward (Winterfell); Saintfield Estates (the Winterfell godswood); Tollymore Forest (outdoor scenes); Cairncastle (the execution site); the Magheramorne quarry (Castle Black); and Shane\\'s Castle (the tourney grounds). Doune Castle in Stirling, Scotland, was also used in the original pilot episode for scenes at Winterfell. The producers initially considered filming the entire series in Scotland, but decided on Northern Ireland because of the availability of studio space and tax credits.\\n\\nThe first season\\'s southern scenes were filmed in Malta, a change in location from the pilot episode\\'s Moroccan sets. The city of Mdina was used for King\\'s Landing. Filming also took place at Fort Manoel (representing the Sept of Baelor); at the Azure Window on the island of Gozo (the Dothraki wedding site); and at San Anton Palace, Fort Ricasoli, Fort St. Angelo and St. Dominic monastery (all used for scenes in the Red Keep). Filming of the second season\\'s southern scenes shifted from Malta to Croatia, where the city of Dubrovnik and nearby locations allowed exterior shots of a walled, coastal medieval city. The Walls of Dubrovnik and Fort Lovrijenac were used for scenes in King\\'s Landing, though exteriors of some local buildings in the series, for example, the Red Keep and the Sept of Baelor, are computer generated. The island of Lokrum, the St. Dominic monastery in the coastal town of Trogir, the Rector\\'s Palace in Dubrovnik, and the Dubac quarry (a few kilometers east) were used for scenes set in Qarth. Scenes set north of the Wall, in the Frostfangs, and at the Fist of the First Men, were filmed in November 2011 in Iceland on the Vatnajökull glacier near Smyrlabjörg, the Svínafellsjökull glacier near Skaftafell, and the Mýrdalsjökull glacier near Vik on Höfðabrekkuheiði. Filming also occurred at the harbor in Ballintoy, Northern Ireland.\\n\\nThird-season production returned to Dubrovnik, with the Walls of Dubrovnik, Fort Lovrijenac, and nearby locations again used for scenes in King\\'s Landing and the Red Keep. Trsteno Arboretum, a new location, is the garden of the Tyrells in King\\'s Landing. The third season also returned to Morocco (including the city of Essaouira) to film Daenerys\\'s scenes in Essos. Dimmuborgir and the Grjótagjá cave in Iceland were used as well. One scene, with a live bear, was filmed in Los Angeles. The production used three units (Dragon, Wolf and Raven) filming in parallel, six directing teams, 257 cast members and 703 crew members. The fourth season returned to Dubrovnik and included new locations, including Diocletian\\'s Palace in Split, Klis Fortress north of Split, Perun quarry east of Split, the Mosor mountain range and Baška Voda farther south. Thingvellir National Park in Iceland was used for the fight between Brienne and the Hound. The fifth season added Seville, Spain, used for scenes of Dorne, and Córdoba.The sixth season, which began filming in July 2015, returned to Spain and filmed in Navarra, Guadalajara, Seville, Almeria, Girona and Peniscola. Filming also returned to Dubrovnik, Croatia. The filming of the seven episodes of season seven began on August 31, 2016, at Titanic Studios in Belfast, with other filming in Iceland, Northern Ireland and many locations in Spain, including Seville, Cáceres, Almodovar del Rio, Santiponce, Zumaia and Bermeo. Filming continued until the end of February 2017, as necessary, to ensure winter weather in some European locations. Filming for season eight began in October 2017 and concluded in July 2018. New filming locations included Moneyglass and Saintfield in Northern Ireland for \"The Long Night\" battle scenes.\\n\\n\\n==== Effect on locations ====\\nNorthern Ireland Screen, a UK government agency financed by Invest NI and the European Regional Development Fund, helped fund Game of Thrones. Tourism Ireland has a Game of Thrones-themed marketing campaign similar to New Zealand\\'s Tolkien-related advertising. According to First Minister Arlene Foster, the series has given Northern Ireland the most publicity in its history apart from The Troubles. The production of Game of Thrones and other TV series boosted Northern Ireland\\'s creative industries, contributing to an estimated 12.4 percent growth in arts, entertainment and recreation jobs between 2008 and 2013 (compared with 4.3 percent in the rest of the UK during the same period). After filming had finished, HBO converted its filming locations in Northern Ireland into tourist attractions to be opened in 2019. By 2019, 350,000 visitors, or one sixth of all tourists, came to Northern Ireland annually because of Game of Thrones.Tourism organizations elsewhere reported increases in bookings after their locations appeared in Game of Thrones. Between 2014 and 2016, Hotels.com reported hotel bookings increased by 285 percent in Iceland and 120 percent in Dubrovnik. In 2016, bookings doubled in Ouarzazate, Morocco, the location of Daenerys\\' season three scenes. Dubrovnik also saw an increase in overnight tourist stays after episodes aired. However, the increase in tourism driven by the series—estimated to be responsible for half of its annual increase over many years—led to concerns about \"over-tourism\" and its mayor imposing limits on tourist numbers in the city. Following the series finale, HBO announced in April 2019 a new exhibition and tourist attraction containing show props and set pieces. The attraction, titled Game of Thrones Studio Tour, will be located at former show filming location Linen Mill Studios outside Belfast. Studies showed that the series had an overall positive economic impacts for both Northern Ireland and Dubrovnik. Despite the positive economic results, some academics note the impact and damage from Game of Thrones–related tourist activities could have on historical sites and other locations of cultural value.\\n\\n\\n=== Directing ===\\nEach ten-episode season of Game of Thrones had four to six directors, who usually directed back-to-back episodes. Alan Taylor directed seven episodes, the most of any director. Alex Graves, David Nutter, Mark Mylod, and Jeremy Podeswa directed six episodes each. Daniel Minahan directed five episodes, and Michelle MacLaren, Alik Sakharov, and Miguel Sapochnik directed four each; MacLaren is the only female director of the entire series\\'s run. Brian Kirk directed three episodes during the first season, and Tim Van Patten directed the series\\'s first two episodes. Neil Marshall directed two episodes, both with large battle scenes: \"Blackwater\" and \"The Watchers on the Wall\". Other directors include Jack Bender, David Petrarca, Daniel Sackheim, Michael Slovis and Matt Shakman. David Benioff and D. B. Weiss have directed two episodes together but were credited with only one each, which was determined after a coin toss. For season eight, David Nutter and Miguel Sapochnik, who worked on previous episodes, directed the first five episodes. Benioff and Weiss were credited as both the writers and directors of the show finale \"The Iron Throne\".\\n\\n\\n=== Production design ===\\nMichele Clapton was the costume designer for Game of Thrones\\' first five seasons before she was replaced by April Ferry. Clapton returned to the series as its costume designer for the seventh season. For the first three seasons, Paul Engelen was Game of Thrones\\' main makeup designer and prosthetic makeup artist with Melissa Lackersteen, Conor O\\'Sullivan, and Rob Trenton. At the beginning of the fourth season, Engelen\\'s team was replaced by Jane Walker and her crew, composed of Ann McEwan and Barrie and Sarah Gower. Over 130 makeup artists and prosthetic designers worked on the show.The designs for the series\\'s costumes were inspired by several sources, such as Japanese and Persian armor. Dothraki dress resembles that of the Bedouin (one was made of fish skins to resemble dragon scales), and the Wildlings wear animal skins like the Inuit. Wildling bone armor is made from molds of actual bones and is assembled with string and latex resembling catgut. Although the extras who played Wildlings and the Night\\'s Watch often wore hats (normal in a cold climate), members of the principal cast usually did not so viewers could recognize them. Björk\\'s Alexander McQueen high-neckline dresses inspired Margaery Tyrell\\'s funnel-neck outfit, and prostitutes\\' dresses were designed for easy removal. All the clothing used during the production was aged for two weeks, so it had a realistic appearance on high-definition television.About two dozen wigs were used by the actresses. Made of human hair and up to 61 centimetres (2 ft) in length, they cost up to $7,000 each and were washed and styled like real hair. Applying the wigs was time-consuming; Emilia Clarke, for example, required about two hours to style her brunette hair with a platinum-blonde wig and braids. Other actors, such as Jack Gleeson and Sophie Turner, received frequent hair coloring. For characters such as Daenerys (Clarke) and her Dothraki, their hair, wigs and costumes were processed to appear as if they had not been washed for weeks.\\n\\n\\n=== Visual effects ===\\nFor the large number of visual effects used in the series, HBO hired British-based BlueBolt and Irish-based Screen Scene for season one. Most of the environment builds were done as 2.5D projections, giving viewers perspective while keeping the programming from being overwhelming. In 2011, the season one finale, \"Fire and Blood\", was nominated for a Primetime Emmy Award for Outstanding Special Visual Effects. The visual effects crew consisted of both on-set VFX supervisors and concept artists along with visual effect editors in post-production.Because the effects became more complex in subsequent seasons (including CGI creatures, fire, and water), German-based Pixomondo became the lead visual effects producer; nine of its twelve facilities contributed to the project for season two, with Stuttgart the lead studio. Scenes were also produced by British-based Peanut FX, Canadian-based Spin VFX, and US-based Gradient Effects. \"Valar Morghulis\" and \"Valar Dohaeris\" earned Pixomondo Primetime Emmy Awards for Outstanding Special Visual Effects in 2012 and 2013, respectively.HBO added German-based Mackevision to the project in season four. The season four finale, \"The Children\", won the 2014 Emmy Award for Visual Effects. Additional producers for season four included Canadian-based Rodeo FX, German-based Scanline VFX and US-based BAKED FX. The muscle and wing movements of the adolescent dragons in seasons four and five were based largely on those of a chicken. Pixomondo retained a team of 22 to 30 people focused solely on visualizing Daenerys Targaryen\\'s dragons, with the average production time per season of 20 to 22 weeks. For the fifth season, HBO added Canadian-based Image Engine and US-based Crazy Horse Effects to its list of main visual-effects producers. Visual effect supervisor Joe Bauer said that the VFX team worked on more than \"10,000 shots of visual effects\" throughout all eight seasons. More than 300 artists worked on the show\\'s visual effects team. The show won eight Creative Arts Emmy Awards for visual effects, winning for Outstanding Special Visual Effects in seven consecutive seasons.\\n\\n\\n==== Title sequence ====\\n\\nThe series\\'s title sequence was created for HBO by production studio Elastic. Creative director Angus Wall and his collaborators received the 2011 Primetime Emmy Award for Main Title Design for the sequence, which depicts a three-dimensional map of the series\\'s fictional world. The map is projected on the inside of a sphere which is centrally lit by a small sun in an armillary sphere. As the camera moves across the map, focusing on the locations of the episode\\'s events, clockwork mechanisms intertwine and allow buildings and other structures to emerge from the map. Accompanied by the title music, the names of the principal cast and creative staff appear. The sequence concludes after about 90 seconds with the title card and brief opening credits detailing the episode\\'s writer(s) and director. Its composition changes as the story progresses, with new locations replacing those featuring less prominently or not at all. Entertainment Weekly named the title sequence one of the best on television, calling it an \"all-inclusive cruise of Westeros\".\\n\\n\\n=== Music ===\\n\\nRamin Djawadi composed the series\\'s music. The first season\\'s soundtrack, written about ten weeks before the series\\'s premiere, was published by Varèse Sarabande in June 2011. Soundtrack albums for subsequent seasons have been released, with tracks by the National, the Hold Steady and Sigur Rós. Djawadi composed reoccurring themes for each of the major houses and some main characters. Some themes evolved over time. Daenerys Targaryen\\'s theme was simple and became more complex after each season. At first, her theme was played by a single instrument, a cello, and Djawadi later incorporated more instruments into it. Djawadi was nominated twice for a Grammy Award for Best Score Soundtrack for Visual Media for his work on the show. In addition to the originally scored music, Columbia Records released the For the Throne: Music Inspired by the HBO Series Game of Thrones companion album on April 26, 2019.\\n\\n\\n=== Language ===\\nThe Westerosi characters of Game of Thrones speak British-accented English, often (but not consistently) with the accent of the English region corresponding to the character\\'s Westerosi region. The Northerner Eddard Stark speaks in actor Sean Bean\\'s native northern accent, and the southern lord Tywin Lannister speaks with a southern accent, while characters from Dorne speak English with a Spanish accent. Characters foreign to Westeros often have a non-British accent.Although the common language of Westeros is represented as English, the producers charged linguist David J. Peterson with constructing Dothraki and Valyrian languages based on the few words in the novels. Before production, Peterson wrote 300 pages of Dothraki language material, including translation and word function. Dothraki and Valyrian dialogue is often subtitled in English. Language-learning company Duolingo began offering courses in High Valyrian in 2017, of which 1.2 million people signed up for between 2017 and 2020.\\n\\n\\n== Availability ==\\n\\n\\n=== Broadcast ===\\nGame of Thrones was broadcast by HBO in the United States and by its local subsidiaries or other pay television services in other countries, at the same time as in the US or weeks (or months) later. Broadcasters carrying Game of Thrones included Fox Showcase in Australia; HBO Canada, Super Écran, and Showcase in Canada; HBO Latin America in Latin America; Sky Television Network\\'s SoHo and Neon in New Zealand and Sky Atlantic in the United Kingdom and Ireland. In India, two versions of the series were aired; Star World aired a censored version of the series on television at the same time as the US, while an uncensored version was made available for live viewing on the Hotstar app.On January 23, 2015, the last two episodes of season four were shown in 205 IMAX theaters across the United States, the first television series to be shown in this format. The show earned $686,000 at the box office on its opening day and $1.5 million during its opening weekend; the week-long release grossed $1,896,092. Before the season eight premiere, HBO screened \"The Spoils of War\" episode from season seven in movie theaters in New York, Los Angeles, and \"Chicago\".\\n\\n\\n=== Home media and streaming ===\\nThe ten episodes of the first season of Game of Thrones were released as a DVD and Blu-ray box set on March 6, 2012. The box set includes extra background and behind-the-scenes material but no deleted scenes, since nearly all the footage shot for the first season was used. The box set sold over 350,000 copies in the week following its release, the largest first-week DVD sales ever for an HBO series. The series also set an HBO-series record for digital-download sales. A collector\\'s-edition box set was released in November 2012, combining the DVD and Blu-ray versions of the first season with the first episode of season two. A paperweight in the shape of a dragon egg is included in the set.DVD-Blu-ray box sets and digital downloads of the second season became available on February 19, 2013. First-day sales broke HBO records, with 241,000 box sets sold and 355,000 episodes downloaded. The third season was made available for purchase as a digital download on the Australian iTunes Store, parallel to the US premiere, and was released on DVD and Blu-ray in region 1 on February 18, 2014. The fourth season was released on DVD and Blu-ray on February 17, 2015, and the fifth season on March 15, 2016. Blu-ray and DVD versions of the sixth season were released on November 15, 2016. Beginning in 2016, HBO began issuing Steelbook Blu-ray sets, which include both Dolby TrueHD 7.1 and Dolby Atmos audio options. In 2018, the first season was released in 4K HDR on Ultra HD Blu-ray. Blu-ray and DVD versions of the seventh season were released on December 12, 2017. The final season was released on DVD and Blu-ray on December 3, 2019. The home release also included behind-the-scenes footage and cast commentary. A box set containing all eight seasons, including a cast reunion hosted by Conan O\\'Brien, was released on DVD and Blu-ray on December 3, 2019, and was also released on 4K Ultra HD Blu-ray on November 3, 2020.In August 2022, the complete series was released in 4K, Dolby Vision HDR and Dolby Atmos on HBO Max.\\n\\n\\n=== Copyright infringement ===\\nGame of Thrones has been widely pirated, primarily outside the US. According to the file-sharing news website TorrentFreak, it was the most pirated television series from 2012 to 2019 (except 2018, when no new episodes were broadcast), and Guinness World Records named it the most-pirated television program in 2015. Illegal downloads increased to about seven million in the first quarter of 2015, up 45 percent from 2014. An unnamed episode was downloaded about 4.28 million times through public BitTorrent trackers in 2012, roughly equal to its number of broadcast viewers. Piracy rates were particularly high in Australia prompting the US Ambassador to Australia, Jeff Bleich, to issue a statement in 2013 condemning the practice there. Delays in availability by non-HBO broadcasters before 2015 and the cost of subscriptions to their services have been cited as causes for the series\\'s illegal distribution. According to TorrentFreak, a subscription to a service broadcasting Game of Thrones cost up to $25 per month in the United States, up to £26 per episode in the UK and up to $52 per episode in Australia.In 2013, to combat unauthorized downloads, HBO said it intended to make its content more widely available within a week of the US premiere (including HBO Go). In 2015, the fifth season was simulcast to 170 countries and to HBO Now users. On April 11, the day before the season premiere, screener copies of the first four episodes of the fifth season leaked to a number of file-sharing websites. Within a day of the leak, the files were downloaded over 800,000 times; in one week the illegal downloads reached 32 million, with the season five premiere—\"The Wars to Come\"— pirated 13 million times. The season five finale (\"Mother\\'s Mercy\") was the most simultaneously shared file in the history of the BitTorrent file sharing protocol, with over 250,000 sharers and over 1.5 million downloads in eight hours. HBO did not send screeners to the press for the sixth season to prevent the spread of unlicensed copies and spoilers. Season seven was either illegally streamed or downloaded over 1 billion times, with the season averaging 14.7 billion illegal views, and the season finale garnering over 120 million illegal views within its first 72 hours. According to anti-piracy company MUSO, the eighth season was illegally downloaded or viewed most in India and China. Illegal viewership for the final season was double the number of legal viewers, with 55 million illegal downloads for the season eight premiere \"Winterfell\", compared to 17.4 million who watched on HBO platforms.Observers, including series director David Petrarca and Time Warner CEO Jeff Bewkes, said that illegal downloads did not hurt the series\\'s prospects; it benefited from \"buzz\" and social commentary, and the high piracy rate did not significantly translate into lost subscriptions. According to Polygon, HBO\\'s relaxed attitude towards piracy and the sharing of login credentials amounted to a premium-television \"free-to-play\" model. At a 2015 Oxford Union panel discussion, series co-creator David Benioff said that he was just glad that people watched the series; illegally downloaded episodes sometimes interested viewers enough to buy a copy, especially in countries where Game of Thrones was not televised. Series co-creator D. B. Weiss had mixed feelings, saying that the series was expensive to produce and \"if it doesn\\'t make the money back, then it ceases to exist\". However, he was pleased that so many people \"enjoy the show so much they can\\'t wait to get their hands on it.\"\\n\\n\\n== Reception ==\\n\\n\\n=== Critical response ===\\n\\n\\n==== General ====\\nGame of Thrones, particularly the first six seasons, received critical acclaim, although the series\\'s frequent use of nudity and violence has been criticized. The series has an overall rating of 89 percent on Rotten Tomatoes and 86 on Metacritic. Some critics and publications have called the show among the best HBO series of all time. The series was highly anticipated by fans before its premiere. James Poniewozik said the pilot episode set \"a very large table\", while Ti Singh of Den of Geek said the show \"is here to stay\".First-season reviewers said the series had high production values, a fully realized world and compelling characters. According to Variety, \"There may be no show more profitable to its network than \\'Game of Thrones\\' is to HBO. Fully produced by the pay cabler and already a global phenomenon after only one season, the fantasy skein was a gamble that has paid off handsomely.\" The second season was also well received. Entertainment Weekly praised its \"vivid, vital, and just plain fun\" storytelling and, according to The Hollywood Reporter, the series made a \"strong case for being one of TV\\'s best series\"; its seriousness made it the only drama comparable to Mad Men or Breaking Bad.The critical response for the middle seasons were also positive. Matt Fowler of IGN said the series was \"still quite marvelous\" praising the character development. TV Guide named the third season\\'s penultimate episode \"The Rains of Castamere\" as number three on their 65 Best Episodes of the 21st Century. The critical acclaim continued into season four, with Darren Franich of Entertainment Weekly calling the season \" the height of the show\\'s icon-generating powers\". The Independent stated that the show deviated significantly from the novels however the \"changes benefited the show and condensed the substantial source text admirably well\". The critical response to season five was again positive, however, some commentators criticized the sexual assault in the \"Unbowed, Unbent, Unbroken\" episode. Season six also received favorable reviews. Time criticized the repetitive story lines early in the season, however, its reviewer praised the \"Battle of the Bastards\" episode as \"one of the show\\'s very best\". One reviewer also said there were \"more woman-friendly\" themes throughout the season, with another singling out Arya Stark\\'s story arc.The show\\'s final two seasons, especially season eight, received more criticism. Season seven was praised for its action sequences and focused central characters, but received criticism for its pace and plot developments that were said to have \"defied logic\". Writing for Vox, Emily VanDerWerff cited the departure from the source material as a reason for the \"circular storytelling\". Critical reception for season eight was mixed. The Guardian said there was the \"rushed business\" of the plot which \"failed to do justice to its characters or its actors\". Writing for The Hollywood Reporter, Maureen Ryan condemned the season\\'s reductive treatment of women, and \"decisions set up and executed with little or no foresight or thoughtfulness\", declaring the penultimate episode as \"Game of Thrones at its worst\". Fan reaction was mixed for the final season. A petition on Change.org started by some fans requested that the final season be remade with different writers. Casey Bloys, HBO\\'s president of programming, said at a Television Critics Association event \"the petition shows a lot of enthusiasm and passion for the show but it wasn\\'t something we seriously considered\". Despite the criticism of the writing, the music and visual effects were praised. In 2023, Game of Thrones was included on The Guardian\\'s list of worst TV endings of all time.The cast performances were praised throughout the show\\'s run. Peter Dinklage\\'s \"charming, morally ambiguous, and self-aware\" portrayal of Tyrion, which earned him Emmy and Golden Globe awards, was acclaimed. \"In many ways, Game of Thrones belongs to Dinklage\", wrote Mary McNamara of the Los Angeles Times before Tyrion became the series\\'s central figure in season two. Several critics highlighted performances by actresses and children. Lena Headey\\'s portrayal of the \"riveting\" Cersei Lannister also received praise. Maisie Williams was singled out as well and her season two work with veteran actor Charles Dance (Tywin Lannister). Stephen Dillane received positive reviews for his performance as Stannis Baratheon, especially in the fifth season, with one critic noting \"Whether you like Stannis or not, you have to admit that Stephen Dillane delivered a monumental performance this season.\" The series was also praised for the portrayal of handicapped and disabled characters. One commentator stated that Tyrion Lannister is a \"departure from the archetypal dwarf\" often found in other fantasy stories like The Lord of the Rings.Darren Franich of Entertainment Weekly gave the series a \\'B\\' rating, saying that it was ultimately \"okay\". With both \"transcendent moments\" and \"miserable phases\", it was \"beloved enough to be criticized by everyone for something\". Franich described seasons three and four as \"relentless\", seasons six\\'s ending having a \"killer one-two punch\", while seasons seven and eight were \"indifferent\". The New York Times gave the series a mixed review after the season three finale, criticizing the number of characters, their lack of complexity and a meandering plot. The show, however, appeared on many \"best of\" lists for the end of the 2010s. Alan Sepinwall, writing for Rolling Stone, placed the series on his \"50 Best TV Shows of the 2010s\" list, saying its \"ability to most of the time keep all of its disparate threads feeling vital and tied to one another, remains a staggering achievement\".\\n\\n\\n==== Concerns over depiction of sex and violence ====\\nDespite its otherwise enthusiastic reception by critics, Game of Thrones has been criticized for the amount of female nudity, violence, and sexual violence it depicts, and for the manner in which it depicts these themes. George R. R. Martin responded that he felt obliged to be truthful about history and human nature, and that rape and sexual violence are common in war; and that omitting them from the narrative would have rung false and undermined one of his novels\\' themes, its historical realism. HBO said that they \"fully support the vision and artistry of Dan and David\\'s exceptional work and we feel this work speaks for itself\". The show has reportedly been censored or banned for sexual or violent content in countries like China, India, Iran, Jordan, Singapore, Turkey, United Arab Emirates, and Vietnam.The amount of sex and nudity in the series, especially in scenes incidental to the plot, was the focus of much of the criticism aimed at it in its first and second seasons. Stephen Dillane, who portrays Stannis Baratheon, likened the series\\'s frequent explicit scenes to \"German porn from the 1970s\". The series\\'s use of \"sexposition\", plot delivery accompanied by sex or nudity, was criticized as distracting. Saturday Night Live parodied this aspect of the adaptation in a sketch that portrayed a 13-year-old boy as a Game of Thrones consultant, whose main concern was showing as many breasts as possible.The episode \"The Bear and the Maiden Fair\" in the third season featured the lengthy torture and eventual emasculation of Theon Greyjoy, which prompted criticism. New York magazine called the scene \"torture porn\". According to one commentator, although the series\\' violence tended to serve a narrative purpose, Theon\\'s torture in \"The Bear and the Maiden Fair\" was excessive as well. One commentator noted that Greyjoy\\'s emasculation was one of the only sexual assault scenes where a male was the victim. A scene in the fourth season\\'s episode \"Breaker of Chains\", in which Jaime Lannister rapes his sister and lover Cersei, triggered a broad public discussion about the series\\' depiction of sexual violence against women. According to Dave Itzkoff of The New York Times, the scene caused outrage, in part because of comments by director Alex Graves that the scene became \"consensual by the end\". Sonia Saraiya of The A.V. Club wrote that the series\\'s choice to portray this sexual act, and a similar one between Daenerys Targaryen and Khal Drogo in the first season—both described as consensual in the source novels—as a rape appeared to be an act of \"exploitation for shock value\".In the fifth season\\'s episode \"Unbowed, Unbent, Unbroken\", Sansa Stark is raped by Ramsay Bolton. Most reviewers and publications found the scene gratuitous and artistically unnecessary. In response to the scene, pop culture website The Mary Sue announced that it would cease coverage of the series because of the repeated use of rape as a plot device, and US Senator Claire McCaskill said that she would no longer watch it. The episode was the lowest rated on Rotten Tomatoes until the season eight episode \"The Bells\". As the later seasons saw Daenerys, Sansa, and Cersei assume ruling positions, Alyssa Rosenberg of The Washington Post noted that the series could be seen as a \"long-arc revenge fantasy about what happens when women who have been brutalized and raped gain power\". Much of the criticism after the series finale was centered around the handling of the female character storylines. One commentator cited the male gaze as one of main sources of the \"romanticized female rape\" and general nudity throughout the series. Another commentator stated the use of both sex and violence helps perpetuate misogyny within the Game of Thrones universe.\\n\\n\\n==== Lighting ====\\nThe lighting, or lack of light, in darker scenes has been a recurring point of criticism since season six of the series. In 2016, Bustle\\'s Caitlyn Callegari listed 31 examples of scenes where the lighting caused viewers problems ranging from not being able to tell a character\\'s hair color to being unable to see what was going on. Some reviewers have noted this is part of a wider trend among shows that are made by people who have experience working primarily on films, suggesting they \"haven\\'t grasped the nuances (or lack thereof)\" of television as a medium, especially the differences between watching a scene on a television screen versus watching it on the big screen in a movie theater.In a 2017 interview, Robert McLachlan, a cinematographer working on the show, explained the lack of lighting as an artistic choice saying \"we\\'re trying to be as naturalistic as possible\". The criticism reached a high point during \"The Long Night\", the third episode of season eight. Barely minutes into the episode, viewers took to social media sites such as Twitter to express their discontent over the fact that they were having severe difficulties watching the battle and trying to figure out what was going on.\\n\\n\\n=== Cultural influence ===\\nAlthough Game of Thrones was initially dismissed by some critics, its success has been credited with an increase in the fantasy genre\\'s popularity. The series\\'s popularity led to increased sales of the A Song of Ice and Fire novels (republished in tie-in editions), which remained at the top of bestseller lists for months. On the eve of the second season\\'s premiere, CNN said, \"after this weekend, you may be hard pressed to find someone who isn\\'t a fan of some form of epic fantasy\" and cited Ian Bogost as saying that the series continues a trend of successful screen adaptations beginning with Peter Jackson\\'s The Lord of the Rings film trilogy (2001–2003) and the Harry Potter films (2001–2011) establishing fantasy as a mass-market genre; they are \"gateway drugs to fantasy fan culture\". The show\\'s success led to the commissioning of several fantasy television series, including The Wheel of Time and The Lord of the Rings: The Rings of Power by Amazon Studios. According to Neil Gaiman, whose novels Good Omens and American Gods were adapted for television, Game of Thrones helped to change attitudes towards fantasy on television, but mainly it made big budgets for fantasy series more acceptable.The success of the genre has been attributed by writers to a longing for escapism in popular culture, frequent female nudity and a skill in balancing lighthearted and serious topics (dragons and politics, for example) which provided it with a prestige enjoyed by conventional, top-tier drama series. According to The Daily Beast, Game of Thrones was a favorite of sitcom writers and the series has been referred to in other television series. With other fantasy series, it has been cited as a reason for an increase in the purchase (and abandonment) of huskies and other wolf-like dogs.Game of Thrones has added to the popular vocabulary. A first-season scene in which Petyr Baelish explains his motives (or background) while prostitutes have sex in the background gave rise to the word \"sexposition\" for providing exposition with sex and nudity. Dothraki, the series\\'s nomadic horsemen, was ranked fourth in a September 2012 Global Language Monitor list of words from television most used on the internet. The series and its characters have also been referenced by politicians and academics to commentate on modern-day geopolitics, economic inequality, and climate change.In 2019, singer-songwriter Taylor Swift told Entertainment Weekly that several songs on her 2017 album Reputation were inspired by Game of Thrones characters and plots. \"Khaleesi\" became more popular as a name for baby girls in the United States. In the novels and the TV series, \"khaleesi\" is not a name, but the title of the wife of a \"khal\" (warlord) in the Dothraki language, held by Daenerys Targaryen. Other names from characters in the series, like Daenerys, also became popular baby names.Game of Thrones has also become a subject of both academic and scientific inquiry. In 2016, researchers published a paper analyzing emotional sentiment in online public discourse associated with the unfolding storyline during the fourth season. The Mathematical Association of America published a journal in 2016 that applied the multidisciplinary field of network science to create a social network for the show\\'s characters and their relationships. The analysis purported to be able to distinguish discussions about an episode\\'s storyline from media critiques or assessments of a specific actor\\'s performance. In 2018, Australian scientists conducted a survival analysis and examined the mortality among 330 important characters during the first seven seasons of Game of Thrones. In 2019, the Australian Red Cross conducted a study using international humanitarian law to determine which of the Game of Thrones\\' characters had committed the most war crimes during the first seven seasons of the show.Animals have also been named after the show. Three species of mud dragons; Echinoderes daenerysae, Echinoderes rhaegal and Echinoderes drogoni, a bee fly; Paramonovius nightking, three species of scarab beetles; Gymnetis drogoni, Gymnetis rhaegali and Gymnetis viserioni, and a brittle star, Ophiohamus georgemartini, due to its sharp thorns resembling those depicted on the Game of Thrones crown.\\n\\n\\n==== Fandom ====\\n\\nA Song of Ice and Fire and Game of Thrones have a broad, active international fan base. In 2012 Vulture ranked the series\\'s fans as the most devoted in popular culture, more so than those of Lady Gaga, Justin Bieber, Harry Potter or Star Wars. Fans include political leaders such as former US president Barack Obama, former British prime minister David Cameron, former Australian prime minister Julia Gillard and Dutch foreign minister Frans Timmermans, who framed European politics using quotes from Martin\\'s novels in a 2013 speech.BBC News said in 2013 that \"the passion and the extreme devotion of fans\" had created a phenomenon, unlike anything related to other popular TV series, manifesting itself in fan fiction, Game of Thrones-themed burlesque routines and parents naming their children after series characters; writers quoted attributed this success to the rich detail, moral ambiguity, sexual explicitness and epic scale of the series and novels. The previous year, \"Arya\" was the fastest-rising girl\\'s name in the US after it had jumped in popularity from 711th to 413th place.As of 2013, about 58 percent of series viewers were male and 42 percent female, and the average male viewer was 41 years old. According to SBS Broadcasting Group marketing director Helen Kellie, Game of Thrones has a high fan-engagement rate; 5.5 percent of the series\\'s 2.9 million Facebook fans talked online about the series in 2012, compared to 1.8 percent of the over ten million fans of True Blood (HBO\\'s other fantasy series). Vulture.com cited Westeros.org and WinterIsComing.net (news and discussion forums), ToweroftheHand.com (which organizes communal readings of the novels) and Podcastoficeandfire.com as fan sites dedicated to the TV and novel series; and podcasts cover Game of Thrones.\\n\\n\\n=== Awards ===\\n\\nGame of Thrones has won numerous awards throughout its run, including 59 Emmy Awards, eight Screen Actors Guild Awards and a Peabody Award. It holds the record for total Emmy Award wins for a scripted television series (surpassing the record of 37 wins held by Frasier since 2004) and for most Emmy nominations for a drama series, with 161. In 2019, the show\\'s final season established a new record for most Emmy nominations received in a year with 32, breaking the 25-year-long record of 26 nominations established by NYPD Blue in 1994. In 2013, the Writers Guild of America listed Game of Thrones as the 40th best written series in television history. In 2015, The Hollywood Reporter placed it at number four on their best TV shows ever list, while in 2016 the series was placed seventh on Empire\\'s \"The 50 best TV shows ever\". The same year, Rolling Stone named it the twelfth \"greatest TV Show of all time\". In 2013, at the Media Access Awards, George R. R. Martin accepted the Visionary Award from the Writers With Disabilities committee of the Writers Guild of America, for its positive portrayal of character with disabilities.\\n\\n\\n=== Viewership ===\\nGame of Thrones was considered a ratings success for HBO throughout all eight seasons. The show premiere was watched by 2.2 million, and the first season averaged 2.5 million viewers per episode. For its second season, the series had an average gross audience of 11.6 million viewers. The third season was seen by 14.2 million viewers, making Game of Thrones the second-most-viewed HBO series (after The Sopranos). HBO said that Game of Thrones\\' average gross audience of 18.4 million viewers (later adjusted to 18.6 million) had passed The Sopranos for the viewership record. The season five episode \"The House of Black and White\" was simulcasted in 173 countries, becoming the \"largest TV drama telecast\" according to Guinness World Records.By the sixth season the average per-episode gross viewing figure had increased to over 25 million, with nearly 40 percent of viewers watching on HBO digital platforms. In 2016, a New York Times study of the 50 TV shows with the most Facebook likes found that Game of Thrones was \"much more popular in cities than in the countryside, probably the only show involving zombies that is\". By season seven, the average viewer numbers had grown to 32.8 million per episode across all platforms. The series finale was viewed by 19.3 million people across HBO\\'s platforms, becoming the network\\'s most watched episode. The lead-out show also benefited from the finale\\'s record viewership.\\nGame of Thrones also set viewership records outside the United States on pay-television channels in the United Kingdom (with a 2016 average audience of more than five million on all platforms) and Australia (with a cumulative average audience of 1.2 million). Video streaming research company Parrot Analytics stated that after the US, the season eight premiere demand was \"particularly strong in the United Kingdom and France\". Nielsen Media Research noted the show was popular among 18 to 49 key demographic with strong female viewership for a fantasy series. The show also benefited from time shifting viewership. Between season one and season seven, 7-day viewers, the number of both DVR and video on demand views during the week after the episode broadcast, grew from 3.3 million to 13.7 million. Following the show finale, commentators said many viewers might cancel their premium television and streaming subscriptions. HBO parent company WarnerMedia reported that subscription revenue declined only 0.9 percent between April and June 2019.\\n\\n\\n== Other media ==\\n\\n\\n=== Video games ===\\n\\nThe series and the novels have inspired several video games.\\n\\n\\n=== Merchandise and exhibition ===\\nHBO has licensed a variety of merchandise based on Game of Thrones, including games, replica weapons and armor, jewelry, bobblehead dolls by Funko, beer by Ommegang and apparel. High-end merchandise includes a $10,500 Ulysse Nardin wristwatch and a $30,000 resin replica of the Iron Throne. In 2013 and 2014, a traveling exhibition of costumes, props, armor and weapons from the series visited major cities in Europe and the Americas. Starting 2018, Diageo released several Game of Thrones themed whiskies.\\n\\n\\n== Related shows ==\\n\\n\\n=== Thronecast ===\\n\\nThronecast: The Official Guide to Game of Thrones, a series of podcasts presented by Geoff Lloyd and produced by Koink, were released on the Sky Atlantic website and the UK iTunes store during the series\\'s run; a new podcast, with analysis and cast interviews, was released after each episode. In 2014 and 2015, HBO commissioned Catch the Throne, two rap albums about the series. A companion book, Inside HBO\\'s Game of Thrones by series writer Bryan Cogman, was published on September 27, 2012. The 192-page book, illustrated with concept art and behind-the-scenes photographs, covers the creation of the series\\'s first two seasons and its principal characters and families.\\n\\n\\n=== After the Thrones ===\\n\\nAfter the Thrones was a live aftershow during which hosts Andy Greenwald and Chris Ryan discussed episodes of the series. It aired on HBO Now, the Monday following each season six episode. The Game of Thrones Live Concert Experience, a North American 28-city orchestral tour which performed the series\\'s soundtrack with composer Ramin Djawadi, began in February 2017 and concluded in April 2017. A second tour followed in 2018 across cities in Europe and North America.\\n\\n\\n=== Home media extras ===\\nEach season\\'s Blu-ray and DVD set contains several short still motion animated sequences titled Histories and Lore, narrated by the cast, in character, as they detail events in the history of Westeros. For the seventh season, this was to include the animated prequel series Game of Thrones: Conquest & Rebellion, illustrated in a different animation style than previous videos. The series focuses on Aegon Targaryen\\'s conquest of the Seven Kingdoms of Westeros. A week after the series finale, HBO released a behind-the-scenes documentary entitled Game of Thrones: The Last Watch. The program documented the production of season 8 along with read-throughs and interviews with the cast.\\n\\n\\n=== Successors ===\\nIn May 2017, after years of speculation about possible successor series, HBO commissioned Max Borenstein, Jane Goldman, Brian Helgeland, Carly Wray, and Bryan Cogman to develop five individual Game of Thrones successor series; the writers were to be working individually with George R. R. Martin, who also co-wrote two of the scripts. D. B. Weiss and David Benioff said that they would not be involved with any of the projects.Martin said that all the concepts under discussion were prequels, although he believes the term \"successor show\" applies better to these projects, as they are not Game of Thrones spin-offs in the traditional sense. He ruled out Robert\\'s Rebellion (the overthrow of Daenerys\\'s father by Robert Baratheon) as a possible idea and revealed that some may be set outside Westeros. In September 2018, speaking about the four projects (i.e. not about the Goldman\\'s project), HBO president of programming Casey Bloys said that some of them had been abandoned completely, while others remained as possibilities for the future; Martin said that: \"at least two of them are solidly based on material in Fire and Blood\". In May 2019, Martin stated that two of the projects were still in the script stage, but were \"edging closer\". In April 2019, Cogman confirmed his prequel would not be moving forward.In January 2021, it was revealed that HBO were developing another prequel series to be based on Martin\\'s novella series Tales of Dunk and Egg. Steve Conrad was attached as writer and executive producer of the Tales of Dunk and Egg series in November 2021. In March 2021, it was reported that three additional Game of Thrones spin-offs were in development at HBO; they include 10,000 Ships, a reference to the voyages made by warrior queen Princess Nymeria, who later founds Dorne; 9 Voyages, about the voyages of Corlys Velaryon on the Sea Snake; and a project based on Flea Bottom, the poorest slum in King\\'s Landing.In June 2022, it was reported that a Jon Snow sequel series with Kit Harington to reprise his role was in early development at HBO. The working title is Snow and Martin confirmed his involvement with the project and that Harington initiated the idea. Also in June, Martin said there were still three other live-action series in development: 10,000 Ships (written by Amanda Segal), 9 Voyages aka Sea Snake (written by Bruno Heller), and the Dunk & Egg prequel series (written by Steven Conrad), tentatively titled either The Hedge Knight or Knight of the Seven Kingdoms.\\n\\n\\n==== Bloodmoon ====\\nOn June 8, 2018, HBO commissioned a pilot to a Game of Thrones prequel series from Goldman as showrunner and Martin as co-creator. The prequel was to take place in the Age of Heroes, a period that begins roughly 10,000 years before the events of Game of Thrones. Notable events of that period include the foundation of powerful Houses, the Long Night when the White Walkers first descended upon Westeros, and the Andal Invasion when the Andals invaded from Essos and conquered most of Westeros. Martin suggested The Long Night as a title for the series. S. J. Clarkson was announced to direct and executive produce the pilot, while Naomi Watts was cast as the female lead playing \"a charismatic socialite hiding a dark secret\". Other series regulars were to include: Josh Whitehouse, Toby Regbo, Ivanno Jeremiah, Georgie Henley, Naomi Ackie, Denise Gough, Jamie Campbell Bower, Sheila Atim, Alex Sharp, Miranda Richardson, Marquis Rodriguez, John Simm, Richard McCabe, John Heffernan, and Dixie Egerickx. In September 2019, Martin claimed the pilot was in post-production but in October 2019, it was announced that HBO had decided not to move forward with the series.\\n\\n\\n==== House of the Dragon ====\\n\\nIn September 2019, Deadline Hollywood reported that a second prequel from Martin and Ryan Condal that \"tracks the beginning of the end for House Targaryen\" was close to receiving a pilot order from HBO; the project is not considered an original sixth script, as it builds upon Cogman\\'s idea from 2017. This prequel, titled House of the Dragon, was commissioned as a complete series on October 29, 2019. The 10-episode series is to be based on material from Fire and Blood, executive produced by Martin, Vince Gerardis, Condal, and Miguel Sapochnik; the latter two are to be its showrunners as well. In January 2020, HBO stated that the series is scheduled for a 2022 release and that the writing process has begun. Casting for the series started in July 2020. In October 2020, it was revealed that Paddy Considine was cast as King Viserys I Targaryen. In December 2020, three more castings were announced: Olivia Cooke as Alicent Hightower, Emma D\\'Arcy as Rhaenyra Targaryen, and Matt Smith as Daemon Targaryen. In February 2021, HBO chief content officer Casey Bloys stated that the show would start production in April, with filming occurring in England. In February 2021, Steve Toussaint, Eve Best, Rhys Ifans, and Sonoya Mizuno were confirmed to also be starring in the series. In March 2022, HBO announced a series premiere date of August 21, 2022, followed by the release of the official teaser trailer.\\n\\n\\n==== Animated series ====\\nIn January 2021, an adult animated drama series was announced to be in development at HBO Max. In July 2021, two more animated series were in development at HBO Max, with one being set in Yi Ti, a nation in Essos loosely based on Imperial China. The series\\' working title is The Golden Empire.\\n\\n\\n== Notes ==\\n\\n\\n== References ==\\n\\n\\n== External links ==\\nOfficial website \\nGame of Thrones at IMDb \\nGame of Thrones at Rotten Tomatoes \\nGame of Thrones on Twitter \\nGame of Thrones Viewer\\'s Guide\\nMaking Game of Thrones'}"
      ]
     },
     "execution_count": 39,
     "metadata": {},
     "output_type": "execute_result"
    }
   ],
   "source": [
    "wiki_articles[0]"
   ]
  },
  {
   "attachments": {},
   "cell_type": "markdown",
   "metadata": {},
   "source": [
    "### Create a DataFrame from the extracted data"
   ]
  },
  {
   "cell_type": "code",
   "execution_count": 12,
   "metadata": {},
   "outputs": [],
   "source": [
    "wiki_articles_df = pd.DataFrame.from_dict(wiki_articles, orient='index')"
   ]
  },
  {
   "cell_type": "code",
   "execution_count": 40,
   "metadata": {},
   "outputs": [
    {
     "data": {
      "text/html": [
       "<div>\n",
       "<style scoped>\n",
       "    .dataframe tbody tr th:only-of-type {\n",
       "        vertical-align: middle;\n",
       "    }\n",
       "\n",
       "    .dataframe tbody tr th {\n",
       "        vertical-align: top;\n",
       "    }\n",
       "\n",
       "    .dataframe thead th {\n",
       "        text-align: right;\n",
       "    }\n",
       "</style>\n",
       "<table border=\"1\" class=\"dataframe\">\n",
       "  <thead>\n",
       "    <tr style=\"text-align: right;\">\n",
       "      <th></th>\n",
       "      <th>index_no</th>\n",
       "      <th>name</th>\n",
       "      <th>wiki_warning_flag</th>\n",
       "      <th>wiki_search_term</th>\n",
       "      <th>wiki_search_url</th>\n",
       "      <th>wiki_text</th>\n",
       "    </tr>\n",
       "  </thead>\n",
       "  <tbody>\n",
       "    <tr>\n",
       "      <th>0</th>\n",
       "      <td>0</td>\n",
       "      <td>Game of Thrones</td>\n",
       "      <td>1</td>\n",
       "      <td>Game of thrones (TV series)</td>\n",
       "      <td>https://en.wikipedia.org/wiki/Game_of_thrones_...</td>\n",
       "      <td>Game of Thrones is an American fantasy drama t...</td>\n",
       "    </tr>\n",
       "    <tr>\n",
       "      <th>1</th>\n",
       "      <td>1</td>\n",
       "      <td>Prison Break</td>\n",
       "      <td>1</td>\n",
       "      <td>Prison break (TV series)</td>\n",
       "      <td>https://en.wikipedia.org/wiki/Prison_break_(TV...</td>\n",
       "      <td>Prison Break is an American serial drama telev...</td>\n",
       "    </tr>\n",
       "    <tr>\n",
       "      <th>2</th>\n",
       "      <td>2</td>\n",
       "      <td>Vikings</td>\n",
       "      <td>0</td>\n",
       "      <td>Vikings (2013 TV series)</td>\n",
       "      <td>https://en.wikipedia.org/wiki/Vikings_(2013_TV...</td>\n",
       "      <td>Vikings is a historical drama television serie...</td>\n",
       "    </tr>\n",
       "    <tr>\n",
       "      <th>3</th>\n",
       "      <td>3</td>\n",
       "      <td>The Boys</td>\n",
       "      <td>0</td>\n",
       "      <td>The Boys (2019 TV series)</td>\n",
       "      <td>https://en.wikipedia.org/wiki/The_Boys_(2019_T...</td>\n",
       "      <td>The Boys is an American superhero television s...</td>\n",
       "    </tr>\n",
       "    <tr>\n",
       "      <th>4</th>\n",
       "      <td>4</td>\n",
       "      <td>The Mandalorian</td>\n",
       "      <td>1</td>\n",
       "      <td>The Mandalorian (TV series)</td>\n",
       "      <td>https://en.wikipedia.org/wiki/The_Mandalorian_...</td>\n",
       "      <td>The Mandalorian is an American space Western t...</td>\n",
       "    </tr>\n",
       "  </tbody>\n",
       "</table>\n",
       "</div>"
      ],
      "text/plain": [
       "   index_no             name  wiki_warning_flag             wiki_search_term  \\\n",
       "0         0  Game of Thrones                  1  Game of thrones (TV series)   \n",
       "1         1     Prison Break                  1     Prison break (TV series)   \n",
       "2         2          Vikings                  0     Vikings (2013 TV series)   \n",
       "3         3         The Boys                  0    The Boys (2019 TV series)   \n",
       "4         4  The Mandalorian                  1  The Mandalorian (TV series)   \n",
       "\n",
       "                                     wiki_search_url  \\\n",
       "0  https://en.wikipedia.org/wiki/Game_of_thrones_...   \n",
       "1  https://en.wikipedia.org/wiki/Prison_break_(TV...   \n",
       "2  https://en.wikipedia.org/wiki/Vikings_(2013_TV...   \n",
       "3  https://en.wikipedia.org/wiki/The_Boys_(2019_T...   \n",
       "4  https://en.wikipedia.org/wiki/The_Mandalorian_...   \n",
       "\n",
       "                                           wiki_text  \n",
       "0  Game of Thrones is an American fantasy drama t...  \n",
       "1  Prison Break is an American serial drama telev...  \n",
       "2  Vikings is a historical drama television serie...  \n",
       "3  The Boys is an American superhero television s...  \n",
       "4  The Mandalorian is an American space Western t...  "
      ]
     },
     "execution_count": 40,
     "metadata": {},
     "output_type": "execute_result"
    }
   ],
   "source": [
    "wiki_articles_df.head()"
   ]
  },
  {
   "cell_type": "code",
   "execution_count": 14,
   "metadata": {},
   "outputs": [
    {
     "data": {
      "text/plain": [
       "2484"
      ]
     },
     "execution_count": 14,
     "metadata": {},
     "output_type": "execute_result"
    }
   ],
   "source": [
    "#double-checking no entry count mismatch\n",
    "len(wiki_articles_df)"
   ]
  },
  {
   "attachments": {},
   "cell_type": "markdown",
   "metadata": {},
   "source": [
    "### Identifying entries that did not run as intended"
   ]
  },
  {
   "cell_type": "code",
   "execution_count": 15,
   "metadata": {},
   "outputs": [
    {
     "data": {
      "text/plain": [
       "1    1116\n",
       "2    1010\n",
       "0     342\n",
       "3      16\n",
       "Name: wiki_warning_flag, dtype: int64"
      ]
     },
     "execution_count": 15,
     "metadata": {},
     "output_type": "execute_result"
    }
   ],
   "source": [
    "wiki_articles_df['wiki_warning_flag'].value_counts()"
   ]
  },
  {
   "attachments": {},
   "cell_type": "markdown",
   "metadata": {},
   "source": [
    "##### Blank entries:"
   ]
  },
  {
   "cell_type": "code",
   "execution_count": 16,
   "metadata": {},
   "outputs": [
    {
     "data": {
      "text/html": [
       "<div>\n",
       "<style scoped>\n",
       "    .dataframe tbody tr th:only-of-type {\n",
       "        vertical-align: middle;\n",
       "    }\n",
       "\n",
       "    .dataframe tbody tr th {\n",
       "        vertical-align: top;\n",
       "    }\n",
       "\n",
       "    .dataframe thead th {\n",
       "        text-align: right;\n",
       "    }\n",
       "</style>\n",
       "<table border=\"1\" class=\"dataframe\">\n",
       "  <thead>\n",
       "    <tr style=\"text-align: right;\">\n",
       "      <th></th>\n",
       "      <th>index_no</th>\n",
       "      <th>name</th>\n",
       "      <th>wiki_warning_flag</th>\n",
       "      <th>wiki_search_term</th>\n",
       "      <th>wiki_search_url</th>\n",
       "      <th>wiki_text</th>\n",
       "    </tr>\n",
       "  </thead>\n",
       "  <tbody>\n",
       "    <tr>\n",
       "      <th>374</th>\n",
       "      <td>374</td>\n",
       "      <td>Tokyo Ghoul: Root A</td>\n",
       "      <td>3</td>\n",
       "      <td></td>\n",
       "      <td></td>\n",
       "      <td></td>\n",
       "    </tr>\n",
       "    <tr>\n",
       "      <th>379</th>\n",
       "      <td>379</td>\n",
       "      <td>Rurouni Kenshin: Trust and Betrayal</td>\n",
       "      <td>3</td>\n",
       "      <td></td>\n",
       "      <td></td>\n",
       "      <td></td>\n",
       "    </tr>\n",
       "    <tr>\n",
       "      <th>743</th>\n",
       "      <td>743</td>\n",
       "      <td>The Wheel of Time: Origins</td>\n",
       "      <td>3</td>\n",
       "      <td></td>\n",
       "      <td></td>\n",
       "      <td></td>\n",
       "    </tr>\n",
       "    <tr>\n",
       "      <th>847</th>\n",
       "      <td>847</td>\n",
       "      <td>Owari no serafu</td>\n",
       "      <td>3</td>\n",
       "      <td></td>\n",
       "      <td></td>\n",
       "      <td></td>\n",
       "    </tr>\n",
       "    <tr>\n",
       "      <th>902</th>\n",
       "      <td>902</td>\n",
       "      <td>Scam 1992: The Harshad Mehta Story</td>\n",
       "      <td>3</td>\n",
       "      <td></td>\n",
       "      <td></td>\n",
       "      <td></td>\n",
       "    </tr>\n",
       "    <tr>\n",
       "      <th>945</th>\n",
       "      <td>945</td>\n",
       "      <td>Self Made: Inspired by the Life of Madam C.J. ...</td>\n",
       "      <td>3</td>\n",
       "      <td></td>\n",
       "      <td></td>\n",
       "      <td></td>\n",
       "    </tr>\n",
       "    <tr>\n",
       "      <th>1182</th>\n",
       "      <td>1182</td>\n",
       "      <td>The Filthy Frank Show</td>\n",
       "      <td>3</td>\n",
       "      <td></td>\n",
       "      <td></td>\n",
       "      <td></td>\n",
       "    </tr>\n",
       "    <tr>\n",
       "      <th>1640</th>\n",
       "      <td>1640</td>\n",
       "      <td>Inside Look: The Assassination of Gianni Versa...</td>\n",
       "      <td>3</td>\n",
       "      <td></td>\n",
       "      <td></td>\n",
       "      <td></td>\n",
       "    </tr>\n",
       "    <tr>\n",
       "      <th>1643</th>\n",
       "      <td>1643</td>\n",
       "      <td>Jeen-yuhs: A Kanye Trilogy</td>\n",
       "      <td>3</td>\n",
       "      <td></td>\n",
       "      <td></td>\n",
       "      <td></td>\n",
       "    </tr>\n",
       "    <tr>\n",
       "      <th>1703</th>\n",
       "      <td>1703</td>\n",
       "      <td>FIFA Uncovered</td>\n",
       "      <td>3</td>\n",
       "      <td></td>\n",
       "      <td></td>\n",
       "      <td></td>\n",
       "    </tr>\n",
       "    <tr>\n",
       "      <th>1710</th>\n",
       "      <td>1710</td>\n",
       "      <td>I Just Killed My Dad</td>\n",
       "      <td>3</td>\n",
       "      <td></td>\n",
       "      <td></td>\n",
       "      <td></td>\n",
       "    </tr>\n",
       "    <tr>\n",
       "      <th>1718</th>\n",
       "      <td>1718</td>\n",
       "      <td>Sins of Our Mother</td>\n",
       "      <td>3</td>\n",
       "      <td></td>\n",
       "      <td></td>\n",
       "      <td></td>\n",
       "    </tr>\n",
       "    <tr>\n",
       "      <th>2060</th>\n",
       "      <td>2060</td>\n",
       "      <td>A Young Doctor's Notebook &amp; Other Stories</td>\n",
       "      <td>3</td>\n",
       "      <td></td>\n",
       "      <td></td>\n",
       "      <td></td>\n",
       "    </tr>\n",
       "    <tr>\n",
       "      <th>2073</th>\n",
       "      <td>2073</td>\n",
       "      <td>Pera Palas'ta Gece Yarisi</td>\n",
       "      <td>3</td>\n",
       "      <td></td>\n",
       "      <td></td>\n",
       "      <td></td>\n",
       "    </tr>\n",
       "    <tr>\n",
       "      <th>2077</th>\n",
       "      <td>2077</td>\n",
       "      <td>The Heavy Water War: Stopping Hitler's Atomic ...</td>\n",
       "      <td>3</td>\n",
       "      <td></td>\n",
       "      <td></td>\n",
       "      <td></td>\n",
       "    </tr>\n",
       "    <tr>\n",
       "      <th>2459</th>\n",
       "      <td>2459</td>\n",
       "      <td>Doctor Foster: A Woman Scorned</td>\n",
       "      <td>3</td>\n",
       "      <td></td>\n",
       "      <td></td>\n",
       "      <td></td>\n",
       "    </tr>\n",
       "  </tbody>\n",
       "</table>\n",
       "</div>"
      ],
      "text/plain": [
       "      index_no                                               name  \\\n",
       "374        374                                Tokyo Ghoul: Root A   \n",
       "379        379                Rurouni Kenshin: Trust and Betrayal   \n",
       "743        743                         The Wheel of Time: Origins   \n",
       "847        847                                    Owari no serafu   \n",
       "902        902                 Scam 1992: The Harshad Mehta Story   \n",
       "945        945  Self Made: Inspired by the Life of Madam C.J. ...   \n",
       "1182      1182                              The Filthy Frank Show   \n",
       "1640      1640  Inside Look: The Assassination of Gianni Versa...   \n",
       "1643      1643                         Jeen-yuhs: A Kanye Trilogy   \n",
       "1703      1703                                     FIFA Uncovered   \n",
       "1710      1710                               I Just Killed My Dad   \n",
       "1718      1718                                 Sins of Our Mother   \n",
       "2060      2060          A Young Doctor's Notebook & Other Stories   \n",
       "2073      2073                          Pera Palas'ta Gece Yarisi   \n",
       "2077      2077  The Heavy Water War: Stopping Hitler's Atomic ...   \n",
       "2459      2459                     Doctor Foster: A Woman Scorned   \n",
       "\n",
       "      wiki_warning_flag wiki_search_term wiki_search_url wiki_text  \n",
       "374                   3                                             \n",
       "379                   3                                             \n",
       "743                   3                                             \n",
       "847                   3                                             \n",
       "902                   3                                             \n",
       "945                   3                                             \n",
       "1182                  3                                             \n",
       "1640                  3                                             \n",
       "1643                  3                                             \n",
       "1703                  3                                             \n",
       "1710                  3                                             \n",
       "1718                  3                                             \n",
       "2060                  3                                             \n",
       "2073                  3                                             \n",
       "2077                  3                                             \n",
       "2459                  3                                             "
      ]
     },
     "execution_count": 16,
     "metadata": {},
     "output_type": "execute_result"
    }
   ],
   "source": [
    "wiki_articles_df[wiki_articles_df['wiki_text'] == '']"
   ]
  },
  {
   "attachments": {},
   "cell_type": "markdown",
   "metadata": {},
   "source": [
    "Empty Entries:\n",
    "> Tokyo Ghoul: Root A ;\t\n",
    "Rurouni Kenshin: Trust and Betrayal ;\t\n",
    "The Wheel of Time: Origins ;\t\n",
    "Owari no serafu\t;\n",
    "Scam 1992: The Harshad Mehta Story ;\t\n",
    "Self Made: Inspired by the Life of Madam C.J. Walker ;\t\n",
    "The Filthy Frank Show ;\t\n",
    "Inside Look: The Assassination of Gianni Versace - American Crime Story ;\t\n",
    "Jeen-yuhs: A Kanye Trilogy ;\t\n",
    "FIFA Uncovered ;\t\n",
    "I Just Killed My Dad ;\t\n",
    "Sins of Our Mother ;\t\n",
    "A Young Doctor's Notebook & Other Stories ;\t\n",
    "Pera Palas'ta Gece Yarisi ;\t\n",
    "The Heavy Water War: Stopping Hitler's Atomic Bomb ;\t\n",
    "Doctor Foster: A Woman Scorned ;"
   ]
  },
  {
   "cell_type": "code",
   "execution_count": 17,
   "metadata": {},
   "outputs": [],
   "source": [
    "# Create a dictionary mapping from old search term to new (override) search term\n",
    "\n",
    "search_term_transform = {\n",
    "    \"Tokyo Ghoul: Root A\" : \"Tokyo Ghoul\",\n",
    "    \"Rurouni Kenshin: Trust and Betrayal\" : \"Rurouni Kenshin: Trust & Betrayal\",\n",
    "    \"The Wheel of Time: Origins\" : \"The Wheel of Time\",\n",
    "    \"Owari no serafu\" : \"Seraph of the End\",\n",
    "    \"Scam 1992: The Harshad Mehta Story\" : \"Scam 1992\",\n",
    "    \"Self Made: Inspired by the Life of Madam C.J. Walker\" : \"Self Made (miniseries)\",\n",
    "    \"The Filthy Frank Show\" : \"Joji (musician)\",\n",
    "    \"Inside Look: The Assassination of Gianni Versace - American Crime Story\" : \"The Assassination of Gianni Versace: American Crime Story\",\n",
    "    \"Jeen-yuhs: A Kanye Trilogy\" : \"Jeen-Yuhs\",\n",
    "    # \"FIFA Uncovered\" : \"\",        # No applicable Wikipedia entry found\n",
    "    # \"I Just Killed My Dad\" : \"\",  # No applicable Wikipedia entry found\n",
    "    \"Sins of Our Mother\" : \"Killings of Tylee Ryan and J. J. Vallow\",\n",
    "    \"A Young Doctor's Notebook & Other Stories\" : \"A Young Doctor's Notebook (TV series)\",\n",
    "    \"Pera Palas'ta Gece Yarisi\" : \"Midnight at the Pera Palace\",\n",
    "    \"The Heavy Water War: Stopping Hitler's Atomic Bomb\" : \"The Heavy Water War\",\n",
    "    \"Doctor Foster: A Woman Scorned\" : \"Doctor Foster (TV series)\"\n",
    "}"
   ]
  },
  {
   "cell_type": "code",
   "execution_count": 18,
   "metadata": {},
   "outputs": [],
   "source": [
    "# Fixing the entries that came up empty\n",
    "\n",
    "for name in search_term_transform:\n",
    "\n",
    "    index_no = int(wiki_articles_df[wiki_articles_df['name'] == name]['index_no'])\n",
    "    start_year = \"\"\n",
    "    \n",
    "    warning_flag, search_term, search_url, wiki_text = override_query(search_term_transform[name] )\n",
    "    \n",
    "    wiki_articles[index_no]['wiki_warning_flag'] = warning_flag\n",
    "    wiki_articles[index_no]['wiki_search_term'] = search_term\n",
    "    wiki_articles[index_no]['wiki_search_url'] = search_url\n",
    "    wiki_articles[index_no]['wiki_text'] = wiki_text\n"
   ]
  },
  {
   "cell_type": "code",
   "execution_count": 19,
   "metadata": {},
   "outputs": [
    {
     "data": {
      "text/plain": [
       "2"
      ]
     },
     "execution_count": 19,
     "metadata": {},
     "output_type": "execute_result"
    }
   ],
   "source": [
    "#double-check for missing entries (2 expected)\n",
    "wiki_articles_df = pd.DataFrame.from_dict(wiki_articles, orient='index')\n",
    "len(wiki_articles_df[wiki_articles_df['wiki_text'] == ''])"
   ]
  },
  {
   "cell_type": "code",
   "execution_count": 20,
   "metadata": {},
   "outputs": [
    {
     "data": {
      "text/html": [
       "<div>\n",
       "<style scoped>\n",
       "    .dataframe tbody tr th:only-of-type {\n",
       "        vertical-align: middle;\n",
       "    }\n",
       "\n",
       "    .dataframe tbody tr th {\n",
       "        vertical-align: top;\n",
       "    }\n",
       "\n",
       "    .dataframe thead th {\n",
       "        text-align: right;\n",
       "    }\n",
       "</style>\n",
       "<table border=\"1\" class=\"dataframe\">\n",
       "  <thead>\n",
       "    <tr style=\"text-align: right;\">\n",
       "      <th></th>\n",
       "      <th>index_no</th>\n",
       "      <th>name</th>\n",
       "      <th>wiki_warning_flag</th>\n",
       "      <th>wiki_search_term</th>\n",
       "      <th>wiki_search_url</th>\n",
       "      <th>wiki_text</th>\n",
       "    </tr>\n",
       "  </thead>\n",
       "  <tbody>\n",
       "    <tr>\n",
       "      <th>1703</th>\n",
       "      <td>1703</td>\n",
       "      <td>FIFA Uncovered</td>\n",
       "      <td>3</td>\n",
       "      <td></td>\n",
       "      <td></td>\n",
       "      <td></td>\n",
       "    </tr>\n",
       "    <tr>\n",
       "      <th>1710</th>\n",
       "      <td>1710</td>\n",
       "      <td>I Just Killed My Dad</td>\n",
       "      <td>3</td>\n",
       "      <td></td>\n",
       "      <td></td>\n",
       "      <td></td>\n",
       "    </tr>\n",
       "  </tbody>\n",
       "</table>\n",
       "</div>"
      ],
      "text/plain": [
       "      index_no                  name  wiki_warning_flag wiki_search_term  \\\n",
       "1703      1703        FIFA Uncovered                  3                    \n",
       "1710      1710  I Just Killed My Dad                  3                    \n",
       "\n",
       "     wiki_search_url wiki_text  \n",
       "1703                            \n",
       "1710                            "
      ]
     },
     "execution_count": 20,
     "metadata": {},
     "output_type": "execute_result"
    }
   ],
   "source": [
    "wiki_articles_df[wiki_articles_df['wiki_text'] == '']"
   ]
  },
  {
   "attachments": {},
   "cell_type": "markdown",
   "metadata": {},
   "source": [
    "##### Entries containing the phrase \"may refer to\" means the wrong page (disambiguation) was scraped"
   ]
  },
  {
   "cell_type": "code",
   "execution_count": 21,
   "metadata": {},
   "outputs": [],
   "source": [
    "may_refer_to_df = wiki_articles_df[wiki_articles_df['wiki_text'].str.contains(\"may refer to\")]"
   ]
  },
  {
   "cell_type": "code",
   "execution_count": 22,
   "metadata": {},
   "outputs": [
    {
     "data": {
      "text/plain": [
       "(66, 6)"
      ]
     },
     "execution_count": 22,
     "metadata": {},
     "output_type": "execute_result"
    }
   ],
   "source": [
    "may_refer_to_df.shape"
   ]
  },
  {
   "cell_type": "code",
   "execution_count": 23,
   "metadata": {},
   "outputs": [
    {
     "data": {
      "text/plain": [
       "Int64Index([  87,  360,  397,  460,  472,  663,  679,  708,  756,  783,  792,\n",
       "             821,  836,  843,  860,  941,  944, 1065, 1088, 1136, 1168, 1208,\n",
       "            1218, 1246, 1292, 1359, 1374, 1397, 1398, 1467, 1493, 1506, 1508,\n",
       "            1518, 1569, 1570, 1601, 1727, 1740, 1798, 1814, 1821, 1833, 1853,\n",
       "            1870, 1904, 1931, 1953, 1956, 1960, 1981, 2038, 2042, 2102, 2193,\n",
       "            2205, 2209, 2251, 2255, 2306, 2310, 2311, 2323, 2335, 2447, 2463],\n",
       "           dtype='int64')"
      ]
     },
     "execution_count": 23,
     "metadata": {},
     "output_type": "execute_result"
    }
   ],
   "source": [
    "may_refer_to_df.index"
   ]
  },
  {
   "cell_type": "code",
   "execution_count": 24,
   "metadata": {},
   "outputs": [
    {
     "data": {
      "text/html": [
       "<div>\n",
       "<style scoped>\n",
       "    .dataframe tbody tr th:only-of-type {\n",
       "        vertical-align: middle;\n",
       "    }\n",
       "\n",
       "    .dataframe tbody tr th {\n",
       "        vertical-align: top;\n",
       "    }\n",
       "\n",
       "    .dataframe thead th {\n",
       "        text-align: right;\n",
       "    }\n",
       "</style>\n",
       "<table border=\"1\" class=\"dataframe\">\n",
       "  <thead>\n",
       "    <tr style=\"text-align: right;\">\n",
       "      <th></th>\n",
       "      <th>name</th>\n",
       "    </tr>\n",
       "  </thead>\n",
       "  <tbody>\n",
       "    <tr>\n",
       "      <th>87</th>\n",
       "      <td>The Family Man</td>\n",
       "    </tr>\n",
       "    <tr>\n",
       "      <th>360</th>\n",
       "      <td>The River</td>\n",
       "    </tr>\n",
       "    <tr>\n",
       "      <th>397</th>\n",
       "      <td>In the Dark</td>\n",
       "    </tr>\n",
       "    <tr>\n",
       "      <th>460</th>\n",
       "      <td>Law of the Lawless</td>\n",
       "    </tr>\n",
       "    <tr>\n",
       "      <th>472</th>\n",
       "      <td>Tomorrow</td>\n",
       "    </tr>\n",
       "    <tr>\n",
       "      <th>...</th>\n",
       "      <td>...</td>\n",
       "    </tr>\n",
       "    <tr>\n",
       "      <th>2311</th>\n",
       "      <td>Fingersmith</td>\n",
       "    </tr>\n",
       "    <tr>\n",
       "      <th>2323</th>\n",
       "      <td>Still Standing</td>\n",
       "    </tr>\n",
       "    <tr>\n",
       "      <th>2335</th>\n",
       "      <td>Run</td>\n",
       "    </tr>\n",
       "    <tr>\n",
       "      <th>2447</th>\n",
       "      <td>The View</td>\n",
       "    </tr>\n",
       "    <tr>\n",
       "      <th>2463</th>\n",
       "      <td>What/If</td>\n",
       "    </tr>\n",
       "  </tbody>\n",
       "</table>\n",
       "<p>66 rows × 1 columns</p>\n",
       "</div>"
      ],
      "text/plain": [
       "                    name\n",
       "87        The Family Man\n",
       "360            The River\n",
       "397          In the Dark\n",
       "460   Law of the Lawless\n",
       "472             Tomorrow\n",
       "...                  ...\n",
       "2311         Fingersmith\n",
       "2323      Still Standing\n",
       "2335                 Run\n",
       "2447            The View\n",
       "2463             What/If\n",
       "\n",
       "[66 rows x 1 columns]"
      ]
     },
     "execution_count": 24,
     "metadata": {},
     "output_type": "execute_result"
    }
   ],
   "source": [
    "may_refer_to_df[['name']]"
   ]
  },
  {
   "cell_type": "code",
   "execution_count": 25,
   "metadata": {},
   "outputs": [],
   "source": [
    "# Create a dictionary mapping from old search term to new (override) search term\n",
    "\n",
    "search_term_transform2 = {\n",
    "    'The Family Man' : 'The Family Man (Indian TV series)', \n",
    "    'The River': 'The River (U.S. TV series)', \n",
    "    'In the Dark': 'In the Dark (American TV series)', \n",
    "    'Law of the Lawless': 'Brigada', \n",
    "    'Tomorrow': 'Tomorrow (South Korean TV series)', \n",
    "    'Wrecked': 'Wrecked (American TV series)', \n",
    "    'Into the West': 'Into the West (miniseries)',\n",
    "    'Big Mouth': 'Big Mouth (American TV series)', \n",
    "    'Food Wars': 'Food Wars!: Shokugeki no Soma', \n",
    "    'Gantz': 'Gantz', \n",
    "    'Fighting Spirit': 'Hajime no Ippo', \n",
    "    'The Liberator': 'The Liberator (miniseries)',\n",
    "    'Golden Boy': 'Golden Boy (manga)', \n",
    "    'When They Cry': 'Higurashi When They Cry', \n",
    "    '86': '86 (novel_series)', \n",
    "    'Carlos': 'Carlos (miniseries)', \n",
    "    'Aquarius': 'Aquarius (American TV series)', \n",
    "    'Louie': 'Louie (American TV series)', \n",
    "    'Peep Show': 'Peep Show (British TV series)', \n",
    "    'Wilfred': 'Wilfred (American TV series)', \n",
    "    'Last Man Standing': 'Last Man Standing (American TV series)', \n",
    "    'Rescue Me': 'Rescue Me (American TV series)',\n",
    "    # 'Being Human': 'Being Human (North American TV series)',  #gives error- handle separately\n",
    "    'Crashing': 'Crashing (British TV series)', \n",
    "    'The Kingdom': 'The Kingdom (miniseries)', \n",
    "    'The Killing': 'The Killing (U.S. TV series)', \n",
    "    'The Outsider': 'The Outsider (miniseries)',\n",
    "    'The Stranger': 'The Stranger (British TV series)', \n",
    "    'Leverage': 'Leverage (American TV series)', \n",
    "    'Big Sky': 'Big Sky (American TV series)', \n",
    "    'True Story': 'True Story (miniseries)', \n",
    "    # 'Shameless': 'Shameless (British TV series)',  #gives error- handle separately\n",
    "    'The Finder': 'The Finder (American TV series)',\n",
    "    'Wallander': 'Wallander (British TV series)',\n",
    "    'Black Sun': 'Balkan Shadows',\n",
    "    'Bordertown': 'Bordertown (Finnish TV series)',\n",
    "    'Ashes to Ashes': 'Ashes to Ashes (British TV series)',\n",
    "    'Band of Brothers': 'Band of Brothers (miniseries)',\n",
    "    'Heroes': 'Heroes (American TV series)',\n",
    "    'Dopesick': 'Dopesick (miniseries)',\n",
    "    'The Magicians': 'The Magicians (American TV series)',\n",
    "    'Little Fires Everywhere': 'Little Fires Everywhere (miniseries)',\n",
    "    'Messiah': 'Messiah (American TV series)',\n",
    "    'Heartland': 'Heartland (Canadian TV series)',\n",
    "    'Shake It Up': 'Shake It Up (American TV series)',\n",
    "    'Wipeout': 'Wipeout (2008 game show)',\n",
    "    # 'Rebelde': 'Rebelde',  #gives error- handle separately\n",
    "    'The Gift': 'The Gift (Turkish TV series)',\n",
    "    # 'The Returned': '',  # index 1956 /title/tt2521668/\tThe Returned (French TV series)\n",
    "    'The Shining': 'The Shining (TV miniseries)',\n",
    "    # 'The Returned': '', # index 1981 /title/tt3230780/\tThe Returned (American TV series)\n",
    "    'The Circle': 'The Circle (American TV series)',\n",
    "    'Face Off': 'Face Off (American TV series)',\n",
    "    'Rose Red': 'Rose Red (miniseries)',\n",
    "    # 'Taken': 'Taken (miniseries)',  #gives error- handle separately\n",
    "    'Echoes': 'Echoes (miniseries)',\n",
    "    'Flower of Evil': 'Flower of Evil (South Korean TV series)',\n",
    "    'North & South': 'North & South (TV serial)',\n",
    "    'The L Word': 'The L Word',\n",
    "    'The Thorn Birds': 'The Thorn Birds (miniseries)',\n",
    "    'True Beauty': 'True Beauty (South Korean TV series)',\n",
    "    'Fingersmith': 'Fingersmith (TV serial)',\n",
    "    'Still Standing': 'Still Standing (American TV series)',\n",
    "    'Run': 'Run (American TV series)',\n",
    "    'The View': 'The View (talk show)',\n",
    "    'What/If': 'What/If'\n",
    "}"
   ]
  },
  {
   "cell_type": "code",
   "execution_count": 26,
   "metadata": {},
   "outputs": [],
   "source": [
    "# Fixing the entries that grabbed data from the disambiguation page\n",
    "\n",
    "for name in search_term_transform2:\n",
    "    # print(f\"{name}; {search_term_transform2[name]}\")  #used to identify outlier cases that need to be fixed separately\n",
    "\n",
    "    index_no = int(wiki_articles_df[wiki_articles_df['name'] == name]['index_no'])\n",
    "    start_year = \"\"\n",
    "    \n",
    "    warning_flag, search_term, search_url, wiki_text = override_query(search_term_transform2[name] )\n",
    "    \n",
    "    wiki_articles[index_no]['wiki_warning_flag'] = warning_flag\n",
    "    wiki_articles[index_no]['wiki_search_term'] = search_term\n",
    "    wiki_articles[index_no]['wiki_search_url'] = search_url\n",
    "    wiki_articles[index_no]['wiki_text'] = wiki_text"
   ]
  },
  {
   "cell_type": "code",
   "execution_count": 27,
   "metadata": {},
   "outputs": [],
   "source": [
    "#Outlier cases\n",
    "bad_indices = [1218, 1506, 1931, 1956, 1981, 2193]\n",
    "search_term_transform3 = [\"Being Human (North American TV series)\",\n",
    "                          \"Shameless (British TV series)\",\n",
    "                          \"Rebelde\",\n",
    "                          \"The Returned (French TV series)\", \n",
    "                          \"The Returned (American TV series)\",\n",
    "                          \"Taken (miniseries)\"]\n",
    "\n",
    "for i in range(len(bad_indices)):\n",
    "    \n",
    "    index_no = bad_indices[i]\n",
    "    start_year = \"\"\n",
    "    \n",
    "    warning_flag, search_term, search_url, wiki_text = override_query(search_term_transform3[i] )\n",
    "    \n",
    "    wiki_articles[index_no]['wiki_warning_flag'] = warning_flag\n",
    "    wiki_articles[index_no]['wiki_search_term'] = search_term\n",
    "    wiki_articles[index_no]['wiki_search_url'] = search_url\n",
    "    wiki_articles[index_no]['wiki_text'] = wiki_text"
   ]
  },
  {
   "cell_type": "code",
   "execution_count": 28,
   "metadata": {},
   "outputs": [
    {
     "data": {
      "text/plain": [
       "0"
      ]
     },
     "execution_count": 28,
     "metadata": {},
     "output_type": "execute_result"
    }
   ],
   "source": [
    "#double-check for entries still pointing to disambiguation page\n",
    "wiki_articles_df = pd.DataFrame.from_dict(wiki_articles, orient='index')\n",
    "len(wiki_articles_df[wiki_articles_df['wiki_text'].str.contains(\"may refer to\")])"
   ]
  },
  {
   "attachments": {},
   "cell_type": "markdown",
   "metadata": {},
   "source": [
    "#### Summarize & write output to csv/json"
   ]
  },
  {
   "cell_type": "code",
   "execution_count": 29,
   "metadata": {},
   "outputs": [
    {
     "data": {
      "text/html": [
       "<div>\n",
       "<style scoped>\n",
       "    .dataframe tbody tr th:only-of-type {\n",
       "        vertical-align: middle;\n",
       "    }\n",
       "\n",
       "    .dataframe tbody tr th {\n",
       "        vertical-align: top;\n",
       "    }\n",
       "\n",
       "    .dataframe thead th {\n",
       "        text-align: right;\n",
       "    }\n",
       "</style>\n",
       "<table border=\"1\" class=\"dataframe\">\n",
       "  <thead>\n",
       "    <tr style=\"text-align: right;\">\n",
       "      <th></th>\n",
       "      <th>index_no</th>\n",
       "      <th>name</th>\n",
       "      <th>wiki_warning_flag</th>\n",
       "      <th>wiki_search_term</th>\n",
       "      <th>wiki_search_url</th>\n",
       "      <th>wiki_text</th>\n",
       "    </tr>\n",
       "  </thead>\n",
       "  <tbody>\n",
       "    <tr>\n",
       "      <th>0</th>\n",
       "      <td>0</td>\n",
       "      <td>Game of Thrones</td>\n",
       "      <td>1</td>\n",
       "      <td>Game of thrones (TV series)</td>\n",
       "      <td>https://en.wikipedia.org/wiki/Game_of_thrones_...</td>\n",
       "      <td>Game of Thrones is an American fantasy drama t...</td>\n",
       "    </tr>\n",
       "    <tr>\n",
       "      <th>1</th>\n",
       "      <td>1</td>\n",
       "      <td>Prison Break</td>\n",
       "      <td>1</td>\n",
       "      <td>Prison break (TV series)</td>\n",
       "      <td>https://en.wikipedia.org/wiki/Prison_break_(TV...</td>\n",
       "      <td>Prison Break is an American serial drama telev...</td>\n",
       "    </tr>\n",
       "    <tr>\n",
       "      <th>2</th>\n",
       "      <td>2</td>\n",
       "      <td>Vikings</td>\n",
       "      <td>0</td>\n",
       "      <td>Vikings (2013 TV series)</td>\n",
       "      <td>https://en.wikipedia.org/wiki/Vikings_(2013_TV...</td>\n",
       "      <td>Vikings is a historical drama television serie...</td>\n",
       "    </tr>\n",
       "    <tr>\n",
       "      <th>3</th>\n",
       "      <td>3</td>\n",
       "      <td>The Boys</td>\n",
       "      <td>0</td>\n",
       "      <td>The Boys (2019 TV series)</td>\n",
       "      <td>https://en.wikipedia.org/wiki/The_Boys_(2019_T...</td>\n",
       "      <td>The Boys is an American superhero television s...</td>\n",
       "    </tr>\n",
       "    <tr>\n",
       "      <th>4</th>\n",
       "      <td>4</td>\n",
       "      <td>The Mandalorian</td>\n",
       "      <td>1</td>\n",
       "      <td>The Mandalorian (TV series)</td>\n",
       "      <td>https://en.wikipedia.org/wiki/The_Mandalorian_...</td>\n",
       "      <td>The Mandalorian is an American space Western t...</td>\n",
       "    </tr>\n",
       "  </tbody>\n",
       "</table>\n",
       "</div>"
      ],
      "text/plain": [
       "   index_no             name  wiki_warning_flag             wiki_search_term  \\\n",
       "0         0  Game of Thrones                  1  Game of thrones (TV series)   \n",
       "1         1     Prison Break                  1     Prison break (TV series)   \n",
       "2         2          Vikings                  0     Vikings (2013 TV series)   \n",
       "3         3         The Boys                  0    The Boys (2019 TV series)   \n",
       "4         4  The Mandalorian                  1  The Mandalorian (TV series)   \n",
       "\n",
       "                                     wiki_search_url  \\\n",
       "0  https://en.wikipedia.org/wiki/Game_of_thrones_...   \n",
       "1  https://en.wikipedia.org/wiki/Prison_break_(TV...   \n",
       "2  https://en.wikipedia.org/wiki/Vikings_(2013_TV...   \n",
       "3  https://en.wikipedia.org/wiki/The_Boys_(2019_T...   \n",
       "4  https://en.wikipedia.org/wiki/The_Mandalorian_...   \n",
       "\n",
       "                                           wiki_text  \n",
       "0  Game of Thrones is an American fantasy drama t...  \n",
       "1  Prison Break is an American serial drama telev...  \n",
       "2  Vikings is a historical drama television serie...  \n",
       "3  The Boys is an American superhero television s...  \n",
       "4  The Mandalorian is an American space Western t...  "
      ]
     },
     "execution_count": 29,
     "metadata": {},
     "output_type": "execute_result"
    }
   ],
   "source": [
    "wiki_articles_df.head()"
   ]
  },
  {
   "cell_type": "code",
   "execution_count": 30,
   "metadata": {},
   "outputs": [
    {
     "data": {
      "text/plain": [
       "(2484, 6)"
      ]
     },
     "execution_count": 30,
     "metadata": {},
     "output_type": "execute_result"
    }
   ],
   "source": [
    "wiki_articles_df.shape"
   ]
  },
  {
   "cell_type": "code",
   "execution_count": 31,
   "metadata": {},
   "outputs": [
    {
     "data": {
      "text/plain": [
       "1    1070\n",
       "2     995\n",
       "0     337\n",
       "4      80\n",
       "3       2\n",
       "Name: wiki_warning_flag, dtype: int64"
      ]
     },
     "execution_count": 31,
     "metadata": {},
     "output_type": "execute_result"
    }
   ],
   "source": [
    "wiki_articles_df['wiki_warning_flag'].value_counts()"
   ]
  },
  {
   "cell_type": "code",
   "execution_count": 32,
   "metadata": {},
   "outputs": [],
   "source": [
    "wiki_articles_df.to_csv('../data/wiki_articles_df.csv', index=False)"
   ]
  },
  {
   "cell_type": "code",
   "execution_count": 33,
   "metadata": {},
   "outputs": [],
   "source": [
    "wiki_articles_df.to_json('../data/wiki_articles_df.json')  #backup, in case the commas inside 'wiki_text' column throw off comma separation in csv"
   ]
  },
  {
   "cell_type": "code",
   "execution_count": 34,
   "metadata": {},
   "outputs": [],
   "source": [
    "# test_read_in_csv = pd.read_csv('../data/wiki_articles_df.csv', index_col=\"index_no\")\n",
    "# test_read_in_csv.head()\n"
   ]
  },
  {
   "cell_type": "code",
   "execution_count": 35,
   "metadata": {},
   "outputs": [],
   "source": [
    "# test_read_in_json = pd.read_json('../data/wiki_articles_df.json')\n",
    "# test_read_in_json.head()"
   ]
  }
 ],
 "metadata": {
  "kernelspec": {
   "display_name": "base",
   "language": "python",
   "name": "python3"
  },
  "language_info": {
   "codemirror_mode": {
    "name": "ipython",
    "version": 3
   },
   "file_extension": ".py",
   "mimetype": "text/x-python",
   "name": "python",
   "nbconvert_exporter": "python",
   "pygments_lexer": "ipython3",
   "version": "3.9.16"
  },
  "orig_nbformat": 4
 },
 "nbformat": 4,
 "nbformat_minor": 2
}
