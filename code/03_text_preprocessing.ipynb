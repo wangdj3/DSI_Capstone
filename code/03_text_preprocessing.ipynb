{
 "cells": [
  {
   "attachments": {},
   "cell_type": "markdown",
   "metadata": {},
   "source": [
    "# Data Prep & Processing - Lemmatizing & Tokenizing"
   ]
  },
  {
   "attachments": {},
   "cell_type": "markdown",
   "metadata": {},
   "source": [
    "#### Set parameters for how output will be saved"
   ]
  },
  {
   "cell_type": "code",
   "execution_count": 1,
   "metadata": {},
   "outputs": [],
   "source": [
    "data_directory = \"../data/\""
   ]
  },
  {
   "cell_type": "code",
   "execution_count": 2,
   "metadata": {},
   "outputs": [],
   "source": [
    "model_name_suffix = \"weighted\"\n",
    "run_number = 1"
   ]
  },
  {
   "cell_type": "code",
   "execution_count": 3,
   "metadata": {},
   "outputs": [],
   "source": [
    "tokenized_run_name = f\"{model_name_suffix}_{run_number}_tokens\""
   ]
  },
  {
   "attachments": {},
   "cell_type": "markdown",
   "metadata": {},
   "source": [
    "#### Imports"
   ]
  },
  {
   "cell_type": "code",
   "execution_count": 4,
   "metadata": {},
   "outputs": [],
   "source": [
    "# general use\n",
    "import numpy as np\n",
    "import pandas as pd\n",
    "# import matplotlib.pyplot as plt\n",
    "\n",
    "# data preparation for NLP / modeling\n",
    "import nltk\n",
    "from nltk.tokenize import RegexpTokenizer\n",
    "from nltk.stem import WordNetLemmatizer\n",
    "from nltk.corpus import stopwords, wordnet\n",
    "# from sklearn.feature_extraction.text import CountVectorizer, TfidfVectorizer\n",
    "\n",
    "# # for LDA modeling & presentation\n",
    "# from sklearn.model_selection import GridSearchCV\n",
    "# from sklearn.decomposition import LatentDirichletAllocation\n",
    "# import pyLDAvis\n",
    "# import pyLDAvis.sklearn\n",
    "# pyLDAvis.enable_notebook()\n",
    "\n",
    "# # for LSA modeling\n",
    "# from sklearn.decomposition import TruncatedSVD\n",
    "\n",
    "# for progress bar on loops\n",
    "from tqdm import tqdm"
   ]
  },
  {
   "attachments": {},
   "cell_type": "markdown",
   "metadata": {},
   "source": [
    "#### Data Read In"
   ]
  },
  {
   "cell_type": "code",
   "execution_count": 16,
   "metadata": {},
   "outputs": [
    {
     "data": {
      "text/html": [
       "<div>\n",
       "<style scoped>\n",
       "    .dataframe tbody tr th:only-of-type {\n",
       "        vertical-align: middle;\n",
       "    }\n",
       "\n",
       "    .dataframe tbody tr th {\n",
       "        vertical-align: top;\n",
       "    }\n",
       "\n",
       "    .dataframe thead th {\n",
       "        text-align: right;\n",
       "    }\n",
       "</style>\n",
       "<table border=\"1\" class=\"dataframe\">\n",
       "  <thead>\n",
       "    <tr style=\"text-align: right;\">\n",
       "      <th></th>\n",
       "      <th>name</th>\n",
       "      <th>href</th>\n",
       "      <th>years</th>\n",
       "      <th>imdb_description</th>\n",
       "      <th>pg_rating</th>\n",
       "      <th>imdb_genre_tags</th>\n",
       "      <th>imdb_rating</th>\n",
       "      <th>num_votes</th>\n",
       "      <th>img_thumbnail</th>\n",
       "      <th>wiki_warning_flag</th>\n",
       "      <th>wiki_search_term</th>\n",
       "      <th>wiki_search_url</th>\n",
       "      <th>wiki_text</th>\n",
       "    </tr>\n",
       "  </thead>\n",
       "  <tbody>\n",
       "    <tr>\n",
       "      <th>0</th>\n",
       "      <td>Game of Thrones</td>\n",
       "      <td>/title/tt0944947/</td>\n",
       "      <td>(2011–2019)</td>\n",
       "      <td>Nine noble families fight for control over the...</td>\n",
       "      <td>TV-MA</td>\n",
       "      <td>Action, Adventure, Drama</td>\n",
       "      <td>9.2</td>\n",
       "      <td>2148311</td>\n",
       "      <td>https://m.media-amazon.com/images/M/MV5BYTRiND...</td>\n",
       "      <td>1</td>\n",
       "      <td>Game of thrones (TV series)</td>\n",
       "      <td>https://en.wikipedia.org/wiki/Game_of_thrones_...</td>\n",
       "      <td>Game of Thrones is an American fantasy drama t...</td>\n",
       "    </tr>\n",
       "    <tr>\n",
       "      <th>1</th>\n",
       "      <td>Prison Break</td>\n",
       "      <td>/title/tt0455275/</td>\n",
       "      <td>(2005–2017)</td>\n",
       "      <td>Due to a political conspiracy, an innocent man...</td>\n",
       "      <td>TV-14</td>\n",
       "      <td>Action, Crime, Drama</td>\n",
       "      <td>8.3</td>\n",
       "      <td>548267</td>\n",
       "      <td>https://m.media-amazon.com/images/M/MV5BMTg3NT...</td>\n",
       "      <td>1</td>\n",
       "      <td>Prison break (TV series)</td>\n",
       "      <td>https://en.wikipedia.org/wiki/Prison_break_(TV...</td>\n",
       "      <td>Prison Break is an American serial drama telev...</td>\n",
       "    </tr>\n",
       "    <tr>\n",
       "      <th>2</th>\n",
       "      <td>Vikings</td>\n",
       "      <td>/title/tt2306299/</td>\n",
       "      <td>(2013–2020)</td>\n",
       "      <td>Vikings transports us to the brutal and myster...</td>\n",
       "      <td>TV-MA</td>\n",
       "      <td>Action, Adventure, Drama</td>\n",
       "      <td>8.5</td>\n",
       "      <td>547494</td>\n",
       "      <td>https://m.media-amazon.com/images/M/MV5BODk4Zj...</td>\n",
       "      <td>0</td>\n",
       "      <td>Vikings (2013 TV series)</td>\n",
       "      <td>https://en.wikipedia.org/wiki/Vikings_(2013_TV...</td>\n",
       "      <td>Vikings is a historical drama television serie...</td>\n",
       "    </tr>\n",
       "    <tr>\n",
       "      <th>3</th>\n",
       "      <td>The Boys</td>\n",
       "      <td>/title/tt1190634/</td>\n",
       "      <td>(2019– )</td>\n",
       "      <td>A group of vigilantes set out to take down cor...</td>\n",
       "      <td>TV-MA</td>\n",
       "      <td>Action, Comedy, Crime</td>\n",
       "      <td>8.7</td>\n",
       "      <td>542317</td>\n",
       "      <td>https://m.media-amazon.com/images/M/MV5BOTEyND...</td>\n",
       "      <td>0</td>\n",
       "      <td>The Boys (2019 TV series)</td>\n",
       "      <td>https://en.wikipedia.org/wiki/The_Boys_(2019_T...</td>\n",
       "      <td>The Boys is an American superhero television s...</td>\n",
       "    </tr>\n",
       "    <tr>\n",
       "      <th>4</th>\n",
       "      <td>The Mandalorian</td>\n",
       "      <td>/title/tt8111088/</td>\n",
       "      <td>(2019– )</td>\n",
       "      <td>The travels of a lone bounty hunter in the out...</td>\n",
       "      <td>TV-14</td>\n",
       "      <td>Action, Adventure, Fantasy</td>\n",
       "      <td>8.7</td>\n",
       "      <td>527088</td>\n",
       "      <td>https://m.media-amazon.com/images/M/MV5BZjRlZD...</td>\n",
       "      <td>1</td>\n",
       "      <td>The Mandalorian (TV series)</td>\n",
       "      <td>https://en.wikipedia.org/wiki/The_Mandalorian_...</td>\n",
       "      <td>The Mandalorian is an American space Western t...</td>\n",
       "    </tr>\n",
       "  </tbody>\n",
       "</table>\n",
       "</div>"
      ],
      "text/plain": [
       "              name               href        years  \\\n",
       "0  Game of Thrones  /title/tt0944947/  (2011–2019)   \n",
       "1     Prison Break  /title/tt0455275/  (2005–2017)   \n",
       "2          Vikings  /title/tt2306299/  (2013–2020)   \n",
       "3         The Boys  /title/tt1190634/     (2019– )   \n",
       "4  The Mandalorian  /title/tt8111088/     (2019– )   \n",
       "\n",
       "                                    imdb_description pg_rating  \\\n",
       "0  Nine noble families fight for control over the...     TV-MA   \n",
       "1  Due to a political conspiracy, an innocent man...     TV-14   \n",
       "2  Vikings transports us to the brutal and myster...     TV-MA   \n",
       "3  A group of vigilantes set out to take down cor...     TV-MA   \n",
       "4  The travels of a lone bounty hunter in the out...     TV-14   \n",
       "\n",
       "              imdb_genre_tags  imdb_rating  num_votes  \\\n",
       "0    Action, Adventure, Drama          9.2    2148311   \n",
       "1        Action, Crime, Drama          8.3     548267   \n",
       "2    Action, Adventure, Drama          8.5     547494   \n",
       "3       Action, Comedy, Crime          8.7     542317   \n",
       "4  Action, Adventure, Fantasy          8.7     527088   \n",
       "\n",
       "                                       img_thumbnail  wiki_warning_flag  \\\n",
       "0  https://m.media-amazon.com/images/M/MV5BYTRiND...                  1   \n",
       "1  https://m.media-amazon.com/images/M/MV5BMTg3NT...                  1   \n",
       "2  https://m.media-amazon.com/images/M/MV5BODk4Zj...                  0   \n",
       "3  https://m.media-amazon.com/images/M/MV5BOTEyND...                  0   \n",
       "4  https://m.media-amazon.com/images/M/MV5BZjRlZD...                  1   \n",
       "\n",
       "              wiki_search_term  \\\n",
       "0  Game of thrones (TV series)   \n",
       "1     Prison break (TV series)   \n",
       "2     Vikings (2013 TV series)   \n",
       "3    The Boys (2019 TV series)   \n",
       "4  The Mandalorian (TV series)   \n",
       "\n",
       "                                     wiki_search_url  \\\n",
       "0  https://en.wikipedia.org/wiki/Game_of_thrones_...   \n",
       "1  https://en.wikipedia.org/wiki/Prison_break_(TV...   \n",
       "2  https://en.wikipedia.org/wiki/Vikings_(2013_TV...   \n",
       "3  https://en.wikipedia.org/wiki/The_Boys_(2019_T...   \n",
       "4  https://en.wikipedia.org/wiki/The_Mandalorian_...   \n",
       "\n",
       "                                           wiki_text  \n",
       "0  Game of Thrones is an American fantasy drama t...  \n",
       "1  Prison Break is an American serial drama telev...  \n",
       "2  Vikings is a historical drama television serie...  \n",
       "3  The Boys is an American superhero television s...  \n",
       "4  The Mandalorian is an American space Western t...  "
      ]
     },
     "execution_count": 16,
     "metadata": {},
     "output_type": "execute_result"
    }
   ],
   "source": [
    "merged_df = pd.read_json(f'{data_directory}merged_df.json')\n",
    "merged_df.head()"
   ]
  },
  {
   "cell_type": "code",
   "execution_count": 17,
   "metadata": {},
   "outputs": [
    {
     "data": {
      "text/plain": [
       "name                 0\n",
       "href                 0\n",
       "years                0\n",
       "imdb_description     0\n",
       "pg_rating            0\n",
       "imdb_genre_tags      0\n",
       "imdb_rating          0\n",
       "num_votes            0\n",
       "img_thumbnail        0\n",
       "wiki_warning_flag    0\n",
       "wiki_search_term     2\n",
       "wiki_search_url      2\n",
       "wiki_text            2\n",
       "dtype: int64"
      ]
     },
     "execution_count": 17,
     "metadata": {},
     "output_type": "execute_result"
    }
   ],
   "source": [
    "merged_df.isna().sum()"
   ]
  },
  {
   "cell_type": "code",
   "execution_count": 18,
   "metadata": {},
   "outputs": [],
   "source": [
    "merged_df.fillna(\"\",inplace=True)"
   ]
  },
  {
   "attachments": {},
   "cell_type": "markdown",
   "metadata": {},
   "source": [
    "#### Create separate DataFrame with only select columns to be used in lemmatizing/tokenizing"
   ]
  },
  {
   "cell_type": "code",
   "execution_count": 19,
   "metadata": {},
   "outputs": [],
   "source": [
    "# weighting factors for pg_rating, imdb_genre_tags\n",
    "\n",
    "pg_weighting_factor = 10            # =1 is unweighted\n",
    "imdb_genre_weighting_factor = 20    # =1 is unweighted"
   ]
  },
  {
   "cell_type": "code",
   "execution_count": 20,
   "metadata": {},
   "outputs": [
    {
     "data": {
      "text/html": [
       "<div>\n",
       "<style scoped>\n",
       "    .dataframe tbody tr th:only-of-type {\n",
       "        vertical-align: middle;\n",
       "    }\n",
       "\n",
       "    .dataframe tbody tr th {\n",
       "        vertical-align: top;\n",
       "    }\n",
       "\n",
       "    .dataframe thead th {\n",
       "        text-align: right;\n",
       "    }\n",
       "</style>\n",
       "<table border=\"1\" class=\"dataframe\">\n",
       "  <thead>\n",
       "    <tr style=\"text-align: right;\">\n",
       "      <th></th>\n",
       "      <th>name</th>\n",
       "      <th>href</th>\n",
       "      <th>combined_text</th>\n",
       "    </tr>\n",
       "  </thead>\n",
       "  <tbody>\n",
       "    <tr>\n",
       "      <th>0</th>\n",
       "      <td>Game of Thrones</td>\n",
       "      <td>/title/tt0944947/</td>\n",
       "      <td>Nine noble families fight for control over the...</td>\n",
       "    </tr>\n",
       "    <tr>\n",
       "      <th>1</th>\n",
       "      <td>Prison Break</td>\n",
       "      <td>/title/tt0455275/</td>\n",
       "      <td>Due to a political conspiracy, an innocent man...</td>\n",
       "    </tr>\n",
       "    <tr>\n",
       "      <th>2</th>\n",
       "      <td>Vikings</td>\n",
       "      <td>/title/tt2306299/</td>\n",
       "      <td>Vikings transports us to the brutal and myster...</td>\n",
       "    </tr>\n",
       "    <tr>\n",
       "      <th>3</th>\n",
       "      <td>The Boys</td>\n",
       "      <td>/title/tt1190634/</td>\n",
       "      <td>A group of vigilantes set out to take down cor...</td>\n",
       "    </tr>\n",
       "    <tr>\n",
       "      <th>4</th>\n",
       "      <td>The Mandalorian</td>\n",
       "      <td>/title/tt8111088/</td>\n",
       "      <td>The travels of a lone bounty hunter in the out...</td>\n",
       "    </tr>\n",
       "  </tbody>\n",
       "</table>\n",
       "</div>"
      ],
      "text/plain": [
       "              name               href  \\\n",
       "0  Game of Thrones  /title/tt0944947/   \n",
       "1     Prison Break  /title/tt0455275/   \n",
       "2          Vikings  /title/tt2306299/   \n",
       "3         The Boys  /title/tt1190634/   \n",
       "4  The Mandalorian  /title/tt8111088/   \n",
       "\n",
       "                                       combined_text  \n",
       "0  Nine noble families fight for control over the...  \n",
       "1  Due to a political conspiracy, an innocent man...  \n",
       "2  Vikings transports us to the brutal and myster...  \n",
       "3  A group of vigilantes set out to take down cor...  \n",
       "4  The travels of a lone bounty hunter in the out...  "
      ]
     },
     "execution_count": 20,
     "metadata": {},
     "output_type": "execute_result"
    }
   ],
   "source": [
    "# create copied DataFrame with only name and a combined column of text\n",
    "df = merged_df[['name', 'href']].copy()\n",
    "df['combined_text'] = (merged_df['imdb_description'] + \" . \" + \\\n",
    "                        (merged_df['pg_rating'].replace(\"-\",\"\") + \", \") * pg_weighting_factor + \" . \" + \\\n",
    "                        (merged_df['imdb_genre_tags'] + \", \") * imdb_genre_weighting_factor + \" . \" + \\\n",
    "                        merged_df['wiki_text']).\\\n",
    "                    replace('==', '').replace('\\n', '.').replace(\"\\\\'s\", \"'s\").replace(\"\\'s\", \"'s\")  #seems like some of these don't work?\n",
    "df.head()"
   ]
  },
  {
   "attachments": {},
   "cell_type": "markdown",
   "metadata": {},
   "source": [
    "## Data prep - Text normalization (lemmatizing, tokenizing, stop words)"
   ]
  },
  {
   "attachments": {},
   "cell_type": "markdown",
   "metadata": {},
   "source": [
    "#### Lemmatizing"
   ]
  },
  {
   "cell_type": "code",
   "execution_count": 24,
   "metadata": {},
   "outputs": [],
   "source": [
    "# Lemmatizing Helper Function (lemmatize individual words)\n",
    "# Reference: General Assembly DSI Lesson 504-lesson-nlp-i\n",
    "\n",
    "def custom_lemmatize(word, tag):\n",
    "    mapper = {\n",
    "        'J': wordnet.ADJ,\n",
    "        'V': wordnet.VERB,\n",
    "        'N': wordnet.NOUN,\n",
    "        'R': wordnet.ADV\n",
    "    }\n",
    "    pos = mapper.get(tag[0])\n",
    "    \n",
    "    return wn.lemmatize(word, pos) if pos else word"
   ]
  },
  {
   "cell_type": "code",
   "execution_count": 25,
   "metadata": {},
   "outputs": [],
   "source": [
    "# Lemmatizing \n",
    "# Reference: General Assembly DSI Lesson 504-lesson-nlp-i\n",
    "\n",
    "def lemmatize_func(df_to_process, input_text_col='combined_text', output_col_name='lemmatized_text'):\n",
    "\n",
    "    wn = WordNetLemmatizer()\n",
    "\n",
    "    df_to_process[output_col_name] = \"\"\n",
    "\n",
    "    for i in tqdm(range(df_to_process.shape[0])):\n",
    "        df_to_process.loc[i, output_col_name] = \\\n",
    "            \" \".join([custom_lemmatize(word, tag) for word, tag in nltk.pos_tag( df_to_process[input_text_col][i].split(\" \"))])\n",
    "    \n",
    "    return"
   ]
  },
  {
   "cell_type": "code",
   "execution_count": 26,
   "metadata": {},
   "outputs": [
    {
     "name": "stderr",
     "output_type": "stream",
     "text": [
      "100%|██████████| 2484/2484 [04:01<00:00, 10.27it/s]\n"
     ]
    }
   ],
   "source": [
    "lemmatize_func(df, 'combined_text', 'lemmatized_text')"
   ]
  },
  {
   "cell_type": "markdown",
   "metadata": {},
   "source": [
    "#### Tokenizing & stop word removal"
   ]
  },
  {
   "cell_type": "code",
   "execution_count": 27,
   "metadata": {},
   "outputs": [],
   "source": [
    "# Tokenizing & stopword removal AFTER lemmatizing\n",
    "# Reference: General Assembly DSI Lesson 504-lesson-nlp-i\n",
    "\n",
    "def tokenize_func(df_to_process, input_text_col='lemmatized_text', output_col_name='tokenized_text'):\n",
    "\n",
    "    tokenizer = RegexpTokenizer('\\w+')\n",
    "\n",
    "    df_to_process[output_col_name] = \"\"\n",
    "\n",
    "    for i in tqdm(range(df.shape[0])):\n",
    "        my_text_tokens = tokenizer.tokenize(df_to_process[input_text_col][i].lower())\n",
    "        my_text_tokens_ns = [token for token in my_text_tokens if token not in stopwords.words(\"english\")]\n",
    "        recombined_text = \" \".join(my_text_tokens_ns)\n",
    "        df_to_process.loc[i, output_col_name] = recombined_text\n",
    "    \n",
    "    return\n"
   ]
  },
  {
   "cell_type": "code",
   "execution_count": 28,
   "metadata": {},
   "outputs": [
    {
     "name": "stderr",
     "output_type": "stream",
     "text": [
      "100%|██████████| 2484/2484 [17:43<00:00,  2.34it/s] \n"
     ]
    }
   ],
   "source": [
    "tokenize_func(df, 'lemmatized_text', 'tokenized_text')"
   ]
  },
  {
   "attachments": {},
   "cell_type": "markdown",
   "metadata": {},
   "source": [
    "#### Preview & save Dataframe with only tokenized_text"
   ]
  },
  {
   "cell_type": "code",
   "execution_count": 29,
   "metadata": {},
   "outputs": [
    {
     "data": {
      "text/html": [
       "<div>\n",
       "<style scoped>\n",
       "    .dataframe tbody tr th:only-of-type {\n",
       "        vertical-align: middle;\n",
       "    }\n",
       "\n",
       "    .dataframe tbody tr th {\n",
       "        vertical-align: top;\n",
       "    }\n",
       "\n",
       "    .dataframe thead th {\n",
       "        text-align: right;\n",
       "    }\n",
       "</style>\n",
       "<table border=\"1\" class=\"dataframe\">\n",
       "  <thead>\n",
       "    <tr style=\"text-align: right;\">\n",
       "      <th></th>\n",
       "      <th>name</th>\n",
       "      <th>href</th>\n",
       "      <th>combined_text</th>\n",
       "      <th>lemmatized_text</th>\n",
       "      <th>tokenized_text</th>\n",
       "    </tr>\n",
       "  </thead>\n",
       "  <tbody>\n",
       "    <tr>\n",
       "      <th>0</th>\n",
       "      <td>Game of Thrones</td>\n",
       "      <td>/title/tt0944947/</td>\n",
       "      <td>Nine noble families fight for control over the...</td>\n",
       "      <td>Nine noble family fight for control over the l...</td>\n",
       "      <td>nine noble family fight control land westeros ...</td>\n",
       "    </tr>\n",
       "    <tr>\n",
       "      <th>1</th>\n",
       "      <td>Prison Break</td>\n",
       "      <td>/title/tt0455275/</td>\n",
       "      <td>Due to a political conspiracy, an innocent man...</td>\n",
       "      <td>Due to a political conspiracy, an innocent man...</td>\n",
       "      <td>due political conspiracy innocent man send dea...</td>\n",
       "    </tr>\n",
       "    <tr>\n",
       "      <th>2</th>\n",
       "      <td>Vikings</td>\n",
       "      <td>/title/tt2306299/</td>\n",
       "      <td>Vikings transports us to the brutal and myster...</td>\n",
       "      <td>Vikings transport us to the brutal and mysteri...</td>\n",
       "      <td>vikings transport us brutal mysterious world r...</td>\n",
       "    </tr>\n",
       "  </tbody>\n",
       "</table>\n",
       "</div>"
      ],
      "text/plain": [
       "              name               href  \\\n",
       "0  Game of Thrones  /title/tt0944947/   \n",
       "1     Prison Break  /title/tt0455275/   \n",
       "2          Vikings  /title/tt2306299/   \n",
       "\n",
       "                                       combined_text  \\\n",
       "0  Nine noble families fight for control over the...   \n",
       "1  Due to a political conspiracy, an innocent man...   \n",
       "2  Vikings transports us to the brutal and myster...   \n",
       "\n",
       "                                     lemmatized_text  \\\n",
       "0  Nine noble family fight for control over the l...   \n",
       "1  Due to a political conspiracy, an innocent man...   \n",
       "2  Vikings transport us to the brutal and mysteri...   \n",
       "\n",
       "                                      tokenized_text  \n",
       "0  nine noble family fight control land westeros ...  \n",
       "1  due political conspiracy innocent man send dea...  \n",
       "2  vikings transport us brutal mysterious world r...  "
      ]
     },
     "execution_count": 29,
     "metadata": {},
     "output_type": "execute_result"
    }
   ],
   "source": [
    "df.head(3)"
   ]
  },
  {
   "cell_type": "code",
   "execution_count": 30,
   "metadata": {},
   "outputs": [],
   "source": [
    "columns_to_save = ['name', 'href', 'tokenized_text']"
   ]
  },
  {
   "cell_type": "code",
   "execution_count": 31,
   "metadata": {},
   "outputs": [],
   "source": [
    "df[columns_to_save].to_csv(f\"{data_directory}{tokenized_run_name}.csv\", index=False)"
   ]
  }
 ],
 "metadata": {
  "kernelspec": {
   "display_name": "base",
   "language": "python",
   "name": "python3"
  },
  "language_info": {
   "codemirror_mode": {
    "name": "ipython",
    "version": 3
   },
   "file_extension": ".py",
   "mimetype": "text/x-python",
   "name": "python",
   "nbconvert_exporter": "python",
   "pygments_lexer": "ipython3",
   "version": "3.9.16"
  },
  "orig_nbformat": 4
 },
 "nbformat": 4,
 "nbformat_minor": 2
}
