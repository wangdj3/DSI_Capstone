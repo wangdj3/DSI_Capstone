{
 "cells": [
  {
   "cell_type": "code",
   "execution_count": 1,
   "metadata": {},
   "outputs": [],
   "source": [
    "# Import libaries\n",
    "import numpy as np\n",
    "import pandas as pd\n",
    "import requests\n",
    "from bs4 import BeautifulSoup\n",
    "from urllib.request import Request, urlopen\n",
    "from tqdm import tqdm"
   ]
  },
  {
   "cell_type": "code",
   "execution_count": 2,
   "metadata": {},
   "outputs": [],
   "source": [
    "# Read in API key for TMDB\n",
    "\n",
    "with open('../ignored/tmdb_api_key.txt', 'r') as file:\n",
    "    my_api_key = file.read().rstrip()\n",
    "\n",
    "# Technique reference: https://stackoverflow.com/questions/8369219/how-to-read-a-text-file-into-a-string-variable-and-strip-newlines"
   ]
  },
  {
   "attachments": {},
   "cell_type": "markdown",
   "metadata": {},
   "source": [
    "### Read in table with titles to be scraped"
   ]
  },
  {
   "cell_type": "code",
   "execution_count": 3,
   "metadata": {},
   "outputs": [],
   "source": [
    "no_dupes = pd.read_csv('../data/imdb_titles_no_dupes.csv')"
   ]
  },
  {
   "cell_type": "code",
   "execution_count": 4,
   "metadata": {},
   "outputs": [
    {
     "data": {
      "text/plain": [
       "(2484, 9)"
      ]
     },
     "execution_count": 4,
     "metadata": {},
     "output_type": "execute_result"
    }
   ],
   "source": [
    "no_dupes.shape"
   ]
  },
  {
   "cell_type": "code",
   "execution_count": 5,
   "metadata": {},
   "outputs": [
    {
     "data": {
      "text/html": [
       "<div>\n",
       "<style scoped>\n",
       "    .dataframe tbody tr th:only-of-type {\n",
       "        vertical-align: middle;\n",
       "    }\n",
       "\n",
       "    .dataframe tbody tr th {\n",
       "        vertical-align: top;\n",
       "    }\n",
       "\n",
       "    .dataframe thead th {\n",
       "        text-align: right;\n",
       "    }\n",
       "</style>\n",
       "<table border=\"1\" class=\"dataframe\">\n",
       "  <thead>\n",
       "    <tr style=\"text-align: right;\">\n",
       "      <th></th>\n",
       "      <th>name</th>\n",
       "      <th>href</th>\n",
       "      <th>years</th>\n",
       "      <th>imdb_description</th>\n",
       "      <th>pg_rating</th>\n",
       "      <th>imdb_genre_tags</th>\n",
       "      <th>imdb_rating</th>\n",
       "      <th>num_votes</th>\n",
       "      <th>img_thumbnail</th>\n",
       "    </tr>\n",
       "  </thead>\n",
       "  <tbody>\n",
       "    <tr>\n",
       "      <th>0</th>\n",
       "      <td>Game of Thrones</td>\n",
       "      <td>/title/tt0944947/</td>\n",
       "      <td>(2011–2019)</td>\n",
       "      <td>Nine noble families fight for control over the...</td>\n",
       "      <td>TV-MA</td>\n",
       "      <td>Action, Adventure, Drama</td>\n",
       "      <td>9.2</td>\n",
       "      <td>2148311</td>\n",
       "      <td>https://m.media-amazon.com/images/M/MV5BYTRiND...</td>\n",
       "    </tr>\n",
       "    <tr>\n",
       "      <th>1</th>\n",
       "      <td>Prison Break</td>\n",
       "      <td>/title/tt0455275/</td>\n",
       "      <td>(2005–2017)</td>\n",
       "      <td>Due to a political conspiracy, an innocent man...</td>\n",
       "      <td>TV-14</td>\n",
       "      <td>Action, Crime, Drama</td>\n",
       "      <td>8.3</td>\n",
       "      <td>548267</td>\n",
       "      <td>https://m.media-amazon.com/images/M/MV5BMTg3NT...</td>\n",
       "    </tr>\n",
       "    <tr>\n",
       "      <th>2</th>\n",
       "      <td>Vikings</td>\n",
       "      <td>/title/tt2306299/</td>\n",
       "      <td>(2013–2020)</td>\n",
       "      <td>Vikings transports us to the brutal and myster...</td>\n",
       "      <td>TV-MA</td>\n",
       "      <td>Action, Adventure, Drama</td>\n",
       "      <td>8.5</td>\n",
       "      <td>547494</td>\n",
       "      <td>https://m.media-amazon.com/images/M/MV5BODk4Zj...</td>\n",
       "    </tr>\n",
       "    <tr>\n",
       "      <th>3</th>\n",
       "      <td>The Boys</td>\n",
       "      <td>/title/tt1190634/</td>\n",
       "      <td>(2019– )</td>\n",
       "      <td>A group of vigilantes set out to take down cor...</td>\n",
       "      <td>TV-MA</td>\n",
       "      <td>Action, Comedy, Crime</td>\n",
       "      <td>8.7</td>\n",
       "      <td>542317</td>\n",
       "      <td>https://m.media-amazon.com/images/M/MV5BOTEyND...</td>\n",
       "    </tr>\n",
       "    <tr>\n",
       "      <th>4</th>\n",
       "      <td>The Mandalorian</td>\n",
       "      <td>/title/tt8111088/</td>\n",
       "      <td>(2019– )</td>\n",
       "      <td>The travels of a lone bounty hunter in the out...</td>\n",
       "      <td>TV-14</td>\n",
       "      <td>Action, Adventure, Fantasy</td>\n",
       "      <td>8.7</td>\n",
       "      <td>527088</td>\n",
       "      <td>https://m.media-amazon.com/images/M/MV5BZjRlZD...</td>\n",
       "    </tr>\n",
       "  </tbody>\n",
       "</table>\n",
       "</div>"
      ],
      "text/plain": [
       "              name               href        years  \\\n",
       "0  Game of Thrones  /title/tt0944947/  (2011–2019)   \n",
       "1     Prison Break  /title/tt0455275/  (2005–2017)   \n",
       "2          Vikings  /title/tt2306299/  (2013–2020)   \n",
       "3         The Boys  /title/tt1190634/     (2019– )   \n",
       "4  The Mandalorian  /title/tt8111088/     (2019– )   \n",
       "\n",
       "                                    imdb_description pg_rating  \\\n",
       "0  Nine noble families fight for control over the...     TV-MA   \n",
       "1  Due to a political conspiracy, an innocent man...     TV-14   \n",
       "2  Vikings transports us to the brutal and myster...     TV-MA   \n",
       "3  A group of vigilantes set out to take down cor...     TV-MA   \n",
       "4  The travels of a lone bounty hunter in the out...     TV-14   \n",
       "\n",
       "              imdb_genre_tags  imdb_rating  num_votes  \\\n",
       "0    Action, Adventure, Drama          9.2    2148311   \n",
       "1        Action, Crime, Drama          8.3     548267   \n",
       "2    Action, Adventure, Drama          8.5     547494   \n",
       "3       Action, Comedy, Crime          8.7     542317   \n",
       "4  Action, Adventure, Fantasy          8.7     527088   \n",
       "\n",
       "                                       img_thumbnail  \n",
       "0  https://m.media-amazon.com/images/M/MV5BYTRiND...  \n",
       "1  https://m.media-amazon.com/images/M/MV5BMTg3NT...  \n",
       "2  https://m.media-amazon.com/images/M/MV5BODk4Zj...  \n",
       "3  https://m.media-amazon.com/images/M/MV5BOTEyND...  \n",
       "4  https://m.media-amazon.com/images/M/MV5BZjRlZD...  "
      ]
     },
     "execution_count": 5,
     "metadata": {},
     "output_type": "execute_result"
    }
   ],
   "source": [
    "no_dupes.head()"
   ]
  },
  {
   "attachments": {},
   "cell_type": "markdown",
   "metadata": {},
   "source": [
    "### Define functions for our API call"
   ]
  },
  {
   "cell_type": "code",
   "execution_count": 6,
   "metadata": {},
   "outputs": [],
   "source": [
    "def tmdb_find(external_id, api_key=my_api_key):\n",
    "\n",
    "    base_url = 'https://api.themoviedb.org/3/find/'\n",
    "    url = f\"{base_url}{external_id}?api_key={my_api_key}\"\n",
    "\n",
    "    params = {\n",
    "            'language': 'en-US',\n",
    "            'external_source': 'imdb_id'\n",
    "        }\n",
    "    \n",
    "    response = requests.get(url, params=params)\n",
    "    data = response.json()['tv_results'][0]\n",
    "\n",
    "    data_to_keep = {\n",
    "        'tmdb_id' : data['id'],\n",
    "        'tmdb_name' : data['name'],\n",
    "        'original_name' : data['original_name'],\n",
    "        'original_language' : data['original_language'],        \n",
    "        'origin_country' : data['origin_country'],\n",
    "        'tmdb_popularity' : data['popularity'],\n",
    "        'tmdb_vote_average' : data['vote_average'],\n",
    "        'tmdb_vote_count' : data['vote_count'],\n",
    "        'first_air_date' : data['first_air_date'],\n",
    "        'tmdb_adult_content' : data['adult'],\n",
    "        'tmdb_poster_path' : data['poster_path'],\n",
    "        'tmdb_overview' : data['overview'].encode(\"ascii\", \"ignore\").decode(), \n",
    "                            # Technique reference: https://pythonguides.com/remove-unicode-characters-in-python/\n",
    "    }\n",
    "\n",
    "    return data_to_keep\n",
    "\n",
    "# Reference: https://developers.themoviedb.org/3/find/find-by-id"
   ]
  },
  {
   "cell_type": "code",
   "execution_count": 7,
   "metadata": {},
   "outputs": [],
   "source": [
    "# query for other info not obtained from \"find\" search for tv show\n",
    "\n",
    "def tmdb_tv_query(tv_id, api_key=my_api_key):\n",
    "\n",
    "    base_url = 'https://api.themoviedb.org/3/tv/'\n",
    "    url = f\"{base_url}{tv_id}?api_key={my_api_key}\"\n",
    "\n",
    "    params = {\n",
    "            'language': 'en-US',\n",
    "        }\n",
    "    \n",
    "    response = requests.get(url, params=params)\n",
    "    data = response.json()\n",
    "\n",
    "    data_to_keep = {\n",
    "        'tagline' : data['tagline'],\n",
    "        'genres' : \", \".join( [i['name'] for i in data['genres']] ),\n",
    "        'networks' : \", \".join( [i['name'] for i in data['networks']] ),\n",
    "    }\n",
    "\n",
    "    return data_to_keep\n",
    "\n",
    "# Reference: https://developers.themoviedb.org/3/tv/get-tv-details"
   ]
  },
  {
   "cell_type": "code",
   "execution_count": 8,
   "metadata": {},
   "outputs": [],
   "source": [
    "def scrape_keywords(tmdb_id):\n",
    "    \n",
    "    base_url = 'https://www.themoviedb.org/tv/'\n",
    "    full_url = base_url + str(tmdb_id)\n",
    "\n",
    "    req = Request(full_url, headers={'User-Agent': 'Mozilla/5.0'})\n",
    "    webpage = urlopen(req).read()\n",
    "    soup = BeautifulSoup(webpage, \"html.parser\")\n",
    "\n",
    "    # Technique reference to avoid 403 error: \n",
    "    # https://medium.com/@raiyanquaium/how-to-web-scrape-using-beautiful-soup-in-python-without-running-into-http-error-403-554875e5abed\n",
    "\n",
    "    keywords_list = []\n",
    "    keyword_sidebar = soup.find('section', attrs='keywords right_column')\n",
    "    for li in keyword_sidebar.find_all('li'):\n",
    "        keywords_list.append(li.text)\n",
    "\n",
    "    return \", \".join(keywords_list)"
   ]
  },
  {
   "cell_type": "code",
   "execution_count": 25,
   "metadata": {},
   "outputs": [],
   "source": [
    "def make_tmdb_entry(row_index, input_df):\n",
    "    imdb_href = input_df['href'][row_index]\n",
    "    entry = {'imdb_href' : imdb_href}\n",
    "    external_id = imdb_href[7:-1]\n",
    "\n",
    "    try:\n",
    "        api_pull_dict = tmdb_find(external_id, my_api_key)\n",
    "        tmdb_id = api_pull_dict['tmdb_id']\n",
    "\n",
    "        entry.update(api_pull_dict)\n",
    "        entry.update( tmdb_tv_query(tmdb_id, my_api_key) )\n",
    "        entry['tmdb_keywords'] = scrape_keywords(tmdb_id)\n",
    "    except:\n",
    "        print(f\"Error on row_index: {row_index} ; imdb_href: {imdb_href}\")\n",
    "        pass\n",
    "\n",
    "    return entry"
   ]
  },
  {
   "attachments": {},
   "cell_type": "markdown",
   "metadata": {},
   "source": [
    "#### Create Dataframe of TMDB entries, based on list of shows from IMDB"
   ]
  },
  {
   "cell_type": "code",
   "execution_count": 21,
   "metadata": {},
   "outputs": [
    {
     "name": "stderr",
     "output_type": "stream",
     "text": [
      " 24%|██▍       | 590/2484 [08:58<29:38,  1.07it/s]Some characters could not be decoded, and were replaced with REPLACEMENT CHARACTER.\n",
      " 48%|████▊     | 1195/2484 [18:26<20:45,  1.03it/s]Some characters could not be decoded, and were replaced with REPLACEMENT CHARACTER.\n",
      "100%|██████████| 2484/2484 [39:00<00:00,  1.06it/s]\n"
     ]
    }
   ],
   "source": [
    "tmdb_articles = {}\n",
    "\n",
    "# for i in tqdm(range(len(no_dupes))):\n",
    "for i in tqdm(range(len(no_dupes))):    \n",
    "    tmdb_articles[i] = make_tmdb_entry(i, no_dupes)"
   ]
  },
  {
   "cell_type": "code",
   "execution_count": 22,
   "metadata": {},
   "outputs": [],
   "source": [
    "tmdb_articles_df = pd.DataFrame.from_dict(tmdb_articles, orient='index')"
   ]
  },
  {
   "cell_type": "code",
   "execution_count": 23,
   "metadata": {},
   "outputs": [
    {
     "data": {
      "text/html": [
       "<div>\n",
       "<style scoped>\n",
       "    .dataframe tbody tr th:only-of-type {\n",
       "        vertical-align: middle;\n",
       "    }\n",
       "\n",
       "    .dataframe tbody tr th {\n",
       "        vertical-align: top;\n",
       "    }\n",
       "\n",
       "    .dataframe thead th {\n",
       "        text-align: right;\n",
       "    }\n",
       "</style>\n",
       "<table border=\"1\" class=\"dataframe\">\n",
       "  <thead>\n",
       "    <tr style=\"text-align: right;\">\n",
       "      <th></th>\n",
       "      <th>imdb_href</th>\n",
       "      <th>tmdb_id</th>\n",
       "      <th>tmdb_name</th>\n",
       "      <th>original_name</th>\n",
       "      <th>original_language</th>\n",
       "      <th>origin_country</th>\n",
       "      <th>tmdb_popularity</th>\n",
       "      <th>tmdb_vote_average</th>\n",
       "      <th>tmdb_vote_count</th>\n",
       "      <th>first_air_date</th>\n",
       "      <th>tmdb_adult_content</th>\n",
       "      <th>tmdb_poster_path</th>\n",
       "      <th>tmdb_overview</th>\n",
       "      <th>tagline</th>\n",
       "      <th>genres</th>\n",
       "      <th>networks</th>\n",
       "      <th>tmdb_keywords</th>\n",
       "    </tr>\n",
       "  </thead>\n",
       "  <tbody>\n",
       "    <tr>\n",
       "      <th>2479</th>\n",
       "      <td>/title/tt0047736/</td>\n",
       "      <td>3713.0</td>\n",
       "      <td>Gunsmoke</td>\n",
       "      <td>Gunsmoke</td>\n",
       "      <td>en</td>\n",
       "      <td>[US]</td>\n",
       "      <td>22.262</td>\n",
       "      <td>6.671</td>\n",
       "      <td>82.0</td>\n",
       "      <td>1955-09-10</td>\n",
       "      <td>False</td>\n",
       "      <td>/x7WjYizqcrA64xi9XLqUWCz5DNk.jpg</td>\n",
       "      <td>Gunsmoke is an American radio and television W...</td>\n",
       "      <td></td>\n",
       "      <td>Western, Action &amp; Adventure</td>\n",
       "      <td>CBS</td>\n",
       "      <td>marshal, kansas, usa, wild west, 19th century</td>\n",
       "    </tr>\n",
       "    <tr>\n",
       "      <th>2480</th>\n",
       "      <td>/title/tt0068093/</td>\n",
       "      <td>1472.0</td>\n",
       "      <td>Kung Fu</td>\n",
       "      <td>Kung Fu</td>\n",
       "      <td>en</td>\n",
       "      <td>[US]</td>\n",
       "      <td>1.043</td>\n",
       "      <td>7.611</td>\n",
       "      <td>166.0</td>\n",
       "      <td>1972-10-14</td>\n",
       "      <td>False</td>\n",
       "      <td>/vUqmS40PRyAe3COHh7wHpDFnspC.jpg</td>\n",
       "      <td>The adventures of a Shaolin Monk as he wanders...</td>\n",
       "      <td></td>\n",
       "      <td>Action &amp; Adventure, Drama, Western, Sci-Fi &amp; F...</td>\n",
       "      <td>ABC</td>\n",
       "      <td>martial arts, kung fu, shaolin monk, wild west</td>\n",
       "    </tr>\n",
       "    <tr>\n",
       "      <th>2481</th>\n",
       "      <td>/title/tt0482857/</td>\n",
       "      <td>20056.0</td>\n",
       "      <td>Broken Trail</td>\n",
       "      <td>Broken Trail</td>\n",
       "      <td>en</td>\n",
       "      <td>[US]</td>\n",
       "      <td>9.132</td>\n",
       "      <td>6.899</td>\n",
       "      <td>149.0</td>\n",
       "      <td>2006-06-25</td>\n",
       "      <td>False</td>\n",
       "      <td>/yjYXwnRLZFrWXdS97IoXxsSbADi.jpg</td>\n",
       "      <td>Broken Trail is a 2006 Western miniseries dire...</td>\n",
       "      <td></td>\n",
       "      <td>Action &amp; Adventure, Drama, Western</td>\n",
       "      <td>AMC</td>\n",
       "      <td>widow, brothel, miniseries, nephew, american w...</td>\n",
       "    </tr>\n",
       "    <tr>\n",
       "      <th>2482</th>\n",
       "      <td>/title/tt0058855/</td>\n",
       "      <td>10929.0</td>\n",
       "      <td>The Wild Wild West</td>\n",
       "      <td>The Wild Wild West</td>\n",
       "      <td>en</td>\n",
       "      <td>[US]</td>\n",
       "      <td>33.079</td>\n",
       "      <td>7.330</td>\n",
       "      <td>50.0</td>\n",
       "      <td>1965-09-17</td>\n",
       "      <td>False</td>\n",
       "      <td>/4LSZNCSxDodwCP8EsKRTgMDUKY4.jpg</td>\n",
       "      <td>The Wild Wild West is an American television s...</td>\n",
       "      <td></td>\n",
       "      <td>Action &amp; Adventure, Comedy, Drama, Western, Sc...</td>\n",
       "      <td>CBS</td>\n",
       "      <td>secret agent, wild west</td>\n",
       "    </tr>\n",
       "    <tr>\n",
       "      <th>2483</th>\n",
       "      <td>/title/tt8873996/</td>\n",
       "      <td>89498.0</td>\n",
       "      <td>Deputy</td>\n",
       "      <td>Deputy</td>\n",
       "      <td>en</td>\n",
       "      <td>[US]</td>\n",
       "      <td>11.416</td>\n",
       "      <td>7.187</td>\n",
       "      <td>75.0</td>\n",
       "      <td>2020-01-02</td>\n",
       "      <td>False</td>\n",
       "      <td>/dlnbNP169odKEYKCfzBipRrUDdk.jpg</td>\n",
       "      <td>When the Los Angeles Countys Sheriff dies, an ...</td>\n",
       "      <td>The hero no one saw coming.</td>\n",
       "      <td>Western, Drama, Crime</td>\n",
       "      <td>FOX</td>\n",
       "      <td></td>\n",
       "    </tr>\n",
       "  </tbody>\n",
       "</table>\n",
       "</div>"
      ],
      "text/plain": [
       "              imdb_href  tmdb_id           tmdb_name       original_name  \\\n",
       "2479  /title/tt0047736/   3713.0            Gunsmoke            Gunsmoke   \n",
       "2480  /title/tt0068093/   1472.0             Kung Fu             Kung Fu   \n",
       "2481  /title/tt0482857/  20056.0        Broken Trail        Broken Trail   \n",
       "2482  /title/tt0058855/  10929.0  The Wild Wild West  The Wild Wild West   \n",
       "2483  /title/tt8873996/  89498.0              Deputy              Deputy   \n",
       "\n",
       "     original_language origin_country  tmdb_popularity  tmdb_vote_average  \\\n",
       "2479                en           [US]           22.262              6.671   \n",
       "2480                en           [US]            1.043              7.611   \n",
       "2481                en           [US]            9.132              6.899   \n",
       "2482                en           [US]           33.079              7.330   \n",
       "2483                en           [US]           11.416              7.187   \n",
       "\n",
       "      tmdb_vote_count first_air_date tmdb_adult_content  \\\n",
       "2479             82.0     1955-09-10              False   \n",
       "2480            166.0     1972-10-14              False   \n",
       "2481            149.0     2006-06-25              False   \n",
       "2482             50.0     1965-09-17              False   \n",
       "2483             75.0     2020-01-02              False   \n",
       "\n",
       "                      tmdb_poster_path  \\\n",
       "2479  /x7WjYizqcrA64xi9XLqUWCz5DNk.jpg   \n",
       "2480  /vUqmS40PRyAe3COHh7wHpDFnspC.jpg   \n",
       "2481  /yjYXwnRLZFrWXdS97IoXxsSbADi.jpg   \n",
       "2482  /4LSZNCSxDodwCP8EsKRTgMDUKY4.jpg   \n",
       "2483  /dlnbNP169odKEYKCfzBipRrUDdk.jpg   \n",
       "\n",
       "                                          tmdb_overview  \\\n",
       "2479  Gunsmoke is an American radio and television W...   \n",
       "2480  The adventures of a Shaolin Monk as he wanders...   \n",
       "2481  Broken Trail is a 2006 Western miniseries dire...   \n",
       "2482  The Wild Wild West is an American television s...   \n",
       "2483  When the Los Angeles Countys Sheriff dies, an ...   \n",
       "\n",
       "                          tagline  \\\n",
       "2479                                \n",
       "2480                                \n",
       "2481                                \n",
       "2482                                \n",
       "2483  The hero no one saw coming.   \n",
       "\n",
       "                                                 genres networks  \\\n",
       "2479                        Western, Action & Adventure      CBS   \n",
       "2480  Action & Adventure, Drama, Western, Sci-Fi & F...      ABC   \n",
       "2481                 Action & Adventure, Drama, Western      AMC   \n",
       "2482  Action & Adventure, Comedy, Drama, Western, Sc...      CBS   \n",
       "2483                              Western, Drama, Crime      FOX   \n",
       "\n",
       "                                          tmdb_keywords  \n",
       "2479      marshal, kansas, usa, wild west, 19th century  \n",
       "2480     martial arts, kung fu, shaolin monk, wild west  \n",
       "2481  widow, brothel, miniseries, nephew, american w...  \n",
       "2482                            secret agent, wild west  \n",
       "2483                                                     "
      ]
     },
     "execution_count": 23,
     "metadata": {},
     "output_type": "execute_result"
    }
   ],
   "source": [
    "tmdb_articles_df.tail()"
   ]
  },
  {
   "cell_type": "code",
   "execution_count": 43,
   "metadata": {},
   "outputs": [
    {
     "data": {
      "text/plain": [
       "(2484, 17)"
      ]
     },
     "execution_count": 43,
     "metadata": {},
     "output_type": "execute_result"
    }
   ],
   "source": [
    "tmdb_articles_df.shape"
   ]
  },
  {
   "attachments": {},
   "cell_type": "markdown",
   "metadata": {},
   "source": [
    "#### Handle outlier cases"
   ]
  },
  {
   "cell_type": "code",
   "execution_count": 26,
   "metadata": {},
   "outputs": [
    {
     "data": {
      "text/plain": [
       "imdb_href              0\n",
       "tmdb_id               35\n",
       "tmdb_name             35\n",
       "original_name         35\n",
       "original_language     35\n",
       "origin_country        35\n",
       "tmdb_popularity       35\n",
       "tmdb_vote_average     35\n",
       "tmdb_vote_count       35\n",
       "first_air_date        35\n",
       "tmdb_adult_content    35\n",
       "tmdb_poster_path      36\n",
       "tmdb_overview         35\n",
       "tagline               35\n",
       "genres                35\n",
       "networks              35\n",
       "tmdb_keywords         35\n",
       "dtype: int64"
      ]
     },
     "execution_count": 26,
     "metadata": {},
     "output_type": "execute_result"
    }
   ],
   "source": [
    "tmdb_articles_df.isna().sum()"
   ]
  },
  {
   "cell_type": "code",
   "execution_count": 32,
   "metadata": {},
   "outputs": [
    {
     "data": {
      "text/plain": [
       "48       /title/tt1758429/\n",
       "50       /title/tt0214341/\n",
       "121      /title/tt0280249/\n",
       "161      /title/tt1598754/\n",
       "224     /title/tt13623148/\n",
       "288      /title/tt0249327/\n",
       "334     /title/tt14986406/\n",
       "368      /title/tt0387736/\n",
       "374      /title/tt5497534/\n",
       "420      /title/tt0114327/\n",
       "467      /title/tt8213522/\n",
       "729      /title/tt0063939/\n",
       "750      /title/tt0060019/\n",
       "765      /title/tt0062550/\n",
       "793      /title/tt0184175/\n",
       "819      /title/tt0211145/\n",
       "873      /title/tt6601082/\n",
       "884      /title/tt0086719/\n",
       "1041    /title/tt14650074/\n",
       "1103     /title/tt0096548/\n",
       "1115     /title/tt0088484/\n",
       "1182     /title/tt4202274/\n",
       "1384     /title/tt4093826/\n",
       "1553     /title/tt6111552/\n",
       "1554     /title/tt0090509/\n",
       "1624     /title/tt6205862/\n",
       "1640     /title/tt8010592/\n",
       "1718    /title/tt21867596/\n",
       "1924     /title/tt0094500/\n",
       "1940     /title/tt0389680/\n",
       "1983     /title/tt7686464/\n",
       "1995     /title/tt1635327/\n",
       "2066    /title/tt13720112/\n",
       "2178    /title/tt14153686/\n",
       "2216     /title/tt9566030/\n",
       "Name: imdb_href, dtype: object"
      ]
     },
     "execution_count": 32,
     "metadata": {},
     "output_type": "execute_result"
    }
   ],
   "source": [
    "tmdb_articles_df[tmdb_articles_df['genres'].isna()]['imdb_href']"
   ]
  },
  {
   "cell_type": "code",
   "execution_count": 56,
   "metadata": {},
   "outputs": [],
   "source": [
    "#manual lookup for fixes\n",
    "\n",
    "outlier_cases = {\n",
    "    # row    imdb_href        tmdb_id\n",
    "    # 48\t:\t\"\"   , #   /title/tt1758429/\n",
    "    50\t :  12971  , #       /title/tt0214341/\n",
    "    121\t :  12609  , #       /title/tt0280249/\n",
    "    # 161\t:   \"\"     , #   /title/tt1598754/\n",
    "    # 224\t:  1010901 , #   /title/tt13623148/\n",
    "    288\t : 36406   , #   /title/tt0249327/ \n",
    "    # 334\t:  \"\"       , #  /title/tt14986406/\n",
    "    # 368\t  : 1085199 , #      /title/tt0387736/\n",
    "    # 374\t:   \"\"      , #  /title/tt5497534/\n",
    "    420\t :  3570   , #   /title/tt0114327/\n",
    "    # 467\t:   \"\"     , #   /title/tt8213522/\n",
    "    729\t :  114772 , #   /title/tt0063939/\n",
    "    # 750\t:   \"\"     , #   /title/tt0060019/\n",
    "    # 765\t:   \"\"     , #   /title/tt0062550/\n",
    "    # 793\t:   \"\"     , #   /title/tt0184175/\n",
    "    819\t:   31654  , #   /title/tt0211145/\n",
    "    873\t :  81026  , #   /title/tt6601082/\n",
    "    884\t :  29200  , #   /title/tt0086719/\n",
    "    1041\t:  135670 , #    /title/tt14650074/\n",
    "    1103\t:   7246  , #    /title/tt0096548/\n",
    "    1115\t:   7246  , #    /title/tt0088484/\n",
    "    # 1182\t:   \"\"    , #    /title/tt4202274/\n",
    "    1384\t:   1920  , #    /title/tt4093826/\n",
    "    # 1553\t:   \"\"     , #   /title/tt6111552/\n",
    "    # 1554\t:   \"\"    , #    /title/tt0090509/\n",
    "    1624\t:   64513  , #     /title/tt6205862/\n",
    "    1640\t:   64513  , #   /title/tt8010592/\n",
    "    1718\t:  208720  , #   /title/tt21867596/\n",
    "    1924\t:   13793  , #   /title/tt0094500/\n",
    "    1940\t:   42135  , #   /title/tt0389680/\n",
    "    # 1983\t:   \"\"     , #   /title/tt7686464/\n",
    "    # 1995\t:   \"\"     , #   /title/tt1635327/\n",
    "    2066\t:  131488  , #   /title/tt13720112/\n",
    "    2178\t:  134949  , #   /title/tt14153686/\n",
    "    # 2216\t:   \"\"     , #   /title/tt9566030/\n",
    "}"
   ]
  },
  {
   "cell_type": "code",
   "execution_count": 57,
   "metadata": {},
   "outputs": [
    {
     "data": {
      "text/plain": [
       "19"
      ]
     },
     "execution_count": 57,
     "metadata": {},
     "output_type": "execute_result"
    }
   ],
   "source": [
    "len(outlier_cases)"
   ]
  },
  {
   "cell_type": "code",
   "execution_count": 70,
   "metadata": {},
   "outputs": [],
   "source": [
    "def scrape_outlier(tmdb_id, my_api_key=my_api_key):\n",
    "\n",
    "    # print(f\"Attempting to scrape tmdb_id: {tmdb_id}\")\n",
    "\n",
    "    base_url = 'https://api.themoviedb.org/3/tv/'\n",
    "    url = f\"{base_url}{tmdb_id}?api_key={my_api_key}\"\n",
    "\n",
    "    params = {\n",
    "            'language': 'en-US',\n",
    "        }\n",
    "\n",
    "    response = requests.get(url, params=params)\n",
    "    data = response.json()\n",
    "\n",
    "    entry = {}\n",
    "\n",
    "    try:\n",
    "        data_to_keep = {\n",
    "            'tmdb_id' : data['id'],\n",
    "            'tmdb_name' : data['name'],\n",
    "            'original_name' : data['original_name'],\n",
    "            'original_language' : data['original_language'],        \n",
    "            'origin_country' : data['origin_country'],\n",
    "            'tmdb_popularity' : data['popularity'],\n",
    "            'tmdb_vote_average' : data['vote_average'],\n",
    "            'tmdb_vote_count' : data['vote_count'],\n",
    "            'first_air_date' : data['first_air_date'],\n",
    "            'tmdb_adult_content' : data['adult'],\n",
    "            'tmdb_poster_path' : data['poster_path'],\n",
    "            'tmdb_overview' : data['overview'].encode(\"ascii\", \"ignore\").decode(), \n",
    "        }\n",
    "        \n",
    "        entry.update(data_to_keep)\n",
    "        entry.update( tmdb_tv_query(tmdb_id, my_api_key) )\n",
    "        entry['tmdb_keywords'] = scrape_keywords(tmdb_id)\n",
    "    except:\n",
    "        \n",
    "        data_to_keep = {\n",
    "            'tmdb_id' : \"\",\n",
    "            'tmdb_name' : \"\",\n",
    "            'original_name' : \"\",\n",
    "            'original_language' : \"\",      \n",
    "            'origin_country' : \"\",\n",
    "            'tmdb_popularity' : \"\",\n",
    "            'tmdb_vote_average' : \"\",\n",
    "            'tmdb_vote_count' : \"\",\n",
    "            'first_air_date' : \"\",\n",
    "            'tmdb_adult_content' : \"\",\n",
    "            'tmdb_poster_path' : \"\",\n",
    "            'tmdb_overview' : \"\",\n",
    "            'tagline' : \"\",\n",
    "            'genres' : \"\",\n",
    "            'networks' : \"\",\n",
    "            'tmdb_keywords' : \"\",\n",
    "        }\n",
    "        entry.update(data_to_keep)\n",
    "\n",
    "    return entry"
   ]
  },
  {
   "cell_type": "code",
   "execution_count": 71,
   "metadata": {},
   "outputs": [
    {
     "name": "stderr",
     "output_type": "stream",
     "text": [
      "100%|██████████| 19/19 [00:11<00:00,  1.67it/s]\n"
     ]
    }
   ],
   "source": [
    "for i in tqdm(outlier_cases):\n",
    "    tmdb_articles[i].update( scrape_outlier(outlier_cases[i], my_api_key) )"
   ]
  },
  {
   "cell_type": "code",
   "execution_count": 72,
   "metadata": {},
   "outputs": [],
   "source": [
    "tmdb_articles_df = pd.DataFrame.from_dict(tmdb_articles, orient='index')"
   ]
  },
  {
   "cell_type": "code",
   "execution_count": 75,
   "metadata": {},
   "outputs": [],
   "source": [
    "tmdb_articles_df.fillna(\"\", inplace=True)"
   ]
  },
  {
   "cell_type": "markdown",
   "metadata": {},
   "source": [
    "#### Write finished dataframe to disk"
   ]
  },
  {
   "cell_type": "code",
   "execution_count": 76,
   "metadata": {},
   "outputs": [],
   "source": [
    "tmdb_articles_df.to_csv('../data/tmdb_articles_df.csv', index=False)"
   ]
  },
  {
   "cell_type": "code",
   "execution_count": null,
   "metadata": {},
   "outputs": [],
   "source": [
    "# image_base_url = 'https://image.tmdb.org/t/p/original'\n",
    "# test_image_url = image_base_url + asdf['poster_path']\n",
    "# test_image_url"
   ]
  }
 ],
 "metadata": {
  "kernelspec": {
   "display_name": "base",
   "language": "python",
   "name": "python3"
  },
  "language_info": {
   "codemirror_mode": {
    "name": "ipython",
    "version": 3
   },
   "file_extension": ".py",
   "mimetype": "text/x-python",
   "name": "python",
   "nbconvert_exporter": "python",
   "pygments_lexer": "ipython3",
   "version": "3.9.16"
  },
  "orig_nbformat": 4
 },
 "nbformat": 4,
 "nbformat_minor": 2
}
