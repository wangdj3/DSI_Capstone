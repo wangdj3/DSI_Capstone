{
 "cells": [
  {
   "attachments": {},
   "cell_type": "markdown",
   "metadata": {},
   "source": [
    "# LDA (Latent Dirichlet Allocation) & LSI (Latent Semantic Indexing)"
   ]
  },
  {
   "cell_type": "markdown",
   "metadata": {},
   "source": [
    "#### Set parameters for how final model results will be saved"
   ]
  },
  {
   "cell_type": "code",
   "execution_count": 1,
   "metadata": {},
   "outputs": [],
   "source": [
    "tokenized_run_name = \"unweighted_1_tokens\"  #manually input the filename (no extension) to be used as input"
   ]
  },
  {
   "cell_type": "code",
   "execution_count": 2,
   "metadata": {},
   "outputs": [],
   "source": [
    "data_directory = \"../data/\"\n",
    "output_directory = \"../outputs/\""
   ]
  },
  {
   "cell_type": "code",
   "execution_count": 3,
   "metadata": {},
   "outputs": [],
   "source": [
    "base_model_type = \"lda_lsi\"\n",
    "model_name_suffix = \"\"  #default should be blank; use to make note of any other mods\n",
    "run_number = 1"
   ]
  },
  {
   "cell_type": "code",
   "execution_count": 4,
   "metadata": {},
   "outputs": [],
   "source": [
    "final_model_name = f\"{base_model_type}_{tokenized_run_name[:-7]}_run{run_number}{model_name_suffix}\""
   ]
  },
  {
   "cell_type": "markdown",
   "metadata": {},
   "source": [
    "#### Imports"
   ]
  },
  {
   "cell_type": "code",
   "execution_count": 5,
   "metadata": {},
   "outputs": [],
   "source": [
    "# general use\n",
    "import numpy as np\n",
    "import pandas as pd\n",
    "import matplotlib.pyplot as plt\n",
    "\n",
    "from sklearn.feature_extraction.text import CountVectorizer, TfidfVectorizer\n",
    "\n",
    "# # for LDA modeling & presentation\n",
    "from sklearn.model_selection import GridSearchCV\n",
    "from sklearn.decomposition import LatentDirichletAllocation\n",
    "import pyLDAvis\n",
    "import pyLDAvis.sklearn\n",
    "pyLDAvis.enable_notebook()\n",
    "\n",
    "# # for LSA modeling\n",
    "from sklearn.decomposition import TruncatedSVD\n",
    "\n",
    "# for progress bar on loops\n",
    "from tqdm import tqdm"
   ]
  },
  {
   "attachments": {},
   "cell_type": "markdown",
   "metadata": {},
   "source": [
    "#### Read in Dataframe with tokenized text"
   ]
  },
  {
   "cell_type": "code",
   "execution_count": 6,
   "metadata": {},
   "outputs": [
    {
     "data": {
      "text/html": [
       "<div>\n",
       "<style scoped>\n",
       "    .dataframe tbody tr th:only-of-type {\n",
       "        vertical-align: middle;\n",
       "    }\n",
       "\n",
       "    .dataframe tbody tr th {\n",
       "        vertical-align: top;\n",
       "    }\n",
       "\n",
       "    .dataframe thead th {\n",
       "        text-align: right;\n",
       "    }\n",
       "</style>\n",
       "<table border=\"1\" class=\"dataframe\">\n",
       "  <thead>\n",
       "    <tr style=\"text-align: right;\">\n",
       "      <th></th>\n",
       "      <th>name</th>\n",
       "      <th>href</th>\n",
       "      <th>tokenized_text</th>\n",
       "    </tr>\n",
       "  </thead>\n",
       "  <tbody>\n",
       "    <tr>\n",
       "      <th>0</th>\n",
       "      <td>Game of Thrones</td>\n",
       "      <td>/title/tt0944947/</td>\n",
       "      <td>nine noble family fight control land westeros ...</td>\n",
       "    </tr>\n",
       "    <tr>\n",
       "      <th>1</th>\n",
       "      <td>Prison Break</td>\n",
       "      <td>/title/tt0455275/</td>\n",
       "      <td>due political conspiracy innocent man send dea...</td>\n",
       "    </tr>\n",
       "    <tr>\n",
       "      <th>2</th>\n",
       "      <td>Vikings</td>\n",
       "      <td>/title/tt2306299/</td>\n",
       "      <td>vikings transport us brutal mysterious world r...</td>\n",
       "    </tr>\n",
       "    <tr>\n",
       "      <th>3</th>\n",
       "      <td>The Boys</td>\n",
       "      <td>/title/tt1190634/</td>\n",
       "      <td>group vigilante set take corrupt superheroes a...</td>\n",
       "    </tr>\n",
       "    <tr>\n",
       "      <th>4</th>\n",
       "      <td>The Mandalorian</td>\n",
       "      <td>/title/tt8111088/</td>\n",
       "      <td>travel lone bounty hunter outer reach galaxy f...</td>\n",
       "    </tr>\n",
       "  </tbody>\n",
       "</table>\n",
       "</div>"
      ],
      "text/plain": [
       "              name               href  \\\n",
       "0  Game of Thrones  /title/tt0944947/   \n",
       "1     Prison Break  /title/tt0455275/   \n",
       "2          Vikings  /title/tt2306299/   \n",
       "3         The Boys  /title/tt1190634/   \n",
       "4  The Mandalorian  /title/tt8111088/   \n",
       "\n",
       "                                      tokenized_text  \n",
       "0  nine noble family fight control land westeros ...  \n",
       "1  due political conspiracy innocent man send dea...  \n",
       "2  vikings transport us brutal mysterious world r...  \n",
       "3  group vigilante set take corrupt superheroes a...  \n",
       "4  travel lone bounty hunter outer reach galaxy f...  "
      ]
     },
     "execution_count": 6,
     "metadata": {},
     "output_type": "execute_result"
    }
   ],
   "source": [
    "df = pd.read_csv(f\"{data_directory}{tokenized_run_name}.csv\")\n",
    "df.head()"
   ]
  },
  {
   "cell_type": "code",
   "execution_count": 7,
   "metadata": {},
   "outputs": [
    {
     "data": {
      "text/plain": [
       "name              0\n",
       "href              0\n",
       "tokenized_text    0\n",
       "dtype: int64"
      ]
     },
     "execution_count": 7,
     "metadata": {},
     "output_type": "execute_result"
    }
   ],
   "source": [
    "df.isna().sum()"
   ]
  },
  {
   "cell_type": "code",
   "execution_count": 8,
   "metadata": {},
   "outputs": [],
   "source": [
    "df.fillna(\"\",inplace=True)"
   ]
  },
  {
   "attachments": {},
   "cell_type": "markdown",
   "metadata": {},
   "source": [
    "#### Count Vectorization & TfIDF"
   ]
  },
  {
   "cell_type": "code",
   "execution_count": 9,
   "metadata": {},
   "outputs": [],
   "source": [
    "# Function draws heavily from Jiamei Wang's code: \n",
    "# Technique reference: (Jiamei Wang) https://medium.com/swlh/sentiment-analysis-topic-modeling-for-hotel-reviews-6b83653f5b08\n",
    "# (Separated into sub-functions to allow for faster parameter tuning)\n",
    "\n",
    "def make_tfidf(input_df, text_colname='tokenized_text'):\n",
    "    '''\n",
    "    INPUTS:\n",
    "        input_df - dataframe that contains the combined text summaries\n",
    "        text_colname: name of column that contains the combined text summaries\n",
    "        \n",
    "    OUTPUTS:\n",
    "        dtm_tfidf - document-term matrix in the tfidf format\n",
    "        tfidf_vectorizer - word frequency in the reviews\n",
    "    '''\n",
    "    docs_raw = input_df[text_colname].tolist()\n",
    "\n",
    "    #************   Step 1: Convert to document-term matrix   ************#\n",
    "\n",
    "    #Transform text to vector form using the vectorizer object \n",
    "    cvec = CountVectorizer(strip_accents = 'unicode',\n",
    "                            stop_words = 'english',\n",
    "                            lowercase = True,\n",
    "                            token_pattern = r'\\b[a-zA-Z]{3,}\\b', # num chars > 3 to avoid some meaningless words\n",
    "                            max_df = 0.5,                        # discard words that appear in > 50% of the reviews\n",
    "                            min_df = 10)                         # discard words that appear in < 10 reviews    \n",
    "\n",
    "    #apply transformation\n",
    "    tfidf_vectorizer = TfidfVectorizer(**cvec.get_params())\n",
    "\n",
    "    #convert to document-term matrix\n",
    "    dtm_tfidf = tfidf_vectorizer.fit_transform(docs_raw)  \n",
    "\n",
    "    print(\"The shape of the tfidf is {}, meaning that there are {} non-unique words in {} and {} tokens made through the filtering process.\".\\\n",
    "              format(dtm_tfidf.shape,dtm_tfidf.shape[0], text_colname, dtm_tfidf.shape[1]))\n",
    "    \n",
    "    # return tf_vectorizer, tfidf_vectorizer, dtm_tfidf\n",
    "    return tfidf_vectorizer, dtm_tfidf"
   ]
  },
  {
   "cell_type": "code",
   "execution_count": 10,
   "metadata": {},
   "outputs": [
    {
     "name": "stderr",
     "output_type": "stream",
     "text": [
      "d:\\anaconda3\\lib\\site-packages\\sklearn\\feature_extraction\\text.py:2070: UserWarning: Only (<class 'numpy.float64'>, <class 'numpy.float32'>, <class 'numpy.float16'>) 'dtype' should be used. <class 'numpy.int64'> 'dtype' will be converted to np.float64.\n",
      "  warnings.warn(\n"
     ]
    },
    {
     "name": "stdout",
     "output_type": "stream",
     "text": [
      "The shape of the tfidf is (2484, 16937), meaning that there are 2484 non-unique words in tokenized_text and 16937 tokens made through the filtering process.\n"
     ]
    }
   ],
   "source": [
    "tfidf_vectorizer, dtm_tfidf = make_tfidf(df, 'tokenized_text')"
   ]
  },
  {
   "attachments": {},
   "cell_type": "markdown",
   "metadata": {},
   "source": [
    "#### Grid Search for best LDA model"
   ]
  },
  {
   "cell_type": "code",
   "execution_count": 11,
   "metadata": {},
   "outputs": [],
   "source": [
    "# Define Grid Search Parameters\n",
    "search_params = {'n_components': [5, 10, 20, 30],       # testing suggests it always picks 5 topics as \"best\"\n",
    "                    'learning_decay': [.5, .7, .9]}     # does not always return same \"best\" learning decay"
   ]
  },
  {
   "cell_type": "code",
   "execution_count": 12,
   "metadata": {},
   "outputs": [],
   "source": [
    "# Function draws from Jiamei Wang's code, with modifications & optimizations: \n",
    "# Technique reference: (Jiamei Wang) https://medium.com/swlh/sentiment-analysis-topic-modeling-for-hotel-reviews-6b83653f5b08\n",
    "# (Separated into sub-functions to allow for faster parameter tuning)\n",
    "\n",
    "def lda_gridsearch(dtm_tfidf, search_params):\n",
    "    '''\n",
    "    INPUTS:\n",
    "        dtm_tfidf - document-term matrix in the tfidf format\n",
    "        search_params - a dictionary of parameters to be used in the grid search\n",
    "        \n",
    "    OUTPUTS:\n",
    "        model_gs - the GridSearchCV object\n",
    "        best_lda_model - the best model, as determined by the grid search\n",
    "    '''\n",
    "\n",
    "    #*******   Step 2: GridSearch & parameter tuning to find the optimal LDA model   *******#\n",
    "\n",
    "    # Init the Model\n",
    "    lda = LatentDirichletAllocation()\n",
    "\n",
    "    # Init Grid Search Class\n",
    "    model_gs = GridSearchCV(lda, param_grid=search_params, n_jobs=8, verbose=3)\n",
    "\n",
    "    # Do the Grid Search\n",
    "    model_gs.fit(dtm_tfidf)\n",
    "\n",
    "    #*****  Step 3: Output the optimal lda model and its parameters  *****#\n",
    "\n",
    "    # Best Model\n",
    "    best_lda_model = model_gs.best_estimator_\n",
    "\n",
    "    # Model Parameters\n",
    "    print(\"Best Model's Params: \", model_gs.best_params_)\n",
    "\n",
    "    # Log Likelihood Score: Higher the better\n",
    "    print(\"Model Log Likelihood Score: \", model_gs.best_score_)\n",
    "\n",
    "    # Perplexity: Lower the better. Perplexity = exp(-1. * log-likelihood per word)\n",
    "    print(\"Model Perplexity: \", best_lda_model.perplexity(dtm_tfidf))\n",
    "\n",
    "    return model_gs, best_lda_model"
   ]
  },
  {
   "cell_type": "code",
   "execution_count": 13,
   "metadata": {},
   "outputs": [
    {
     "name": "stdout",
     "output_type": "stream",
     "text": [
      "Fitting 5 folds for each of 12 candidates, totalling 60 fits\n",
      "Best Model's Params:  {'learning_decay': 0.7, 'n_components': 5}\n",
      "Model Log Likelihood Score:  -69916.62459166956\n",
      "Model Perplexity:  24387.628732517267\n"
     ]
    }
   ],
   "source": [
    "model_gs, best_lda_model = lda_gridsearch(dtm_tfidf, search_params)"
   ]
  },
  {
   "attachments": {},
   "cell_type": "markdown",
   "metadata": {},
   "source": [
    "#### Plotting LDA model performance"
   ]
  },
  {
   "cell_type": "code",
   "execution_count": 14,
   "metadata": {},
   "outputs": [],
   "source": [
    "# Function draws from Jiamei Wang's code, with modifications & optimizations: \n",
    "# Technique reference: (Jiamei Wang) https://medium.com/swlh/sentiment-analysis-topic-modeling-for-hotel-reviews-6b83653f5b08\n",
    "# (Separated into sub-functions to allow for faster parameter tuning)\n",
    "\n",
    "def lda_plot_performance(model_gs, search_params):\n",
    "    ''' \n",
    "    INPUTS:\n",
    "        model_gs - the GridSearchCV object\n",
    "        \n",
    "    OUTPUTS:\n",
    "        A graph comparing LDA Model Performance Scores with different params\n",
    "    '''\n",
    "\n",
    "    #***********   Step 4: Compare LDA Model Performance Scores   ***********#\n",
    "\n",
    "    #Get Log Likelihoods from Grid Search Output\n",
    "    gscore=model_gs.cv_results_\n",
    "\n",
    "    log_likelihoods = {}\n",
    "    for i in search_params['learning_decay']:\n",
    "        log_likelihoods[i] = [gscore['mean_test_score'][gscore['params'].index(v)] for v in gscore['params'] if v['learning_decay']==i]\n",
    "\n",
    "    # Show graph\n",
    "    plt.figure(figsize=(12, 8))\n",
    "    for i in log_likelihoods:\n",
    "        plt.plot(search_params['n_components'], log_likelihoods[i], label=i)\n",
    " \n",
    "    plt.title(\"Choosing Optimal LDA Model\")\n",
    "    plt.xlabel(\"Num Topics\")\n",
    "    plt.ylabel(\"Log Likelihood Scores\")\n",
    "    plt.legend(title='Learning decay', loc='best')\n",
    "    plt.show()\n",
    "    \n",
    "    return"
   ]
  },
  {
   "cell_type": "code",
   "execution_count": 15,
   "metadata": {},
   "outputs": [
    {
     "data": {
      "image/png": "[encoded data removed]",
      "text/plain": [
       "<Figure size 1200x800 with 1 Axes>"
      ]
     },
     "metadata": {},
     "output_type": "display_data"
    }
   ],
   "source": [
    "lda_plot_performance(model_gs, search_params)"
   ]
  },
  {
   "attachments": {},
   "cell_type": "markdown",
   "metadata": {},
   "source": [
    "#### (optional) Combined function for creating \"best\" LDA model with performance plot"
   ]
  },
  {
   "cell_type": "code",
   "execution_count": 16,
   "metadata": {},
   "outputs": [],
   "source": [
    "# Technique reference: (Jiamei Wang) https://medium.com/swlh/sentiment-analysis-topic-modeling-for-hotel-reviews-6b83653f5b08\n",
    "# (Separated into sub-functions to allow for more convenient parameter tuning)\n",
    "# Once tuned/optimized, all 3 sub-functions can be run together in one command, wholly recreating the method used in the source referenced above\n",
    "\n",
    "def optimal_lda_model(input_df, text_colname, search_params):\n",
    "    '''\n",
    "    INPUTS:\n",
    "        input_df - dataframe that contains the combined text summaries\n",
    "        text_colname: name of column that contains the combined text summaries\n",
    "        search_params - a dictionary of parameters to be used in the grid search\n",
    "        \n",
    "    OUTPUTS:\n",
    "        best_lda_model - the best model, as determined by the grid search\n",
    "        dtm_tfidf - document-term matrix in the tfidf format\n",
    "        tfidf_vectorizer - word frequency in the reviews\n",
    "    '''\n",
    "    \n",
    "    tfidf_vectorizer, dtm_tfidf = make_tfidf(input_df, text_colname)\n",
    "    model_gs, best_lda_model = lda_gridsearch(dtm_tfidf, search_params)\n",
    "    lda_plot_performance(model_gs, search_params)\n",
    "\n",
    "    return best_lda_model, dtm_tfidf, tfidf_vectorizer"
   ]
  },
  {
   "cell_type": "code",
   "execution_count": 17,
   "metadata": {},
   "outputs": [],
   "source": [
    "# (Same as above, in one single function call)\n",
    "\n",
    "# best_lda_model, dtm_tfidf, tfidf_vectorizer = optimal_lda_model(df, 'combined_text', search_params)"
   ]
  },
  {
   "cell_type": "code",
   "execution_count": null,
   "metadata": {},
   "outputs": [],
   "source": []
  },
  {
   "attachments": {},
   "cell_type": "markdown",
   "metadata": {},
   "source": [
    "#### Display topic keywords & weights"
   ]
  },
  {
   "cell_type": "code",
   "execution_count": 18,
   "metadata": {},
   "outputs": [],
   "source": [
    "# Function excerpted directly with no additional modifications from: (Jiamei Wang)\n",
    "# https://medium.com/swlh/sentiment-analysis-topic-modeling-for-hotel-reviews-6b83653f5b08\n",
    "\n",
    "#Create a function to inspect the topics we created \n",
    "def display_topics(model, feature_names, n_top_words):\n",
    "    '''\n",
    "    INPUTS:\n",
    "        model - the model we created\n",
    "        feature_names - tells us what word each column in the matric represents\n",
    "        n_top_words - number of top words to display\n",
    "    OUTPUTS:\n",
    "        a dataframe that contains the topics we created and the weights of each token\n",
    "    '''\n",
    "    topic_dict = {}\n",
    "    for topic_idx, topic in tqdm(enumerate(model.components_)):\n",
    "        topic_dict[\"Topic %d words\" % (topic_idx+1)]= ['{}'.format(feature_names[i])\n",
    "                        for i in topic.argsort()[:-n_top_words - 1:-1]]\n",
    "        topic_dict[\"Topic %d weights\" % (topic_idx+1)]= ['{:.1f}'.format(topic[i])\n",
    "                        for i in topic.argsort()[:-n_top_words - 1:-1]]\n",
    "    return pd.DataFrame(topic_dict)\n"
   ]
  },
  {
   "cell_type": "code",
   "execution_count": 19,
   "metadata": {},
   "outputs": [
    {
     "name": "stderr",
     "output_type": "stream",
     "text": [
      "5it [00:00, 555.36it/s]\n"
     ]
    },
    {
     "data": {
      "text/html": [
       "<div>\n",
       "<style scoped>\n",
       "    .dataframe tbody tr th:only-of-type {\n",
       "        vertical-align: middle;\n",
       "    }\n",
       "\n",
       "    .dataframe tbody tr th {\n",
       "        vertical-align: top;\n",
       "    }\n",
       "\n",
       "    .dataframe thead th {\n",
       "        text-align: right;\n",
       "    }\n",
       "</style>\n",
       "<table border=\"1\" class=\"dataframe\">\n",
       "  <thead>\n",
       "    <tr style=\"text-align: right;\">\n",
       "      <th></th>\n",
       "      <th>Topic 1 words</th>\n",
       "      <th>Topic 1 weights</th>\n",
       "      <th>Topic 2 words</th>\n",
       "      <th>Topic 2 weights</th>\n",
       "      <th>Topic 3 words</th>\n",
       "      <th>Topic 3 weights</th>\n",
       "      <th>Topic 4 words</th>\n",
       "      <th>Topic 4 weights</th>\n",
       "      <th>Topic 5 words</th>\n",
       "      <th>Topic 5 weights</th>\n",
       "    </tr>\n",
       "  </thead>\n",
       "  <tbody>\n",
       "    <tr>\n",
       "      <th>0</th>\n",
       "      <td>maniac</td>\n",
       "      <td>1.1</td>\n",
       "      <td>anime</td>\n",
       "      <td>46.4</td>\n",
       "      <td>hui</td>\n",
       "      <td>0.2</td>\n",
       "      <td>kim</td>\n",
       "      <td>6.8</td>\n",
       "      <td>hostages</td>\n",
       "      <td>1.0</td>\n",
       "    </tr>\n",
       "    <tr>\n",
       "      <th>1</th>\n",
       "      <td>clap</td>\n",
       "      <td>0.2</td>\n",
       "      <td>netflix</td>\n",
       "      <td>43.4</td>\n",
       "      <td>seol</td>\n",
       "      <td>0.2</td>\n",
       "      <td>jung</td>\n",
       "      <td>6.4</td>\n",
       "      <td>carlisle</td>\n",
       "      <td>0.2</td>\n",
       "    </tr>\n",
       "    <tr>\n",
       "      <th>2</th>\n",
       "      <td>whatsoever</td>\n",
       "      <td>0.2</td>\n",
       "      <td>seasons</td>\n",
       "      <td>37.1</td>\n",
       "      <td>maniac</td>\n",
       "      <td>0.2</td>\n",
       "      <td>soo</td>\n",
       "      <td>6.1</td>\n",
       "      <td>georgian</td>\n",
       "      <td>0.2</td>\n",
       "    </tr>\n",
       "    <tr>\n",
       "      <th>3</th>\n",
       "      <td>manic</td>\n",
       "      <td>0.2</td>\n",
       "      <td>comedy</td>\n",
       "      <td>35.5</td>\n",
       "      <td>shim</td>\n",
       "      <td>0.2</td>\n",
       "      <td>hee</td>\n",
       "      <td>5.3</td>\n",
       "      <td>octane</td>\n",
       "      <td>0.2</td>\n",
       "    </tr>\n",
       "    <tr>\n",
       "      <th>4</th>\n",
       "      <td>cells</td>\n",
       "      <td>0.2</td>\n",
       "      <td>manga</td>\n",
       "      <td>35.2</td>\n",
       "      <td>hak</td>\n",
       "      <td>0.2</td>\n",
       "      <td>min</td>\n",
       "      <td>5.2</td>\n",
       "      <td>assassinate</td>\n",
       "      <td>0.2</td>\n",
       "    </tr>\n",
       "    <tr>\n",
       "      <th>5</th>\n",
       "      <td>ascent</td>\n",
       "      <td>0.2</td>\n",
       "      <td>school</td>\n",
       "      <td>30.4</td>\n",
       "      <td>chae</td>\n",
       "      <td>0.2</td>\n",
       "      <td>jin</td>\n",
       "      <td>5.1</td>\n",
       "      <td>tactical</td>\n",
       "      <td>0.2</td>\n",
       "    </tr>\n",
       "    <tr>\n",
       "      <th>6</th>\n",
       "      <td>caravan</td>\n",
       "      <td>0.2</td>\n",
       "      <td>bbc</td>\n",
       "      <td>29.9</td>\n",
       "      <td>hostages</td>\n",
       "      <td>0.2</td>\n",
       "      <td>korean</td>\n",
       "      <td>5.1</td>\n",
       "      <td>seize</td>\n",
       "      <td>0.2</td>\n",
       "    </tr>\n",
       "    <tr>\n",
       "      <th>7</th>\n",
       "      <td>battery</td>\n",
       "      <td>0.2</td>\n",
       "      <td>crime</td>\n",
       "      <td>28.8</td>\n",
       "      <td>euphoria</td>\n",
       "      <td>0.2</td>\n",
       "      <td>yoon</td>\n",
       "      <td>5.0</td>\n",
       "      <td>hostage</td>\n",
       "      <td>0.2</td>\n",
       "    </tr>\n",
       "    <tr>\n",
       "      <th>8</th>\n",
       "      <td>hysterical</td>\n",
       "      <td>0.2</td>\n",
       "      <td>game</td>\n",
       "      <td>28.7</td>\n",
       "      <td>fifa</td>\n",
       "      <td>0.2</td>\n",
       "      <td>hyun</td>\n",
       "      <td>4.8</td>\n",
       "      <td>thrust</td>\n",
       "      <td>0.2</td>\n",
       "    </tr>\n",
       "    <tr>\n",
       "      <th>9</th>\n",
       "      <td>pharmaceutical</td>\n",
       "      <td>0.2</td>\n",
       "      <td>pilot</td>\n",
       "      <td>28.4</td>\n",
       "      <td>utilized</td>\n",
       "      <td>0.2</td>\n",
       "      <td>joon</td>\n",
       "      <td>4.4</td>\n",
       "      <td>sanders</td>\n",
       "      <td>0.2</td>\n",
       "    </tr>\n",
       "  </tbody>\n",
       "</table>\n",
       "</div>"
      ],
      "text/plain": [
       "    Topic 1 words Topic 1 weights Topic 2 words Topic 2 weights Topic 3 words  \\\n",
       "0          maniac             1.1         anime            46.4           hui   \n",
       "1            clap             0.2       netflix            43.4          seol   \n",
       "2      whatsoever             0.2       seasons            37.1        maniac   \n",
       "3           manic             0.2        comedy            35.5          shim   \n",
       "4           cells             0.2         manga            35.2           hak   \n",
       "5          ascent             0.2        school            30.4          chae   \n",
       "6         caravan             0.2           bbc            29.9      hostages   \n",
       "7         battery             0.2         crime            28.8      euphoria   \n",
       "8      hysterical             0.2          game            28.7          fifa   \n",
       "9  pharmaceutical             0.2         pilot            28.4      utilized   \n",
       "\n",
       "  Topic 3 weights Topic 4 words Topic 4 weights Topic 5 words Topic 5 weights  \n",
       "0             0.2           kim             6.8      hostages             1.0  \n",
       "1             0.2          jung             6.4      carlisle             0.2  \n",
       "2             0.2           soo             6.1      georgian             0.2  \n",
       "3             0.2           hee             5.3        octane             0.2  \n",
       "4             0.2           min             5.2   assassinate             0.2  \n",
       "5             0.2           jin             5.1      tactical             0.2  \n",
       "6             0.2        korean             5.1         seize             0.2  \n",
       "7             0.2          yoon             5.0       hostage             0.2  \n",
       "8             0.2          hyun             4.8        thrust             0.2  \n",
       "9             0.2          joon             4.4       sanders             0.2  "
      ]
     },
     "execution_count": 19,
     "metadata": {},
     "output_type": "execute_result"
    }
   ],
   "source": [
    "lda_topic_words = display_topics(best_lda_model, tfidf_vectorizer.get_feature_names_out(), n_top_words = 30) \n",
    "lda_topic_words.head(10)"
   ]
  },
  {
   "attachments": {},
   "cell_type": "markdown",
   "metadata": {},
   "source": [
    "#### Visualizing LDA output with the pyLDAvis library"
   ]
  },
  {
   "cell_type": "code",
   "execution_count": 20,
   "metadata": {},
   "outputs": [
    {
     "name": "stderr",
     "output_type": "stream",
     "text": [
      "d:\\anaconda3\\lib\\site-packages\\pyLDAvis\\_prepare.py:243: FutureWarning: In a future version of pandas all arguments of DataFrame.drop except for the argument 'labels' will be keyword-only.\n",
      "  default_term_info = default_term_info.sort_values(\n"
     ]
    },
    {
     "data": {
      "text/html": [
       "\n",
       "<link rel=\"stylesheet\" type=\"text/css\" href=\"https://cdn.jsdelivr.net/gh/bmabey/pyLDAvis@3.4.0/pyLDAvis/js/ldavis.v1.0.0.css\">\n",
       "\n",
       "\n",
       "<div id=\"ldavis_el4332420501771660166554447888\" style=\"background-color:white;\"></div>\n",
       "<script type=\"text/javascript\">\n",
       "\n",
       "var ldavis_el4332420501771660166554447888_data = {\"mdsDat\": {\"x\": [-0.09227625982870963, 0.03269786101973925, 0.019883273121356917, 0.01987394448190205, 0.01982118120571143], \"y\": [0.00019320259386872003, 0.0016891905740500468, -0.0008544262266034156, -0.0007694145391254383, -0.00025855240218990063], \"topics\": [1, 2, 3, 4, 5], \"cluster\": [1, 1, 1, 1, 1], \"Freq\": [93.20038246260698, 2.151179564451234, 1.5504478628840515, 1.5501106237906375, 1.5478794862670933]}, \"tinfo\": {\"Term\": [\"kim\", \"lee\", \"korean\", \"park\", \"jin\", \"korea\", \"shin\", \"min\", \"kang\", \"jun\", \"han\", \"jung\", \"sung\", \"choi\", \"soo\", \"moon\", \"woo\", \"soon\", \"reporter\", \"identity\", \"national\", \"daily\", \"couple\", \"parent\", \"monster\", \"assistant\", \"seek\", \"read\", \"government\", \"based\", \"anime\", \"netflix\", \"seasons\", \"comedy\", \"manga\", \"school\", \"bbc\", \"crime\", \"game\", \"pilot\", \"novel\", \"voiced\", \"team\", \"man\", \"john\", \"detective\", \"japanese\", \"guest\", \"animation\", \"police\", \"book\", \"million\", \"music\", \"murder\", \"channel\", \"video\", \"michael\", \"city\", \"dvd\", \"abc\", \"hee\", \"hyun\", \"eun\", \"joon\", \"seo\", \"yoon\", \"joo\", \"yeon\", \"kyung\", \"tae\", \"yoo\", \"soo\", \"jung\", \"jang\", \"hye\", \"jae\", \"seung\", \"hae\", \"wook\", \"hyuk\", \"chul\", \"sang\", \"webtoon\", \"hwang\", \"sook\", \"myung\", \"seok\", \"dong\", \"gong\", \"bong\", \"min\", \"woo\", \"choi\", \"jin\", \"hoon\", \"cha\", \"korean\", \"kim\", \"kang\", \"jeong\", \"sung\", \"lee\", \"maniac\", \"daum\", \"resultant\", \"ascribe\", \"jumped\", \"messaging\", \"succeeded\", \"geum\", \"median\", \"seon\", \"pil\", \"considerations\", \"infrequent\", \"drafts\", \"losses\", \"tearfully\", \"lexicon\", \"deok\", \"specified\", \"disagreed\", \"condo\", \"woong\", \"epitomize\", \"recognized\", \"tuxedo\", \"moonves\", \"melodic\", \"scarface\", \"bratty\", \"utilized\", \"clap\", \"whatsoever\", \"manic\", \"cells\", \"ascent\", \"caravan\", \"battery\", \"hysterical\", \"handheld\", \"hak\", \"eui\", \"pharmaceutical\", \"complication\", \"schizophrenia\", \"disorders\", \"assured\", \"exploitation\", \"sven\", \"solved\", \"surrealism\", \"maryland\", \"mania\", \"indoor\", \"ransom\", \"wrestler\", \"usage\", \"reckless\", \"ideal\", \"merrill\", \"norwegian\", \"assure\", \"hostages\", \"daum\", \"resultant\", \"ascribe\", \"jumped\", \"messaging\", \"succeeded\", \"geum\", \"median\", \"seon\", \"pil\", \"considerations\", \"infrequent\", \"drafts\", \"losses\", \"tearfully\", \"lexicon\", \"deok\", \"specified\", \"disagreed\", \"condo\", \"woong\", \"epitomize\", \"recognized\", \"tuxedo\", \"moonves\", \"melodic\", \"scarface\", \"bratty\", \"utilized\", \"carlisle\", \"eui\", \"georgian\", \"octane\", \"hak\", \"consumers\", \"assassinate\", \"tactical\", \"seize\", \"hostage\", \"thrust\", \"sanders\", \"captive\", \"shooter\", \"chill\", \"rogue\", \"surgeon\", \"israeli\", \"suspense\", \"blackmail\", \"painting\", \"compel\", \"disambiguation\", \"reasons\", \"federal\", \"assassination\", \"desperate\", \"duncan\", \"operate\", \"wrong\", \"hui\", \"ellen\", \"daum\", \"resultant\", \"ascribe\", \"jumped\", \"messaging\", \"succeeded\", \"geum\", \"median\", \"seon\", \"pil\", \"considerations\", \"infrequent\", \"drafts\", \"losses\", \"tearfully\", \"lexicon\", \"deok\", \"specified\", \"disagreed\", \"condo\", \"woong\", \"epitomize\", \"recognized\", \"tuxedo\", \"moonves\", \"melodic\", \"scarface\", \"bratty\", \"utilized\", \"reused\", \"enduring\", \"eui\", \"hak\", \"consumers\", \"trombone\", \"hui\", \"seol\", \"maniac\", \"shim\", \"chae\", \"hostages\", \"euphoria\", \"fifa\", \"thrice\", \"hyung\", \"municipality\", \"interspecies\", \"solver\", \"aborted\", \"clap\", \"yoo\", \"utility\", \"nam\", \"tutelage\", \"hee\", \"refute\", \"judicial\", \"impactful\", \"webtoon\", \"tae\"], \"Freq\": [8.0, 11.0, 4.0, 10.0, 2.0, 2.0, 2.0, 1.0, 2.0, 2.0, 2.0, 1.0, 2.0, 1.0, 1.0, 6.0, 1.0, 7.0, 6.0, 6.0, 7.0, 6.0, 6.0, 6.0, 6.0, 7.0, 6.0, 6.0, 7.0, 6.0, 38.98905367211944, 36.53815956372595, 31.15872063644904, 29.85509244061295, 29.57144039025204, 25.564110813251084, 25.15185124259912, 24.230064160479113, 24.171471192060604, 23.84653476943129, 23.452736682134223, 23.417882258874755, 22.991512068478784, 22.141908230396428, 21.501204890378588, 21.510025869078937, 21.44950010975244, 21.43942607492508, 21.13954884341623, 21.131843499278084, 20.883961646544165, 20.75414688069407, 20.536867485739787, 20.091496515447364, 19.99757283945452, 19.91760583980941, 19.899663610329384, 19.61289688962519, 19.580895496907587, 19.40846035393632, 0.9413821424003183, 0.8437757099212748, 0.7763101784109478, 0.7764134147180882, 0.721331883795345, 0.8775838270175662, 0.5771286563081433, 0.6070910702538943, 0.543934974422465, 0.6170241565088594, 0.708247497826144, 1.074547321495174, 1.1220992579747733, 0.461319725072126, 0.43477840733893225, 0.6941223385195052, 0.39520445513805014, 0.3736016122513889, 0.37243078780352346, 0.3438131974632801, 0.3119787645381527, 0.5205115037149315, 0.35972980439374175, 0.31367929553735846, 0.28839815507542726, 0.2915314686497379, 0.2759493046106754, 0.4794830356461711, 0.31191687409796715, 0.30103963095400715, 0.9197439273258908, 0.6655032645743665, 0.7567357426292736, 0.9097884848463549, 0.37732186429314885, 0.4368609504873706, 0.9005227687808638, 1.207083987316638, 0.5486590382599162, 0.40270112676159847, 0.44561066891048734, 0.5353039189001015, 0.14808118932923459, 0.026935686522815177, 0.026942280305233313, 0.026941430475767622, 0.02694276700369374, 0.026942080415775362, 0.026941283453008467, 0.0269350744553385, 0.026941151851878523, 0.026934952958531447, 0.026934767520889243, 0.026940841150463787, 0.026941303212359116, 0.0269412698751483, 0.02693983046738007, 0.026942549745592077, 0.026941283163019136, 0.026937643135709344, 0.02694191513752906, 0.02694104235410193, 0.02694101378544759, 0.02693497754124994, 0.02694098395839688, 0.026942577078734233, 0.02694392061978257, 0.026942324126014595, 0.026940772628816525, 0.02694206466297686, 0.02694357903710028, 0.026944285927339735, 0.027538320516094224, 0.02749151693666431, 0.027279574397815354, 0.02720891164010048, 0.02717334103949017, 0.027167291138181816, 0.02714337167705979, 0.027126221916554675, 0.0270949785822949, 0.0269454110261781, 0.026944039700523188, 0.027106340394557265, 0.02709139143194944, 0.02708089609158088, 0.027065766925529415, 0.02706219518796524, 0.02705387319865394, 0.02705005338822308, 0.02704739315189037, 0.027031707127871032, 0.027031217937345708, 0.02702786475626977, 0.027026147076637197, 0.02702514523204386, 0.027017542705714045, 0.02701366243815299, 0.027004067884275135, 0.02700310631239584, 0.02699873395539299, 0.02699867720439003, 0.026992553768070724, 0.136731737685512, 0.026930657233777702, 0.026937226320955236, 0.0269364002633724, 0.026937736600262798, 0.026937050131864156, 0.026936253292350908, 0.026930045574364014, 0.02693612170892599, 0.026929923784525286, 0.026929738375409545, 0.026935814488114086, 0.02693627303931264, 0.02693623970910013, 0.026934809060919298, 0.026937519384457008, 0.02693625299128917, 0.026932613818170074, 0.026936879164307356, 0.02693601223744722, 0.02693598366711081, 0.026929948624672025, 0.026935953833356327, 0.0269375467179056, 0.026938890046819947, 0.026937293798493495, 0.026935742563214144, 0.026937034353566404, 0.02693854854066801, 0.02693925531026473, 0.027543347309966243, 0.026939009105322417, 0.027267232841977462, 0.027228571435770545, 0.026940380280269557, 0.026937229042710027, 0.02711394799755667, 0.027083081812101742, 0.027077488650773533, 0.027068135427502575, 0.027059745888006897, 0.027039999951902618, 0.027028544208351865, 0.027003414675841008, 0.027002772126779033, 0.026998515633013608, 0.02699024403832461, 0.026988971082908274, 0.026980472576663746, 0.026976699052360074, 0.02697516273758519, 0.026971936993731117, 0.026964707180675937, 0.026962048873134376, 0.026955130246817, 0.026953635575350698, 0.026952669331174833, 0.026952209228791612, 0.02695042866335523, 0.026945307623532724, 0.026944593502432126, 0.026943970373561263, 0.026898543899945657, 0.026905106767651826, 0.026904281507488245, 0.02690561660447552, 0.02690493075541065, 0.02690413468809363, 0.02689793250242382, 0.02690400320540263, 0.026897811142499384, 0.026897625908081344, 0.026903692904339575, 0.026904154417899315, 0.02690412110276167, 0.0269026832727324, 0.026905399603581674, 0.026904134378440067, 0.026900498363889563, 0.026904759980650925, 0.026903893872608026, 0.02690386531790582, 0.026897835697565025, 0.026903835478292216, 0.026905426871601433, 0.026906768962050548, 0.0269051741807859, 0.026903624410127752, 0.026904915020942565, 0.026906427756370206, 0.02690713385789991, 0.026903662586842476, 0.026904806197366776, 0.02690688789695247, 0.02690825771330733, 0.026905109521155067, 0.026904694526358762, 0.02691246535084569, 0.026909245459483436, 0.026908661848378923, 0.02690861458555897, 0.02690823628200547, 0.026908085850801584, 0.026907447798487364, 0.026907210594740466, 0.026906946880179132, 0.02690667284928473, 0.026906652293520066, 0.026906557474872812, 0.026906540044771863, 0.026906437719968222, 0.026906420611892863, 0.02690637712230782, 0.02690626930687422, 0.02690624989838205, 0.026906207766597426, 0.026906184965495846, 0.02690617614760714, 0.02690597908633824, 0.026905942564838126, 0.02690583143482487, 0.026905820812933297], \"Total\": [8.0, 11.0, 4.0, 10.0, 2.0, 2.0, 2.0, 1.0, 2.0, 2.0, 2.0, 1.0, 2.0, 1.0, 1.0, 6.0, 1.0, 7.0, 6.0, 6.0, 7.0, 6.0, 6.0, 6.0, 6.0, 7.0, 6.0, 6.0, 7.0, 6.0, 39.10516183847204, 36.65439676822444, 31.274829272498927, 29.97123916351856, 29.687551738323712, 25.680484413775304, 25.26796305453898, 24.34625574820737, 24.287638586234788, 23.96264982745833, 23.568870446258305, 23.53398997220982, 23.107820943051923, 22.25820964645819, 21.617315112024166, 21.62632846295574, 21.56566029128829, 21.555541503213195, 21.255657033582608, 21.248035004130337, 21.000114131620688, 20.870288163571523, 20.652997380110023, 20.207857590221398, 20.113709476484402, 20.03373191738622, 20.01577426106464, 19.7290589825871, 19.697003803045774, 19.52456664352835, 1.2138600917560596, 1.1083486608239668, 1.030213641046419, 1.0433697803215827, 0.9782411216917398, 1.2198739078717244, 0.8288625797829688, 0.8730882010904766, 0.7937218471436175, 0.902320777279807, 1.0429715560033839, 1.6250479060455003, 1.6999158450951073, 0.7164362574146784, 0.6889713512632265, 1.1304594628797846, 0.6607411533354804, 0.6273162551815169, 0.6400829179550596, 0.5939194185306438, 0.5616739428480008, 0.965794804805692, 0.6694739703611498, 0.5862021806574714, 0.5474668389408539, 0.5535251735628565, 0.5259624964843741, 0.9569932854577454, 0.6316720810551738, 0.6102207685173868, 1.908606885387933, 1.452955218513237, 1.777716423428616, 2.4789065416966096, 0.8022686307862439, 1.0511481038489092, 4.367122565159273, 8.327674887123012, 2.041702482898369, 0.996176361811371, 2.0477832611826967, 11.18969491290412, 0.5897820060149999, 0.3500579568428831, 0.37334790125350764, 0.37339884975966053, 0.3737397407014532, 0.3807058360198001, 0.38078337332444917, 0.3846782924105947, 0.3852379156097367, 0.3887297833279274, 0.3889786781475398, 0.39159771549284483, 0.3918718947635347, 0.3919355233087956, 0.3921368744091135, 0.3925576867721289, 0.393405101337116, 0.39338839538032067, 0.39384029337600246, 0.3949960922110938, 0.395633910356316, 0.3961721311244247, 0.3965824267463993, 0.3967217937812456, 0.39689045750021035, 0.3970261252455017, 0.3971739662486732, 0.3973254714730252, 0.3975448252251692, 0.3976696893281971, 0.46544334447059893, 0.5958229250597006, 0.5467992767134843, 0.5856271381028947, 0.6181372523508472, 0.6337266888779752, 0.6399927919484406, 0.6769126514220151, 0.6877083236421805, 0.39988455225004527, 0.39866449885840777, 0.9419985141416181, 0.9249556968049565, 0.7586311144452759, 0.8007826663116938, 0.770993076708565, 0.810903720301213, 0.8451075648099906, 0.8214771695373337, 0.8603442463046367, 0.8817257547882592, 1.2803258762412422, 0.9124888767961977, 0.8957087863037841, 1.385483367627856, 0.9305442192924477, 1.0281633148545448, 1.440877344271909, 1.1119102147530033, 2.784335943616258, 1.083680091742269, 0.6725753475838753, 0.3500579568428831, 0.37334790125350764, 0.37339884975966053, 0.3737397407014532, 0.3807058360198001, 0.38078337332444917, 0.3846782924105947, 0.3852379156097367, 0.3887297833279274, 0.3889786781475398, 0.39159771549284483, 0.3918718947635347, 0.3919355233087956, 0.3921368744091135, 0.3925576867721289, 0.393405101337116, 0.39338839538032067, 0.39384029337600246, 0.3949960922110938, 0.395633910356316, 0.3961721311244247, 0.3965824267463993, 0.3967217937812456, 0.39689045750021035, 0.3970261252455017, 0.3971739662486732, 0.3973254714730252, 0.3975448252251692, 0.3976696893281971, 0.590179067077196, 0.39866449885840777, 0.7187996139546652, 0.7507444704428464, 0.39988455225004527, 0.3982317540089958, 1.2715562543026724, 0.9744068318199275, 0.9669175347610925, 1.892340528567937, 1.0999416449735655, 1.7515157772023977, 1.2225994116537107, 1.5408958631587497, 1.530231073265937, 2.3793364216208417, 3.6694783186827737, 1.8486374460539436, 1.819008865495211, 1.8509962028900275, 2.01207070250772, 2.008880419687904, 3.17537486884486, 2.2410725575143706, 2.833189368592573, 3.1744475488936468, 3.082211907552747, 3.3762849136055033, 3.0299634938318056, 3.9000211813910655, 0.4404285732331352, 4.889954958215784, 0.3500579568428831, 0.37334790125350764, 0.37339884975966053, 0.3737397407014532, 0.3807058360198001, 0.38078337332444917, 0.3846782924105947, 0.3852379156097367, 0.3887297833279274, 0.3889786781475398, 0.39159771549284483, 0.3918718947635347, 0.3919355233087956, 0.3921368744091135, 0.3925576867721289, 0.393405101337116, 0.39338839538032067, 0.39384029337600246, 0.3949960922110938, 0.395633910356316, 0.3961721311244247, 0.3965824267463993, 0.3967217937812456, 0.39689045750021035, 0.3970261252455017, 0.3971739662486732, 0.3973254714730252, 0.3975448252251692, 0.3976696893281971, 0.3977231943149954, 0.39799349407074996, 0.39866449885840777, 0.39988455225004527, 0.3982317540089958, 0.39827334244676776, 0.4404285732331352, 0.41173748743785654, 0.5897820060149999, 0.41499673924883734, 0.5148264130179863, 0.6725753475838753, 1.356734562287593, 0.9885510170769947, 0.4090685766347035, 0.5123537693308818, 0.8029309058038259, 0.4517232736672597, 0.4546217417813408, 0.42705309328103547, 0.46544334447059893, 1.0429715560033839, 0.4244027923350943, 0.6722621863885834, 0.5613841526757387, 1.2138600917560596, 0.48687382099951687, 0.49300859968829536, 0.49856355547455555, 0.6694739703611498, 0.902320777279807], \"Category\": [\"Default\", \"Default\", \"Default\", \"Default\", \"Default\", \"Default\", \"Default\", \"Default\", \"Default\", \"Default\", \"Default\", \"Default\", \"Default\", \"Default\", \"Default\", \"Default\", \"Default\", \"Default\", \"Default\", \"Default\", \"Default\", \"Default\", \"Default\", \"Default\", \"Default\", \"Default\", \"Default\", \"Default\", \"Default\", \"Default\", \"Topic1\", \"Topic1\", \"Topic1\", \"Topic1\", \"Topic1\", \"Topic1\", \"Topic1\", \"Topic1\", \"Topic1\", \"Topic1\", \"Topic1\", \"Topic1\", \"Topic1\", \"Topic1\", \"Topic1\", \"Topic1\", \"Topic1\", \"Topic1\", \"Topic1\", \"Topic1\", \"Topic1\", \"Topic1\", \"Topic1\", \"Topic1\", \"Topic1\", \"Topic1\", \"Topic1\", \"Topic1\", \"Topic1\", \"Topic1\", \"Topic2\", \"Topic2\", \"Topic2\", \"Topic2\", \"Topic2\", \"Topic2\", \"Topic2\", \"Topic2\", \"Topic2\", \"Topic2\", \"Topic2\", \"Topic2\", \"Topic2\", \"Topic2\", \"Topic2\", \"Topic2\", \"Topic2\", \"Topic2\", \"Topic2\", \"Topic2\", \"Topic2\", \"Topic2\", \"Topic2\", \"Topic2\", \"Topic2\", \"Topic2\", \"Topic2\", \"Topic2\", \"Topic2\", \"Topic2\", \"Topic2\", \"Topic2\", \"Topic2\", \"Topic2\", \"Topic2\", \"Topic2\", \"Topic2\", \"Topic2\", \"Topic2\", \"Topic2\", \"Topic2\", \"Topic2\", \"Topic3\", \"Topic3\", \"Topic3\", \"Topic3\", \"Topic3\", \"Topic3\", \"Topic3\", \"Topic3\", \"Topic3\", \"Topic3\", \"Topic3\", \"Topic3\", \"Topic3\", \"Topic3\", \"Topic3\", \"Topic3\", \"Topic3\", \"Topic3\", \"Topic3\", \"Topic3\", \"Topic3\", \"Topic3\", \"Topic3\", \"Topic3\", \"Topic3\", \"Topic3\", \"Topic3\", \"Topic3\", \"Topic3\", \"Topic3\", \"Topic3\", \"Topic3\", \"Topic3\", \"Topic3\", \"Topic3\", \"Topic3\", \"Topic3\", \"Topic3\", \"Topic3\", \"Topic3\", \"Topic3\", \"Topic3\", \"Topic3\", \"Topic3\", \"Topic3\", \"Topic3\", \"Topic3\", \"Topic3\", \"Topic3\", \"Topic3\", \"Topic3\", \"Topic3\", \"Topic3\", \"Topic3\", \"Topic3\", \"Topic3\", \"Topic3\", \"Topic3\", \"Topic3\", \"Topic3\", \"Topic3\", \"Topic4\", \"Topic4\", \"Topic4\", \"Topic4\", \"Topic4\", \"Topic4\", \"Topic4\", \"Topic4\", \"Topic4\", \"Topic4\", \"Topic4\", \"Topic4\", \"Topic4\", \"Topic4\", \"Topic4\", \"Topic4\", \"Topic4\", \"Topic4\", \"Topic4\", \"Topic4\", \"Topic4\", \"Topic4\", \"Topic4\", \"Topic4\", \"Topic4\", \"Topic4\", \"Topic4\", \"Topic4\", \"Topic4\", \"Topic4\", \"Topic4\", \"Topic4\", \"Topic4\", \"Topic4\", \"Topic4\", \"Topic4\", \"Topic4\", \"Topic4\", \"Topic4\", \"Topic4\", \"Topic4\", \"Topic4\", \"Topic4\", \"Topic4\", \"Topic4\", \"Topic4\", \"Topic4\", \"Topic4\", \"Topic4\", \"Topic4\", \"Topic4\", \"Topic4\", \"Topic4\", \"Topic4\", \"Topic4\", \"Topic4\", \"Topic4\", \"Topic4\", \"Topic4\", \"Topic4\", \"Topic4\", \"Topic4\", \"Topic5\", \"Topic5\", \"Topic5\", \"Topic5\", \"Topic5\", \"Topic5\", \"Topic5\", \"Topic5\", \"Topic5\", \"Topic5\", \"Topic5\", \"Topic5\", \"Topic5\", \"Topic5\", \"Topic5\", \"Topic5\", \"Topic5\", \"Topic5\", \"Topic5\", \"Topic5\", \"Topic5\", \"Topic5\", \"Topic5\", \"Topic5\", \"Topic5\", \"Topic5\", \"Topic5\", \"Topic5\", \"Topic5\", \"Topic5\", \"Topic5\", \"Topic5\", \"Topic5\", \"Topic5\", \"Topic5\", \"Topic5\", \"Topic5\", \"Topic5\", \"Topic5\", \"Topic5\", \"Topic5\", \"Topic5\", \"Topic5\", \"Topic5\", \"Topic5\", \"Topic5\", \"Topic5\", \"Topic5\", \"Topic5\", \"Topic5\", \"Topic5\", \"Topic5\", \"Topic5\", \"Topic5\", \"Topic5\", \"Topic5\", \"Topic5\", \"Topic5\", \"Topic5\", \"Topic5\"], \"logprob\": [30.0, 29.0, 28.0, 27.0, 26.0, 25.0, 24.0, 23.0, 22.0, 21.0, 20.0, 19.0, 18.0, 17.0, 16.0, 15.0, 14.0, 13.0, 12.0, 11.0, 10.0, 9.0, 8.0, 7.0, 6.0, 5.0, 4.0, 3.0, 2.0, 1.0, -6.5562, -6.6212, -6.7804, -6.8232, -6.8327, -6.9783, -6.9946, -7.0319, -7.0343, -7.0479, -7.0645, -7.066, -7.0844, -7.122, -7.1514, -7.151, -7.1538, -7.1543, -7.1684, -7.1687, -7.1805, -7.1868, -7.1973, -7.2192, -7.2239, -7.2279, -7.2288, -7.2433, -7.245, -7.2538, -6.5112, -6.6206, -6.704, -6.7038, -6.7774, -6.5814, -7.0005, -6.9499, -7.0597, -6.9336, -6.7957, -6.3789, -6.3356, -7.2244, -7.2837, -6.8159, -7.3791, -7.4353, -7.4385, -7.5184, -7.6156, -7.1037, -7.4732, -7.6102, -7.6942, -7.6834, -7.7383, -7.1858, -7.6158, -7.6513, -6.5344, -6.858, -6.7295, -6.5453, -7.4254, -7.2789, -6.5556, -6.2626, -7.0511, -7.3603, -7.2591, -7.0757, -8.0333, -9.7376, -9.7374, -9.7374, -9.7373, -9.7374, -9.7374, -9.7376, -9.7374, -9.7376, -9.7376, -9.7374, -9.7374, -9.7374, -9.7375, -9.7374, -9.7374, -9.7375, -9.7374, -9.7374, -9.7374, -9.7376, -9.7374, -9.7374, -9.7373, -9.7374, -9.7374, -9.7374, -9.7373, -9.7373, -9.7155, -9.7172, -9.7249, -9.7275, -9.7288, -9.729, -9.7299, -9.7306, -9.7317, -9.7372, -9.7373, -9.7313, -9.7318, -9.7322, -9.7328, -9.7329, -9.7332, -9.7334, -9.7335, -9.7341, -9.7341, -9.7342, -9.7343, -9.7343, -9.7346, -9.7347, -9.7351, -9.7351, -9.7353, -9.7353, -9.7355, -8.1128, -9.7376, -9.7373, -9.7374, -9.7373, -9.7373, -9.7374, -9.7376, -9.7374, -9.7376, -9.7376, -9.7374, -9.7374, -9.7374, -9.7374, -9.7373, -9.7374, -9.7375, -9.7373, -9.7374, -9.7374, -9.7376, -9.7374, -9.7373, -9.7373, -9.7373, -9.7374, -9.7373, -9.7373, -9.7373, -9.7151, -9.7373, -9.7252, -9.7266, -9.7372, -9.7373, -9.7308, -9.7319, -9.7321, -9.7325, -9.7328, -9.7335, -9.734, -9.7349, -9.7349, -9.7351, -9.7354, -9.7354, -9.7357, -9.7359, -9.7359, -9.736, -9.7363, -9.7364, -9.7367, -9.7367, -9.7368, -9.7368, -9.7368, -9.737, -9.7371, -9.7371, -9.7373, -9.7371, -9.7371, -9.7371, -9.7371, -9.7371, -9.7374, -9.7371, -9.7374, -9.7374, -9.7371, -9.7371, -9.7371, -9.7372, -9.7371, -9.7371, -9.7373, -9.7371, -9.7371, -9.7371, -9.7374, -9.7371, -9.7371, -9.737, -9.7371, -9.7371, -9.7371, -9.737, -9.737, -9.7371, -9.7371, -9.737, -9.737, -9.7371, -9.7371, -9.7368, -9.7369, -9.737, -9.737, -9.737, -9.737, -9.737, -9.737, -9.737, -9.737, -9.737, -9.737, -9.737, -9.737, -9.737, -9.737, -9.737, -9.737, -9.737, -9.737, -9.737, -9.7371, -9.7371, -9.7371, -9.7371], \"loglift\": [30.0, 29.0, 28.0, 27.0, 26.0, 25.0, 24.0, 23.0, 22.0, 21.0, 20.0, 19.0, 18.0, 17.0, 16.0, 15.0, 14.0, 13.0, 12.0, 11.0, 10.0, 9.0, 8.0, 7.0, 6.0, 5.0, 4.0, 3.0, 2.0, 1.0, 0.0674, 0.0672, 0.0667, 0.0665, 0.0665, 0.0659, 0.0658, 0.0656, 0.0656, 0.0656, 0.0655, 0.0655, 0.0654, 0.0652, 0.065, 0.065, 0.065, 0.065, 0.0649, 0.0649, 0.0649, 0.0648, 0.0648, 0.0646, 0.0646, 0.0646, 0.0646, 0.0645, 0.0645, 0.0645, 3.5849, 3.5664, 3.5562, 3.5436, 3.5345, 3.5098, 3.4772, 3.4758, 3.4613, 3.4591, 3.4521, 3.4255, 3.4238, 3.399, 3.3788, 3.3514, 3.3252, 3.3209, 3.2976, 3.2925, 3.2512, 3.221, 3.218, 3.2139, 3.1982, 3.198, 3.1941, 3.1481, 3.1335, 3.1326, 3.1091, 3.0583, 2.9851, 2.8368, 3.0848, 2.9611, 2.2603, 1.9078, 2.5251, 2.9334, 2.3141, 0.7992, 2.7846, 1.602, 1.5378, 1.5376, 1.5368, 1.5183, 1.5181, 1.5076, 1.5064, 1.4972, 1.4965, 1.49, 1.4894, 1.4892, 1.4886, 1.4876, 1.4854, 1.4854, 1.4844, 1.4814, 1.4798, 1.4782, 1.4774, 1.4771, 1.4767, 1.4763, 1.4759, 1.4756, 1.4751, 1.4748, 1.3392, 1.0906, 1.1687, 1.0975, 1.0422, 1.017, 1.0063, 0.9496, 0.9326, 1.4693, 1.4723, 0.6184, 0.6361, 0.8339, 0.7793, 0.8171, 0.7663, 0.7249, 0.7531, 0.7063, 0.6817, 0.3086, 0.6473, 0.6658, 0.2293, 0.6272, 0.5271, 0.1896, 0.4486, -0.4694, 0.4741, 2.5738, 1.602, 1.5378, 1.5377, 1.5368, 1.5183, 1.5181, 1.5077, 1.5065, 1.4972, 1.4966, 1.4901, 1.4894, 1.4892, 1.4887, 1.4877, 1.4855, 1.4854, 1.4844, 1.4814, 1.4798, 1.4782, 1.4774, 1.4771, 1.4768, 1.4764, 1.4759, 1.4756, 1.4751, 1.4748, 1.1022, 1.4723, 0.8949, 0.85, 1.4693, 1.4733, 0.3189, 0.5839, 0.5914, -0.0804, 0.4619, -0.0041, 0.355, 0.1227, 0.1296, -0.312, -0.7455, -0.0599, -0.0441, -0.0617, -0.1452, -0.1437, -0.6018, -0.2534, -0.4881, -0.6019, -0.5725, -0.6636, -0.5555, -0.8081, 1.3729, -1.0343, 1.6023, 1.5381, 1.5379, 1.5371, 1.5186, 1.5183, 1.5079, 1.5067, 1.4974, 1.4968, 1.4903, 1.4896, 1.4895, 1.4889, 1.4879, 1.4857, 1.4856, 1.4846, 1.4817, 1.4801, 1.4785, 1.4777, 1.4774, 1.477, 1.4766, 1.4762, 1.4758, 1.4753, 1.4751, 1.4748, 1.4742, 1.4725, 1.4695, 1.4736, 1.4734, 1.3731, 1.4404, 1.081, 1.4325, 1.2169, 0.9496, 0.2479, 0.5644, 1.4468, 1.2216, 0.7724, 1.3476, 1.3412, 1.4037, 1.3177, 0.5108, 1.41, 0.95, 1.1302, 0.3591, 1.2726, 1.2601, 1.2489, 0.9541, 0.6557]}, \"token.table\": {\"Topic\": [1, 1, 1, 1, 1, 1, 1, 1, 1, 1, 1, 1, 1, 1, 1, 1, 1, 1, 1, 1, 2, 1, 1, 1, 1, 1, 1, 1, 1, 1, 1, 1, 1, 1, 1, 2, 1, 1, 1, 1, 1, 1, 1, 1, 1, 1, 2, 1, 1, 2, 1, 1, 1, 1, 2, 1, 1, 1, 2, 1, 2, 2, 1, 2, 1, 2, 1, 2, 1, 1, 2, 2, 1, 2, 1, 1, 1, 1, 1, 1, 1, 1, 2, 1, 1, 1, 1, 1, 1, 1, 1, 1, 1, 1, 1, 1, 1, 1, 1, 1, 1, 1, 1, 1, 1, 1, 1, 2, 1, 1, 1, 1, 1, 2, 1, 1, 1, 2, 1, 1, 1, 1, 1, 1, 1, 2, 1, 1, 1, 1, 1, 1, 2, 1, 1, 2, 2, 2], \"Freq\": [0.973132994288392, 0.987972282711436, 0.9973107939328719, 1.6177636862960205, 0.7864378761192952, 0.945046328154187, 0.9873159158838132, 0.9227815548334621, 1.2970285080497546, 1.0330243313106682, 1.562517597980326, 0.9893951461793495, 1.0804992451509774, 0.9999945651904569, 0.8179293973709519, 1.5779673123291027, 0.9513407257629785, 0.9943466680466204, 0.6534960748547101, 0.562519413569537, 0.562519413569537, 1.0137330937908409, 1.0009596145265975, 0.9955794184656926, 1.081132862313586, 1.0399771587769824, 0.98577786449841, 1.0332813265510434, 0.9733269775023279, 1.0172785471969654, 0.944770341742782, 1.24877827913768, 0.8885506042190995, 1.0153828572093473, 1.0225043058115137, 0.9706724509920776, 0.7370638500679881, 1.2331920238675764, 1.0588773321178644, 1.0115815802373644, 0.9881569966049392, 1.391208315344296, 0.9745947319494818, 0.9742274392350393, 0.865891591401818, 1.454104837213381, 0.8238181704724522, 1.0568922293882994, 1.4772954795559865, 0.9022431616929836, 0.694021600086516, 1.0516838774809283, 1.0959037698202514, 1.0818779010828494, 0.8845960716296308, 0.9737703235770252, 1.0038383145145868, 0.4034036714089195, 0.4034036714089195, 1.01770270202348, 1.2064726100457355, 0.9584329725284784, 0.8149927221324776, 0.5882644149034635, 0.48978732620259907, 0.48978732620259907, 0.8405707589310457, 0.12008153699014938, 0.6866270006761005, 0.6869511801509485, 0.2289837267169828, 1.2598872055729848, 0.9830473561271665, 0.08936794146610605, 0.9883993523935884, 1.0105245546830643, 0.7810511515519644, 1.1341394924322514, 0.8993531912305862, 0.9992119085248017, 1.0062151435290139, 0.5239423621783411, 0.5239423621783411, 1.0266546469726832, 0.9084694813459536, 1.2454371761900052, 0.9897140214249144, 1.0168015621899105, 0.9587645911064299, 1.0094286978438332, 1.0774561909018925, 0.9758634828276798, 1.3320111427662247, 0.9901109389955347, 0.9940008556892778, 1.0125263603084151, 0.9783515974889472, 1.0615727997312554, 1.0015586829007064, 0.9883266850754847, 1.1164342867803967, 1.0168727300605125, 0.8924298293216574, 0.9726081309771988, 1.016602709551804, 0.8405704976505879, 1.1418681042054288, 1.0354166278635033, 1.3181637042809893, 1.0124419610267672, 0.9912124453149104, 1.0178870864891465, 1.034214360635296, 1.0222428579475693, 0.7356697747527641, 0.6489731226548018, 1.2173192841904694, 0.6153664739850448, 0.9826384222824436, 0.9766658600602588, 1.0900732073097172, 1.1623254346097098, 1.0994998638753284, 1.1832813261171489, 1.0262653825325418, 1.1082533231858662, 0.9953340064683017, 0.9091391389440779, 1.0746399572073684, 0.9983162439466935, 0.9773098410919532, 0.6882524576519765, 0.6882524576519765, 0.7217697616335459, 1.0256354552857259, 1.1453596541002526, 0.9587989185744923, 0.8197568564645082], \"Term\": [\"abc\", \"animation\", \"anime\", \"ascent\", \"assassinate\", \"assassination\", \"assistant\", \"assure\", \"assured\", \"based\", \"battery\", \"bbc\", \"blackmail\", \"book\", \"captive\", \"caravan\", \"cha\", \"channel\", \"chill\", \"choi\", \"choi\", \"city\", \"comedy\", \"compel\", \"complication\", \"couple\", \"crime\", \"daily\", \"desperate\", \"detective\", \"disambiguation\", \"disorders\", \"duncan\", \"dvd\", \"ellen\", \"eun\", \"euphoria\", \"exploitation\", \"federal\", \"fifa\", \"game\", \"georgian\", \"government\", \"guest\", \"han\", \"handheld\", \"hee\", \"hostage\", \"hysterical\", \"hyun\", \"ideal\", \"identity\", \"indoor\", \"israeli\", \"jae\", \"japanese\", \"jeong\", \"jin\", \"jin\", \"john\", \"joo\", \"joon\", \"jun\", \"jung\", \"kang\", \"kang\", \"kim\", \"kim\", \"korea\", \"korean\", \"korean\", \"kyung\", \"lee\", \"lee\", \"man\", \"manga\", \"mania\", \"maryland\", \"merrill\", \"michael\", \"million\", \"min\", \"min\", \"monster\", \"moon\", \"municipality\", \"murder\", \"music\", \"national\", \"netflix\", \"norwegian\", \"novel\", \"octane\", \"operate\", \"painting\", \"parent\", \"park\", \"pharmaceutical\", \"pilot\", \"police\", \"ransom\", \"read\", \"reasons\", \"reckless\", \"reporter\", \"rogue\", \"sanders\", \"sang\", \"schizophrenia\", \"school\", \"seasons\", \"seek\", \"seize\", \"seo\", \"shin\", \"shooter\", \"solved\", \"soo\", \"soon\", \"sung\", \"surgeon\", \"surrealism\", \"suspense\", \"sven\", \"tactical\", \"tae\", \"team\", \"thrust\", \"usage\", \"video\", \"voiced\", \"woo\", \"woo\", \"wrestler\", \"wrong\", \"yeon\", \"yoo\", \"yoon\"]}, \"R\": 30, \"lambda.step\": 0.01, \"plot.opts\": {\"xlab\": \"PC1\", \"ylab\": \"PC2\"}, \"topic.order\": [2, 4, 1, 5, 3]};\n",
       "\n",
       "function LDAvis_load_lib(url, callback){\n",
       "  var s = document.createElement('script');\n",
       "  s.src = url;\n",
       "  s.async = true;\n",
       "  s.onreadystatechange = s.onload = callback;\n",
       "  s.onerror = function(){console.warn(\"failed to load library \" + url);};\n",
       "  document.getElementsByTagName(\"head\")[0].appendChild(s);\n",
       "}\n",
       "\n",
       "if(typeof(LDAvis) !== \"undefined\"){\n",
       "   // already loaded: just create the visualization\n",
       "   !function(LDAvis){\n",
       "       new LDAvis(\"#\" + \"ldavis_el4332420501771660166554447888\", ldavis_el4332420501771660166554447888_data);\n",
       "   }(LDAvis);\n",
       "}else if(typeof define === \"function\" && define.amd){\n",
       "   // require.js is available: use it to load d3/LDAvis\n",
       "   require.config({paths: {d3: \"https://d3js.org/d3.v5\"}});\n",
       "   require([\"d3\"], function(d3){\n",
       "      window.d3 = d3;\n",
       "      LDAvis_load_lib(\"https://cdn.jsdelivr.net/gh/bmabey/pyLDAvis@3.4.0/pyLDAvis/js/ldavis.v3.0.0.js\", function(){\n",
       "        new LDAvis(\"#\" + \"ldavis_el4332420501771660166554447888\", ldavis_el4332420501771660166554447888_data);\n",
       "      });\n",
       "    });\n",
       "}else{\n",
       "    // require.js not available: dynamically load d3 & LDAvis\n",
       "    LDAvis_load_lib(\"https://d3js.org/d3.v5.js\", function(){\n",
       "         LDAvis_load_lib(\"https://cdn.jsdelivr.net/gh/bmabey/pyLDAvis@3.4.0/pyLDAvis/js/ldavis.v3.0.0.js\", function(){\n",
       "                 new LDAvis(\"#\" + \"ldavis_el4332420501771660166554447888\", ldavis_el4332420501771660166554447888_data);\n",
       "            })\n",
       "         });\n",
       "}\n",
       "</script>"
      ],
      "text/plain": [
       "PreparedData(topic_coordinates=              x         y  topics  cluster       Freq\n",
       "topic                                                \n",
       "1     -0.092276  0.000193       1        1  93.200382\n",
       "3      0.032698  0.001689       2        1   2.151180\n",
       "0      0.019883 -0.000854       3        1   1.550448\n",
       "4      0.019874 -0.000769       4        1   1.550111\n",
       "2      0.019821 -0.000259       5        1   1.547879, topic_info=            Term       Freq      Total Category  logprob  loglift\n",
       "8416         kim   8.000000   8.000000  Default  30.0000  30.0000\n",
       "8708         lee  11.000000  11.000000  Default  29.0000  29.0000\n",
       "8495      korean   4.000000   4.000000  Default  28.0000  28.0000\n",
       "11035       park  10.000000  10.000000  Default  27.0000  27.0000\n",
       "8123         jin   2.000000   2.000000  Default  26.0000  26.0000\n",
       "...          ...        ...        ...      ...      ...      ...\n",
       "12448     refute   0.026906   0.486874   Topic5  -9.7370   1.2726\n",
       "8218    judicial   0.026906   0.493009   Topic5  -9.7371   1.2601\n",
       "7448   impactful   0.026906   0.498564   Topic5  -9.7371   1.2489\n",
       "16498    webtoon   0.026906   0.669474   Topic5  -9.7371   0.9541\n",
       "14987        tae   0.026906   0.902321   Topic5  -9.7371   0.6557\n",
       "\n",
       "[285 rows x 6 columns], token_table=       Topic      Freq         Term\n",
       "term                               \n",
       "12         1  0.973133          abc\n",
       "635        1  0.987972    animation\n",
       "641        1  0.997311        anime\n",
       "923        1  1.617764       ascent\n",
       "957        1  0.786438  assassinate\n",
       "...      ...       ...          ...\n",
       "16793      1  0.721770     wrestler\n",
       "16802      1  1.025635        wrong\n",
       "16850      2  1.145360         yeon\n",
       "16863      2  0.958799          yoo\n",
       "16864      2  0.819757         yoon\n",
       "\n",
       "[138 rows x 3 columns], R=30, lambda_step=0.01, plot_opts={'xlab': 'PC1', 'ylab': 'PC2'}, topic_order=[2, 4, 1, 5, 3])"
      ]
     },
     "execution_count": 20,
     "metadata": {},
     "output_type": "execute_result"
    }
   ],
   "source": [
    "# Topic Modelling Visualization for the show description texts\n",
    "pyLDAvis.sklearn.prepare(best_lda_model, dtm_tfidf, tfidf_vectorizer)"
   ]
  },
  {
   "attachments": {},
   "cell_type": "markdown",
   "metadata": {},
   "source": [
    "#### Generate results (fit-transorm) from a LDA model and tfidf matrix"
   ]
  },
  {
   "cell_type": "code",
   "execution_count": 21,
   "metadata": {},
   "outputs": [],
   "source": [
    "lda_results = best_lda_model.fit_transform(dtm_tfidf) "
   ]
  },
  {
   "attachments": {},
   "cell_type": "markdown",
   "metadata": {},
   "source": [
    "#### Append the LDA topic % matches onto the results dataframe"
   ]
  },
  {
   "cell_type": "code",
   "execution_count": 22,
   "metadata": {},
   "outputs": [],
   "source": [
    "# Technique reference: (Mimi Dutta) https://www.analyticsvidhya.com/blog/2021/07/topic-modelling-with-lda-a-hands-on-introduction/\n",
    "\n",
    "def make_lda_topic_pct_cols(lda_results, df_to_append_to, name_prefix=\"\"):\n",
    "    \n",
    "    for j in tqdm(range(len(df_to_append_to))):\n",
    "        for i,topic in enumerate(lda_results[j]):\n",
    "            df_to_append_to.loc[j, f\"{name_prefix}lda_topic{i}_match_pct\"] = topic\n",
    "    return\n",
    "        "
   ]
  },
  {
   "cell_type": "code",
   "execution_count": 23,
   "metadata": {},
   "outputs": [
    {
     "name": "stderr",
     "output_type": "stream",
     "text": [
      "100%|██████████| 2484/2484 [00:00<00:00, 4130.97it/s]\n"
     ]
    }
   ],
   "source": [
    "make_lda_topic_pct_cols(lda_results, df)"
   ]
  },
  {
   "cell_type": "code",
   "execution_count": 24,
   "metadata": {},
   "outputs": [
    {
     "data": {
      "text/html": [
       "<div>\n",
       "<style scoped>\n",
       "    .dataframe tbody tr th:only-of-type {\n",
       "        vertical-align: middle;\n",
       "    }\n",
       "\n",
       "    .dataframe tbody tr th {\n",
       "        vertical-align: top;\n",
       "    }\n",
       "\n",
       "    .dataframe thead th {\n",
       "        text-align: right;\n",
       "    }\n",
       "</style>\n",
       "<table border=\"1\" class=\"dataframe\">\n",
       "  <thead>\n",
       "    <tr style=\"text-align: right;\">\n",
       "      <th></th>\n",
       "      <th>name</th>\n",
       "      <th>href</th>\n",
       "      <th>tokenized_text</th>\n",
       "      <th>lda_topic0_match_pct</th>\n",
       "      <th>lda_topic1_match_pct</th>\n",
       "      <th>lda_topic2_match_pct</th>\n",
       "      <th>lda_topic3_match_pct</th>\n",
       "      <th>lda_topic4_match_pct</th>\n",
       "    </tr>\n",
       "  </thead>\n",
       "  <tbody>\n",
       "    <tr>\n",
       "      <th>0</th>\n",
       "      <td>Game of Thrones</td>\n",
       "      <td>/title/tt0944947/</td>\n",
       "      <td>nine noble family fight control land westeros ...</td>\n",
       "      <td>0.008690</td>\n",
       "      <td>0.965214</td>\n",
       "      <td>0.008716</td>\n",
       "      <td>0.008690</td>\n",
       "      <td>0.008690</td>\n",
       "    </tr>\n",
       "    <tr>\n",
       "      <th>1</th>\n",
       "      <td>Prison Break</td>\n",
       "      <td>/title/tt0455275/</td>\n",
       "      <td>due political conspiracy innocent man send dea...</td>\n",
       "      <td>0.011481</td>\n",
       "      <td>0.953645</td>\n",
       "      <td>0.011911</td>\n",
       "      <td>0.011481</td>\n",
       "      <td>0.011481</td>\n",
       "    </tr>\n",
       "    <tr>\n",
       "      <th>2</th>\n",
       "      <td>Vikings</td>\n",
       "      <td>/title/tt2306299/</td>\n",
       "      <td>vikings transport us brutal mysterious world r...</td>\n",
       "      <td>0.013498</td>\n",
       "      <td>0.945991</td>\n",
       "      <td>0.013514</td>\n",
       "      <td>0.013498</td>\n",
       "      <td>0.013498</td>\n",
       "    </tr>\n",
       "    <tr>\n",
       "      <th>3</th>\n",
       "      <td>The Boys</td>\n",
       "      <td>/title/tt1190634/</td>\n",
       "      <td>group vigilante set take corrupt superheroes a...</td>\n",
       "      <td>0.009292</td>\n",
       "      <td>0.962832</td>\n",
       "      <td>0.009292</td>\n",
       "      <td>0.009292</td>\n",
       "      <td>0.009292</td>\n",
       "    </tr>\n",
       "    <tr>\n",
       "      <th>4</th>\n",
       "      <td>The Mandalorian</td>\n",
       "      <td>/title/tt8111088/</td>\n",
       "      <td>travel lone bounty hunter outer reach galaxy f...</td>\n",
       "      <td>0.015753</td>\n",
       "      <td>0.936628</td>\n",
       "      <td>0.016112</td>\n",
       "      <td>0.015753</td>\n",
       "      <td>0.015754</td>\n",
       "    </tr>\n",
       "  </tbody>\n",
       "</table>\n",
       "</div>"
      ],
      "text/plain": [
       "              name               href  \\\n",
       "0  Game of Thrones  /title/tt0944947/   \n",
       "1     Prison Break  /title/tt0455275/   \n",
       "2          Vikings  /title/tt2306299/   \n",
       "3         The Boys  /title/tt1190634/   \n",
       "4  The Mandalorian  /title/tt8111088/   \n",
       "\n",
       "                                      tokenized_text  lda_topic0_match_pct  \\\n",
       "0  nine noble family fight control land westeros ...              0.008690   \n",
       "1  due political conspiracy innocent man send dea...              0.011481   \n",
       "2  vikings transport us brutal mysterious world r...              0.013498   \n",
       "3  group vigilante set take corrupt superheroes a...              0.009292   \n",
       "4  travel lone bounty hunter outer reach galaxy f...              0.015753   \n",
       "\n",
       "   lda_topic1_match_pct  lda_topic2_match_pct  lda_topic3_match_pct  \\\n",
       "0              0.965214              0.008716              0.008690   \n",
       "1              0.953645              0.011911              0.011481   \n",
       "2              0.945991              0.013514              0.013498   \n",
       "3              0.962832              0.009292              0.009292   \n",
       "4              0.936628              0.016112              0.015753   \n",
       "\n",
       "   lda_topic4_match_pct  \n",
       "0              0.008690  \n",
       "1              0.011481  \n",
       "2              0.013498  \n",
       "3              0.009292  \n",
       "4              0.015754  "
      ]
     },
     "execution_count": 24,
     "metadata": {},
     "output_type": "execute_result"
    }
   ],
   "source": [
    "df.head()"
   ]
  },
  {
   "cell_type": "code",
   "execution_count": 25,
   "metadata": {},
   "outputs": [
    {
     "data": {
      "text/plain": [
       "(2484, 8)"
      ]
     },
     "execution_count": 25,
     "metadata": {},
     "output_type": "execute_result"
    }
   ],
   "source": [
    "df.shape"
   ]
  },
  {
   "cell_type": "code",
   "execution_count": null,
   "metadata": {},
   "outputs": [],
   "source": []
  },
  {
   "attachments": {},
   "cell_type": "markdown",
   "metadata": {},
   "source": [
    "# LSA model"
   ]
  },
  {
   "cell_type": "code",
   "execution_count": 26,
   "metadata": {},
   "outputs": [],
   "source": [
    "# Technique reference: (Avinash Navlani) https://machinelearninggeek.com/latent-semantic-indexing-using-scikit-learn/\n",
    "\n",
    "\n",
    "# Define the number of topics or components\n",
    "num_components=10\n",
    "\n",
    "# Create SVD object\n",
    "lsa = TruncatedSVD(n_components=num_components, n_iter=100, random_state=42)\n",
    "\n",
    "# Fit SVD model on data\n",
    "lsa_results = lsa.fit_transform(dtm_tfidf)\n",
    "\n",
    "# Get Singular values and Components \n",
    "Sigma = lsa.singular_values_ \n",
    "V_transpose = lsa.components_.T"
   ]
  },
  {
   "cell_type": "code",
   "execution_count": 27,
   "metadata": {},
   "outputs": [],
   "source": [
    "# Technique reference: (Avinash Navlani) https://machinelearninggeek.com/latent-semantic-indexing-using-scikit-learn/\n",
    "\n",
    "# Print the topics with their terms\n",
    "\n",
    "def lsa_topics_out(tfidf_vectorizer, svd_object):\n",
    "    terms = tfidf_vectorizer.get_feature_names_out()\n",
    "\n",
    "    for index, component in enumerate(svd_object.components_):\n",
    "        zipped = zip(terms, component)\n",
    "        top_terms_key=sorted(zipped, key = lambda t: t[1], reverse=True)[:10]\n",
    "        top_terms_list=list(dict(top_terms_key).keys())\n",
    "        print(\"Topic \"+str(index)+\": \",top_terms_list)\n",
    "\n",
    "    return"
   ]
  },
  {
   "cell_type": "code",
   "execution_count": 28,
   "metadata": {},
   "outputs": [
    {
     "name": "stdout",
     "output_type": "stream",
     "text": [
      "Topic 0:  ['anime', 'manga', 'netflix', 'seasons', 'comedy', 'japanese', 'school', 'game', 'voiced', 'novel']\n",
      "Topic 1:  ['anime', 'manga', 'japanese', 'volume', 'english', 'japan', 'voiced', 'shonen', 'animation', 'license']\n",
      "Topic 2:  ['kim', 'jung', 'soo', 'korean', 'lee', 'jin', 'hee', 'min', 'hyun', 'yoon']\n",
      "Topic 3:  ['voiced', 'cartoon', 'disney', 'animation', 'voice', 'animated', 'nickelodeon', 'game', 'marvel', 'batman']\n",
      "Topic 4:  ['bbc', 'planet', 'war', 'programme', 'documentary', 'earth', 'british', 'miniseries', 'london', 'novel']\n",
      "Topic 5:  ['voiced', 'crime', 'detective', 'japanese', 'netflix', 'police', 'murder', 'dragon', 'batman', 'english']\n",
      "Topic 6:  ['voiced', 'detective', 'bbc', 'police', 'murder', 'crime', 'japanese', 'programme', 'case', 'english']\n",
      "Topic 7:  ['trek', 'detective', 'police', 'fbi', 'cbs', 'marvel', 'team', 'crime', 'nbc', 'agent']\n",
      "Topic 8:  ['netflix', 'marvel', 'crime', 'documentary', 'singh', 'disney', 'indian', 'murder', 'mcu', 'killer']\n",
      "Topic 9:  ['marvel', 'disney', 'batman', 'detective', 'dragon', 'bbc', 'vampire', 'mcu', 'abc', 'spider']\n"
     ]
    }
   ],
   "source": [
    "lsa_topics_out(tfidf_vectorizer, lsa)"
   ]
  },
  {
   "cell_type": "code",
   "execution_count": 29,
   "metadata": {},
   "outputs": [],
   "source": [
    "# Technique reference: (Mimi Dutta) https://www.analyticsvidhya.com/blog/2021/07/topic-modelling-with-lda-a-hands-on-introduction/\n",
    "\n",
    "def make_lsa_topic_pct_cols(lsa_results, df_to_append_to):\n",
    "    for j in tqdm(range(len(df_to_append_to))):\n",
    "        for i,topic in enumerate(lsa_results[j]):\n",
    "            df_to_append_to.loc[j, f\"lsa_topic{i}_cos_match\"] = topic\n",
    "    return"
   ]
  },
  {
   "cell_type": "code",
   "execution_count": 30,
   "metadata": {},
   "outputs": [
    {
     "name": "stderr",
     "output_type": "stream",
     "text": [
      "100%|██████████| 2484/2484 [00:01<00:00, 2095.09it/s]\n"
     ]
    }
   ],
   "source": [
    "make_lsa_topic_pct_cols(lsa_results, df)"
   ]
  },
  {
   "cell_type": "code",
   "execution_count": 31,
   "metadata": {},
   "outputs": [
    {
     "data": {
      "text/html": [
       "<div>\n",
       "<style scoped>\n",
       "    .dataframe tbody tr th:only-of-type {\n",
       "        vertical-align: middle;\n",
       "    }\n",
       "\n",
       "    .dataframe tbody tr th {\n",
       "        vertical-align: top;\n",
       "    }\n",
       "\n",
       "    .dataframe thead th {\n",
       "        text-align: right;\n",
       "    }\n",
       "</style>\n",
       "<table border=\"1\" class=\"dataframe\">\n",
       "  <thead>\n",
       "    <tr style=\"text-align: right;\">\n",
       "      <th></th>\n",
       "      <th>name</th>\n",
       "      <th>href</th>\n",
       "      <th>tokenized_text</th>\n",
       "      <th>lda_topic0_match_pct</th>\n",
       "      <th>lda_topic1_match_pct</th>\n",
       "      <th>lda_topic2_match_pct</th>\n",
       "      <th>lda_topic3_match_pct</th>\n",
       "      <th>lda_topic4_match_pct</th>\n",
       "      <th>lsa_topic0_cos_match</th>\n",
       "      <th>lsa_topic1_cos_match</th>\n",
       "      <th>lsa_topic2_cos_match</th>\n",
       "      <th>lsa_topic3_cos_match</th>\n",
       "      <th>lsa_topic4_cos_match</th>\n",
       "      <th>lsa_topic5_cos_match</th>\n",
       "      <th>lsa_topic6_cos_match</th>\n",
       "      <th>lsa_topic7_cos_match</th>\n",
       "      <th>lsa_topic8_cos_match</th>\n",
       "      <th>lsa_topic9_cos_match</th>\n",
       "    </tr>\n",
       "  </thead>\n",
       "  <tbody>\n",
       "    <tr>\n",
       "      <th>0</th>\n",
       "      <td>Game of Thrones</td>\n",
       "      <td>/title/tt0944947/</td>\n",
       "      <td>nine noble family fight control land westeros ...</td>\n",
       "      <td>0.008690</td>\n",
       "      <td>0.965214</td>\n",
       "      <td>0.008716</td>\n",
       "      <td>0.008690</td>\n",
       "      <td>0.008690</td>\n",
       "      <td>0.347465</td>\n",
       "      <td>-0.026348</td>\n",
       "      <td>-0.027834</td>\n",
       "      <td>0.047141</td>\n",
       "      <td>0.108406</td>\n",
       "      <td>-0.068647</td>\n",
       "      <td>-0.038896</td>\n",
       "      <td>-0.019839</td>\n",
       "      <td>0.015816</td>\n",
       "      <td>-0.000741</td>\n",
       "    </tr>\n",
       "    <tr>\n",
       "      <th>1</th>\n",
       "      <td>Prison Break</td>\n",
       "      <td>/title/tt0455275/</td>\n",
       "      <td>due political conspiracy innocent man send dea...</td>\n",
       "      <td>0.011481</td>\n",
       "      <td>0.953645</td>\n",
       "      <td>0.011911</td>\n",
       "      <td>0.011481</td>\n",
       "      <td>0.011481</td>\n",
       "      <td>0.275600</td>\n",
       "      <td>-0.063611</td>\n",
       "      <td>-0.018882</td>\n",
       "      <td>-0.034794</td>\n",
       "      <td>-0.037084</td>\n",
       "      <td>-0.009950</td>\n",
       "      <td>0.017834</td>\n",
       "      <td>0.078940</td>\n",
       "      <td>-0.046593</td>\n",
       "      <td>-0.043410</td>\n",
       "    </tr>\n",
       "    <tr>\n",
       "      <th>2</th>\n",
       "      <td>Vikings</td>\n",
       "      <td>/title/tt2306299/</td>\n",
       "      <td>vikings transport us brutal mysterious world r...</td>\n",
       "      <td>0.013498</td>\n",
       "      <td>0.945991</td>\n",
       "      <td>0.013514</td>\n",
       "      <td>0.013498</td>\n",
       "      <td>0.013498</td>\n",
       "      <td>0.186671</td>\n",
       "      <td>-0.034689</td>\n",
       "      <td>-0.016880</td>\n",
       "      <td>0.003262</td>\n",
       "      <td>0.066695</td>\n",
       "      <td>0.000323</td>\n",
       "      <td>-0.048242</td>\n",
       "      <td>-0.040307</td>\n",
       "      <td>0.003310</td>\n",
       "      <td>-0.000493</td>\n",
       "    </tr>\n",
       "    <tr>\n",
       "      <th>3</th>\n",
       "      <td>The Boys</td>\n",
       "      <td>/title/tt1190634/</td>\n",
       "      <td>group vigilante set take corrupt superheroes a...</td>\n",
       "      <td>0.009292</td>\n",
       "      <td>0.962832</td>\n",
       "      <td>0.009292</td>\n",
       "      <td>0.009292</td>\n",
       "      <td>0.009292</td>\n",
       "      <td>0.295748</td>\n",
       "      <td>-0.066046</td>\n",
       "      <td>-0.015771</td>\n",
       "      <td>0.019903</td>\n",
       "      <td>-0.008302</td>\n",
       "      <td>0.014673</td>\n",
       "      <td>-0.080466</td>\n",
       "      <td>0.024328</td>\n",
       "      <td>0.039867</td>\n",
       "      <td>-0.007650</td>\n",
       "    </tr>\n",
       "    <tr>\n",
       "      <th>4</th>\n",
       "      <td>The Mandalorian</td>\n",
       "      <td>/title/tt8111088/</td>\n",
       "      <td>travel lone bounty hunter outer reach galaxy f...</td>\n",
       "      <td>0.015753</td>\n",
       "      <td>0.936628</td>\n",
       "      <td>0.016112</td>\n",
       "      <td>0.015753</td>\n",
       "      <td>0.015754</td>\n",
       "      <td>0.152946</td>\n",
       "      <td>-0.010827</td>\n",
       "      <td>-0.011497</td>\n",
       "      <td>0.076112</td>\n",
       "      <td>0.033428</td>\n",
       "      <td>0.010131</td>\n",
       "      <td>-0.083739</td>\n",
       "      <td>0.041084</td>\n",
       "      <td>0.043047</td>\n",
       "      <td>0.027144</td>\n",
       "    </tr>\n",
       "  </tbody>\n",
       "</table>\n",
       "</div>"
      ],
      "text/plain": [
       "              name               href  \\\n",
       "0  Game of Thrones  /title/tt0944947/   \n",
       "1     Prison Break  /title/tt0455275/   \n",
       "2          Vikings  /title/tt2306299/   \n",
       "3         The Boys  /title/tt1190634/   \n",
       "4  The Mandalorian  /title/tt8111088/   \n",
       "\n",
       "                                      tokenized_text  lda_topic0_match_pct  \\\n",
       "0  nine noble family fight control land westeros ...              0.008690   \n",
       "1  due political conspiracy innocent man send dea...              0.011481   \n",
       "2  vikings transport us brutal mysterious world r...              0.013498   \n",
       "3  group vigilante set take corrupt superheroes a...              0.009292   \n",
       "4  travel lone bounty hunter outer reach galaxy f...              0.015753   \n",
       "\n",
       "   lda_topic1_match_pct  lda_topic2_match_pct  lda_topic3_match_pct  \\\n",
       "0              0.965214              0.008716              0.008690   \n",
       "1              0.953645              0.011911              0.011481   \n",
       "2              0.945991              0.013514              0.013498   \n",
       "3              0.962832              0.009292              0.009292   \n",
       "4              0.936628              0.016112              0.015753   \n",
       "\n",
       "   lda_topic4_match_pct  lsa_topic0_cos_match  lsa_topic1_cos_match  \\\n",
       "0              0.008690              0.347465             -0.026348   \n",
       "1              0.011481              0.275600             -0.063611   \n",
       "2              0.013498              0.186671             -0.034689   \n",
       "3              0.009292              0.295748             -0.066046   \n",
       "4              0.015754              0.152946             -0.010827   \n",
       "\n",
       "   lsa_topic2_cos_match  lsa_topic3_cos_match  lsa_topic4_cos_match  \\\n",
       "0             -0.027834              0.047141              0.108406   \n",
       "1             -0.018882             -0.034794             -0.037084   \n",
       "2             -0.016880              0.003262              0.066695   \n",
       "3             -0.015771              0.019903             -0.008302   \n",
       "4             -0.011497              0.076112              0.033428   \n",
       "\n",
       "   lsa_topic5_cos_match  lsa_topic6_cos_match  lsa_topic7_cos_match  \\\n",
       "0             -0.068647             -0.038896             -0.019839   \n",
       "1             -0.009950              0.017834              0.078940   \n",
       "2              0.000323             -0.048242             -0.040307   \n",
       "3              0.014673             -0.080466              0.024328   \n",
       "4              0.010131             -0.083739              0.041084   \n",
       "\n",
       "   lsa_topic8_cos_match  lsa_topic9_cos_match  \n",
       "0              0.015816             -0.000741  \n",
       "1             -0.046593             -0.043410  \n",
       "2              0.003310             -0.000493  \n",
       "3              0.039867             -0.007650  \n",
       "4              0.043047              0.027144  "
      ]
     },
     "execution_count": 31,
     "metadata": {},
     "output_type": "execute_result"
    }
   ],
   "source": [
    "df.head()"
   ]
  },
  {
   "cell_type": "code",
   "execution_count": 32,
   "metadata": {},
   "outputs": [
    {
     "data": {
      "text/plain": [
       "(2484, 18)"
      ]
     },
     "execution_count": 32,
     "metadata": {},
     "output_type": "execute_result"
    }
   ],
   "source": [
    "df.shape"
   ]
  },
  {
   "cell_type": "code",
   "execution_count": null,
   "metadata": {},
   "outputs": [],
   "source": []
  },
  {
   "attachments": {},
   "cell_type": "markdown",
   "metadata": {},
   "source": [
    "## Force LDA evaluate with different parameters"
   ]
  },
  {
   "attachments": {},
   "cell_type": "markdown",
   "metadata": {},
   "source": [
    "#### Generate same output items for forced alternate (20+ topic) model"
   ]
  },
  {
   "cell_type": "code",
   "execution_count": 33,
   "metadata": {},
   "outputs": [],
   "source": [
    "# Define Grid Search Parameters\n",
    "search_params2 = {'n_components': [20, 30],       # testing suggests it always picks 5 topics as \"best\"\n",
    "                    'learning_decay': [.5, .7, .9]}     # does not always return same \"best\" learning decay"
   ]
  },
  {
   "cell_type": "code",
   "execution_count": 34,
   "metadata": {},
   "outputs": [
    {
     "name": "stdout",
     "output_type": "stream",
     "text": [
      "Fitting 5 folds for each of 6 candidates, totalling 30 fits\n",
      "Best Model's Params:  {'learning_decay': 0.7, 'n_components': 20}\n",
      "Model Log Likelihood Score:  -92263.04730569989\n",
      "Model Perplexity:  89483.33047902002\n"
     ]
    },
    {
     "data": {
      "image/png": "[encoded data removed]",
      "text/plain": [
       "<Figure size 1200x800 with 1 Axes>"
      ]
     },
     "metadata": {},
     "output_type": "display_data"
    }
   ],
   "source": [
    "# tfidf_vectorizer, dtm_tfidf = make_tfidf(input_df, text_colname)\n",
    "model_gs2, best_lda_model2 = lda_gridsearch(dtm_tfidf, search_params2)\n",
    "lda_plot_performance(model_gs2, search_params2)"
   ]
  },
  {
   "cell_type": "code",
   "execution_count": 35,
   "metadata": {},
   "outputs": [
    {
     "name": "stderr",
     "output_type": "stream",
     "text": [
      "20it [00:00, 745.41it/s]\n"
     ]
    },
    {
     "data": {
      "text/html": [
       "<div>\n",
       "<style scoped>\n",
       "    .dataframe tbody tr th:only-of-type {\n",
       "        vertical-align: middle;\n",
       "    }\n",
       "\n",
       "    .dataframe tbody tr th {\n",
       "        vertical-align: top;\n",
       "    }\n",
       "\n",
       "    .dataframe thead th {\n",
       "        text-align: right;\n",
       "    }\n",
       "</style>\n",
       "<table border=\"1\" class=\"dataframe\">\n",
       "  <thead>\n",
       "    <tr style=\"text-align: right;\">\n",
       "      <th></th>\n",
       "      <th>Topic 1 words</th>\n",
       "      <th>Topic 1 weights</th>\n",
       "      <th>Topic 2 words</th>\n",
       "      <th>Topic 2 weights</th>\n",
       "      <th>Topic 3 words</th>\n",
       "      <th>Topic 3 weights</th>\n",
       "      <th>Topic 4 words</th>\n",
       "      <th>Topic 4 weights</th>\n",
       "      <th>Topic 5 words</th>\n",
       "      <th>Topic 5 weights</th>\n",
       "      <th>...</th>\n",
       "      <th>Topic 16 words</th>\n",
       "      <th>Topic 16 weights</th>\n",
       "      <th>Topic 17 words</th>\n",
       "      <th>Topic 17 weights</th>\n",
       "      <th>Topic 18 words</th>\n",
       "      <th>Topic 18 weights</th>\n",
       "      <th>Topic 19 words</th>\n",
       "      <th>Topic 19 weights</th>\n",
       "      <th>Topic 20 words</th>\n",
       "      <th>Topic 20 weights</th>\n",
       "    </tr>\n",
       "  </thead>\n",
       "  <tbody>\n",
       "    <tr>\n",
       "      <th>0</th>\n",
       "      <td>pharmacist</td>\n",
       "      <td>0.8</td>\n",
       "      <td>ghoul</td>\n",
       "      <td>3.1</td>\n",
       "      <td>kim</td>\n",
       "      <td>7.9</td>\n",
       "      <td>ramsay</td>\n",
       "      <td>1.8</td>\n",
       "      <td>manga</td>\n",
       "      <td>13.8</td>\n",
       "      <td>...</td>\n",
       "      <td>nye</td>\n",
       "      <td>1.6</td>\n",
       "      <td>recess</td>\n",
       "      <td>0.8</td>\n",
       "      <td>cosmos</td>\n",
       "      <td>2.7</td>\n",
       "      <td>picard</td>\n",
       "      <td>0.9</td>\n",
       "      <td>callaghan</td>\n",
       "      <td>1.0</td>\n",
       "    </tr>\n",
       "    <tr>\n",
       "      <th>1</th>\n",
       "      <td>jinn</td>\n",
       "      <td>0.7</td>\n",
       "      <td>attenborough</td>\n",
       "      <td>2.0</td>\n",
       "      <td>jung</td>\n",
       "      <td>6.2</td>\n",
       "      <td>nightmares</td>\n",
       "      <td>1.0</td>\n",
       "      <td>shonen</td>\n",
       "      <td>6.8</td>\n",
       "      <td>...</td>\n",
       "      <td>kimmy</td>\n",
       "      <td>1.5</td>\n",
       "      <td>deadwood</td>\n",
       "      <td>0.6</td>\n",
       "      <td>dune</td>\n",
       "      <td>1.6</td>\n",
       "      <td>partridge</td>\n",
       "      <td>0.8</td>\n",
       "      <td>mirren</td>\n",
       "      <td>0.9</td>\n",
       "    </tr>\n",
       "    <tr>\n",
       "      <th>2</th>\n",
       "      <td>sneaky</td>\n",
       "      <td>0.6</td>\n",
       "      <td>slasher</td>\n",
       "      <td>1.2</td>\n",
       "      <td>soo</td>\n",
       "      <td>5.9</td>\n",
       "      <td>bower</td>\n",
       "      <td>0.9</td>\n",
       "      <td>anime</td>\n",
       "      <td>5.4</td>\n",
       "      <td>...</td>\n",
       "      <td>rugrats</td>\n",
       "      <td>1.3</td>\n",
       "      <td>smiley</td>\n",
       "      <td>0.6</td>\n",
       "      <td>wormhole</td>\n",
       "      <td>0.9</td>\n",
       "      <td>bonanza</td>\n",
       "      <td>0.8</td>\n",
       "      <td>animaniacs</td>\n",
       "      <td>0.9</td>\n",
       "    </tr>\n",
       "    <tr>\n",
       "      <th>3</th>\n",
       "      <td>keeping</td>\n",
       "      <td>0.4</td>\n",
       "      <td>hannibal</td>\n",
       "      <td>1.0</td>\n",
       "      <td>korean</td>\n",
       "      <td>5.7</td>\n",
       "      <td>smallville</td>\n",
       "      <td>0.9</td>\n",
       "      <td>dragon</td>\n",
       "      <td>4.5</td>\n",
       "      <td>...</td>\n",
       "      <td>rosemary</td>\n",
       "      <td>0.9</td>\n",
       "      <td>wei</td>\n",
       "      <td>0.6</td>\n",
       "      <td>mayfair</td>\n",
       "      <td>0.8</td>\n",
       "      <td>doe</td>\n",
       "      <td>0.8</td>\n",
       "      <td>thorpe</td>\n",
       "      <td>0.8</td>\n",
       "    </tr>\n",
       "    <tr>\n",
       "      <th>4</th>\n",
       "      <td>solicitor</td>\n",
       "      <td>0.4</td>\n",
       "      <td>astronauts</td>\n",
       "      <td>0.8</td>\n",
       "      <td>jin</td>\n",
       "      <td>5.2</td>\n",
       "      <td>dickinson</td>\n",
       "      <td>0.7</td>\n",
       "      <td>kodansha</td>\n",
       "      <td>4.2</td>\n",
       "      <td>...</td>\n",
       "      <td>serenity</td>\n",
       "      <td>0.9</td>\n",
       "      <td>gao</td>\n",
       "      <td>0.2</td>\n",
       "      <td>evangelion</td>\n",
       "      <td>0.8</td>\n",
       "      <td>sas</td>\n",
       "      <td>0.7</td>\n",
       "      <td>pinky</td>\n",
       "      <td>0.7</td>\n",
       "    </tr>\n",
       "  </tbody>\n",
       "</table>\n",
       "<p>5 rows × 40 columns</p>\n",
       "</div>"
      ],
      "text/plain": [
       "  Topic 1 words Topic 1 weights Topic 2 words Topic 2 weights Topic 3 words  \\\n",
       "0    pharmacist             0.8         ghoul             3.1           kim   \n",
       "1          jinn             0.7  attenborough             2.0          jung   \n",
       "2        sneaky             0.6       slasher             1.2           soo   \n",
       "3       keeping             0.4      hannibal             1.0        korean   \n",
       "4     solicitor             0.4    astronauts             0.8           jin   \n",
       "\n",
       "  Topic 3 weights Topic 4 words Topic 4 weights Topic 5 words Topic 5 weights  \\\n",
       "0             7.9        ramsay             1.8         manga            13.8   \n",
       "1             6.2    nightmares             1.0        shonen             6.8   \n",
       "2             5.9         bower             0.9         anime             5.4   \n",
       "3             5.7    smallville             0.9        dragon             4.5   \n",
       "4             5.2     dickinson             0.7      kodansha             4.2   \n",
       "\n",
       "   ... Topic 16 words Topic 16 weights Topic 17 words Topic 17 weights  \\\n",
       "0  ...            nye              1.6         recess              0.8   \n",
       "1  ...          kimmy              1.5       deadwood              0.6   \n",
       "2  ...        rugrats              1.3         smiley              0.6   \n",
       "3  ...       rosemary              0.9            wei              0.6   \n",
       "4  ...       serenity              0.9            gao              0.2   \n",
       "\n",
       "  Topic 18 words Topic 18 weights Topic 19 words Topic 19 weights  \\\n",
       "0         cosmos              2.7         picard              0.9   \n",
       "1           dune              1.6      partridge              0.8   \n",
       "2       wormhole              0.9        bonanza              0.8   \n",
       "3        mayfair              0.8            doe              0.8   \n",
       "4     evangelion              0.8            sas              0.7   \n",
       "\n",
       "  Topic 20 words Topic 20 weights  \n",
       "0      callaghan              1.0  \n",
       "1         mirren              0.9  \n",
       "2     animaniacs              0.9  \n",
       "3         thorpe              0.8  \n",
       "4          pinky              0.7  \n",
       "\n",
       "[5 rows x 40 columns]"
      ]
     },
     "execution_count": 35,
     "metadata": {},
     "output_type": "execute_result"
    }
   ],
   "source": [
    "lda_topic_words2 = display_topics(best_lda_model2, tfidf_vectorizer.get_feature_names_out(), n_top_words = 30) \n",
    "lda_topic_words2.head()"
   ]
  },
  {
   "cell_type": "code",
   "execution_count": 36,
   "metadata": {},
   "outputs": [
    {
     "name": "stderr",
     "output_type": "stream",
     "text": [
      "d:\\anaconda3\\lib\\site-packages\\pyLDAvis\\_prepare.py:243: FutureWarning: In a future version of pandas all arguments of DataFrame.drop except for the argument 'labels' will be keyword-only.\n",
      "  default_term_info = default_term_info.sort_values(\n"
     ]
    },
    {
     "data": {
      "text/html": [
       "\n",
       "<link rel=\"stylesheet\" type=\"text/css\" href=\"https://cdn.jsdelivr.net/gh/bmabey/pyLDAvis@3.4.0/pyLDAvis/js/ldavis.v1.0.0.css\">\n",
       "\n",
       "\n",
       "<div id=\"ldavis_el4332420501774304644830880523\" style=\"background-color:white;\"></div>\n",
       "<script type=\"text/javascript\">\n",
       "\n",
       "var ldavis_el4332420501774304644830880523_data = {\"mdsDat\": {\"x\": [0.2101456300409492, -0.22039855466485592, 0.006071161226611514, 0.0013605217278744681, -0.0013608170583571532, 0.0002950807073769631, 0.00045494320151838425, 0.0001868161648836067, 0.00025996130499723343, 0.00025880589070645073, 0.0002172136595389674, 0.0002897842469651944, 0.000245768187604695, 0.0003674671743228178, 0.0002942201138126423, 0.00019733756801461582, 0.0002744778911783248, 0.0002796727885366571, 0.0002671007745493816, 0.00029340905377172986], \"y\": [-0.1682286755304097, -0.1556931515164414, 0.1477487090989582, 0.11472178796113276, 0.019754795768851703, 0.0044430057338951485, 0.0036905401970755225, 0.0031549326600699987, 0.0034291262000362517, 0.0032022770735752586, 0.0027764185362163267, 0.002684814960419764, 0.0027296065126366552, 0.0024890954192478662, 0.0024938514418043917, 0.0022726361536014915, 0.0020252772365748927, 0.0021438969904565516, 0.0020693206708669635, 0.0020917344314310563], \"topics\": [1, 2, 3, 4, 5, 6, 7, 8, 9, 10, 11, 12, 13, 14, 15, 16, 17, 18, 19, 20], \"cluster\": [1, 1, 1, 1, 1, 1, 1, 1, 1, 1, 1, 1, 1, 1, 1, 1, 1, 1, 1, 1], \"Freq\": [51.546547618817826, 35.50644373846413, 3.2590766879911732, 2.59003161538321, 0.950227460328246, 0.4363839478396457, 0.43303254964448984, 0.41828986403425383, 0.41712551129877967, 0.4158925451187544, 0.41169554503997413, 0.4112229970427164, 0.4089805254391294, 0.4050807370181301, 0.4037206123425566, 0.4009836882392091, 0.3978480701727994, 0.3966341663979911, 0.39544831625953436, 0.39533380312745164]}, \"tinfo\": {\"Term\": [\"manga\", \"anime\", \"lee\", \"kim\", \"park\", \"japanese\", \"detective\", \"game\", \"voiced\", \"korean\", \"dragon\", \"animation\", \"miniseries\", \"voice\", \"theme\", \"crime\", \"police\", \"school\", \"dvd\", \"volume\", \"english\", \"comic\", \"disney\", \"murder\", \"cartoon\", \"earth\", \"wife\", \"moon\", \"adventure\", \"action\", \"voiced\", \"animation\", \"game\", \"voice\", \"theme\", \"volume\", \"comic\", \"earth\", \"cartoon\", \"adventure\", \"japan\", \"spin\", \"fifth\", \"animated\", \"space\", \"publish\", \"planet\", \"north\", \"fan\", \"design\", \"alien\", \"fight\", \"vampire\", \"nickelodeon\", \"universe\", \"viewers\", \"opening\", \"kevin\", \"dvd\", \"travel\", \"english\", \"ray\", \"disney\", \"japanese\", \"school\", \"human\", \"anime\", \"action\", \"adult\", \"black\", \"fourth\", \"video\", \"entertainment\", \"adaptation\", \"version\", \"million\", \"win\", \"seasons\", \"comedy\", \"abc\", \"music\", \"manga\", \"special\", \"michael\", \"channel\", \"guest\", \"book\", \"novel\", \"pilot\", \"miniseries\", \"fbi\", \"killer\", \"thriller\", \"prison\", \"serial\", \"law\", \"thomas\", \"historical\", \"jason\", \"criminal\", \"miller\", \"emily\", \"kate\", \"investigate\", \"aggregator\", \"arthur\", \"wars\", \"emma\", \"showrunner\", \"political\", \"alan\", \"england\", \"inspector\", \"army\", \"france\", \"india\", \"indian\", \"language\", \"dan\", \"detective\", \"trailer\", \"stephen\", \"police\", \"agent\", \"brian\", \"crime\", \"wife\", \"murder\", \"amazon\", \"anne\", \"ryan\", \"london\", \"war\", \"netflix\", \"documentary\", \"tomatoes\", \"rotten\", \"husband\", \"critic\", \"report\", \"hbo\", \"woman\", \"british\", \"son\", \"case\", \"filming\", \"officer\", \"bbc\", \"critics\", \"john\", \"metacritic\", \"relationship\", \"daughter\", \"team\", \"shonen\", \"kodansha\", \"serialize\", \"tankobon\", \"emperor\", \"circulation\", \"titans\", \"shueisha\", \"halo\", \"naruto\", \"sheldon\", \"kirsten\", \"marianne\", \"bugs\", \"merlin\", \"serialization\", \"cards\", \"waller\", \"ncis\", \"medieval\", \"tia\", \"uss\", \"wes\", \"janine\", \"nominated\", \"utopia\", \"ariel\", \"harmon\", \"wonderland\", \"yen\", \"tournament\", \"manga\", \"dragon\", \"ball\", \"anime\", \"salem\", \"berlin\", \"sonic\", \"nazi\", \"sheen\", \"isabel\", \"constantine\", \"rory\", \"pam\", \"heller\", \"soviet\", \"teller\", \"macy\", \"louie\", \"sherman\", \"locke\", \"gilmore\", \"bauer\", \"liars\", \"lucifer\", \"dixon\", \"britt\", \"laurel\", \"caitlin\", \"palladino\", \"cathy\", \"magnum\", \"ginny\", \"juliette\", \"barton\", \"susie\", \"hernandez\", \"melanie\", \"stargate\", \"archer\", \"traveler\", \"gotham\", \"finn\", \"joon\", \"eun\", \"hyun\", \"seo\", \"joo\", \"kyung\", \"yeon\", \"jung\", \"hee\", \"soo\", \"jang\", \"tae\", \"yoo\", \"hye\", \"seung\", \"yoon\", \"wook\", \"hae\", \"jae\", \"chul\", \"sook\", \"misaki\", \"hwang\", \"webtoon\", \"seok\", \"sang\", \"min\", \"choi\", \"woo\", \"chae\", \"bong\", \"jin\", \"cha\", \"korean\", \"kim\", \"jeong\", \"kang\", \"sung\", \"lee\", \"korea\", \"park\", \"karan\", \"arora\", \"pandey\", \"nair\", \"chatterjee\", \"kapoor\", \"hercules\", \"saibal\", \"undone\", \"mythic\", \"serpent\", \"midwife\", \"messiah\", \"amara\", \"vikram\", \"martel\", \"dhawan\", \"sanjay\", \"dice\", \"exploring\", \"arjun\", \"truths\", \"quint\", \"enact\", \"tilt\", \"dimensions\", \"fain\", \"appreciative\", \"abhishek\", \"convenient\", \"burch\", \"elastic\", \"nineteen\", \"sparrow\", \"luca\", \"attenborough\", \"ghoul\", \"slasher\", \"hannibal\", \"astronauts\", \"falco\", \"emt\", \"challenger\", \"geeks\", \"mekhi\", \"phifer\", \"ferb\", \"freaks\", \"fifa\", \"slime\", \"reincarnated\", \"ghouls\", \"phineas\", \"ascent\", \"shuttle\", \"cup\", \"smartphones\", \"lobster\", \"recognized\", \"bratty\", \"tidy\", \"turnover\", \"drafts\", \"cartoony\", \"epiphany\", \"savannah\", \"organization\", \"sui\", \"awe\", \"workaholic\", \"kimmy\", \"muppet\", \"obi\", \"claudius\", \"rim\", \"muppets\", \"darth\", \"jedi\", \"piggy\", \"babies\", \"trickster\", \"sith\", \"eureka\", \"eastenders\", \"candle\", \"gonzo\", \"julio\", \"misguided\", \"skywalker\", \"township\", \"recollection\", \"josephine\", \"mekhi\", \"phifer\", \"recognized\", \"bratty\", \"tidy\", \"turnover\", \"drafts\", \"cartoony\", \"epiphany\", \"elsa\", \"callaghan\", \"moms\", \"prevention\", \"underwear\", \"vacuum\", \"tent\", \"axel\", \"approached\", \"cosmos\", \"dune\", \"mayfair\", \"clarice\", \"evangelion\", \"spacetime\", \"adrienne\", \"wormhole\", \"lambs\", \"hawking\", \"upend\", \"messiah\", \"hannibal\", \"alia\", \"shinji\", \"braga\", \"astrophysicist\", \"horizons\", \"geneticist\", \"pluto\", \"urgency\", \"myriad\", \"philosophical\", \"mekhi\", \"phifer\", \"hypnosis\", \"recognized\", \"bratty\", \"tidy\", \"bernadette\", \"quantum\", \"soviet\", \"nat\", \"graeme\", \"brannon\", \"macon\", \"soni\", \"alf\", \"torchwood\", \"hostages\", \"terrace\", \"flux\", \"hasan\", \"wayward\", \"kanye\", \"pines\", \"defying\", \"patriot\", \"thad\", \"rectify\", \"manual\", \"activism\", \"mekhi\", \"phifer\", \"negro\", \"futile\", \"recognized\", \"bratty\", \"tidy\", \"turnover\", \"drafts\", \"cartoony\", \"epiphany\", \"reused\", \"rhythmic\", \"idaho\", \"justified\", \"schilling\", \"clues\", \"klasky\", \"ears\", \"graeme\", \"csupo\", \"allowed\", \"jericho\", \"olafur\", \"darri\", \"cyber\", \"township\", \"euphoria\", \"flames\", \"till\", \"panther\", \"reprising\", \"lawman\", \"mekhi\", \"phifer\", \"recognized\", \"bratty\", \"tidy\", \"turnover\", \"drafts\", \"cartoony\", \"epiphany\", \"reused\", \"rhythmic\", \"eject\", \"remembrance\", \"handgun\", \"scenic\", \"approached\", \"rounding\", \"remade\", \"courts\", \"dusk\", \"salmon\", \"grapple\", \"outs\", \"entries\", \"creep\", \"exceptions\", \"cellular\", \"zreik\", \"karma\", \"firefly\", \"crocodile\", \"farce\", \"tracked\", \"portmanteau\", \"mgm\", \"electromagnetic\", \"theatrically\", \"timmy\", \"kitt\", \"darkwing\", \"ducktales\", \"csupo\", \"klasky\", \"kendrick\", \"webby\", \"dewey\", \"bibb\", \"breeze\", \"mekhi\", \"phifer\", \"recognized\", \"bratty\", \"tidy\", \"turnover\", \"drafts\", \"cartoony\", \"epiphany\", \"reused\", \"rhythmic\", \"eject\", \"remembrance\", \"handgun\", \"scenic\", \"approached\", \"rounding\", \"remade\", \"courts\", \"rugrats\", \"quack\", \"buttons\", \"hates\", \"mishap\", \"soni\", \"chae\", \"diesel\", \"mcpherson\", \"soviet\", \"dime\", \"sonic\", \"mallard\", \"squirrel\", \"indicator\", \"interns\", \"darkly\", \"debunk\", \"recycled\", \"ramsay\", \"bower\", \"smallville\", \"steed\", \"brutus\", \"nightmares\", \"dickinson\", \"biggest\", \"loser\", \"thq\", \"township\", \"revisited\", \"mekhi\", \"phifer\", \"recognized\", \"bratty\", \"tidy\", \"turnover\", \"drafts\", \"cartoony\", \"epiphany\", \"reused\", \"rhythmic\", \"eject\", \"remembrance\", \"handgun\", \"scenic\", \"approached\", \"rounding\", \"remade\", \"cuisine\", \"establishment\", \"lark\", \"luthor\", \"springfield\", \"slant\", \"jodie\", \"shay\", \"restless\", \"flux\", \"potion\", \"recognisable\", \"instructions\", \"stipulate\", \"marilyn\", \"females\", \"auditioned\", \"pertwee\", \"kimmy\", \"serenity\", \"nye\", \"rosemary\", \"rugrats\", \"shen\", \"klasky\", \"hannibal\", \"hui\", \"slasher\", \"mekhi\", \"phifer\", \"recognized\", \"bratty\", \"tidy\", \"turnover\", \"drafts\", \"cartoony\", \"epiphany\", \"reused\", \"rhythmic\", \"eject\", \"remembrance\", \"handgun\", \"scenic\", \"approached\", \"rounding\", \"remade\", \"courts\", \"convenient\", \"distorted\", \"leaning\", \"crest\", \"macintosh\", \"belittle\", \"grandmaster\", \"wannabe\", \"blooper\", \"minus\", \"csupo\", \"phrases\", \"delusional\", \"espouse\", \"portrayals\", \"moylan\", \"hone\", \"misconception\", \"launched\", \"soni\", \"translations\", \"bonanza\", \"cadet\", \"picard\", \"pistols\", \"doe\", \"asteroid\", \"partridge\", \"engel\", \"sas\", \"seeker\", \"cristobal\", \"messiah\", \"mekhi\", \"phifer\", \"baftas\", \"recognized\", \"bratty\", \"tidy\", \"turnover\", \"drafts\", \"cartoony\", \"clifton\", \"epiphany\", \"reused\", \"rhythmic\", \"eject\", \"remembrance\", \"handgun\", \"scenic\", \"approached\", \"wins\", \"turns\", \"flaming\", \"slasher\", \"yellow\", \"dover\", \"conclusions\", \"bookended\", \"seed\", \"exams\", \"evacuation\", \"julien\", \"orbital\", \"rounding\", \"auditioned\", \"callaghan\", \"mirren\", \"thorpe\", \"shaman\", \"pinky\", \"conman\", \"animaniacs\", \"ruined\", \"masquerade\", \"courts\", \"purposely\", \"mekhi\", \"phifer\", \"recognized\", \"bratty\", \"tidy\", \"turnover\", \"drafts\", \"cartoony\", \"epiphany\", \"bias\", \"reused\", \"rhythmic\", \"eject\", \"remembrance\", \"handgun\", \"scenic\", \"approached\", \"rounding\", \"remade\", \"staircase\", \"enlarge\", \"darkwing\", \"deliberation\", \"scientifically\", \"needle\", \"buttons\", \"solicitor\", \"caricatures\", \"macneille\", \"welles\", \"tress\", \"sparkle\", \"stature\", \"macho\", \"hypnotize\", \"stoner\", \"catchphrases\", \"darcy\", \"monkeys\", \"harlem\", \"bumpy\", \"mekhi\", \"phifer\", \"recognized\", \"bratty\", \"tidy\", \"turnover\", \"drafts\", \"cartoony\", \"epiphany\", \"reused\", \"rhythmic\", \"eject\", \"remembrance\", \"handgun\", \"scenic\", \"approached\", \"rounding\", \"remade\", \"courts\", \"convenient\", \"remixes\", \"agreements\", \"dilemmas\", \"slain\", \"loaded\", \"appreciative\", \"defenders\", \"crowe\", \"retort\", \"deliberation\", \"engel\", \"admits\", \"upheaval\", \"iconography\", \"whoopi\", \"misunderstand\", \"breeze\", \"blogs\", \"singleton\", \"reaffirm\", \"weep\", \"crooked\", \"noonan\", \"paleyfest\", \"masquerade\", \"smartly\", \"psychopathic\", \"ardent\", \"wakefield\", \"mendes\", \"consolidate\", \"cosby\", \"eddy\", \"banshee\", \"selina\", \"falling\", \"mekhi\", \"phifer\", \"recognized\", \"bratty\", \"tidy\", \"turnover\", \"drafts\", \"cartoony\", \"epiphany\", \"reused\", \"rhythmic\", \"eject\", \"remembrance\", \"handgun\", \"scenic\", \"approached\", \"rounding\", \"remade\", \"courts\", \"convenient\", \"remixes\", \"agreements\", \"dilemmas\", \"slain\", \"loaded\", \"jericho\", \"lots\", \"electrician\", \"brightly\", \"digit\", \"discontinued\", \"colourful\", \"clair\", \"roscoe\", \"filler\", \"spontaneous\", \"declared\", \"balancing\", \"superstation\", \"cheers\", \"tabitha\", \"fingerprint\", \"suggestions\", \"magna\", \"dining\", \"heads\", \"accelerated\", \"assumed\", \"loom\", \"handedly\", \"recess\", \"deadwood\", \"smiley\", \"wei\", \"hui\", \"gao\", \"soil\", \"miki\", \"shen\", \"mekhi\", \"phifer\", \"recognized\", \"bratty\", \"tidy\", \"turnover\", \"drafts\", \"cartoony\", \"epiphany\", \"reused\", \"rhythmic\", \"eject\", \"remembrance\", \"handgun\", \"scenic\", \"approached\", \"rounding\", \"remade\", \"courts\", \"convenient\", \"remixes\", \"bequeath\", \"hearst\", \"majesty\", \"confides\", \"individuality\", \"telefilm\", \"juxtapose\", \"weep\", \"stature\", \"sang\", \"yong\", \"luckily\", \"masquerade\", \"superiority\", \"afflict\", \"acquit\", \"grader\", \"wang\", \"zhang\", \"mead\", \"saloon\", \"pharmacist\", \"sneaky\", \"jinn\", \"solicitor\", \"keeping\", \"meaney\", \"cellmate\", \"escaping\", \"quarters\", \"disrupt\", \"thrillist\", \"mekhi\", \"phifer\", \"recognized\", \"bratty\", \"tidy\", \"turnover\", \"drafts\", \"cartoony\", \"epiphany\", \"reused\", \"rhythmic\", \"eject\", \"remembrance\", \"handgun\", \"scenic\", \"approached\", \"rounding\", \"remade\", \"courts\", \"rory\", \"prolific\", \"kardashian\", \"extremes\", \"accused\", \"sleight\", \"reunites\", \"interrogator\", \"cristobal\", \"irritating\", \"santo\", \"roxana\", \"caitlyn\", \"trunk\", \"hadadi\", \"darcy\", \"forrester\", \"deliciously\", \"reshoots\"], \"Freq\": [26.0, 39.0, 10.0, 8.0, 9.0, 22.0, 22.0, 25.0, 24.0, 4.0, 8.0, 22.0, 16.0, 19.0, 19.0, 24.0, 21.0, 27.0, 20.0, 18.0, 18.0, 16.0, 18.0, 20.0, 15.0, 14.0, 18.0, 6.0, 13.0, 18.0, 24.688547223524175, 22.27359314179156, 25.451171889576482, 19.487457336599995, 19.469088184844153, 17.856392857458374, 15.939689009749708, 14.47567998838706, 14.956569614816575, 13.752725322217298, 12.670849899265084, 12.114598993925407, 11.969968820926962, 11.929411910003811, 11.681720537145011, 11.357513398728472, 11.207087136127372, 11.140470831643661, 11.027882200889755, 11.015207329335393, 10.841385417724883, 10.809157720150186, 10.67570280464714, 10.432862820972145, 10.284983865982007, 10.161250807943603, 10.131259044065333, 10.074493547993622, 20.391755656363376, 10.200621595239715, 18.39723661983494, 13.55809417059189, 18.095130302509308, 21.635783514298215, 25.973420988262916, 14.800662284457497, 36.38454290127034, 17.258382733228913, 12.38895380664779, 14.478041218846181, 16.40184293525572, 19.52668807176291, 14.965865730698603, 14.507678029352993, 18.32941055433455, 19.546179708237425, 14.580017774392385, 24.931579586233404, 23.227513070270557, 16.895775311177413, 17.236990348193594, 18.92180806298132, 16.18373402627469, 16.578674887373516, 16.544539355562172, 16.898994036748977, 16.412368242041225, 16.407794131324806, 16.302923274870118, 16.747227927654862, 11.157469301736514, 10.916865276759369, 10.247752275242334, 9.864791620279583, 9.516649293174961, 9.463127624288335, 9.864207930629656, 8.778218249563851, 8.733695440478947, 9.204232549608948, 8.51741102249503, 8.386195678737774, 8.138775193898613, 7.933134660360895, 8.64453245594511, 7.841839544696858, 7.7239205548107455, 7.700734772923863, 7.64664419577641, 7.664110070515251, 7.503419215421553, 7.391250490393551, 7.355274169467928, 7.3516285273122595, 7.257516174783924, 7.182026836661444, 7.0767317618610175, 7.063762842627466, 7.091318779500317, 21.11157785287421, 9.194040239763018, 9.208041884607521, 19.09890485482469, 14.281636819581614, 8.94704234224607, 20.96439359083463, 16.014881450474814, 17.332760854064748, 11.368607247233754, 8.775429428725595, 10.439335953416148, 10.333457190251087, 15.14524044987906, 24.36296233899317, 13.754556613326095, 13.535066120532555, 13.535419543380652, 11.095851943949812, 12.222257663526682, 12.76555062178032, 12.33942022091959, 12.917120932439342, 12.664838613092288, 13.616945251062598, 11.142112914086292, 13.005361338338247, 11.61033137994881, 14.506912836420197, 12.06498933348632, 13.184367529834244, 10.957100798441363, 11.340796559476267, 11.187183971807725, 11.130707992356665, 3.6683482862180967, 2.290462462304993, 2.1130378933675633, 2.012256657661559, 1.908803061991997, 2.050782715844434, 1.8264516015031411, 1.7862169383975819, 1.5891732195396489, 1.5330998769704502, 1.5209288360169617, 1.4947341370672609, 1.4840891959064784, 1.461023722931544, 1.3954332411094086, 1.2837735914253623, 1.2685226007951, 1.2645553764419242, 1.7900166736117715, 1.1734922339397964, 1.165084355483046, 1.1500302273134593, 1.1455917194809995, 1.1382274591020263, 2.2021239399883985, 1.1123175672109538, 1.1006355054001373, 1.0933832488906354, 1.0736685101640515, 1.0699651011746125, 1.3216671224744243, 7.501224247938285, 2.416878082805755, 1.8001648666866175, 2.951797949526314, 1.1710261280606125, 2.387775106115765, 1.5269517037345883, 1.4299678378684688, 1.2584744065625704, 1.2542871763600136, 1.2421718523595524, 1.2255358806398424, 1.1598632381631377, 1.1138003128868916, 1.1209245371479197, 1.0813074104413591, 1.0805011559556847, 1.444982001154201, 1.3939552691641213, 1.0291215707057286, 1.0152236590506323, 1.0107946298851542, 0.9793022577014171, 0.9756554313487507, 0.9695231145007356, 0.9648998434302226, 0.9637151835286044, 0.9167073858629227, 0.9119939632509568, 0.8962068774418139, 1.0364389070422488, 0.8652661424851558, 0.8587121481179844, 0.8344731206349909, 0.9570230052533882, 1.213316203522916, 1.4381175867600504, 1.5489082528802647, 1.2064037290694627, 0.9957980092686309, 1.0180843272251383, 0.9708538731539975, 1.158029532009814, 1.153629407846053, 1.2486135152599624, 1.0701169817139247, 0.8469253048969073, 0.7952920847755899, 0.8860967546983319, 1.6831344194549511, 1.3458951764351552, 1.6042751340035806, 0.6700930127695551, 0.8931544540752704, 1.0284938292460735, 0.628997501770216, 0.5718800182917004, 1.2436979128533434, 0.5375898422287148, 0.5348299057794275, 1.015901959601079, 0.4388713358601954, 0.4056948986307435, 0.40000125579194307, 0.4407897664788082, 0.5077671720584359, 0.3836163576519088, 0.7458805503135609, 1.3953623491658962, 1.20063218317331, 1.0045886794370378, 0.32130574267023987, 0.417167744957119, 1.4088762983588075, 0.637791626469461, 1.5440887286466372, 2.153007289463641, 0.5873514593848462, 0.847804604889454, 0.7108831195854559, 1.2102981164183535, 0.7064100798841192, 0.7371974752244609, 0.23754107007852027, 0.19459923129433443, 0.17852327694355968, 0.16780568858714656, 0.1384642570726649, 0.2547658856328902, 0.26735318640338207, 0.09394763955525787, 0.06820070699851552, 0.10391957088708027, 0.09508256063969513, 0.11392788949855241, 0.07192759912422246, 0.07790317220840579, 0.10965457392662668, 0.04445906605783355, 0.04940918326975422, 0.0707586186435529, 0.05990637201913982, 0.03477974412764807, 0.058806224198227106, 0.02749823228246967, 0.03249880291702237, 0.021315665369536545, 0.0181204308127961, 0.018625250567056915, 0.01611364937336416, 0.013291800033770935, 0.0267000574005965, 0.012529121346310004, 0.016471285074676094, 0.01544759203009839, 0.019112824617446542, 0.018207831031254014, 0.017762234750522108, 0.29864227560012513, 0.45892265360026946, 0.1793692356253412, 0.14991590579819283, 0.11674012132632255, 0.11485838043613385, 0.11013002733626018, 0.11048024174954481, 0.10193544553626283, 0.0630548843188448, 0.0630548843188448, 0.09707815663225076, 0.09692491521647843, 0.0861221709308368, 0.08771317949745765, 0.055510136545360904, 0.06482703339976971, 0.07466361695738764, 0.01633325621073119, 0.02939064903962573, 0.06685599693599718, 0.01154048555485131, 0.012799456789668106, 0.0073869845600131835, 0.007387082779425506, 0.007386984560007762, 0.007386984560007306, 0.007387693930138917, 0.007386984560044756, 0.007386984560007709, 0.016763998808883816, 0.04648727865734669, 0.010717159477259134, 0.007478522249196117, 0.007407875485954152, 0.007392008457171554, 0.23161948104700295, 0.11134724350248863, 0.11671708467249614, 0.08771688049082901, 0.17346892415203835, 0.08576441498113642, 0.21927078721345578, 0.09419462470198675, 0.08600955114774458, 0.06379091502566345, 0.08390847167129732, 0.14212069025813412, 0.0957123356859584, 0.05934069420133823, 0.046167558495278344, 0.059359196469788995, 0.016858806091316045, 0.03661936559089681, 0.012525024130054708, 0.014333664321861323, 0.01574476203198706, 0.007167550373070474, 0.007167550373070474, 0.007167550373040156, 0.00716755037314036, 0.007167550373034864, 0.007167550939091632, 0.007167550373036226, 0.007167550373070968, 0.007167550373034814, 0.030852292879881307, 0.00723004847242817, 0.007288302886428722, 0.0071729691346354724, 0.007172768644941986, 0.007172035530119771, 0.007170922214970478, 0.007170876144032014, 0.007168933023239727, 0.39163172832664656, 0.22976955000882948, 0.11123296636412272, 0.08129507114565342, 0.10838815529475788, 0.06491889902553105, 0.06567073553688293, 0.12652618230736512, 0.04433659877060575, 0.033895438730370736, 0.049575259902105866, 0.042577837578911704, 0.03583381984298659, 0.04174957860308219, 0.0357686979878182, 0.03719367302914854, 0.023737210094193203, 0.02647484103444156, 0.01383126475491053, 0.020967764148209323, 0.01354505735068747, 0.010043760269700702, 0.02064790962282773, 0.007161340175381279, 0.007161340175381279, 0.010194039263698858, 0.007161340175350904, 0.007161340175451296, 0.007161340175345602, 0.014730697185962385, 0.014730565959942982, 0.012436092276366202, 0.007210638961071844, 0.00717892921701865, 0.007169582933953241, 0.1420818488306733, 0.12729964983723827, 0.15559881627418065, 0.1312332159110659, 0.13646649412413375, 0.11775009596647099, 0.11834880180179488, 0.09557807651712029, 0.09258561766773331, 0.08366845909679702, 0.09493984267227586, 0.05712663795953319, 0.07332155161742247, 0.04736681177628165, 0.02884909290897707, 0.02007559618012616, 0.014427299730266692, 0.010073094521154978, 0.010073094521154978, 0.014249976000174754, 0.008623718738817244, 0.007143316253212048, 0.007143316253312169, 0.00714331625321053, 0.007143316253206317, 0.007143316253208121, 0.007143316253242836, 0.007143316253206709, 0.007143316253206378, 0.007143316253207339, 0.008085472680592997, 0.00718993931136389, 0.007189867563757399, 0.007149686856300958, 0.007144469945642026, 0.00714434883704765, 0.00714382984162034, 0.007143666072359631, 0.007143482825568397, 0.21330184405689714, 0.17361776447165056, 0.13345168222382706, 0.19783360413817938, 0.10556974028901119, 0.14395001131289573, 0.09504552358045443, 0.08155322090273529, 0.09827479630305809, 0.04154208959248853, 0.01541786224427487, 0.007082661319894817, 0.007082661319894817, 0.007082661319864707, 0.007082661319964224, 0.007082661319859451, 0.007082661319859011, 0.007082661319860804, 0.007082661319895309, 0.007082661319859401, 0.007082661319859071, 0.007082661319860027, 0.007082661319861321, 0.007082661319865272, 0.007082661319860399, 0.007082661319859209, 0.007082661319869768, 0.007082670151335973, 0.0070826613198591015, 0.007082661319869455, 0.008140891343266362, 0.007083118578169316, 0.007082734567097826, 0.007082716374351173, 0.007082706357453402, 0.007082701782441773, 0.00708269781349533, 0.00708269675532792, 0.007082690997089459, 0.007082689148103588, 0.007082687510970199, 0.00708268666586088, 0.0070826764500317475, 0.007082671490359308, 0.007082670717053996, 0.007082670449434434, 0.007082670420502691, 0.0070826696154240466, 0.19167656961326293, 0.22329534900033046, 0.16696659656374338, 0.20639763974625294, 0.12264429233375586, 0.06975251031894539, 0.07281509134349297, 0.04969447142781972, 0.04259930052586705, 0.024447440742114884, 0.015437757338163126, 0.007081116018464962, 0.007081116018464962, 0.007081116018434829, 0.007081116018534422, 0.007081116452996365, 0.007081116018429129, 0.007081116018430924, 0.0070811160184784646, 0.007081116018429519, 0.00708111601842919, 0.0070811160184301464, 0.0070811160184314405, 0.007081116018435395, 0.0070811160184305185, 0.007081116018429327, 0.007081116018439895, 0.007081116018435415, 0.007081116018429219, 0.0070811160187952355, 0.009008864453644025, 0.007101919192013347, 0.0070824490321725496, 0.007081842158369318, 0.007081762767797303, 0.00708142950100469, 0.007081262373122063, 0.007081259723342815, 0.007081216943761707, 0.007081215117824622, 0.007081206278857249, 0.007081188939026205, 0.007081188724775992, 0.007081167266777039, 0.007081160037614766, 0.007081151329633113, 0.007081138675433968, 0.007081138486480109, 0.007081124319527901, 0.25401116129955076, 0.13288272127490167, 0.11995810611860079, 0.10093465200966158, 0.08310050631037061, 0.13873030096531694, 0.10331347627536575, 0.08861856299071068, 0.08828944972975453, 0.012246593685476507, 0.010711821435130693, 0.013355488404976025, 0.007044189360449339, 0.007044189360449339, 0.007044189360419412, 0.007044189360518323, 0.007044189360414188, 0.00704418936041375, 0.0070441893604155335, 0.007044189360449826, 0.007044189360414139, 0.00704419573248059, 0.007044189360414761, 0.007044189360416047, 0.0070441893604199736, 0.00704418936041513, 0.007044189360413947, 0.007044189360424443, 0.0070441893604199935, 0.007044189360413841, 0.01239457216656, 0.011953022848514742, 0.010122762088754018, 0.0071336190759445015, 0.007086753709779011, 0.007072415960395352, 0.007069475255542258, 0.0070445983935308034, 0.007044576755204423, 0.007044405107891996, 0.00704423234787137, 0.0070442120853628845, 0.007044209820202284, 0.007044207264133259, 0.00704420271321027, 0.007044199392045919, 0.007044198191418849, 0.007044197361233274, 0.21046975038132618, 0.1210835430648456, 0.22149587112729893, 0.1254008781014643, 0.175060982067475, 0.08782542256777785, 0.04375971418545174, 0.018697272330406065, 0.014204167192782459, 0.01007399542283669, 0.006983317265721522, 0.006983317265721522, 0.006983317265691766, 0.00698331726579011, 0.006983317265686572, 0.006983317273602135, 0.006983317265687909, 0.006983317265722006, 0.006983317265686522, 0.006983317265686197, 0.006983317265687141, 0.006983317265688419, 0.006983317265692324, 0.006983317265687509, 0.0069833172656863325, 0.006983317265696769, 0.006983317265692343, 0.006983317265686227, 0.006983317265696459, 0.006983317265689383, 0.006984468803059441, 0.006984228774104968, 0.006984047158588787, 0.006983688381572072, 0.006983585965292356, 0.006983495837996721, 0.006983446566517743, 0.006983426823981455, 0.006983422428247756, 0.006983415241282597, 0.00698340007441513, 0.0069833777604892235, 0.006983376546880789, 0.0069833585266364795, 0.006983354075711582, 0.006983350486031743, 0.006983347152949071, 0.006983346468389745, 0.006983345717587488, 0.006983341261409908, 0.11234880091739048, 0.0897023815495958, 0.1318031047470814, 0.07743301188940901, 0.11203669189764753, 0.07879741975870878, 0.11435576229917732, 0.06075966846799451, 0.09184377477277347, 0.02047027698281273, 0.010910123090360173, 0.014028036834125339, 0.00696640808783802, 0.00696640808783802, 0.01173651427327031, 0.006966416405796733, 0.006966408087906428, 0.0069664080878031635, 0.006966408087802729, 0.006966408087804496, 0.006966408087838505, 0.011690985136588353, 0.006966408087803114, 0.006966414113680703, 0.006966408087803731, 0.006966408087805006, 0.0069664080878089, 0.0069664080878040985, 0.0069664082511191475, 0.0069664080878133324, 0.010858318082733917, 0.006970904569411917, 0.0069666937440706666, 0.006966558269693315, 0.0069664444832535375, 0.0069664444727000705, 0.00696643025427961, 0.006966421431249274, 0.006966421312945414, 0.006966418819471097, 0.006966416166205127, 0.006966416128142266, 0.006966415384186101, 0.006966415353450484, 0.006966415316067227, 0.141363875449804, 0.12988483278877713, 0.11093085350787081, 0.09808821962412, 0.10354682446650808, 0.08097346643427236, 0.11796329250336866, 0.034792132176415254, 0.03288602853484345, 0.010946398238224835, 0.010901831437771192, 0.006921253889579451, 0.006921253889579451, 0.006921253889549924, 0.006921253889647513, 0.00692125388954477, 0.006921253889544339, 0.006921253889546095, 0.006921253889579933, 0.0069212538895447205, 0.010450380583584315, 0.006921253889544397, 0.006921253889545335, 0.006921253889546602, 0.00692125388956806, 0.006921253889545699, 0.006921253889545276, 0.006921253889554887, 0.006921253889550496, 0.0069212538895444264, 0.01070032521086654, 0.006921378774487594, 0.006921307610205826, 0.006921305307372319, 0.006921280792632048, 0.006921271298807433, 0.006921264923002988, 0.006921264399601195, 0.006921261969168219, 0.006921261840635539, 0.006921261177954876, 0.006921260708450765, 0.0069212604978654635, 0.0069212596336391905, 0.006921259214208236, 0.006921259084257803, 0.006921258938317652, 0.006921258732219928, 0.29178176519739485, 0.08743786945453791, 0.10252221176356703, 0.08201001497242262, 0.006882513730142717, 0.006882513730142717, 0.0068825137301133064, 0.0068825137302105125, 0.0068825137301081725, 0.006882513730112883, 0.006882513730109494, 0.006882513730150997, 0.006882513730108124, 0.006882513730107801, 0.006882513730108735, 0.006882586970348755, 0.006882513730145472, 0.006882513730109099, 0.006882513730107936, 0.0068825141667743315, 0.006882513730113877, 0.006882513730107832, 0.006882513730117944, 0.0068825137301109516, 0.006882513730179581, 0.006882513730163027, 0.006882513730108336, 0.00688251373010764, 0.006882513730110724, 0.006882513730114644, 0.00729223631099768, 0.006882561495158714, 0.006882549543840205, 0.006882548182024839, 0.006882534193802297, 0.006882528232345689, 0.006882524109063632, 0.0068825231641674416, 0.006882522127430194, 0.006882521982994991, 0.0068825218453368725, 0.006882521042719929, 0.006882520435154731, 0.006882519820041612, 0.006882519764817537, 0.0068825179697465134, 0.00688251774005113, 0.006882517410299773, 0.006882516202427703, 0.006882516103143686, 0.006882516101089666, 0.006882516058864933, 0.006882516011506494, 0.006882515519044226, 0.006882515192755034, 0.12694314332882067, 0.11301749787816558, 0.10560620865904305, 0.08622686012277042, 0.061844424186502545, 0.006865982596884706, 0.006865982596884706, 0.006865982596855325, 0.006865982596952432, 0.006865982596850197, 0.006865982596849767, 0.006865982596851517, 0.006865982596885185, 0.006865982596850148, 0.006865982596849826, 0.0068659825968507586, 0.006865982596852021, 0.006865982596855877, 0.006865982596851122, 0.00686598259684996, 0.006865982596860263, 0.006865982596855896, 0.006865982596849856, 0.006865982596859959, 0.006865982596852973, 0.006865982596921532, 0.006865982596904995, 0.0068659825968503604, 0.006865982596849666, 0.006865982596852747, 0.006866663261101823, 0.006866164217572847, 0.006866140550840991, 0.006866074147507323, 0.006866042350319521, 0.006866008554991778, 0.00686599988464366, 0.006865998746949867, 0.006865998064467364, 0.006865994375600252, 0.006865990389165522, 0.006865988712101486, 0.006865988151188575, 0.006865988105741088, 0.006865988065201097, 0.006865987206736591, 0.006865987086906952, 0.0068659865640371825, 0.006865986477482474, 0.006865986398675546, 0.006865986325324125, 0.0068659854437407315, 0.00686598510172609, 0.00686598504240125, 0.0068659847074823, 0.109156921465037, 0.08890516470866004, 0.07976188473966955, 0.07880025187042496, 0.018840579041946685, 0.029987769206678727, 0.018072772124774643, 0.024044496861494125, 0.018417988914019048, 0.006848618643556372, 0.006848618643556372, 0.006848618643527053, 0.006848618643623958, 0.006848618643521934, 0.006848618643521505, 0.006848618643523252, 0.006848618643556851, 0.006848618643521885, 0.006848618643521564, 0.006848618643522495, 0.006848618643523754, 0.006848618643527603, 0.006848618643522858, 0.006848618643521698, 0.006848618643531981, 0.006848618643527622, 0.006848618643521594, 0.006848618643531676, 0.006848618643524704, 0.006848618643593121, 0.006848627804116598, 0.006848625288051162, 0.006848622137841241, 0.006848620870787174, 0.00684862019401581, 0.006848620032603421, 0.006848620029742247, 0.006848619938013139, 0.006848619895343527, 0.006848619432517551, 0.006848619318454947, 0.006848619282536739, 0.0068486191871661006, 0.006848619163311638, 0.00684861916211949, 0.00684861913956365, 0.006848619125749024, 0.006848619122762055, 0.006848619122238854, 0.006848619121249323, 0.0068486190918899065, 0.10448860409911269, 0.0821864627057006, 0.09349062639103677, 0.053369712149878686, 0.05419700179288679, 0.0345991556620496, 0.03440448332656561, 0.014129155206539637, 0.013973886219722136, 0.023302140401255847, 0.016567198884850656, 0.006843603159131454, 0.006843603159131454, 0.006843603159102232, 0.006843603159198812, 0.0068436031590971315, 0.006843603159096704, 0.006843603159098445, 0.006843603159131931, 0.006843603159097083, 0.006843603159096764, 0.006843603159097691, 0.006843603159098946, 0.00684360315910278, 0.006843603159098051, 0.0068436031590968956, 0.006843603159107144, 0.006843603159102799, 0.0068436031590967915, 0.00684360315910684, 0.012804651351367394, 0.006940641961442533, 0.006947536678880676, 0.006843621242454946, 0.006843607526665836, 0.006843606889492172, 0.006843606465777547, 0.006843605550630267, 0.006843605438969256, 0.006843605016418093, 0.0068436043645576, 0.006843604285106518, 0.006843604146531528, 0.0068436040491524994, 0.006843603861725895, 0.006843603815332303, 0.0068436037532214325, 0.006843603706223056, 0.0068436036803029], \"Total\": [26.0, 39.0, 10.0, 8.0, 9.0, 22.0, 22.0, 25.0, 24.0, 4.0, 8.0, 22.0, 16.0, 19.0, 19.0, 24.0, 21.0, 27.0, 20.0, 18.0, 18.0, 16.0, 18.0, 20.0, 15.0, 14.0, 18.0, 6.0, 13.0, 18.0, 24.902474663932974, 22.487520582151593, 25.700229228749272, 19.704185838977548, 19.686651640838186, 18.070320304016278, 16.155157580185488, 14.689607428911089, 15.186146083239224, 13.966652762800873, 12.884777341997369, 12.328526434518244, 12.183896261547265, 12.143339350318085, 11.896983785054728, 11.57144083931499, 11.42101457652886, 11.354398282568864, 11.241809643150562, 11.229134769882709, 11.055312858215625, 11.023227352418651, 10.889630244948073, 10.646790262052427, 10.498911306467267, 10.375200306782947, 10.345186485476344, 10.288420988694002, 20.827011708744486, 10.418671489609846, 18.865043966517867, 13.92269053379613, 18.69316646266909, 22.437583697046904, 27.142544969727425, 15.259789508242081, 39.52316278082565, 18.0351434719327, 12.737397342797669, 15.035467579413975, 17.248014737404052, 21.139380950938108, 15.782016855033916, 15.268810839056615, 20.027627044444966, 21.99448996031214, 15.774464194166702, 32.81676639987765, 31.42338460922328, 20.523240707339113, 21.688214664860475, 26.60985424094753, 19.501311845852232, 21.013331770938603, 21.112200751694072, 22.59754822752318, 22.01268514412566, 24.635817548500366, 25.03406521621518, 16.962782838740278, 11.373024201615815, 11.132420176852131, 10.463307175456489, 10.080346520590629, 9.73220419351189, 9.67868252452765, 10.100584339833881, 8.993773149938416, 8.949250340919596, 9.43798122088294, 8.733824371310906, 8.601750579028632, 8.354330094078744, 8.148689560631732, 8.87999051074512, 8.057394445237277, 7.939475455289642, 7.916289675318277, 7.862199096139281, 7.88197961697388, 7.718974115774377, 7.606805390584222, 7.570829069687537, 7.567183428019596, 7.4730710752577485, 7.3975817368861785, 7.292286661834839, 7.279317743532574, 7.307973393017389, 22.082692009194048, 9.512282035329749, 9.545330110615634, 21.757550651025618, 15.910091892596206, 9.453952115728868, 24.970861330470143, 18.54200360914473, 20.722611445986868, 12.591778334751776, 9.34613927309857, 11.714856453893036, 11.669031202775075, 19.736638042540804, 37.88845399340153, 17.44700246944934, 17.07164520589985, 17.217929188788794, 12.982917209134468, 15.316986604510127, 16.67931669983894, 15.811483243749334, 17.221044001482202, 16.758708584068565, 19.153327104869028, 13.475792434010367, 18.46579371498114, 14.88287170571237, 26.192259268398832, 17.339035608570565, 22.372813338434575, 13.65612927719036, 18.164112799391024, 17.42366085999242, 24.031326203427742, 3.899738504268924, 2.521852646551177, 2.344490824197468, 2.243646909372173, 2.140193463110954, 2.3054765698375093, 2.0578420007096665, 2.0176071192982414, 1.8205634987288675, 1.7644900556262901, 1.7523210714549968, 1.7261453596945608, 1.7154796129621994, 1.6924139259981088, 1.6268234473223953, 1.5152869157987539, 1.5004101955574196, 1.4959456347286857, 2.1183570702249224, 1.4048824418769201, 1.396474813580317, 1.3814205371399404, 1.3769962113099694, 1.369617687038901, 2.6545474556731996, 1.3437077852736927, 1.3320258115180246, 1.324773554768115, 1.3050587439793169, 1.301355284954253, 1.7541514994692866, 26.60985424094753, 8.099841165256867, 4.75685642021194, 39.52316278082565, 1.806739575752651, 2.6686616567374957, 1.760953552510202, 1.6639720022955902, 1.4924741549537701, 1.4882873736405926, 1.4761716498373825, 1.4654988329912388, 1.393865305456887, 1.3478001938183821, 1.360202695709451, 1.3153074034146752, 1.3145892544484783, 1.7627138162727232, 1.7046794123973124, 1.2631221998756754, 1.2492236500353113, 1.2447946346440735, 1.2133019952578217, 1.20965516912969, 1.2035368898765018, 1.1988997633922067, 1.1977150179418319, 1.1507077911152714, 1.1459937220620835, 1.1302072100727834, 1.3140901895062662, 1.099265892271706, 1.092712738966485, 1.0684731707301232, 1.2266108058160707, 1.5583866192588105, 1.858939693542792, 2.217237627811074, 1.7798110498145154, 1.3453361430124815, 1.4548435902481953, 1.6053667488545875, 1.4030416205601823, 1.398690756543736, 1.532028771875339, 1.3151940663762278, 1.0918477835362024, 1.0402145464745332, 1.167376802542705, 2.264675965746049, 1.812223626170408, 2.1886577844829533, 0.9150155226874701, 1.220149636951252, 1.421230749682958, 0.8739535980005652, 0.8168484539744393, 1.7864157661744144, 0.7825124490516817, 0.7798600963665134, 1.4835514448532467, 0.6837937975485834, 0.6506216815021526, 0.645110507316408, 0.7122932394787188, 0.8282982215933452, 0.6285388194290682, 1.2330183299603443, 2.3234553828505544, 2.0057205903219093, 1.7274494827156117, 0.5662293751093115, 0.7384639257382918, 2.838410406872955, 1.2328503354746834, 4.490387468838057, 8.342967997637487, 1.1546773605430192, 2.219299699394224, 2.1261033585847957, 10.825432799228253, 2.828213519959324, 9.91749185521218, 0.48864505873166786, 0.44573898687544, 0.4297710656277766, 0.41913527058473676, 0.3895273702433879, 0.7375263313193979, 0.823634416574974, 0.3450113036310658, 0.37884934245708496, 0.5943202759588891, 0.5480406497512363, 0.663253883383588, 0.5235601233142805, 0.5818703278656396, 0.8408893840260958, 0.39879239469076766, 0.44922197704817746, 0.709996473513586, 0.6351659085285325, 0.4595815562446283, 0.8513063355826481, 0.41145101060033956, 0.49912092507636246, 0.46898994814284983, 0.4014278393901495, 0.44644171029612784, 0.400726502212702, 0.3403462070633751, 0.6983805782127601, 0.3374606899055198, 0.4507246839064253, 0.42426916558775396, 0.6158460774644896, 0.684098304314648, 0.66055082099941, 0.549828770236994, 0.9495233438160826, 0.43476965379026505, 0.4421215123749909, 0.36876158256480496, 0.3678733037450003, 0.3615835146268491, 0.5286305238311879, 0.5071367455870965, 0.3172222810563701, 0.3172222810563701, 0.5460724394335803, 0.554256094806826, 0.5024754108064156, 0.5230941158046654, 0.3819995438067615, 0.4526766158662626, 0.7480116965201206, 0.4423130726577529, 0.8882953243323016, 2.07746553230076, 0.3867403339667091, 0.4604375102651383, 0.3241348020794257, 0.3247557159908479, 0.3250917606708083, 0.32786671195099015, 0.3279986040441596, 0.32968567651846997, 0.33053611354267504, 0.8037775091755539, 5.831491995470253, 0.708567446286741, 0.5948907501616095, 0.5193629118218936, 0.46220889706857643, 0.8823093136630494, 0.4618573510638239, 0.5551905449350183, 0.43785588746435794, 0.8725482880227052, 0.43522013375056445, 1.1671743736001505, 0.555276883793153, 0.5539946449972911, 0.42320543895961654, 0.5722750358849614, 1.046045498390456, 0.7747083154724588, 0.4879390217103375, 0.5304747930707255, 0.7645979150002176, 0.387613812196481, 0.9258547008126271, 0.39487639327694823, 0.46923768837731183, 0.5371052567913596, 0.3172222810563701, 0.3172222810563701, 0.3241348020794257, 0.3247557159908479, 0.3250917606708083, 0.32786671195099015, 0.3279986040441596, 0.32968567651846997, 0.33053611354267504, 1.7997059365441561, 0.3950281819733699, 0.821092616731355, 0.42349623836904393, 0.4139753108234583, 0.5964468534919433, 0.6509190760023588, 0.6741838450556924, 0.33612507050131596, 0.9114731097570956, 0.5930000098066702, 0.6116226568247357, 0.5175578598345305, 0.7665584089221386, 0.4614843845940158, 0.6229187820300012, 1.2082627924141125, 0.4269341181306025, 0.3549408060361673, 0.5744622701945559, 0.5235601233142805, 0.4421215123749909, 0.5894026772072241, 0.571006864935811, 0.6280310391973456, 0.42236746994589774, 0.48505138322069175, 0.40098794028673085, 0.6475616969316701, 0.4426105807774291, 0.4016187263803611, 0.864247527558956, 0.3172222810563701, 0.3172222810563701, 0.45942067158344424, 0.3241348020794257, 0.3247557159908479, 0.3250917606708083, 0.6725782740083365, 1.2302925682160535, 1.360202695709451, 0.7148408662150066, 0.6191533269005935, 0.601950780186854, 0.3938281729473989, 0.3792415646689876, 0.6539715324941094, 0.565601622851021, 0.5966843358922397, 0.5364689204109867, 0.5634300588627297, 0.5018178537313253, 0.5000893633818716, 0.4630819759702436, 0.7471734892501798, 0.475478173849649, 0.648173665452389, 0.5182449707793292, 0.3408136800330847, 0.4829996309582341, 0.3877046182040857, 0.3172222810563701, 0.3172222810563701, 0.4666867771618944, 0.3480721334915496, 0.3241348020794257, 0.3247557159908479, 0.3250917606708083, 0.32786671195099015, 0.3279986040441596, 0.32968567651846997, 0.33053611354267504, 0.33172394219378737, 0.3328054230560632, 0.661117335340261, 0.6034899196512208, 0.8374731963491037, 0.7670477429011023, 0.35849160009570213, 0.461331875642692, 0.6191533269005935, 0.3743861442914837, 0.4009616015819793, 0.46539079787329, 0.4633773597673923, 0.4637663427141045, 0.6977658043392586, 0.39487639327694823, 0.6610508701374286, 0.5612139867186104, 0.8306105103798552, 1.0271672019108804, 0.4477047721724343, 0.4405824503251224, 0.3172222810563701, 0.3172222810563701, 0.3241348020794257, 0.3247557159908479, 0.3250917606708083, 0.32786671195099015, 0.3279986040441596, 0.32968567651846997, 0.33053611354267504, 0.33172394219378737, 0.3328054230560632, 0.33376304198318535, 0.3341332063876003, 0.3342887639471494, 0.3347768107260192, 0.33612507050131596, 0.3367951067695982, 0.3370408363671361, 0.33723916053258784, 1.0293424613535793, 0.423623085522186, 0.601757335842454, 0.4444943080347661, 0.41086508412182976, 0.6041608526273967, 0.4742862442109117, 0.3557331366098477, 0.36066262214477796, 0.9166019441000418, 0.9119222261371565, 0.4325110503680691, 0.4958834632576446, 0.464201935410447, 0.36780351020915614, 0.944432682236484, 0.4051216926515541, 0.5838978412541816, 0.4443099465234591, 0.5523232577133613, 0.471029165021451, 0.5973327569500188, 0.3743861442914837, 0.35849160009570213, 0.48007865236203706, 0.4037194399650994, 0.6671433453264038, 0.47036671492754434, 0.41060247143951545, 0.3172222810563701, 0.3172222810563701, 0.3241348020794257, 0.3247557159908479, 0.3250917606708083, 0.32786671195099015, 0.3279986040441596, 0.32968567651846997, 0.33053611354267504, 0.33172394219378737, 0.3328054230560632, 0.33376304198318535, 0.3341332063876003, 0.3342887639471494, 0.3347768107260192, 0.33612507050131596, 0.3367951067695982, 0.3370408363671361, 0.33723916053258784, 1.1213885332922422, 0.3505603982859139, 0.3477649650199217, 0.5775481158543058, 0.5831120862227854, 0.3792415646689876, 0.5662293751093115, 0.4429088650942573, 0.549473740908596, 1.360202695709451, 0.3862894324782013, 1.760953552510202, 0.4407865474423256, 0.5971388634594555, 0.35756005031214433, 0.42741025436476787, 0.6500303263572171, 0.5103157896146756, 0.3777368904296373, 0.7753842927639987, 0.4337674228334561, 0.5531857046695325, 0.49634665741816864, 0.529907367969985, 0.9252190683634448, 0.8365829143649645, 0.9447541318811556, 0.9797980110823272, 0.35724786094428745, 0.39487639327694823, 0.5527890861663917, 0.3172222810563701, 0.3172222810563701, 0.3241348020794257, 0.3247557159908479, 0.3250917606708083, 0.32786671195099015, 0.3279986040441596, 0.32968567651846997, 0.33053611354267504, 0.33172394219378737, 0.3328054230560632, 0.33376304198318535, 0.3341332063876003, 0.3342887639471494, 0.3347768107260192, 0.33612507050131596, 0.3367951067695982, 0.3370408363671361, 0.6009610521272917, 0.73262292107362, 1.0154068202224782, 0.9252476961516811, 0.5489835594781367, 0.538201259058079, 1.1749746913253327, 0.84245280518202, 0.9517687382722481, 0.5634300588627297, 0.41013728977862496, 0.3549159820313731, 0.3913548869140849, 0.3953114390380145, 1.052691539261679, 0.47007991066448424, 0.3590469869523907, 0.44382522597275403, 0.46220889706857643, 0.5253154347536277, 1.1004423117771687, 0.7228415788060182, 1.1213885332922422, 0.590059104345849, 0.35849160009570213, 0.4421215123749909, 0.43424727141137276, 0.43476965379026505, 0.3172222810563701, 0.3172222810563701, 0.3241348020794257, 0.3247557159908479, 0.3250917606708083, 0.32786671195099015, 0.3279986040441596, 0.32968567651846997, 0.33053611354267504, 0.33172394219378737, 0.3328054230560632, 0.33376304198318535, 0.3341332063876003, 0.3342887639471494, 0.3347768107260192, 0.33612507050131596, 0.3367951067695982, 0.3370408363671361, 0.33723916053258784, 0.3374606899055198, 0.3560822946417273, 0.3487525340355236, 0.3566501429581552, 0.392881100145014, 0.3881928408338542, 0.4578969190556844, 0.42667382189718983, 0.4675887138868048, 0.47118198350798807, 0.3743861442914837, 0.40999087080733704, 0.4568798404902498, 0.3831428098310875, 0.37572358517705523, 0.3810939414125683, 0.5589276494898108, 0.42817586918872663, 0.6277374834097954, 0.3792415646689876, 0.3439894137958322, 0.5592592658519501, 0.47205183321017713, 0.7032515208687682, 0.41560222268926506, 0.6129903390874496, 0.5137163255939696, 0.8449608172593619, 0.44969616371367466, 0.7808756417073602, 0.7400869743606896, 0.40031606759040095, 0.5235601233142805, 0.3172222810563701, 0.3172222810563701, 0.5386750460999136, 0.3241348020794257, 0.3247557159908479, 0.3250917606708083, 0.32786671195099015, 0.3279986040441596, 0.32968567651846997, 0.5534928210557658, 0.33053611354267504, 0.33172394219378737, 0.3328054230560632, 0.33376304198318535, 0.3341332063876003, 0.3342887639471494, 0.3347768107260192, 0.33612507050131596, 0.9411948289227913, 0.5975891916262941, 0.38919587159172064, 0.43476965379026505, 1.4524749435104767, 0.501993296034871, 0.4338628546639997, 0.3491050498175608, 0.7642474355327689, 0.3459520912896087, 0.3628470455510913, 0.8232642096322202, 0.43692387819294487, 0.3367951067695982, 0.3590469869523907, 0.3950281819733699, 0.3851539536286409, 0.6677605604673027, 0.846863847992584, 0.9122325439212949, 0.7587956644272743, 1.2065066115166156, 0.4950676950371386, 0.5189651182017214, 0.33723916053258784, 0.48539275069366516, 0.3172222810563701, 0.3172222810563701, 0.3241348020794257, 0.3247557159908479, 0.3250917606708083, 0.32786671195099015, 0.3279986040441596, 0.32968567651846997, 0.33053611354267504, 0.4994299402637559, 0.33172394219378737, 0.3328054230560632, 0.33376304198318535, 0.3341332063876003, 0.3342887639471494, 0.3347768107260192, 0.33612507050131596, 0.3367951067695982, 0.3370408363671361, 0.5641885711303535, 0.35077728224541826, 0.471029165021451, 0.3591517529632211, 0.4203232319753197, 0.42344824904900397, 0.3477649650199217, 0.4943165547225037, 0.36121220600956766, 0.653334884048271, 0.5578317006262967, 0.5923999974273602, 0.5024680020126321, 0.4354981452873776, 0.4353788159449935, 0.36164335763420274, 0.49180864838148686, 0.43698780313683927, 0.5444761307087934, 0.5387683040925558, 0.6996944814359163, 0.6156506990946674, 0.3172222810563701, 0.3172222810563701, 0.3241348020794257, 0.3247557159908479, 0.3250917606708083, 0.32786671195099015, 0.3279986040441596, 0.32968567651846997, 0.33053611354267504, 0.33172394219378737, 0.3328054230560632, 0.33376304198318535, 0.3341332063876003, 0.3342887639471494, 0.3347768107260192, 0.33612507050131596, 0.3367951067695982, 0.3370408363671361, 0.33723916053258784, 0.3374606899055198, 0.3378832445941958, 0.33951689202213775, 0.3395283113988322, 0.3395469942956797, 0.3398234665289718, 0.3403462070633751, 1.258234970642782, 0.8657861396262161, 0.3496552026682366, 0.3591517529632211, 0.44969616371367466, 0.3775536304444666, 0.4678996505235709, 0.3554616418752219, 0.49968415619859935, 0.4013363242814706, 0.41060247143951545, 0.42277089505794113, 0.516115132869865, 0.3673333242402819, 0.36857178862820106, 0.5051378683247234, 0.5116348553199139, 0.4485995168062754, 0.5189651182017214, 0.6721853081495957, 0.5874163185377189, 0.4140648453511686, 0.5999174903739976, 0.5305033283971025, 0.43217587342727465, 0.6385061287682919, 0.6016269904642901, 0.5847244283666123, 0.5064981611671745, 0.6344257091313987, 0.3172222810563701, 0.3172222810563701, 0.3241348020794257, 0.3247557159908479, 0.3250917606708083, 0.32786671195099015, 0.3279986040441596, 0.32968567651846997, 0.33053611354267504, 0.33172394219378737, 0.3328054230560632, 0.33376304198318535, 0.3341332063876003, 0.3342887639471494, 0.3347768107260192, 0.33612507050131596, 0.3367951067695982, 0.3370408363671361, 0.33723916053258784, 0.3374606899055198, 0.3378832445941958, 0.33951689202213775, 0.3395283113988322, 0.3395469942956797, 0.3398234665289718, 0.46539079787329, 0.35029758786600756, 0.3896081668807993, 0.42945041067026013, 0.38967567659487334, 0.5342526399880573, 0.46128870686832085, 0.5958255486635026, 0.6115394997539174, 0.49153756100080864, 0.5529549043892393, 0.4073614265450646, 0.4087245671418658, 0.43066272132424616, 0.9258902117553777, 0.8805217452671946, 0.41311757846177477, 0.4189906817646838, 0.40374534508050725, 0.4603476481403281, 0.6827085072030555, 0.40769534474605973, 0.40776967466841785, 0.4903562601426007, 0.4207985087273073, 0.5494865647295664, 0.48517387423032066, 0.5072378111584062, 0.5561866816602046, 0.43424727141137276, 0.732987179763574, 0.4465730794272385, 0.6139275729759285, 0.590059104345849, 0.3172222810563701, 0.3172222810563701, 0.3241348020794257, 0.3247557159908479, 0.3250917606708083, 0.32786671195099015, 0.3279986040441596, 0.32968567651846997, 0.33053611354267504, 0.33172394219378737, 0.3328054230560632, 0.33376304198318535, 0.3341332063876003, 0.3342887639471494, 0.3347768107260192, 0.33612507050131596, 0.3367951067695982, 0.3370408363671361, 0.33723916053258784, 0.3374606899055198, 0.3378832445941958, 0.34898191889485025, 0.674330135439131, 0.37751216694083645, 0.3745089325009872, 0.37821351782617113, 0.3859939987945232, 0.4307214992634902, 0.36857178862820106, 0.4354981452873776, 1.2330183299603443, 0.8009527799862332, 0.3979454900382401, 0.5189651182017214, 0.4132688682393419, 0.40481115775544024, 0.40705280999071874, 0.4703282179087144, 2.0516009489653597, 0.7318140177503307, 0.6015710118983775, 0.5796120161197881, 0.5610972321422658, 0.4501878602472936, 0.7380790667965623, 0.4943165547225037, 0.5813306139698918, 0.4021241899516802, 0.4201698934658964, 0.4281429123146365, 0.4638125352813827, 0.8091032200971583, 0.5832024742882934, 0.3172222810563701, 0.3172222810563701, 0.3241348020794257, 0.3247557159908479, 0.3250917606708083, 0.32786671195099015, 0.3279986040441596, 0.32968567651846997, 0.33053611354267504, 0.33172394219378737, 0.3328054230560632, 0.33376304198318535, 0.3341332063876003, 0.3342887639471494, 0.3347768107260192, 0.33612507050131596, 0.3367951067695982, 0.3370408363671361, 0.33723916053258784, 1.4654988329912388, 0.8308290528477021, 1.109756302670486, 0.6048844186437263, 0.41838041147607097, 0.38307125282358945, 0.42233758321081505, 0.4640357331823879, 0.40031606759040095, 0.43056632293541464, 1.0230682862151947, 0.4717771642499372, 0.46142519617985917, 0.5734614482249284, 0.5245892908267015, 0.5444761307087934, 1.1456536504473298, 0.5199837751101536, 0.5121160924854377], \"Category\": [\"Default\", \"Default\", \"Default\", \"Default\", \"Default\", \"Default\", \"Default\", \"Default\", \"Default\", \"Default\", \"Default\", \"Default\", \"Default\", \"Default\", \"Default\", \"Default\", \"Default\", \"Default\", \"Default\", \"Default\", \"Default\", \"Default\", \"Default\", \"Default\", \"Default\", \"Default\", \"Default\", \"Default\", \"Default\", \"Default\", \"Topic1\", \"Topic1\", \"Topic1\", \"Topic1\", \"Topic1\", \"Topic1\", \"Topic1\", \"Topic1\", \"Topic1\", \"Topic1\", \"Topic1\", \"Topic1\", \"Topic1\", \"Topic1\", \"Topic1\", \"Topic1\", \"Topic1\", \"Topic1\", \"Topic1\", \"Topic1\", \"Topic1\", \"Topic1\", \"Topic1\", \"Topic1\", \"Topic1\", \"Topic1\", \"Topic1\", \"Topic1\", \"Topic1\", \"Topic1\", \"Topic1\", \"Topic1\", \"Topic1\", \"Topic1\", \"Topic1\", \"Topic1\", \"Topic1\", \"Topic1\", \"Topic1\", \"Topic1\", \"Topic1\", \"Topic1\", \"Topic1\", \"Topic1\", \"Topic1\", \"Topic1\", \"Topic1\", \"Topic1\", \"Topic1\", \"Topic1\", \"Topic1\", \"Topic1\", \"Topic1\", \"Topic1\", \"Topic1\", \"Topic1\", \"Topic1\", \"Topic1\", \"Topic1\", \"Topic2\", \"Topic2\", \"Topic2\", \"Topic2\", \"Topic2\", \"Topic2\", \"Topic2\", \"Topic2\", \"Topic2\", \"Topic2\", \"Topic2\", \"Topic2\", \"Topic2\", \"Topic2\", \"Topic2\", \"Topic2\", \"Topic2\", \"Topic2\", \"Topic2\", \"Topic2\", \"Topic2\", \"Topic2\", \"Topic2\", \"Topic2\", \"Topic2\", \"Topic2\", \"Topic2\", \"Topic2\", \"Topic2\", \"Topic2\", \"Topic2\", \"Topic2\", \"Topic2\", \"Topic2\", \"Topic2\", \"Topic2\", \"Topic2\", \"Topic2\", \"Topic2\", \"Topic2\", \"Topic2\", \"Topic2\", \"Topic2\", \"Topic2\", \"Topic2\", \"Topic2\", \"Topic2\", \"Topic2\", \"Topic2\", \"Topic2\", \"Topic2\", \"Topic2\", \"Topic2\", \"Topic2\", \"Topic2\", \"Topic2\", \"Topic2\", \"Topic2\", \"Topic2\", \"Topic2\", \"Topic2\", \"Topic2\", \"Topic2\", \"Topic2\", \"Topic2\", \"Topic3\", \"Topic3\", \"Topic3\", \"Topic3\", \"Topic3\", \"Topic3\", \"Topic3\", \"Topic3\", \"Topic3\", \"Topic3\", \"Topic3\", \"Topic3\", \"Topic3\", \"Topic3\", \"Topic3\", \"Topic3\", \"Topic3\", \"Topic3\", \"Topic3\", \"Topic3\", \"Topic3\", \"Topic3\", \"Topic3\", \"Topic3\", \"Topic3\", \"Topic3\", \"Topic3\", \"Topic3\", \"Topic3\", \"Topic3\", \"Topic3\", \"Topic3\", \"Topic3\", \"Topic3\", \"Topic3\", \"Topic3\", \"Topic4\", \"Topic4\", \"Topic4\", \"Topic4\", \"Topic4\", \"Topic4\", \"Topic4\", \"Topic4\", \"Topic4\", \"Topic4\", \"Topic4\", \"Topic4\", \"Topic4\", \"Topic4\", \"Topic4\", \"Topic4\", \"Topic4\", \"Topic4\", \"Topic4\", \"Topic4\", \"Topic4\", \"Topic4\", \"Topic4\", \"Topic4\", \"Topic4\", \"Topic4\", \"Topic4\", \"Topic4\", \"Topic4\", \"Topic4\", \"Topic4\", \"Topic4\", \"Topic4\", \"Topic4\", \"Topic4\", \"Topic4\", \"Topic4\", \"Topic5\", \"Topic5\", \"Topic5\", \"Topic5\", \"Topic5\", \"Topic5\", \"Topic5\", \"Topic5\", \"Topic5\", \"Topic5\", \"Topic5\", \"Topic5\", \"Topic5\", \"Topic5\", \"Topic5\", \"Topic5\", \"Topic5\", \"Topic5\", \"Topic5\", \"Topic5\", \"Topic5\", \"Topic5\", \"Topic5\", \"Topic5\", \"Topic5\", \"Topic5\", \"Topic5\", \"Topic5\", \"Topic5\", \"Topic5\", \"Topic5\", \"Topic5\", \"Topic5\", \"Topic5\", \"Topic5\", \"Topic5\", \"Topic5\", \"Topic5\", \"Topic5\", \"Topic5\", \"Topic5\", \"Topic6\", \"Topic6\", \"Topic6\", \"Topic6\", \"Topic6\", \"Topic6\", \"Topic6\", \"Topic6\", \"Topic6\", \"Topic6\", \"Topic6\", \"Topic6\", \"Topic6\", \"Topic6\", \"Topic6\", \"Topic6\", \"Topic6\", \"Topic6\", \"Topic6\", \"Topic6\", \"Topic6\", \"Topic6\", \"Topic6\", \"Topic6\", \"Topic6\", \"Topic6\", \"Topic6\", \"Topic6\", \"Topic6\", \"Topic6\", \"Topic6\", \"Topic6\", \"Topic6\", \"Topic6\", \"Topic6\", \"Topic7\", \"Topic7\", \"Topic7\", \"Topic7\", \"Topic7\", \"Topic7\", \"Topic7\", \"Topic7\", \"Topic7\", \"Topic7\", \"Topic7\", \"Topic7\", \"Topic7\", \"Topic7\", \"Topic7\", \"Topic7\", \"Topic7\", \"Topic7\", \"Topic7\", \"Topic7\", \"Topic7\", \"Topic7\", \"Topic7\", \"Topic7\", \"Topic7\", \"Topic7\", \"Topic7\", \"Topic7\", \"Topic7\", \"Topic7\", \"Topic7\", \"Topic7\", \"Topic7\", \"Topic7\", \"Topic7\", \"Topic7\", \"Topic8\", \"Topic8\", \"Topic8\", \"Topic8\", \"Topic8\", \"Topic8\", \"Topic8\", \"Topic8\", \"Topic8\", \"Topic8\", \"Topic8\", \"Topic8\", \"Topic8\", \"Topic8\", \"Topic8\", \"Topic8\", \"Topic8\", \"Topic8\", \"Topic8\", \"Topic8\", \"Topic8\", \"Topic8\", \"Topic8\", \"Topic8\", \"Topic8\", \"Topic8\", \"Topic8\", \"Topic8\", \"Topic8\", \"Topic8\", \"Topic8\", \"Topic8\", \"Topic8\", \"Topic8\", \"Topic8\", \"Topic8\", \"Topic8\", \"Topic8\", \"Topic8\", \"Topic9\", \"Topic9\", \"Topic9\", \"Topic9\", \"Topic9\", \"Topic9\", \"Topic9\", \"Topic9\", \"Topic9\", \"Topic9\", \"Topic9\", \"Topic9\", \"Topic9\", \"Topic9\", \"Topic9\", \"Topic9\", \"Topic9\", \"Topic9\", \"Topic9\", \"Topic9\", \"Topic9\", \"Topic9\", \"Topic9\", \"Topic9\", \"Topic9\", \"Topic9\", \"Topic9\", \"Topic9\", \"Topic9\", \"Topic9\", \"Topic9\", \"Topic9\", \"Topic9\", \"Topic9\", \"Topic9\", \"Topic10\", \"Topic10\", \"Topic10\", \"Topic10\", \"Topic10\", \"Topic10\", \"Topic10\", \"Topic10\", \"Topic10\", \"Topic10\", \"Topic10\", \"Topic10\", \"Topic10\", \"Topic10\", \"Topic10\", \"Topic10\", \"Topic10\", \"Topic10\", \"Topic10\", \"Topic10\", \"Topic10\", \"Topic10\", \"Topic10\", \"Topic10\", \"Topic10\", \"Topic10\", \"Topic10\", \"Topic10\", \"Topic10\", \"Topic10\", \"Topic10\", \"Topic10\", \"Topic10\", \"Topic10\", \"Topic10\", \"Topic10\", \"Topic10\", \"Topic10\", \"Topic10\", \"Topic11\", \"Topic11\", \"Topic11\", \"Topic11\", \"Topic11\", \"Topic11\", \"Topic11\", \"Topic11\", \"Topic11\", \"Topic11\", \"Topic11\", \"Topic11\", \"Topic11\", \"Topic11\", \"Topic11\", \"Topic11\", \"Topic11\", \"Topic11\", \"Topic11\", \"Topic11\", \"Topic11\", \"Topic11\", \"Topic11\", \"Topic11\", \"Topic11\", \"Topic11\", \"Topic11\", \"Topic11\", \"Topic11\", \"Topic11\", \"Topic11\", \"Topic11\", \"Topic11\", \"Topic11\", \"Topic11\", \"Topic11\", \"Topic11\", \"Topic11\", \"Topic11\", \"Topic11\", \"Topic11\", \"Topic11\", \"Topic11\", \"Topic11\", \"Topic11\", \"Topic11\", \"Topic11\", \"Topic11\", \"Topic12\", \"Topic12\", \"Topic12\", \"Topic12\", \"Topic12\", \"Topic12\", \"Topic12\", \"Topic12\", \"Topic12\", \"Topic12\", \"Topic12\", \"Topic12\", \"Topic12\", \"Topic12\", \"Topic12\", \"Topic12\", \"Topic12\", \"Topic12\", \"Topic12\", \"Topic12\", \"Topic12\", \"Topic12\", \"Topic12\", \"Topic12\", \"Topic12\", \"Topic12\", \"Topic12\", \"Topic12\", \"Topic12\", \"Topic12\", \"Topic12\", \"Topic12\", \"Topic12\", \"Topic12\", \"Topic12\", \"Topic12\", \"Topic12\", \"Topic12\", \"Topic12\", \"Topic12\", \"Topic12\", \"Topic12\", \"Topic12\", \"Topic12\", \"Topic12\", \"Topic12\", \"Topic12\", \"Topic12\", \"Topic12\", \"Topic13\", \"Topic13\", \"Topic13\", \"Topic13\", \"Topic13\", \"Topic13\", \"Topic13\", \"Topic13\", \"Topic13\", \"Topic13\", \"Topic13\", \"Topic13\", \"Topic13\", \"Topic13\", \"Topic13\", \"Topic13\", \"Topic13\", \"Topic13\", \"Topic13\", \"Topic13\", \"Topic13\", \"Topic13\", \"Topic13\", \"Topic13\", \"Topic13\", \"Topic13\", \"Topic13\", \"Topic13\", \"Topic13\", \"Topic13\", \"Topic13\", \"Topic13\", \"Topic13\", \"Topic13\", \"Topic13\", \"Topic13\", \"Topic13\", \"Topic13\", \"Topic13\", \"Topic13\", \"Topic13\", \"Topic13\", \"Topic13\", \"Topic13\", \"Topic13\", \"Topic13\", \"Topic13\", \"Topic13\", \"Topic14\", \"Topic14\", \"Topic14\", \"Topic14\", \"Topic14\", \"Topic14\", \"Topic14\", \"Topic14\", \"Topic14\", \"Topic14\", \"Topic14\", \"Topic14\", \"Topic14\", \"Topic14\", \"Topic14\", \"Topic14\", \"Topic14\", \"Topic14\", \"Topic14\", \"Topic14\", \"Topic14\", \"Topic14\", \"Topic14\", \"Topic14\", \"Topic14\", \"Topic14\", \"Topic14\", \"Topic14\", \"Topic14\", \"Topic14\", \"Topic14\", \"Topic14\", \"Topic14\", \"Topic14\", \"Topic14\", \"Topic14\", \"Topic14\", \"Topic14\", \"Topic14\", \"Topic14\", \"Topic14\", \"Topic14\", \"Topic14\", \"Topic14\", \"Topic14\", \"Topic14\", \"Topic14\", \"Topic14\", \"Topic14\", \"Topic14\", \"Topic15\", \"Topic15\", \"Topic15\", \"Topic15\", \"Topic15\", \"Topic15\", \"Topic15\", \"Topic15\", \"Topic15\", \"Topic15\", \"Topic15\", \"Topic15\", \"Topic15\", \"Topic15\", \"Topic15\", \"Topic15\", \"Topic15\", \"Topic15\", \"Topic15\", \"Topic15\", \"Topic15\", \"Topic15\", \"Topic15\", \"Topic15\", \"Topic15\", \"Topic15\", \"Topic15\", \"Topic15\", \"Topic15\", \"Topic15\", \"Topic15\", \"Topic15\", \"Topic15\", \"Topic15\", \"Topic15\", \"Topic15\", \"Topic15\", \"Topic15\", \"Topic15\", \"Topic15\", \"Topic15\", \"Topic15\", \"Topic15\", \"Topic15\", \"Topic15\", \"Topic16\", \"Topic16\", \"Topic16\", \"Topic16\", \"Topic16\", \"Topic16\", \"Topic16\", \"Topic16\", \"Topic16\", \"Topic16\", \"Topic16\", \"Topic16\", \"Topic16\", \"Topic16\", \"Topic16\", \"Topic16\", \"Topic16\", \"Topic16\", \"Topic16\", \"Topic16\", \"Topic16\", \"Topic16\", \"Topic16\", \"Topic16\", \"Topic16\", \"Topic16\", \"Topic16\", \"Topic16\", \"Topic16\", \"Topic16\", \"Topic16\", \"Topic16\", \"Topic16\", \"Topic16\", \"Topic16\", \"Topic16\", \"Topic16\", \"Topic16\", \"Topic16\", \"Topic16\", \"Topic16\", \"Topic16\", \"Topic16\", \"Topic16\", \"Topic16\", \"Topic16\", \"Topic16\", \"Topic16\", \"Topic17\", \"Topic17\", \"Topic17\", \"Topic17\", \"Topic17\", \"Topic17\", \"Topic17\", \"Topic17\", \"Topic17\", \"Topic17\", \"Topic17\", \"Topic17\", \"Topic17\", \"Topic17\", \"Topic17\", \"Topic17\", \"Topic17\", \"Topic17\", \"Topic17\", \"Topic17\", \"Topic17\", \"Topic17\", \"Topic17\", \"Topic17\", \"Topic17\", \"Topic17\", \"Topic17\", \"Topic17\", \"Topic17\", \"Topic17\", \"Topic17\", \"Topic17\", \"Topic17\", \"Topic17\", \"Topic17\", \"Topic17\", \"Topic17\", \"Topic17\", \"Topic17\", \"Topic17\", \"Topic17\", \"Topic17\", \"Topic17\", \"Topic17\", \"Topic17\", \"Topic17\", \"Topic17\", \"Topic17\", \"Topic17\", \"Topic17\", \"Topic17\", \"Topic17\", \"Topic17\", \"Topic17\", \"Topic17\", \"Topic18\", \"Topic18\", \"Topic18\", \"Topic18\", \"Topic18\", \"Topic18\", \"Topic18\", \"Topic18\", \"Topic18\", \"Topic18\", \"Topic18\", \"Topic18\", \"Topic18\", \"Topic18\", \"Topic18\", \"Topic18\", \"Topic18\", \"Topic18\", \"Topic18\", \"Topic18\", \"Topic18\", \"Topic18\", \"Topic18\", \"Topic18\", \"Topic18\", \"Topic18\", \"Topic18\", \"Topic18\", \"Topic18\", \"Topic18\", \"Topic18\", \"Topic18\", \"Topic18\", \"Topic18\", \"Topic18\", \"Topic18\", \"Topic18\", \"Topic18\", \"Topic18\", \"Topic18\", \"Topic18\", \"Topic18\", \"Topic18\", \"Topic18\", \"Topic18\", \"Topic18\", \"Topic18\", \"Topic18\", \"Topic18\", \"Topic18\", \"Topic18\", \"Topic18\", \"Topic18\", \"Topic18\", \"Topic18\", \"Topic19\", \"Topic19\", \"Topic19\", \"Topic19\", \"Topic19\", \"Topic19\", \"Topic19\", \"Topic19\", \"Topic19\", \"Topic19\", \"Topic19\", \"Topic19\", \"Topic19\", \"Topic19\", \"Topic19\", \"Topic19\", \"Topic19\", \"Topic19\", \"Topic19\", \"Topic19\", \"Topic19\", \"Topic19\", \"Topic19\", \"Topic19\", \"Topic19\", \"Topic19\", \"Topic19\", \"Topic19\", \"Topic19\", \"Topic19\", \"Topic19\", \"Topic19\", \"Topic19\", \"Topic19\", \"Topic19\", \"Topic19\", \"Topic19\", \"Topic19\", \"Topic19\", \"Topic19\", \"Topic19\", \"Topic19\", \"Topic19\", \"Topic19\", \"Topic19\", \"Topic19\", \"Topic19\", \"Topic19\", \"Topic19\", \"Topic19\", \"Topic19\", \"Topic20\", \"Topic20\", \"Topic20\", \"Topic20\", \"Topic20\", \"Topic20\", \"Topic20\", \"Topic20\", \"Topic20\", \"Topic20\", \"Topic20\", \"Topic20\", \"Topic20\", \"Topic20\", \"Topic20\", \"Topic20\", \"Topic20\", \"Topic20\", \"Topic20\", \"Topic20\", \"Topic20\", \"Topic20\", \"Topic20\", \"Topic20\", \"Topic20\", \"Topic20\", \"Topic20\", \"Topic20\", \"Topic20\", \"Topic20\", \"Topic20\", \"Topic20\", \"Topic20\", \"Topic20\", \"Topic20\", \"Topic20\", \"Topic20\", \"Topic20\", \"Topic20\", \"Topic20\", \"Topic20\", \"Topic20\", \"Topic20\", \"Topic20\", \"Topic20\", \"Topic20\", \"Topic20\", \"Topic20\", \"Topic20\"], \"logprob\": [30.0, 29.0, 28.0, 27.0, 26.0, 25.0, 24.0, 23.0, 22.0, 21.0, 20.0, 19.0, 18.0, 17.0, 16.0, 15.0, 14.0, 13.0, 12.0, 11.0, 10.0, 9.0, 8.0, 7.0, 6.0, 5.0, 4.0, 3.0, 2.0, 1.0, -6.4209, -6.5238, -6.3905, -6.6575, -6.6584, -6.7449, -6.8584, -6.9548, -6.9221, -7.006, -7.0879, -7.1328, -7.1448, -7.1482, -7.1692, -7.1974, -7.2107, -7.2167, -7.2268, -7.228, -7.2439, -7.2469, -7.2593, -7.2823, -7.2966, -7.3087, -7.3116, -7.3172, -6.6121, -7.3048, -6.715, -7.0203, -6.7316, -6.5529, -6.3702, -6.9326, -6.0331, -6.7789, -7.1104, -6.9546, -6.8299, -6.6555, -6.9215, -6.9526, -6.7187, -6.6545, -6.9476, -6.4111, -6.4819, -6.8002, -6.7802, -6.6869, -6.8432, -6.8191, -6.8212, -6.8, -6.8292, -6.8295, -6.8359, -6.4362, -6.8424, -6.8642, -6.9274, -6.9655, -7.0014, -7.0071, -6.9656, -7.0822, -7.0873, -7.0348, -7.1124, -7.1279, -7.1578, -7.1834, -7.0975, -7.195, -7.2102, -7.2132, -7.2202, -7.2179, -7.2391, -7.2542, -7.2591, -7.2596, -7.2724, -7.2829, -7.2977, -7.2995, -7.2956, -6.2047, -7.0359, -7.0344, -6.3048, -6.5955, -7.0632, -6.2117, -6.481, -6.4019, -6.8236, -7.0825, -6.9089, -6.9191, -6.5368, -6.0614, -6.6331, -6.6492, -6.6492, -6.8479, -6.7512, -6.7077, -6.7417, -6.6959, -6.7156, -6.6432, -6.8437, -6.6891, -6.8026, -6.5799, -6.7642, -6.6754, -6.8605, -6.8261, -6.8397, -6.8448, -5.5665, -6.0375, -6.1181, -6.1669, -6.2197, -6.148, -6.2638, -6.2861, -6.403, -6.4389, -6.4469, -6.4643, -6.4714, -6.4871, -6.533, -6.6164, -6.6284, -6.6315, -6.284, -6.7062, -6.7134, -6.7264, -6.7303, -6.7367, -6.0768, -6.7598, -6.7703, -6.7769, -6.7951, -6.7986, -6.5873, -4.8511, -5.9837, -6.2783, -5.7838, -6.7083, -5.7661, -6.2132, -6.2788, -6.4065, -6.4099, -6.4196, -6.4331, -6.4881, -6.5287, -6.5223, -6.5583, -6.559, -6.2683, -6.3043, -6.6077, -6.6213, -6.6257, -6.6573, -6.6611, -6.6674, -6.6722, -6.6734, -6.7234, -6.7286, -6.746, -6.6006, -6.7812, -6.7888, -6.8174, -6.6804, -6.4431, -6.2731, -6.1989, -6.4488, -6.6406, -6.6185, -6.666, -5.487, -5.4908, -5.4117, -5.5659, -5.7999, -5.8628, -5.7546, -5.1131, -5.3366, -5.161, -6.034, -5.7467, -5.6056, -6.0973, -6.1925, -5.4156, -6.2544, -6.2595, -5.6179, -6.4573, -6.5359, -6.55, -6.4529, -6.3114, -6.5918, -5.9269, -5.3006, -5.4509, -5.6291, -6.7691, -6.508, -5.2909, -6.0835, -5.1993, -4.8668, -6.1658, -5.7988, -5.975, -5.4428, -5.9813, -5.9386, -6.2929, -6.4923, -6.5786, -6.6405, -6.8327, -6.2229, -6.1747, -7.2205, -7.5408, -7.1197, -7.2085, -7.0277, -7.4876, -7.4078, -7.0659, -7.9687, -7.8631, -7.504, -7.6705, -8.2142, -7.689, -8.4492, -8.2821, -8.7038, -8.8662, -8.8388, -8.9836, -9.1761, -8.4786, -9.2352, -8.9617, -9.0258, -8.8129, -8.8614, -8.8862, -6.0563, -5.6267, -6.5661, -6.7455, -6.9956, -7.0119, -7.0539, -7.0507, -7.1312, -7.6116, -7.6116, -7.1801, -7.1816, -7.2998, -7.2815, -7.739, -7.5839, -7.4426, -8.9624, -8.3749, -7.553, -9.3097, -9.2062, -9.7559, -9.7558, -9.7559, -9.7559, -9.7558, -9.7559, -9.7559, -8.9363, -7.9164, -9.3837, -9.7435, -9.753, -9.7552, -6.2758, -7.0083, -6.9612, -7.2468, -6.5649, -7.2693, -6.3306, -7.1756, -7.2665, -7.5653, -7.2912, -6.7643, -7.1596, -7.6376, -7.8887, -7.6373, -8.8961, -8.1204, -9.1932, -9.0583, -8.9644, -9.7514, -9.7514, -9.7514, -9.7514, -9.7514, -9.7514, -9.7514, -9.7514, -9.7514, -8.2917, -9.7427, -9.7347, -9.7506, -9.7506, -9.7507, -9.7509, -9.7509, -9.7512, -5.7478, -6.2811, -7.0065, -7.3201, -7.0324, -7.545, -7.5335, -6.8777, -7.9263, -8.1949, -7.8147, -7.9668, -8.1393, -7.9865, -8.1411, -8.102, -8.5511, -8.442, -9.0912, -8.6752, -9.1121, -9.4112, -8.6905, -9.7495, -9.7495, -9.3963, -9.7495, -9.7495, -9.7495, -9.0282, -9.0282, -9.1975, -9.7426, -9.747, -9.7483, -6.7588, -6.8686, -6.6679, -6.8382, -6.7991, -6.9466, -6.9416, -7.1552, -7.1871, -7.2883, -7.1619, -7.6699, -7.4203, -7.8573, -8.3531, -8.7157, -9.0461, -9.4053, -9.4053, -9.0584, -9.5607, -9.749, -9.749, -9.749, -9.749, -9.749, -9.749, -9.749, -9.749, -9.749, -9.6251, -9.7425, -9.7425, -9.7481, -9.7489, -9.7489, -9.7489, -9.749, -9.749, -6.3423, -6.5482, -6.8113, -6.4176, -7.0457, -6.7356, -7.1507, -7.3038, -7.1173, -7.9783, -8.9695, -9.7474, -9.7474, -9.7474, -9.7474, -9.7474, -9.7474, -9.7474, -9.7474, -9.7474, -9.7474, -9.7474, -9.7474, -9.7474, -9.7474, -9.7474, -9.7474, -9.7474, -9.7474, -9.7474, -9.6081, -9.7473, -9.7474, -9.7474, -9.7474, -9.7474, -9.7474, -9.7474, -9.7474, -9.7474, -9.7474, -9.7474, -9.7474, -9.7474, -9.7474, -9.7474, -9.7474, -9.7474, -6.4481, -6.2954, -6.5861, -6.3741, -6.8946, -7.4589, -7.416, -7.798, -7.9521, -8.5074, -8.9671, -9.7465, -9.7465, -9.7465, -9.7465, -9.7465, -9.7465, -9.7465, -9.7465, -9.7465, -9.7465, -9.7465, -9.7465, -9.7465, -9.7465, -9.7465, -9.7465, -9.7465, -9.7465, -9.7465, -9.5057, -9.7435, -9.7463, -9.7464, -9.7464, -9.7464, -9.7464, -9.7464, -9.7465, -9.7465, -9.7465, -9.7465, -9.7465, -9.7465, -9.7465, -9.7465, -9.7465, -9.7465, -9.7465, -6.1611, -6.809, -6.9113, -7.084, -7.2784, -6.7659, -7.0607, -7.2141, -7.2178, -9.1932, -9.3271, -9.1065, -9.7462, -9.7462, -9.7462, -9.7462, -9.7462, -9.7462, -9.7462, -9.7462, -9.7462, -9.7462, -9.7462, -9.7462, -9.7462, -9.7462, -9.7462, -9.7462, -9.7462, -9.7462, -9.1812, -9.2174, -9.3836, -9.7336, -9.7402, -9.7422, -9.7426, -9.7462, -9.7462, -9.7462, -9.7462, -9.7462, -9.7462, -9.7462, -9.7462, -9.7462, -9.7462, -9.7462, -6.3395, -6.8924, -6.2884, -6.8573, -6.5237, -7.2135, -7.9101, -8.7605, -9.0353, -9.3789, -9.7453, -9.7453, -9.7453, -9.7453, -9.7453, -9.7453, -9.7453, -9.7453, -9.7453, -9.7453, -9.7453, -9.7453, -9.7453, -9.7453, -9.7453, -9.7453, -9.7453, -9.7453, -9.7453, -9.7453, -9.7452, -9.7452, -9.7452, -9.7453, -9.7453, -9.7453, -9.7453, -9.7453, -9.7453, -9.7453, -9.7453, -9.7453, -9.7453, -9.7453, -9.7453, -9.7453, -9.7453, -9.7453, -9.7453, -9.7453, -6.9639, -7.189, -6.8042, -7.3361, -6.9667, -7.3186, -6.9462, -7.5786, -7.1654, -8.6665, -9.2958, -9.0444, -9.7444, -9.7444, -9.2228, -9.7444, -9.7444, -9.7444, -9.7444, -9.7444, -9.7444, -9.2267, -9.7444, -9.7444, -9.7444, -9.7444, -9.7444, -9.7444, -9.7444, -9.7444, -9.3006, -9.7437, -9.7443, -9.7444, -9.7444, -9.7444, -9.7444, -9.7444, -9.7444, -9.7444, -9.7444, -9.7444, -9.7444, -9.7444, -9.7444, -6.7273, -6.812, -6.9698, -7.0928, -7.0387, -7.2846, -6.9083, -8.1293, -8.1856, -9.2857, -9.2898, -9.7441, -9.7441, -9.7441, -9.7441, -9.7441, -9.7441, -9.7441, -9.7441, -9.7441, -9.332, -9.7441, -9.7441, -9.7441, -9.7441, -9.7441, -9.7441, -9.7441, -9.7441, -9.7441, -9.3084, -9.7441, -9.7441, -9.7441, -9.7441, -9.7441, -9.7441, -9.7441, -9.7441, -9.7441, -9.7441, -9.7441, -9.7441, -9.7441, -9.7441, -9.7441, -9.7441, -9.7441, -5.9948, -7.1999, -7.0408, -7.264, -9.7418, -9.7418, -9.7418, -9.7418, -9.7418, -9.7418, -9.7418, -9.7418, -9.7418, -9.7418, -9.7418, -9.7418, -9.7418, -9.7418, -9.7418, -9.7418, -9.7418, -9.7418, -9.7418, -9.7418, -9.7418, -9.7418, -9.7418, -9.7418, -9.7418, -9.7418, -9.684, -9.7418, -9.7418, -9.7418, -9.7418, -9.7418, -9.7418, -9.7418, -9.7418, -9.7418, -9.7418, -9.7418, -9.7418, -9.7418, -9.7418, -9.7418, -9.7418, -9.7418, -9.7418, -9.7418, -9.7418, -9.7418, -9.7418, -9.7418, -9.7418, -6.824, -6.9402, -7.0081, -7.2108, -7.5432, -9.7412, -9.7412, -9.7412, -9.7412, -9.7412, -9.7412, -9.7412, -9.7412, -9.7412, -9.7412, -9.7412, -9.7412, -9.7412, -9.7412, -9.7412, -9.7412, -9.7412, -9.7412, -9.7412, -9.7412, -9.7412, -9.7412, -9.7412, -9.7412, -9.7412, -9.7411, -9.7412, -9.7412, -9.7412, -9.7412, -9.7412, -9.7412, -9.7412, -9.7412, -9.7412, -9.7412, -9.7412, -9.7412, -9.7412, -9.7412, -9.7412, -9.7412, -9.7412, -9.7412, -9.7412, -9.7412, -9.7412, -9.7412, -9.7412, -9.7412, -6.972, -7.1772, -7.2857, -7.2979, -8.7288, -8.264, -8.7704, -8.4849, -8.7515, -9.7407, -9.7407, -9.7407, -9.7407, -9.7407, -9.7407, -9.7407, -9.7407, -9.7407, -9.7407, -9.7407, -9.7407, -9.7407, -9.7407, -9.7407, -9.7407, -9.7407, -9.7407, -9.7407, -9.7407, -9.7407, -9.7407, -9.7407, -9.7407, -9.7407, -9.7407, -9.7407, -9.7407, -9.7407, -9.7407, -9.7407, -9.7407, -9.7407, -9.7407, -9.7407, -9.7407, -9.7407, -9.7407, -9.7407, -9.7407, -9.7407, -9.7407, -7.0154, -7.2555, -7.1266, -7.6872, -7.6719, -8.1207, -8.1263, -9.0163, -9.0273, -8.5159, -8.8571, -9.7412, -9.7412, -9.7412, -9.7412, -9.7412, -9.7412, -9.7412, -9.7412, -9.7412, -9.7412, -9.7412, -9.7412, -9.7412, -9.7412, -9.7412, -9.7412, -9.7412, -9.7412, -9.7412, -9.1147, -9.7271, -9.7261, -9.7412, -9.7412, -9.7412, -9.7412, -9.7412, -9.7412, -9.7412, -9.7412, -9.7412, -9.7412, -9.7412, -9.7412, -9.7412, -9.7412, -9.7412, -9.7412], \"loglift\": [30.0, 29.0, 28.0, 27.0, 26.0, 25.0, 24.0, 23.0, 22.0, 21.0, 20.0, 19.0, 18.0, 17.0, 16.0, 15.0, 14.0, 13.0, 12.0, 11.0, 10.0, 9.0, 8.0, 7.0, 6.0, 5.0, 4.0, 3.0, 2.0, 1.0, 0.6541, 0.6531, 0.6529, 0.6516, 0.6516, 0.6508, 0.6493, 0.648, 0.6475, 0.6472, 0.6459, 0.6452, 0.645, 0.6449, 0.6444, 0.644, 0.6438, 0.6437, 0.6435, 0.6435, 0.6431, 0.6431, 0.6428, 0.6424, 0.6421, 0.6418, 0.6418, 0.6417, 0.6416, 0.6415, 0.6376, 0.6361, 0.6302, 0.6263, 0.6187, 0.6321, 0.5799, 0.6187, 0.6349, 0.6249, 0.6124, 0.5833, 0.6096, 0.6116, 0.5741, 0.5447, 0.5839, 0.3879, 0.3605, 0.4682, 0.433, 0.3217, 0.4762, 0.4256, 0.4189, 0.3721, 0.3691, 0.2562, 0.2338, 1.0227, 1.0163, 1.0159, 1.0146, 1.0138, 1.0131, 1.0129, 1.0118, 1.0112, 1.0111, 1.0104, 1.0104, 1.0101, 1.0093, 1.0086, 1.0086, 1.0083, 1.0079, 1.0078, 1.0077, 1.0074, 1.0071, 1.0067, 1.0066, 1.0066, 1.0062, 1.0059, 1.0055, 1.0054, 1.0054, 0.9905, 1.0014, 0.9995, 0.9051, 0.9275, 0.9803, 0.8606, 0.8889, 0.8568, 0.9333, 0.9724, 0.9202, 0.9139, 0.7707, 0.5939, 0.7977, 0.8033, 0.7948, 0.8784, 0.8098, 0.768, 0.7875, 0.7479, 0.7554, 0.6943, 0.8453, 0.6849, 0.7871, 0.4446, 0.6728, 0.5066, 0.8153, 0.5644, 0.5924, 0.2658, 3.3626, 3.3275, 3.3198, 3.3149, 3.3093, 3.3067, 3.3044, 3.3019, 3.2878, 3.2832, 3.2821, 3.2798, 3.2788, 3.2767, 3.2703, 3.2579, 3.2558, 3.2557, 3.2553, 3.2438, 3.2426, 3.2404, 3.2397, 3.2387, 3.2369, 3.2347, 3.2329, 3.2318, 3.2286, 3.2279, 3.1406, 2.1575, 2.2144, 2.452, 0.8293, 2.9901, 3.5423, 3.5109, 3.5019, 3.483, 3.4824, 3.4809, 3.4747, 3.4697, 3.4628, 3.46, 3.4576, 3.4574, 3.4547, 3.4523, 3.4486, 3.4461, 3.4453, 3.4392, 3.4385, 3.4373, 3.4364, 3.4361, 3.4262, 3.4251, 3.4215, 3.4161, 3.4141, 3.4125, 3.4063, 3.4053, 3.4032, 3.3968, 3.2948, 3.2646, 3.3526, 3.2965, 3.1506, 4.4643, 4.4636, 4.4517, 4.45, 4.4022, 4.3878, 4.3805, 4.3595, 4.3587, 4.3456, 4.3447, 4.3443, 4.3328, 4.3273, 4.2997, 4.2941, 4.2808, 4.2791, 4.2776, 4.2128, 4.1839, 4.1783, 4.1763, 4.1669, 4.1625, 4.1536, 4.1463, 4.1431, 4.1142, 4.0896, 4.0851, 3.9558, 3.9972, 3.5887, 3.3017, 3.9803, 3.6939, 3.5607, 2.4652, 3.269, 2.057, 4.7131, 4.6056, 4.5559, 4.519, 4.4001, 4.3714, 4.3092, 4.1336, 3.7197, 3.6906, 3.6828, 3.6728, 3.4494, 3.4236, 3.3973, 3.2405, 3.227, 3.1284, 3.0733, 2.8531, 2.7619, 2.7288, 2.7028, 2.3433, 2.3364, 2.2576, 2.2208, 2.1916, 2.1703, 2.141, 2.1252, 2.1215, 1.9618, 1.8082, 1.8184, 4.8318, 4.715, 4.5567, 4.3606, 4.2919, 4.2781, 4.2533, 3.8767, 3.8377, 3.8265, 3.8265, 3.7149, 3.6984, 3.6783, 3.6564, 3.5133, 3.4987, 3.1377, 2.1433, 2.0335, 2.0057, 1.9302, 1.8593, 1.6607, 1.6588, 1.6577, 1.6492, 1.6489, 1.6437, 1.6411, 1.572, 0.6103, 1.2507, 1.0658, 1.1921, 1.3065, 4.1393, 4.0541, 3.9172, 3.869, 3.8613, 3.8525, 3.8047, 3.7026, 3.6141, 3.5845, 3.5569, 3.4807, 3.3856, 3.3699, 3.0353, 2.921, 2.3416, 2.2466, 2.0259, 1.9883, 1.9471, 1.6867, 1.6867, 1.6652, 1.6632, 1.6622, 1.6537, 1.6533, 1.6482, 1.6456, 1.4106, 1.476, 0.7524, 1.3985, 1.4212, 1.056, 0.9684, 0.9333, 1.629, 4.6348, 4.5314, 3.775, 3.6285, 3.5233, 3.5182, 3.2298, 3.223, 3.2147, 3.1309, 3.0296, 2.9702, 2.9668, 2.8321, 2.7092, 2.6531, 2.6007, 2.5715, 2.1125, 2.0493, 1.9929, 1.791, 1.7453, 1.6886, 1.6886, 1.6714, 1.6671, 1.6652, 1.6641, 1.6584, 1.0545, 0.7848, 0.883, 1.0223, 1.0492, 4.463, 4.3909, 4.0467, 4.0216, 4.0072, 3.9661, 3.9221, 3.8242, 3.7958, 3.7715, 3.4194, 3.3634, 3.3032, 3.09, 3.0132, 2.302, 2.1914, 2.0328, 2.0328, 1.9936, 1.7846, 1.6675, 1.6656, 1.6646, 1.6561, 1.6557, 1.6505, 1.648, 1.6444, 1.6411, 1.0786, 1.0525, 0.7248, 0.807, 1.5669, 1.3147, 1.0204, 1.5234, 1.4548, 4.7125, 4.511, 4.247, 4.2322, 4.1734, 3.9683, 3.7169, 3.1717, 3.1458, 3.1152, 2.1401, 1.6907, 1.6907, 1.6691, 1.6672, 1.6662, 1.6577, 1.6573, 1.6522, 1.6496, 1.646, 1.6427, 1.6399, 1.6388, 1.6383, 1.6368, 1.6328, 1.6308, 1.6301, 1.6295, 0.6529, 1.4015, 1.0504, 1.3534, 1.432, 1.0465, 1.2885, 1.5761, 1.5624, 0.6296, 0.6347, 1.3807, 1.244, 1.31, 1.5427, 0.5997, 1.4461, 1.0806, 4.6531, 4.5882, 4.4567, 4.4311, 4.3778, 3.8568, 3.6078, 3.399, 2.7426, 2.5368, 2.213, 1.6916, 1.6916, 1.6701, 1.6681, 1.6671, 1.6586, 1.6582, 1.6531, 1.6505, 1.6469, 1.6437, 1.6408, 1.6397, 1.6392, 1.6378, 1.6337, 1.6317, 1.631, 1.6304, 0.6697, 1.5946, 1.5999, 1.0925, 1.0829, 1.5131, 1.1122, 1.3579, 1.1423, 0.2358, 1.4946, -0.0224, 1.3627, 1.0591, 1.5719, 1.3935, 0.9742, 1.2162, 1.517, 4.3833, 4.3162, 3.9707, 3.9065, 3.6466, 3.6018, 3.4077, 3.1327, 3.0925, 2.1261, 1.892, 1.7762, 1.6919, 1.6919, 1.6703, 1.6684, 1.6674, 1.6589, 1.6585, 1.6533, 1.6507, 1.6472, 1.6439, 1.641, 1.6399, 1.6395, 1.638, 1.634, 1.632, 1.6313, 1.618, 1.3836, 0.891, 0.634, 1.1494, 1.1672, 0.386, 0.7152, 0.5932, 1.1174, 1.435, 1.5796, 1.4818, 1.4718, 0.4924, 1.2986, 1.568, 1.356, 4.7222, 4.0413, 3.9058, 3.7572, 3.6517, 3.604, 3.4056, 2.3456, 2.0888, 1.744, 1.6928, 1.6928, 1.6712, 1.6693, 1.6683, 1.6598, 1.6594, 1.6542, 1.6516, 1.6481, 1.6448, 1.6419, 1.6408, 1.6404, 1.6389, 1.6349, 1.6329, 1.6322, 1.6316, 1.6309, 1.5774, 1.5981, 1.5757, 1.4789, 1.4909, 1.3257, 1.3964, 1.3048, 1.2971, 1.5271, 1.4362, 1.328, 1.504, 1.5235, 1.5093, 1.1263, 1.3928, 1.0102, 1.5142, 1.6118, 3.9072, 3.8516, 3.8378, 3.8319, 3.8127, 3.6374, 3.5122, 3.5106, 3.3719, 1.9244, 1.9096, 1.8926, 1.6937, 1.6937, 1.6858, 1.6721, 1.6702, 1.6692, 1.6607, 1.6603, 1.6552, 1.6548, 1.6526, 1.649, 1.6457, 1.6429, 1.6418, 1.6413, 1.6398, 1.6358, 1.05, 1.061, 1.4893, 1.3785, 0.1723, 1.2347, 1.3806, 1.5979, 0.8144, 1.607, 1.5593, 0.74, 1.3735, 1.6338, 1.5698, 4.4914, 4.432, 3.724, 3.3633, 3.3431, 3.2814, 3.1939, 2.8637, 2.7602, 2.0912, 1.723, 1.694, 1.694, 1.6724, 1.6705, 1.6695, 1.661, 1.6606, 1.6555, 1.6529, 1.6522, 1.6493, 1.646, 1.6432, 1.6421, 1.6416, 1.6401, 1.6361, 1.6341, 1.6334, 1.5539, 1.5935, 1.2987, 1.5699, 1.4126, 1.4052, 1.6021, 1.2504, 1.5641, 0.9715, 1.1295, 1.0694, 1.2341, 1.3771, 1.3774, 1.5629, 1.2555, 1.3737, 4.903, 3.7085, 3.6063, 3.511, 1.6962, 1.6962, 1.6747, 1.6728, 1.6717, 1.6632, 1.6628, 1.6577, 1.6551, 1.6515, 1.6483, 1.6454, 1.6443, 1.6438, 1.6424, 1.6384, 1.6364, 1.6356, 1.635, 1.6344, 1.6331, 1.6283, 1.6283, 1.6282, 1.6274, 1.6259, 0.3762, 0.6922, 1.5989, 1.5721, 1.3473, 1.5221, 1.3076, 1.5824, 1.2419, 1.461, 1.4382, 1.409, 1.2095, 1.5496, 1.5462, 1.231, 1.2182, 1.3497, 1.204, 0.9453, 1.0801, 1.4298, 1.059, 1.182, 1.387, 3.9145, 3.8578, 3.8185, 3.7594, 3.2018, 1.6969, 1.6969, 1.6753, 1.6734, 1.6724, 1.6639, 1.6635, 1.6584, 1.6558, 1.6522, 1.6489, 1.6461, 1.645, 1.6445, 1.643, 1.639, 1.637, 1.6363, 1.6357, 1.635, 1.6338, 1.629, 1.6289, 1.6289, 1.6281, 1.3137, 1.5977, 1.4914, 1.394, 1.4912, 1.1756, 1.3225, 1.0665, 1.0405, 1.259, 1.1412, 1.4468, 1.4434, 1.3912, 0.6257, 0.676, 1.4328, 1.4186, 1.4557, 1.3245, 0.9304, 1.446, 1.4458, 1.2614, 1.4143, 3.9167, 3.836, 3.683, 3.5787, 2.3953, 2.3366, 2.3257, 2.2929, 2.066, 1.6973, 1.6973, 1.6758, 1.6739, 1.6728, 1.6643, 1.6639, 1.6588, 1.6562, 1.6526, 1.6494, 1.6465, 1.6454, 1.6449, 1.6435, 1.6395, 1.6375, 1.6367, 1.6362, 1.6355, 1.6343, 1.6019, 0.9432, 1.5234, 1.5313, 1.5215, 1.5011, 1.3915, 1.5473, 1.3805, 0.3397, 0.7712, 1.4706, 1.2051, 1.4329, 1.4535, 1.448, 1.3035, -0.1694, 0.8614, 1.0574, 1.0946, 3.8524, 3.8325, 3.467, 3.3073, 3.1605, 3.0803, 3.0307, 2.122, 2.0309, 1.9858, 1.9721, 1.6969, 1.6969, 1.6753, 1.6734, 1.6724, 1.6639, 1.6635, 1.6584, 1.6558, 1.6522, 1.649, 1.6461, 1.645, 1.6445, 1.643, 1.639, 1.637, 1.6363, 1.6357, 0.7931, 0.7482, 0.4597, 1.0515, 1.4201, 1.5083, 1.4107, 1.3165, 1.4643, 1.3914, 0.5259, 1.3, 1.3222, 1.1048, 1.1939, 1.1567, 0.4128, 1.2027, 1.218]}, \"token.table\": {\"Topic\": [1, 2, 1, 2, 1, 2, 1, 1, 1, 2, 2, 2, 1, 1, 2, 2, 1, 1, 1, 3, 2, 4, 3, 1, 2, 2, 2, 3, 4, 4, 1, 2, 4, 2, 1, 1, 2, 2, 1, 2, 4, 3, 4, 3, 1, 1, 2, 4, 5, 1, 2, 4, 1, 5, 3, 4, 1, 2, 1, 4, 1, 2, 2, 1, 2, 1, 2, 4, 1, 2, 1, 2, 2, 1, 1, 2, 1, 1, 4, 1, 2, 2, 3, 1, 1, 1, 1, 2, 2, 3, 2, 1, 1, 2, 5, 1, 1, 2, 1, 1, 1, 2, 4, 3, 2, 1, 2, 2, 1, 4, 4, 4, 1, 2, 5, 3, 3, 1, 2, 5, 4, 4, 2, 1, 1, 2, 5, 5, 2, 2, 2, 2, 4, 5, 5, 3, 1, 1, 3, 2, 2, 5, 2, 5, 3, 1, 2, 5, 5, 4, 4, 5, 2, 5, 1, 3, 2, 1, 2, 2, 5, 3, 3, 1, 5, 1, 2, 5, 5, 2, 1, 4, 2, 1, 2, 5, 4, 4, 1, 2, 2, 4, 4, 1, 4, 4, 1, 3, 3, 3, 3, 4, 3, 1, 2, 4, 1, 2, 2, 1, 2, 2, 5, 2, 3, 1, 2, 1, 2, 1, 2, 3, 4, 3, 1, 2, 1, 4, 3, 1, 1, 2, 1, 1, 2, 1, 1, 4, 4, 2, 1, 2, 5, 1, 3, 1, 2, 1, 1, 1, 2, 2, 2, 1, 1, 3, 1, 1, 2, 1, 2, 4, 4, 1, 2, 1, 1, 2, 3, 5, 1, 1, 1, 2, 1, 2, 4, 5, 2, 3, 3, 5, 2, 4, 4, 3, 4, 3, 2, 3, 2, 1, 1, 2, 4, 5, 4, 1, 1, 2, 1, 4, 2, 2, 5, 4, 4, 5, 3, 1, 2, 4, 1, 2, 2, 3, 3, 1, 2, 3, 2, 1, 4, 1, 3, 3, 1, 1, 2, 1, 2, 1, 2, 1, 1, 1, 3, 1, 1, 2, 2, 5, 3, 1, 2, 1, 2, 2, 1, 2, 3, 2, 5, 5, 3, 3, 4, 3, 5, 5, 5], \"Freq\": [0.8283292216087881, 0.14617574498978614, 0.9426040899788989, 0.05544729941052346, 0.9823947757366268, 0.06549298504910846, 0.9421076910021474, 1.002387632725283, 0.06285318819970814, 0.8799446347959139, 1.0135145965651273, 1.036407154630992, 0.9949967170603842, 0.07941689993383394, 0.8735858992721733, 0.8288392209827756, 0.9881960516639658, 0.9783203941772692, 0.910858278211103, 0.0759048565175919, 0.9629644644719901, 0.5618573949769645, 0.7507362029721961, 1.17466528581111, 0.9250469565836819, 0.9928767983710661, 0.6306686044281186, 0.4204457362854124, 0.9359149367472342, 0.8033453649050567, 0.45815062675704704, 0.5726882834463088, 0.749439328492863, 1.0584764503848647, 0.9311316675756928, 0.7268536253183899, 0.22714175791199687, 0.9519828204996288, 0.23868187575041103, 0.7757160961888359, 0.834098087708823, 0.5908719992422926, 0.8690303548138796, 0.6664844073713379, 0.9877423750424296, 0.14841427766076123, 0.8162785271341867, 0.8847935060824835, 0.8111284648472523, 0.8052215967412064, 0.18946390511557798, 1.0800416586153545, 0.498573931396648, 0.498573931396648, 0.8674995990702957, 1.3036998143268546, 0.73193897748523, 0.2545874704296452, 0.9903957866448923, 0.6774279943055143, 0.1601867050985177, 0.8409802017672179, 0.9535937600814631, 0.19586097954258458, 0.7834439181703383, 0.2883666723383701, 0.6920800136120883, 1.1550196454192807, 0.9627115198320676, 0.9578578935014116, 0.3443593196752918, 0.6313254194047017, 0.7947641126912408, 0.9795946193025251, 0.04528433397448344, 0.9509710134641522, 1.1953387797300195, 0.962918724120209, 0.8308843778794456, 0.22926574390094914, 0.802430103653322, 0.6172960553160967, 0.24691842212643866, 0.971493975566699, 0.9602913888795072, 0.9530547407581601, 1.1112926614224843, 0.9300432425353368, 1.0105744393036449, 0.9344949578029405, 0.9202286164261108, 0.9541456692042082, 0.9504488645388514, 0.06336325763592343, 0.7149543209044084, 0.9559813617464002, 0.9784901496443775, 0.9672009665148855, 0.9849066129914741, 0.997892871871725, 0.27077092255956176, 0.7040043986548605, 0.6229106219581847, 1.0965847430168856, 0.8728641501814636, 0.9276429921701304, 0.05797768701063315, 0.9366965641710517, 0.972753969526234, 0.8004971727614454, 0.9096980148573822, 0.687359113174084, 0.7522940023774117, 0.26551553025085123, 1.2822812766791785, 1.0985609682916397, 0.7548459858674017, 0.18973552030205473, 0.7589420812082189, 0.5518082788232932, 0.7419497374955499, 0.6416892879095775, 1.0006923512476658, 0.9829755509994575, 0.15404858305595973, 0.8472672068077785, 1.1442255084112067, 0.6527292557148985, 0.9462551748629234, 0.9599183801475385, 0.9246015113492588, 0.9817529481856706, 0.6719132458631545, 0.6740581888610679, 1.0928776345377442, 0.7301307579942177, 1.0089425416477371, 0.9804977352751002, 0.04456807887614092, 1.005670827962914, 0.8567700102217795, 0.8660427875105494, 0.3523098694884257, 0.3523098694884257, 0.8510821614991834, 0.4022739502563485, 0.5810623725925034, 0.9158785822335673, 0.7127372312738215, 1.2146768780908543, 0.9151536029000861, 0.8831285491834779, 0.4505925902089557, 0.4505925902089557, 0.9010987345542697, 1.090986121551206, 0.9575872523483504, 0.9719664476200042, 0.9881049965103298, 0.7191685263204947, 0.23972284210683156, 0.5793254863408194, 0.7930677483219134, 0.7071601864164643, 0.35358009320823214, 0.22269793128982748, 0.22269793128982748, 0.44539586257965497, 0.961340142174682, 0.9616285820493633, 0.9848269482579382, 0.8349231536884394, 0.9298786252356416, 0.27712517879320914, 0.6466254171841547, 0.09237505959773638, 0.8241971116082308, 0.7916890385573355, 0.08569691713243381, 0.856969171324338, 1.0206185241133086, 0.5673070641237217, 0.8266818722557682, 1.0807916670954503, 0.7606938795643352, 0.7609827757527989, 0.714021197859949, 0.3006405043620838, 0.5829273588820172, 0.9499458888986275, 0.7118033297248715, 0.537941065798744, 0.6146948531175339, 0.21968157587749684, 0.8054991115508218, 1.058836716272809, 0.8090102124362291, 0.19035534410264213, 1.0304764118641354, 0.9093186537214053, 0.09093186537214053, 0.4303934594057666, 0.4303934594057666, 1.002194048088308, 1.2178894068988808, 0.16187561330946096, 0.8093780665473048, 0.1447693987709729, 0.8203599263688464, 0.7838358418474906, 0.18443196278764484, 1.1334719590075093, 0.6009716501361895, 0.9441278942589431, 0.3431124427052109, 0.6334383557634663, 0.9392502109900921, 1.0808251085538367, 0.7534240895658786, 0.968787576959236, 0.6494608903682985, 0.32473044518414923, 0.9087255090955577, 0.2015740012627089, 0.8062960050508357, 0.9666331306873054, 1.0288962078076485, 0.8726051292851896, 0.717429436033072, 0.9735513343296591, 0.7058236197412272, 0.20166389135463636, 0.10083194567731818, 1.1834868310740243, 1.1570759164616569, 0.6391291171374119, 0.3595101283897942, 1.096211713409643, 0.963136849733641, 0.09192211164199786, 0.8732600605989796, 1.0149734443326854, 0.9920293890268049, 1.2036170335792389, 0.9506162761189195, 0.8128147936795377, 1.0055527676935867, 0.3853752769160674, 0.6055897208681059, 0.23981797767762425, 0.7794084274522788, 1.0506754002188667, 0.6823615123315341, 0.23231597459493225, 0.8131059110822629, 0.8917515832484374, 0.08536169469389306, 0.8536169469389305, 0.5534831989183723, 0.8110179513974958, 0.9774518607154415, 1.194068066129661, 0.9579057538266318, 0.03684252899333199, 0.7618057091722847, 0.24377782693513111, 1.3084767491602824, 0.7603440629528642, 1.0275164599060345, 0.6599410247483524, 0.8530636927037711, 1.2242172891855554, 1.1808273577510857, 1.187010113621665, 0.670028353041045, 1.1413433488757565, 0.5866205649739662, 1.0257097996753686, 1.0175270178452216, 0.9912732666683068, 1.1257517321186652, 1.0800830833631834, 0.2610512509196866, 0.7309435025751226, 1.1357482979315623, 0.9138020636115474, 0.735184545034608, 1.008659019530201, 0.8204576249265543, 0.15383580467372893, 0.9733523356369328, 0.9020232991330127, 0.9428694341320729, 0.47034401971202044, 0.47034401971202044, 0.8152545169653015, 1.1356902942772296, 0.8195716080354434, 0.8914058587586086, 0.5409605732931096, 0.4577358697095543, 0.7602785458394712, 0.9651209533563448, 0.9900417306118414, 0.9557207709104386, 0.7160888189856965, 0.9718919136212989, 0.17572998757982738, 0.8200732753725277, 0.5700761880045977, 0.946145201180214, 0.9598152710710409, 0.7433086557540901, 0.9524797103334, 0.7238925244809056, 0.7442094263049278, 1.0101353078634723, 0.89875849795159, 0.09986205532795445, 0.9461014987344014, 0.04730507493672007, 0.963836813199871, 1.189217058743325, 0.9642621194941954, 1.003916290946308, 0.9961085192274844, 0.6684734904697031, 0.9748484475056504, 0.20266876209505935, 0.7600078578564725, 1.0076232422470723, 1.2072946360748704, 0.7262184106147076, 0.10786320842983874, 0.8629056674387099, 0.9509039302613465, 0.06339359535075642, 1.0624792755656254, 0.23227395503174622, 0.7548903538531753, 0.7662490325537779, 0.5788881295839486, 0.5788881295839486, 1.2779349404752463, 0.8276345231172741, 0.6884800350380619, 0.6884800350380619, 0.7684296606480938, 0.8566214420415623, 0.7036155108683623, 0.5597801021099845], \"Term\": [\"abc\", \"abc\", \"action\", \"action\", \"adaptation\", \"adaptation\", \"adult\", \"adventure\", \"agent\", \"agent\", \"aggregator\", \"alan\", \"alien\", \"amazon\", \"amazon\", \"animaniacs\", \"animated\", \"animation\", \"anime\", \"anime\", \"anne\", \"archer\", \"ariel\", \"arjun\", \"army\", \"arthur\", \"ball\", \"ball\", \"barton\", \"bauer\", \"bbc\", \"bbc\", \"berlin\", \"biggest\", \"black\", \"book\", \"book\", \"brian\", \"british\", \"british\", \"britt\", \"bugs\", \"caitlin\", \"cards\", \"cartoon\", \"case\", \"case\", \"cathy\", \"cha\", \"channel\", \"channel\", \"cheers\", \"choi\", \"choi\", \"circulation\", \"clues\", \"comedy\", \"comedy\", \"comic\", \"constantine\", \"crime\", \"crime\", \"criminal\", \"critic\", \"critic\", \"critics\", \"critics\", \"crowe\", \"cup\", \"dan\", \"daughter\", \"daughter\", \"defenders\", \"design\", \"detective\", \"detective\", \"dickinson\", \"disney\", \"dixon\", \"documentary\", \"documentary\", \"dragon\", \"dragon\", \"dusk\", \"dvd\", \"earth\", \"elsa\", \"emily\", \"emma\", \"emperor\", \"england\", \"english\", \"entertainment\", \"entertainment\", \"eun\", \"eureka\", \"fan\", \"fbi\", \"fifth\", \"fight\", \"filming\", \"filming\", \"finn\", \"firefly\", \"forrester\", \"fourth\", \"fourth\", \"france\", \"game\", \"gilmore\", \"ginny\", \"gotham\", \"guest\", \"guest\", \"hae\", \"halo\", \"harmon\", \"hbo\", \"hbo\", \"hee\", \"heller\", \"hernandez\", \"historical\", \"human\", \"husband\", \"husband\", \"hye\", \"hyun\", \"india\", \"indian\", \"inspector\", \"investigate\", \"isabel\", \"jae\", \"jang\", \"janine\", \"japan\", \"japanese\", \"japanese\", \"jason\", \"jedi\", \"jeong\", \"jin\", \"jin\", \"jodie\", \"john\", \"john\", \"joo\", \"joon\", \"julien\", \"juliette\", \"jung\", \"kang\", \"kang\", \"kardashian\", \"karma\", \"kate\", \"kevin\", \"killer\", \"kim\", \"kim\", \"kirsten\", \"kodansha\", \"korea\", \"korea\", \"korean\", \"korean\", \"korean\", \"kyung\", \"language\", \"lark\", \"laurel\", \"law\", \"lee\", \"lee\", \"lee\", \"liars\", \"locke\", \"london\", \"london\", \"loser\", \"louie\", \"lucifer\", \"luthor\", \"macy\", \"magnum\", \"manga\", \"manga\", \"marianne\", \"marilyn\", \"medieval\", \"melanie\", \"merlin\", \"metacritic\", \"metacritic\", \"mgm\", \"michael\", \"michael\", \"miller\", \"million\", \"million\", \"min\", \"min\", \"miniseries\", \"moms\", \"moon\", \"moon\", \"murder\", \"murder\", \"music\", \"music\", \"naruto\", \"nazi\", \"ncis\", \"netflix\", \"netflix\", \"nickelodeon\", \"nightmares\", \"nominated\", \"north\", \"novel\", \"novel\", \"nye\", \"officer\", \"officer\", \"opening\", \"organization\", \"palladino\", \"pam\", \"panther\", \"park\", \"park\", \"park\", \"partridge\", \"philosophical\", \"pilot\", \"pilot\", \"pinky\", \"planet\", \"police\", \"police\", \"political\", \"prison\", \"prolific\", \"publish\", \"quantum\", \"ray\", \"relationship\", \"relationship\", \"report\", \"report\", \"restless\", \"rory\", \"rotten\", \"rotten\", \"rugrats\", \"ryan\", \"ryan\", \"salem\", \"sang\", \"santo\", \"schilling\", \"school\", \"school\", \"seasons\", \"seasons\", \"seed\", \"seo\", \"serial\", \"serialization\", \"serialize\", \"seung\", \"shaman\", \"shay\", \"sheen\", \"sheldon\", \"sherman\", \"shonen\", \"showrunner\", \"shueisha\", \"shuttle\", \"skywalker\", \"son\", \"son\", \"sonic\", \"soo\", \"soviet\", \"space\", \"special\", \"special\", \"spin\", \"stargate\", \"stephen\", \"sung\", \"sung\", \"susie\", \"tabitha\", \"tae\", \"tankobon\", \"team\", \"team\", \"teller\", \"theme\", \"thomas\", \"thriller\", \"tia\", \"titans\", \"tomatoes\", \"tomatoes\", \"tournament\", \"trailer\", \"travel\", \"traveler\", \"universe\", \"uss\", \"utopia\", \"vampire\", \"version\", \"version\", \"video\", \"video\", \"viewers\", \"vikram\", \"voice\", \"voiced\", \"volume\", \"waller\", \"wang\", \"war\", \"war\", \"wars\", \"webtoon\", \"wes\", \"wife\", \"wife\", \"win\", \"win\", \"wins\", \"woman\", \"woman\", \"wonderland\", \"woo\", \"woo\", \"wook\", \"wormhole\", \"yellow\", \"yellow\", \"yen\", \"yeon\", \"yoo\", \"yoon\"]}, \"R\": 30, \"lambda.step\": 0.01, \"plot.opts\": {\"xlab\": \"PC1\", \"ylab\": \"PC2\"}, \"topic.order\": [7, 15, 5, 14, 3, 10, 2, 12, 18, 9, 11, 6, 4, 16, 19, 20, 13, 8, 17, 1]};\n",
       "\n",
       "function LDAvis_load_lib(url, callback){\n",
       "  var s = document.createElement('script');\n",
       "  s.src = url;\n",
       "  s.async = true;\n",
       "  s.onreadystatechange = s.onload = callback;\n",
       "  s.onerror = function(){console.warn(\"failed to load library \" + url);};\n",
       "  document.getElementsByTagName(\"head\")[0].appendChild(s);\n",
       "}\n",
       "\n",
       "if(typeof(LDAvis) !== \"undefined\"){\n",
       "   // already loaded: just create the visualization\n",
       "   !function(LDAvis){\n",
       "       new LDAvis(\"#\" + \"ldavis_el4332420501774304644830880523\", ldavis_el4332420501774304644830880523_data);\n",
       "   }(LDAvis);\n",
       "}else if(typeof define === \"function\" && define.amd){\n",
       "   // require.js is available: use it to load d3/LDAvis\n",
       "   require.config({paths: {d3: \"https://d3js.org/d3.v5\"}});\n",
       "   require([\"d3\"], function(d3){\n",
       "      window.d3 = d3;\n",
       "      LDAvis_load_lib(\"https://cdn.jsdelivr.net/gh/bmabey/pyLDAvis@3.4.0/pyLDAvis/js/ldavis.v3.0.0.js\", function(){\n",
       "        new LDAvis(\"#\" + \"ldavis_el4332420501774304644830880523\", ldavis_el4332420501774304644830880523_data);\n",
       "      });\n",
       "    });\n",
       "}else{\n",
       "    // require.js not available: dynamically load d3 & LDAvis\n",
       "    LDAvis_load_lib(\"https://d3js.org/d3.v5.js\", function(){\n",
       "         LDAvis_load_lib(\"https://cdn.jsdelivr.net/gh/bmabey/pyLDAvis@3.4.0/pyLDAvis/js/ldavis.v3.0.0.js\", function(){\n",
       "                 new LDAvis(\"#\" + \"ldavis_el4332420501774304644830880523\", ldavis_el4332420501774304644830880523_data);\n",
       "            })\n",
       "         });\n",
       "}\n",
       "</script>"
      ],
      "text/plain": [
       "PreparedData(topic_coordinates=              x         y  topics  cluster       Freq\n",
       "topic                                                \n",
       "6      0.210146 -0.168229       1        1  51.546548\n",
       "14    -0.220399 -0.155693       2        1  35.506444\n",
       "4      0.006071  0.147749       3        1   3.259077\n",
       "13     0.001361  0.114722       4        1   2.590032\n",
       "2     -0.001361  0.019755       5        1   0.950227\n",
       "9      0.000295  0.004443       6        1   0.436384\n",
       "1      0.000455  0.003691       7        1   0.433033\n",
       "11     0.000187  0.003155       8        1   0.418290\n",
       "17     0.000260  0.003429       9        1   0.417126\n",
       "8      0.000259  0.003202      10        1   0.415893\n",
       "10     0.000217  0.002776      11        1   0.411696\n",
       "5      0.000290  0.002685      12        1   0.411223\n",
       "3      0.000246  0.002730      13        1   0.408981\n",
       "15     0.000367  0.002489      14        1   0.405081\n",
       "18     0.000294  0.002494      15        1   0.403721\n",
       "19     0.000197  0.002273      16        1   0.400984\n",
       "12     0.000274  0.002025      17        1   0.397848\n",
       "7      0.000280  0.002144      18        1   0.396634\n",
       "16     0.000267  0.002069      19        1   0.395448\n",
       "0      0.000293  0.002092      20        1   0.395334, topic_info=              Term       Freq      Total Category  logprob  loglift\n",
       "9254         manga  26.000000  26.000000  Default  30.0000  30.0000\n",
       "641          anime  39.000000  39.000000  Default  29.0000  29.0000\n",
       "8708           lee  10.000000  10.000000  Default  28.0000  28.0000\n",
       "8416           kim   8.000000   8.000000  Default  27.0000  27.0000\n",
       "11035         park   9.000000   9.000000  Default  26.0000  26.0000\n",
       "...            ...        ...        ...      ...      ...      ...\n",
       "6695        hadadi   0.006844   0.524589  Topic20  -9.7412   1.1939\n",
       "3767         darcy   0.006844   0.544476  Topic20  -9.7412   1.1567\n",
       "5951     forrester   0.006844   1.145654  Topic20  -9.7412   0.4128\n",
       "3968   deliciously   0.006844   0.519984  Topic20  -9.7412   1.2027\n",
       "12708     reshoots   0.006844   0.512116  Topic20  -9.7412   1.2180\n",
       "\n",
       "[950 rows x 6 columns], token_table=       Topic      Freq        Term\n",
       "term                              \n",
       "12         1  0.828329         abc\n",
       "12         2  0.146176         abc\n",
       "141        1  0.942604      action\n",
       "141        2  0.055447      action\n",
       "164        1  0.982395  adaptation\n",
       "...      ...       ...         ...\n",
       "16846      4  0.688480      yellow\n",
       "16847      3  0.768430         yen\n",
       "16850      5  0.856621        yeon\n",
       "16863      5  0.703616         yoo\n",
       "16864      5  0.559780        yoon\n",
       "\n",
       "[351 rows x 3 columns], R=30, lambda_step=0.01, plot_opts={'xlab': 'PC1', 'ylab': 'PC2'}, topic_order=[7, 15, 5, 14, 3, 10, 2, 12, 18, 9, 11, 6, 4, 16, 19, 20, 13, 8, 17, 1])"
      ]
     },
     "execution_count": 36,
     "metadata": {},
     "output_type": "execute_result"
    }
   ],
   "source": [
    "# Topic Modelling Visualization for the show description texts\n",
    "pyLDAvis.sklearn.prepare(best_lda_model2, dtm_tfidf, tfidf_vectorizer)"
   ]
  },
  {
   "cell_type": "code",
   "execution_count": 37,
   "metadata": {},
   "outputs": [],
   "source": [
    "lda_results2 = best_lda_model2.fit_transform(dtm_tfidf) "
   ]
  },
  {
   "cell_type": "code",
   "execution_count": 38,
   "metadata": {},
   "outputs": [
    {
     "name": "stderr",
     "output_type": "stream",
     "text": [
      "100%|██████████| 2484/2484 [00:02<00:00, 1004.25it/s]\n"
     ]
    }
   ],
   "source": [
    "make_lda_topic_pct_cols(lda_results2, df, \"forced_alt_\")"
   ]
  },
  {
   "attachments": {},
   "cell_type": "markdown",
   "metadata": {},
   "source": [
    "## Save final results dataframe"
   ]
  },
  {
   "attachments": {},
   "cell_type": "markdown",
   "metadata": {},
   "source": [
    "> Saves only the results columns.  All other columns can be obtained from prior dataframes"
   ]
  },
  {
   "cell_type": "code",
   "execution_count": 39,
   "metadata": {},
   "outputs": [
    {
     "data": {
      "text/plain": [
       "Index(['name', 'href', 'tokenized_text', 'lda_topic0_match_pct',\n",
       "       'lda_topic1_match_pct', 'lda_topic2_match_pct', 'lda_topic3_match_pct',\n",
       "       'lda_topic4_match_pct', 'lsa_topic0_cos_match', 'lsa_topic1_cos_match',\n",
       "       'lsa_topic2_cos_match', 'lsa_topic3_cos_match', 'lsa_topic4_cos_match',\n",
       "       'lsa_topic5_cos_match', 'lsa_topic6_cos_match', 'lsa_topic7_cos_match',\n",
       "       'lsa_topic8_cos_match', 'lsa_topic9_cos_match',\n",
       "       'forced_alt_lda_topic0_match_pct', 'forced_alt_lda_topic1_match_pct',\n",
       "       'forced_alt_lda_topic2_match_pct', 'forced_alt_lda_topic3_match_pct',\n",
       "       'forced_alt_lda_topic4_match_pct', 'forced_alt_lda_topic5_match_pct',\n",
       "       'forced_alt_lda_topic6_match_pct', 'forced_alt_lda_topic7_match_pct',\n",
       "       'forced_alt_lda_topic8_match_pct', 'forced_alt_lda_topic9_match_pct',\n",
       "       'forced_alt_lda_topic10_match_pct', 'forced_alt_lda_topic11_match_pct',\n",
       "       'forced_alt_lda_topic12_match_pct', 'forced_alt_lda_topic13_match_pct',\n",
       "       'forced_alt_lda_topic14_match_pct', 'forced_alt_lda_topic15_match_pct',\n",
       "       'forced_alt_lda_topic16_match_pct', 'forced_alt_lda_topic17_match_pct',\n",
       "       'forced_alt_lda_topic18_match_pct', 'forced_alt_lda_topic19_match_pct'],\n",
       "      dtype='object')"
      ]
     },
     "execution_count": 39,
     "metadata": {},
     "output_type": "execute_result"
    }
   ],
   "source": [
    "df.columns"
   ]
  },
  {
   "cell_type": "code",
   "execution_count": 40,
   "metadata": {},
   "outputs": [],
   "source": [
    "# (default) if reading from a tokenized-only df\n",
    "columns_to_drop = ['tokenized_text']\n",
    "\n",
    "# for cases run using other (non-standard) df's as input\n",
    "#columns_to_drop = ['combined_text', 'lemmatized_text', 'tokenized_text']"
   ]
  },
  {
   "cell_type": "code",
   "execution_count": 41,
   "metadata": {},
   "outputs": [],
   "source": [
    "df.drop(columns=columns_to_drop, inplace=True)"
   ]
  },
  {
   "cell_type": "code",
   "execution_count": 42,
   "metadata": {},
   "outputs": [],
   "source": [
    "df.to_csv(f\"{output_directory}{final_model_name}.csv\", index=False)\n",
    "# df.to_json(f\"{output_directory}{final_model_name}.json\")"
   ]
  },
  {
   "attachments": {},
   "cell_type": "markdown",
   "metadata": {},
   "source": [
    "#### Save topic words matrices"
   ]
  },
  {
   "cell_type": "code",
   "execution_count": 43,
   "metadata": {},
   "outputs": [],
   "source": [
    "lda_topic_words.to_csv(f\"{output_directory}{final_model_name}_topicwords.csv\", index=False)"
   ]
  },
  {
   "cell_type": "code",
   "execution_count": 44,
   "metadata": {},
   "outputs": [],
   "source": [
    "lda_topic_words2.to_csv(f\"{output_directory}{final_model_name}_topicwords_forced_alt.csv\", index=False)"
   ]
  }
 ],
 "metadata": {
  "kernelspec": {
   "display_name": "base",
   "language": "python",
   "name": "python3"
  },
  "language_info": {
   "codemirror_mode": {
    "name": "ipython",
    "version": 3
   },
   "file_extension": ".py",
   "mimetype": "text/x-python",
   "name": "python",
   "nbconvert_exporter": "python",
   "pygments_lexer": "ipython3",
   "version": "3.9.16"
  },
  "orig_nbformat": 4
 },
 "nbformat": 4,
 "nbformat_minor": 2
}
