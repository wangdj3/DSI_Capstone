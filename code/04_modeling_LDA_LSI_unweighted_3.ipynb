{
 "cells": [
  {
   "attachments": {},
   "cell_type": "markdown",
   "metadata": {},
   "source": [
    "# LDA (Latent Dirichlet Allocation) & LSI (Latent Semantic Indexing)"
   ]
  },
  {
   "cell_type": "markdown",
   "metadata": {},
   "source": [
    "#### Set parameters for how final model results will be saved"
   ]
  },
  {
   "cell_type": "code",
   "execution_count": 1,
   "metadata": {},
   "outputs": [],
   "source": [
    "tokenized_run_name = \"unweighted_1_tokens\"  #manually input the filename (no extension) to be used as input"
   ]
  },
  {
   "cell_type": "code",
   "execution_count": 2,
   "metadata": {},
   "outputs": [],
   "source": [
    "data_directory = \"../data/\"\n",
    "output_directory = \"../outputs/\""
   ]
  },
  {
   "cell_type": "code",
   "execution_count": 3,
   "metadata": {},
   "outputs": [],
   "source": [
    "base_model_type = \"lda_lsi\"\n",
    "model_name_suffix = \"\"  #default should be blank; use to make note of any other mods\n",
    "run_number = 3"
   ]
  },
  {
   "cell_type": "code",
   "execution_count": 4,
   "metadata": {},
   "outputs": [],
   "source": [
    "final_model_name = f\"{base_model_type}_{tokenized_run_name[:-7]}_run{run_number}{model_name_suffix}\""
   ]
  },
  {
   "cell_type": "markdown",
   "metadata": {},
   "source": [
    "#### Imports"
   ]
  },
  {
   "cell_type": "code",
   "execution_count": 5,
   "metadata": {},
   "outputs": [],
   "source": [
    "# general use\n",
    "import numpy as np\n",
    "import pandas as pd\n",
    "import matplotlib.pyplot as plt\n",
    "\n",
    "from sklearn.feature_extraction.text import CountVectorizer, TfidfVectorizer\n",
    "\n",
    "# # for LDA modeling & presentation\n",
    "from sklearn.model_selection import GridSearchCV\n",
    "from sklearn.decomposition import LatentDirichletAllocation\n",
    "import pyLDAvis\n",
    "import pyLDAvis.sklearn\n",
    "pyLDAvis.enable_notebook()\n",
    "\n",
    "# # for LSA modeling\n",
    "from sklearn.decomposition import TruncatedSVD\n",
    "\n",
    "# for progress bar on loops\n",
    "from tqdm import tqdm"
   ]
  },
  {
   "attachments": {},
   "cell_type": "markdown",
   "metadata": {},
   "source": [
    "#### Read in Dataframe with tokenized text"
   ]
  },
  {
   "cell_type": "code",
   "execution_count": 6,
   "metadata": {},
   "outputs": [
    {
     "data": {
      "text/html": [
       "<div>\n",
       "<style scoped>\n",
       "    .dataframe tbody tr th:only-of-type {\n",
       "        vertical-align: middle;\n",
       "    }\n",
       "\n",
       "    .dataframe tbody tr th {\n",
       "        vertical-align: top;\n",
       "    }\n",
       "\n",
       "    .dataframe thead th {\n",
       "        text-align: right;\n",
       "    }\n",
       "</style>\n",
       "<table border=\"1\" class=\"dataframe\">\n",
       "  <thead>\n",
       "    <tr style=\"text-align: right;\">\n",
       "      <th></th>\n",
       "      <th>name</th>\n",
       "      <th>href</th>\n",
       "      <th>tokenized_text</th>\n",
       "    </tr>\n",
       "  </thead>\n",
       "  <tbody>\n",
       "    <tr>\n",
       "      <th>0</th>\n",
       "      <td>Game of Thrones</td>\n",
       "      <td>/title/tt0944947/</td>\n",
       "      <td>nine noble family fight control land westeros ...</td>\n",
       "    </tr>\n",
       "    <tr>\n",
       "      <th>1</th>\n",
       "      <td>Prison Break</td>\n",
       "      <td>/title/tt0455275/</td>\n",
       "      <td>due political conspiracy innocent man send dea...</td>\n",
       "    </tr>\n",
       "    <tr>\n",
       "      <th>2</th>\n",
       "      <td>Vikings</td>\n",
       "      <td>/title/tt2306299/</td>\n",
       "      <td>vikings transport us brutal mysterious world r...</td>\n",
       "    </tr>\n",
       "    <tr>\n",
       "      <th>3</th>\n",
       "      <td>The Boys</td>\n",
       "      <td>/title/tt1190634/</td>\n",
       "      <td>group vigilante set take corrupt superheroes a...</td>\n",
       "    </tr>\n",
       "    <tr>\n",
       "      <th>4</th>\n",
       "      <td>The Mandalorian</td>\n",
       "      <td>/title/tt8111088/</td>\n",
       "      <td>travel lone bounty hunter outer reach galaxy f...</td>\n",
       "    </tr>\n",
       "  </tbody>\n",
       "</table>\n",
       "</div>"
      ],
      "text/plain": [
       "              name               href  \\\n",
       "0  Game of Thrones  /title/tt0944947/   \n",
       "1     Prison Break  /title/tt0455275/   \n",
       "2          Vikings  /title/tt2306299/   \n",
       "3         The Boys  /title/tt1190634/   \n",
       "4  The Mandalorian  /title/tt8111088/   \n",
       "\n",
       "                                      tokenized_text  \n",
       "0  nine noble family fight control land westeros ...  \n",
       "1  due political conspiracy innocent man send dea...  \n",
       "2  vikings transport us brutal mysterious world r...  \n",
       "3  group vigilante set take corrupt superheroes a...  \n",
       "4  travel lone bounty hunter outer reach galaxy f...  "
      ]
     },
     "execution_count": 6,
     "metadata": {},
     "output_type": "execute_result"
    }
   ],
   "source": [
    "df = pd.read_csv(f\"{data_directory}{tokenized_run_name}.csv\")\n",
    "df.head()"
   ]
  },
  {
   "cell_type": "code",
   "execution_count": 7,
   "metadata": {},
   "outputs": [
    {
     "data": {
      "text/plain": [
       "name              0\n",
       "href              0\n",
       "tokenized_text    0\n",
       "dtype: int64"
      ]
     },
     "execution_count": 7,
     "metadata": {},
     "output_type": "execute_result"
    }
   ],
   "source": [
    "df.isna().sum()"
   ]
  },
  {
   "cell_type": "code",
   "execution_count": 8,
   "metadata": {},
   "outputs": [],
   "source": [
    "df.fillna(\"\",inplace=True)"
   ]
  },
  {
   "attachments": {},
   "cell_type": "markdown",
   "metadata": {},
   "source": [
    "#### Count Vectorization & TfIDF"
   ]
  },
  {
   "cell_type": "code",
   "execution_count": 9,
   "metadata": {},
   "outputs": [],
   "source": [
    "# Function draws heavily from Jiamei Wang's code: \n",
    "# Technique reference: (Jiamei Wang) https://medium.com/swlh/sentiment-analysis-topic-modeling-for-hotel-reviews-6b83653f5b08\n",
    "# (Separated into sub-functions to allow for faster parameter tuning)\n",
    "\n",
    "def make_tfidf(input_df, text_colname='tokenized_text'):\n",
    "    '''\n",
    "    INPUTS:\n",
    "        input_df - dataframe that contains the combined text summaries\n",
    "        text_colname: name of column that contains the combined text summaries\n",
    "        \n",
    "    OUTPUTS:\n",
    "        dtm_tfidf - document-term matrix in the tfidf format\n",
    "        tfidf_vectorizer - word frequency in the reviews\n",
    "    '''\n",
    "    docs_raw = input_df[text_colname].tolist()\n",
    "\n",
    "    #************   Step 1: Convert to document-term matrix   ************#\n",
    "\n",
    "    #Transform text to vector form using the vectorizer object \n",
    "    cvec = CountVectorizer(strip_accents = 'unicode',\n",
    "                            stop_words = 'english',\n",
    "                            lowercase = True,\n",
    "                            token_pattern = r'\\b[a-zA-Z]{3,}\\b', # num chars > 3 to avoid some meaningless words\n",
    "                            max_df = 0.5,                        # discard words that appear in > 50% of the reviews\n",
    "                            min_df = 10)                         # discard words that appear in < 10 reviews    \n",
    "\n",
    "    #apply transformation\n",
    "    tfidf_vectorizer = TfidfVectorizer(**cvec.get_params())\n",
    "\n",
    "    #convert to document-term matrix\n",
    "    dtm_tfidf = tfidf_vectorizer.fit_transform(docs_raw)  \n",
    "\n",
    "    print(\"The shape of the tfidf is {}, meaning that there are {} non-unique words in {} and {} tokens made through the filtering process.\".\\\n",
    "              format(dtm_tfidf.shape,dtm_tfidf.shape[0], text_colname, dtm_tfidf.shape[1]))\n",
    "    \n",
    "    # return tf_vectorizer, tfidf_vectorizer, dtm_tfidf\n",
    "    return tfidf_vectorizer, dtm_tfidf"
   ]
  },
  {
   "cell_type": "code",
   "execution_count": 10,
   "metadata": {},
   "outputs": [
    {
     "name": "stderr",
     "output_type": "stream",
     "text": [
      "d:\\anaconda3\\lib\\site-packages\\sklearn\\feature_extraction\\text.py:2070: UserWarning: Only (<class 'numpy.float64'>, <class 'numpy.float32'>, <class 'numpy.float16'>) 'dtype' should be used. <class 'numpy.int64'> 'dtype' will be converted to np.float64.\n",
      "  warnings.warn(\n"
     ]
    },
    {
     "name": "stdout",
     "output_type": "stream",
     "text": [
      "The shape of the tfidf is (2484, 16937), meaning that there are 2484 non-unique words in tokenized_text and 16937 tokens made through the filtering process.\n"
     ]
    }
   ],
   "source": [
    "tfidf_vectorizer, dtm_tfidf = make_tfidf(df, 'tokenized_text')"
   ]
  },
  {
   "attachments": {},
   "cell_type": "markdown",
   "metadata": {},
   "source": [
    "#### Grid Search for best LDA model"
   ]
  },
  {
   "cell_type": "code",
   "execution_count": 11,
   "metadata": {},
   "outputs": [],
   "source": [
    "# Define Grid Search Parameters\n",
    "search_params = {'n_components': [5, 10, 20, 30],       # testing suggests it always picks 5 topics as \"best\"\n",
    "                    'learning_decay': [.5, .7, .9]}     # does not always return same \"best\" learning decay"
   ]
  },
  {
   "cell_type": "code",
   "execution_count": 12,
   "metadata": {},
   "outputs": [],
   "source": [
    "# Function draws from Jiamei Wang's code, with modifications & optimizations: \n",
    "# Technique reference: (Jiamei Wang) https://medium.com/swlh/sentiment-analysis-topic-modeling-for-hotel-reviews-6b83653f5b08\n",
    "# (Separated into sub-functions to allow for faster parameter tuning)\n",
    "\n",
    "def lda_gridsearch(dtm_tfidf, search_params):\n",
    "    '''\n",
    "    INPUTS:\n",
    "        dtm_tfidf - document-term matrix in the tfidf format\n",
    "        search_params - a dictionary of parameters to be used in the grid search\n",
    "        \n",
    "    OUTPUTS:\n",
    "        model_gs - the GridSearchCV object\n",
    "        best_lda_model - the best model, as determined by the grid search\n",
    "    '''\n",
    "\n",
    "    #*******   Step 2: GridSearch & parameter tuning to find the optimal LDA model   *******#\n",
    "\n",
    "    # Init the Model\n",
    "    lda = LatentDirichletAllocation()\n",
    "\n",
    "    # Init Grid Search Class\n",
    "    model_gs = GridSearchCV(lda, param_grid=search_params, n_jobs=8, verbose=3)\n",
    "\n",
    "    # Do the Grid Search\n",
    "    model_gs.fit(dtm_tfidf)\n",
    "\n",
    "    #*****  Step 3: Output the optimal lda model and its parameters  *****#\n",
    "\n",
    "    # Best Model\n",
    "    best_lda_model = model_gs.best_estimator_\n",
    "\n",
    "    # Model Parameters\n",
    "    print(\"Best Model's Params: \", model_gs.best_params_)\n",
    "\n",
    "    # Log Likelihood Score: Higher the better\n",
    "    print(\"Model Log Likelihood Score: \", model_gs.best_score_)\n",
    "\n",
    "    # Perplexity: Lower the better. Perplexity = exp(-1. * log-likelihood per word)\n",
    "    print(\"Model Perplexity: \", best_lda_model.perplexity(dtm_tfidf))\n",
    "\n",
    "    return model_gs, best_lda_model"
   ]
  },
  {
   "cell_type": "code",
   "execution_count": 13,
   "metadata": {},
   "outputs": [
    {
     "name": "stdout",
     "output_type": "stream",
     "text": [
      "Fitting 5 folds for each of 12 candidates, totalling 60 fits\n",
      "Best Model's Params:  {'learning_decay': 0.5, 'n_components': 5}\n",
      "Model Log Likelihood Score:  -69895.51682894593\n",
      "Model Perplexity:  24717.242811618442\n"
     ]
    }
   ],
   "source": [
    "model_gs, best_lda_model = lda_gridsearch(dtm_tfidf, search_params)"
   ]
  },
  {
   "attachments": {},
   "cell_type": "markdown",
   "metadata": {},
   "source": [
    "#### Plotting LDA model performance"
   ]
  },
  {
   "cell_type": "code",
   "execution_count": 14,
   "metadata": {},
   "outputs": [],
   "source": [
    "# Function draws from Jiamei Wang's code, with modifications & optimizations: \n",
    "# Technique reference: (Jiamei Wang) https://medium.com/swlh/sentiment-analysis-topic-modeling-for-hotel-reviews-6b83653f5b08\n",
    "# (Separated into sub-functions to allow for faster parameter tuning)\n",
    "\n",
    "def lda_plot_performance(model_gs, search_params):\n",
    "    ''' \n",
    "    INPUTS:\n",
    "        model_gs - the GridSearchCV object\n",
    "        \n",
    "    OUTPUTS:\n",
    "        A graph comparing LDA Model Performance Scores with different params\n",
    "    '''\n",
    "\n",
    "    #***********   Step 4: Compare LDA Model Performance Scores   ***********#\n",
    "\n",
    "    #Get Log Likelihoods from Grid Search Output\n",
    "    gscore=model_gs.cv_results_\n",
    "\n",
    "    log_likelihoods = {}\n",
    "    for i in search_params['learning_decay']:\n",
    "        log_likelihoods[i] = [gscore['mean_test_score'][gscore['params'].index(v)] for v in gscore['params'] if v['learning_decay']==i]\n",
    "\n",
    "    # Show graph\n",
    "    plt.figure(figsize=(12, 8))\n",
    "    for i in log_likelihoods:\n",
    "        plt.plot(search_params['n_components'], log_likelihoods[i], label=i)\n",
    " \n",
    "    plt.title(\"Choosing Optimal LDA Model\")\n",
    "    plt.xlabel(\"Num Topics\")\n",
    "    plt.ylabel(\"Log Likelihood Scores\")\n",
    "    plt.legend(title='Learning decay', loc='best')\n",
    "    plt.show()\n",
    "    \n",
    "    return"
   ]
  },
  {
   "cell_type": "code",
   "execution_count": 15,
   "metadata": {},
   "outputs": [
    {
     "data": {
      "image/png": "[encoded data removed]",
      "text/plain": [
       "<Figure size 1200x800 with 1 Axes>"
      ]
     },
     "metadata": {},
     "output_type": "display_data"
    }
   ],
   "source": [
    "lda_plot_performance(model_gs, search_params)"
   ]
  },
  {
   "attachments": {},
   "cell_type": "markdown",
   "metadata": {},
   "source": [
    "#### (optional) Combined function for creating \"best\" LDA model with performance plot"
   ]
  },
  {
   "cell_type": "code",
   "execution_count": 16,
   "metadata": {},
   "outputs": [],
   "source": [
    "# Technique reference: (Jiamei Wang) https://medium.com/swlh/sentiment-analysis-topic-modeling-for-hotel-reviews-6b83653f5b08\n",
    "# (Separated into sub-functions to allow for more convenient parameter tuning)\n",
    "# Once tuned/optimized, all 3 sub-functions can be run together in one command, wholly recreating the method used in the source referenced above\n",
    "\n",
    "def optimal_lda_model(input_df, text_colname, search_params):\n",
    "    '''\n",
    "    INPUTS:\n",
    "        input_df - dataframe that contains the combined text summaries\n",
    "        text_colname: name of column that contains the combined text summaries\n",
    "        search_params - a dictionary of parameters to be used in the grid search\n",
    "        \n",
    "    OUTPUTS:\n",
    "        best_lda_model - the best model, as determined by the grid search\n",
    "        dtm_tfidf - document-term matrix in the tfidf format\n",
    "        tfidf_vectorizer - word frequency in the reviews\n",
    "    '''\n",
    "    \n",
    "    tfidf_vectorizer, dtm_tfidf = make_tfidf(input_df, text_colname)\n",
    "    model_gs, best_lda_model = lda_gridsearch(dtm_tfidf, search_params)\n",
    "    lda_plot_performance(model_gs, search_params)\n",
    "\n",
    "    return best_lda_model, dtm_tfidf, tfidf_vectorizer"
   ]
  },
  {
   "cell_type": "code",
   "execution_count": 17,
   "metadata": {},
   "outputs": [],
   "source": [
    "# (Same as above, in one single function call)\n",
    "\n",
    "# best_lda_model, dtm_tfidf, tfidf_vectorizer = optimal_lda_model(df, 'combined_text', search_params)"
   ]
  },
  {
   "cell_type": "code",
   "execution_count": null,
   "metadata": {},
   "outputs": [],
   "source": []
  },
  {
   "attachments": {},
   "cell_type": "markdown",
   "metadata": {},
   "source": [
    "#### Display topic keywords & weights"
   ]
  },
  {
   "cell_type": "code",
   "execution_count": 18,
   "metadata": {},
   "outputs": [],
   "source": [
    "# Function excerpted directly with no additional modifications from: (Jiamei Wang)\n",
    "# https://medium.com/swlh/sentiment-analysis-topic-modeling-for-hotel-reviews-6b83653f5b08\n",
    "\n",
    "#Create a function to inspect the topics we created \n",
    "def display_topics(model, feature_names, n_top_words):\n",
    "    '''\n",
    "    INPUTS:\n",
    "        model - the model we created\n",
    "        feature_names - tells us what word each column in the matric represents\n",
    "        n_top_words - number of top words to display\n",
    "    OUTPUTS:\n",
    "        a dataframe that contains the topics we created and the weights of each token\n",
    "    '''\n",
    "    topic_dict = {}\n",
    "    for topic_idx, topic in tqdm(enumerate(model.components_)):\n",
    "        topic_dict[\"Topic %d words\" % (topic_idx+1)]= ['{}'.format(feature_names[i])\n",
    "                        for i in topic.argsort()[:-n_top_words - 1:-1]]\n",
    "        topic_dict[\"Topic %d weights\" % (topic_idx+1)]= ['{:.1f}'.format(topic[i])\n",
    "                        for i in topic.argsort()[:-n_top_words - 1:-1]]\n",
    "    return pd.DataFrame(topic_dict)\n"
   ]
  },
  {
   "cell_type": "code",
   "execution_count": 19,
   "metadata": {},
   "outputs": [
    {
     "name": "stderr",
     "output_type": "stream",
     "text": [
      "5it [00:00, 555.67it/s]\n"
     ]
    },
    {
     "data": {
      "text/html": [
       "<div>\n",
       "<style scoped>\n",
       "    .dataframe tbody tr th:only-of-type {\n",
       "        vertical-align: middle;\n",
       "    }\n",
       "\n",
       "    .dataframe tbody tr th {\n",
       "        vertical-align: top;\n",
       "    }\n",
       "\n",
       "    .dataframe thead th {\n",
       "        text-align: right;\n",
       "    }\n",
       "</style>\n",
       "<table border=\"1\" class=\"dataframe\">\n",
       "  <thead>\n",
       "    <tr style=\"text-align: right;\">\n",
       "      <th></th>\n",
       "      <th>Topic 1 words</th>\n",
       "      <th>Topic 1 weights</th>\n",
       "      <th>Topic 2 words</th>\n",
       "      <th>Topic 2 weights</th>\n",
       "      <th>Topic 3 words</th>\n",
       "      <th>Topic 3 weights</th>\n",
       "      <th>Topic 4 words</th>\n",
       "      <th>Topic 4 weights</th>\n",
       "      <th>Topic 5 words</th>\n",
       "      <th>Topic 5 weights</th>\n",
       "    </tr>\n",
       "  </thead>\n",
       "  <tbody>\n",
       "    <tr>\n",
       "      <th>0</th>\n",
       "      <td>hostages</td>\n",
       "      <td>1.0</td>\n",
       "      <td>shinji</td>\n",
       "      <td>0.2</td>\n",
       "      <td>anime</td>\n",
       "      <td>42.5</td>\n",
       "      <td>netflix</td>\n",
       "      <td>43.4</td>\n",
       "      <td>euphoria</td>\n",
       "      <td>1.1</td>\n",
       "    </tr>\n",
       "    <tr>\n",
       "      <th>1</th>\n",
       "      <td>carlisle</td>\n",
       "      <td>0.2</td>\n",
       "      <td>haruka</td>\n",
       "      <td>0.2</td>\n",
       "      <td>manga</td>\n",
       "      <td>35.0</td>\n",
       "      <td>seasons</td>\n",
       "      <td>37.1</td>\n",
       "      <td>leftover</td>\n",
       "      <td>0.2</td>\n",
       "    </tr>\n",
       "    <tr>\n",
       "      <th>2</th>\n",
       "      <td>georgian</td>\n",
       "      <td>0.2</td>\n",
       "      <td>localization</td>\n",
       "      <td>0.2</td>\n",
       "      <td>japanese</td>\n",
       "      <td>17.4</td>\n",
       "      <td>comedy</td>\n",
       "      <td>35.5</td>\n",
       "      <td>salmon</td>\n",
       "      <td>0.2</td>\n",
       "    </tr>\n",
       "    <tr>\n",
       "      <th>3</th>\n",
       "      <td>octane</td>\n",
       "      <td>0.2</td>\n",
       "      <td>natsuki</td>\n",
       "      <td>0.2</td>\n",
       "      <td>volume</td>\n",
       "      <td>9.1</td>\n",
       "      <td>school</td>\n",
       "      <td>30.2</td>\n",
       "      <td>athletes</td>\n",
       "      <td>0.2</td>\n",
       "    </tr>\n",
       "    <tr>\n",
       "      <th>4</th>\n",
       "      <td>assassinate</td>\n",
       "      <td>0.2</td>\n",
       "      <td>sayaka</td>\n",
       "      <td>0.2</td>\n",
       "      <td>japan</td>\n",
       "      <td>7.3</td>\n",
       "      <td>bbc</td>\n",
       "      <td>29.9</td>\n",
       "      <td>deficit</td>\n",
       "      <td>0.2</td>\n",
       "    </tr>\n",
       "    <tr>\n",
       "      <th>5</th>\n",
       "      <td>tactical</td>\n",
       "      <td>0.2</td>\n",
       "      <td>hui</td>\n",
       "      <td>0.2</td>\n",
       "      <td>funimation</td>\n",
       "      <td>7.0</td>\n",
       "      <td>crime</td>\n",
       "      <td>28.8</td>\n",
       "      <td>pornography</td>\n",
       "      <td>0.2</td>\n",
       "    </tr>\n",
       "    <tr>\n",
       "      <th>6</th>\n",
       "      <td>seize</td>\n",
       "      <td>0.2</td>\n",
       "      <td>ikeda</td>\n",
       "      <td>0.2</td>\n",
       "      <td>kim</td>\n",
       "      <td>7.0</td>\n",
       "      <td>game</td>\n",
       "      <td>28.7</td>\n",
       "      <td>beetle</td>\n",
       "      <td>0.2</td>\n",
       "    </tr>\n",
       "    <tr>\n",
       "      <th>7</th>\n",
       "      <td>hostage</td>\n",
       "      <td>0.2</td>\n",
       "      <td>asami</td>\n",
       "      <td>0.2</td>\n",
       "      <td>tokyo</td>\n",
       "      <td>7.0</td>\n",
       "      <td>pilot</td>\n",
       "      <td>28.4</td>\n",
       "      <td>compilations</td>\n",
       "      <td>0.2</td>\n",
       "    </tr>\n",
       "    <tr>\n",
       "      <th>8</th>\n",
       "      <td>thrust</td>\n",
       "      <td>0.2</td>\n",
       "      <td>australasia</td>\n",
       "      <td>0.2</td>\n",
       "      <td>shonen</td>\n",
       "      <td>6.9</td>\n",
       "      <td>novel</td>\n",
       "      <td>27.8</td>\n",
       "      <td>rehabilitation</td>\n",
       "      <td>0.2</td>\n",
       "    </tr>\n",
       "    <tr>\n",
       "      <th>9</th>\n",
       "      <td>sanders</td>\n",
       "      <td>0.2</td>\n",
       "      <td>rin</td>\n",
       "      <td>0.2</td>\n",
       "      <td>jung</td>\n",
       "      <td>6.5</td>\n",
       "      <td>voiced</td>\n",
       "      <td>27.7</td>\n",
       "      <td>comparable</td>\n",
       "      <td>0.2</td>\n",
       "    </tr>\n",
       "  </tbody>\n",
       "</table>\n",
       "</div>"
      ],
      "text/plain": [
       "  Topic 1 words Topic 1 weights Topic 2 words Topic 2 weights Topic 3 words  \\\n",
       "0      hostages             1.0        shinji             0.2         anime   \n",
       "1      carlisle             0.2        haruka             0.2         manga   \n",
       "2      georgian             0.2  localization             0.2      japanese   \n",
       "3        octane             0.2       natsuki             0.2        volume   \n",
       "4   assassinate             0.2        sayaka             0.2         japan   \n",
       "5      tactical             0.2           hui             0.2    funimation   \n",
       "6         seize             0.2         ikeda             0.2           kim   \n",
       "7       hostage             0.2         asami             0.2         tokyo   \n",
       "8        thrust             0.2   australasia             0.2        shonen   \n",
       "9       sanders             0.2           rin             0.2          jung   \n",
       "\n",
       "  Topic 3 weights Topic 4 words Topic 4 weights   Topic 5 words  \\\n",
       "0            42.5       netflix            43.4        euphoria   \n",
       "1            35.0       seasons            37.1        leftover   \n",
       "2            17.4        comedy            35.5          salmon   \n",
       "3             9.1        school            30.2        athletes   \n",
       "4             7.3           bbc            29.9         deficit   \n",
       "5             7.0         crime            28.8     pornography   \n",
       "6             7.0          game            28.7          beetle   \n",
       "7             7.0         pilot            28.4    compilations   \n",
       "8             6.9         novel            27.8  rehabilitation   \n",
       "9             6.5        voiced            27.7      comparable   \n",
       "\n",
       "  Topic 5 weights  \n",
       "0             1.1  \n",
       "1             0.2  \n",
       "2             0.2  \n",
       "3             0.2  \n",
       "4             0.2  \n",
       "5             0.2  \n",
       "6             0.2  \n",
       "7             0.2  \n",
       "8             0.2  \n",
       "9             0.2  "
      ]
     },
     "execution_count": 19,
     "metadata": {},
     "output_type": "execute_result"
    }
   ],
   "source": [
    "lda_topic_words = display_topics(best_lda_model, tfidf_vectorizer.get_feature_names_out(), n_top_words = 30) \n",
    "lda_topic_words.head(10)"
   ]
  },
  {
   "attachments": {},
   "cell_type": "markdown",
   "metadata": {},
   "source": [
    "#### Visualizing LDA output with the pyLDAvis library"
   ]
  },
  {
   "cell_type": "code",
   "execution_count": 20,
   "metadata": {},
   "outputs": [
    {
     "name": "stderr",
     "output_type": "stream",
     "text": [
      "d:\\anaconda3\\lib\\site-packages\\pyLDAvis\\_prepare.py:243: FutureWarning: In a future version of pandas all arguments of DataFrame.drop except for the argument 'labels' will be keyword-only.\n",
      "  default_term_info = default_term_info.sort_values(\n"
     ]
    },
    {
     "data": {
      "text/html": [
       "\n",
       "<link rel=\"stylesheet\" type=\"text/css\" href=\"https://cdn.jsdelivr.net/gh/bmabey/pyLDAvis@3.4.0/pyLDAvis/js/ldavis.v1.0.0.css\">\n",
       "\n",
       "\n",
       "<div id=\"ldavis_el857621480486078243905958254\" style=\"background-color:white;\"></div>\n",
       "<script type=\"text/javascript\">\n",
       "\n",
       "var ldavis_el857621480486078243905958254_data = {\"mdsDat\": {\"x\": [0.09817880667825897, -0.05151843376162444, -0.01556858797022698, -0.015567237548409309, -0.015524547397998247], \"y\": [0.0018438371845268307, 0.005831089269981198, -0.002699121411005405, -0.0026755927558174282, -0.002300212287685164], \"topics\": [1, 2, 3, 4, 5], \"cluster\": [1, 1, 1, 1, 1], \"Freq\": [91.90300761139514, 3.4486933143696574, 1.550254739660892, 1.5501437163179856, 1.5479006182563286]}, \"tinfo\": {\"Term\": [\"anime\", \"japanese\", \"manga\", \"volume\", \"english\", \"kim\", \"japan\", \"lee\", \"license\", \"korean\", \"chapter\", \"park\", \"copy\", \"tokyo\", \"jump\", \"publish\", \"dub\", \"illustrate\", \"moon\", \"light\", \"north\", \"jin\", \"magazine\", \"collect\", \"korea\", \"min\", \"jung\", \"adaptation\", \"funimation\", \"soo\", \"netflix\", \"seasons\", \"comedy\", \"bbc\", \"crime\", \"pilot\", \"team\", \"man\", \"john\", \"detective\", \"guest\", \"game\", \"police\", \"novel\", \"book\", \"million\", \"music\", \"murder\", \"channel\", \"michael\", \"video\", \"city\", \"dvd\", \"abc\", \"voiced\", \"david\", \"war\", \"version\", \"voice\", \"son\", \"school\", \"animation\", \"manga\", \"shonen\", \"funimation\", \"hee\", \"crunchyroll\", \"hyun\", \"eun\", \"kodansha\", \"seo\", \"joon\", \"ova\", \"tankobon\", \"yoon\", \"shueisha\", \"yeon\", \"tae\", \"jung\", \"joo\", \"soo\", \"kyung\", \"viz\", \"yoo\", \"anime\", \"naruto\", \"circulation\", \"jae\", \"jang\", \"aniplex\", \"hye\", \"seung\", \"jin\", \"min\", \"tokyo\", \"japanese\", \"choi\", \"volume\", \"japan\", \"kim\", \"korean\", \"woo\", \"shin\", \"english\", \"license\", \"euphoria\", \"shimbun\", \"saikyo\", \"ushio\", \"mizuki\", \"uchiyama\", \"douresseaux\", \"shigeru\", \"honya\", \"kikuchi\", \"eisenbeis\", \"shuhei\", \"bookscan\", \"translations\", \"niconico\", \"toho\", \"kazuyuki\", \"atsuko\", \"fanbook\", \"toshio\", \"seiun\", \"yume\", \"tomokazu\", \"gakuen\", \"akatsuki\", \"ascribe\", \"animage\", \"resultant\", \"koyama\", \"jumped\", \"leftover\", \"salmon\", \"athletes\", \"deficit\", \"pornography\", \"beetle\", \"compilations\", \"rehabilitation\", \"comparable\", \"usher\", \"trees\", \"groove\", \"grapple\", \"vinnie\", \"israeli\", \"wrestler\", \"biology\", \"muse\", \"iglesias\", \"recovery\", \"addiction\", \"karma\", \"firefly\", \"software\", \"groups\", \"collide\", \"eponymous\", \"albums\", \"sunshine\", \"hostages\", \"shimbun\", \"saikyo\", \"ushio\", \"mizuki\", \"uchiyama\", \"douresseaux\", \"shigeru\", \"honya\", \"kikuchi\", \"eisenbeis\", \"shuhei\", \"bookscan\", \"translations\", \"niconico\", \"toho\", \"kazuyuki\", \"atsuko\", \"fanbook\", \"toshio\", \"seiun\", \"yume\", \"tomokazu\", \"gakuen\", \"akatsuki\", \"ascribe\", \"animage\", \"resultant\", \"koyama\", \"jumped\", \"carlisle\", \"georgian\", \"octane\", \"assassinate\", \"tactical\", \"seize\", \"hostage\", \"thrust\", \"sanders\", \"captive\", \"shooter\", \"chill\", \"rogue\", \"surgeon\", \"israeli\", \"suspense\", \"blackmail\", \"painting\", \"compel\", \"disambiguation\", \"reasons\", \"federal\", \"assassination\", \"desperate\", \"duncan\", \"operate\", \"shinji\", \"wrong\", \"haruka\", \"shimbun\", \"saikyo\", \"ushio\", \"mizuki\", \"uchiyama\", \"douresseaux\", \"shigeru\", \"honya\", \"kikuchi\", \"eisenbeis\", \"shuhei\", \"bookscan\", \"translations\", \"niconico\", \"toho\", \"kazuyuki\", \"atsuko\", \"fanbook\", \"toshio\", \"seiun\", \"yume\", \"tomokazu\", \"gakuen\", \"akatsuki\", \"ascribe\", \"animage\", \"resultant\", \"koyama\", \"jumped\", \"sosenkyo\", \"artbook\", \"mayumi\", \"shinji\", \"haruka\", \"localization\", \"natsuki\", \"sayaka\", \"hui\", \"ikeda\", \"asami\", \"australasia\", \"rin\", \"seol\", \"chibi\", \"takashi\", \"mecha\", \"dubs\", \"shim\", \"tamura\", \"yuji\", \"kaito\", \"furukawa\", \"chae\", \"simulcasting\", \"hak\", \"yamashita\", \"hostages\", \"oda\", \"ayumi\", \"yamada\", \"sequential\"], \"Freq\": [14.0, 11.0, 9.0, 11.0, 15.0, 8.0, 8.0, 11.0, 5.0, 4.0, 5.0, 10.0, 4.0, 3.0, 4.0, 10.0, 5.0, 3.0, 6.0, 8.0, 10.0, 2.0, 8.0, 3.0, 2.0, 2.0, 2.0, 14.0, 2.0, 2.0, 36.520227230974655, 31.143690390339007, 29.84039264155033, 25.139724156632425, 24.218275781482276, 23.834997367512166, 22.980034915614645, 22.130913696704354, 21.490843400885723, 21.49943808613087, 21.42909678953827, 24.105282873664297, 21.121543595634957, 23.391244959630697, 20.873350019708525, 20.742403185070053, 20.526066255967173, 20.081586699623443, 19.987769935574896, 19.890073663788865, 19.90660559879082, 19.603111919565304, 19.570228583595092, 19.399075125940975, 23.31477920167721, 19.190442297967532, 19.074352628306418, 18.861923374796334, 18.504047332119637, 18.46918650623932, 25.35186198379772, 20.971868027318415, 8.842629913274408, 1.7447119961158635, 1.7666567540881701, 1.341853083312124, 1.1788451529572375, 1.2059973884660624, 1.1087469972077786, 1.0987172011429345, 1.0314539512728085, 1.107229155927045, 1.0473204560736808, 0.9738159518530979, 1.2550891910418551, 0.8679329406310673, 0.8701255575993265, 0.8878362381629651, 1.6281552353679298, 0.8242396732617827, 1.5512997045398853, 0.7769121488534473, 0.8750567134571979, 1.0130927307007556, 10.718643792834676, 0.751061048462794, 0.9747947415805737, 1.0173456296179955, 0.6586136716298959, 0.6398342545468366, 0.6209375679941981, 0.5637203568298584, 1.510163849615145, 1.3360631455369374, 1.7583395380283777, 4.397829628182182, 1.1075815101834745, 2.2928171898643446, 1.8318060077443679, 1.7615920050556673, 1.3649878968112361, 0.9700035984597111, 0.947662018878167, 1.1050977296427642, 1.0093670220399082, 0.1445658031293715, 0.026934617383765846, 0.026937011227777634, 0.026937337688643426, 0.026937433067394895, 0.026936169113277716, 0.026933781964597493, 0.02693649006712972, 0.02693335769921831, 0.02693592001272655, 0.026936019323965058, 0.026934692066107, 0.026936126238871125, 0.02694222608580837, 0.026934306630760622, 0.02693465139515275, 0.02693428281547561, 0.026938658816350398, 0.02693412366758263, 0.026936327398842684, 0.026934503670105622, 0.02693574920333972, 0.026938963332883894, 0.026933232683817917, 0.026936607938352588, 0.026938518190154012, 0.026935571677463837, 0.02693928301850501, 0.026940121935284396, 0.026939546932577448, 0.02730050367972421, 0.027189571399202618, 0.02713802444200014, 0.02713717380433609, 0.02712415322034318, 0.027112574208231245, 0.027081838101336037, 0.02706063373042838, 0.027051520442858922, 0.02703959312634124, 0.02703034123484652, 0.02701220337257838, 0.027011087249161243, 0.026999594124888702, 0.026994043970027942, 0.026991557889336576, 0.026988169384126178, 0.02698552451622304, 0.02697953049837746, 0.026973599588574763, 0.026972186069359447, 0.02697116158193902, 0.026968257953736908, 0.02696799530209324, 0.026967646543921992, 0.02696725404801919, 0.026967099894116126, 0.02696699508116498, 0.02696457652281323, 0.13782272340926888, 0.026933120633053767, 0.026935516595654616, 0.026935843041849962, 0.026935938419385304, 0.026934674511860487, 0.026932287464906786, 0.02693499545596409, 0.026931863217022893, 0.026934425425673494, 0.026934523910936783, 0.02693319752872914, 0.026934631642780465, 0.026940731235568092, 0.026932812111302818, 0.02693315685722066, 0.026932788295158317, 0.026937164116668737, 0.026932629154168018, 0.026934832795010744, 0.026933009929366102, 0.02693425462467541, 0.026937468618168012, 0.026931738203206514, 0.026935114623118043, 0.02693702347586039, 0.02693407944694638, 0.026937788317270228, 0.026938627178020935, 0.026938052204237634, 0.0275451315965298, 0.027268071067067193, 0.027229799756083608, 0.027115252264683375, 0.02708382675421266, 0.0270782340633746, 0.02706873540041801, 0.02706031234027767, 0.027040514255940624, 0.0270292121184091, 0.027003953946944482, 0.027003249990865372, 0.026998996327123777, 0.026990699566124755, 0.026989552703089403, 0.026981039088196407, 0.026977221754110655, 0.026975602066957222, 0.026972426871498, 0.026965022702063548, 0.026962532773268114, 0.02695558243109183, 0.02695441053812531, 0.02695312335257904, 0.0269526322623948, 0.02695090185143743, 0.02694885730924523, 0.02694580752445223, 0.026945225729120646, 0.026900862326684854, 0.026903256027814477, 0.026903582167251843, 0.026903677455246553, 0.026902414740028777, 0.02690002994541756, 0.026902735381376046, 0.02689960609785079, 0.026902165888307655, 0.026902264281001016, 0.026900939150194213, 0.0269023719116368, 0.02690846572296052, 0.02690055409582897, 0.02690089851792452, 0.026900530303835886, 0.026904901995740225, 0.02690037131159072, 0.026902572874345342, 0.026900750340406048, 0.026901995246196752, 0.026905206210290765, 0.02689948120290189, 0.02690285313565983, 0.026904761517204903, 0.0269018178968778, 0.02690552561698821, 0.02690636368353262, 0.02690578924234636, 0.026899412346045738, 0.02690458149194589, 0.0269064099010308, 0.026916584159005535, 0.026912956012770876, 0.026911046117107634, 0.026910799500700633, 0.02691078563959587, 0.02691061747836713, 0.026910296600777688, 0.026910108059509726, 0.026909962403103182, 0.02690952820184755, 0.026909430302553647, 0.026909398229766623, 0.026909381140230525, 0.026909150168457407, 0.026909014808501372, 0.026908880863654852, 0.026908857015736233, 0.0269087714864178, 0.026908627745791332, 0.026908603327959846, 0.0269085895786976, 0.026908578265190802, 0.026908511690812313, 0.026908479102169487, 0.026908458043495564, 0.02690825969551026, 0.02690825409029993, 0.026907972762935137, 0.02690789793615854], \"Total\": [14.0, 11.0, 9.0, 11.0, 15.0, 8.0, 8.0, 11.0, 5.0, 4.0, 5.0, 10.0, 4.0, 3.0, 4.0, 10.0, 5.0, 3.0, 6.0, 8.0, 10.0, 2.0, 8.0, 3.0, 2.0, 2.0, 2.0, 14.0, 2.0, 2.0, 36.65176924877711, 31.274954254485795, 29.971799233357604, 25.27098681283436, 24.349682645430402, 23.966276197256438, 23.11169521968204, 22.262540374883443, 21.62210059532381, 21.6310360888208, 21.560360483271314, 24.25299493734992, 21.252951276955002, 23.53760444489224, 21.004831252608604, 20.874226973284575, 20.657620088533132, 20.21326910882236, 20.11911358356692, 20.021330681837075, 20.0383034927745, 19.734542081485635, 19.70185115753491, 19.530335273301162, 23.47360007614346, 19.321721285543187, 19.20582609594329, 18.993438754422534, 18.635542903400246, 18.600812197865313, 25.543521804415203, 21.15040609048872, 9.196701913091843, 1.996251169355855, 2.0326438734910277, 1.623400870764013, 1.43054940538044, 1.4678157679237243, 1.3628385448240603, 1.3653995525819316, 1.28446602199231, 1.379906224896517, 1.307676678898629, 1.2252252560943728, 1.591896296643306, 1.121512889570895, 1.1260965155538012, 1.151363121917919, 2.1210376307361614, 1.0761956377526896, 2.0466509980200374, 1.0266429265019181, 1.158545300630991, 1.342765612260332, 14.23742909451838, 1.0014704139636832, 1.3045302043030582, 1.3672012664050068, 0.9146522744330001, 0.8922396299716956, 0.8752802272206247, 0.8317007252127772, 2.3768371796414414, 2.2500044749862687, 3.2122254869118643, 11.438360149973855, 2.0391421495014312, 11.86914772555079, 8.05378708206354, 8.753987466525167, 4.567696015417446, 1.692352122660935, 1.7104012578901593, 15.395823617499609, 5.956183403906463, 0.7543727749492198, 0.35434739088109385, 0.3568329300942667, 0.35740690297261846, 0.3578734189594234, 0.35836360524027755, 0.360886073918673, 0.36534678375497404, 0.36564029368849515, 0.3682518217171785, 0.36929338131562095, 0.3711070617913342, 0.37163637541045774, 0.373786185951707, 0.37566258503558153, 0.376428447654001, 0.37657491487730343, 0.37721880864769686, 0.37751405193801996, 0.3776023007495039, 0.3795496459996003, 0.3820892198279174, 0.3840515305098998, 0.3853565164067481, 0.3856584219759481, 0.3865184110886197, 0.3869521783594791, 0.38709834759063577, 0.3882803112679702, 0.38876139638160884, 0.48756404541211434, 0.5538916741826668, 0.5742689260550249, 0.5831432361077221, 0.6101869339799659, 0.6217199447091529, 0.6447755366993272, 0.700483438931329, 0.6847168849150177, 0.7387785581022133, 0.7597740101919237, 0.8622425896233191, 0.8309382289424753, 0.9248218264231298, 1.8626333769841634, 1.3998889269575885, 0.9995946716580011, 1.0093639621495256, 1.2032769989468703, 1.088017231455057, 2.6122545024307575, 1.316723705041358, 1.3116460156207024, 1.7819763118348326, 1.1747476099679446, 1.3004009776472811, 1.7604559637531483, 1.2196643962591909, 1.3416246712447455, 0.6811982298965629, 0.35434739088109385, 0.3568329300942667, 0.35740690297261846, 0.3578734189594234, 0.35836360524027755, 0.360886073918673, 0.36534678375497404, 0.36564029368849515, 0.3682518217171785, 0.36929338131562095, 0.3711070617913342, 0.37163637541045774, 0.373786185951707, 0.37566258503558153, 0.376428447654001, 0.37657491487730343, 0.37721880864769686, 0.37751405193801996, 0.3776023007495039, 0.3795496459996003, 0.3820892198279174, 0.3840515305098998, 0.3853565164067481, 0.3856584219759481, 0.3865184110886197, 0.3869521783594791, 0.38709834759063577, 0.3882803112679702, 0.38876139638160884, 0.605088903933434, 0.7336499569448645, 0.7652787669869491, 1.28482776008599, 0.9887796394555278, 0.9812858233789402, 1.906438998571179, 1.1146841756845953, 1.765783738062504, 1.2367396584738, 1.5550285454734816, 1.54456066268334, 2.3932031494738024, 3.6829257694840933, 1.8626333769841634, 1.8330585827630426, 1.864865224247412, 2.0262187456300658, 2.0227595405820997, 3.1892164258602183, 2.2548866448835447, 2.8469019733589844, 3.1856816771120497, 3.095721169655344, 3.389853744028059, 3.0434948751991113, 0.5115307081849328, 3.912899898361392, 0.47807603993058856, 0.35434739088109385, 0.3568329300942667, 0.35740690297261846, 0.3578734189594234, 0.35836360524027755, 0.360886073918673, 0.36534678375497404, 0.36564029368849515, 0.3682518217171785, 0.36929338131562095, 0.3711070617913342, 0.37163637541045774, 0.373786185951707, 0.37566258503558153, 0.376428447654001, 0.37657491487730343, 0.37721880864769686, 0.37751405193801996, 0.3776023007495039, 0.3795496459996003, 0.3820892198279174, 0.3840515305098998, 0.3853565164067481, 0.3856584219759481, 0.3865184110886197, 0.3869521783594791, 0.38709834759063577, 0.3882803112679702, 0.38876139638160884, 0.3902054848133673, 0.39136093901368874, 0.3924338886349425, 0.5115307081849328, 0.47807603993058856, 0.49578121074585685, 0.5275466183825648, 0.4320240233386036, 0.5262383270598139, 0.5022410367081017, 0.46290351502525806, 0.40527780739344316, 0.6898754378319512, 0.4562521278083645, 0.4717836438959763, 0.566172733864483, 0.8512157776807618, 0.41048226329913756, 0.4676790279474528, 0.43193181505975825, 0.515171659551283, 0.47742066429926944, 0.5331447567735581, 0.6148359251034455, 0.40258858131046915, 0.4415596635831416, 0.5113145895920027, 0.6811982298965629, 0.4907924194006507, 0.5429092936834087, 0.5240625211353497, 0.4227656973787209], \"Category\": [\"Default\", \"Default\", \"Default\", \"Default\", \"Default\", \"Default\", \"Default\", \"Default\", \"Default\", \"Default\", \"Default\", \"Default\", \"Default\", \"Default\", \"Default\", \"Default\", \"Default\", \"Default\", \"Default\", \"Default\", \"Default\", \"Default\", \"Default\", \"Default\", \"Default\", \"Default\", \"Default\", \"Default\", \"Default\", \"Default\", \"Topic1\", \"Topic1\", \"Topic1\", \"Topic1\", \"Topic1\", \"Topic1\", \"Topic1\", \"Topic1\", \"Topic1\", \"Topic1\", \"Topic1\", \"Topic1\", \"Topic1\", \"Topic1\", \"Topic1\", \"Topic1\", \"Topic1\", \"Topic1\", \"Topic1\", \"Topic1\", \"Topic1\", \"Topic1\", \"Topic1\", \"Topic1\", \"Topic1\", \"Topic1\", \"Topic1\", \"Topic1\", \"Topic1\", \"Topic1\", \"Topic1\", \"Topic1\", \"Topic2\", \"Topic2\", \"Topic2\", \"Topic2\", \"Topic2\", \"Topic2\", \"Topic2\", \"Topic2\", \"Topic2\", \"Topic2\", \"Topic2\", \"Topic2\", \"Topic2\", \"Topic2\", \"Topic2\", \"Topic2\", \"Topic2\", \"Topic2\", \"Topic2\", \"Topic2\", \"Topic2\", \"Topic2\", \"Topic2\", \"Topic2\", \"Topic2\", \"Topic2\", \"Topic2\", \"Topic2\", \"Topic2\", \"Topic2\", \"Topic2\", \"Topic2\", \"Topic2\", \"Topic2\", \"Topic2\", \"Topic2\", \"Topic2\", \"Topic2\", \"Topic2\", \"Topic2\", \"Topic2\", \"Topic2\", \"Topic2\", \"Topic3\", \"Topic3\", \"Topic3\", \"Topic3\", \"Topic3\", \"Topic3\", \"Topic3\", \"Topic3\", \"Topic3\", \"Topic3\", \"Topic3\", \"Topic3\", \"Topic3\", \"Topic3\", \"Topic3\", \"Topic3\", \"Topic3\", \"Topic3\", \"Topic3\", \"Topic3\", \"Topic3\", \"Topic3\", \"Topic3\", \"Topic3\", \"Topic3\", \"Topic3\", \"Topic3\", \"Topic3\", \"Topic3\", \"Topic3\", \"Topic3\", \"Topic3\", \"Topic3\", \"Topic3\", \"Topic3\", \"Topic3\", \"Topic3\", \"Topic3\", \"Topic3\", \"Topic3\", \"Topic3\", \"Topic3\", \"Topic3\", \"Topic3\", \"Topic3\", \"Topic3\", \"Topic3\", \"Topic3\", \"Topic3\", \"Topic3\", \"Topic3\", \"Topic3\", \"Topic3\", \"Topic3\", \"Topic3\", \"Topic3\", \"Topic3\", \"Topic3\", \"Topic3\", \"Topic4\", \"Topic4\", \"Topic4\", \"Topic4\", \"Topic4\", \"Topic4\", \"Topic4\", \"Topic4\", \"Topic4\", \"Topic4\", \"Topic4\", \"Topic4\", \"Topic4\", \"Topic4\", \"Topic4\", \"Topic4\", \"Topic4\", \"Topic4\", \"Topic4\", \"Topic4\", \"Topic4\", \"Topic4\", \"Topic4\", \"Topic4\", \"Topic4\", \"Topic4\", \"Topic4\", \"Topic4\", \"Topic4\", \"Topic4\", \"Topic4\", \"Topic4\", \"Topic4\", \"Topic4\", \"Topic4\", \"Topic4\", \"Topic4\", \"Topic4\", \"Topic4\", \"Topic4\", \"Topic4\", \"Topic4\", \"Topic4\", \"Topic4\", \"Topic4\", \"Topic4\", \"Topic4\", \"Topic4\", \"Topic4\", \"Topic4\", \"Topic4\", \"Topic4\", \"Topic4\", \"Topic4\", \"Topic4\", \"Topic4\", \"Topic4\", \"Topic4\", \"Topic4\", \"Topic5\", \"Topic5\", \"Topic5\", \"Topic5\", \"Topic5\", \"Topic5\", \"Topic5\", \"Topic5\", \"Topic5\", \"Topic5\", \"Topic5\", \"Topic5\", \"Topic5\", \"Topic5\", \"Topic5\", \"Topic5\", \"Topic5\", \"Topic5\", \"Topic5\", \"Topic5\", \"Topic5\", \"Topic5\", \"Topic5\", \"Topic5\", \"Topic5\", \"Topic5\", \"Topic5\", \"Topic5\", \"Topic5\", \"Topic5\", \"Topic5\", \"Topic5\", \"Topic5\", \"Topic5\", \"Topic5\", \"Topic5\", \"Topic5\", \"Topic5\", \"Topic5\", \"Topic5\", \"Topic5\", \"Topic5\", \"Topic5\", \"Topic5\", \"Topic5\", \"Topic5\", \"Topic5\", \"Topic5\", \"Topic5\", \"Topic5\", \"Topic5\", \"Topic5\", \"Topic5\", \"Topic5\", \"Topic5\", \"Topic5\", \"Topic5\", \"Topic5\", \"Topic5\", \"Topic5\", \"Topic5\"], \"logprob\": [30.0, 29.0, 28.0, 27.0, 26.0, 25.0, 24.0, 23.0, 22.0, 21.0, 20.0, 19.0, 18.0, 17.0, 16.0, 15.0, 14.0, 13.0, 12.0, 11.0, 10.0, 9.0, 8.0, 7.0, 6.0, 5.0, 4.0, 3.0, 2.0, 1.0, -6.6076, -6.7669, -6.8096, -6.981, -7.0184, -7.0343, -7.0709, -7.1085, -7.1379, -7.1375, -7.1407, -7.0231, -7.1552, -7.0531, -7.167, -7.1733, -7.1838, -7.2057, -7.2104, -7.2153, -7.2144, -7.2298, -7.2315, -7.2403, -7.0564, -7.2511, -7.2572, -7.2684, -7.2875, -7.2894, -6.9726, -7.1623, -4.7432, -6.3662, -6.3537, -6.6287, -6.7582, -6.7355, -6.8195, -6.8286, -6.8918, -6.8209, -6.8765, -6.9493, -6.6956, -7.0644, -7.0619, -7.0417, -6.4353, -7.1161, -6.4837, -7.1752, -7.0562, -6.9098, -4.5508, -7.209, -6.9483, -6.9056, -7.3404, -7.3693, -7.3993, -7.496, -6.5105, -6.633, -6.3584, -5.4416, -6.8206, -6.093, -6.3175, -6.3565, -6.6116, -6.9532, -6.9765, -6.8228, -6.9134, -8.0572, -9.7375, -9.7374, -9.7374, -9.7374, -9.7375, -9.7376, -9.7375, -9.7376, -9.7375, -9.7375, -9.7375, -9.7375, -9.7372, -9.7375, -9.7375, -9.7375, -9.7374, -9.7375, -9.7375, -9.7375, -9.7375, -9.7374, -9.7376, -9.7375, -9.7374, -9.7375, -9.7374, -9.7373, -9.7373, -9.724, -9.7281, -9.73, -9.73, -9.7305, -9.7309, -9.7321, -9.7329, -9.7332, -9.7336, -9.734, -9.7346, -9.7347, -9.7351, -9.7353, -9.7354, -9.7355, -9.7356, -9.7359, -9.7361, -9.7361, -9.7362, -9.7363, -9.7363, -9.7363, -9.7363, -9.7363, -9.7363, -9.7364, -8.1049, -9.7375, -9.7374, -9.7374, -9.7374, -9.7375, -9.7375, -9.7374, -9.7376, -9.7375, -9.7375, -9.7375, -9.7375, -9.7372, -9.7375, -9.7375, -9.7375, -9.7374, -9.7375, -9.7374, -9.7375, -9.7375, -9.7373, -9.7376, -9.7374, -9.7374, -9.7375, -9.7373, -9.7373, -9.7373, -9.715, -9.7251, -9.7266, -9.7308, -9.7319, -9.7321, -9.7325, -9.7328, -9.7335, -9.7339, -9.7349, -9.7349, -9.7351, -9.7354, -9.7354, -9.7357, -9.7359, -9.7359, -9.7361, -9.7363, -9.7364, -9.7367, -9.7367, -9.7368, -9.7368, -9.7368, -9.7369, -9.737, -9.7371, -9.7373, -9.7372, -9.7372, -9.7372, -9.7372, -9.7373, -9.7372, -9.7373, -9.7372, -9.7372, -9.7373, -9.7372, -9.737, -9.7373, -9.7373, -9.7373, -9.7371, -9.7373, -9.7372, -9.7373, -9.7372, -9.7371, -9.7373, -9.7372, -9.7371, -9.7372, -9.7371, -9.7371, -9.7371, -9.7373, -9.7371, -9.7371, -9.7367, -9.7368, -9.7369, -9.7369, -9.7369, -9.7369, -9.7369, -9.7369, -9.7369, -9.7369, -9.7369, -9.7369, -9.7369, -9.737, -9.737, -9.737, -9.737, -9.737, -9.737, -9.737, -9.737, -9.737, -9.737, -9.737, -9.737, -9.737, -9.737, -9.737, -9.737], \"loglift\": [30.0, 29.0, 28.0, 27.0, 26.0, 25.0, 24.0, 23.0, 22.0, 21.0, 20.0, 19.0, 18.0, 17.0, 16.0, 15.0, 14.0, 13.0, 12.0, 11.0, 10.0, 9.0, 8.0, 7.0, 6.0, 5.0, 4.0, 3.0, 2.0, 1.0, 0.0808, 0.0802, 0.08, 0.0792, 0.079, 0.0789, 0.0787, 0.0785, 0.0783, 0.0783, 0.0783, 0.0783, 0.0782, 0.0782, 0.0782, 0.0781, 0.078, 0.0779, 0.0779, 0.0779, 0.0778, 0.0778, 0.0777, 0.0777, 0.0776, 0.0776, 0.0776, 0.0775, 0.0774, 0.0773, 0.0769, 0.076, 3.3279, 3.2325, 3.2269, 3.1767, 3.1737, 3.1707, 3.1608, 3.1499, 3.1478, 3.147, 3.1452, 3.1375, 3.1295, 3.1109, 3.1093, 3.1073, 3.1027, 3.1004, 3.0901, 3.0885, 3.0865, 3.0855, 3.0833, 3.0794, 3.0758, 3.0716, 3.0388, 3.0346, 3.0239, 2.9783, 2.9136, 2.846, 2.7646, 2.4113, 2.7568, 1.723, 1.8863, 1.7639, 2.1593, 2.8106, 2.7767, 0.733, 1.5921, 2.5146, 1.5899, 1.583, 1.5814, 1.5801, 1.5787, 1.5716, 1.5594, 1.5585, 1.5514, 1.5486, 1.5437, 1.5423, 1.5368, 1.5315, 1.5294, 1.529, 1.5275, 1.5265, 1.5264, 1.5212, 1.5146, 1.5095, 1.5059, 1.5053, 1.5031, 1.5019, 1.5017, 1.4986, 1.4974, 1.2842, 1.1526, 1.1146, 1.0992, 1.0534, 1.0343, 0.9967, 0.9131, 0.9355, 0.8591, 0.8307, 0.7035, 0.7404, 0.633, -0.0674, 0.2181, 0.5548, 0.545, 0.369, 0.4695, -0.4064, 0.2786, 0.2824, -0.0241, 0.3926, 0.2909, -0.012, 0.355, 0.2596, 2.5689, 1.5899, 1.583, 1.5814, 1.5801, 1.5787, 1.5716, 1.5594, 1.5585, 1.5515, 1.5486, 1.5437, 1.5423, 1.5368, 1.5315, 1.5295, 1.529, 1.5275, 1.5266, 1.5264, 1.5212, 1.5146, 1.5096, 1.506, 1.5053, 1.5031, 1.5019, 1.5017, 1.4987, 1.4974, 1.0773, 0.8745, 0.8309, 0.3085, 0.5693, 0.5767, -0.0878, 0.4486, -0.0122, 0.3435, 0.1136, 0.1203, -0.3178, -0.7491, -0.0675, -0.0518, -0.0691, -0.1522, -0.1506, -0.6062, -0.2596, -0.493, -0.6055, -0.5769, -0.6676, -0.5599, 1.2234, -0.8114, 1.2909, 1.5902, 1.5833, 1.5817, 1.5804, 1.5789, 1.5718, 1.5597, 1.5587, 1.5517, 1.5489, 1.5439, 1.5426, 1.537, 1.5317, 1.5297, 1.5293, 1.5278, 1.5268, 1.5267, 1.5214, 1.5148, 1.5098, 1.5062, 1.5056, 1.5034, 1.5022, 1.5019, 1.4989, 1.4976, 1.4937, 1.4909, 1.4883, 1.2236, 1.2911, 1.2547, 1.1926, 1.3923, 1.195, 1.2417, 1.3233, 1.4562, 0.9242, 1.3377, 1.3042, 1.1218, 0.7141, 1.4434, 1.3129, 1.3925, 1.2162, 1.2923, 1.1819, 1.0394, 1.4628, 1.3704, 1.2237, 0.9369, 1.2647, 1.1638, 1.1991, 1.4139]}, \"token.table\": {\"Topic\": [1, 1, 1, 1, 1, 1, 2, 2, 1, 1, 1, 1, 1, 1, 1, 1, 1, 2, 1, 1, 2, 2, 1, 1, 1, 1, 1, 1, 1, 1, 2, 1, 2, 1, 1, 1, 1, 1, 1, 1, 1, 2, 1, 2, 1, 1, 1, 2, 1, 1, 1, 1, 1, 1, 2, 1, 2, 2, 1, 1, 2, 1, 2, 2, 1, 2, 1, 2, 1, 2, 1, 2, 2, 1, 2, 2, 1, 1, 2, 2, 1, 2, 1, 2, 2, 1, 2, 1, 2, 1, 1, 1, 2, 1, 1, 1, 1, 2, 1, 1, 1, 1, 2, 1, 1, 1, 1, 1, 2, 1, 1, 1, 1, 1, 1, 1, 1, 1, 1, 1, 1, 1, 2, 2, 1, 2, 2, 1, 2, 1, 1, 2, 1, 1, 1, 1, 2, 2, 1, 1, 1, 2, 1, 1, 1, 1, 1, 2, 1, 1, 1, 2, 1, 1, 2, 1, 1, 2, 2, 2], \"Freq\": [0.9728455622558536, 0.9911069831466243, 0.7656221850278976, 0.8198976727262686, 0.9928887374622866, 0.21071219951887551, 0.7726113982358769, 1.120775144264465, 0.7783144410991498, 0.941713675146483, 0.9892767617330743, 1.0004054926996826, 1.0724635614389364, 0.9997699932672393, 0.8085776122308969, 0.9940795809381875, 0.8567955542586079, 0.17135911085172156, 0.6474332955383678, 0.4904022999301443, 0.4904022999301443, 0.7665594837907547, 1.0134514354282083, 0.7765783545448658, 0.7689935775111656, 1.0009409100342235, 1.4604576315130786, 0.988748271791342, 1.5509273275458055, 0.88280628635678, 0.220701571589195, 0.9856391292435992, 0.6990321314586547, 0.9833492430209153, 0.9690795247990629, 0.970827283250342, 0.9406699324868862, 0.8463698293453685, 0.884993933819455, 1.0151330369964278, 0.909337515668012, 0.0649526796905723, 1.1360693145292675, 0.7337626337308342, 1.3256045727091814, 1.0537770629525327, 0.7624008216323335, 0.9839401904501045, 0.9895685073945113, 1.3630478548166158, 1.2034588916106166, 1.1597664184471121, 0.8512466775968048, 0.9740096885807592, 0.6159907993207956, 1.049076315318215, 1.1424912489745278, 0.6812844103824653, 0.8310638372338356, 0.6347707468535444, 0.3173853734267722, 1.0737486102811333, 0.7314212066446181, 1.093311663845047, 0.744991137568375, 0.24833037918945833, 0.611975834666825, 0.3497004769524715, 0.4207271783550842, 0.8414543567101684, 0.9712284848282339, 0.9291990832523711, 0.7246869257909122, 0.8876501678388721, 0.22191254195971802, 0.9429347084737237, 0.7594607708293595, 0.7996355976939272, 0.22846731362683637, 0.7323863539496761, 0.7014593810325288, 0.3507296905162644, 0.6567862637693125, 0.21892875458977082, 0.9740484974725354, 0.8849589494853303, 0.08849589494853302, 0.8394637406095765, 0.16789274812191532, 0.9458624311361449, 0.9251222402123455, 0.9882070792253502, 0.9786116898263463, 1.1747902543872228, 0.9989346021912308, 1.006025278295402, 0.4444435604982976, 0.4444435604982976, 0.980771509791887, 0.9894490541003447, 0.9907229081870683, 1.0165740249844617, 0.9985317449790019, 1.009501062523319, 0.9657695059345003, 0.9771597638089758, 1.3067133744441832, 0.9857089047352952, 0.764715021791346, 0.9870602590729103, 0.982771123885732, 1.001407135696259, 0.9880980634802808, 0.9675300559596444, 0.8869625462273699, 0.9191030905481641, 1.4275854994168302, 0.8357000534784285, 1.1326415329855106, 0.9787217358445359, 0.9912084841995777, 1.0190710761076929, 0.7785336341158481, 1.2023555705619544, 0.5846581294225284, 0.5846581294225284, 1.0018779353528717, 0.6430750116522882, 0.8916527035035795, 1.1223493750827005, 0.9676996793755993, 0.977206178256494, 0.7453649455269858, 1.086093027761546, 1.091072603356364, 1.011347685669024, 0.8685357216706914, 0.8161764500249374, 0.9951671559087141, 0.8971150948526198, 0.31131064866849356, 0.6226212973369871, 1.316180846653854, 1.353585575857557, 1.0003454480077199, 0.9980884862439422, 1.0812893591272945, 0.8631514015510307, 1.019557095733082, 0.9798241396885352, 0.7582684290486708, 0.16850409534414904, 0.9892831427862004, 0.5908935774120522, 0.5908935774120522, 0.7143423887017404, 1.022259731631541, 0.8880233498531088, 0.744731612776901, 0.628181623456637], \"Term\": [\"abc\", \"adaptation\", \"addiction\", \"albums\", \"animation\", \"anime\", \"anime\", \"aniplex\", \"assassinate\", \"assassination\", \"bbc\", \"biology\", \"blackmail\", \"book\", \"captive\", \"channel\", \"chapter\", \"chapter\", \"chill\", \"choi\", \"choi\", \"circulation\", \"city\", \"collect\", \"collide\", \"comedy\", \"comparable\", \"compel\", \"compilations\", \"copy\", \"copy\", \"crime\", \"crunchyroll\", \"david\", \"desperate\", \"detective\", \"disambiguation\", \"dub\", \"duncan\", \"dvd\", \"english\", \"english\", \"eponymous\", \"eun\", \"euphoria\", \"federal\", \"firefly\", \"funimation\", \"game\", \"georgian\", \"grapple\", \"groove\", \"groups\", \"guest\", \"hee\", \"hostage\", \"hye\", \"hyun\", \"iglesias\", \"illustrate\", \"illustrate\", \"israeli\", \"jae\", \"jang\", \"japan\", \"japan\", \"japanese\", \"japanese\", \"jin\", \"jin\", \"john\", \"joo\", \"joon\", \"jump\", \"jump\", \"jung\", \"karma\", \"kim\", \"kim\", \"kodansha\", \"korea\", \"korea\", \"korean\", \"korean\", \"kyung\", \"lee\", \"lee\", \"license\", \"license\", \"light\", \"magazine\", \"man\", \"manga\", \"mecha\", \"michael\", \"million\", \"min\", \"min\", \"moon\", \"murder\", \"muse\", \"music\", \"naruto\", \"netflix\", \"north\", \"novel\", \"octane\", \"operate\", \"ova\", \"painting\", \"park\", \"pilot\", \"police\", \"publish\", \"reasons\", \"recovery\", \"rehabilitation\", \"rogue\", \"sanders\", \"school\", \"seasons\", \"seize\", \"seo\", \"seung\", \"shin\", \"shin\", \"shonen\", \"shooter\", \"shueisha\", \"software\", \"son\", \"soo\", \"sunshine\", \"surgeon\", \"suspense\", \"tactical\", \"tae\", \"tankobon\", \"team\", \"thrust\", \"tokyo\", \"tokyo\", \"trees\", \"usher\", \"version\", \"video\", \"vinnie\", \"viz\", \"voice\", \"voiced\", \"volume\", \"volume\", \"war\", \"woo\", \"woo\", \"wrestler\", \"wrong\", \"yeon\", \"yoo\", \"yoon\"]}, \"R\": 30, \"lambda.step\": 0.01, \"plot.opts\": {\"xlab\": \"PC1\", \"ylab\": \"PC2\"}, \"topic.order\": [4, 3, 5, 1, 2]};\n",
       "\n",
       "function LDAvis_load_lib(url, callback){\n",
       "  var s = document.createElement('script');\n",
       "  s.src = url;\n",
       "  s.async = true;\n",
       "  s.onreadystatechange = s.onload = callback;\n",
       "  s.onerror = function(){console.warn(\"failed to load library \" + url);};\n",
       "  document.getElementsByTagName(\"head\")[0].appendChild(s);\n",
       "}\n",
       "\n",
       "if(typeof(LDAvis) !== \"undefined\"){\n",
       "   // already loaded: just create the visualization\n",
       "   !function(LDAvis){\n",
       "       new LDAvis(\"#\" + \"ldavis_el857621480486078243905958254\", ldavis_el857621480486078243905958254_data);\n",
       "   }(LDAvis);\n",
       "}else if(typeof define === \"function\" && define.amd){\n",
       "   // require.js is available: use it to load d3/LDAvis\n",
       "   require.config({paths: {d3: \"https://d3js.org/d3.v5\"}});\n",
       "   require([\"d3\"], function(d3){\n",
       "      window.d3 = d3;\n",
       "      LDAvis_load_lib(\"https://cdn.jsdelivr.net/gh/bmabey/pyLDAvis@3.4.0/pyLDAvis/js/ldavis.v3.0.0.js\", function(){\n",
       "        new LDAvis(\"#\" + \"ldavis_el857621480486078243905958254\", ldavis_el857621480486078243905958254_data);\n",
       "      });\n",
       "    });\n",
       "}else{\n",
       "    // require.js not available: dynamically load d3 & LDAvis\n",
       "    LDAvis_load_lib(\"https://d3js.org/d3.v5.js\", function(){\n",
       "         LDAvis_load_lib(\"https://cdn.jsdelivr.net/gh/bmabey/pyLDAvis@3.4.0/pyLDAvis/js/ldavis.v3.0.0.js\", function(){\n",
       "                 new LDAvis(\"#\" + \"ldavis_el857621480486078243905958254\", ldavis_el857621480486078243905958254_data);\n",
       "            })\n",
       "         });\n",
       "}\n",
       "</script>"
      ],
      "text/plain": [
       "PreparedData(topic_coordinates=              x         y  topics  cluster       Freq\n",
       "topic                                                \n",
       "3      0.098179  0.001844       1        1  91.903008\n",
       "2     -0.051518  0.005831       2        1   3.448693\n",
       "4     -0.015569 -0.002699       3        1   1.550255\n",
       "0     -0.015567 -0.002676       4        1   1.550144\n",
       "1     -0.015525 -0.002300       5        1   1.547901, topic_info=             Term       Freq      Total Category  logprob  loglift\n",
       "641         anime  14.000000  14.000000  Default   30.000  30.0000\n",
       "8040     japanese  11.000000  11.000000  Default   29.000  29.0000\n",
       "9254        manga   9.000000   9.000000  Default   28.000  28.0000\n",
       "16332      volume  11.000000  11.000000  Default   27.000  27.0000\n",
       "5041      english  15.000000  15.000000  Default   26.000  26.0000\n",
       "...           ...        ...        ...      ...      ...      ...\n",
       "7215     hostages   0.026908   0.681198   Topic5   -9.737   0.9369\n",
       "10609         oda   0.026908   0.490792   Topic5   -9.737   1.2647\n",
       "1170        ayumi   0.026908   0.542909   Topic5   -9.737   1.1638\n",
       "16827      yamada   0.026908   0.524063   Topic5   -9.737   1.1991\n",
       "13614  sequential   0.026908   0.422766   Topic5   -9.737   1.4139\n",
       "\n",
       "[284 rows x 6 columns], token_table=       Topic      Freq        Term\n",
       "term                              \n",
       "12         1  0.972846         abc\n",
       "164        1  0.991107  adaptation\n",
       "174        1  0.765622   addiction\n",
       "400        1  0.819898      albums\n",
       "635        1  0.992889   animation\n",
       "...      ...       ...         ...\n",
       "16793      1  0.714342    wrestler\n",
       "16802      1  1.022260       wrong\n",
       "16850      2  0.888023        yeon\n",
       "16863      2  0.744732         yoo\n",
       "16864      2  0.628182        yoon\n",
       "\n",
       "[160 rows x 3 columns], R=30, lambda_step=0.01, plot_opts={'xlab': 'PC1', 'ylab': 'PC2'}, topic_order=[4, 3, 5, 1, 2])"
      ]
     },
     "execution_count": 20,
     "metadata": {},
     "output_type": "execute_result"
    }
   ],
   "source": [
    "# Topic Modelling Visualization for the show description texts\n",
    "pyLDAvis.sklearn.prepare(best_lda_model, dtm_tfidf, tfidf_vectorizer)"
   ]
  },
  {
   "attachments": {},
   "cell_type": "markdown",
   "metadata": {},
   "source": [
    "#### Generate results (fit-transorm) from a LDA model and tfidf matrix"
   ]
  },
  {
   "cell_type": "code",
   "execution_count": 21,
   "metadata": {},
   "outputs": [],
   "source": [
    "lda_results = best_lda_model.fit_transform(dtm_tfidf) "
   ]
  },
  {
   "attachments": {},
   "cell_type": "markdown",
   "metadata": {},
   "source": [
    "#### Append the LDA topic % matches onto the results dataframe"
   ]
  },
  {
   "cell_type": "code",
   "execution_count": 22,
   "metadata": {},
   "outputs": [],
   "source": [
    "# Technique reference: (Mimi Dutta) https://www.analyticsvidhya.com/blog/2021/07/topic-modelling-with-lda-a-hands-on-introduction/\n",
    "\n",
    "def make_lda_topic_pct_cols(lda_results, df_to_append_to, name_prefix=\"\"):\n",
    "    \n",
    "    for j in tqdm(range(len(df_to_append_to))):\n",
    "        for i,topic in enumerate(lda_results[j]):\n",
    "            df_to_append_to.loc[j, f\"{name_prefix}lda_topic{i}_match_pct\"] = topic\n",
    "    return\n",
    "        "
   ]
  },
  {
   "cell_type": "code",
   "execution_count": 23,
   "metadata": {},
   "outputs": [
    {
     "name": "stderr",
     "output_type": "stream",
     "text": [
      "100%|██████████| 2484/2484 [00:00<00:00, 3981.04it/s]\n"
     ]
    }
   ],
   "source": [
    "make_lda_topic_pct_cols(lda_results, df)"
   ]
  },
  {
   "cell_type": "code",
   "execution_count": 24,
   "metadata": {},
   "outputs": [
    {
     "data": {
      "text/html": [
       "<div>\n",
       "<style scoped>\n",
       "    .dataframe tbody tr th:only-of-type {\n",
       "        vertical-align: middle;\n",
       "    }\n",
       "\n",
       "    .dataframe tbody tr th {\n",
       "        vertical-align: top;\n",
       "    }\n",
       "\n",
       "    .dataframe thead th {\n",
       "        text-align: right;\n",
       "    }\n",
       "</style>\n",
       "<table border=\"1\" class=\"dataframe\">\n",
       "  <thead>\n",
       "    <tr style=\"text-align: right;\">\n",
       "      <th></th>\n",
       "      <th>name</th>\n",
       "      <th>href</th>\n",
       "      <th>tokenized_text</th>\n",
       "      <th>lda_topic0_match_pct</th>\n",
       "      <th>lda_topic1_match_pct</th>\n",
       "      <th>lda_topic2_match_pct</th>\n",
       "      <th>lda_topic3_match_pct</th>\n",
       "      <th>lda_topic4_match_pct</th>\n",
       "    </tr>\n",
       "  </thead>\n",
       "  <tbody>\n",
       "    <tr>\n",
       "      <th>0</th>\n",
       "      <td>Game of Thrones</td>\n",
       "      <td>/title/tt0944947/</td>\n",
       "      <td>nine noble family fight control land westeros ...</td>\n",
       "      <td>0.008690</td>\n",
       "      <td>0.965216</td>\n",
       "      <td>0.008715</td>\n",
       "      <td>0.008689</td>\n",
       "      <td>0.008690</td>\n",
       "    </tr>\n",
       "    <tr>\n",
       "      <th>1</th>\n",
       "      <td>Prison Break</td>\n",
       "      <td>/title/tt0455275/</td>\n",
       "      <td>due political conspiracy innocent man send dea...</td>\n",
       "      <td>0.011481</td>\n",
       "      <td>0.953805</td>\n",
       "      <td>0.011751</td>\n",
       "      <td>0.011481</td>\n",
       "      <td>0.011481</td>\n",
       "    </tr>\n",
       "    <tr>\n",
       "      <th>2</th>\n",
       "      <td>Vikings</td>\n",
       "      <td>/title/tt2306299/</td>\n",
       "      <td>vikings transport us brutal mysterious world r...</td>\n",
       "      <td>0.013498</td>\n",
       "      <td>0.945975</td>\n",
       "      <td>0.013531</td>\n",
       "      <td>0.013498</td>\n",
       "      <td>0.013498</td>\n",
       "    </tr>\n",
       "    <tr>\n",
       "      <th>3</th>\n",
       "      <td>The Boys</td>\n",
       "      <td>/title/tt1190634/</td>\n",
       "      <td>group vigilante set take corrupt superheroes a...</td>\n",
       "      <td>0.009292</td>\n",
       "      <td>0.962833</td>\n",
       "      <td>0.009292</td>\n",
       "      <td>0.009291</td>\n",
       "      <td>0.009292</td>\n",
       "    </tr>\n",
       "    <tr>\n",
       "      <th>4</th>\n",
       "      <td>The Mandalorian</td>\n",
       "      <td>/title/tt8111088/</td>\n",
       "      <td>travel lone bounty hunter outer reach galaxy f...</td>\n",
       "      <td>0.015754</td>\n",
       "      <td>0.936637</td>\n",
       "      <td>0.016001</td>\n",
       "      <td>0.015854</td>\n",
       "      <td>0.015754</td>\n",
       "    </tr>\n",
       "  </tbody>\n",
       "</table>\n",
       "</div>"
      ],
      "text/plain": [
       "              name               href  \\\n",
       "0  Game of Thrones  /title/tt0944947/   \n",
       "1     Prison Break  /title/tt0455275/   \n",
       "2          Vikings  /title/tt2306299/   \n",
       "3         The Boys  /title/tt1190634/   \n",
       "4  The Mandalorian  /title/tt8111088/   \n",
       "\n",
       "                                      tokenized_text  lda_topic0_match_pct  \\\n",
       "0  nine noble family fight control land westeros ...              0.008690   \n",
       "1  due political conspiracy innocent man send dea...              0.011481   \n",
       "2  vikings transport us brutal mysterious world r...              0.013498   \n",
       "3  group vigilante set take corrupt superheroes a...              0.009292   \n",
       "4  travel lone bounty hunter outer reach galaxy f...              0.015754   \n",
       "\n",
       "   lda_topic1_match_pct  lda_topic2_match_pct  lda_topic3_match_pct  \\\n",
       "0              0.965216              0.008715              0.008689   \n",
       "1              0.953805              0.011751              0.011481   \n",
       "2              0.945975              0.013531              0.013498   \n",
       "3              0.962833              0.009292              0.009291   \n",
       "4              0.936637              0.016001              0.015854   \n",
       "\n",
       "   lda_topic4_match_pct  \n",
       "0              0.008690  \n",
       "1              0.011481  \n",
       "2              0.013498  \n",
       "3              0.009292  \n",
       "4              0.015754  "
      ]
     },
     "execution_count": 24,
     "metadata": {},
     "output_type": "execute_result"
    }
   ],
   "source": [
    "df.head()"
   ]
  },
  {
   "cell_type": "code",
   "execution_count": 25,
   "metadata": {},
   "outputs": [
    {
     "data": {
      "text/plain": [
       "(2484, 8)"
      ]
     },
     "execution_count": 25,
     "metadata": {},
     "output_type": "execute_result"
    }
   ],
   "source": [
    "df.shape"
   ]
  },
  {
   "cell_type": "code",
   "execution_count": null,
   "metadata": {},
   "outputs": [],
   "source": []
  },
  {
   "attachments": {},
   "cell_type": "markdown",
   "metadata": {},
   "source": [
    "# LSA model"
   ]
  },
  {
   "cell_type": "code",
   "execution_count": 26,
   "metadata": {},
   "outputs": [],
   "source": [
    "# Technique reference: (Avinash Navlani) https://machinelearninggeek.com/latent-semantic-indexing-using-scikit-learn/\n",
    "\n",
    "\n",
    "# Define the number of topics or components\n",
    "num_components=10\n",
    "\n",
    "# Create SVD object\n",
    "lsa = TruncatedSVD(n_components=num_components, n_iter=100, random_state=42)\n",
    "\n",
    "# Fit SVD model on data\n",
    "lsa_results = lsa.fit_transform(dtm_tfidf)\n",
    "\n",
    "# Get Singular values and Components \n",
    "Sigma = lsa.singular_values_ \n",
    "V_transpose = lsa.components_.T"
   ]
  },
  {
   "cell_type": "code",
   "execution_count": 27,
   "metadata": {},
   "outputs": [],
   "source": [
    "# Technique reference: (Avinash Navlani) https://machinelearninggeek.com/latent-semantic-indexing-using-scikit-learn/\n",
    "\n",
    "# Print the topics with their terms\n",
    "\n",
    "def lsa_topics_out(tfidf_vectorizer, svd_object):\n",
    "    terms = tfidf_vectorizer.get_feature_names_out()\n",
    "\n",
    "    for index, component in enumerate(svd_object.components_):\n",
    "        zipped = zip(terms, component)\n",
    "        top_terms_key=sorted(zipped, key = lambda t: t[1], reverse=True)[:10]\n",
    "        top_terms_list=list(dict(top_terms_key).keys())\n",
    "        print(\"Topic \"+str(index)+\": \",top_terms_list)\n",
    "\n",
    "    return"
   ]
  },
  {
   "cell_type": "code",
   "execution_count": 28,
   "metadata": {},
   "outputs": [
    {
     "name": "stdout",
     "output_type": "stream",
     "text": [
      "Topic 0:  ['anime', 'manga', 'netflix', 'seasons', 'comedy', 'japanese', 'school', 'game', 'voiced', 'novel']\n",
      "Topic 1:  ['anime', 'manga', 'japanese', 'volume', 'english', 'japan', 'voiced', 'shonen', 'animation', 'license']\n",
      "Topic 2:  ['kim', 'jung', 'soo', 'korean', 'lee', 'jin', 'hee', 'min', 'hyun', 'yoon']\n",
      "Topic 3:  ['voiced', 'cartoon', 'disney', 'animation', 'voice', 'animated', 'nickelodeon', 'game', 'marvel', 'batman']\n",
      "Topic 4:  ['bbc', 'planet', 'war', 'programme', 'documentary', 'earth', 'british', 'miniseries', 'london', 'novel']\n",
      "Topic 5:  ['voiced', 'crime', 'detective', 'japanese', 'netflix', 'police', 'murder', 'dragon', 'batman', 'english']\n",
      "Topic 6:  ['voiced', 'detective', 'bbc', 'police', 'murder', 'crime', 'japanese', 'programme', 'case', 'english']\n",
      "Topic 7:  ['trek', 'detective', 'police', 'fbi', 'cbs', 'marvel', 'team', 'crime', 'nbc', 'agent']\n",
      "Topic 8:  ['netflix', 'marvel', 'crime', 'documentary', 'singh', 'disney', 'indian', 'murder', 'mcu', 'killer']\n",
      "Topic 9:  ['marvel', 'disney', 'batman', 'detective', 'dragon', 'bbc', 'vampire', 'mcu', 'abc', 'spider']\n"
     ]
    }
   ],
   "source": [
    "lsa_topics_out(tfidf_vectorizer, lsa)"
   ]
  },
  {
   "cell_type": "code",
   "execution_count": 29,
   "metadata": {},
   "outputs": [],
   "source": [
    "# Technique reference: (Mimi Dutta) https://www.analyticsvidhya.com/blog/2021/07/topic-modelling-with-lda-a-hands-on-introduction/\n",
    "\n",
    "def make_lsa_topic_pct_cols(lsa_results, df_to_append_to):\n",
    "    for j in tqdm(range(len(df_to_append_to))):\n",
    "        for i,topic in enumerate(lsa_results[j]):\n",
    "            df_to_append_to.loc[j, f\"lsa_topic{i}_cos_match\"] = topic\n",
    "    return"
   ]
  },
  {
   "cell_type": "code",
   "execution_count": 30,
   "metadata": {},
   "outputs": [
    {
     "name": "stderr",
     "output_type": "stream",
     "text": [
      "100%|██████████| 2484/2484 [00:01<00:00, 2072.03it/s]\n"
     ]
    }
   ],
   "source": [
    "make_lsa_topic_pct_cols(lsa_results, df)"
   ]
  },
  {
   "cell_type": "code",
   "execution_count": 31,
   "metadata": {},
   "outputs": [
    {
     "data": {
      "text/html": [
       "<div>\n",
       "<style scoped>\n",
       "    .dataframe tbody tr th:only-of-type {\n",
       "        vertical-align: middle;\n",
       "    }\n",
       "\n",
       "    .dataframe tbody tr th {\n",
       "        vertical-align: top;\n",
       "    }\n",
       "\n",
       "    .dataframe thead th {\n",
       "        text-align: right;\n",
       "    }\n",
       "</style>\n",
       "<table border=\"1\" class=\"dataframe\">\n",
       "  <thead>\n",
       "    <tr style=\"text-align: right;\">\n",
       "      <th></th>\n",
       "      <th>name</th>\n",
       "      <th>href</th>\n",
       "      <th>tokenized_text</th>\n",
       "      <th>lda_topic0_match_pct</th>\n",
       "      <th>lda_topic1_match_pct</th>\n",
       "      <th>lda_topic2_match_pct</th>\n",
       "      <th>lda_topic3_match_pct</th>\n",
       "      <th>lda_topic4_match_pct</th>\n",
       "      <th>lsa_topic0_cos_match</th>\n",
       "      <th>lsa_topic1_cos_match</th>\n",
       "      <th>lsa_topic2_cos_match</th>\n",
       "      <th>lsa_topic3_cos_match</th>\n",
       "      <th>lsa_topic4_cos_match</th>\n",
       "      <th>lsa_topic5_cos_match</th>\n",
       "      <th>lsa_topic6_cos_match</th>\n",
       "      <th>lsa_topic7_cos_match</th>\n",
       "      <th>lsa_topic8_cos_match</th>\n",
       "      <th>lsa_topic9_cos_match</th>\n",
       "    </tr>\n",
       "  </thead>\n",
       "  <tbody>\n",
       "    <tr>\n",
       "      <th>0</th>\n",
       "      <td>Game of Thrones</td>\n",
       "      <td>/title/tt0944947/</td>\n",
       "      <td>nine noble family fight control land westeros ...</td>\n",
       "      <td>0.008690</td>\n",
       "      <td>0.965216</td>\n",
       "      <td>0.008715</td>\n",
       "      <td>0.008689</td>\n",
       "      <td>0.008690</td>\n",
       "      <td>0.347465</td>\n",
       "      <td>-0.026348</td>\n",
       "      <td>-0.027834</td>\n",
       "      <td>0.047141</td>\n",
       "      <td>0.108406</td>\n",
       "      <td>-0.068647</td>\n",
       "      <td>-0.038896</td>\n",
       "      <td>-0.019839</td>\n",
       "      <td>0.015816</td>\n",
       "      <td>-0.000741</td>\n",
       "    </tr>\n",
       "    <tr>\n",
       "      <th>1</th>\n",
       "      <td>Prison Break</td>\n",
       "      <td>/title/tt0455275/</td>\n",
       "      <td>due political conspiracy innocent man send dea...</td>\n",
       "      <td>0.011481</td>\n",
       "      <td>0.953805</td>\n",
       "      <td>0.011751</td>\n",
       "      <td>0.011481</td>\n",
       "      <td>0.011481</td>\n",
       "      <td>0.275600</td>\n",
       "      <td>-0.063611</td>\n",
       "      <td>-0.018882</td>\n",
       "      <td>-0.034794</td>\n",
       "      <td>-0.037084</td>\n",
       "      <td>-0.009950</td>\n",
       "      <td>0.017834</td>\n",
       "      <td>0.078940</td>\n",
       "      <td>-0.046593</td>\n",
       "      <td>-0.043410</td>\n",
       "    </tr>\n",
       "    <tr>\n",
       "      <th>2</th>\n",
       "      <td>Vikings</td>\n",
       "      <td>/title/tt2306299/</td>\n",
       "      <td>vikings transport us brutal mysterious world r...</td>\n",
       "      <td>0.013498</td>\n",
       "      <td>0.945975</td>\n",
       "      <td>0.013531</td>\n",
       "      <td>0.013498</td>\n",
       "      <td>0.013498</td>\n",
       "      <td>0.186671</td>\n",
       "      <td>-0.034689</td>\n",
       "      <td>-0.016880</td>\n",
       "      <td>0.003262</td>\n",
       "      <td>0.066695</td>\n",
       "      <td>0.000323</td>\n",
       "      <td>-0.048242</td>\n",
       "      <td>-0.040307</td>\n",
       "      <td>0.003310</td>\n",
       "      <td>-0.000493</td>\n",
       "    </tr>\n",
       "    <tr>\n",
       "      <th>3</th>\n",
       "      <td>The Boys</td>\n",
       "      <td>/title/tt1190634/</td>\n",
       "      <td>group vigilante set take corrupt superheroes a...</td>\n",
       "      <td>0.009292</td>\n",
       "      <td>0.962833</td>\n",
       "      <td>0.009292</td>\n",
       "      <td>0.009291</td>\n",
       "      <td>0.009292</td>\n",
       "      <td>0.295748</td>\n",
       "      <td>-0.066046</td>\n",
       "      <td>-0.015771</td>\n",
       "      <td>0.019903</td>\n",
       "      <td>-0.008302</td>\n",
       "      <td>0.014673</td>\n",
       "      <td>-0.080466</td>\n",
       "      <td>0.024328</td>\n",
       "      <td>0.039867</td>\n",
       "      <td>-0.007650</td>\n",
       "    </tr>\n",
       "    <tr>\n",
       "      <th>4</th>\n",
       "      <td>The Mandalorian</td>\n",
       "      <td>/title/tt8111088/</td>\n",
       "      <td>travel lone bounty hunter outer reach galaxy f...</td>\n",
       "      <td>0.015754</td>\n",
       "      <td>0.936637</td>\n",
       "      <td>0.016001</td>\n",
       "      <td>0.015854</td>\n",
       "      <td>0.015754</td>\n",
       "      <td>0.152946</td>\n",
       "      <td>-0.010827</td>\n",
       "      <td>-0.011497</td>\n",
       "      <td>0.076112</td>\n",
       "      <td>0.033428</td>\n",
       "      <td>0.010131</td>\n",
       "      <td>-0.083739</td>\n",
       "      <td>0.041084</td>\n",
       "      <td>0.043047</td>\n",
       "      <td>0.027144</td>\n",
       "    </tr>\n",
       "  </tbody>\n",
       "</table>\n",
       "</div>"
      ],
      "text/plain": [
       "              name               href  \\\n",
       "0  Game of Thrones  /title/tt0944947/   \n",
       "1     Prison Break  /title/tt0455275/   \n",
       "2          Vikings  /title/tt2306299/   \n",
       "3         The Boys  /title/tt1190634/   \n",
       "4  The Mandalorian  /title/tt8111088/   \n",
       "\n",
       "                                      tokenized_text  lda_topic0_match_pct  \\\n",
       "0  nine noble family fight control land westeros ...              0.008690   \n",
       "1  due political conspiracy innocent man send dea...              0.011481   \n",
       "2  vikings transport us brutal mysterious world r...              0.013498   \n",
       "3  group vigilante set take corrupt superheroes a...              0.009292   \n",
       "4  travel lone bounty hunter outer reach galaxy f...              0.015754   \n",
       "\n",
       "   lda_topic1_match_pct  lda_topic2_match_pct  lda_topic3_match_pct  \\\n",
       "0              0.965216              0.008715              0.008689   \n",
       "1              0.953805              0.011751              0.011481   \n",
       "2              0.945975              0.013531              0.013498   \n",
       "3              0.962833              0.009292              0.009291   \n",
       "4              0.936637              0.016001              0.015854   \n",
       "\n",
       "   lda_topic4_match_pct  lsa_topic0_cos_match  lsa_topic1_cos_match  \\\n",
       "0              0.008690              0.347465             -0.026348   \n",
       "1              0.011481              0.275600             -0.063611   \n",
       "2              0.013498              0.186671             -0.034689   \n",
       "3              0.009292              0.295748             -0.066046   \n",
       "4              0.015754              0.152946             -0.010827   \n",
       "\n",
       "   lsa_topic2_cos_match  lsa_topic3_cos_match  lsa_topic4_cos_match  \\\n",
       "0             -0.027834              0.047141              0.108406   \n",
       "1             -0.018882             -0.034794             -0.037084   \n",
       "2             -0.016880              0.003262              0.066695   \n",
       "3             -0.015771              0.019903             -0.008302   \n",
       "4             -0.011497              0.076112              0.033428   \n",
       "\n",
       "   lsa_topic5_cos_match  lsa_topic6_cos_match  lsa_topic7_cos_match  \\\n",
       "0             -0.068647             -0.038896             -0.019839   \n",
       "1             -0.009950              0.017834              0.078940   \n",
       "2              0.000323             -0.048242             -0.040307   \n",
       "3              0.014673             -0.080466              0.024328   \n",
       "4              0.010131             -0.083739              0.041084   \n",
       "\n",
       "   lsa_topic8_cos_match  lsa_topic9_cos_match  \n",
       "0              0.015816             -0.000741  \n",
       "1             -0.046593             -0.043410  \n",
       "2              0.003310             -0.000493  \n",
       "3              0.039867             -0.007650  \n",
       "4              0.043047              0.027144  "
      ]
     },
     "execution_count": 31,
     "metadata": {},
     "output_type": "execute_result"
    }
   ],
   "source": [
    "df.head()"
   ]
  },
  {
   "cell_type": "code",
   "execution_count": 32,
   "metadata": {},
   "outputs": [
    {
     "data": {
      "text/plain": [
       "(2484, 18)"
      ]
     },
     "execution_count": 32,
     "metadata": {},
     "output_type": "execute_result"
    }
   ],
   "source": [
    "df.shape"
   ]
  },
  {
   "cell_type": "code",
   "execution_count": null,
   "metadata": {},
   "outputs": [],
   "source": []
  },
  {
   "attachments": {},
   "cell_type": "markdown",
   "metadata": {},
   "source": [
    "## Force LDA evaluate with different parameters"
   ]
  },
  {
   "attachments": {},
   "cell_type": "markdown",
   "metadata": {},
   "source": [
    "#### Generate same output items for forced alternate (20+ topic) model"
   ]
  },
  {
   "cell_type": "code",
   "execution_count": 33,
   "metadata": {},
   "outputs": [],
   "source": [
    "# Define Grid Search Parameters\n",
    "search_params2 = {'n_components': [20, 30],       # testing suggests it always picks 5 topics as \"best\"\n",
    "                    'learning_decay': [.5, .7, .9]}     # does not always return same \"best\" learning decay"
   ]
  },
  {
   "cell_type": "code",
   "execution_count": 34,
   "metadata": {},
   "outputs": [
    {
     "name": "stdout",
     "output_type": "stream",
     "text": [
      "Fitting 5 folds for each of 6 candidates, totalling 30 fits\n",
      "Best Model's Params:  {'learning_decay': 0.5, 'n_components': 20}\n",
      "Model Log Likelihood Score:  -92559.44641514975\n",
      "Model Perplexity:  112688.89481036758\n"
     ]
    },
    {
     "data": {
      "image/png": "[encoded data removed]",
      "text/plain": [
       "<Figure size 1200x800 with 1 Axes>"
      ]
     },
     "metadata": {},
     "output_type": "display_data"
    }
   ],
   "source": [
    "# tfidf_vectorizer, dtm_tfidf = make_tfidf(input_df, text_colname)\n",
    "model_gs2, best_lda_model2 = lda_gridsearch(dtm_tfidf, search_params2)\n",
    "lda_plot_performance(model_gs2, search_params2)"
   ]
  },
  {
   "cell_type": "code",
   "execution_count": 35,
   "metadata": {},
   "outputs": [
    {
     "name": "stderr",
     "output_type": "stream",
     "text": [
      "20it [00:00, 547.67it/s]\n"
     ]
    },
    {
     "data": {
      "text/html": [
       "<div>\n",
       "<style scoped>\n",
       "    .dataframe tbody tr th:only-of-type {\n",
       "        vertical-align: middle;\n",
       "    }\n",
       "\n",
       "    .dataframe tbody tr th {\n",
       "        vertical-align: top;\n",
       "    }\n",
       "\n",
       "    .dataframe thead th {\n",
       "        text-align: right;\n",
       "    }\n",
       "</style>\n",
       "<table border=\"1\" class=\"dataframe\">\n",
       "  <thead>\n",
       "    <tr style=\"text-align: right;\">\n",
       "      <th></th>\n",
       "      <th>Topic 1 words</th>\n",
       "      <th>Topic 1 weights</th>\n",
       "      <th>Topic 2 words</th>\n",
       "      <th>Topic 2 weights</th>\n",
       "      <th>Topic 3 words</th>\n",
       "      <th>Topic 3 weights</th>\n",
       "      <th>Topic 4 words</th>\n",
       "      <th>Topic 4 weights</th>\n",
       "      <th>Topic 5 words</th>\n",
       "      <th>Topic 5 weights</th>\n",
       "      <th>...</th>\n",
       "      <th>Topic 16 words</th>\n",
       "      <th>Topic 16 weights</th>\n",
       "      <th>Topic 17 words</th>\n",
       "      <th>Topic 17 weights</th>\n",
       "      <th>Topic 18 words</th>\n",
       "      <th>Topic 18 weights</th>\n",
       "      <th>Topic 19 words</th>\n",
       "      <th>Topic 19 weights</th>\n",
       "      <th>Topic 20 words</th>\n",
       "      <th>Topic 20 weights</th>\n",
       "    </tr>\n",
       "  </thead>\n",
       "  <tbody>\n",
       "    <tr>\n",
       "      <th>0</th>\n",
       "      <td>bbc</td>\n",
       "      <td>23.1</td>\n",
       "      <td>liars</td>\n",
       "      <td>1.7</td>\n",
       "      <td>bewitched</td>\n",
       "      <td>0.6</td>\n",
       "      <td>grimm</td>\n",
       "      <td>1.0</td>\n",
       "      <td>cosmos</td>\n",
       "      <td>2.7</td>\n",
       "      <td>...</td>\n",
       "      <td>sonic</td>\n",
       "      <td>2.4</td>\n",
       "      <td>anime</td>\n",
       "      <td>46.2</td>\n",
       "      <td>dune</td>\n",
       "      <td>1.6</td>\n",
       "      <td>kei</td>\n",
       "      <td>1.1</td>\n",
       "      <td>dickinson</td>\n",
       "      <td>0.9</td>\n",
       "    </tr>\n",
       "    <tr>\n",
       "      <th>1</th>\n",
       "      <td>nbc</td>\n",
       "      <td>16.2</td>\n",
       "      <td>kidman</td>\n",
       "      <td>1.2</td>\n",
       "      <td>rim</td>\n",
       "      <td>0.6</td>\n",
       "      <td>dora</td>\n",
       "      <td>0.8</td>\n",
       "      <td>braga</td>\n",
       "      <td>0.9</td>\n",
       "      <td>...</td>\n",
       "      <td>tennyson</td>\n",
       "      <td>1.7</td>\n",
       "      <td>netflix</td>\n",
       "      <td>35.4</td>\n",
       "      <td>lynskey</td>\n",
       "      <td>1.2</td>\n",
       "      <td>pharmacist</td>\n",
       "      <td>0.7</td>\n",
       "      <td>gymnastics</td>\n",
       "      <td>0.5</td>\n",
       "    </tr>\n",
       "    <tr>\n",
       "      <th>2</th>\n",
       "      <td>team</td>\n",
       "      <td>16.1</td>\n",
       "      <td>noth</td>\n",
       "      <td>1.1</td>\n",
       "      <td>mei</td>\n",
       "      <td>0.1</td>\n",
       "      <td>eddy</td>\n",
       "      <td>0.8</td>\n",
       "      <td>jeopardy</td>\n",
       "      <td>0.8</td>\n",
       "      <td>...</td>\n",
       "      <td>roddenberry</td>\n",
       "      <td>1.3</td>\n",
       "      <td>manga</td>\n",
       "      <td>35.0</td>\n",
       "      <td>rust</td>\n",
       "      <td>1.0</td>\n",
       "      <td>recess</td>\n",
       "      <td>0.7</td>\n",
       "      <td>lauria</td>\n",
       "      <td>0.1</td>\n",
       "    </tr>\n",
       "    <tr>\n",
       "      <th>3</th>\n",
       "      <td>cartoon</td>\n",
       "      <td>15.9</td>\n",
       "      <td>ewing</td>\n",
       "      <td>1.1</td>\n",
       "      <td>kidman</td>\n",
       "      <td>0.1</td>\n",
       "      <td>monkeys</td>\n",
       "      <td>0.7</td>\n",
       "      <td>matthias</td>\n",
       "      <td>0.7</td>\n",
       "      <td>...</td>\n",
       "      <td>wwe</td>\n",
       "      <td>1.2</td>\n",
       "      <td>school</td>\n",
       "      <td>29.3</td>\n",
       "      <td>callaghan</td>\n",
       "      <td>1.0</td>\n",
       "      <td>sonny</td>\n",
       "      <td>0.6</td>\n",
       "      <td>disapproves</td>\n",
       "      <td>0.1</td>\n",
       "    </tr>\n",
       "    <tr>\n",
       "      <th>4</th>\n",
       "      <td>dvd</td>\n",
       "      <td>14.3</td>\n",
       "      <td>chappelle</td>\n",
       "      <td>0.8</td>\n",
       "      <td>nam</td>\n",
       "      <td>0.1</td>\n",
       "      <td>ferb</td>\n",
       "      <td>0.6</td>\n",
       "      <td>spacetime</td>\n",
       "      <td>0.5</td>\n",
       "      <td>...</td>\n",
       "      <td>pokemon</td>\n",
       "      <td>0.8</td>\n",
       "      <td>novel</td>\n",
       "      <td>23.6</td>\n",
       "      <td>euphoria</td>\n",
       "      <td>1.0</td>\n",
       "      <td>lovato</td>\n",
       "      <td>0.5</td>\n",
       "      <td>molest</td>\n",
       "      <td>0.1</td>\n",
       "    </tr>\n",
       "  </tbody>\n",
       "</table>\n",
       "<p>5 rows × 40 columns</p>\n",
       "</div>"
      ],
      "text/plain": [
       "  Topic 1 words Topic 1 weights Topic 2 words Topic 2 weights Topic 3 words  \\\n",
       "0           bbc            23.1         liars             1.7     bewitched   \n",
       "1           nbc            16.2        kidman             1.2           rim   \n",
       "2          team            16.1          noth             1.1           mei   \n",
       "3       cartoon            15.9         ewing             1.1        kidman   \n",
       "4           dvd            14.3     chappelle             0.8           nam   \n",
       "\n",
       "  Topic 3 weights Topic 4 words Topic 4 weights Topic 5 words Topic 5 weights  \\\n",
       "0             0.6         grimm             1.0        cosmos             2.7   \n",
       "1             0.6          dora             0.8         braga             0.9   \n",
       "2             0.1          eddy             0.8      jeopardy             0.8   \n",
       "3             0.1       monkeys             0.7      matthias             0.7   \n",
       "4             0.1          ferb             0.6     spacetime             0.5   \n",
       "\n",
       "   ... Topic 16 words Topic 16 weights Topic 17 words Topic 17 weights  \\\n",
       "0  ...          sonic              2.4          anime             46.2   \n",
       "1  ...       tennyson              1.7        netflix             35.4   \n",
       "2  ...    roddenberry              1.3          manga             35.0   \n",
       "3  ...            wwe              1.2         school             29.3   \n",
       "4  ...        pokemon              0.8          novel             23.6   \n",
       "\n",
       "  Topic 18 words Topic 18 weights Topic 19 words Topic 19 weights  \\\n",
       "0           dune              1.6            kei              1.1   \n",
       "1        lynskey              1.2     pharmacist              0.7   \n",
       "2           rust              1.0         recess              0.7   \n",
       "3      callaghan              1.0          sonny              0.6   \n",
       "4       euphoria              1.0         lovato              0.5   \n",
       "\n",
       "  Topic 20 words Topic 20 weights  \n",
       "0      dickinson              0.9  \n",
       "1     gymnastics              0.5  \n",
       "2         lauria              0.1  \n",
       "3    disapproves              0.1  \n",
       "4         molest              0.1  \n",
       "\n",
       "[5 rows x 40 columns]"
      ]
     },
     "execution_count": 35,
     "metadata": {},
     "output_type": "execute_result"
    }
   ],
   "source": [
    "lda_topic_words2 = display_topics(best_lda_model2, tfidf_vectorizer.get_feature_names_out(), n_top_words = 30) \n",
    "lda_topic_words2.head()"
   ]
  },
  {
   "cell_type": "code",
   "execution_count": 36,
   "metadata": {},
   "outputs": [
    {
     "name": "stderr",
     "output_type": "stream",
     "text": [
      "d:\\anaconda3\\lib\\site-packages\\pyLDAvis\\_prepare.py:243: FutureWarning: In a future version of pandas all arguments of DataFrame.drop except for the argument 'labels' will be keyword-only.\n",
      "  default_term_info = default_term_info.sort_values(\n"
     ]
    },
    {
     "data": {
      "text/html": [
       "\n",
       "<link rel=\"stylesheet\" type=\"text/css\" href=\"https://cdn.jsdelivr.net/gh/bmabey/pyLDAvis@3.4.0/pyLDAvis/js/ldavis.v1.0.0.css\">\n",
       "\n",
       "\n",
       "<div id=\"ldavis_el857621480491711689136873833\" style=\"background-color:white;\"></div>\n",
       "<script type=\"text/javascript\">\n",
       "\n",
       "var ldavis_el857621480491711689136873833_data = {\"mdsDat\": {\"x\": [0.22669567878209582, 0.17717916991270496, -0.19446964281199366, -0.11761981363663136, -0.01176125110815162, -0.006389640268082469, -0.005686825928371646, -0.005637131838708706, -0.005395481508413238, -0.00534165977145951, -0.0053434425259192035, -0.005183094876694982, -0.005209749066520266, -0.0051205291735201015, -0.005222466248203422, -0.0051372326819213695, -0.005112190650352881, -0.0051833917197176265, -0.005021466452729636, -0.005039838427408798], \"y\": [-0.066594089836945, 0.1013777064132027, 0.15753505722396358, -0.23852807324845646, 0.005966076736586294, 0.0028965492502547037, 0.002878320766787068, 0.002652785298491006, 0.0028883134913587176, 0.002739556929906539, 0.0025971474655236046, 0.002598352869817426, 0.002567767268334914, 0.002662889995913495, 0.0026763147020681553, 0.0027045072236538178, 0.002609019988259568, 0.002531111084453882, 0.0026363482286832027, 0.002604338148142867], \"topics\": [1, 2, 3, 4, 5, 6, 7, 8, 9, 10, 11, 12, 13, 14, 15, 16, 17, 18, 19, 20], \"cluster\": [1, 1, 1, 1, 1, 1, 1, 1, 1, 1, 1, 1, 1, 1, 1, 1, 1, 1, 1, 1], \"Freq\": [41.53842236072362, 24.304824325244297, 13.882243988418367, 13.27701686505657, 0.9551690107285972, 0.44367517579976873, 0.4142182409277022, 0.4128179593661933, 0.41051630436595943, 0.40675713704145294, 0.40236042277693573, 0.40096711172293115, 0.3975291759041043, 0.39694006640925766, 0.3964567565738648, 0.3945600878250014, 0.39309752173115114, 0.3921854381113878, 0.39045079409433914, 0.3897912571785078]}, \"tinfo\": {\"Term\": [\"kim\", \"lee\", \"anime\", \"park\", \"manga\", \"detective\", \"school\", \"korean\", \"bbc\", \"crime\", \"murder\", \"recur\", \"cartoon\", \"police\", \"vampire\", \"volume\", \"recurring\", \"student\", \"praise\", \"renew\", \"japanese\", \"rotten\", \"john\", \"tomatoes\", \"metacritic\", \"london\", \"nbc\", \"anne\", \"case\", \"moon\", \"anime\", \"manga\", \"student\", \"future\", \"soundtrack\", \"fight\", \"island\", \"past\", \"universe\", \"teen\", \"dragon\", \"romance\", \"magazine\", \"feel\", \"blu\", \"mission\", \"strong\", \"social\", \"reprise\", \"friends\", \"ability\", \"band\", \"volume\", \"license\", \"teenage\", \"control\", \"praise\", \"wars\", \"hunter\", \"compose\", \"school\", \"weekly\", \"discover\", \"adaptation\", \"dead\", \"boy\", \"fox\", \"ben\", \"japanese\", \"japan\", \"secret\", \"brother\", \"netflix\", \"girl\", \"novel\", \"relationship\", \"human\", \"ray\", \"english\", \"son\", \"positive\", \"power\", \"animation\", \"kill\", \"music\", \"city\", \"comedy\", \"seasons\", \"million\", \"theme\", \"video\", \"song\", \"game\", \"book\", \"voiced\", \"pilot\", \"alien\", \"london\", \"nickelodeon\", \"programme\", \"films\", \"segment\", \"disc\", \"franchise\", \"trek\", \"christmas\", \"monster\", \"block\", \"race\", \"syndication\", \"pictures\", \"collection\", \"com\", \"reference\", \"lady\", \"stand\", \"funimation\", \"hill\", \"destroy\", \"reboot\", \"deep\", \"stories\", \"claire\", \"sony\", \"gary\", \"manage\", \"anthology\", \"cartoon\", \"jimmy\", \"pick\", \"radio\", \"nbc\", \"bbc\", \"evil\", \"guide\", \"animated\", \"tim\", \"blue\", \"cbs\", \"team\", \"henry\", \"dvd\", \"british\", \"region\", \"version\", \"earth\", \"sitcom\", \"horror\", \"abc\", \"channel\", \"comedy\", \"special\", \"history\", \"voiced\", \"game\", \"complete\", \"man\", \"vampire\", \"anne\", \"inspector\", \"france\", \"prince\", \"catherine\", \"german\", \"rob\", \"itv\", \"jamie\", \"contestant\", \"princess\", \"football\", \"east\", \"tommy\", \"food\", \"robin\", \"chef\", \"rescue\", \"clark\", \"solve\", \"ross\", \"winner\", \"philip\", \"diana\", \"vision\", \"bobby\", \"berlin\", \"sword\", \"victoria\", \"witch\", \"sunday\", \"paris\", \"case\", \"detective\", \"coach\", \"police\", \"sky\", \"crime\", \"hospital\", \"war\", \"documentary\", \"murder\", \"doctor\", \"emily\", \"batman\", \"carter\", \"barry\", \"amanda\", \"church\", \"allen\", \"austin\", \"showtime\", \"trial\", \"cult\", \"aaron\", \"riley\", \"miles\", \"annie\", \"dennis\", \"pete\", \"spencer\", \"maggie\", \"terry\", \"agency\", \"dean\", \"ron\", \"doug\", \"ahead\", \"flight\", \"lily\", \"beth\", \"spider\", \"seth\", \"toronto\", \"jessica\", \"ian\", \"christopher\", \"murphy\", \"jennifer\", \"kate\", \"killer\", \"josh\", \"johnson\", \"recurring\", \"cia\", \"serial\", \"weighted\", \"murder\", \"john\", \"recur\", \"casting\", \"renew\", \"metacritic\", \"james\", \"crime\", \"tomatoes\", \"amazon\", \"rotten\", \"indicate\", \"marvel\", \"alex\", \"jones\", \"seasons\", \"consensus\", \"hbo\", \"miniseries\", \"detective\", \"joon\", \"eun\", \"hyun\", \"seo\", \"hee\", \"yoon\", \"joo\", \"kyung\", \"yeon\", \"jung\", \"soo\", \"tae\", \"jang\", \"hye\", \"seung\", \"jae\", \"hae\", \"hyuk\", \"baek\", \"sang\", \"hwang\", \"chul\", \"choi\", \"dong\", \"sook\", \"bae\", \"webtoon\", \"seok\", \"min\", \"woo\", \"jin\", \"turtles\", \"hoon\", \"korean\", \"kim\", \"cha\", \"kang\", \"jeong\", \"lee\", \"sung\", \"korea\", \"park\", \"ramsay\", \"oslo\", \"pandey\", \"mei\", \"bain\", \"iglesias\", \"madrid\", \"ibrahim\", \"kgb\", \"dolores\", \"sheikh\", \"toledo\", \"nightmares\", \"mothership\", \"jtbc\", \"dungey\", \"yao\", \"ghosh\", \"zaki\", \"katya\", \"rocko\", \"kitchen\", \"lauria\", \"ops\", \"heinrich\", \"brannon\", \"baton\", \"resultant\", \"trainor\", \"ascribe\", \"rebekah\", \"arora\", \"kapoor\", \"leary\", \"rath\", \"lynskey\", \"rust\", \"callaghan\", \"dune\", \"euphoria\", \"terrace\", \"eureka\", \"zac\", \"riches\", \"trucks\", \"overhaul\", \"profits\", \"secrecy\", \"iglesias\", \"heinrich\", \"ghosh\", \"brannon\", \"baton\", \"yao\", \"resultant\", \"gotham\", \"ascribe\", \"jumped\", \"succeeded\", \"messaging\", \"eui\", \"rouge\", \"daum\", \"mothership\", \"considerations\", \"masters\", \"alia\", \"prop\", \"members\", \"leftover\", \"axel\", \"solver\", \"tuning\", \"beetle\", \"salmon\", \"automobile\", \"insufficient\", \"residential\", \"eclectic\", \"pornography\", \"tennyson\", \"roddenberry\", \"sonic\", \"wwe\", \"flames\", \"pokemon\", \"sesame\", \"picard\", \"brannon\", \"braga\", \"heinrich\", \"ghosh\", \"baton\", \"yao\", \"resultant\", \"ascribe\", \"jumped\", \"succeeded\", \"messaging\", \"eui\", \"rouge\", \"daum\", \"mothership\", \"considerations\", \"infrequent\", \"losses\", \"median\", \"specified\", \"noitamina\", \"katya\", \"spock\", \"madrid\", \"voyager\", \"darth\", \"viability\", \"starter\", \"mena\", \"admitted\", \"tearfully\", \"pollock\", \"variously\", \"agreements\", \"sticks\", \"procure\", \"versa\", \"augmented\", \"concealed\", \"expiration\", \"participates\", \"tipton\", \"syrian\", \"reich\", \"trainor\", \"obi\", \"darth\", \"bosch\", \"heinrich\", \"sith\", \"jedi\", \"stargate\", \"hawkeye\", \"ghosh\", \"brannon\", \"baton\", \"yao\", \"resultant\", \"ascribe\", \"jumped\", \"succeeded\", \"messaging\", \"eui\", \"rouge\", \"daum\", \"mothership\", \"considerations\", \"infrequent\", \"losses\", \"median\", \"specified\", \"skywalker\", \"stampede\", \"sheikh\", \"oslo\", \"axel\", \"dolores\", \"rim\", \"overpower\", \"packs\", \"mart\", \"rhythmic\", \"logos\", \"paths\", \"outpace\", \"informally\", \"grimm\", \"marchand\", \"noth\", \"kidman\", \"liars\", \"ewing\", \"sneaky\", \"chappelle\", \"transparent\", \"cellmate\", \"heinrich\", \"ghosh\", \"brannon\", \"baton\", \"yao\", \"resultant\", \"ascribe\", \"jumped\", \"succeeded\", \"messaging\", \"eui\", \"rouge\", \"daum\", \"mothership\", \"considerations\", \"infrequent\", \"losses\", \"median\", \"specified\", \"noitamina\", \"katya\", \"condo\", \"reunites\", \"dungey\", \"sleight\", \"drafts\", \"deliciously\", \"lib\", \"aborted\", \"escaping\", \"shouting\", \"gravitas\", \"ucla\", \"mart\", \"rowland\", \"reshoots\", \"finesse\", \"visibility\", \"femininity\", \"applicant\", \"acknowledged\", \"terrace\", \"cosmos\", \"braga\", \"matthias\", \"brannon\", \"jeopardy\", \"spacetime\", \"heinrich\", \"ghosh\", \"baton\", \"yao\", \"resultant\", \"ascribe\", \"jumped\", \"succeeded\", \"messaging\", \"eui\", \"rouge\", \"daum\", \"mothership\", \"considerations\", \"infrequent\", \"losses\", \"median\", \"specified\", \"noitamina\", \"katya\", \"condo\", \"recognized\", \"moonves\", \"melodic\", \"hawking\", \"policies\", \"municipality\", \"astronomy\", \"geneticist\", \"fuzzy\", \"theology\", \"astrophysicist\", \"horizons\", \"smear\", \"kgb\", \"urgency\", \"skepticism\", \"odyssey\", \"doctrine\", \"immoral\", \"receives\", \"users\", \"depicting\", \"astronomer\", \"allegations\", \"affirm\", \"bugs\", \"afro\", \"sas\", \"sharks\", \"daffy\", \"bunny\", \"famed\", \"heinrich\", \"ghosh\", \"brannon\", \"baton\", \"yao\", \"resultant\", \"ascribe\", \"jumped\", \"succeeded\", \"messaging\", \"eui\", \"rouge\", \"daum\", \"mothership\", \"considerations\", \"infrequent\", \"losses\", \"median\", \"specified\", \"noitamina\", \"katya\", \"condo\", \"recognized\", \"circumstance\", \"looney\", \"wile\", \"tunes\", \"melodies\", \"designation\", \"bark\", \"beneficial\", \"tuxedo\", \"necessitate\", \"incarnations\", \"avant\", \"metv\", \"reintroduce\", \"onstage\", \"moth\", \"strings\", \"shouting\", \"gerry\", \"displayed\", \"despises\", \"chickens\", \"enigma\", \"monkeys\", \"grimm\", \"ferb\", \"eddy\", \"dora\", \"eds\", \"phineas\", \"heinrich\", \"ghosh\", \"brannon\", \"baton\", \"yao\", \"resultant\", \"ascribe\", \"jumped\", \"succeeded\", \"messaging\", \"eui\", \"rouge\", \"daum\", \"mothership\", \"considerations\", \"infrequent\", \"losses\", \"median\", \"specified\", \"noitamina\", \"katya\", \"condo\", \"recognized\", \"aimed\", \"adversaries\", \"mis\", \"miscellaneous\", \"remedy\", \"osbourne\", \"gamecube\", \"bratty\", \"troublesome\", \"stylistically\", \"haze\", \"kellogg\", \"fusionfall\", \"lots\", \"protegee\", \"manifestation\", \"reformed\", \"stooges\", \"simplicity\", \"belongs\", \"sac\", \"explosions\", \"foam\", \"glitch\", \"xena\", \"fifa\", \"cup\", \"heinrich\", \"ghosh\", \"brannon\", \"baton\", \"yao\", \"resultant\", \"ascribe\", \"jumped\", \"succeeded\", \"messaging\", \"eui\", \"rouge\", \"daum\", \"mothership\", \"considerations\", \"infrequent\", \"losses\", \"median\", \"specified\", \"noitamina\", \"katya\", \"condo\", \"recognized\", \"moonves\", \"melodic\", \"scarface\", \"madrid\", \"massively\", \"bulgarian\", \"astronomy\", \"dilemmas\", \"meta\", \"ancestors\", \"enthusiastically\", \"invigorate\", \"sac\", \"bemoan\", \"cemetery\", \"multiplayer\", \"exploration\", \"caught\", \"seo\", \"impede\", \"cupid\", \"inexplicably\", \"rotation\", \"prophesy\", \"victories\", \"tin\", \"rib\", \"garfield\", \"dwindle\", \"kei\", \"recess\", \"pharmacist\", \"lovato\", \"sonny\", \"heinrich\", \"ghosh\", \"brannon\", \"baton\", \"yao\", \"resultant\", \"ascribe\", \"jumped\", \"succeeded\", \"messaging\", \"eui\", \"rouge\", \"daum\", \"mothership\", \"considerations\", \"infrequent\", \"losses\", \"median\", \"specified\", \"noitamina\", \"katya\", \"condo\", \"recognized\", \"moonves\", \"melodic\", \"castmates\", \"intentioned\", \"rampant\", \"extremes\", \"prolific\", \"unreleased\", \"rework\", \"wrongdoing\", \"resistant\", \"individuality\", \"regenerative\", \"demi\", \"dubs\", \"detach\", \"decidedly\", \"governments\", \"munroe\", \"affiliation\", \"bequeath\", \"unflappable\", \"prankster\", \"suave\", \"idol\", \"fillmore\", \"rouge\", \"baton\", \"hostages\", \"diabolical\", \"bumpy\", \"heinrich\", \"ghosh\", \"brannon\", \"yao\", \"resultant\", \"ascribe\", \"jumped\", \"succeeded\", \"messaging\", \"eui\", \"daum\", \"mothership\", \"considerations\", \"infrequent\", \"losses\", \"median\", \"specified\", \"noitamina\", \"katya\", \"condo\", \"recognized\", \"moonves\", \"melodic\", \"scarface\", \"trombone\", \"onofrio\", \"hee\", \"octane\", \"carlisle\", \"captive\", \"georgian\", \"israeli\", \"blackmail\", \"shooter\", \"compel\", \"rogue\", \"arose\", \"dominique\", \"enforcers\", \"assassinate\", \"reich\", \"seize\", \"tactical\", \"thrust\", \"reasons\", \"hostage\", \"liken\", \"sanders\", \"assassination\", \"noitamina\", \"lindy\", \"picard\", \"heinrich\", \"ghosh\", \"brannon\", \"baton\", \"yao\", \"resultant\", \"ascribe\", \"jumped\", \"succeeded\", \"messaging\", \"eui\", \"rouge\", \"daum\", \"mothership\", \"considerations\", \"infrequent\", \"losses\", \"median\", \"specified\", \"katya\", \"condo\", \"recognized\", \"moonves\", \"melodic\", \"scarface\", \"trombone\", \"rhythmic\", \"roddenberry\", \"disagreed\", \"slower\", \"handled\", \"crafty\", \"mcfadden\", \"piccolo\", \"nevins\", \"kei\", \"monkeys\", \"riker\", \"bookended\", \"nicholls\", \"ripe\", \"technicolor\", \"evacuation\", \"assets\", \"anchored\", \"frakes\", \"schuster\", \"intrigued\", \"cristobal\", \"abducted\", \"orla\", \"horner\", \"una\", \"maniac\", \"piccolo\", \"pistols\", \"thelma\", \"toriyama\", \"malachi\", \"balls\", \"heinrich\", \"ghosh\", \"brannon\", \"baton\", \"yao\", \"resultant\", \"ascribe\", \"jumped\", \"succeeded\", \"messaging\", \"eui\", \"rouge\", \"daum\", \"mothership\", \"considerations\", \"infrequent\", \"losses\", \"median\", \"specified\", \"noitamina\", \"katya\", \"condo\", \"recognized\", \"slump\", \"schizophrenia\", \"clap\", \"remade\", \"solved\", \"whatsoever\", \"psychiatric\", \"managed\", \"concealed\", \"forerunner\", \"cells\", \"manic\", \"caravan\", \"aborted\", \"remastering\", \"assured\", \"battery\", \"koyama\", \"trial\", \"weaken\", \"sports\", \"narrowly\", \"optional\", \"dickinson\", \"gymnastics\", \"lauria\", \"heinrich\", \"ghosh\", \"brannon\", \"baton\", \"yao\", \"resultant\", \"ascribe\", \"jumped\", \"succeeded\", \"messaging\", \"eui\", \"rouge\", \"daum\", \"mothership\", \"considerations\", \"infrequent\", \"losses\", \"median\", \"specified\", \"noitamina\", \"katya\", \"condo\", \"recognized\", \"moonves\", \"melodic\", \"scarface\", \"trombone\", \"disapproves\", \"molest\", \"delights\", \"constraint\", \"bowles\", \"structured\", \"spoke\", \"yee\", \"culminates\", \"simons\", \"minions\", \"budding\", \"allegra\", \"rye\", \"huss\", \"authentically\", \"traveling\", \"audacious\", \"championships\", \"darlene\", \"suitor\", \"underway\", \"poet\", \"wiz\", \"slant\", \"enrol\", \"springfield\", \"rim\", \"bewitched\", \"heinrich\", \"ghosh\", \"brannon\", \"baton\", \"yao\", \"resultant\", \"ascribe\", \"jumped\", \"succeeded\", \"messaging\", \"eui\", \"rouge\", \"daum\", \"mothership\", \"considerations\", \"infrequent\", \"losses\", \"median\", \"specified\", \"noitamina\", \"katya\", \"condo\", \"recognized\", \"moonves\", \"melodic\", \"scarface\", \"trombone\", \"rhythmic\", \"mei\", \"kidman\", \"nam\", \"convene\", \"porch\", \"jae\", \"gigantic\", \"aesthetics\", \"jaeger\", \"emphasized\", \"boyhood\", \"allegorical\", \"grit\", \"seedy\", \"disapproves\", \"requisite\", \"potion\", \"diskin\", \"chevrolet\", \"uchida\", \"kensington\", \"livestream\", \"ackerman\", \"hayashi\", \"gladys\", \"piazza\", \"yuko\", \"cookbook\"], \"Freq\": [8.0, 10.0, 41.0, 10.0, 31.0, 20.0, 27.0, 4.0, 25.0, 23.0, 19.0, 15.0, 14.0, 20.0, 9.0, 18.0, 12.0, 15.0, 16.0, 18.0, 22.0, 16.0, 21.0, 16.0, 13.0, 11.0, 15.0, 8.0, 12.0, 6.0, 41.577335789183735, 31.504647687052447, 14.840977524166998, 11.150438177304633, 11.029314908290859, 10.909145755287199, 10.71961853842362, 10.849438016351629, 10.381682664146851, 9.852978097546934, 9.722723679311896, 10.02555870195841, 9.3805806911443, 9.327643245501573, 9.190064432041055, 9.11984987666401, 8.992854141743377, 9.126318533807998, 8.76782370188079, 9.947114858388314, 8.646684561472622, 8.602134012770886, 17.74659483311591, 8.492739862366225, 8.38168003896816, 8.360852252068128, 15.944449401330743, 8.092048111647308, 7.949711420214843, 7.927748088133508, 26.337439959665712, 9.349305044681858, 10.74365817840772, 14.827249893468972, 10.280919809368433, 11.247487649240252, 16.3410646554962, 13.551140748646548, 20.96716832746682, 12.32524279635726, 12.148569492000531, 16.257993441043183, 31.846711523911022, 15.004800847956579, 21.204118529932085, 16.520188674597264, 13.9758991930859, 12.940723711839833, 16.32340413732293, 16.64612358541598, 12.519599712621273, 14.278700942196275, 17.44500372046945, 15.583039420173073, 16.89457865478587, 16.181888711690576, 20.60983757812485, 20.52387445820508, 16.24030547314311, 15.222906615118031, 15.635333279292263, 15.047283955519768, 16.737800693761507, 15.63109923351454, 15.59134360960288, 15.210498113130138, 10.10768658247983, 11.017713493641281, 9.72681105821816, 9.042468948969903, 7.640561082847867, 7.158058303566684, 7.045643330865541, 7.125645713605386, 6.847594033894482, 6.580301108571839, 6.49929927484851, 6.442019809875765, 6.41664321107441, 6.2184805979443105, 6.338573604274295, 6.067802431238539, 7.520721969589839, 5.962951190240232, 5.8770464476970945, 6.684327918662144, 5.7100965857392225, 5.672458783260302, 5.596006434782056, 5.575013916408763, 5.4369194618078796, 5.424142664514081, 5.252567976920951, 5.249855883452783, 5.246886718865357, 5.178756763907707, 7.434408269805778, 13.217729732385394, 7.654112015574088, 8.160604951440602, 6.3949835207595775, 13.44981631038398, 19.164757527408266, 7.618910347926462, 6.398858206316844, 9.254144142834376, 7.15372464264992, 7.445460833994654, 10.293006242900839, 13.36366610801325, 8.11909189838779, 11.91231213227975, 10.507359228927315, 7.950017571072138, 10.957516832147235, 9.214701662315386, 8.374663774309672, 8.547933517485344, 10.104924628540239, 10.187924216806802, 9.989699667959979, 8.645652935755868, 8.125717574512612, 8.658523402628079, 8.239857422149566, 7.585813263826768, 7.660895953679689, 9.25847974609194, 8.206916702286442, 6.619533485845781, 6.5326105009486755, 6.292467287374283, 6.220548015578747, 6.034323206859636, 5.820723132264815, 5.669316419449298, 5.609339183955761, 5.58790017002382, 5.437685934819535, 5.203315939122113, 5.072320106179376, 5.0632656495125765, 5.034752737790192, 4.893705407118109, 4.803900330289926, 4.623132740230892, 4.492638807346894, 5.367830646635084, 4.281017095543352, 4.209397887797288, 4.149462648165057, 4.141869245936035, 4.049040472566535, 3.8382794491617136, 3.8344835897645106, 3.7469085302508307, 3.737681675104393, 5.402115919620128, 4.097683607917575, 4.132499545035481, 7.914672746550554, 10.91121922884901, 5.364854601374863, 9.11700205822624, 5.1770968215741675, 8.245140990188974, 5.295231811053242, 6.73898351220466, 6.147345147247757, 6.095492665506886, 4.977973585234747, 7.5359838136921535, 6.000486388251756, 5.468797573592163, 5.090045005293723, 5.079308841105922, 4.942669239549324, 4.91349425259718, 4.75738855038, 4.747544398538422, 4.7345975640064974, 4.565674312071011, 4.553462475969324, 4.449710084689013, 4.3233824843879125, 4.2849809934973395, 4.274537225402917, 4.21758094935077, 4.20606356716761, 4.194273580915772, 4.192261280206591, 4.091759685661162, 4.830856252215738, 3.971506281320555, 3.969347902613808, 3.8479984067621187, 3.8316620433884676, 3.8128816545211137, 3.784898913906258, 3.758214116911661, 3.747003145243362, 4.308670077608574, 6.972048483263348, 4.57654054114665, 6.173635142314246, 5.645174970632, 5.558330259517325, 6.334396392994064, 7.950256666374635, 6.829434507501875, 6.158624846694538, 7.938517695105214, 5.240233617257849, 6.2106340520888, 5.833244726833864, 8.74073066813704, 8.989353761719013, 7.6993559741435345, 6.2141015162882915, 7.78482436689975, 6.589538397216094, 6.884787388167252, 7.833898216554366, 6.935396364442946, 6.218831374921644, 6.931660828319298, 6.130402849710754, 5.823039249223826, 6.076878557261068, 5.927844834549286, 7.406565629978315, 6.036472705112867, 5.99016109491449, 6.001721773070578, 5.870452913670242, 1.1636278476187185, 1.1592149297318348, 1.2546453130366744, 1.07521781430684, 1.3941399546238304, 1.304630276614766, 0.8509998058516043, 0.7991181847300495, 0.8901858077831307, 1.690698162726633, 1.6103805951553685, 0.8974462673282281, 0.673316780762377, 0.6320204869284595, 0.5746259895083567, 1.0204137820354622, 0.537383706121923, 0.49026521667340706, 0.4704483407873805, 0.7695609531263542, 0.4509453650916871, 0.44098271811187334, 1.2134981157464766, 0.706327707099451, 0.40764556919828365, 0.39971958952151554, 0.5101928031913685, 0.3854619116942737, 1.3994092712386041, 1.0122360894969535, 1.425167367319557, 0.7366579299228955, 0.5423564002906831, 1.5135143948515164, 2.14424867612779, 0.6397271543968197, 0.8458704285404264, 0.5897390800845701, 1.2320947737963752, 0.7003824564708533, 0.7008585242930265, 0.7103849395607867, 0.34274859670058444, 0.18536993310740194, 0.1806887972073172, 0.1776664592314241, 0.1715092650334229, 0.16606876048957717, 0.15583678437986256, 0.15298284365618284, 0.1386295896840288, 0.1363026834354227, 0.13035782156522666, 0.12722985307418247, 0.24377880058088663, 0.10380247545899918, 0.1225380780426149, 0.08386160371686059, 0.07600552809083169, 0.06600305333381912, 0.07271255104728352, 0.06561500363109606, 0.12823408720140236, 0.20597630473627745, 0.040394869986150134, 0.05218631228655245, 0.007524513421289881, 0.007524511575667694, 0.007524511587227067, 0.007524511575089358, 0.00816358033567161, 0.007524511575088851, 0.011793863231291626, 0.008340647631565862, 0.008107895979699856, 0.0075280891196855175, 0.007527529637892857, 0.17493514746073963, 0.14793946314097092, 0.14542162669543826, 0.22637068511730277, 0.14521974416888858, 0.11563136158822687, 0.14366641595401916, 0.10195017166097507, 0.06201379171086399, 0.02998379463580235, 0.02936287652495843, 0.018058779806371945, 0.017728948105254855, 0.009803524648402773, 0.00711857409358773, 0.007118574093673503, 0.007118574094056896, 0.0071185740936039014, 0.0071185740939459004, 0.007118574093500322, 0.03855714127972748, 0.007118574093500265, 0.007118574093500272, 0.007118574093500286, 0.007118574093500264, 0.00711857409350157, 0.007118574093546648, 0.007118574093500213, 0.007118574140997142, 0.007118574093500249, 0.05062575392786749, 0.012622371212076891, 0.015244298509807774, 0.007120754669103185, 0.007118580727090479, 0.007118580449037245, 0.00711857931171033, 0.007118576996042705, 0.00711857694681748, 0.007118576758697002, 0.007118576262525335, 0.007118576230812113, 0.007118575761945145, 0.007118575699893271, 0.007118575418053681, 0.24092695392440466, 0.18941853107523496, 0.3398223370360776, 0.1679933212182196, 0.08956421503375867, 0.11977913112474252, 0.1075389668871973, 0.04610255807439873, 0.008126637725028961, 0.009146559092910954, 0.007100699736849691, 0.007100699736935263, 0.007100699736865824, 0.007100699737207023, 0.007100699736762486, 0.00710069973676243, 0.007100699736762436, 0.007100700203093521, 0.007100699736762429, 0.007100699736763732, 0.007100927558849651, 0.007100699736762378, 0.007100699737054572, 0.0071006997393470795, 0.007100699736762426, 0.007100699736762531, 0.007100699736762411, 0.007100699736762466, 0.007100699736854282, 0.0071006997374316655, 0.007258356621563041, 0.007102240356648023, 0.007100786789671866, 0.00710070202734425, 0.007100701959529107, 0.007100701776694587, 0.0071007012284095335, 0.007100700959341273, 0.007100700870811304, 0.0071007008033971, 0.007100700647777228, 0.007100700470842017, 0.0071007004539183054, 0.00710070044122364, 0.007100700423589676, 0.007100700409465141, 0.007100700390734201, 0.00710070038485176, 0.007100700376698537, 0.1800076280276017, 0.14549590727573183, 0.13541472571751337, 0.11686493293444795, 0.10829569979586309, 0.08649411670222762, 0.1961043390116166, 0.06296492060478107, 0.08545044898003312, 0.17977844454431544, 0.2032356357236501, 0.06609786506042441, 0.007046411373155804, 0.00704641137353381, 0.007046411373788362, 0.007046411373424375, 0.007046411372985057, 0.0070464113729849995, 0.00704641137298552, 0.007046411372985031, 0.007046411372984999, 0.007046411372986287, 0.00704641272301308, 0.0070464113729849474, 0.007046411373273713, 0.0070464113730202204, 0.007046411372984996, 0.007046411372985098, 0.007046411372984981, 0.007046411372986691, 0.014964924336032871, 0.007046434722922485, 0.007046432847257923, 0.007046424134047913, 0.007046423030434384, 0.007046414875615587, 0.007046414338250438, 0.00704641370812132, 0.007046412804587036, 0.007046412804216532, 0.00704641264755171, 0.00704641250068676, 0.007046412409318122, 0.007046412302001646, 0.0070464122380292276, 0.007046412178469276, 0.007046412048149482, 0.15959241220718237, 0.17257298376293392, 0.2347073317032192, 0.15548543617841973, 0.08361593061316842, 0.11516671371669816, 0.08522439456412428, 0.03920772869888377, 0.007010606615322578, 0.0070106066154072885, 0.007010606615785934, 0.007010606615338549, 0.007010665534529841, 0.007010606615236252, 0.007010606615236195, 0.007010606615236201, 0.007010606615236216, 0.007010606615236195, 0.007010606615237484, 0.007010606615282004, 0.007010606615236143, 0.007010758674566189, 0.00701060661523618, 0.007010606615236192, 0.007010606615236294, 0.007010606615236176, 0.007010606615236231, 0.0070106066153271225, 0.007010606615898694, 0.007010606615236187, 0.007010612367200414, 0.007010611030720939, 0.00701060935426244, 0.0070106077901856585, 0.007010607452078817, 0.007010607349054486, 0.007010607297495432, 0.007010607241027246, 0.007010607194997508, 0.007010607127941307, 0.0070106071257022085, 0.007010607121962997, 0.007010607081333673, 0.0070106070452231675, 0.007010607037086087, 0.0070106070253118215, 0.00701060699441811, 0.007010606964735864, 0.007010606932830808, 0.0070106069003196035, 0.378690752684428, 0.11843849724689508, 0.0909049183506998, 0.06028569626785484, 0.10632236261331299, 0.06363192817603384, 0.006946768478533293, 0.006946765913019478, 0.006946765912951209, 0.006946765913286662, 0.0069467659128496125, 0.006946765912849556, 0.006946765912849564, 0.006946765912849578, 0.006946765912849556, 0.006946765912850836, 0.006946765912895052, 0.006946765912849504, 0.0069467659131367794, 0.006946765912849541, 0.0069467659128495535, 0.006946765912849655, 0.006946765912849537, 0.006946765912849592, 0.006946765912939862, 0.00694761639461575, 0.006946765912849547, 0.006946765912849573, 0.006946765912849548, 0.006946765912849541, 0.006946768345314357, 0.006946767687224599, 0.006946767113519212, 0.006946766913497601, 0.0069467669029317095, 0.006946766683221147, 0.0069467666318716245, 0.006946766616076871, 0.006946766597118506, 0.006946766570729879, 0.006946766558196381, 0.006946766437079884, 0.006946766401450626, 0.0069467663758444, 0.006946766367164452, 0.006946766335023926, 0.006946766327158498, 0.006946766327137805, 0.006946766311935675, 0.006946766305406227, 0.006946766303107082, 0.006946766296531873, 0.25114204283808067, 0.10473078181432381, 0.09614467307366917, 0.07732930320465108, 0.09210977109297432, 0.12465692347144827, 0.0266439611801449, 0.006923775439631694, 0.006923775439715486, 0.00692377544009002, 0.006923775439647492, 0.006923775439981589, 0.006923775439546307, 0.00692377543954625, 0.006923775439546258, 0.006923775439546272, 0.00692377543954625, 0.006923775439547526, 0.006923775439591562, 0.0069237754395462, 0.006923775439832312, 0.006923775439546236, 0.0069237754395462476, 0.00692377543954635, 0.006923775439546232, 0.006923775439546287, 0.006923775439636191, 0.006923775440201556, 0.0069237754395462415, 0.006923775439546268, 0.021691685406899693, 0.020492323765146817, 0.008064597107238466, 0.008833810504649037, 0.007111168639169792, 0.006923783118405336, 0.006923783118030623, 0.006923781424888591, 0.006923778536225039, 0.006923778507110943, 0.006923778383252567, 0.006923778052855209, 0.006923778010993122, 0.006923777959306506, 0.006923777679369587, 0.006923777655147997, 0.006923777536569061, 0.006923777108646023, 0.006923777102394415, 0.0069237769439421054, 0.006923776720098708, 0.006923776618481376, 0.006923776596102652, 0.0951578515932531, 0.13529067798433955, 0.08818571471895233, 0.10401965013781822, 0.11578825871901872, 0.03822949990639867, 0.0310808649223648, 0.006875614205496411, 0.006875614205579791, 0.006875614205952488, 0.006875614205512132, 0.00687561420584459, 0.006875614205411443, 0.006875614205411386, 0.006875614205411394, 0.006875614205411407, 0.006875614205411386, 0.006875614205412654, 0.006875614205456476, 0.006875614205411335, 0.006875614205696045, 0.0068756142054113715, 0.006875614205411383, 0.006875614205411484, 0.006875614205411368, 0.006875614205411421, 0.006875614205500886, 0.006875614206063477, 0.0068756142054113775, 0.0068756142054114035, 0.006875615697824425, 0.006875615628269817, 0.006875615464348138, 0.006875615371634191, 0.00687561531749475, 0.006875615174497277, 0.006875615012407504, 0.006875614990849569, 0.00687561490543058, 0.0068756148881590545, 0.0068756148850102755, 0.006875614831720115, 0.006875614810243596, 0.006875614771408417, 0.006875614727496967, 0.0068756146902752705, 0.006875614682604725, 0.006875614661711679, 0.006875614660467478, 0.006875614654172736, 0.006875614639626444, 0.006875614625706447, 0.006875614609773959, 0.2566166356318964, 0.13135594268430026, 0.08008009905693146, 0.062067829254203996, 0.006868740170390224, 0.006868740170473611, 0.00686874017084634, 0.006868740170405946, 0.006868740170738432, 0.006868740170305248, 0.006868740170305193, 0.0068687401703051995, 0.0068687401703052126, 0.006868740170305193, 0.006868740170306461, 0.006868740170350285, 0.006868740170305141, 0.006868740170589875, 0.006868740170305177, 0.006868740170305189, 0.006868740170305291, 0.006868740170305174, 0.006868740170305228, 0.0068687401703947, 0.006868740170988523, 0.006868740170305184, 0.006868740170305209, 0.006868740170305185, 0.006868740170305177, 0.006868740170305257, 0.006868792687016245, 0.0068687426349435575, 0.006868741110948785, 0.006868740997961823, 0.0068687409571060315, 0.006868740871321631, 0.006868740871267972, 0.0068687408502467176, 0.006868740797919142, 0.0068687407912561066, 0.0068687407794619446, 0.006868740702945989, 0.0068687406486735375, 0.006868740581982601, 0.0068687405810801475, 0.006868740516852568, 0.0068687405129983945, 0.006868740497915681, 0.006868740464297942, 0.0068687404601091, 0.006868740457764731, 0.006868740435241771, 0.006868740403585632, 0.006868740403529179, 0.00686874039409314, 0.006868740392057279, 0.14808104294332833, 0.09184808429853347, 0.0970453174677499, 0.0652840300937844, 0.08828232786685986, 0.006863081490290695, 0.006863081490374043, 0.006863081490746592, 0.00686308149030641, 0.006863081490638736, 0.00686308149020576, 0.006863081490205704, 0.006863081490205712, 0.006863081490205725, 0.006863081490205704, 0.006863081490206973, 0.006863081490250776, 0.006863081490205654, 0.0068630861440222915, 0.0068630814902056895, 0.006863081490205702, 0.006863081490205802, 0.006863081490205687, 0.006863081490205741, 0.006863081516317103, 0.006863081490857536, 0.006863081490205696, 0.0068630814902057215, 0.006863081490205697, 0.0068630814902056895, 0.006863083527035095, 0.006863083181052068, 0.006863083127326257, 0.006863083051916836, 0.006863082485214162, 0.006863082320748261, 0.006863082122528922, 0.006863081965502796, 0.006863081889470737, 0.0068630818680532986, 0.006863081846957162, 0.0068630818327932155, 0.006863081827225136, 0.006863081801446334, 0.0068630818007737755, 0.006863081784903955, 0.006863081752308781, 0.006863081750568768, 0.006863081742223535, 0.006863081741912561, 0.006863081728980528, 0.0068630817269882596, 0.006863081726092411, 0.0068630817015748686, 0.10374251860315749, 0.0823071603897264, 0.13131529856049326, 0.08123272066451372, 0.0724856751623591, 0.006831258710204964, 0.00683125870954316, 0.0068312587099140214, 0.006831259069373296, 0.00683125870937564, 0.006831258709382902, 0.006831258709375592, 0.006831258709375605, 0.006831258709375584, 0.006831258709376847, 0.006831258709375534, 0.006831258709658841, 0.006831258709375569, 0.0068312587093755815, 0.006831258709375681, 0.006831258709375566, 0.00683125870937562, 0.006831258709464642, 0.006831258710024464, 0.006831258709375575, 0.0068312587093756014, 0.006831258709375577, 0.006831258709375569, 0.006831258709375578, 0.006831258716051469, 0.006831445099849256, 0.006831270082260479, 0.006831262082096423, 0.006831260026431913, 0.006831259571382577, 0.006831259234955694, 0.006831259172993163, 0.006831259081317614, 0.006831259073565185, 0.006831259037491343, 0.006831259024296383, 0.0068312589899530915, 0.006831258960751353, 0.006831258939899861, 0.006831258934132145, 0.006831258933799227, 0.006831258910895014, 0.006831258904222909, 0.006831258875166446, 0.006831258868434168, 0.006831258855870855, 0.006831258829223428, 0.006831258827335219, 0.0068312588137414785, 0.10796717165141118, 0.12529914202920864, 0.11207630885759935, 0.006812454804897078, 0.00681245480497989, 0.006812454805350147, 0.006812454804912689, 0.006812454805242881, 0.006812454897345632, 0.006812454804812631, 0.006812454804812639, 0.006812454804812653, 0.006812454809649632, 0.0068124548048138925, 0.006812454804857414, 0.006812454804812581, 0.00681245480509535, 0.0068124548048126175, 0.006812454804812629, 0.006812454804812729, 0.006812454804812613, 0.006812454804812668, 0.006812454805460277, 0.006812454804812623, 0.006812454804812649, 0.0068124548048126244, 0.0068124548048126175, 0.006812454804812626, 0.00681245480481265, 0.006812454804813594, 0.006812865525419828, 0.006812455850036536, 0.0068124554285668056, 0.006812455311783797, 0.00681245528531301, 0.006812455264522963, 0.006812455239310489, 0.006812455188693587, 0.006812455141469212, 0.006812455067797003, 0.006812455049564528, 0.006812455026822603, 0.006812455009666887, 0.006812455004476925, 0.006812454995513899, 0.006812454982391964, 0.00681245497884562, 0.00681245495820479, 0.006812454956320088, 0.006812454949178608, 0.006812454947124281, 0.006812454944534766, 0.0068124549408585, 0.006812454919279861, 0.006812454907640971, 0.006812454899696494, 0.13493547645423562, 0.11669523274243794, 0.07487584046115682, 0.0629668495575126, 0.06942858176877337, 0.056996735592765746, 0.040506066905552876, 0.006785447438565206, 0.0067854474386474725, 0.006785447439015191, 0.006785447438580717, 0.006785447438908733, 0.006785447438481372, 0.006785447438481316, 0.006785447438481324, 0.006785447438481337, 0.006785447438481316, 0.006785447438482569, 0.006785447438525803, 0.006785447438481267, 0.006785447438762173, 0.0067854474384813025, 0.006785447438481314, 0.0067854474384814135, 0.006785447438481299, 0.006785447438481352, 0.006785447438569622, 0.0067854474391246975, 0.006785447438481308, 0.006785447438481334, 0.011738230937011618, 0.006785454944294299, 0.006785454615856272, 0.0067854531193296645, 0.0067854528272030465, 0.0067854504528200785, 0.0067854485289807545, 0.006785448526631875, 0.00678544840544119, 0.006785448296665918, 0.0067854482151784015, 0.006785448097270201, 0.006785448022009352, 0.006785448017827649, 0.0067854479772149956, 0.006785447955584534, 0.006785447953914163, 0.00678544793497723, 0.00678544793371965, 0.006785447877513867, 0.006785447870392413, 0.006785447862084052, 0.006785447822159151, 0.11757674780041917, 0.06940330409508445, 0.01303188909908896, 0.0067750314089429185, 0.006775031409025393, 0.006775031409394042, 0.006775031408958469, 0.006775031409287316, 0.006775031408858872, 0.0067750314088588165, 0.006775031408858824, 0.006775031408858838, 0.0067750314088588165, 0.0067750314088600725, 0.006775031408903417, 0.006775031408858767, 0.006775031409140384, 0.006775031408858803, 0.006775031408858814, 0.0067750314088589145, 0.006775031408858799, 0.006775031408858853, 0.006775031408947345, 0.006775031409503827, 0.006775031408858808, 0.006775031408858834, 0.006775031408858809, 0.006775031408858803, 0.006775031408858811, 0.006775031408858835, 0.006775037369440397, 0.006775032838714892, 0.006775032395837959, 0.0067750320746693075, 0.006775031955238754, 0.006775031921719322, 0.006775031864315624, 0.0067750318408426385, 0.006775031779857501, 0.0067750317797199795, 0.0067750317661444985, 0.006775031611516719, 0.006775031563386596, 0.006775031560082931, 0.0067750315499349, 0.006775031537255396, 0.006775031535351853, 0.006775031533537301, 0.00677503151858523, 0.0067750315097216875, 0.006775031508445579, 0.006775031506280305, 0.0067750315062544185, 0.006775031498283837, 0.006775031496580355, 0.0067750314947298135, 0.006775031494436796, 0.08031449000627484, 0.08500367838900168, 0.006765216542243152, 0.006765216542325525, 0.006765216542693722, 0.006765216542258682, 0.006765216542587126, 0.006765216542159208, 0.006765216542159154, 0.0067652165421591606, 0.0067652165421591744, 0.006765216542159154, 0.006765216542160408, 0.006765216542203699, 0.006765216542159103, 0.006765216542440375, 0.006765216542159139, 0.00676521654215915, 0.006765216542159251, 0.006765216542159135, 0.006765216542159188, 0.0067652165422475725, 0.00676521654280337, 0.006765216542159145, 0.00676521654215917, 0.006765216542159146, 0.006765216542159139, 0.0067652165421591475, 0.006765216542159171, 0.006765216542159146, 0.006765379859952456, 0.006765227370329169, 0.006765217616478634, 0.006765217329924408, 0.006765216917638171, 0.006765216781099353, 0.006765216746185552, 0.006765216711116337, 0.006765216700941335, 0.006765216680371101, 0.00676521667348024, 0.006765216668984747, 0.006765216662242938, 0.006765216655786578, 0.006765216652076253, 0.006765216650054625, 0.006765216636200886, 0.00676521662785545, 0.0067652166237300165, 0.00676521662000085, 0.006765216616712314, 0.006765216611165545, 0.006765216609922114, 0.006765216599595883, 0.006765216595209662, 0.006765216591407783, 0.0067652165912082405, 0.00676521658840456], \"Total\": [8.0, 10.0, 41.0, 10.0, 31.0, 20.0, 27.0, 4.0, 25.0, 23.0, 19.0, 15.0, 14.0, 20.0, 9.0, 18.0, 12.0, 15.0, 16.0, 18.0, 22.0, 16.0, 21.0, 16.0, 13.0, 11.0, 15.0, 8.0, 12.0, 6.0, 41.81727055000144, 31.74132553126749, 15.077655369622148, 11.387201810321644, 11.265992754233991, 11.14749336098979, 10.956301921901977, 11.094758173454307, 10.618380529912978, 10.089655942998629, 9.95940152427724, 10.273783488533228, 9.617258702651446, 9.564321093699517, 9.426742284477173, 9.356527905335575, 9.229544602060884, 9.369939062695922, 9.005568376916234, 10.21824443113496, 8.883362406878499, 8.838811858459882, 18.23978850738578, 8.729417707205672, 8.618357884780892, 8.59763956369083, 16.39932870514349, 8.328725956759905, 8.18638926573884, 8.164425933497863, 27.38780828306569, 9.631912712466255, 11.085535142766796, 15.408155912750136, 10.638593300863228, 11.696834893263947, 17.26301920227079, 14.29592706716242, 22.910528972836477, 12.9911966551333, 12.833553908425463, 17.886763498695053, 38.23430175643498, 16.508501622374695, 24.756895414945806, 18.53618191194597, 15.340189422515841, 14.010642724065464, 18.881022064411344, 19.488347724155762, 13.68420957548219, 16.450496620265053, 22.335021412901124, 19.021635333847566, 21.653867759587005, 20.581351590920885, 31.161663035306095, 31.853355144026057, 21.83212968755146, 19.55399051133932, 20.98934264432758, 19.538725245786438, 25.27023321876557, 21.783197880060932, 24.444992797443188, 24.5905829324712, 10.347799747179511, 11.281788949646469, 9.966924222031276, 9.282669798897215, 7.8806742483640235, 7.39817741484215, 7.285756495250373, 7.372107026882684, 7.087707197108831, 6.820414273211792, 6.739412467682506, 6.68213297462863, 6.656756375798166, 6.458593762327061, 6.588070821742422, 6.309155545596108, 7.823517316675978, 6.20352144696836, 6.117159711145662, 6.9581045075496295, 5.950209751361753, 5.912571991006807, 5.83611959988683, 5.815410397247728, 5.677033139744792, 5.66425582950274, 5.4926811423431445, 5.489969048580835, 5.486999884118134, 5.418870008794521, 7.811763788793675, 14.260955897418075, 8.116803812623855, 8.812217207805466, 6.788235107205612, 15.771301095852907, 25.313970907168116, 8.493952876851013, 6.88575726091934, 11.516624931671812, 8.154494514441812, 8.71198449813751, 15.021016170776942, 23.304312753354118, 10.227104568150397, 20.070366610978787, 16.443391350406305, 9.930006555450055, 19.391015265252943, 14.089148682215487, 11.566449498212924, 12.503812838928624, 19.95687649172956, 20.659189705500964, 31.161663035306095, 19.03537845451597, 14.458342739095302, 24.444992797443188, 25.27023321876557, 10.908014873504142, 22.77359811018887, 9.501493255463155, 8.44993021299971, 6.863615818147219, 6.77562401118408, 6.535480800427968, 6.463561526100568, 6.277336715850714, 6.063736683458676, 5.912329937884245, 5.852352693925965, 5.830913678994433, 5.680699444727822, 5.446329449144891, 5.3153336442661665, 5.306279160470905, 5.277766248309249, 5.136718917235768, 5.046913838916905, 4.866146250979534, 4.735652326473055, 5.666120123162904, 4.524030605585706, 4.452411398653484, 4.392476158570275, 4.384882756131549, 4.292053983866549, 4.081292960280849, 4.0774970985039465, 3.9899712662001257, 3.9806951855891395, 5.886715369536629, 4.406335997067319, 4.488709130268361, 12.126572827449964, 20.36765562284193, 6.8932474817752745, 20.39668641529727, 6.872401788911621, 23.365194725310158, 8.854361819371523, 18.828580299940377, 16.80397127110988, 19.162102479350427, 10.428809239789107, 7.77906177513483, 6.24356425970588, 5.711875444708556, 5.3331228771192265, 5.322386712493796, 5.185747112681195, 5.156572126794133, 5.000466422897319, 4.990622269837211, 4.977675441892196, 4.808752186059551, 4.796540347839808, 4.692787956106626, 4.566460355781132, 4.52806647847306, 4.517615097808406, 4.460658821009994, 4.44914143827196, 4.437351452959466, 4.435339152740422, 4.334837651394652, 5.124672414905538, 4.214584159857987, 4.212427400288353, 4.091461793886089, 4.074739990884118, 4.055959526531616, 4.027976785688465, 4.001291988243951, 3.990081018328268, 4.591953293034013, 7.490409406272149, 4.8927752589985944, 6.6991370356161175, 6.1369018531915716, 6.243739888031192, 7.563349115416329, 10.249887590695591, 9.010193796996896, 8.08289883980785, 12.884476939551167, 6.6249488859520405, 9.097497387754045, 8.360552561365347, 19.162102479350427, 21.27736220656077, 15.585438001628452, 9.947501596180473, 18.151501964828277, 13.134642121928078, 15.170561498160096, 23.365194725310158, 16.537146623977165, 11.645161691802599, 16.69656659862598, 11.66848375719951, 9.778241376025667, 11.694256985819989, 10.675437492633074, 31.853355144026057, 13.33092882541288, 15.227787013718768, 15.800670482084705, 20.36765562284193, 1.4316558528449341, 1.427263843619429, 1.5629175109096014, 1.343551589677703, 1.747874985142069, 1.7033933570655402, 1.1190265261172079, 1.067144879545197, 1.1968825528225149, 2.313147918115414, 2.226379094507667, 1.2514744964702342, 0.941343543940333, 0.9000919200793744, 0.8427162955405643, 1.5230218240873543, 0.8055695276660854, 0.7582919115880925, 0.7390288976742295, 1.2250725701397855, 0.7192764686498675, 0.7090094129236003, 1.9821809432654347, 1.1647479151433178, 0.6756797328379585, 0.667746670639884, 0.8574884160033843, 0.6534886065990925, 2.391961128525739, 1.7716965737001868, 2.9028858478348902, 1.3716179566679518, 0.9701765385639491, 4.682821482190988, 8.703715445601334, 1.2783145945358176, 2.3139969043680715, 1.1969802539115344, 10.8123078611919, 2.240394545629362, 2.8929389769050475, 10.080868911096376, 0.6176475608932879, 0.4639850157380236, 0.45518600471993015, 0.4529970123485261, 0.4462439850964127, 0.4457670158822129, 0.43250225422397603, 0.43045239455962764, 0.41766088125375206, 0.4177188325187661, 0.4047465655239856, 0.40189872693303125, 0.8711216923668192, 0.38028239387147666, 0.5237168622984573, 0.39728254592378526, 0.36089236607087777, 0.34149373129072236, 0.38832889800036496, 0.38370605841639405, 0.7885750581388933, 2.1882000121065737, 0.599430665811674, 0.9641694635094518, 0.33810378307563405, 0.34336055927443965, 0.3577705216879946, 0.3635709022012334, 0.3954140137695401, 0.3698963345108936, 0.9454918665665039, 1.3243389332748872, 1.886367103957261, 1.5856045740289675, 1.2547601583385963, 0.48276874157490196, 0.42510495737026766, 0.4221344416347713, 0.7192251537266295, 0.6947055114943421, 0.573290433194797, 1.0119536138021403, 0.7832633450868469, 0.6447219541397545, 0.56815839168962, 0.5601061329248183, 0.5299679121215388, 0.716925654458333, 0.4457670158822129, 0.33810378307563405, 0.34149373129072236, 0.34336055927443965, 0.3577705216879946, 0.36089236607087777, 0.3635709022012334, 1.9964881083298445, 0.3698963345108936, 0.3702599539213881, 0.3705237261529586, 0.3709878622607378, 0.3767199157695221, 0.37898225855972373, 0.3802195215323415, 0.38028239387147666, 0.38045605344483, 3.457684065887581, 0.9583732779994641, 1.5149612160632224, 3.7482945193757233, 0.45876751608696115, 0.9375813165573537, 0.45020930567033063, 0.5810721769130455, 0.5786326338462195, 0.5347989190707563, 0.7562585261233724, 0.6153840774712591, 0.619500854789545, 0.7881852274211903, 0.6012611206998748, 0.5163423093014803, 0.4639942069265441, 1.1739600375063788, 0.7578144397291824, 0.6253807421530667, 0.8441754019400053, 0.8148799055151363, 0.586209123625283, 0.34336055927443965, 0.4117726331430251, 0.33810378307563405, 0.34149373129072236, 0.3577705216879946, 0.36089236607087777, 0.3635709022012334, 0.3698963345108936, 0.3702599539213881, 0.3705237261529586, 0.3709878622607378, 0.3767199157695221, 0.37898225855972373, 0.3802195215323415, 0.38028239387147666, 0.38045605344483, 0.3807166301946195, 0.3807684938694175, 0.3815903606538862, 0.38237061872363376, 0.38319020781472424, 0.38370605841639405, 0.9092349549773471, 0.43250225422397603, 1.311582594371916, 0.4500042972835095, 0.4037333625242795, 0.39634637520288885, 0.4253284388154509, 0.3900341000716636, 0.39771378115645784, 0.5324282099912147, 0.43497841373397483, 0.39710879709078134, 0.5190729707617231, 0.4970542187059492, 0.4619742466629449, 0.46538627332455185, 0.41877067421487363, 0.42318017775027506, 0.4953457170173257, 0.455037643960057, 0.4297880002687016, 0.4103783451134283, 0.3954140137695401, 0.5307609562487515, 0.4500042972835095, 1.046922505660577, 0.33810378307563405, 0.5568660836686113, 1.412648297801251, 2.3117137005897077, 0.7779013479809718, 0.34149373129072236, 0.34336055927443965, 0.3577705216879946, 0.36089236607087777, 0.3635709022012334, 0.3698963345108936, 0.3702599539213881, 0.3705237261529586, 0.3709878622607378, 0.3767199157695221, 0.37898225855972373, 0.3802195215323415, 0.38028239387147666, 0.38045605344483, 0.3807166301946195, 0.3807684938694175, 0.3815903606538862, 0.38237061872363376, 1.0677900240351053, 0.9502400409933548, 0.4047465655239856, 0.4639850157380236, 0.9375813165573537, 0.4177188325187661, 0.48667378183090754, 0.4868594088069947, 0.4115734161825979, 0.4235293166875883, 0.387627097646723, 0.5164171997917324, 0.5974007352360016, 0.4101396396617592, 0.4212061516998702, 0.7644220979025202, 0.46409048019122356, 0.4345302836329203, 0.5110119263246498, 0.760149874659429, 0.7811543507441986, 0.4621772542858337, 0.7045236397642413, 0.6364095003112565, 0.41540662320004657, 0.33810378307563405, 0.34149373129072236, 0.34336055927443965, 0.3577705216879946, 0.36089236607087777, 0.3635709022012334, 0.3698963345108936, 0.3702599539213881, 0.3705237261529586, 0.3709878622607378, 0.3767199157695221, 0.37898225855972373, 0.3802195215323415, 0.38028239387147666, 0.38045605344483, 0.3807166301946195, 0.3807684938694175, 0.3815903606538862, 0.38237061872363376, 0.38319020781472424, 0.38370605841639405, 0.38416946590872647, 0.4291420219514242, 0.39728254592378526, 0.4726363120231179, 0.38821167861764805, 0.5456123957493144, 0.44941149400949054, 0.42393725288927525, 0.6011689214906725, 0.4342093479427161, 0.6202919188752914, 0.4675132851452777, 0.4235293166875883, 0.4808863194971528, 0.6433209551483475, 0.598325508595869, 0.446535446412544, 0.4676560866427275, 0.5116358788145128, 0.4293966671883526, 0.573290433194797, 0.9013965306512522, 0.4117726331430251, 0.43849839148787295, 0.34336055927443965, 0.7407951332394136, 0.46063964978114824, 0.33810378307563405, 0.34149373129072236, 0.3577705216879946, 0.36089236607087777, 0.3635709022012334, 0.3698963345108936, 0.3702599539213881, 0.3705237261529586, 0.3709878622607378, 0.3767199157695221, 0.37898225855972373, 0.3802195215323415, 0.38028239387147666, 0.38045605344483, 0.3807166301946195, 0.3807684938694175, 0.3815903606538862, 0.38237061872363376, 0.38319020781472424, 0.38370605841639405, 0.38416946590872647, 0.38519916136512883, 0.3854741780663376, 0.38558137825328703, 0.5222840912736884, 0.4708173702689492, 0.8368136613820039, 0.8102530257836069, 0.5113428583255283, 0.45229250656419306, 0.4656241953607244, 0.6276965025782909, 0.6814271445872783, 0.4687667000321862, 0.41766088125375206, 0.569558730697163, 0.7440617362925269, 1.3621472377315698, 0.4949093130641787, 0.4830968663289636, 0.4105621403497563, 0.7529459482639073, 0.4509519540383681, 0.6371948568627, 0.743608341087834, 0.6466184298151829, 1.318963413498994, 0.692394283173149, 0.7369316104606545, 0.7107540464108741, 0.8704396842039177, 2.00358455345513, 0.8315225575646235, 0.33810378307563405, 0.34149373129072236, 0.34336055927443965, 0.3577705216879946, 0.36089236607087777, 0.3635709022012334, 0.3698963345108936, 0.3702599539213881, 0.3705237261529586, 0.3709878622607378, 0.3767199157695221, 0.37898225855972373, 0.3802195215323415, 0.38028239387147666, 0.38045605344483, 0.3807166301946195, 0.3807684938694175, 0.3815903606538862, 0.38237061872363376, 0.38319020781472424, 0.38370605841639405, 0.38416946590872647, 0.38519916136512883, 1.6481048194146133, 1.600818459246407, 0.702525539040411, 1.6957962803222553, 0.6022462027620258, 0.4748199601820293, 0.5013160423196364, 0.4496396996749686, 0.39316154119784713, 0.485311742976655, 0.5921709038329843, 0.416162385153614, 0.7288122915922858, 0.6070555052255797, 0.6340661267424659, 0.4770586824394279, 0.5141582140290799, 0.4342093479427161, 0.868903006458323, 0.5457086733941188, 0.4211842859287597, 0.42379147552003543, 0.5269215555480986, 0.5160211135203862, 0.7644220979025202, 0.5605958460065545, 0.8035000084193837, 0.9355771450724393, 0.4987885601718649, 0.9466059924021847, 0.33810378307563405, 0.34149373129072236, 0.34336055927443965, 0.3577705216879946, 0.36089236607087777, 0.3635709022012334, 0.3698963345108936, 0.3702599539213881, 0.3705237261529586, 0.3709878622607378, 0.3767199157695221, 0.37898225855972373, 0.3802195215323415, 0.38028239387147666, 0.38045605344483, 0.3807166301946195, 0.3807684938694175, 0.3815903606538862, 0.38237061872363376, 0.38319020781472424, 0.38370605841639405, 0.38416946590872647, 0.38519916136512883, 0.41257482480803026, 0.4127881492072055, 0.4266570540467023, 0.43935829078577016, 0.4491385011783206, 0.45500776069517046, 0.44471857261668285, 0.403072133706078, 0.4739321647458007, 0.415792623453453, 0.4540631322139009, 0.458479897596657, 0.4619755952450957, 0.4502608089698538, 0.5370049900188101, 0.49336850009187044, 0.43609471278211276, 0.4791287517774082, 0.4192898000332246, 0.4195368918951276, 0.6865744225553103, 0.4174207077882671, 0.4550761890882841, 0.5319375963347457, 0.7147520931951494, 0.6081920407653588, 1.9778812163771455, 0.33810378307563405, 0.34149373129072236, 0.34336055927443965, 0.3577705216879946, 0.36089236607087777, 0.3635709022012334, 0.3698963345108936, 0.3702599539213881, 0.3705237261529586, 0.3709878622607378, 0.3767199157695221, 0.37898225855972373, 0.3802195215323415, 0.38028239387147666, 0.38045605344483, 0.3807166301946195, 0.3807684938694175, 0.3815903606538862, 0.38237061872363376, 0.38319020781472424, 0.38370605841639405, 0.38416946590872647, 0.38519916136512883, 0.3854741780663376, 0.38558137825328703, 0.3857470201484839, 0.43250225422397603, 0.49321303564473556, 0.43400539396789206, 0.8102530257836069, 0.4058865994618418, 0.8186891511566287, 0.4381347267101127, 0.4389867637950194, 0.41377524251396475, 0.6865744225553103, 0.42428323996705225, 0.8972116873207976, 0.7295309710958466, 2.5521612644092744, 0.9743811746823995, 1.343551589677703, 0.43726701554351816, 0.4526181379325941, 0.8546880499901146, 0.7615949042243968, 0.490661676918547, 0.4485091537058333, 0.9800121264773142, 0.4710831415300531, 1.4919390418216307, 0.5048615553917721, 0.42338705915192293, 0.7165499358637007, 0.7989947418542118, 0.5781322625786867, 1.5472417269459697, 0.33810378307563405, 0.34149373129072236, 0.34336055927443965, 0.3577705216879946, 0.36089236607087777, 0.3635709022012334, 0.3698963345108936, 0.3702599539213881, 0.3705237261529586, 0.3709878622607378, 0.3767199157695221, 0.37898225855972373, 0.3802195215323415, 0.38028239387147666, 0.38045605344483, 0.3807166301946195, 0.3807684938694175, 0.3815903606538862, 0.38237061872363376, 0.38319020781472424, 0.38370605841639405, 0.38416946590872647, 0.38519916136512883, 0.3854741780663376, 0.38558137825328703, 0.45168417113642634, 0.6439854893193456, 0.5668639553839047, 0.5815699381728735, 0.8157642098715088, 0.7641029562972289, 1.107384857290412, 0.425711098260294, 0.4319420547369707, 0.4702453629412662, 0.5602864483848463, 0.8920672989099773, 0.4418396346835675, 0.44568068023824353, 0.6028135906093082, 0.49929155760741617, 0.7667691982183846, 0.5970978762525772, 0.4318449803092959, 0.43284689290213585, 0.468224722199856, 0.6280196694946331, 1.9107604767303565, 0.4404453023728496, 0.37898225855972373, 0.3577705216879946, 0.6033306753940135, 0.618517372061039, 0.6644789084862376, 0.33810378307563405, 0.34149373129072236, 0.34336055927443965, 0.36089236607087777, 0.3635709022012334, 0.3698963345108936, 0.3702599539213881, 0.3705237261529586, 0.3709878622607378, 0.3767199157695221, 0.3802195215323415, 0.38028239387147666, 0.38045605344483, 0.3807166301946195, 0.3807684938694175, 0.3815903606538862, 0.38237061872363376, 0.38319020781472424, 0.38370605841639405, 0.38416946590872647, 0.38519916136512883, 0.3854741780663376, 0.38558137825328703, 0.3857470201484839, 0.3864424842183702, 1.0015775560790012, 1.747874985142069, 0.7112834342173097, 0.6125516682253819, 1.1433244428499119, 0.6828280542810378, 1.7176722213730438, 1.7199031961359068, 1.5239393321157266, 1.8646315428905356, 2.352501215164467, 0.5220803211627152, 0.9433738076369232, 0.5480052188710988, 1.3396621458336648, 0.4103783451134283, 1.0129587741804904, 0.9168724041948959, 1.1567503171115916, 2.2154081815736455, 1.7608602816086754, 1.2046386033508425, 1.631022471018325, 3.1383104490366356, 0.38319020781472424, 0.48199514166484136, 0.586209123625283, 0.33810378307563405, 0.34149373129072236, 0.34336055927443965, 0.3577705216879946, 0.36089236607087777, 0.3635709022012334, 0.3698963345108936, 0.3702599539213881, 0.3705237261529586, 0.3709878622607378, 0.3767199157695221, 0.37898225855972373, 0.3802195215323415, 0.38028239387147666, 0.38045605344483, 0.3807166301946195, 0.3807684938694175, 0.3815903606538862, 0.38237061872363376, 0.38370605841639405, 0.38416946590872647, 0.38519916136512883, 0.3854741780663376, 0.38558137825328703, 0.3857470201484839, 0.3864424842183702, 0.387627097646723, 0.4639942069265441, 0.4002898280324744, 0.4452219823665297, 0.47134499936775265, 0.458871704238753, 0.525498766945766, 0.6021191359236335, 0.5270035004582565, 0.42338705915192293, 0.5160211135203862, 0.4645439887769361, 0.43535096586171945, 0.5630419928464114, 0.5071852066963031, 0.5109117703075085, 0.47330634107615766, 0.5278249409259612, 0.5286822714949116, 0.8401685411950116, 0.6287921525212612, 0.4556934027342644, 0.6958054024736339, 0.5793520875296486, 0.7307995837399592, 0.596282707286328, 0.4796402225062335, 0.5550460810124538, 0.6021191359236335, 0.4859140102613994, 0.49749078264357716, 0.7316500238124125, 0.8389676180525292, 1.286438732780302, 0.33810378307563405, 0.34149373129072236, 0.34336055927443965, 0.3577705216879946, 0.36089236607087777, 0.3635709022012334, 0.3698963345108936, 0.3702599539213881, 0.3705237261529586, 0.3709878622607378, 0.3767199157695221, 0.37898225855972373, 0.3802195215323415, 0.38028239387147666, 0.38045605344483, 0.3807166301946195, 0.3807684938694175, 0.3815903606538862, 0.38237061872363376, 0.38319020781472424, 0.38370605841639405, 0.38416946590872647, 0.38519916136512883, 0.7301897141056483, 0.71777511950264, 0.45125731646395245, 0.3934814806655697, 0.7752840046295875, 0.5709331305887932, 1.6039557956573605, 0.41577503773573077, 0.41877067421487363, 0.454411658291494, 0.5835219280903019, 0.5656315726706131, 0.6283154624445779, 0.42393725288927525, 0.49204813309689027, 0.7297781205367952, 0.634388494597601, 0.4912789955870419, 4.977675441892196, 0.4845434028188496, 2.565548225972336, 0.4970540602175021, 0.502586728172399, 0.7299880852218578, 0.479154236046269, 0.599430665811674, 0.33810378307563405, 0.34149373129072236, 0.34336055927443965, 0.3577705216879946, 0.36089236607087777, 0.3635709022012334, 0.3698963345108936, 0.3702599539213881, 0.3705237261529586, 0.3709878622607378, 0.3767199157695221, 0.37898225855972373, 0.3802195215323415, 0.38028239387147666, 0.38045605344483, 0.3807166301946195, 0.3807684938694175, 0.3815903606538862, 0.38237061872363376, 0.38319020781472424, 0.38370605841639405, 0.38416946590872647, 0.38519916136512883, 0.3854741780663376, 0.38558137825328703, 0.3857470201484839, 0.3864424842183702, 0.43957264621408304, 0.443352761076606, 0.44937399011648926, 0.7117050629969925, 0.5853862122743281, 0.4867631146517984, 0.8050841244597511, 0.511560447825963, 0.5330523014858503, 0.7192214082411665, 0.49626578954540357, 0.5745786475788556, 0.6128945883474785, 0.6158046163874522, 0.5938316826487463, 0.6357258295279431, 0.989593730809313, 0.6355911076104729, 0.5317610826666104, 0.8277185177003717, 0.8182944197345612, 1.0952051257037616, 1.0705250360935252, 0.6622716952764474, 0.6806298724987405, 0.6861187702591746, 0.696063796419109, 0.48667378183090754, 0.5919129192109394, 0.33810378307563405, 0.34149373129072236, 0.34336055927443965, 0.3577705216879946, 0.36089236607087777, 0.3635709022012334, 0.3698963345108936, 0.3702599539213881, 0.3705237261529586, 0.3709878622607378, 0.3767199157695221, 0.37898225855972373, 0.3802195215323415, 0.38028239387147666, 0.38045605344483, 0.3807166301946195, 0.3807684938694175, 0.3815903606538862, 0.38237061872363376, 0.38319020781472424, 0.38370605841639405, 0.38416946590872647, 0.38519916136512883, 0.3854741780663376, 0.38558137825328703, 0.3857470201484839, 0.3864424842183702, 0.387627097646723, 0.4529970123485261, 0.5110119263246498, 0.838403719512167, 0.42656197527659784, 0.43409983519070017, 1.5230218240873543, 0.5174529155458198, 0.5376560267621349, 0.7092929756751678, 0.4303159070778681, 0.4307821875452289, 0.4527422896444824, 0.5708144425742034, 0.6329764800716732, 0.43957264621408304, 0.4401484130283182, 0.5004295960091308, 0.569600568925095, 0.4946873973681577, 0.6990822488310562, 0.4589300937418371, 0.7201170532468406, 0.5756084521081437, 0.772221168370082, 0.7473360568503843, 0.638481693187533, 0.8037449850234802, 0.5127098167717745], \"Category\": [\"Default\", \"Default\", \"Default\", \"Default\", \"Default\", \"Default\", \"Default\", \"Default\", \"Default\", \"Default\", \"Default\", \"Default\", \"Default\", \"Default\", \"Default\", \"Default\", \"Default\", \"Default\", \"Default\", \"Default\", \"Default\", \"Default\", \"Default\", \"Default\", \"Default\", \"Default\", \"Default\", \"Default\", \"Default\", \"Default\", \"Topic1\", \"Topic1\", \"Topic1\", \"Topic1\", \"Topic1\", \"Topic1\", \"Topic1\", \"Topic1\", \"Topic1\", \"Topic1\", \"Topic1\", \"Topic1\", \"Topic1\", \"Topic1\", \"Topic1\", \"Topic1\", \"Topic1\", \"Topic1\", \"Topic1\", \"Topic1\", \"Topic1\", \"Topic1\", \"Topic1\", \"Topic1\", \"Topic1\", \"Topic1\", \"Topic1\", \"Topic1\", \"Topic1\", \"Topic1\", \"Topic1\", \"Topic1\", \"Topic1\", \"Topic1\", \"Topic1\", \"Topic1\", \"Topic1\", \"Topic1\", \"Topic1\", \"Topic1\", \"Topic1\", \"Topic1\", \"Topic1\", \"Topic1\", \"Topic1\", \"Topic1\", \"Topic1\", \"Topic1\", \"Topic1\", \"Topic1\", \"Topic1\", \"Topic1\", \"Topic1\", \"Topic1\", \"Topic1\", \"Topic1\", \"Topic1\", \"Topic1\", \"Topic1\", \"Topic1\", \"Topic1\", \"Topic1\", \"Topic1\", \"Topic1\", \"Topic1\", \"Topic1\", \"Topic2\", \"Topic2\", \"Topic2\", \"Topic2\", \"Topic2\", \"Topic2\", \"Topic2\", \"Topic2\", \"Topic2\", \"Topic2\", \"Topic2\", \"Topic2\", \"Topic2\", \"Topic2\", \"Topic2\", \"Topic2\", \"Topic2\", \"Topic2\", \"Topic2\", \"Topic2\", \"Topic2\", \"Topic2\", \"Topic2\", \"Topic2\", \"Topic2\", \"Topic2\", \"Topic2\", \"Topic2\", \"Topic2\", \"Topic2\", \"Topic2\", \"Topic2\", \"Topic2\", \"Topic2\", \"Topic2\", \"Topic2\", \"Topic2\", \"Topic2\", \"Topic2\", \"Topic2\", \"Topic2\", \"Topic2\", \"Topic2\", \"Topic2\", \"Topic2\", \"Topic2\", \"Topic2\", \"Topic2\", \"Topic2\", \"Topic2\", \"Topic2\", \"Topic2\", \"Topic2\", \"Topic2\", \"Topic2\", \"Topic2\", \"Topic2\", \"Topic2\", \"Topic2\", \"Topic2\", \"Topic2\", \"Topic3\", \"Topic3\", \"Topic3\", \"Topic3\", \"Topic3\", \"Topic3\", \"Topic3\", \"Topic3\", \"Topic3\", \"Topic3\", \"Topic3\", \"Topic3\", \"Topic3\", \"Topic3\", \"Topic3\", \"Topic3\", \"Topic3\", \"Topic3\", \"Topic3\", \"Topic3\", \"Topic3\", \"Topic3\", \"Topic3\", \"Topic3\", \"Topic3\", \"Topic3\", \"Topic3\", \"Topic3\", \"Topic3\", \"Topic3\", \"Topic3\", \"Topic3\", \"Topic3\", \"Topic3\", \"Topic3\", \"Topic3\", \"Topic3\", \"Topic3\", \"Topic3\", \"Topic3\", \"Topic3\", \"Topic3\", \"Topic3\", \"Topic3\", \"Topic4\", \"Topic4\", \"Topic4\", \"Topic4\", \"Topic4\", \"Topic4\", \"Topic4\", \"Topic4\", \"Topic4\", \"Topic4\", \"Topic4\", \"Topic4\", \"Topic4\", \"Topic4\", \"Topic4\", \"Topic4\", \"Topic4\", \"Topic4\", \"Topic4\", \"Topic4\", \"Topic4\", \"Topic4\", \"Topic4\", \"Topic4\", \"Topic4\", \"Topic4\", \"Topic4\", \"Topic4\", \"Topic4\", \"Topic4\", \"Topic4\", \"Topic4\", \"Topic4\", \"Topic4\", \"Topic4\", \"Topic4\", \"Topic4\", \"Topic4\", \"Topic4\", \"Topic4\", \"Topic4\", \"Topic4\", \"Topic4\", \"Topic4\", \"Topic4\", \"Topic4\", \"Topic4\", \"Topic4\", \"Topic4\", \"Topic4\", \"Topic4\", \"Topic4\", \"Topic4\", \"Topic4\", \"Topic4\", \"Topic4\", \"Topic4\", \"Topic4\", \"Topic4\", \"Topic4\", \"Topic4\", \"Topic4\", \"Topic4\", \"Topic4\", \"Topic5\", \"Topic5\", \"Topic5\", \"Topic5\", \"Topic5\", \"Topic5\", \"Topic5\", \"Topic5\", \"Topic5\", \"Topic5\", \"Topic5\", \"Topic5\", \"Topic5\", \"Topic5\", \"Topic5\", \"Topic5\", \"Topic5\", \"Topic5\", \"Topic5\", \"Topic5\", \"Topic5\", \"Topic5\", \"Topic5\", \"Topic5\", \"Topic5\", \"Topic5\", \"Topic5\", \"Topic5\", \"Topic5\", \"Topic5\", \"Topic5\", \"Topic5\", \"Topic5\", \"Topic5\", \"Topic5\", \"Topic5\", \"Topic5\", \"Topic5\", \"Topic5\", \"Topic5\", \"Topic5\", \"Topic5\", \"Topic6\", \"Topic6\", \"Topic6\", \"Topic6\", \"Topic6\", \"Topic6\", \"Topic6\", \"Topic6\", \"Topic6\", \"Topic6\", \"Topic6\", \"Topic6\", \"Topic6\", \"Topic6\", \"Topic6\", \"Topic6\", \"Topic6\", \"Topic6\", \"Topic6\", \"Topic6\", \"Topic6\", \"Topic6\", \"Topic6\", \"Topic6\", \"Topic6\", \"Topic6\", \"Topic6\", \"Topic6\", \"Topic6\", \"Topic6\", \"Topic6\", \"Topic6\", \"Topic6\", \"Topic6\", \"Topic6\", \"Topic7\", \"Topic7\", \"Topic7\", \"Topic7\", \"Topic7\", \"Topic7\", \"Topic7\", \"Topic7\", \"Topic7\", \"Topic7\", \"Topic7\", \"Topic7\", \"Topic7\", \"Topic7\", \"Topic7\", \"Topic7\", \"Topic7\", \"Topic7\", \"Topic7\", \"Topic7\", \"Topic7\", \"Topic7\", \"Topic7\", \"Topic7\", \"Topic7\", \"Topic7\", \"Topic7\", \"Topic7\", \"Topic7\", \"Topic7\", \"Topic7\", \"Topic7\", \"Topic7\", \"Topic7\", \"Topic7\", \"Topic7\", \"Topic7\", \"Topic7\", \"Topic7\", \"Topic7\", \"Topic7\", \"Topic7\", \"Topic7\", \"Topic7\", \"Topic7\", \"Topic8\", \"Topic8\", \"Topic8\", \"Topic8\", \"Topic8\", \"Topic8\", \"Topic8\", \"Topic8\", \"Topic8\", \"Topic8\", \"Topic8\", \"Topic8\", \"Topic8\", \"Topic8\", \"Topic8\", \"Topic8\", \"Topic8\", \"Topic8\", \"Topic8\", \"Topic8\", \"Topic8\", \"Topic8\", \"Topic8\", \"Topic8\", \"Topic8\", \"Topic8\", \"Topic8\", \"Topic8\", \"Topic8\", \"Topic8\", \"Topic8\", \"Topic8\", \"Topic8\", \"Topic8\", \"Topic8\", \"Topic8\", \"Topic8\", \"Topic8\", \"Topic8\", \"Topic8\", \"Topic8\", \"Topic8\", \"Topic8\", \"Topic8\", \"Topic8\", \"Topic8\", \"Topic8\", \"Topic8\", \"Topic8\", \"Topic9\", \"Topic9\", \"Topic9\", \"Topic9\", \"Topic9\", \"Topic9\", \"Topic9\", \"Topic9\", \"Topic9\", \"Topic9\", \"Topic9\", \"Topic9\", \"Topic9\", \"Topic9\", \"Topic9\", \"Topic9\", \"Topic9\", \"Topic9\", \"Topic9\", \"Topic9\", \"Topic9\", \"Topic9\", \"Topic9\", \"Topic9\", \"Topic9\", \"Topic9\", \"Topic9\", \"Topic9\", \"Topic9\", \"Topic9\", \"Topic9\", \"Topic9\", \"Topic9\", \"Topic9\", \"Topic9\", \"Topic9\", \"Topic9\", \"Topic9\", \"Topic9\", \"Topic9\", \"Topic9\", \"Topic9\", \"Topic9\", \"Topic9\", \"Topic9\", \"Topic9\", \"Topic9\", \"Topic10\", \"Topic10\", \"Topic10\", \"Topic10\", \"Topic10\", \"Topic10\", \"Topic10\", \"Topic10\", \"Topic10\", \"Topic10\", \"Topic10\", \"Topic10\", \"Topic10\", \"Topic10\", \"Topic10\", \"Topic10\", \"Topic10\", \"Topic10\", \"Topic10\", \"Topic10\", \"Topic10\", \"Topic10\", \"Topic10\", \"Topic10\", \"Topic10\", \"Topic10\", \"Topic10\", \"Topic10\", \"Topic10\", \"Topic10\", \"Topic10\", \"Topic10\", \"Topic10\", \"Topic10\", \"Topic10\", \"Topic10\", \"Topic10\", \"Topic10\", \"Topic10\", \"Topic10\", \"Topic10\", \"Topic10\", \"Topic10\", \"Topic10\", \"Topic10\", \"Topic10\", \"Topic10\", \"Topic10\", \"Topic10\", \"Topic10\", \"Topic11\", \"Topic11\", \"Topic11\", \"Topic11\", \"Topic11\", \"Topic11\", \"Topic11\", \"Topic11\", \"Topic11\", \"Topic11\", \"Topic11\", \"Topic11\", \"Topic11\", \"Topic11\", \"Topic11\", \"Topic11\", \"Topic11\", \"Topic11\", \"Topic11\", \"Topic11\", \"Topic11\", \"Topic11\", \"Topic11\", \"Topic11\", \"Topic11\", \"Topic11\", \"Topic11\", \"Topic11\", \"Topic11\", \"Topic11\", \"Topic11\", \"Topic11\", \"Topic11\", \"Topic11\", \"Topic11\", \"Topic11\", \"Topic11\", \"Topic11\", \"Topic11\", \"Topic11\", \"Topic11\", \"Topic11\", \"Topic11\", \"Topic11\", \"Topic11\", \"Topic11\", \"Topic11\", \"Topic11\", \"Topic11\", \"Topic11\", \"Topic11\", \"Topic11\", \"Topic12\", \"Topic12\", \"Topic12\", \"Topic12\", \"Topic12\", \"Topic12\", \"Topic12\", \"Topic12\", \"Topic12\", \"Topic12\", \"Topic12\", \"Topic12\", \"Topic12\", \"Topic12\", \"Topic12\", \"Topic12\", \"Topic12\", \"Topic12\", \"Topic12\", \"Topic12\", \"Topic12\", \"Topic12\", \"Topic12\", \"Topic12\", \"Topic12\", \"Topic12\", \"Topic12\", \"Topic12\", \"Topic12\", \"Topic12\", \"Topic12\", \"Topic12\", \"Topic12\", \"Topic12\", \"Topic12\", \"Topic12\", \"Topic12\", \"Topic12\", \"Topic12\", \"Topic12\", \"Topic12\", \"Topic12\", \"Topic12\", \"Topic12\", \"Topic12\", \"Topic12\", \"Topic12\", \"Topic12\", \"Topic12\", \"Topic12\", \"Topic12\", \"Topic12\", \"Topic12\", \"Topic13\", \"Topic13\", \"Topic13\", \"Topic13\", \"Topic13\", \"Topic13\", \"Topic13\", \"Topic13\", \"Topic13\", \"Topic13\", \"Topic13\", \"Topic13\", \"Topic13\", \"Topic13\", \"Topic13\", \"Topic13\", \"Topic13\", \"Topic13\", \"Topic13\", \"Topic13\", \"Topic13\", \"Topic13\", \"Topic13\", \"Topic13\", \"Topic13\", \"Topic13\", \"Topic13\", \"Topic13\", \"Topic13\", \"Topic13\", \"Topic13\", \"Topic13\", \"Topic13\", \"Topic13\", \"Topic13\", \"Topic13\", \"Topic13\", \"Topic13\", \"Topic13\", \"Topic13\", \"Topic13\", \"Topic13\", \"Topic13\", \"Topic13\", \"Topic13\", \"Topic13\", \"Topic13\", \"Topic13\", \"Topic13\", \"Topic13\", \"Topic13\", \"Topic13\", \"Topic13\", \"Topic14\", \"Topic14\", \"Topic14\", \"Topic14\", \"Topic14\", \"Topic14\", \"Topic14\", \"Topic14\", \"Topic14\", \"Topic14\", \"Topic14\", \"Topic14\", \"Topic14\", \"Topic14\", \"Topic14\", \"Topic14\", \"Topic14\", \"Topic14\", \"Topic14\", \"Topic14\", \"Topic14\", \"Topic14\", \"Topic14\", \"Topic14\", \"Topic14\", \"Topic14\", \"Topic14\", \"Topic14\", \"Topic14\", \"Topic14\", \"Topic14\", \"Topic14\", \"Topic14\", \"Topic14\", \"Topic14\", \"Topic14\", \"Topic14\", \"Topic14\", \"Topic14\", \"Topic14\", \"Topic14\", \"Topic14\", \"Topic14\", \"Topic14\", \"Topic14\", \"Topic14\", \"Topic14\", \"Topic14\", \"Topic14\", \"Topic14\", \"Topic14\", \"Topic14\", \"Topic14\", \"Topic14\", \"Topic14\", \"Topic14\", \"Topic15\", \"Topic15\", \"Topic15\", \"Topic15\", \"Topic15\", \"Topic15\", \"Topic15\", \"Topic15\", \"Topic15\", \"Topic15\", \"Topic15\", \"Topic15\", \"Topic15\", \"Topic15\", \"Topic15\", \"Topic15\", \"Topic15\", \"Topic15\", \"Topic15\", \"Topic15\", \"Topic15\", \"Topic15\", \"Topic15\", \"Topic15\", \"Topic15\", \"Topic15\", \"Topic15\", \"Topic15\", \"Topic15\", \"Topic15\", \"Topic15\", \"Topic15\", \"Topic15\", \"Topic15\", \"Topic15\", \"Topic15\", \"Topic15\", \"Topic15\", \"Topic15\", \"Topic15\", \"Topic15\", \"Topic15\", \"Topic15\", \"Topic15\", \"Topic15\", \"Topic15\", \"Topic15\", \"Topic15\", \"Topic15\", \"Topic15\", \"Topic15\", \"Topic15\", \"Topic15\", \"Topic15\", \"Topic16\", \"Topic16\", \"Topic16\", \"Topic16\", \"Topic16\", \"Topic16\", \"Topic16\", \"Topic16\", \"Topic16\", \"Topic16\", \"Topic16\", \"Topic16\", \"Topic16\", \"Topic16\", \"Topic16\", \"Topic16\", \"Topic16\", \"Topic16\", \"Topic16\", \"Topic16\", \"Topic16\", \"Topic16\", \"Topic16\", \"Topic16\", \"Topic16\", \"Topic16\", \"Topic16\", \"Topic16\", \"Topic16\", \"Topic16\", \"Topic16\", \"Topic16\", \"Topic16\", \"Topic16\", \"Topic16\", \"Topic16\", \"Topic16\", \"Topic16\", \"Topic16\", \"Topic16\", \"Topic16\", \"Topic16\", \"Topic16\", \"Topic16\", \"Topic16\", \"Topic16\", \"Topic16\", \"Topic16\", \"Topic16\", \"Topic16\", \"Topic16\", \"Topic16\", \"Topic16\", \"Topic16\", \"Topic17\", \"Topic17\", \"Topic17\", \"Topic17\", \"Topic17\", \"Topic17\", \"Topic17\", \"Topic17\", \"Topic17\", \"Topic17\", \"Topic17\", \"Topic17\", \"Topic17\", \"Topic17\", \"Topic17\", \"Topic17\", \"Topic17\", \"Topic17\", \"Topic17\", \"Topic17\", \"Topic17\", \"Topic17\", \"Topic17\", \"Topic17\", \"Topic17\", \"Topic17\", \"Topic17\", \"Topic17\", \"Topic17\", \"Topic17\", \"Topic17\", \"Topic17\", \"Topic17\", \"Topic17\", \"Topic17\", \"Topic17\", \"Topic17\", \"Topic17\", \"Topic17\", \"Topic17\", \"Topic17\", \"Topic17\", \"Topic17\", \"Topic17\", \"Topic17\", \"Topic17\", \"Topic17\", \"Topic17\", \"Topic17\", \"Topic17\", \"Topic17\", \"Topic17\", \"Topic17\", \"Topic17\", \"Topic17\", \"Topic17\", \"Topic18\", \"Topic18\", \"Topic18\", \"Topic18\", \"Topic18\", \"Topic18\", \"Topic18\", \"Topic18\", \"Topic18\", \"Topic18\", \"Topic18\", \"Topic18\", \"Topic18\", \"Topic18\", \"Topic18\", \"Topic18\", \"Topic18\", \"Topic18\", \"Topic18\", \"Topic18\", \"Topic18\", \"Topic18\", \"Topic18\", \"Topic18\", \"Topic18\", \"Topic18\", \"Topic18\", \"Topic18\", \"Topic18\", \"Topic18\", \"Topic18\", \"Topic18\", \"Topic18\", \"Topic18\", \"Topic18\", \"Topic18\", \"Topic18\", \"Topic18\", \"Topic18\", \"Topic18\", \"Topic18\", \"Topic18\", \"Topic18\", \"Topic18\", \"Topic18\", \"Topic18\", \"Topic18\", \"Topic18\", \"Topic18\", \"Topic18\", \"Topic18\", \"Topic18\", \"Topic18\", \"Topic19\", \"Topic19\", \"Topic19\", \"Topic19\", \"Topic19\", \"Topic19\", \"Topic19\", \"Topic19\", \"Topic19\", \"Topic19\", \"Topic19\", \"Topic19\", \"Topic19\", \"Topic19\", \"Topic19\", \"Topic19\", \"Topic19\", \"Topic19\", \"Topic19\", \"Topic19\", \"Topic19\", \"Topic19\", \"Topic19\", \"Topic19\", \"Topic19\", \"Topic19\", \"Topic19\", \"Topic19\", \"Topic19\", \"Topic19\", \"Topic19\", \"Topic19\", \"Topic19\", \"Topic19\", \"Topic19\", \"Topic19\", \"Topic19\", \"Topic19\", \"Topic19\", \"Topic19\", \"Topic19\", \"Topic19\", \"Topic19\", \"Topic19\", \"Topic19\", \"Topic19\", \"Topic19\", \"Topic19\", \"Topic19\", \"Topic19\", \"Topic19\", \"Topic19\", \"Topic19\", \"Topic19\", \"Topic19\", \"Topic19\", \"Topic19\", \"Topic20\", \"Topic20\", \"Topic20\", \"Topic20\", \"Topic20\", \"Topic20\", \"Topic20\", \"Topic20\", \"Topic20\", \"Topic20\", \"Topic20\", \"Topic20\", \"Topic20\", \"Topic20\", \"Topic20\", \"Topic20\", \"Topic20\", \"Topic20\", \"Topic20\", \"Topic20\", \"Topic20\", \"Topic20\", \"Topic20\", \"Topic20\", \"Topic20\", \"Topic20\", \"Topic20\", \"Topic20\", \"Topic20\", \"Topic20\", \"Topic20\", \"Topic20\", \"Topic20\", \"Topic20\", \"Topic20\", \"Topic20\", \"Topic20\", \"Topic20\", \"Topic20\", \"Topic20\", \"Topic20\", \"Topic20\", \"Topic20\", \"Topic20\", \"Topic20\", \"Topic20\", \"Topic20\", \"Topic20\", \"Topic20\", \"Topic20\", \"Topic20\", \"Topic20\", \"Topic20\", \"Topic20\", \"Topic20\", \"Topic20\", \"Topic20\", \"Topic20\"], \"logprob\": [30.0, 29.0, 28.0, 27.0, 26.0, 25.0, 24.0, 23.0, 22.0, 21.0, 20.0, 19.0, 18.0, 17.0, 16.0, 15.0, 14.0, 13.0, 12.0, 11.0, 10.0, 9.0, 8.0, 7.0, 6.0, 5.0, 4.0, 3.0, 2.0, 1.0, -5.6838, -5.9612, -6.714, -6.9999, -7.0108, -7.0218, -7.0393, -7.0273, -7.0713, -7.1236, -7.1369, -7.1062, -7.1727, -7.1784, -7.1933, -7.2009, -7.215, -7.2002, -7.2403, -7.1141, -7.2542, -7.2594, -6.5352, -7.2722, -7.2853, -7.2878, -6.6423, -7.3205, -7.3382, -7.341, -6.1404, -7.1761, -7.0371, -6.7149, -7.0811, -6.9912, -6.6177, -6.8049, -6.3684, -6.8997, -6.9142, -6.6228, -5.9504, -6.703, -6.3572, -6.6068, -6.774, -6.851, -6.6188, -6.5992, -6.8841, -6.7526, -6.5523, -6.6652, -6.5844, -6.6275, -6.3856, -6.3898, -6.6239, -6.6886, -6.6618, -6.7002, -6.5937, -6.6621, -6.6647, -6.6894, -6.5621, -6.4759, -6.6006, -6.6735, -6.842, -6.9072, -6.923, -6.9117, -6.9515, -6.9914, -7.0037, -7.0126, -7.0165, -7.0479, -7.0288, -7.0724, -6.8578, -7.0899, -7.1044, -6.9757, -7.1332, -7.1398, -7.1534, -7.1571, -7.1822, -7.1846, -7.2167, -7.2172, -7.2178, -7.2309, -6.8693, -6.2939, -6.8402, -6.7761, -7.0199, -6.2765, -5.9224, -6.8448, -7.0193, -6.6504, -6.9078, -6.8678, -6.544, -6.2829, -6.7812, -6.3979, -6.5234, -6.8023, -6.4814, -6.6546, -6.7502, -6.7297, -6.5624, -6.5542, -6.5739, -6.7184, -6.7804, -6.7169, -6.7665, -6.8492, -6.8393, -6.0898, -6.2104, -6.4253, -6.4386, -6.476, -6.4875, -6.5179, -6.5539, -6.5803, -6.5909, -6.5948, -6.622, -6.6661, -6.6916, -6.6934, -6.699, -6.7274, -6.7459, -6.7843, -6.8129, -6.6349, -6.8612, -6.8781, -6.8924, -6.8942, -6.9169, -6.9703, -6.9713, -6.9944, -6.9969, -6.6286, -6.905, -6.8965, -6.2467, -5.9256, -6.6355, -6.1052, -6.6711, -6.2057, -6.6486, -6.4075, -6.4994, -6.5078, -6.7104, -6.2511, -6.479, -6.5717, -6.6435, -6.6456, -6.6729, -6.6788, -6.7111, -6.7132, -6.7159, -6.7522, -6.7549, -6.778, -6.8068, -6.8157, -6.8181, -6.8315, -6.8343, -6.8371, -6.8376, -6.8618, -6.6958, -6.8917, -6.8922, -6.9232, -6.9275, -6.9324, -6.9398, -6.9469, -6.9498, -6.8102, -6.3289, -6.7499, -6.4505, -6.54, -6.5555, -6.4248, -6.1976, -6.3496, -6.4529, -6.1991, -6.6144, -6.4445, -6.5072, -6.1028, -6.0748, -6.2297, -6.444, -6.2186, -6.3853, -6.3415, -6.2123, -6.3342, -6.4432, -6.3347, -6.4575, -6.509, -6.4663, -6.4911, -6.2684, -6.473, -6.4807, -6.4788, -6.5009, -5.4874, -5.4912, -5.412, -5.5664, -5.3066, -5.373, -5.8002, -5.8631, -5.7552, -5.1138, -5.1624, -5.7471, -6.0344, -6.0977, -6.1929, -5.6187, -6.2599, -6.3517, -6.393, -5.9008, -6.4353, -6.4576, -5.4454, -5.9866, -6.5363, -6.5559, -6.3119, -6.5922, -5.3028, -5.6267, -5.2846, -5.9445, -6.2507, -5.2245, -4.8761, -6.0856, -5.8063, -6.167, -5.4302, -5.995, -5.9943, -5.9808, -5.9429, -6.5575, -6.5831, -6.5999, -6.6352, -6.6675, -6.731, -6.7495, -6.848, -6.865, -6.9096, -6.9339, -6.2836, -7.1374, -6.9714, -7.3507, -7.449, -7.5902, -7.4933, -7.5961, -6.926, -6.4521, -8.0812, -7.825, -9.7617, -9.7617, -9.7617, -9.7617, -9.6802, -9.7617, -9.3123, -9.6587, -9.687, -9.7612, -9.7613, -6.5467, -6.7144, -6.7315, -6.289, -6.7329, -6.9607, -6.7437, -7.0867, -7.5838, -8.3105, -8.3314, -8.8175, -8.836, -9.4284, -9.7484, -9.7484, -9.7484, -9.7484, -9.7484, -9.7484, -8.059, -9.7484, -9.7484, -9.7484, -9.7484, -9.7484, -9.7484, -9.7484, -9.7484, -9.7484, -7.7867, -9.1757, -8.987, -9.7481, -9.7484, -9.7484, -9.7484, -9.7484, -9.7484, -9.7484, -9.7484, -9.7484, -9.7484, -9.7484, -9.7484, -6.2233, -6.4638, -5.8793, -6.5838, -7.2128, -6.9221, -7.0299, -7.8769, -9.6126, -9.4944, -9.7476, -9.7476, -9.7476, -9.7476, -9.7476, -9.7476, -9.7476, -9.7476, -9.7476, -9.7476, -9.7475, -9.7476, -9.7476, -9.7476, -9.7476, -9.7476, -9.7476, -9.7476, -9.7476, -9.7476, -9.7256, -9.7474, -9.7476, -9.7476, -9.7476, -9.7476, -9.7476, -9.7476, -9.7476, -9.7476, -9.7476, -9.7476, -9.7476, -9.7476, -9.7476, -9.7476, -9.7476, -9.7476, -9.7476, -6.5092, -6.722, -6.7938, -6.9412, -7.0173, -7.2421, -6.4235, -7.5596, -7.2542, -6.5105, -6.3878, -7.511, -9.7497, -9.7497, -9.7497, -9.7497, -9.7497, -9.7497, -9.7497, -9.7497, -9.7497, -9.7497, -9.7497, -9.7497, -9.7497, -9.7497, -9.7497, -9.7497, -9.7497, -9.7497, -8.9965, -9.7497, -9.7497, -9.7497, -9.7497, -9.7497, -9.7497, -9.7497, -9.7497, -9.7497, -9.7497, -9.7497, -9.7497, -9.7497, -9.7497, -9.7497, -9.7497, -6.6204, -6.5422, -6.2346, -6.6464, -7.2667, -6.9466, -7.2477, -8.0241, -9.7456, -9.7456, -9.7456, -9.7456, -9.7455, -9.7456, -9.7456, -9.7456, -9.7456, -9.7456, -9.7456, -9.7456, -9.7456, -9.7455, -9.7456, -9.7456, -9.7456, -9.7456, -9.7456, -9.7456, -9.7456, -9.7456, -9.7456, -9.7456, -9.7456, -9.7456, -9.7456, -9.7456, -9.7456, -9.7456, -9.7456, -9.7456, -9.7456, -9.7456, -9.7456, -9.7456, -9.7456, -9.7456, -9.7456, -9.7456, -9.7456, -9.7456, -5.7454, -6.9077, -7.1723, -7.583, -7.0156, -7.529, -9.7438, -9.7438, -9.7438, -9.7438, -9.7438, -9.7438, -9.7438, -9.7438, -9.7438, -9.7438, -9.7438, -9.7438, -9.7438, -9.7438, -9.7438, -9.7438, -9.7438, -9.7438, -9.7438, -9.7437, -9.7438, -9.7438, -9.7438, -9.7438, -9.7438, -9.7438, -9.7438, -9.7438, -9.7438, -9.7438, -9.7438, -9.7438, -9.7438, -9.7438, -9.7438, -9.7438, -9.7438, -9.7438, -9.7438, -9.7438, -9.7438, -9.7438, -9.7438, -9.7438, -9.7438, -9.7438, -6.1526, -7.0272, -7.1128, -7.3306, -7.1557, -6.8531, -8.3961, -9.7437, -9.7437, -9.7437, -9.7437, -9.7437, -9.7437, -9.7437, -9.7437, -9.7437, -9.7437, -9.7437, -9.7437, -9.7437, -9.7437, -9.7437, -9.7437, -9.7437, -9.7437, -9.7437, -9.7437, -9.7437, -9.7437, -9.7437, -8.6017, -8.6586, -9.5912, -9.5001, -9.717, -9.7437, -9.7437, -9.7437, -9.7437, -9.7437, -9.7437, -9.7437, -9.7437, -9.7437, -9.7437, -9.7437, -9.7437, -9.7437, -9.7437, -9.7437, -9.7437, -9.7437, -9.7437, -7.1145, -6.7626, -7.1906, -7.0255, -6.9183, -8.0264, -8.2334, -9.742, -9.742, -9.742, -9.742, -9.742, -9.742, -9.742, -9.742, -9.742, -9.742, -9.742, -9.742, -9.742, -9.742, -9.742, -9.742, -9.742, -9.742, -9.742, -9.742, -9.742, -9.742, -9.742, -9.742, -9.742, -9.742, -9.742, -9.742, -9.742, -9.742, -9.742, -9.742, -9.742, -9.742, -9.742, -9.742, -9.742, -9.742, -9.742, -9.742, -9.742, -9.742, -9.742, -9.742, -9.742, -9.742, -6.121, -6.7906, -7.2855, -7.5403, -9.7416, -9.7416, -9.7416, -9.7416, -9.7416, -9.7416, -9.7416, -9.7416, -9.7416, -9.7416, -9.7416, -9.7416, -9.7416, -9.7416, -9.7416, -9.7416, -9.7416, -9.7416, -9.7416, -9.7416, -9.7416, -9.7416, -9.7416, -9.7416, -9.7416, -9.7416, -9.7416, -9.7416, -9.7416, -9.7416, -9.7416, -9.7416, -9.7416, -9.7416, -9.7416, -9.7416, -9.7416, -9.7416, -9.7416, -9.7416, -9.7416, -9.7416, -9.7416, -9.7416, -9.7416, -9.7416, -9.7416, -9.7416, -9.7416, -9.7416, -9.7416, -9.7416, -6.6696, -7.1472, -7.0922, -7.4886, -7.1868, -9.7412, -9.7412, -9.7412, -9.7412, -9.7412, -9.7412, -9.7412, -9.7412, -9.7412, -9.7412, -9.7412, -9.7412, -9.7412, -9.7412, -9.7412, -9.7412, -9.7412, -9.7412, -9.7412, -9.7412, -9.7412, -9.7412, -9.7412, -9.7412, -9.7412, -9.7412, -9.7412, -9.7412, -9.7412, -9.7412, -9.7412, -9.7412, -9.7412, -9.7412, -9.7412, -9.7412, -9.7412, -9.7412, -9.7412, -9.7412, -9.7412, -9.7412, -9.7412, -9.7412, -9.7412, -9.7412, -9.7412, -9.7412, -9.7412, -7.0206, -7.2521, -6.7849, -7.2652, -7.3791, -9.741, -9.741, -9.741, -9.741, -9.741, -9.741, -9.741, -9.741, -9.741, -9.741, -9.741, -9.741, -9.741, -9.741, -9.741, -9.741, -9.741, -9.741, -9.741, -9.741, -9.741, -9.741, -9.741, -9.741, -9.741, -9.741, -9.741, -9.741, -9.741, -9.741, -9.741, -9.741, -9.741, -9.741, -9.741, -9.741, -9.741, -9.741, -9.741, -9.741, -9.741, -9.741, -9.741, -9.741, -9.741, -9.741, -9.741, -9.741, -9.741, -6.977, -6.8281, -6.9396, -9.7401, -9.7401, -9.7401, -9.7401, -9.7401, -9.7401, -9.7401, -9.7401, -9.7401, -9.7401, -9.7401, -9.7401, -9.7401, -9.7401, -9.7401, -9.7401, -9.7401, -9.7401, -9.7401, -9.7401, -9.7401, -9.7401, -9.7401, -9.7401, -9.7401, -9.7401, -9.7401, -9.74, -9.7401, -9.7401, -9.7401, -9.7401, -9.7401, -9.7401, -9.7401, -9.7401, -9.7401, -9.7401, -9.7401, -9.7401, -9.7401, -9.7401, -9.7401, -9.7401, -9.7401, -9.7401, -9.7401, -9.7401, -9.7401, -9.7401, -9.7401, -9.7401, -9.7401, -6.7517, -6.8969, -7.3407, -7.5139, -7.4162, -7.6135, -7.955, -9.7417, -9.7417, -9.7417, -9.7417, -9.7417, -9.7417, -9.7417, -9.7417, -9.7417, -9.7417, -9.7417, -9.7417, -9.7417, -9.7417, -9.7417, -9.7417, -9.7417, -9.7417, -9.7417, -9.7417, -9.7417, -9.7417, -9.7417, -9.1936, -9.7417, -9.7417, -9.7417, -9.7417, -9.7417, -9.7417, -9.7417, -9.7417, -9.7417, -9.7417, -9.7417, -9.7417, -9.7417, -9.7417, -9.7417, -9.7417, -9.7417, -9.7417, -9.7417, -9.7417, -9.7417, -9.7417, -6.885, -7.4121, -9.0847, -9.7388, -9.7388, -9.7388, -9.7388, -9.7388, -9.7388, -9.7388, -9.7388, -9.7388, -9.7388, -9.7388, -9.7388, -9.7388, -9.7388, -9.7388, -9.7388, -9.7388, -9.7388, -9.7388, -9.7388, -9.7388, -9.7388, -9.7388, -9.7388, -9.7388, -9.7388, -9.7388, -9.7388, -9.7388, -9.7388, -9.7388, -9.7388, -9.7388, -9.7388, -9.7388, -9.7388, -9.7388, -9.7388, -9.7388, -9.7388, -9.7388, -9.7388, -9.7388, -9.7388, -9.7388, -9.7388, -9.7388, -9.7388, -9.7388, -9.7388, -9.7388, -9.7388, -9.7388, -9.7388, -7.2644, -7.2077, -9.7386, -9.7386, -9.7386, -9.7386, -9.7386, -9.7386, -9.7386, -9.7386, -9.7386, -9.7386, -9.7386, -9.7386, -9.7386, -9.7386, -9.7386, -9.7386, -9.7386, -9.7386, -9.7386, -9.7386, -9.7386, -9.7386, -9.7386, -9.7386, -9.7386, -9.7386, -9.7386, -9.7386, -9.7386, -9.7386, -9.7386, -9.7386, -9.7386, -9.7386, -9.7386, -9.7386, -9.7386, -9.7386, -9.7386, -9.7386, -9.7386, -9.7386, -9.7386, -9.7386, -9.7386, -9.7386, -9.7386, -9.7386, -9.7386, -9.7386, -9.7386, -9.7386, -9.7386, -9.7386, -9.7386, -9.7386], \"loglift\": [30.0, 29.0, 28.0, 27.0, 26.0, 25.0, 24.0, 23.0, 22.0, 21.0, 20.0, 19.0, 18.0, 17.0, 16.0, 15.0, 14.0, 13.0, 12.0, 11.0, 10.0, 9.0, 8.0, 7.0, 6.0, 5.0, 4.0, 3.0, 2.0, 1.0, 0.8728, 0.8711, 0.8627, 0.8575, 0.8573, 0.8569, 0.8567, 0.8562, 0.856, 0.8548, 0.8545, 0.8541, 0.8536, 0.8535, 0.8531, 0.8529, 0.8526, 0.8522, 0.8518, 0.8517, 0.8515, 0.8514, 0.8511, 0.8511, 0.8507, 0.8506, 0.8504, 0.8497, 0.8492, 0.8491, 0.8394, 0.8488, 0.8472, 0.8401, 0.8444, 0.8394, 0.8237, 0.825, 0.7899, 0.8259, 0.8237, 0.7831, 0.6958, 0.783, 0.7236, 0.7634, 0.7854, 0.7991, 0.733, 0.7209, 0.7896, 0.737, 0.6314, 0.6792, 0.6304, 0.6381, 0.4651, 0.439, 0.5827, 0.6282, 0.5841, 0.6174, 0.4666, 0.5467, 0.4288, 0.3982, 1.391, 1.3908, 1.3901, 1.3883, 1.3836, 1.3815, 1.381, 1.3805, 1.38, 1.3787, 1.3782, 1.3779, 1.3778, 1.3766, 1.3759, 1.3755, 1.375, 1.3749, 1.3745, 1.3744, 1.3733, 1.373, 1.3725, 1.3723, 1.3713, 1.3712, 1.3698, 1.3698, 1.3697, 1.3692, 1.365, 1.3385, 1.3558, 1.3377, 1.3548, 1.2553, 1.1362, 1.3058, 1.3412, 1.1958, 1.2836, 1.2574, 1.0365, 0.8584, 1.1837, 0.8928, 0.9666, 1.1921, 0.8437, 0.9899, 1.0916, 1.0342, 0.7339, 0.7075, 0.2769, 0.6253, 0.8383, 0.3766, 0.2939, 1.0513, 0.325, 1.9487, 1.9454, 1.9384, 1.938, 1.9367, 1.9362, 1.9351, 1.9337, 1.9326, 1.9321, 1.932, 1.9308, 1.9289, 1.9278, 1.9277, 1.9274, 1.9261, 1.9252, 1.9233, 1.9219, 1.9205, 1.9193, 1.9184, 1.9176, 1.9175, 1.9163, 1.9132, 1.9131, 1.9117, 1.9116, 1.8887, 1.9019, 1.8919, 1.5479, 1.3504, 1.7239, 1.1693, 1.6913, 0.9329, 1.4605, 0.9471, 0.969, 0.8292, 1.235, 1.9874, 1.9794, 1.9756, 1.9725, 1.9724, 1.9711, 1.9708, 1.9693, 1.9692, 1.9691, 1.9673, 1.9671, 1.9659, 1.9644, 1.964, 1.9638, 1.9631, 1.963, 1.9628, 1.9628, 1.9614, 1.9601, 1.9597, 1.9597, 1.9578, 1.9576, 1.9573, 1.9569, 1.9565, 1.9563, 1.9555, 1.9474, 1.9523, 1.9374, 1.9356, 1.9029, 1.8418, 1.7651, 1.742, 1.7472, 1.5348, 1.7847, 1.6374, 1.6592, 1.2342, 1.1575, 1.3139, 1.5486, 1.1726, 1.3294, 1.2291, 0.9263, 1.1502, 1.3918, 1.14, 1.3755, 1.5008, 1.3645, 1.4309, 0.5604, 1.2269, 1.0861, 1.0511, 0.7751, 4.4437, 4.443, 4.4313, 4.4282, 4.4249, 4.3843, 4.3772, 4.3618, 4.355, 4.3376, 4.3271, 4.3185, 4.3159, 4.2975, 4.2681, 4.2505, 4.2462, 4.2149, 4.1994, 4.1861, 4.1841, 4.1762, 4.1603, 4.1509, 4.1457, 4.1379, 4.1318, 4.1232, 4.115, 4.0913, 3.9396, 4.0294, 4.0695, 3.5216, 3.2501, 3.9588, 3.6447, 3.9432, 2.4791, 3.4883, 3.2333, 1.9984, 4.8289, 4.5003, 4.4939, 4.4819, 4.4616, 4.4304, 4.3971, 4.3833, 4.315, 4.2979, 4.2849, 4.2676, 4.1443, 4.1194, 3.9653, 3.8624, 3.8601, 3.7742, 3.7425, 3.6518, 3.6015, 3.0548, 2.7206, 2.5014, 1.6126, 1.5972, 1.5561, 1.54, 1.5376, 1.5228, 1.0337, 0.3503, -0.0317, 0.0678, 0.3017, 4.4714, 4.431, 4.4208, 4.3305, 3.9213, 3.8855, 3.5344, 3.4475, 3.1451, 2.5448, 2.5381, 2.1073, 1.7868, 1.6695, 1.6259, 1.6159, 1.6105, 1.5693, 1.5607, 1.5533, 1.5395, 1.536, 1.535, 1.5343, 1.5331, 1.5177, 1.5118, 1.5085, 1.5083, 1.5079, 1.2626, 1.1568, 0.8876, -0.7795, 1.3207, 0.6059, 1.3395, 1.0844, 1.0886, 1.1673, 0.8209, 1.027, 1.0203, 0.7795, 1.0502, 4.7276, 4.594, 4.2502, 3.9834, 3.5465, 3.5372, 3.4647, 2.9471, 1.7463, 1.6828, 1.6268, 1.6168, 1.5702, 1.5615, 1.5541, 1.5369, 1.5359, 1.5352, 1.5339, 1.5186, 1.5127, 1.5094, 1.5092, 1.5087, 1.5081, 1.5079, 1.5058, 1.5037, 1.5016, 1.5002, 0.6595, 1.3807, 0.2711, 1.3409, 1.4494, 1.4678, 1.3973, 1.4839, 1.4644, 1.1727, 1.3748, 1.4659, 1.1981, 1.2414, 1.3146, 1.3072, 1.4128, 1.4023, 1.2449, 4.5681, 4.4124, 4.3868, 4.2766, 3.9061, 3.8463, 3.8205, 3.8147, 3.6211, 3.434, 3.0641, 3.03, 1.6147, 1.6092, 1.5681, 1.5594, 1.5521, 1.5348, 1.5338, 1.5331, 1.5319, 1.5165, 1.5105, 1.5073, 1.5071, 1.5067, 1.506, 1.5058, 1.5037, 1.5016, 1.2279, 0.5913, 1.4448, 1.3082, 0.6047, 1.4132, 1.2604, 1.2601, 1.428, 1.3994, 1.488, 1.2011, 1.0554, 1.4315, 1.4049, 0.8089, 1.3079, 4.5031, 4.4191, 4.3295, 3.8905, 3.795, 3.6936, 3.4942, 3.1443, 1.6288, 1.6188, 1.6134, 1.5722, 1.5636, 1.5562, 1.5389, 1.5379, 1.5372, 1.536, 1.5206, 1.5146, 1.5114, 1.5112, 1.5108, 1.5101, 1.5099, 1.5078, 1.5057, 1.5036, 1.5023, 1.501, 1.3903, 1.4675, 1.2938, 1.4906, 1.1502, 1.3442, 1.4025, 1.0533, 1.3786, 1.0219, 1.3047, 1.4035, 1.2765, 0.9855, 1.058, 1.3506, 1.3044, 1.2145, 1.3898, 1.1007, 4.6484, 4.2695, 3.942, 3.7759, 3.5743, 3.5361, 1.6305, 1.6205, 1.574, 1.5653, 1.5579, 1.5406, 1.5396, 1.5389, 1.5377, 1.5224, 1.5164, 1.5131, 1.5129, 1.5125, 1.5118, 1.5117, 1.5095, 1.5075, 1.5053, 1.5041, 1.5028, 1.5001, 1.4994, 1.4991, 1.1956, 1.2994, 0.7243, 0.7565, 1.2168, 1.3395, 1.3105, 1.0118, 0.9297, 1.3037, 1.4192, 1.109, 0.8417, 0.237, 1.2495, 1.2736, 1.4363, 0.8299, 1.3425, 0.9968, 0.8423, 0.9821, 3.8605, 3.6303, 3.4824, 3.3008, 3.273, 2.7419, 2.0784, 1.6307, 1.6207, 1.6152, 1.5741, 1.5654, 1.558, 1.5408, 1.5398, 1.5391, 1.5378, 1.5225, 1.5165, 1.5133, 1.5131, 1.5126, 1.512, 1.5118, 1.5097, 1.5076, 1.5055, 1.5041, 1.5029, 1.5002, 1.1886, 1.1608, 1.0518, 0.2617, 1.08, 1.2911, 1.2368, 1.3456, 1.4798, 1.2692, 1.0702, 1.4229, 0.8626, 1.0454, 1.0019, 1.2864, 1.2115, 1.3805, 0.6868, 1.1519, 1.4109, 1.4048, 1.187, 3.837, 3.796, 3.6781, 3.4833, 3.4383, 2.9591, 2.1114, 1.6323, 1.6223, 1.6169, 1.5757, 1.5671, 1.5597, 1.5424, 1.5414, 1.5407, 1.5395, 1.5241, 1.5181, 1.5149, 1.5147, 1.5143, 1.5136, 1.5134, 1.5113, 1.5092, 1.5071, 1.5058, 1.5046, 1.5019, 1.4332, 1.4327, 1.3997, 1.3703, 1.3483, 1.3353, 1.3582, 1.4565, 1.2946, 1.4255, 1.3374, 1.3277, 1.3201, 1.3458, 1.1696, 1.2544, 1.3778, 1.2837, 1.4171, 1.4165, 0.9239, 1.4215, 1.3352, 4.8002, 3.8351, 3.5017, 2.0676, 1.6328, 1.6228, 1.6173, 1.5762, 1.5675, 1.5601, 1.5429, 1.5419, 1.5412, 1.54, 1.5246, 1.5186, 1.5154, 1.5152, 1.5148, 1.5141, 1.5139, 1.5118, 1.5097, 1.5076, 1.5062, 1.505, 1.5024, 1.5016, 1.5014, 1.5009, 1.3865, 1.2552, 1.3831, 0.7588, 1.45, 0.7484, 1.3736, 1.3717, 1.4308, 0.9244, 1.4057, 0.6568, 0.8637, -0.3886, 0.5743, 0.253, 1.3756, 1.3411, 0.7054, 0.8207, 1.2604, 1.3502, 0.5686, 1.3011, 0.1483, 1.2318, 4.4798, 3.476, 3.4222, 3.3493, 2.6667, 1.6332, 1.6232, 1.6177, 1.5766, 1.5679, 1.5605, 1.5433, 1.5423, 1.5416, 1.5403, 1.525, 1.519, 1.5158, 1.5156, 1.5151, 1.5145, 1.5143, 1.5122, 1.5101, 1.508, 1.5066, 1.5054, 1.5028, 1.502, 1.5018, 1.3435, 0.9888, 1.1164, 1.0908, 0.7524, 0.8178, 0.4468, 1.4028, 1.3882, 1.3033, 1.1281, 0.663, 1.3656, 1.3569, 1.0549, 1.2433, 0.8143, 1.0644, 1.3884, 1.3861, 1.3076, 1.0139, -0.0987, 1.3687, 4.2396, 4.0657, 4.0103, 3.5051, 3.3195, 1.6333, 1.6233, 1.6179, 1.5681, 1.5607, 1.5434, 1.5425, 1.5417, 1.5405, 1.5252, 1.5159, 1.5157, 1.5153, 1.5146, 1.5145, 1.5123, 1.5103, 1.5081, 1.5068, 1.5056, 1.5029, 1.5022, 1.5019, 1.5015, 1.4997, 0.5474, -0.0095, 0.8896, 1.039, 0.415, 0.9304, 0.0079, 0.0066, 0.1276, -0.0742, -0.3066, 1.1988, 0.6072, 1.1504, 0.2565, 1.4396, 0.536, 0.6357, 0.4033, -0.2465, -0.0169, 0.3627, 0.0597, -0.5948, 4.2722, 4.1916, 3.8844, 1.6343, 1.6243, 1.6188, 1.5777, 1.569, 1.5616, 1.5444, 1.5434, 1.5427, 1.5415, 1.5261, 1.5201, 1.5169, 1.5167, 1.5162, 1.5156, 1.5154, 1.5133, 1.5112, 1.5077, 1.5065, 1.5039, 1.5031, 1.5029, 1.5024, 1.5006, 1.4976, 1.3178, 1.4654, 1.359, 1.302, 1.3288, 1.1933, 1.0572, 1.1904, 1.4093, 1.2115, 1.3166, 1.3815, 1.1243, 1.2287, 1.2214, 1.2979, 1.1889, 1.1872, 0.724, 1.0138, 1.3358, 0.9126, 1.0957, 0.8635, 1.0669, 1.2846, 4.1269, 3.9003, 3.671, 3.4742, 3.1862, 2.852, 2.083, 1.6326, 1.6226, 1.6172, 1.5761, 1.5674, 1.56, 1.5427, 1.5418, 1.5411, 1.5398, 1.5245, 1.5185, 1.5152, 1.5151, 1.5146, 1.5139, 1.5138, 1.5116, 1.5096, 1.5074, 1.5061, 1.5049, 1.5022, 1.4107, 0.8798, 1.3439, 1.4809, 0.8027, 1.1087, 0.0757, 1.4258, 1.4186, 1.337, 1.0869, 1.118, 1.0129, 1.4064, 1.2574, 0.8632, 1.0033, 1.259, -1.0567, 1.2728, -0.394, 1.2473, 1.2362, 3.7197, 3.6135, 1.717, 1.6355, 1.6255, 1.6201, 1.579, 1.5703, 1.5629, 1.5456, 1.5447, 1.544, 1.5427, 1.5274, 1.5214, 1.5181, 1.518, 1.5175, 1.5168, 1.5167, 1.5145, 1.5125, 1.5103, 1.509, 1.5078, 1.5051, 1.5044, 1.5041, 1.5037, 1.5019, 1.3731, 1.3645, 1.351, 0.8912, 1.0866, 1.2711, 0.7679, 1.2214, 1.1802, 0.8807, 1.2518, 1.1052, 1.0407, 1.0359, 1.0723, 1.0041, 0.5616, 1.0043, 1.1827, 0.7402, 0.7516, 0.4602, 0.483, 0.9632, 0.9358, 0.9278, 0.9134, 3.7457, 3.6066, 1.6358, 1.6258, 1.6203, 1.5792, 1.5705, 1.5631, 1.5459, 1.5449, 1.5442, 1.5429, 1.5276, 1.5216, 1.5184, 1.5182, 1.5177, 1.5171, 1.5169, 1.5148, 1.5127, 1.5106, 1.5092, 1.508, 1.5053, 1.5046, 1.5044, 1.5039, 1.5021, 1.4991, 1.3432, 1.2227, 0.7276, 1.4034, 1.3858, 0.1307, 1.2102, 1.1719, 0.8948, 1.3946, 1.3935, 1.3438, 1.112, 1.0087, 1.3733, 1.372, 1.2436, 1.1142, 1.2552, 0.9093, 1.3302, 0.8797, 1.1037, 0.8098, 0.8426, 1.0, 0.7698, 1.2194]}, \"token.table\": {\"Topic\": [4, 1, 2, 3, 1, 1, 4, 4, 1, 4, 2, 2, 2, 4, 4, 2, 3, 4, 1, 2, 1, 2, 1, 3, 4, 2, 2, 1, 2, 4, 4, 2, 3, 4, 1, 4, 4, 1, 2, 3, 1, 3, 4, 4, 2, 1, 2, 3, 3, 1, 2, 3, 4, 1, 1, 1, 2, 3, 1, 2, 1, 1, 4, 4, 1, 2, 3, 4, 1, 2, 4, 3, 4, 1, 2, 3, 4, 5, 1, 2, 3, 2, 5, 2, 4, 4, 2, 4, 3, 1, 2, 3, 2, 3, 3, 4, 2, 2, 1, 2, 4, 1, 2, 1, 1, 4, 3, 1, 1, 3, 4, 4, 2, 1, 1, 1, 4, 2, 4, 4, 2, 1, 3, 4, 3, 2, 1, 1, 3, 1, 3, 4, 3, 5, 4, 4, 1, 1, 2, 1, 2, 3, 1, 4, 1, 2, 5, 2, 2, 3, 3, 4, 3, 1, 1, 2, 4, 3, 3, 1, 3, 4, 3, 2, 1, 2, 1, 1, 2, 4, 2, 3, 4, 1, 2, 4, 4, 2, 5, 2, 1, 2, 3, 4, 5, 2, 4, 2, 1, 2, 3, 5, 1, 2, 4, 2, 3, 3, 1, 2, 1, 5, 5, 4, 3, 1, 4, 3, 3, 1, 4, 3, 5, 1, 2, 4, 3, 5, 1, 1, 2, 1, 4, 5, 4, 2, 1, 5, 1, 2, 3, 4, 3, 4, 1, 2, 3, 4, 5, 5, 1, 4, 5, 1, 5, 3, 3, 4, 1, 2, 3, 1, 3, 4, 1, 5, 4, 1, 5, 1, 5, 5, 2, 2, 1, 2, 4, 5, 1, 3, 4, 2, 1, 1, 4, 2, 1, 2, 3, 4, 2, 1, 2, 4, 3, 3, 4, 4, 1, 4, 4, 1, 2, 1, 5, 1, 2, 3, 4, 1, 2, 1, 1, 4, 1, 3, 4, 4, 1, 2, 3, 1, 2, 4, 1, 2, 3, 4, 2, 1, 2, 3, 4, 4, 4, 3, 1, 2, 5, 1, 4, 3, 2, 2, 2, 1, 2, 4, 3, 1, 3, 4, 1, 4, 1, 2, 1, 3, 3, 2, 2, 4, 4, 2, 2, 1, 1, 2, 2, 1, 2, 1, 4, 1, 4, 2, 1, 2, 1, 2, 3, 1, 2, 4, 1, 3, 3, 4, 3, 3, 2, 1, 4, 3, 2, 1, 3, 4, 3, 5, 1, 2, 1, 2, 3, 4, 1, 2, 1, 5, 1, 3, 4, 4, 5, 2, 4, 1, 2, 2, 1, 2, 3, 1, 1, 3, 4, 1, 2, 3, 4, 1, 2, 3, 3, 2, 5, 1, 1, 2, 3, 4, 4, 2, 2, 4, 1, 2, 2, 2, 1, 1, 1, 3, 1, 5, 3, 2, 3, 5, 1, 2, 3, 4, 1, 1, 4, 1, 2, 1, 2, 3, 3, 1, 3, 4, 3, 4, 2, 2, 4, 1, 5, 2, 1, 3, 3, 3, 1, 2, 3, 1, 2, 3, 1, 2, 1, 2, 1, 2, 3, 1, 5, 1, 1, 4, 3, 3, 1, 5, 5, 5, 2], \"Freq\": [1.0424180007683712, 0.4509723755483349, 0.5010804172759277, 0.05010804172759277, 1.0131298924640502, 0.9735103983201266, 0.9227565878304751, 0.977645692788147, 0.4275602978507151, 0.5130723574208581, 1.043434769057239, 0.966389014507716, 1.3447939523339496, 0.9696363935296151, 0.9394281682432011, 0.3434902928669275, 0.08587257321673188, 0.5152354393003913, 0.17366198967718485, 0.7814789535473319, 0.7611364988519995, 0.22386367613294103, 1.0043697125038342, 0.9467533811927205, 0.8833792566907867, 0.8960844425482775, 0.7550937111900451, 0.7464568608659948, 0.9559283725167812, 1.2341823704180384, 0.9999067241217372, 1.3222991417049688, 1.0665741545190317, 0.7773397788161747, 1.018236403729517, 0.9375369957162569, 0.9609895486656922, 0.19751938636321012, 0.7505736681801985, 0.03950387727264203, 0.979299903687802, 0.9809939537339265, 0.9930543825903199, 0.5814280723744757, 0.897916881148786, 0.9547306724211734, 0.8034908695597994, 0.11478440993711421, 0.9800815670249619, 0.734511070784766, 0.1836277676961915, 0.09181388384809575, 0.04590694192404787, 0.9551805358974775, 0.9404253458629868, 0.30407352677137695, 0.6689617588970294, 0.06081470535427539, 0.8945162159251056, 0.0559072634953191, 0.7581711439191203, 0.9982109297813517, 0.8746423696736041, 0.8753692282684432, 0.07012152671905034, 0.9115798473476544, 0.6597082385792491, 0.32985411928962455, 0.30158326399785707, 0.10052775466595235, 0.6031665279957141, 0.9282807900522559, 1.0262924058707836, 0.19972017644428305, 0.6657339214809436, 0.06657339214809435, 1.1145641704536229, 0.7822800461439781, 0.4840460900234282, 0.4840460900234282, 0.9907044502017944, 0.5044948108282209, 0.5044948108282209, 1.0263306185803929, 0.8956377467875132, 0.9641812242970795, 0.15094456081321067, 0.7547228040660533, 0.6067575242909536, 0.7774027827724458, 0.09717534784655572, 0.09717534784655572, 0.9103022495616832, 0.8446566015075387, 0.725347524982856, 0.1450695049965712, 0.9509989025691554, 1.0225579718406, 0.6739049830622662, 0.3209071347915553, 1.0725979658692342, 0.27502712773953764, 0.7334056739721003, 0.9798606864907379, 0.5250946945764073, 0.45008116677977766, 1.0289982548729355, 0.9304879485510471, 0.29959091213638833, 0.3423896138701581, 0.3423896138701581, 1.0397707776447436, 1.011183069761575, 1.1488446794731964, 1.208140181251802, 0.9399738966606223, 0.9756721201255875, 0.8807417319788223, 1.120991657492553, 0.8854229307717002, 1.028080370408507, 0.14729235684030118, 0.5400719750811043, 0.29458471368060235, 0.912225074754085, 0.9607787474867353, 0.9922840763512796, 0.47944112170768893, 0.47944112170768893, 0.47607793841887536, 0.3570584538141565, 0.11901948460471884, 1.0600251903377738, 0.8585548744055522, 1.068858944734667, 0.9495712613886683, 1.0040763971232405, 0.39859760188056964, 0.5978964028208544, 0.35488304600769965, 0.6387894828138594, 0.9406747223466719, 1.2687373033770653, 1.0284016544991816, 0.8474117526803936, 0.1059264690850492, 0.700641303617752, 0.9881875872183233, 0.9418465249322012, 0.11773081561652515, 0.3918247698314867, 0.3918247698314867, 1.2026131954000334, 0.9409972659668168, 0.9867689213876604, 1.0151415663019885, 0.9816577275970187, 0.9473704906127223, 0.9180494949281911, 0.9268367145125661, 0.05792729465703538, 1.1902373761550897, 1.0331151770590512, 0.9495250102140703, 0.9786416901057907, 1.0083678140298922, 0.9659967552370351, 0.6727282590876871, 0.31657800427655863, 0.6702686718212146, 0.9112447795875241, 0.9558193660138671, 1.1508764414063115, 0.9086227413679897, 0.060574849424532645, 1.3380861137818736, 1.0017590346045655, 0.8713638562389462, 1.241357779380289, 1.2949657960175942, 0.4596859670872514, 0.06566942386960735, 0.06566942386960735, 0.39401654321764407, 0.572123297432922, 0.7822350839077051, 0.19555877097692628, 1.014786798220161, 0.27665688054164156, 0.5533137610832831, 0.13832844027082078, 1.0307402418535037, 0.15995121054382064, 0.7197804474471928, 0.15995121054382064, 0.33881606164281847, 0.5646934360713641, 1.135808457314315, 0.9126354058869212, 0.06518824327763723, 0.9772318100583238, 1.1109976411207148, 0.639829033214946, 1.0219149123606694, 1.0467036681763209, 0.42850468870173264, 0.5142056264420792, 1.1700175286311376, 1.019870602531713, 1.003988396669744, 0.5821832521694023, 1.014828343992441, 0.656589409412589, 0.1977514148282411, 0.32958569138040184, 0.46141996793256257, 1.0252287095115225, 1.0623114233238795, 0.9237024362384938, 0.9166091287066455, 0.087296107495871, 0.7078902806568862, 0.960962517272953, 0.8354356696630246, 0.934528357573953, 0.9856096296867255, 0.3444847825297186, 0.3444847825297186, 0.42298476252027584, 0.09399661389339463, 0.046998306946697314, 0.42298476252027584, 0.24743598053585747, 0.7423079416075724, 0.09367297599654177, 0.2810189279896253, 0.09367297599654177, 0.5620378559792506, 0.8936338653827935, 0.698491888265491, 0.22197080829344662, 0.7768978290270632, 0.8646226142033561, 0.4321526956722916, 0.4321526956722916, 1.0602390148791068, 0.13221655971978155, 0.7932993583186894, 0.841147447061463, 0.10514343088268288, 0.05257171544134144, 0.09756204554943189, 0.09756204554943189, 0.7804963643954551, 0.6893607721323504, 0.2297869240441168, 0.9139932313932335, 0.691338467892489, 0.3456692339462445, 0.6406394118181005, 0.427092941212067, 0.9370798840605287, 0.9808473676219057, 0.6306742654374627, 0.5549231558172251, 0.18497438527240834, 0.09248719263620417, 0.09248719263620417, 0.9164414246549829, 0.8301244848192508, 0.9862031348770709, 0.975022671412826, 0.6246804528170888, 0.9358176043989261, 0.9014386267132893, 1.1919411172522612, 0.5708364544372907, 0.3512839719614097, 0.04391049649517621, 0.08782099299035243, 0.9227015949608095, 1.0081494538871005, 0.4090715135962195, 0.6136072703943293, 0.8676327688804921, 0.800364001412474, 0.2667880004708247, 1.2214648240876513, 0.45680726922761716, 0.5329418140988866, 0.8759519821377637, 0.7328648294501061, 0.22902025920315816, 0.41806699451522433, 0.41806699451522433, 0.12657690711717978, 0.18986536067576967, 0.3164422677929495, 0.37973072135153935, 0.9618952768652286, 0.8902853221659589, 0.9057140572790723, 1.1950091712753503, 1.3041734100998519, 0.20874536102238794, 0.3131180415335819, 0.46967706230037287, 0.9776920249880852, 0.7850791456169969, 0.1847245048510581, 0.046181126212764524, 0.0634063095950246, 0.8242820247353196, 0.0634063095950246, 0.836944799040675, 0.026154524970021093, 0.052309049940042186, 0.07846357491006328, 1.0033185541729728, 0.8482485242201347, 0.040392786867625464, 0.08078557373525093, 0.7341350276239844, 0.9984249286843276, 1.0371620735219407, 0.8911247942146916, 0.793582385660636, 0.0991977982075795, 0.0991977982075795, 0.9914591943354809, 0.8967285238583456, 0.9106480844968264, 1.056405735888401, 0.9078305506262329, 0.910737021860538, 0.6099896062322665, 0.2439958424929066, 0.1219979212464533, 0.9341210773071879, 0.29416542853255184, 0.44124814279882774, 0.24513785711045985, 0.9500000660097987, 0.0730769281545999, 0.8510381372167006, 0.12157687674524295, 0.9756496919890237, 0.9180655843418739, 0.8801733041237431, 0.9695486530253616, 1.2258444142303206, 0.6600829046954744, 0.623458578289661, 0.9013398810589011, 0.8838821733842259, 0.796965056114055, 0.9278660698178016, 0.07137431306290781, 0.9027681745669833, 1.0576505577265716, 1.031741457634638, 0.5132996582556176, 0.5132996582556176, 0.3880638712349759, 0.6209021939759614, 0.9671925939632529, 0.20140973611969126, 0.805638944478765, 0.917125224642085, 0.053948542626005, 0.053948542626005, 0.49582673750299455, 0.055091859722554946, 0.44073487778043957, 0.9993816740173217, 1.0275071364724235, 0.9030284217962263, 0.8523717750329811, 0.9894888767791412, 0.9733839987278609, 0.8501589657458166, 0.9733512499227959, 0.9490853304338293, 0.8841673164326743, 1.3130339954393384, 0.539032977039761, 0.0598925530044179, 0.41924787103092526, 0.6131123376710147, 0.8162781735337492, 0.9493275157792092, 0.036512596760738814, 0.6592712103653686, 0.09418160148076694, 0.03139386716025565, 0.21975707012178955, 0.935048863754083, 0.946178985375056, 0.9872070073227073, 0.7442959449289805, 0.21984067867852966, 0.10992033933926483, 0.659522036035589, 1.0024859098414718, 1.1866389736281833, 0.6561941009893567, 1.0018790703154328, 0.2593708640204166, 0.6916556373877776, 1.3439744999961283, 0.14550953665332328, 0.14550953665332328, 0.7275476832666163, 0.9365137128937285, 0.9605185198942496, 0.8824380513148975, 1.289849905361812, 0.8723161265707785, 0.05131271332769285, 0.05131271332769285, 0.05131271332769285, 0.7677061738321326, 0.20472164635523535, 0.8518177519263014, 0.6463114215345359, 0.9107519470064239, 0.8983196100492815, 0.976389763420181, 0.5253375982985823, 0.4728038384687241, 0.05253375982985823, 0.8990498628772733, 0.9996771072324272, 1.0998257320902431, 1.2421062217206762, 0.7795604774655932, 1.0523656727353097, 1.0060211070996294, 0.865159037423107, 0.8827284908208225, 0.9751293685704029, 0.9948496389048257, 1.2220540381106113, 0.9077837011662843, 0.44634995293611746, 0.44634995293611746, 1.0025134852185102, 0.9289947968237242, 1.0906643011882315, 0.7990574341071157, 0.34328409872754495, 0.5578366604322605, 0.04291051234094312, 0.04291051234094312, 0.991114073313784, 0.928251078332121, 0.9018476067446967, 0.7671068466204649, 0.2045618257654573, 0.8644907939139386, 0.8584223077963725, 0.12263175825662465, 1.0203955369353774, 0.544229316256465, 0.0604699240284961, 0.4232894681994727, 0.9422798629305955, 0.8710889995479689, 1.0105156983787442, 0.9876254485872938, 1.004484936466512, 0.5896934741536101, 0.7290659874629252, 0.9130709640875865, 0.9417631974884549, 1.3087241604795066, 1.3281165830106842, 0.9472195325534956, 0.41256220422534157, 0.5672730308098446, 1.004849608802188, 0.7622916196627072, 0.238216131144596, 0.9319547272787448, 0.6545307717036232, 0.368173559083288, 0.9868535478199936, 0.7624376873336558, 0.2655537443795395, 0.3717752421313553, 0.3717752421313553, 0.9605310633983462, 1.1661965122057734, 0.9343938497648144, 0.23921863839982646, 0.7176559151994794, 0.898389578557295, 0.8493700962466567, 0.5644307354004195, 0.5644307354004195, 0.8355038659739654, 0.5870634612094027, 1.2441757256759574], \"Term\": [\"aaron\", \"abc\", \"abc\", \"abc\", \"ability\", \"adaptation\", \"agency\", \"ahead\", \"alex\", \"alex\", \"alia\", \"alien\", \"allegations\", \"allen\", \"amanda\", \"amazon\", \"amazon\", \"amazon\", \"animated\", \"animated\", \"animation\", \"animation\", \"anime\", \"anne\", \"annie\", \"anthology\", \"arora\", \"assassinate\", \"assassination\", \"astronomy\", \"austin\", \"automobile\", \"axel\", \"balls\", \"band\", \"barry\", \"batman\", \"bbc\", \"bbc\", \"bbc\", \"ben\", \"berlin\", \"beth\", \"blackmail\", \"block\", \"blu\", \"blue\", \"blue\", \"bobby\", \"book\", \"book\", \"book\", \"book\", \"bosch\", \"boy\", \"british\", \"british\", \"british\", \"brother\", \"brother\", \"bugs\", \"bunny\", \"captive\", \"carter\", \"cartoon\", \"cartoon\", \"case\", \"case\", \"casting\", \"casting\", \"casting\", \"catherine\", \"caught\", \"cbs\", \"cbs\", \"cbs\", \"cemetery\", \"cha\", \"channel\", \"channel\", \"chef\", \"choi\", \"choi\", \"christmas\", \"christopher\", \"church\", \"cia\", \"cia\", \"circumstance\", \"city\", \"city\", \"city\", \"claire\", \"clark\", \"coach\", \"coach\", \"collection\", \"com\", \"comedy\", \"comedy\", \"compel\", \"complete\", \"complete\", \"compose\", \"consensus\", \"consensus\", \"contestant\", \"control\", \"crime\", \"crime\", \"crime\", \"cult\", \"cup\", \"daffy\", \"darlene\", \"dead\", \"dean\", \"deep\", \"demi\", \"dennis\", \"destroy\", \"detective\", \"detective\", \"detective\", \"diana\", \"disc\", \"discover\", \"doctor\", \"doctor\", \"documentary\", \"documentary\", \"documentary\", \"dominique\", \"dong\", \"dora\", \"doug\", \"dragon\", \"dvd\", \"dvd\", \"earth\", \"earth\", \"east\", \"eclectic\", \"emily\", \"english\", \"english\", \"eun\", \"eureka\", \"evil\", \"evil\", \"exploration\", \"exploration\", \"famed\", \"feel\", \"fight\", \"films\", \"flight\", \"food\", \"football\", \"fox\", \"fox\", \"frakes\", \"france\", \"franchise\", \"friends\", \"funimation\", \"future\", \"game\", \"game\", \"garfield\", \"gary\", \"german\", \"gerry\", \"girl\", \"girl\", \"gladys\", \"gotham\", \"guide\", \"hae\", \"hayashi\", \"hbo\", \"hbo\", \"hbo\", \"hbo\", \"hee\", \"henry\", \"henry\", \"hill\", \"history\", \"history\", \"history\", \"hoon\", \"horror\", \"horror\", \"horror\", \"hospital\", \"hospital\", \"hostage\", \"human\", \"human\", \"hunter\", \"hye\", \"hyun\", \"ian\", \"idol\", \"indicate\", \"indicate\", \"inexplicably\", \"inspector\", \"island\", \"israeli\", \"itv\", \"jae\", \"james\", \"james\", \"james\", \"jamie\", \"jang\", \"japan\", \"japanese\", \"japanese\", \"jedi\", \"jennifer\", \"jeong\", \"jessica\", \"jimmy\", \"jin\", \"jin\", \"john\", \"john\", \"john\", \"john\", \"johnson\", \"johnson\", \"jones\", \"jones\", \"jones\", \"jones\", \"joo\", \"joon\", \"josh\", \"josh\", \"jung\", \"kang\", \"kang\", \"kapoor\", \"kate\", \"kate\", \"kill\", \"kill\", \"kill\", \"killer\", \"killer\", \"killer\", \"kim\", \"kim\", \"kitchen\", \"korea\", \"korea\", \"korean\", \"korean\", \"kyung\", \"lady\", \"leary\", \"lee\", \"lee\", \"lee\", \"lee\", \"license\", \"liken\", \"lily\", \"london\", \"looney\", \"magazine\", \"maggie\", \"malachi\", \"man\", \"man\", \"man\", \"man\", \"manage\", \"manga\", \"marvel\", \"marvel\", \"masters\", \"members\", \"members\", \"meta\", \"metacritic\", \"metacritic\", \"miles\", \"million\", \"million\", \"min\", \"min\", \"miniseries\", \"miniseries\", \"miniseries\", \"miniseries\", \"mission\", \"monster\", \"moon\", \"municipality\", \"munroe\", \"murder\", \"murder\", \"murder\", \"murphy\", \"music\", \"music\", \"music\", \"nbc\", \"nbc\", \"nbc\", \"netflix\", \"netflix\", \"netflix\", \"netflix\", \"nickelodeon\", \"novel\", \"novel\", \"novel\", \"odyssey\", \"onofrio\", \"ops\", \"paris\", \"park\", \"park\", \"park\", \"past\", \"pete\", \"philip\", \"phineas\", \"pick\", \"pictures\", \"pilot\", \"pilot\", \"pilot\", \"poet\", \"police\", \"police\", \"police\", \"positive\", \"positive\", \"power\", \"power\", \"praise\", \"prince\", \"princess\", \"programme\", \"prolific\", \"prop\", \"psychiatric\", \"race\", \"radio\", \"rath\", \"ray\", \"ray\", \"reasons\", \"rebekah\", \"reboot\", \"recur\", \"recur\", \"recurring\", \"recurring\", \"reference\", \"region\", \"region\", \"relationship\", \"relationship\", \"relationship\", \"renew\", \"renew\", \"renew\", \"reprise\", \"rescue\", \"rework\", \"riley\", \"rob\", \"robin\", \"rogue\", \"romance\", \"ron\", \"ross\", \"rotation\", \"rotten\", \"rotten\", \"rotten\", \"sanders\", \"sang\", \"school\", \"school\", \"seasons\", \"seasons\", \"seasons\", \"seasons\", \"secret\", \"segment\", \"seize\", \"seo\", \"serial\", \"serial\", \"serial\", \"seth\", \"seung\", \"shooter\", \"showtime\", \"sitcom\", \"sitcom\", \"skepticism\", \"sky\", \"sky\", \"sky\", \"skywalker\", \"social\", \"solve\", \"solved\", \"son\", \"son\", \"son\", \"son\", \"song\", \"song\", \"sonic\", \"sonny\", \"sony\", \"soo\", \"soundtrack\", \"special\", \"special\", \"special\", \"spencer\", \"spider\", \"spock\", \"spoke\", \"sports\", \"stampede\", \"stand\", \"stargate\", \"stories\", \"strong\", \"student\", \"suitor\", \"sunday\", \"sung\", \"sung\", \"sword\", \"syndication\", \"tactical\", \"tae\", \"team\", \"team\", \"team\", \"team\", \"teen\", \"teenage\", \"terry\", \"theme\", \"theme\", \"thrust\", \"tim\", \"tim\", \"tin\", \"tomatoes\", \"tomatoes\", \"tomatoes\", \"tommy\", \"toronto\", \"traveling\", \"trek\", \"trial\", \"tunes\", \"turtles\", \"underway\", \"universe\", \"unreleased\", \"users\", \"vampire\", \"version\", \"version\", \"victoria\", \"video\", \"video\", \"vision\", \"voiced\", \"voiced\", \"volume\", \"voyager\", \"war\", \"war\", \"war\", \"wars\", \"webtoon\", \"weekly\", \"weighted\", \"weighted\", \"winner\", \"witch\", \"woo\", \"woo\", \"yeon\", \"yoon\", \"yuko\"]}, \"R\": 30, \"lambda.step\": 0.01, \"plot.opts\": {\"xlab\": \"PC1\", \"ylab\": \"PC2\"}, \"topic.order\": [17, 1, 13, 9, 12, 11, 18, 16, 7, 2, 5, 6, 4, 15, 19, 8, 10, 14, 20, 3]};\n",
       "\n",
       "function LDAvis_load_lib(url, callback){\n",
       "  var s = document.createElement('script');\n",
       "  s.src = url;\n",
       "  s.async = true;\n",
       "  s.onreadystatechange = s.onload = callback;\n",
       "  s.onerror = function(){console.warn(\"failed to load library \" + url);};\n",
       "  document.getElementsByTagName(\"head\")[0].appendChild(s);\n",
       "}\n",
       "\n",
       "if(typeof(LDAvis) !== \"undefined\"){\n",
       "   // already loaded: just create the visualization\n",
       "   !function(LDAvis){\n",
       "       new LDAvis(\"#\" + \"ldavis_el857621480491711689136873833\", ldavis_el857621480491711689136873833_data);\n",
       "   }(LDAvis);\n",
       "}else if(typeof define === \"function\" && define.amd){\n",
       "   // require.js is available: use it to load d3/LDAvis\n",
       "   require.config({paths: {d3: \"https://d3js.org/d3.v5\"}});\n",
       "   require([\"d3\"], function(d3){\n",
       "      window.d3 = d3;\n",
       "      LDAvis_load_lib(\"https://cdn.jsdelivr.net/gh/bmabey/pyLDAvis@3.4.0/pyLDAvis/js/ldavis.v3.0.0.js\", function(){\n",
       "        new LDAvis(\"#\" + \"ldavis_el857621480491711689136873833\", ldavis_el857621480491711689136873833_data);\n",
       "      });\n",
       "    });\n",
       "}else{\n",
       "    // require.js not available: dynamically load d3 & LDAvis\n",
       "    LDAvis_load_lib(\"https://d3js.org/d3.v5.js\", function(){\n",
       "         LDAvis_load_lib(\"https://cdn.jsdelivr.net/gh/bmabey/pyLDAvis@3.4.0/pyLDAvis/js/ldavis.v3.0.0.js\", function(){\n",
       "                 new LDAvis(\"#\" + \"ldavis_el857621480491711689136873833\", ldavis_el857621480491711689136873833_data);\n",
       "            })\n",
       "         });\n",
       "}\n",
       "</script>"
      ],
      "text/plain": [
       "PreparedData(topic_coordinates=              x         y  topics  cluster       Freq\n",
       "topic                                                \n",
       "16     0.226696 -0.066594       1        1  41.538422\n",
       "0      0.177179  0.101378       2        1  24.304824\n",
       "12    -0.194470  0.157535       3        1  13.882244\n",
       "8     -0.117620 -0.238528       4        1  13.277017\n",
       "11    -0.011761  0.005966       5        1   0.955169\n",
       "10    -0.006390  0.002897       6        1   0.443675\n",
       "17    -0.005687  0.002878       7        1   0.414218\n",
       "15    -0.005637  0.002653       8        1   0.412818\n",
       "6     -0.005395  0.002888       9        1   0.410516\n",
       "1     -0.005342  0.002740      10        1   0.406757\n",
       "4     -0.005343  0.002597      11        1   0.402360\n",
       "5     -0.005183  0.002598      12        1   0.400967\n",
       "3     -0.005210  0.002568      13        1   0.397529\n",
       "14    -0.005121  0.002663      14        1   0.396940\n",
       "18    -0.005222  0.002676      15        1   0.396457\n",
       "7     -0.005137  0.002705      16        1   0.394560\n",
       "9     -0.005112  0.002609      17        1   0.393098\n",
       "13    -0.005183  0.002531      18        1   0.392185\n",
       "19    -0.005021  0.002636      19        1   0.390451\n",
       "2     -0.005040  0.002604      20        1   0.389791, topic_info=           Term       Freq      Total Category  logprob  loglift\n",
       "8416        kim   8.000000   8.000000  Default  30.0000  30.0000\n",
       "8708        lee  10.000000  10.000000  Default  29.0000  29.0000\n",
       "641       anime  41.000000  41.000000  Default  28.0000  28.0000\n",
       "11035      park  10.000000  10.000000  Default  27.0000  27.0000\n",
       "9254      manga  31.000000  31.000000  Default  26.0000  26.0000\n",
       "...         ...        ...        ...      ...      ...      ...\n",
       "6888    hayashi   0.006765   0.772221  Topic20  -9.7386   0.8098\n",
       "6371     gladys   0.006765   0.747336  Topic20  -9.7386   0.8426\n",
       "11346    piazza   0.006765   0.638482  Topic20  -9.7386   1.0000\n",
       "16887      yuko   0.006765   0.803745  Topic20  -9.7386   0.7698\n",
       "3328   cookbook   0.006765   0.512710  Topic20  -9.7386   1.2194\n",
       "\n",
       "[1079 rows x 6 columns], token_table=       Topic      Freq     Term\n",
       "term                           \n",
       "0          4  1.042418    aaron\n",
       "12         1  0.450972      abc\n",
       "12         2  0.501080      abc\n",
       "12         3  0.050108      abc\n",
       "24         1  1.013130  ability\n",
       "...      ...       ...      ...\n",
       "16733      1  0.564431      woo\n",
       "16733      5  0.564431      woo\n",
       "16850      5  0.835504     yeon\n",
       "16864      5  0.587063     yoon\n",
       "16887      2  1.244176     yuko\n",
       "\n",
       "[503 rows x 3 columns], R=30, lambda_step=0.01, plot_opts={'xlab': 'PC1', 'ylab': 'PC2'}, topic_order=[17, 1, 13, 9, 12, 11, 18, 16, 7, 2, 5, 6, 4, 15, 19, 8, 10, 14, 20, 3])"
      ]
     },
     "execution_count": 36,
     "metadata": {},
     "output_type": "execute_result"
    }
   ],
   "source": [
    "# Topic Modelling Visualization for the show description texts\n",
    "pyLDAvis.sklearn.prepare(best_lda_model2, dtm_tfidf, tfidf_vectorizer)"
   ]
  },
  {
   "cell_type": "code",
   "execution_count": 37,
   "metadata": {},
   "outputs": [],
   "source": [
    "lda_results2 = best_lda_model2.fit_transform(dtm_tfidf) "
   ]
  },
  {
   "cell_type": "code",
   "execution_count": 38,
   "metadata": {},
   "outputs": [
    {
     "name": "stderr",
     "output_type": "stream",
     "text": [
      "100%|██████████| 2484/2484 [00:02<00:00, 1050.33it/s]\n"
     ]
    }
   ],
   "source": [
    "make_lda_topic_pct_cols(lda_results2, df, \"forced_alt_\")"
   ]
  },
  {
   "attachments": {},
   "cell_type": "markdown",
   "metadata": {},
   "source": [
    "## Save final results dataframe"
   ]
  },
  {
   "attachments": {},
   "cell_type": "markdown",
   "metadata": {},
   "source": [
    "> Saves only the results columns.  All other columns can be obtained from prior dataframes"
   ]
  },
  {
   "cell_type": "code",
   "execution_count": 39,
   "metadata": {},
   "outputs": [
    {
     "data": {
      "text/plain": [
       "Index(['name', 'href', 'tokenized_text', 'lda_topic0_match_pct',\n",
       "       'lda_topic1_match_pct', 'lda_topic2_match_pct', 'lda_topic3_match_pct',\n",
       "       'lda_topic4_match_pct', 'lsa_topic0_cos_match', 'lsa_topic1_cos_match',\n",
       "       'lsa_topic2_cos_match', 'lsa_topic3_cos_match', 'lsa_topic4_cos_match',\n",
       "       'lsa_topic5_cos_match', 'lsa_topic6_cos_match', 'lsa_topic7_cos_match',\n",
       "       'lsa_topic8_cos_match', 'lsa_topic9_cos_match',\n",
       "       'forced_alt_lda_topic0_match_pct', 'forced_alt_lda_topic1_match_pct',\n",
       "       'forced_alt_lda_topic2_match_pct', 'forced_alt_lda_topic3_match_pct',\n",
       "       'forced_alt_lda_topic4_match_pct', 'forced_alt_lda_topic5_match_pct',\n",
       "       'forced_alt_lda_topic6_match_pct', 'forced_alt_lda_topic7_match_pct',\n",
       "       'forced_alt_lda_topic8_match_pct', 'forced_alt_lda_topic9_match_pct',\n",
       "       'forced_alt_lda_topic10_match_pct', 'forced_alt_lda_topic11_match_pct',\n",
       "       'forced_alt_lda_topic12_match_pct', 'forced_alt_lda_topic13_match_pct',\n",
       "       'forced_alt_lda_topic14_match_pct', 'forced_alt_lda_topic15_match_pct',\n",
       "       'forced_alt_lda_topic16_match_pct', 'forced_alt_lda_topic17_match_pct',\n",
       "       'forced_alt_lda_topic18_match_pct', 'forced_alt_lda_topic19_match_pct'],\n",
       "      dtype='object')"
      ]
     },
     "execution_count": 39,
     "metadata": {},
     "output_type": "execute_result"
    }
   ],
   "source": [
    "df.columns"
   ]
  },
  {
   "cell_type": "code",
   "execution_count": 40,
   "metadata": {},
   "outputs": [],
   "source": [
    "# (default) if reading from a tokenized-only df\n",
    "columns_to_drop = ['tokenized_text']\n",
    "\n",
    "# for cases run using other (non-standard) df's as input\n",
    "#columns_to_drop = ['combined_text', 'lemmatized_text', 'tokenized_text']"
   ]
  },
  {
   "cell_type": "code",
   "execution_count": 41,
   "metadata": {},
   "outputs": [],
   "source": [
    "df.drop(columns=columns_to_drop, inplace=True)"
   ]
  },
  {
   "cell_type": "code",
   "execution_count": 42,
   "metadata": {},
   "outputs": [],
   "source": [
    "df.to_csv(f\"{output_directory}{final_model_name}.csv\", index=False)\n",
    "# df.to_json(f\"{output_directory}{final_model_name}.json\")"
   ]
  },
  {
   "attachments": {},
   "cell_type": "markdown",
   "metadata": {},
   "source": [
    "#### Save topic words matrices"
   ]
  },
  {
   "cell_type": "code",
   "execution_count": 43,
   "metadata": {},
   "outputs": [],
   "source": [
    "lda_topic_words.to_csv(f\"{output_directory}{final_model_name}_topicwords.csv\", index=False)"
   ]
  },
  {
   "cell_type": "code",
   "execution_count": 44,
   "metadata": {},
   "outputs": [],
   "source": [
    "lda_topic_words2.to_csv(f\"{output_directory}{final_model_name}_topicwords_forced_alt.csv\", index=False)"
   ]
  }
 ],
 "metadata": {
  "kernelspec": {
   "display_name": "base",
   "language": "python",
   "name": "python3"
  },
  "language_info": {
   "codemirror_mode": {
    "name": "ipython",
    "version": 3
   },
   "file_extension": ".py",
   "mimetype": "text/x-python",
   "name": "python",
   "nbconvert_exporter": "python",
   "pygments_lexer": "ipython3",
   "version": "3.9.16"
  },
  "orig_nbformat": 4
 },
 "nbformat": 4,
 "nbformat_minor": 2
}
