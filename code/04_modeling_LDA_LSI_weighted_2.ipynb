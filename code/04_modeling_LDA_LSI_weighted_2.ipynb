{
 "cells": [
  {
   "attachments": {},
   "cell_type": "markdown",
   "metadata": {},
   "source": [
    "# LDA (Latent Dirichlet Allocation) & LSI (Latent Semantic Indexing)"
   ]
  },
  {
   "cell_type": "markdown",
   "metadata": {},
   "source": [
    "#### Set parameters for how final model results will be saved"
   ]
  },
  {
   "cell_type": "code",
   "execution_count": 1,
   "metadata": {},
   "outputs": [],
   "source": [
    "tokenized_run_name = \"weighted_1_tokens\"  #manually input the filename (no extension) to be used as input"
   ]
  },
  {
   "cell_type": "code",
   "execution_count": 2,
   "metadata": {},
   "outputs": [],
   "source": [
    "data_directory = \"../data/\"\n",
    "output_directory = \"../outputs/\""
   ]
  },
  {
   "cell_type": "code",
   "execution_count": 3,
   "metadata": {},
   "outputs": [],
   "source": [
    "base_model_type = \"lda_lsi\"\n",
    "model_name_suffix = \"\"  #default should be blank; use to make note of any other mods\n",
    "run_number = 2"
   ]
  },
  {
   "cell_type": "code",
   "execution_count": 4,
   "metadata": {},
   "outputs": [],
   "source": [
    "final_model_name = f\"{base_model_type}_{tokenized_run_name[:-7]}_run{run_number}{model_name_suffix}\""
   ]
  },
  {
   "cell_type": "markdown",
   "metadata": {},
   "source": [
    "#### Imports"
   ]
  },
  {
   "cell_type": "code",
   "execution_count": 5,
   "metadata": {},
   "outputs": [],
   "source": [
    "# general use\n",
    "import numpy as np\n",
    "import pandas as pd\n",
    "import matplotlib.pyplot as plt\n",
    "\n",
    "from sklearn.feature_extraction.text import CountVectorizer, TfidfVectorizer\n",
    "\n",
    "# # for LDA modeling & presentation\n",
    "from sklearn.model_selection import GridSearchCV\n",
    "from sklearn.decomposition import LatentDirichletAllocation\n",
    "import pyLDAvis\n",
    "import pyLDAvis.sklearn\n",
    "pyLDAvis.enable_notebook()\n",
    "\n",
    "# # for LSA modeling\n",
    "from sklearn.decomposition import TruncatedSVD\n",
    "\n",
    "# for progress bar on loops\n",
    "from tqdm import tqdm"
   ]
  },
  {
   "attachments": {},
   "cell_type": "markdown",
   "metadata": {},
   "source": [
    "#### Read in Dataframe with tokenized text"
   ]
  },
  {
   "cell_type": "code",
   "execution_count": 6,
   "metadata": {},
   "outputs": [
    {
     "data": {
      "text/html": [
       "<div>\n",
       "<style scoped>\n",
       "    .dataframe tbody tr th:only-of-type {\n",
       "        vertical-align: middle;\n",
       "    }\n",
       "\n",
       "    .dataframe tbody tr th {\n",
       "        vertical-align: top;\n",
       "    }\n",
       "\n",
       "    .dataframe thead th {\n",
       "        text-align: right;\n",
       "    }\n",
       "</style>\n",
       "<table border=\"1\" class=\"dataframe\">\n",
       "  <thead>\n",
       "    <tr style=\"text-align: right;\">\n",
       "      <th></th>\n",
       "      <th>name</th>\n",
       "      <th>href</th>\n",
       "      <th>tokenized_text</th>\n",
       "    </tr>\n",
       "  </thead>\n",
       "  <tbody>\n",
       "    <tr>\n",
       "      <th>0</th>\n",
       "      <td>Game of Thrones</td>\n",
       "      <td>/title/tt0944947/</td>\n",
       "      <td>nine noble family fight control land westeros ...</td>\n",
       "    </tr>\n",
       "    <tr>\n",
       "      <th>1</th>\n",
       "      <td>Prison Break</td>\n",
       "      <td>/title/tt0455275/</td>\n",
       "      <td>due political conspiracy innocent man send dea...</td>\n",
       "    </tr>\n",
       "    <tr>\n",
       "      <th>2</th>\n",
       "      <td>Vikings</td>\n",
       "      <td>/title/tt2306299/</td>\n",
       "      <td>vikings transport us brutal mysterious world r...</td>\n",
       "    </tr>\n",
       "    <tr>\n",
       "      <th>3</th>\n",
       "      <td>The Boys</td>\n",
       "      <td>/title/tt1190634/</td>\n",
       "      <td>group vigilante set take corrupt superheroes a...</td>\n",
       "    </tr>\n",
       "    <tr>\n",
       "      <th>4</th>\n",
       "      <td>The Mandalorian</td>\n",
       "      <td>/title/tt8111088/</td>\n",
       "      <td>travel lone bounty hunter outer reach galaxy f...</td>\n",
       "    </tr>\n",
       "  </tbody>\n",
       "</table>\n",
       "</div>"
      ],
      "text/plain": [
       "              name               href  \\\n",
       "0  Game of Thrones  /title/tt0944947/   \n",
       "1     Prison Break  /title/tt0455275/   \n",
       "2          Vikings  /title/tt2306299/   \n",
       "3         The Boys  /title/tt1190634/   \n",
       "4  The Mandalorian  /title/tt8111088/   \n",
       "\n",
       "                                      tokenized_text  \n",
       "0  nine noble family fight control land westeros ...  \n",
       "1  due political conspiracy innocent man send dea...  \n",
       "2  vikings transport us brutal mysterious world r...  \n",
       "3  group vigilante set take corrupt superheroes a...  \n",
       "4  travel lone bounty hunter outer reach galaxy f...  "
      ]
     },
     "execution_count": 6,
     "metadata": {},
     "output_type": "execute_result"
    }
   ],
   "source": [
    "df = pd.read_csv(f\"{data_directory}{tokenized_run_name}.csv\")\n",
    "df.head()"
   ]
  },
  {
   "cell_type": "code",
   "execution_count": 7,
   "metadata": {},
   "outputs": [
    {
     "data": {
      "text/plain": [
       "name              0\n",
       "href              0\n",
       "tokenized_text    0\n",
       "dtype: int64"
      ]
     },
     "execution_count": 7,
     "metadata": {},
     "output_type": "execute_result"
    }
   ],
   "source": [
    "df.isna().sum()"
   ]
  },
  {
   "cell_type": "code",
   "execution_count": 8,
   "metadata": {},
   "outputs": [],
   "source": [
    "df.fillna(\"\",inplace=True)"
   ]
  },
  {
   "attachments": {},
   "cell_type": "markdown",
   "metadata": {},
   "source": [
    "#### Count Vectorization & TfIDF"
   ]
  },
  {
   "cell_type": "code",
   "execution_count": 9,
   "metadata": {},
   "outputs": [],
   "source": [
    "# Function draws heavily from Jiamei Wang's code: \n",
    "# Technique reference: (Jiamei Wang) https://medium.com/swlh/sentiment-analysis-topic-modeling-for-hotel-reviews-6b83653f5b08\n",
    "# (Separated into sub-functions to allow for faster parameter tuning)\n",
    "\n",
    "def make_tfidf(input_df, text_colname='tokenized_text'):\n",
    "    '''\n",
    "    INPUTS:\n",
    "        input_df - dataframe that contains the combined text summaries\n",
    "        text_colname: name of column that contains the combined text summaries\n",
    "        \n",
    "    OUTPUTS:\n",
    "        dtm_tfidf - document-term matrix in the tfidf format\n",
    "        tfidf_vectorizer - word frequency in the reviews\n",
    "    '''\n",
    "    docs_raw = input_df[text_colname].tolist()\n",
    "\n",
    "    #************   Step 1: Convert to document-term matrix   ************#\n",
    "\n",
    "    #Transform text to vector form using the vectorizer object \n",
    "    cvec = CountVectorizer(strip_accents = 'unicode',\n",
    "                            stop_words = 'english',\n",
    "                            lowercase = True,\n",
    "                            token_pattern = r'\\b[a-zA-Z]{3,}\\b', # num chars > 3 to avoid some meaningless words\n",
    "                            max_df = 0.5,                        # discard words that appear in > 50% of the reviews\n",
    "                            min_df = 10)                         # discard words that appear in < 10 reviews    \n",
    "\n",
    "    #apply transformation\n",
    "    tfidf_vectorizer = TfidfVectorizer(**cvec.get_params())\n",
    "\n",
    "    #convert to document-term matrix\n",
    "    dtm_tfidf = tfidf_vectorizer.fit_transform(docs_raw)  \n",
    "\n",
    "    print(\"The shape of the tfidf is {}, meaning that there are {} non-unique words in {} and {} tokens made through the filtering process.\".\\\n",
    "              format(dtm_tfidf.shape,dtm_tfidf.shape[0], text_colname, dtm_tfidf.shape[1]))\n",
    "    \n",
    "    # return tf_vectorizer, tfidf_vectorizer, dtm_tfidf\n",
    "    return tfidf_vectorizer, dtm_tfidf"
   ]
  },
  {
   "cell_type": "code",
   "execution_count": 10,
   "metadata": {},
   "outputs": [
    {
     "name": "stderr",
     "output_type": "stream",
     "text": [
      "d:\\anaconda3\\lib\\site-packages\\sklearn\\feature_extraction\\text.py:2070: UserWarning: Only (<class 'numpy.float64'>, <class 'numpy.float32'>, <class 'numpy.float16'>) 'dtype' should be used. <class 'numpy.int64'> 'dtype' will be converted to np.float64.\n",
      "  warnings.warn(\n"
     ]
    },
    {
     "name": "stdout",
     "output_type": "stream",
     "text": [
      "The shape of the tfidf is (2484, 16937), meaning that there are 2484 non-unique words in tokenized_text and 16937 tokens made through the filtering process.\n"
     ]
    }
   ],
   "source": [
    "tfidf_vectorizer, dtm_tfidf = make_tfidf(df, 'tokenized_text')"
   ]
  },
  {
   "attachments": {},
   "cell_type": "markdown",
   "metadata": {},
   "source": [
    "#### Grid Search for best LDA model"
   ]
  },
  {
   "cell_type": "code",
   "execution_count": 11,
   "metadata": {},
   "outputs": [],
   "source": [
    "# Define Grid Search Parameters\n",
    "search_params = {'n_components': [5, 10, 20, 30],       # testing suggests it always picks 5 topics as \"best\"\n",
    "                    'learning_decay': [.5, .7, .9]}     # does not always return same \"best\" learning decay"
   ]
  },
  {
   "cell_type": "code",
   "execution_count": 12,
   "metadata": {},
   "outputs": [],
   "source": [
    "# Function draws from Jiamei Wang's code, with modifications & optimizations: \n",
    "# Technique reference: (Jiamei Wang) https://medium.com/swlh/sentiment-analysis-topic-modeling-for-hotel-reviews-6b83653f5b08\n",
    "# (Separated into sub-functions to allow for faster parameter tuning)\n",
    "\n",
    "def lda_gridsearch(dtm_tfidf, search_params):\n",
    "    '''\n",
    "    INPUTS:\n",
    "        dtm_tfidf - document-term matrix in the tfidf format\n",
    "        search_params - a dictionary of parameters to be used in the grid search\n",
    "        \n",
    "    OUTPUTS:\n",
    "        model_gs - the GridSearchCV object\n",
    "        best_lda_model - the best model, as determined by the grid search\n",
    "    '''\n",
    "\n",
    "    #*******   Step 2: GridSearch & parameter tuning to find the optimal LDA model   *******#\n",
    "\n",
    "    # Init the Model\n",
    "    lda = LatentDirichletAllocation()\n",
    "\n",
    "    # Init Grid Search Class\n",
    "    model_gs = GridSearchCV(lda, param_grid=search_params, n_jobs=8, verbose=3)\n",
    "\n",
    "    # Do the Grid Search\n",
    "    model_gs.fit(dtm_tfidf)\n",
    "\n",
    "    #*****  Step 3: Output the optimal lda model and its parameters  *****#\n",
    "\n",
    "    # Best Model\n",
    "    best_lda_model = model_gs.best_estimator_\n",
    "\n",
    "    # Model Parameters\n",
    "    print(\"Best Model's Params: \", model_gs.best_params_)\n",
    "\n",
    "    # Log Likelihood Score: Higher the better\n",
    "    print(\"Model Log Likelihood Score: \", model_gs.best_score_)\n",
    "\n",
    "    # Perplexity: Lower the better. Perplexity = exp(-1. * log-likelihood per word)\n",
    "    print(\"Model Perplexity: \", best_lda_model.perplexity(dtm_tfidf))\n",
    "\n",
    "    return model_gs, best_lda_model"
   ]
  },
  {
   "cell_type": "code",
   "execution_count": 13,
   "metadata": {},
   "outputs": [
    {
     "name": "stdout",
     "output_type": "stream",
     "text": [
      "Fitting 5 folds for each of 12 candidates, totalling 60 fits\n",
      "Best Model's Params:  {'learning_decay': 0.7, 'n_components': 5}\n",
      "Model Log Likelihood Score:  -44026.22009143875\n",
      "Model Perplexity:  24045.947671849368\n"
     ]
    }
   ],
   "source": [
    "model_gs, best_lda_model = lda_gridsearch(dtm_tfidf, search_params)"
   ]
  },
  {
   "attachments": {},
   "cell_type": "markdown",
   "metadata": {},
   "source": [
    "#### Plotting LDA model performance"
   ]
  },
  {
   "cell_type": "code",
   "execution_count": 14,
   "metadata": {},
   "outputs": [],
   "source": [
    "# Function draws from Jiamei Wang's code, with modifications & optimizations: \n",
    "# Technique reference: (Jiamei Wang) https://medium.com/swlh/sentiment-analysis-topic-modeling-for-hotel-reviews-6b83653f5b08\n",
    "# (Separated into sub-functions to allow for faster parameter tuning)\n",
    "\n",
    "def lda_plot_performance(model_gs, search_params):\n",
    "    ''' \n",
    "    INPUTS:\n",
    "        model_gs - the GridSearchCV object\n",
    "        \n",
    "    OUTPUTS:\n",
    "        A graph comparing LDA Model Performance Scores with different params\n",
    "    '''\n",
    "\n",
    "    #***********   Step 4: Compare LDA Model Performance Scores   ***********#\n",
    "\n",
    "    #Get Log Likelihoods from Grid Search Output\n",
    "    gscore=model_gs.cv_results_\n",
    "\n",
    "    log_likelihoods = {}\n",
    "    for i in search_params['learning_decay']:\n",
    "        log_likelihoods[i] = [gscore['mean_test_score'][gscore['params'].index(v)] for v in gscore['params'] if v['learning_decay']==i]\n",
    "\n",
    "    # Show graph\n",
    "    plt.figure(figsize=(12, 8))\n",
    "    for i in log_likelihoods:\n",
    "        plt.plot(search_params['n_components'], log_likelihoods[i], label=i)\n",
    " \n",
    "    plt.title(\"Choosing Optimal LDA Model\")\n",
    "    plt.xlabel(\"Num Topics\")\n",
    "    plt.ylabel(\"Log Likelihood Scores\")\n",
    "    plt.legend(title='Learning decay', loc='best')\n",
    "    plt.show()\n",
    "    \n",
    "    return"
   ]
  },
  {
   "cell_type": "code",
   "execution_count": 15,
   "metadata": {},
   "outputs": [
    {
     "data": {
      "image/png": "[encoded data removed]",
      "text/plain": [
       "<Figure size 1200x800 with 1 Axes>"
      ]
     },
     "metadata": {},
     "output_type": "display_data"
    }
   ],
   "source": [
    "lda_plot_performance(model_gs, search_params)"
   ]
  },
  {
   "attachments": {},
   "cell_type": "markdown",
   "metadata": {},
   "source": [
    "#### (optional) Combined function for creating \"best\" LDA model with performance plot"
   ]
  },
  {
   "cell_type": "code",
   "execution_count": 16,
   "metadata": {},
   "outputs": [],
   "source": [
    "# Technique reference: (Jiamei Wang) https://medium.com/swlh/sentiment-analysis-topic-modeling-for-hotel-reviews-6b83653f5b08\n",
    "# (Separated into sub-functions to allow for more convenient parameter tuning)\n",
    "# Once tuned/optimized, all 3 sub-functions can be run together in one command, wholly recreating the method used in the source referenced above\n",
    "\n",
    "def optimal_lda_model(input_df, text_colname, search_params):\n",
    "    '''\n",
    "    INPUTS:\n",
    "        input_df - dataframe that contains the combined text summaries\n",
    "        text_colname: name of column that contains the combined text summaries\n",
    "        search_params - a dictionary of parameters to be used in the grid search\n",
    "        \n",
    "    OUTPUTS:\n",
    "        best_lda_model - the best model, as determined by the grid search\n",
    "        dtm_tfidf - document-term matrix in the tfidf format\n",
    "        tfidf_vectorizer - word frequency in the reviews\n",
    "    '''\n",
    "    \n",
    "    tfidf_vectorizer, dtm_tfidf = make_tfidf(input_df, text_colname)\n",
    "    model_gs, best_lda_model = lda_gridsearch(dtm_tfidf, search_params)\n",
    "    lda_plot_performance(model_gs, search_params)\n",
    "\n",
    "    return best_lda_model, dtm_tfidf, tfidf_vectorizer"
   ]
  },
  {
   "cell_type": "code",
   "execution_count": 17,
   "metadata": {},
   "outputs": [],
   "source": [
    "# (Same as above, in one single function call)\n",
    "\n",
    "# best_lda_model, dtm_tfidf, tfidf_vectorizer = optimal_lda_model(df, 'combined_text', search_params)"
   ]
  },
  {
   "cell_type": "code",
   "execution_count": null,
   "metadata": {},
   "outputs": [],
   "source": []
  },
  {
   "attachments": {},
   "cell_type": "markdown",
   "metadata": {},
   "source": [
    "#### Display topic keywords & weights"
   ]
  },
  {
   "cell_type": "code",
   "execution_count": 18,
   "metadata": {},
   "outputs": [],
   "source": [
    "# Function excerpted directly with no additional modifications from: (Jiamei Wang)\n",
    "# https://medium.com/swlh/sentiment-analysis-topic-modeling-for-hotel-reviews-6b83653f5b08\n",
    "\n",
    "#Create a function to inspect the topics we created \n",
    "def display_topics(model, feature_names, n_top_words):\n",
    "    '''\n",
    "    INPUTS:\n",
    "        model - the model we created\n",
    "        feature_names - tells us what word each column in the matric represents\n",
    "        n_top_words - number of top words to display\n",
    "    OUTPUTS:\n",
    "        a dataframe that contains the topics we created and the weights of each token\n",
    "    '''\n",
    "    topic_dict = {}\n",
    "    for topic_idx, topic in tqdm(enumerate(model.components_)):\n",
    "        topic_dict[\"Topic %d words\" % (topic_idx+1)]= ['{}'.format(feature_names[i])\n",
    "                        for i in topic.argsort()[:-n_top_words - 1:-1]]\n",
    "        topic_dict[\"Topic %d weights\" % (topic_idx+1)]= ['{:.1f}'.format(topic[i])\n",
    "                        for i in topic.argsort()[:-n_top_words - 1:-1]]\n",
    "    return pd.DataFrame(topic_dict)\n"
   ]
  },
  {
   "cell_type": "code",
   "execution_count": 19,
   "metadata": {},
   "outputs": [
    {
     "name": "stderr",
     "output_type": "stream",
     "text": [
      "5it [00:00, 475.61it/s]\n"
     ]
    },
    {
     "data": {
      "text/html": [
       "<div>\n",
       "<style scoped>\n",
       "    .dataframe tbody tr th:only-of-type {\n",
       "        vertical-align: middle;\n",
       "    }\n",
       "\n",
       "    .dataframe tbody tr th {\n",
       "        vertical-align: top;\n",
       "    }\n",
       "\n",
       "    .dataframe thead th {\n",
       "        text-align: right;\n",
       "    }\n",
       "</style>\n",
       "<table border=\"1\" class=\"dataframe\">\n",
       "  <thead>\n",
       "    <tr style=\"text-align: right;\">\n",
       "      <th></th>\n",
       "      <th>Topic 1 words</th>\n",
       "      <th>Topic 1 weights</th>\n",
       "      <th>Topic 2 words</th>\n",
       "      <th>Topic 2 weights</th>\n",
       "      <th>Topic 3 words</th>\n",
       "      <th>Topic 3 weights</th>\n",
       "      <th>Topic 4 words</th>\n",
       "      <th>Topic 4 weights</th>\n",
       "      <th>Topic 5 words</th>\n",
       "      <th>Topic 5 weights</th>\n",
       "    </tr>\n",
       "  </thead>\n",
       "  <tbody>\n",
       "    <tr>\n",
       "      <th>0</th>\n",
       "      <td>mysticism</td>\n",
       "      <td>0.2</td>\n",
       "      <td>anime</td>\n",
       "      <td>57.1</td>\n",
       "      <td>comedy</td>\n",
       "      <td>180.3</td>\n",
       "      <td>mysticism</td>\n",
       "      <td>0.2</td>\n",
       "      <td>genetics</td>\n",
       "      <td>1.5</td>\n",
       "    </tr>\n",
       "    <tr>\n",
       "      <th>1</th>\n",
       "      <td>furry</td>\n",
       "      <td>0.2</td>\n",
       "      <td>manga</td>\n",
       "      <td>33.9</td>\n",
       "      <td>crime</td>\n",
       "      <td>134.5</td>\n",
       "      <td>furry</td>\n",
       "      <td>0.2</td>\n",
       "      <td>cuisine</td>\n",
       "      <td>1.1</td>\n",
       "    </tr>\n",
       "    <tr>\n",
       "      <th>2</th>\n",
       "      <td>dusk</td>\n",
       "      <td>0.2</td>\n",
       "      <td>animation</td>\n",
       "      <td>28.5</td>\n",
       "      <td>romance</td>\n",
       "      <td>96.4</td>\n",
       "      <td>dusk</td>\n",
       "      <td>0.2</td>\n",
       "      <td>culinary</td>\n",
       "      <td>1.0</td>\n",
       "    </tr>\n",
       "    <tr>\n",
       "      <th>3</th>\n",
       "      <td>standoff</td>\n",
       "      <td>0.2</td>\n",
       "      <td>action</td>\n",
       "      <td>24.7</td>\n",
       "      <td>animation</td>\n",
       "      <td>91.9</td>\n",
       "      <td>standoff</td>\n",
       "      <td>0.2</td>\n",
       "      <td>zeitgeist</td>\n",
       "      <td>0.7</td>\n",
       "    </tr>\n",
       "    <tr>\n",
       "      <th>4</th>\n",
       "      <td>valhalla</td>\n",
       "      <td>0.2</td>\n",
       "      <td>adventure</td>\n",
       "      <td>20.9</td>\n",
       "      <td>adventure</td>\n",
       "      <td>84.4</td>\n",
       "      <td>valhalla</td>\n",
       "      <td>0.2</td>\n",
       "      <td>dining</td>\n",
       "      <td>0.6</td>\n",
       "    </tr>\n",
       "    <tr>\n",
       "      <th>5</th>\n",
       "      <td>hideout</td>\n",
       "      <td>0.2</td>\n",
       "      <td>space</td>\n",
       "      <td>18.0</td>\n",
       "      <td>mystery</td>\n",
       "      <td>83.8</td>\n",
       "      <td>hideout</td>\n",
       "      <td>0.2</td>\n",
       "      <td>cooking</td>\n",
       "      <td>0.3</td>\n",
       "    </tr>\n",
       "    <tr>\n",
       "      <th>6</th>\n",
       "      <td>brutus</td>\n",
       "      <td>0.2</td>\n",
       "      <td>shounen</td>\n",
       "      <td>16.9</td>\n",
       "      <td>action</td>\n",
       "      <td>79.8</td>\n",
       "      <td>brutus</td>\n",
       "      <td>0.2</td>\n",
       "      <td>chef</td>\n",
       "      <td>0.2</td>\n",
       "    </tr>\n",
       "    <tr>\n",
       "      <th>7</th>\n",
       "      <td>vigilantism</td>\n",
       "      <td>0.2</td>\n",
       "      <td>superhero</td>\n",
       "      <td>14.2</td>\n",
       "      <td>fantasy</td>\n",
       "      <td>67.8</td>\n",
       "      <td>vigilantism</td>\n",
       "      <td>0.2</td>\n",
       "      <td>flux</td>\n",
       "      <td>0.2</td>\n",
       "    </tr>\n",
       "    <tr>\n",
       "      <th>8</th>\n",
       "      <td>mushroom</td>\n",
       "      <td>0.2</td>\n",
       "      <td>apocalyptic</td>\n",
       "      <td>12.9</td>\n",
       "      <td>thriller</td>\n",
       "      <td>60.9</td>\n",
       "      <td>mushroom</td>\n",
       "      <td>0.2</td>\n",
       "      <td>fine</td>\n",
       "      <td>0.2</td>\n",
       "    </tr>\n",
       "    <tr>\n",
       "      <th>9</th>\n",
       "      <td>tulsa</td>\n",
       "      <td>0.2</td>\n",
       "      <td>seinen</td>\n",
       "      <td>10.2</td>\n",
       "      <td>novel</td>\n",
       "      <td>59.3</td>\n",
       "      <td>tulsa</td>\n",
       "      <td>0.2</td>\n",
       "      <td>regenerative</td>\n",
       "      <td>0.2</td>\n",
       "    </tr>\n",
       "  </tbody>\n",
       "</table>\n",
       "</div>"
      ],
      "text/plain": [
       "  Topic 1 words Topic 1 weights Topic 2 words Topic 2 weights Topic 3 words  \\\n",
       "0     mysticism             0.2         anime            57.1        comedy   \n",
       "1         furry             0.2         manga            33.9         crime   \n",
       "2          dusk             0.2     animation            28.5       romance   \n",
       "3      standoff             0.2        action            24.7     animation   \n",
       "4      valhalla             0.2     adventure            20.9     adventure   \n",
       "5       hideout             0.2         space            18.0       mystery   \n",
       "6        brutus             0.2       shounen            16.9        action   \n",
       "7   vigilantism             0.2     superhero            14.2       fantasy   \n",
       "8      mushroom             0.2   apocalyptic            12.9      thriller   \n",
       "9         tulsa             0.2        seinen            10.2         novel   \n",
       "\n",
       "  Topic 3 weights Topic 4 words Topic 4 weights Topic 5 words Topic 5 weights  \n",
       "0           180.3     mysticism             0.2      genetics             1.5  \n",
       "1           134.5         furry             0.2       cuisine             1.1  \n",
       "2            96.4          dusk             0.2      culinary             1.0  \n",
       "3            91.9      standoff             0.2     zeitgeist             0.7  \n",
       "4            84.4      valhalla             0.2        dining             0.6  \n",
       "5            83.8       hideout             0.2       cooking             0.3  \n",
       "6            79.8        brutus             0.2          chef             0.2  \n",
       "7            67.8   vigilantism             0.2          flux             0.2  \n",
       "8            60.9      mushroom             0.2          fine             0.2  \n",
       "9            59.3         tulsa             0.2  regenerative             0.2  "
      ]
     },
     "execution_count": 19,
     "metadata": {},
     "output_type": "execute_result"
    }
   ],
   "source": [
    "lda_topic_words = display_topics(best_lda_model, tfidf_vectorizer.get_feature_names_out(), n_top_words = 30) \n",
    "lda_topic_words.head(10)"
   ]
  },
  {
   "attachments": {},
   "cell_type": "markdown",
   "metadata": {},
   "source": [
    "#### Visualizing LDA output with the pyLDAvis library"
   ]
  },
  {
   "cell_type": "code",
   "execution_count": 20,
   "metadata": {},
   "outputs": [
    {
     "name": "stderr",
     "output_type": "stream",
     "text": [
      "d:\\anaconda3\\lib\\site-packages\\pyLDAvis\\_prepare.py:243: FutureWarning: In a future version of pandas all arguments of DataFrame.drop except for the argument 'labels' will be keyword-only.\n",
      "  default_term_info = default_term_info.sort_values(\n"
     ]
    },
    {
     "data": {
      "text/html": [
       "\n",
       "<link rel=\"stylesheet\" type=\"text/css\" href=\"https://cdn.jsdelivr.net/gh/bmabey/pyLDAvis@3.4.0/pyLDAvis/js/ldavis.v1.0.0.css\">\n",
       "\n",
       "\n",
       "<div id=\"ldavis_el4174424656972293926002587751\" style=\"background-color:white;\"></div>\n",
       "<script type=\"text/javascript\">\n",
       "\n",
       "var ldavis_el4174424656972293926002587751_data = {\"mdsDat\": {\"x\": [0.11057051157558549, -0.039637827501196043, -0.023746128641492004, -0.023593275981465264, -0.023593279451432206], \"y\": [-0.005083261831590405, -0.042659300231425404, 0.01609147641832273, 0.01582554263244654, 0.015825543012246465], \"topics\": [1, 2, 3, 4, 5], \"cluster\": [1, 1, 1, 1, 1], \"Freq\": [86.09722970390025, 6.800983976680941, 2.377357478370073, 2.362214420637346, 2.36221442041138]}, \"tinfo\": {\"Term\": [\"animation\", \"action\", \"adventure\", \"anime\", \"superhero\", \"manga\", \"space\", \"alien\", \"super\", \"magic\", \"future\", \"shounen\", \"comedy\", \"martial\", \"survival\", \"planet\", \"power\", \"apocalyptic\", \"universe\", \"demon\", \"arts\", \"japanese\", \"marvel\", \"dragon\", \"hero\", \"post\", \"slice\", \"apocalypse\", \"seinen\", \"robot\", \"comedy\", \"crime\", \"romance\", \"mystery\", \"horror\", \"sitcom\", \"detective\", \"murder\", \"investigation\", \"police\", \"thriller\", \"biography\", \"england\", \"book\", \"relationship\", \"adult\", \"city\", \"york\", \"teen\", \"california\", \"anthology\", \"reality\", \"true\", \"criminal\", \"music\", \"novel\", \"lgbt\", \"sport\", \"period\", \"miniseries\", \"documentary\", \"fantasy\", \"school\", \"sci\", \"history\", \"friendship\", \"adventure\", \"animation\", \"action\", \"supernatural\", \"war\", \"anime\", \"manga\", \"shounen\", \"seinen\", \"apocalyptic\", \"mcu\", \"dystopia\", \"cyberpunk\", \"ecchi\", \"mecha\", \"gunfight\", \"swordplay\", \"drastic\", \"shonen\", \"mutant\", \"samurai\", \"yakuza\", \"sorcery\", \"spacecraft\", \"marvel\", \"funimation\", \"cosmos\", \"naruto\", \"stargate\", \"colony\", \"astronomy\", \"starship\", \"elves\", \"gods\", \"viking\", \"gore\", \"nazi\", \"japanese\", \"sword\", \"mythology\", \"tournament\", \"tokyo\", \"japan\", \"ninja\", \"cinematic\", \"space\", \"tragedy\", \"martial\", \"slice\", \"animation\", \"superhero\", \"action\", \"adventure\", \"dragon\", \"super\", \"alien\", \"planet\", \"invasion\", \"future\", \"magic\", \"universe\", \"genetics\", \"cuisine\", \"zeitgeist\", \"dining\", \"kikuchi\", \"honya\", \"eisenbeis\", \"saikyo\", \"niconico\", \"toshio\", \"douresseaux\", \"shigeru\", \"shimbun\", \"kazuyuki\", \"uchiyama\", \"masaki\", \"shuhei\", \"seiun\", \"ushio\", \"tomokazu\", \"mizuki\", \"kaze\", \"gakuen\", \"koichi\", \"aichi\", \"atsuko\", \"toho\", \"takao\", \"sequential\", \"takarajimasha\", \"culinary\", \"cooking\", \"regenerative\", \"tutelage\", \"declared\", \"screams\", \"oakes\", \"flux\", \"paloma\", \"synthetic\", \"rushed\", \"counts\", \"chef\", \"somethings\", \"favreau\", \"pastry\", \"redefine\", \"jing\", \"munich\", \"promoted\", \"fine\", \"ricci\", \"precocious\", \"heaton\", \"bradbury\", \"nomadic\", \"vengeance\", \"arts\", \"random\", \"genetic\", \"kikuchi\", \"honya\", \"eisenbeis\", \"saikyo\", \"niconico\", \"toshio\", \"douresseaux\", \"shigeru\", \"shimbun\", \"kazuyuki\", \"uchiyama\", \"masaki\", \"shuhei\", \"seiun\", \"ushio\", \"tomokazu\", \"mizuki\", \"kaze\", \"gakuen\", \"koichi\", \"aichi\", \"atsuko\", \"toho\", \"takao\", \"sequential\", \"takarajimasha\", \"mayumi\", \"cours\", \"remade\", \"bookscan\", \"yume\", \"zreik\", \"translations\", \"dubs\", \"australasia\", \"mysticism\", \"furry\", \"dusk\", \"standoff\", \"valhalla\", \"hideout\", \"brutus\", \"vigilantism\", \"mushroom\", \"tulsa\", \"lowenthal\", \"mage\", \"tennyson\", \"titans\", \"allied\", \"helpless\", \"ghul\", \"espionage\", \"interstellar\", \"teleportation\", \"ona\", \"cyborg\", \"startup\", \"arctic\", \"continents\", \"horde\", \"maki\", \"darkwing\", \"opium\", \"claudius\", \"kikuchi\", \"honya\", \"eisenbeis\", \"saikyo\", \"niconico\", \"toshio\", \"douresseaux\", \"shigeru\", \"shimbun\", \"kazuyuki\", \"uchiyama\", \"masaki\", \"shuhei\", \"seiun\", \"ushio\", \"tomokazu\", \"mizuki\", \"kaze\", \"gakuen\", \"koichi\", \"aichi\", \"atsuko\", \"toho\", \"takao\", \"sequential\", \"takarajimasha\", \"mayumi\", \"cours\", \"remade\", \"bookscan\", \"yume\", \"zreik\", \"translations\", \"dubs\", \"australasia\", \"mysticism\", \"furry\", \"dusk\", \"standoff\", \"valhalla\", \"hideout\", \"brutus\", \"vigilantism\", \"mushroom\", \"tulsa\", \"lowenthal\", \"mage\", \"tennyson\", \"titans\", \"allied\", \"helpless\", \"ghul\", \"espionage\", \"interstellar\", \"teleportation\", \"ona\", \"cyborg\", \"startup\", \"arctic\", \"continents\", \"horde\", \"maki\", \"darkwing\", \"opium\", \"claudius\"], \"Freq\": [78.0, 68.0, 70.0, 15.0, 20.0, 9.0, 11.0, 21.0, 11.0, 13.0, 11.0, 4.0, 139.0, 5.0, 8.0, 6.0, 21.0, 3.0, 6.0, 8.0, 5.0, 3.0, 3.0, 4.0, 7.0, 8.0, 3.0, 5.0, 2.0, 9.0, 138.9625699005797, 103.69276593293549, 74.33273447842818, 64.61972810319786, 41.5225977560058, 37.763360620996494, 32.13776229016973, 32.910782661075146, 31.205939274312883, 30.7907159426909, 46.95515741903749, 31.806161214282014, 23.65784833944578, 36.57712957997244, 22.278129867060677, 20.64640440291956, 19.94721402895989, 19.304711908856206, 18.687078601659845, 18.601600679646058, 18.400579089573117, 20.995595535328125, 17.77372674234788, 17.43399752235616, 17.635709516401718, 45.67954779620534, 16.921457425752422, 16.3672553337955, 15.018037832233418, 34.80312143193384, 41.895219742486, 52.22438187320002, 30.89655480824785, 33.22545837486285, 26.264009761355908, 22.530967215815558, 65.05279686899014, 70.8292697912753, 61.50665797473225, 23.91906173080018, 20.99964916080405, 15.268616361789716, 9.054995517704954, 4.515709448534248, 2.733139505796136, 3.4521966989129393, 2.3046303058150848, 2.5883564174447558, 1.7754602698454645, 1.3939232964234434, 1.1418144092417055, 1.0557972986599657, 0.9405718941063144, 1.086482794454827, 0.7293483927885137, 1.4289356619893818, 1.0773737154126735, 0.723979041750396, 0.6953241628697148, 1.307596058380253, 2.6944352436618075, 0.6255936022247804, 0.6066672701576608, 0.5563182614393422, 0.6579574470840867, 0.9624989739468031, 0.6877675247758944, 0.6106021826331729, 0.6864194531055461, 0.9265124649472986, 0.9014196777273328, 2.096750958692623, 1.4206074319552582, 2.484769595794169, 2.0442558504773243, 1.6823916616486756, 1.3431711936739081, 1.049298092703675, 2.0104890850886656, 1.1135036865883547, 1.3525239799744884, 4.805140204310432, 1.811163821307173, 2.1878004399110584, 1.7411829390209157, 7.622688056086668, 3.8025864490458177, 6.607260822298133, 5.579641608869425, 1.7486889532256604, 2.2576086071430117, 2.2312125929150346, 1.6808011239271248, 1.48287312176611, 1.6103657932445954, 1.5576647316694148, 1.4357139737019664, 0.19567079797956077, 0.14027043040875725, 0.0946294609347879, 0.08272186941007141, 0.025546116429499797, 0.025546205970891644, 0.025546171615465373, 0.025545117746561354, 0.02554670576179754, 0.025547575794643666, 0.025545654941238054, 0.025547114532751065, 0.025546981282496755, 0.02554674196357037, 0.025547826711846206, 0.025545836755066883, 0.025546651542575658, 0.02554616747508599, 0.025545208313189714, 0.025545957371510494, 0.025548542625564254, 0.025545613541191538, 0.025545508393757632, 0.025546662190118512, 0.025546149715948315, 0.02554728352972019, 0.025546605152810695, 0.025545645214568233, 0.025549468789710462, 0.025545748846491856, 0.12280166240123949, 0.04018995324391012, 0.02617801944246616, 0.02593163056234024, 0.02587997976595207, 0.025863846943389772, 0.025843061551401772, 0.026308363694496104, 0.026026767360165712, 0.026015727651457658, 0.02577176552849868, 0.025734790539437214, 0.027539283667385537, 0.025832453452399644, 0.026066359054825034, 0.025793256877286695, 0.0257632262132274, 0.025652912195073898, 0.025662235847742514, 0.025710545301997272, 0.026189422823163628, 0.02574436592408838, 0.0257007306281058, 0.025729778370817163, 0.02568934579353085, 0.025680397309649654, 0.025825537750944937, 0.025765523810406723, 0.025730080825379278, 0.025700332370723045, 0.02541505863668974, 0.025415147924844866, 0.02541510807938778, 0.02541403609760198, 0.02541564595827087, 0.02541651302428794, 0.02541459879013611, 0.025416053364320717, 0.02541591665525582, 0.025415681950873414, 0.02541676308595215, 0.025414774944971505, 0.02541559195633038, 0.025415107946764267, 0.02541415372600319, 0.02541490018226582, 0.02541747650481364, 0.02541455753636766, 0.025414430402535302, 0.025415599975108925, 0.025415091780214723, 0.025416221766262036, 0.025415545723173873, 0.025414589086766918, 0.025418394268146613, 0.025414692352565334, 0.02541564750176784, 0.025415767942572283, 0.025417744928021135, 0.025415120616348406, 0.02541751462819227, 0.025420315443337043, 0.025419862104446047, 0.025418883966878008, 0.025419765129157997, 0.025471023383177558, 0.025447687269182034, 0.025442348824021563, 0.025440011771791893, 0.025434183207045265, 0.025434098326252992, 0.0254339169708702, 0.025433411998740683, 0.025432683550391178, 0.025432186832042798, 0.02543168707546869, 0.025431590347773377, 0.02543148837373005, 0.025431470561468224, 0.025431309792549647, 0.025431213994308123, 0.02543111747376377, 0.02543097252497233, 0.025430908476931736, 0.025430854956729875, 0.02543067354097036, 0.025430631835098673, 0.025430522629646755, 0.02543039297963643, 0.025430261335630578, 0.025429991587215487, 0.02542962289473479, 0.02542948747790901, 0.025429043219554227, 0.025428602070328852, 0.025415059101551882, 0.025415148391322816, 0.025415108544661707, 0.025414036549252852, 0.02541564643117843, 0.0254165135076389, 0.02541459924949744, 0.025416053842441933, 0.025415917131335206, 0.0254156824245474, 0.025416763573153787, 0.025414775405974085, 0.025415592427827687, 0.025415108412036414, 0.025414154179137408, 0.025414900644791537, 0.025417477001178627, 0.02541455799472671, 0.02541443085918737, 0.025415600446909034, 0.025415092245430586, 0.025416222246386986, 0.02541554619428525, 0.025414589545275416, 0.02541839477796341, 0.025414692812641523, 0.025415647973733288, 0.02541576841620305, 0.02541774543716001, 0.025415121082443738, 0.025417515125324672, 0.025420315978811142, 0.02541986244363861, 0.02541888448274019, 0.02541976565701055, 0.02547102474729589, 0.025447688183329792, 0.02544234967852087, 0.0254400126196631, 0.025434183744912946, 0.025434099038174153, 0.02543391769624186, 0.025433412728609973, 0.02543268427719055, 0.025432187533535783, 0.025431687752621324, 0.02543159103022719, 0.025431489055369953, 0.02543147124503729, 0.025431310524934, 0.02543121468783346, 0.02543111818461129, 0.02543097319076221, 0.025430909147094033, 0.025430855660906363, 0.02543067419683964, 0.02543063251309507, 0.025430523323802436, 0.025430393656134587, 0.025430262022602106, 0.025429992209840595, 0.025429623560927386, 0.025429488193580922, 0.02542904388304738, 0.025428602720500043], \"Total\": [78.0, 68.0, 70.0, 15.0, 20.0, 9.0, 11.0, 21.0, 11.0, 13.0, 11.0, 4.0, 139.0, 5.0, 8.0, 6.0, 21.0, 3.0, 6.0, 8.0, 5.0, 3.0, 3.0, 4.0, 7.0, 8.0, 3.0, 5.0, 2.0, 9.0, 139.09423644289376, 103.84674017224319, 74.4791549724689, 64.7521656683551, 41.65293674137646, 37.893216488814275, 32.26841016348872, 33.04714953519852, 31.33586847305833, 30.920823662375874, 47.15492697098339, 31.974922763878464, 23.787881760629904, 36.787881624348515, 22.408172397269475, 20.77691526226673, 20.077884208618602, 19.434673170972463, 18.817289185090523, 18.73151096521338, 18.530908018402435, 21.147719844389812, 17.904906358901137, 17.564048702996438, 17.767348390426122, 46.02173632317117, 17.051328336282626, 16.49735139918098, 15.15412891894198, 35.12389971938682, 42.444144755595765, 53.06370193661001, 31.596372497311943, 34.18136161142867, 26.80701949663163, 22.90257477287506, 70.70881317824076, 78.52832918793261, 68.19029394271381, 24.915884646120546, 21.941311306496697, 15.508311763354381, 9.292826649870266, 4.747311938655178, 2.9651338843591133, 3.796245194144256, 2.5401163586095827, 2.8581945591205193, 2.009518631475777, 1.6256195074197246, 1.376879719121553, 1.3113906569027995, 1.174844511607851, 1.4109570398294338, 0.9621297324309299, 1.9030138110484391, 1.4475648356213873, 0.9825930572433824, 0.9464122645090204, 1.8044287188340653, 3.740832357272561, 0.8703830742266087, 0.8590341035546797, 0.7878806404398264, 0.9320797186386275, 1.364569498711282, 0.9760332593875964, 0.8676404995468927, 0.9814652180637856, 1.336073814020308, 1.3002728493222417, 3.0645139194944613, 2.0732939428514525, 3.8792261716960033, 3.151917156617705, 2.572507271464515, 2.041904178063969, 1.5547315649396314, 3.3123787030203666, 1.6664344734614736, 2.155084253621583, 11.944288439822902, 3.39874710580298, 5.597491393932739, 3.899736155783398, 78.52832918793261, 20.252479616861205, 68.19029394271381, 70.70881317824076, 4.569404303375134, 11.962580365031695, 21.010827078401046, 6.701839170126566, 3.820556854533334, 11.344296635226035, 13.241746291202986, 6.389613445941577, 0.5516503694426871, 0.5553762482645086, 0.4825106007873923, 0.4394060746139256, 0.3069965755813416, 0.3076328362466388, 0.3091877913528642, 0.3095289748335264, 0.31036335903594786, 0.31059400908088647, 0.3115343395453223, 0.3117886267721372, 0.3125505698536406, 0.312982890130391, 0.3132912299162319, 0.3136443647188774, 0.31378769965097086, 0.3143510694329461, 0.3147440642275152, 0.315062856974319, 0.31544820888182257, 0.31593056959145327, 0.31630580412494247, 0.3166341428615041, 0.3170317845231986, 0.3171523766555969, 0.3172706890053672, 0.3190532577869756, 0.31923886263392304, 0.31929357619812493, 1.8615387197527102, 3.6196740345039, 0.36830558763131166, 0.3634783149319354, 0.37144846992004327, 0.37579357955460085, 0.38312822011500824, 0.5495874380906888, 0.44343667243096424, 0.4577123065978834, 0.38147788609653027, 0.36907867954674384, 3.666229442813776, 0.4497238971792288, 0.6133895012420413, 0.4437165484454554, 0.4459584299731315, 0.36638668925098666, 0.3812880786181046, 0.42493866369108246, 1.5405730032915461, 0.4974861056213078, 0.4359604480213323, 0.5097522019247107, 0.4450593643152557, 0.4527250557279858, 1.7850756104854977, 5.951321376466872, 1.4132458116237367, 1.871153100272506, 0.3069965755813416, 0.3076328362466388, 0.3091877913528642, 0.3095289748335264, 0.31036335903594786, 0.31059400908088647, 0.3115343395453223, 0.3117886267721372, 0.3125505698536406, 0.312982890130391, 0.3132912299162319, 0.3136443647188774, 0.31378769965097086, 0.3143510694329461, 0.3147440642275152, 0.315062856974319, 0.31544820888182257, 0.31593056959145327, 0.31630580412494247, 0.3166341428615041, 0.3170317845231986, 0.3171523766555969, 0.3172706890053672, 0.3190532577869756, 0.31923886263392304, 0.31929357619812493, 0.31949847650286484, 0.31996817532380906, 0.32011493146556697, 0.32035873557939126, 0.321135937761399, 0.322342512717781, 0.3223049646996203, 0.3220601051862432, 0.3236267788398545, 0.6134855323196835, 0.6979568440812957, 0.5318641679497467, 0.7655627805010061, 0.4007904445148451, 0.6560676557065935, 0.5516070583925156, 0.6195720786389793, 0.9091124982457452, 0.9774056170018615, 0.3783410699498875, 0.4729642662272547, 0.6915493562236967, 0.885629475633615, 0.4109326753418243, 0.6094825007389237, 0.468161897227582, 3.5499538510408333, 0.38369075091677296, 0.7717487481367631, 0.36109604255243244, 1.3371425143752642, 1.2534397200348946, 1.0737805028382332, 0.4937249169888267, 0.48006046344833664, 0.37728191450772103, 0.6942553866376204, 0.6842029611349539, 0.4061368234392051, 0.3069965755813416, 0.3076328362466388, 0.3091877913528642, 0.3095289748335264, 0.31036335903594786, 0.31059400908088647, 0.3115343395453223, 0.3117886267721372, 0.3125505698536406, 0.312982890130391, 0.3132912299162319, 0.3136443647188774, 0.31378769965097086, 0.3143510694329461, 0.3147440642275152, 0.315062856974319, 0.31544820888182257, 0.31593056959145327, 0.31630580412494247, 0.3166341428615041, 0.3170317845231986, 0.3171523766555969, 0.3172706890053672, 0.3190532577869756, 0.31923886263392304, 0.31929357619812493, 0.31949847650286484, 0.31996817532380906, 0.32011493146556697, 0.32035873557939126, 0.321135937761399, 0.322342512717781, 0.3223049646996203, 0.3220601051862432, 0.3236267788398545, 0.6134855323196835, 0.6979568440812957, 0.5318641679497467, 0.7655627805010061, 0.4007904445148451, 0.6560676557065935, 0.5516070583925156, 0.6195720786389793, 0.9091124982457452, 0.9774056170018615, 0.3783410699498875, 0.4729642662272547, 0.6915493562236967, 0.885629475633615, 0.4109326753418243, 0.6094825007389237, 0.468161897227582, 3.5499538510408333, 0.38369075091677296, 0.7717487481367631, 0.36109604255243244, 1.3371425143752642, 1.2534397200348946, 1.0737805028382332, 0.4937249169888267, 0.48006046344833664, 0.37728191450772103, 0.6942553866376204, 0.6842029611349539, 0.4061368234392051], \"Category\": [\"Default\", \"Default\", \"Default\", \"Default\", \"Default\", \"Default\", \"Default\", \"Default\", \"Default\", \"Default\", \"Default\", \"Default\", \"Default\", \"Default\", \"Default\", \"Default\", \"Default\", \"Default\", \"Default\", \"Default\", \"Default\", \"Default\", \"Default\", \"Default\", \"Default\", \"Default\", \"Default\", \"Default\", \"Default\", \"Default\", \"Topic1\", \"Topic1\", \"Topic1\", \"Topic1\", \"Topic1\", \"Topic1\", \"Topic1\", \"Topic1\", \"Topic1\", \"Topic1\", \"Topic1\", \"Topic1\", \"Topic1\", \"Topic1\", \"Topic1\", \"Topic1\", \"Topic1\", \"Topic1\", \"Topic1\", \"Topic1\", \"Topic1\", \"Topic1\", \"Topic1\", \"Topic1\", \"Topic1\", \"Topic1\", \"Topic1\", \"Topic1\", \"Topic1\", \"Topic1\", \"Topic1\", \"Topic1\", \"Topic1\", \"Topic1\", \"Topic1\", \"Topic1\", \"Topic1\", \"Topic1\", \"Topic1\", \"Topic1\", \"Topic1\", \"Topic2\", \"Topic2\", \"Topic2\", \"Topic2\", \"Topic2\", \"Topic2\", \"Topic2\", \"Topic2\", \"Topic2\", \"Topic2\", \"Topic2\", \"Topic2\", \"Topic2\", \"Topic2\", \"Topic2\", \"Topic2\", \"Topic2\", \"Topic2\", \"Topic2\", \"Topic2\", \"Topic2\", \"Topic2\", \"Topic2\", \"Topic2\", \"Topic2\", \"Topic2\", \"Topic2\", \"Topic2\", \"Topic2\", \"Topic2\", \"Topic2\", \"Topic2\", \"Topic2\", \"Topic2\", \"Topic2\", \"Topic2\", \"Topic2\", \"Topic2\", \"Topic2\", \"Topic2\", \"Topic2\", \"Topic2\", \"Topic2\", \"Topic2\", \"Topic2\", \"Topic2\", \"Topic2\", \"Topic2\", \"Topic2\", \"Topic2\", \"Topic2\", \"Topic2\", \"Topic2\", \"Topic2\", \"Topic2\", \"Topic2\", \"Topic3\", \"Topic3\", \"Topic3\", \"Topic3\", \"Topic3\", \"Topic3\", \"Topic3\", \"Topic3\", \"Topic3\", \"Topic3\", \"Topic3\", \"Topic3\", \"Topic3\", \"Topic3\", \"Topic3\", \"Topic3\", \"Topic3\", \"Topic3\", \"Topic3\", \"Topic3\", \"Topic3\", \"Topic3\", \"Topic3\", \"Topic3\", \"Topic3\", \"Topic3\", \"Topic3\", \"Topic3\", \"Topic3\", \"Topic3\", \"Topic3\", \"Topic3\", \"Topic3\", \"Topic3\", \"Topic3\", \"Topic3\", \"Topic3\", \"Topic3\", \"Topic3\", \"Topic3\", \"Topic3\", \"Topic3\", \"Topic3\", \"Topic3\", \"Topic3\", \"Topic3\", \"Topic3\", \"Topic3\", \"Topic3\", \"Topic3\", \"Topic3\", \"Topic3\", \"Topic3\", \"Topic3\", \"Topic3\", \"Topic3\", \"Topic3\", \"Topic3\", \"Topic3\", \"Topic3\", \"Topic4\", \"Topic4\", \"Topic4\", \"Topic4\", \"Topic4\", \"Topic4\", \"Topic4\", \"Topic4\", \"Topic4\", \"Topic4\", \"Topic4\", \"Topic4\", \"Topic4\", \"Topic4\", \"Topic4\", \"Topic4\", \"Topic4\", \"Topic4\", \"Topic4\", \"Topic4\", \"Topic4\", \"Topic4\", \"Topic4\", \"Topic4\", \"Topic4\", \"Topic4\", \"Topic4\", \"Topic4\", \"Topic4\", \"Topic4\", \"Topic4\", \"Topic4\", \"Topic4\", \"Topic4\", \"Topic4\", \"Topic4\", \"Topic4\", \"Topic4\", \"Topic4\", \"Topic4\", \"Topic4\", \"Topic4\", \"Topic4\", \"Topic4\", \"Topic4\", \"Topic4\", \"Topic4\", \"Topic4\", \"Topic4\", \"Topic4\", \"Topic4\", \"Topic4\", \"Topic4\", \"Topic4\", \"Topic4\", \"Topic4\", \"Topic4\", \"Topic4\", \"Topic4\", \"Topic4\", \"Topic4\", \"Topic4\", \"Topic4\", \"Topic4\", \"Topic4\", \"Topic5\", \"Topic5\", \"Topic5\", \"Topic5\", \"Topic5\", \"Topic5\", \"Topic5\", \"Topic5\", \"Topic5\", \"Topic5\", \"Topic5\", \"Topic5\", \"Topic5\", \"Topic5\", \"Topic5\", \"Topic5\", \"Topic5\", \"Topic5\", \"Topic5\", \"Topic5\", \"Topic5\", \"Topic5\", \"Topic5\", \"Topic5\", \"Topic5\", \"Topic5\", \"Topic5\", \"Topic5\", \"Topic5\", \"Topic5\", \"Topic5\", \"Topic5\", \"Topic5\", \"Topic5\", \"Topic5\", \"Topic5\", \"Topic5\", \"Topic5\", \"Topic5\", \"Topic5\", \"Topic5\", \"Topic5\", \"Topic5\", \"Topic5\", \"Topic5\", \"Topic5\", \"Topic5\", \"Topic5\", \"Topic5\", \"Topic5\", \"Topic5\", \"Topic5\", \"Topic5\", \"Topic5\", \"Topic5\", \"Topic5\", \"Topic5\", \"Topic5\", \"Topic5\", \"Topic5\", \"Topic5\", \"Topic5\", \"Topic5\", \"Topic5\", \"Topic5\"], \"logprob\": [30.0, 29.0, 28.0, 27.0, 26.0, 25.0, 24.0, 23.0, 22.0, 21.0, 20.0, 19.0, 18.0, 17.0, 16.0, 15.0, 14.0, 13.0, 12.0, 11.0, 10.0, 9.0, 8.0, 7.0, 6.0, 5.0, 4.0, 3.0, 2.0, 1.0, -4.7265, -5.0193, -5.3522, -5.4922, -5.9345, -6.0294, -6.1907, -6.1669, -6.2201, -6.2335, -5.8115, -6.2011, -6.497, -6.0613, -6.5571, -6.6332, -6.6677, -6.7004, -6.7329, -6.7375, -6.7484, -6.6164, -6.783, -6.8023, -6.7908, -5.8391, -6.8322, -6.8655, -6.9515, -6.111, -5.9256, -5.7052, -6.2301, -6.1574, -6.3925, -6.5459, -5.4855, -5.4005, -5.5416, -6.4861, -6.6162, -4.3965, -4.919, -5.6148, -6.1169, -5.8833, -6.2874, -6.1713, -6.5483, -6.7902, -6.9897, -7.068, -7.1836, -7.0394, -7.4379, -6.7654, -7.0478, -7.4453, -7.4857, -6.8541, -6.1311, -7.5914, -7.6221, -7.7087, -7.5409, -7.1606, -7.4966, -7.6156, -7.4986, -7.1987, -7.2261, -6.3819, -6.7712, -6.2122, -6.4073, -6.6021, -6.8273, -7.0742, -6.424, -7.0148, -6.8204, -5.5526, -6.5284, -6.3394, -6.5678, -5.0912, -5.7867, -5.2342, -5.4032, -6.5635, -6.308, -6.3198, -6.6031, -6.7284, -6.6459, -6.6791, -6.7607, -7.7026, -8.0354, -8.429, -8.5635, -9.7385, -9.7385, -9.7385, -9.7386, -9.7385, -9.7385, -9.7385, -9.7385, -9.7385, -9.7385, -9.7385, -9.7385, -9.7385, -9.7385, -9.7386, -9.7385, -9.7384, -9.7385, -9.7385, -9.7385, -9.7385, -9.7385, -9.7385, -9.7385, -9.7384, -9.7385, -8.1684, -9.2854, -9.7141, -9.7235, -9.7255, -9.7262, -9.727, -9.7091, -9.7199, -9.7203, -9.7297, -9.7312, -9.6634, -9.7274, -9.7184, -9.7289, -9.7301, -9.7344, -9.734, -9.7321, -9.7137, -9.7308, -9.7325, -9.7314, -9.7329, -9.7333, -9.7276, -9.73, -9.7313, -9.7325, -9.7373, -9.7373, -9.7373, -9.7373, -9.7373, -9.7372, -9.7373, -9.7372, -9.7372, -9.7373, -9.7372, -9.7373, -9.7373, -9.7373, -9.7373, -9.7373, -9.7372, -9.7373, -9.7373, -9.7373, -9.7373, -9.7372, -9.7373, -9.7373, -9.7371, -9.7373, -9.7373, -9.7372, -9.7372, -9.7373, -9.7372, -9.7371, -9.7371, -9.7371, -9.7371, -9.7351, -9.736, -9.7362, -9.7363, -9.7365, -9.7365, -9.7365, -9.7366, -9.7366, -9.7366, -9.7366, -9.7366, -9.7366, -9.7366, -9.7366, -9.7366, -9.7366, -9.7367, -9.7367, -9.7367, -9.7367, -9.7367, -9.7367, -9.7367, -9.7367, -9.7367, -9.7367, -9.7367, -9.7367, -9.7367, -9.7373, -9.7373, -9.7373, -9.7373, -9.7373, -9.7372, -9.7373, -9.7372, -9.7372, -9.7373, -9.7372, -9.7373, -9.7373, -9.7373, -9.7373, -9.7373, -9.7372, -9.7373, -9.7373, -9.7373, -9.7373, -9.7372, -9.7373, -9.7373, -9.7371, -9.7373, -9.7373, -9.7372, -9.7372, -9.7373, -9.7372, -9.7371, -9.7371, -9.7371, -9.7371, -9.7351, -9.736, -9.7362, -9.7363, -9.7365, -9.7365, -9.7365, -9.7366, -9.7366, -9.7366, -9.7366, -9.7366, -9.7366, -9.7366, -9.7366, -9.7366, -9.7366, -9.7367, -9.7367, -9.7367, -9.7367, -9.7367, -9.7367, -9.7367, -9.7367, -9.7367, -9.7367, -9.7367, -9.7367, -9.7367], \"loglift\": [30.0, 29.0, 28.0, 27.0, 26.0, 25.0, 24.0, 23.0, 22.0, 21.0, 20.0, 19.0, 18.0, 17.0, 16.0, 15.0, 14.0, 13.0, 12.0, 11.0, 10.0, 9.0, 8.0, 7.0, 6.0, 5.0, 4.0, 3.0, 2.0, 1.0, 0.1487, 0.1482, 0.1477, 0.1476, 0.1466, 0.1463, 0.1456, 0.1456, 0.1455, 0.1455, 0.1454, 0.1444, 0.1442, 0.1439, 0.1439, 0.1434, 0.1432, 0.143, 0.1427, 0.1427, 0.1426, 0.1425, 0.1423, 0.1423, 0.1423, 0.1422, 0.142, 0.1418, 0.1407, 0.1405, 0.1367, 0.1337, 0.1273, 0.1213, 0.1292, 0.1333, 0.0663, 0.0465, 0.0465, 0.1089, 0.1058, 2.6725, 2.6622, 2.6381, 2.6066, 2.5931, 2.5908, 2.5889, 2.5643, 2.5343, 2.5009, 2.4713, 2.4657, 2.4268, 2.4111, 2.4016, 2.3927, 2.3827, 2.3798, 2.366, 2.36, 2.3579, 2.3403, 2.3401, 2.3398, 2.339, 2.3381, 2.3368, 2.3305, 2.322, 2.3217, 2.3086, 2.31, 2.2426, 2.2551, 2.2634, 2.2693, 2.2949, 2.1888, 2.2849, 2.2222, 1.7775, 2.0587, 1.7487, 1.8818, 0.3558, 1.0155, 0.354, 0.1487, 1.7276, 1.0206, 0.4456, 1.305, 1.7417, 0.7358, 0.5479, 1.1951, 2.7027, 2.3631, 2.1101, 2.0692, 1.2528, 1.2508, 1.2457, 1.2446, 1.2419, 1.2412, 1.2381, 1.2374, 1.2349, 1.2335, 1.2326, 1.2314, 1.231, 1.2292, 1.2279, 1.2269, 1.2258, 1.2241, 1.2229, 1.2219, 1.2207, 1.2203, 1.2199, 1.2143, 1.2139, 1.2135, 1.0206, -0.7613, 1.0952, 1.0989, 1.0752, 1.063, 1.0429, 0.6999, 0.9038, 0.8716, 1.0444, 1.076, -1.1521, 0.8822, 0.5808, 0.8941, 0.8879, 1.0801, 1.0406, 0.9341, -0.3354, 0.7778, 0.9081, 0.7529, 0.887, 0.8696, -0.4967, -1.7032, -0.2668, -0.5486, 1.2541, 1.252, 1.247, 1.2458, 1.2432, 1.2425, 1.2394, 1.2386, 1.2362, 1.2348, 1.2338, 1.2326, 1.2322, 1.2304, 1.2291, 1.2281, 1.227, 1.2254, 1.2242, 1.2232, 1.2219, 1.2216, 1.2212, 1.2155, 1.2151, 1.2148, 1.2142, 1.2127, 1.2123, 1.2115, 1.2091, 1.2055, 1.2056, 1.2063, 1.2015, 0.564, 0.434, 0.7056, 0.3413, 0.9882, 0.4954, 0.6688, 0.5526, 0.1691, 0.0967, 1.0458, 0.8225, 0.4426, 0.1953, 0.9631, 0.5689, 0.8327, -1.1932, 1.0317, 0.3329, 1.0924, -0.2168, -0.1521, 0.0026, 0.7795, 0.8076, 1.0485, 0.4386, 0.4532, 0.9748, 1.2541, 1.252, 1.247, 1.2458, 1.2432, 1.2425, 1.2394, 1.2386, 1.2362, 1.2348, 1.2338, 1.2326, 1.2322, 1.2304, 1.2291, 1.2281, 1.227, 1.2254, 1.2242, 1.2232, 1.2219, 1.2216, 1.2212, 1.2155, 1.2151, 1.2148, 1.2142, 1.2127, 1.2123, 1.2115, 1.2091, 1.2055, 1.2056, 1.2063, 1.2015, 0.564, 0.434, 0.7056, 0.3413, 0.9882, 0.4954, 0.6688, 0.5526, 0.1691, 0.0967, 1.0458, 0.8225, 0.4426, 0.1953, 0.9631, 0.5689, 0.8327, -1.1932, 1.0317, 0.3329, 1.0924, -0.2168, -0.1521, 0.0026, 0.7795, 0.8076, 1.0485, 0.4386, 0.4532, 0.9748]}, \"token.table\": {\"Topic\": [1, 2, 1, 1, 2, 1, 2, 1, 2, 2, 1, 1, 2, 2, 1, 1, 2, 2, 1, 1, 1, 1, 1, 2, 1, 2, 1, 1, 2, 1, 1, 1, 2, 1, 2, 1, 2, 1, 1, 1, 2, 2, 2, 2, 2, 1, 1, 2, 1, 2, 1, 1, 2, 1, 1, 2, 1, 2, 1, 2, 2, 1, 2, 1, 1, 1, 1, 2, 1, 1, 2, 1, 2, 1, 1, 2, 2, 1, 2, 1, 2, 2, 2, 1, 1, 1, 1, 2, 1, 1, 2, 2, 1, 2, 2, 1, 1, 1, 1, 2, 1, 1, 2, 1, 2, 1, 1, 1, 1, 2, 1, 2, 1, 2, 1, 2, 2, 2, 2, 1, 1, 2, 2, 1, 2, 2, 1, 2, 2, 1, 1, 2, 1, 2, 1, 2, 1, 2, 1, 2, 2, 1, 1, 1, 2, 1, 2, 1, 2, 1, 1, 1, 2, 1, 2, 1, 2, 2, 1], \"Freq\": [0.9092203071024414, 0.10265390564059823, 1.0107371443218243, 0.9192630604073335, 0.08485505172990772, 0.9042956723741656, 0.09518901814464902, 0.9041323142134357, 0.10187406357334486, 0.9672232689727386, 0.9713501347114125, 0.7657209262573286, 0.19143023156433214, 0.7902545400986027, 0.9312890272795833, 0.6721196431799293, 0.16802991079498233, 1.0245552499178576, 1.000784278239129, 1.0057659850550105, 1.0143335492414485, 1.091039189552212, 0.4640189813087432, 0.4640189813087432, 0.9961208956178177, 0.7328318571860309, 0.9993224992975719, 0.8288039120105934, 1.16409813750351, 1.0014758270457274, 0.9678861797450943, 1.0743800162618606, 0.9952632280553744, 0.7478634395730189, 0.7478634395730189, 0.8453499685469937, 0.12076428122099911, 0.9916819526549709, 0.9895357826585206, 0.6565407219019964, 0.437693814601331, 0.7087388005242788, 1.0496136417400204, 0.6151500984306325, 1.018884807729386, 1.0089170713687152, 0.5633876055638322, 0.2816938027819161, 0.9799542455993607, 0.018845273953833862, 0.6491091287874234, 1.0042538984411624, 1.148919400677184, 1.432753340668615, 0.881500221789709, 0.1763000443579418, 0.5344298122127819, 0.7484616414949065, 0.3263160247498453, 0.6526320494996906, 0.7625492790697228, 0.82308916828273, 0.13718152804712166, 1.5242330441103469, 0.969895217305563, 1.0083322638396055, 0.5234838993763101, 0.26174194968815506, 0.9892816606200941, 0.30189784733495534, 0.6037956946699107, 0.2577833711517776, 0.5155667423035551, 0.9969897749154588, 0.9062248842489962, 0.15103748070816603, 0.9684889581068045, 0.5359543747136039, 0.3573029164757359, 0.2673201855880811, 0.8019605567642434, 0.7873655052144015, 0.7262798529983421, 0.9964724953556785, 0.9985732646881298, 1.0999738777430015, 1.0130943348698696, 0.5254822609243512, 1.003827429230927, 0.38872582056131766, 0.7774516411226353, 1.2692277848606104, 0.48232427603809774, 0.48232427603809774, 0.600083601200848, 0.9995276944133847, 1.4615546216596356, 0.9898292458928916, 0.746063859945713, 0.29842554397828525, 1.0025606154120812, 0.9203089175519167, 0.11503861469398959, 0.9435389945518718, 0.04717694972759359, 0.7075909879053939, 0.9930148571346333, 0.9817846636471249, 0.8514287251403381, 0.10642859064254226, 0.9935665895693093, 0.6908153440814526, 0.9811252859054412, 0.03164920277114326, 0.9654384273845406, 0.029255709920743653, 1.0117586985952989, 1.0393608744149154, 1.0532276085098389, 1.002818011271681, 0.512855208687376, 0.512855208687376, 1.056621979131663, 0.5860541659946542, 0.41861011856761016, 0.5541920218639347, 0.9698526516683355, 1.0728696054674114, 1.1525510859880668, 0.7978046203707035, 0.8359400476197767, 0.16718800952395532, 0.7900267178483763, 0.19750667946209408, 0.9632409340816582, 0.04013503892006909, 0.8015476357256662, 0.1145068051036666, 0.31726722191933854, 0.6345344438386771, 0.8511764664342135, 1.009709730934796, 1.2957584996597729, 0.9967145114851154, 0.6431978500666956, 0.4897389460009577, 0.4897389460009577, 0.5884521377260532, 0.5884521377260532, 1.0053110381698025, 1.023116690353638, 0.7825199509018494, 0.1565039901803699, 1.1204007204244129, 0.7690693538061978, 0.9570986759475045, 0.045576127426071644, 1.0177153121816798, 0.9776341404278571], \"Term\": [\"action\", \"action\", \"adult\", \"adventure\", \"adventure\", \"alien\", \"alien\", \"animation\", \"animation\", \"anime\", \"anthology\", \"apocalypse\", \"apocalypse\", \"apocalyptic\", \"arctic\", \"arts\", \"arts\", \"astronomy\", \"biography\", \"book\", \"california\", \"chef\", \"cinematic\", \"cinematic\", \"city\", \"colony\", \"comedy\", \"cooking\", \"cosmos\", \"crime\", \"criminal\", \"culinary\", \"cyberpunk\", \"cyborg\", \"cyborg\", \"demon\", \"demon\", \"detective\", \"documentary\", \"dragon\", \"dragon\", \"drastic\", \"dystopia\", \"ecchi\", \"elves\", \"england\", \"espionage\", \"espionage\", \"fantasy\", \"fantasy\", \"fine\", \"friendship\", \"funimation\", \"furry\", \"future\", \"future\", \"genetic\", \"gods\", \"gore\", \"gore\", \"gunfight\", \"hero\", \"hero\", \"hideout\", \"history\", \"horror\", \"invasion\", \"invasion\", \"investigation\", \"japan\", \"japan\", \"japanese\", \"japanese\", \"lgbt\", \"magic\", \"magic\", \"manga\", \"martial\", \"martial\", \"marvel\", \"marvel\", \"mcu\", \"mecha\", \"miniseries\", \"murder\", \"mushroom\", \"music\", \"mutant\", \"mystery\", \"mythology\", \"mythology\", \"naruto\", \"nazi\", \"nazi\", \"ninja\", \"novel\", \"opium\", \"period\", \"planet\", \"planet\", \"police\", \"post\", \"post\", \"power\", \"power\", \"random\", \"reality\", \"relationship\", \"robot\", \"robot\", \"romance\", \"samurai\", \"school\", \"school\", \"sci\", \"sci\", \"seinen\", \"shonen\", \"shounen\", \"sitcom\", \"slice\", \"slice\", \"sorcery\", \"space\", \"space\", \"spacecraft\", \"sport\", \"stargate\", \"starship\", \"startup\", \"super\", \"super\", \"superhero\", \"superhero\", \"supernatural\", \"supernatural\", \"survival\", \"survival\", \"sword\", \"sword\", \"swordplay\", \"teen\", \"teleportation\", \"thriller\", \"tokyo\", \"tournament\", \"tournament\", \"tragedy\", \"tragedy\", \"true\", \"tulsa\", \"universe\", \"universe\", \"vengeance\", \"viking\", \"war\", \"war\", \"yakuza\", \"york\"]}, \"R\": 30, \"lambda.step\": 0.01, \"plot.opts\": {\"xlab\": \"PC1\", \"ylab\": \"PC2\"}, \"topic.order\": [3, 2, 5, 1, 4]};\n",
       "\n",
       "function LDAvis_load_lib(url, callback){\n",
       "  var s = document.createElement('script');\n",
       "  s.src = url;\n",
       "  s.async = true;\n",
       "  s.onreadystatechange = s.onload = callback;\n",
       "  s.onerror = function(){console.warn(\"failed to load library \" + url);};\n",
       "  document.getElementsByTagName(\"head\")[0].appendChild(s);\n",
       "}\n",
       "\n",
       "if(typeof(LDAvis) !== \"undefined\"){\n",
       "   // already loaded: just create the visualization\n",
       "   !function(LDAvis){\n",
       "       new LDAvis(\"#\" + \"ldavis_el4174424656972293926002587751\", ldavis_el4174424656972293926002587751_data);\n",
       "   }(LDAvis);\n",
       "}else if(typeof define === \"function\" && define.amd){\n",
       "   // require.js is available: use it to load d3/LDAvis\n",
       "   require.config({paths: {d3: \"https://d3js.org/d3.v5\"}});\n",
       "   require([\"d3\"], function(d3){\n",
       "      window.d3 = d3;\n",
       "      LDAvis_load_lib(\"https://cdn.jsdelivr.net/gh/bmabey/pyLDAvis@3.4.0/pyLDAvis/js/ldavis.v3.0.0.js\", function(){\n",
       "        new LDAvis(\"#\" + \"ldavis_el4174424656972293926002587751\", ldavis_el4174424656972293926002587751_data);\n",
       "      });\n",
       "    });\n",
       "}else{\n",
       "    // require.js not available: dynamically load d3 & LDAvis\n",
       "    LDAvis_load_lib(\"https://d3js.org/d3.v5.js\", function(){\n",
       "         LDAvis_load_lib(\"https://cdn.jsdelivr.net/gh/bmabey/pyLDAvis@3.4.0/pyLDAvis/js/ldavis.v3.0.0.js\", function(){\n",
       "                 new LDAvis(\"#\" + \"ldavis_el4174424656972293926002587751\", ldavis_el4174424656972293926002587751_data);\n",
       "            })\n",
       "         });\n",
       "}\n",
       "</script>"
      ],
      "text/plain": [
       "PreparedData(topic_coordinates=              x         y  topics  cluster       Freq\n",
       "topic                                                \n",
       "2      0.110571 -0.005083       1        1  86.097230\n",
       "1     -0.039638 -0.042659       2        1   6.800984\n",
       "4     -0.023746  0.016091       3        1   2.377357\n",
       "0     -0.023593  0.015826       4        1   2.362214\n",
       "3     -0.023593  0.015826       5        1   2.362214, topic_info=            Term       Freq      Total Category  logprob  loglift\n",
       "635    animation  78.000000  78.000000  Default  30.0000  30.0000\n",
       "141       action  68.000000  68.000000  Default  29.0000  29.0000\n",
       "248    adventure  70.000000  70.000000  Default  28.0000  28.0000\n",
       "641        anime  15.000000  15.000000  Default  27.0000  27.0000\n",
       "14800  superhero  20.000000  20.000000  Default  26.0000  26.0000\n",
       "...          ...        ...        ...      ...      ...      ...\n",
       "7188       horde   0.025430   0.480060   Topic5  -9.7367   0.8076\n",
       "9207        maki   0.025430   0.377282   Topic5  -9.7367   1.0485\n",
       "3779    darkwing   0.025429   0.694255   Topic5  -9.7367   0.4386\n",
       "10723      opium   0.025429   0.684203   Topic5  -9.7367   0.4532\n",
       "2736    claudius   0.025429   0.406137   Topic5  -9.7367   0.9748\n",
       "\n",
       "[317 rows x 6 columns], token_table=       Topic      Freq       Term\n",
       "term                             \n",
       "141        1  0.909220     action\n",
       "141        2  0.102654     action\n",
       "236        1  1.010737      adult\n",
       "248        1  0.919263  adventure\n",
       "248        2  0.084855  adventure\n",
       "...      ...       ...        ...\n",
       "16248      2  0.769069     viking\n",
       "16405      1  0.957099        war\n",
       "16405      2  0.045576        war\n",
       "16825      2  1.017715     yakuza\n",
       "16865      1  0.977634       york\n",
       "\n",
       "[159 rows x 3 columns], R=30, lambda_step=0.01, plot_opts={'xlab': 'PC1', 'ylab': 'PC2'}, topic_order=[3, 2, 5, 1, 4])"
      ]
     },
     "execution_count": 20,
     "metadata": {},
     "output_type": "execute_result"
    }
   ],
   "source": [
    "# Topic Modelling Visualization for the show description texts\n",
    "pyLDAvis.sklearn.prepare(best_lda_model, dtm_tfidf, tfidf_vectorizer)"
   ]
  },
  {
   "attachments": {},
   "cell_type": "markdown",
   "metadata": {},
   "source": [
    "#### Generate results (fit-transorm) from a LDA model and tfidf matrix"
   ]
  },
  {
   "cell_type": "code",
   "execution_count": 21,
   "metadata": {},
   "outputs": [],
   "source": [
    "lda_results = best_lda_model.fit_transform(dtm_tfidf) "
   ]
  },
  {
   "attachments": {},
   "cell_type": "markdown",
   "metadata": {},
   "source": [
    "#### Append the LDA topic % matches onto the results dataframe"
   ]
  },
  {
   "cell_type": "code",
   "execution_count": 22,
   "metadata": {},
   "outputs": [],
   "source": [
    "# Technique reference: (Mimi Dutta) https://www.analyticsvidhya.com/blog/2021/07/topic-modelling-with-lda-a-hands-on-introduction/\n",
    "\n",
    "def make_lda_topic_pct_cols(lda_results, df_to_append_to, name_prefix=\"\"):\n",
    "    \n",
    "    for j in tqdm(range(len(df_to_append_to))):\n",
    "        for i,topic in enumerate(lda_results[j]):\n",
    "            df_to_append_to.loc[j, f\"{name_prefix}lda_topic{i}_match_pct\"] = topic\n",
    "    return\n",
    "        "
   ]
  },
  {
   "cell_type": "code",
   "execution_count": 23,
   "metadata": {},
   "outputs": [
    {
     "name": "stderr",
     "output_type": "stream",
     "text": [
      "100%|██████████| 2484/2484 [00:00<00:00, 3873.60it/s]\n"
     ]
    }
   ],
   "source": [
    "make_lda_topic_pct_cols(lda_results, df)"
   ]
  },
  {
   "cell_type": "code",
   "execution_count": 24,
   "metadata": {},
   "outputs": [
    {
     "data": {
      "text/html": [
       "<div>\n",
       "<style scoped>\n",
       "    .dataframe tbody tr th:only-of-type {\n",
       "        vertical-align: middle;\n",
       "    }\n",
       "\n",
       "    .dataframe tbody tr th {\n",
       "        vertical-align: top;\n",
       "    }\n",
       "\n",
       "    .dataframe thead th {\n",
       "        text-align: right;\n",
       "    }\n",
       "</style>\n",
       "<table border=\"1\" class=\"dataframe\">\n",
       "  <thead>\n",
       "    <tr style=\"text-align: right;\">\n",
       "      <th></th>\n",
       "      <th>name</th>\n",
       "      <th>href</th>\n",
       "      <th>tokenized_text</th>\n",
       "      <th>lda_topic0_match_pct</th>\n",
       "      <th>lda_topic1_match_pct</th>\n",
       "      <th>lda_topic2_match_pct</th>\n",
       "      <th>lda_topic3_match_pct</th>\n",
       "      <th>lda_topic4_match_pct</th>\n",
       "    </tr>\n",
       "  </thead>\n",
       "  <tbody>\n",
       "    <tr>\n",
       "      <th>0</th>\n",
       "      <td>Game of Thrones</td>\n",
       "      <td>/title/tt0944947/</td>\n",
       "      <td>nine noble family fight control land westeros ...</td>\n",
       "      <td>0.009928</td>\n",
       "      <td>0.009928</td>\n",
       "      <td>0.960288</td>\n",
       "      <td>0.009928</td>\n",
       "      <td>0.009928</td>\n",
       "    </tr>\n",
       "    <tr>\n",
       "      <th>1</th>\n",
       "      <td>Prison Break</td>\n",
       "      <td>/title/tt0455275/</td>\n",
       "      <td>due political conspiracy innocent man send dea...</td>\n",
       "      <td>0.017903</td>\n",
       "      <td>0.017903</td>\n",
       "      <td>0.928387</td>\n",
       "      <td>0.017903</td>\n",
       "      <td>0.017903</td>\n",
       "    </tr>\n",
       "    <tr>\n",
       "      <th>2</th>\n",
       "      <td>Vikings</td>\n",
       "      <td>/title/tt2306299/</td>\n",
       "      <td>vikings transport us brutal mysterious world r...</td>\n",
       "      <td>0.025177</td>\n",
       "      <td>0.025177</td>\n",
       "      <td>0.899292</td>\n",
       "      <td>0.025177</td>\n",
       "      <td>0.025177</td>\n",
       "    </tr>\n",
       "    <tr>\n",
       "      <th>3</th>\n",
       "      <td>The Boys</td>\n",
       "      <td>/title/tt1190634/</td>\n",
       "      <td>group vigilante set take corrupt superheroes a...</td>\n",
       "      <td>0.015854</td>\n",
       "      <td>0.015854</td>\n",
       "      <td>0.936583</td>\n",
       "      <td>0.015854</td>\n",
       "      <td>0.015854</td>\n",
       "    </tr>\n",
       "    <tr>\n",
       "      <th>4</th>\n",
       "      <td>The Mandalorian</td>\n",
       "      <td>/title/tt8111088/</td>\n",
       "      <td>travel lone bounty hunter outer reach galaxy f...</td>\n",
       "      <td>0.018286</td>\n",
       "      <td>0.018286</td>\n",
       "      <td>0.926856</td>\n",
       "      <td>0.018286</td>\n",
       "      <td>0.018286</td>\n",
       "    </tr>\n",
       "  </tbody>\n",
       "</table>\n",
       "</div>"
      ],
      "text/plain": [
       "              name               href  \\\n",
       "0  Game of Thrones  /title/tt0944947/   \n",
       "1     Prison Break  /title/tt0455275/   \n",
       "2          Vikings  /title/tt2306299/   \n",
       "3         The Boys  /title/tt1190634/   \n",
       "4  The Mandalorian  /title/tt8111088/   \n",
       "\n",
       "                                      tokenized_text  lda_topic0_match_pct  \\\n",
       "0  nine noble family fight control land westeros ...              0.009928   \n",
       "1  due political conspiracy innocent man send dea...              0.017903   \n",
       "2  vikings transport us brutal mysterious world r...              0.025177   \n",
       "3  group vigilante set take corrupt superheroes a...              0.015854   \n",
       "4  travel lone bounty hunter outer reach galaxy f...              0.018286   \n",
       "\n",
       "   lda_topic1_match_pct  lda_topic2_match_pct  lda_topic3_match_pct  \\\n",
       "0              0.009928              0.960288              0.009928   \n",
       "1              0.017903              0.928387              0.017903   \n",
       "2              0.025177              0.899292              0.025177   \n",
       "3              0.015854              0.936583              0.015854   \n",
       "4              0.018286              0.926856              0.018286   \n",
       "\n",
       "   lda_topic4_match_pct  \n",
       "0              0.009928  \n",
       "1              0.017903  \n",
       "2              0.025177  \n",
       "3              0.015854  \n",
       "4              0.018286  "
      ]
     },
     "execution_count": 24,
     "metadata": {},
     "output_type": "execute_result"
    }
   ],
   "source": [
    "df.head()"
   ]
  },
  {
   "cell_type": "code",
   "execution_count": 25,
   "metadata": {},
   "outputs": [
    {
     "data": {
      "text/plain": [
       "(2484, 8)"
      ]
     },
     "execution_count": 25,
     "metadata": {},
     "output_type": "execute_result"
    }
   ],
   "source": [
    "df.shape"
   ]
  },
  {
   "cell_type": "code",
   "execution_count": null,
   "metadata": {},
   "outputs": [],
   "source": []
  },
  {
   "attachments": {},
   "cell_type": "markdown",
   "metadata": {},
   "source": [
    "# LSA model"
   ]
  },
  {
   "cell_type": "code",
   "execution_count": 26,
   "metadata": {},
   "outputs": [],
   "source": [
    "# Technique reference: (Avinash Navlani) https://machinelearninggeek.com/latent-semantic-indexing-using-scikit-learn/\n",
    "\n",
    "\n",
    "# Define the number of topics or components\n",
    "num_components=10\n",
    "\n",
    "# Create SVD object\n",
    "lsa = TruncatedSVD(n_components=num_components, n_iter=100, random_state=42)\n",
    "\n",
    "# Fit SVD model on data\n",
    "lsa_results = lsa.fit_transform(dtm_tfidf)\n",
    "\n",
    "# Get Singular values and Components \n",
    "Sigma = lsa.singular_values_ \n",
    "V_transpose = lsa.components_.T"
   ]
  },
  {
   "cell_type": "code",
   "execution_count": 27,
   "metadata": {},
   "outputs": [],
   "source": [
    "# Technique reference: (Avinash Navlani) https://machinelearninggeek.com/latent-semantic-indexing-using-scikit-learn/\n",
    "\n",
    "# Print the topics with their terms\n",
    "\n",
    "def lsa_topics_out(tfidf_vectorizer, svd_object):\n",
    "    terms = tfidf_vectorizer.get_feature_names_out()\n",
    "\n",
    "    for index, component in enumerate(svd_object.components_):\n",
    "        zipped = zip(terms, component)\n",
    "        top_terms_key=sorted(zipped, key = lambda t: t[1], reverse=True)[:10]\n",
    "        top_terms_list=list(dict(top_terms_key).keys())\n",
    "        print(\"Topic \"+str(index)+\": \",top_terms_list)\n",
    "\n",
    "    return"
   ]
  },
  {
   "cell_type": "code",
   "execution_count": 28,
   "metadata": {},
   "outputs": [
    {
     "name": "stdout",
     "output_type": "stream",
     "text": [
      "Topic 0:  ['comedy', 'animation', 'crime', 'adventure', 'action', 'romance', 'mystery', 'anime', 'fantasy', 'novel']\n",
      "Topic 1:  ['crime', 'mystery', 'murder', 'investigation', 'thriller', 'detective', 'police', 'documentary', 'biography', 'miniseries']\n",
      "Topic 2:  ['comedy', 'romance', 'sitcom', 'friendship', 'workplace', 'lgbt', 'teen', 'school', 'relationship', 'satire']\n",
      "Topic 3:  ['horror', 'fantasy', 'romance', 'novel', 'book', 'supernatural', 'mystery', 'anthology', 'vampire', 'sci']\n",
      "Topic 4:  ['romance', 'anime', 'manga', 'shounen', 'school', 'novel', 'crime', 'biography', 'seinen', 'slice']\n",
      "Topic 5:  ['documentary', 'biography', 'miniseries', 'adventure', 'history', 'action', 'war', 'superhero', 'alien', 'historical']\n",
      "Topic 6:  ['documentary', 'anime', 'biography', 'horror', 'fantasy', 'manga', 'animation', 'supernatural', 'miniseries', 'anthology']\n",
      "Topic 7:  ['thriller', 'documentary', 'anime', 'psychological', 'sci', 'manga', 'horror', 'comedy', 'conspiracy', 'sport']\n",
      "Topic 8:  ['mystery', 'animation', 'sci', 'alien', 'documentary', 'novel', 'space', 'murder', 'book', 'miniseries']\n",
      "Topic 9:  ['animation', 'romance', 'horror', 'biography', 'thriller', 'adult', 'anthology', 'cartoon', 'superhero', 'short']\n"
     ]
    }
   ],
   "source": [
    "lsa_topics_out(tfidf_vectorizer, lsa)"
   ]
  },
  {
   "cell_type": "code",
   "execution_count": 29,
   "metadata": {},
   "outputs": [],
   "source": [
    "# Technique reference: (Mimi Dutta) https://www.analyticsvidhya.com/blog/2021/07/topic-modelling-with-lda-a-hands-on-introduction/\n",
    "\n",
    "def make_lsa_topic_pct_cols(lsa_results, df_to_append_to):\n",
    "    for j in tqdm(range(len(df_to_append_to))):\n",
    "        for i,topic in enumerate(lsa_results[j]):\n",
    "            df_to_append_to.loc[j, f\"lsa_topic{i}_cos_match\"] = topic\n",
    "    return"
   ]
  },
  {
   "cell_type": "code",
   "execution_count": 30,
   "metadata": {},
   "outputs": [
    {
     "name": "stderr",
     "output_type": "stream",
     "text": [
      "100%|██████████| 2484/2484 [00:01<00:00, 1999.23it/s]\n"
     ]
    }
   ],
   "source": [
    "make_lsa_topic_pct_cols(lsa_results, df)"
   ]
  },
  {
   "cell_type": "code",
   "execution_count": 31,
   "metadata": {},
   "outputs": [
    {
     "data": {
      "text/html": [
       "<div>\n",
       "<style scoped>\n",
       "    .dataframe tbody tr th:only-of-type {\n",
       "        vertical-align: middle;\n",
       "    }\n",
       "\n",
       "    .dataframe tbody tr th {\n",
       "        vertical-align: top;\n",
       "    }\n",
       "\n",
       "    .dataframe thead th {\n",
       "        text-align: right;\n",
       "    }\n",
       "</style>\n",
       "<table border=\"1\" class=\"dataframe\">\n",
       "  <thead>\n",
       "    <tr style=\"text-align: right;\">\n",
       "      <th></th>\n",
       "      <th>name</th>\n",
       "      <th>href</th>\n",
       "      <th>tokenized_text</th>\n",
       "      <th>lda_topic0_match_pct</th>\n",
       "      <th>lda_topic1_match_pct</th>\n",
       "      <th>lda_topic2_match_pct</th>\n",
       "      <th>lda_topic3_match_pct</th>\n",
       "      <th>lda_topic4_match_pct</th>\n",
       "      <th>lsa_topic0_cos_match</th>\n",
       "      <th>lsa_topic1_cos_match</th>\n",
       "      <th>lsa_topic2_cos_match</th>\n",
       "      <th>lsa_topic3_cos_match</th>\n",
       "      <th>lsa_topic4_cos_match</th>\n",
       "      <th>lsa_topic5_cos_match</th>\n",
       "      <th>lsa_topic6_cos_match</th>\n",
       "      <th>lsa_topic7_cos_match</th>\n",
       "      <th>lsa_topic8_cos_match</th>\n",
       "      <th>lsa_topic9_cos_match</th>\n",
       "    </tr>\n",
       "  </thead>\n",
       "  <tbody>\n",
       "    <tr>\n",
       "      <th>0</th>\n",
       "      <td>Game of Thrones</td>\n",
       "      <td>/title/tt0944947/</td>\n",
       "      <td>nine noble family fight control land westeros ...</td>\n",
       "      <td>0.009928</td>\n",
       "      <td>0.009928</td>\n",
       "      <td>0.960288</td>\n",
       "      <td>0.009928</td>\n",
       "      <td>0.009928</td>\n",
       "      <td>0.268433</td>\n",
       "      <td>-0.020426</td>\n",
       "      <td>-0.090606</td>\n",
       "      <td>0.210743</td>\n",
       "      <td>-0.063944</td>\n",
       "      <td>0.141392</td>\n",
       "      <td>-0.023703</td>\n",
       "      <td>-0.087125</td>\n",
       "      <td>-0.060328</td>\n",
       "      <td>-0.034420</td>\n",
       "    </tr>\n",
       "    <tr>\n",
       "      <th>1</th>\n",
       "      <td>Prison Break</td>\n",
       "      <td>/title/tt0455275/</td>\n",
       "      <td>due political conspiracy innocent man send dea...</td>\n",
       "      <td>0.017903</td>\n",
       "      <td>0.017903</td>\n",
       "      <td>0.928387</td>\n",
       "      <td>0.017903</td>\n",
       "      <td>0.017903</td>\n",
       "      <td>0.137642</td>\n",
       "      <td>0.094227</td>\n",
       "      <td>-0.045861</td>\n",
       "      <td>-0.034546</td>\n",
       "      <td>0.009111</td>\n",
       "      <td>0.031247</td>\n",
       "      <td>-0.046990</td>\n",
       "      <td>0.009384</td>\n",
       "      <td>-0.067450</td>\n",
       "      <td>-0.029514</td>\n",
       "    </tr>\n",
       "    <tr>\n",
       "      <th>2</th>\n",
       "      <td>Vikings</td>\n",
       "      <td>/title/tt2306299/</td>\n",
       "      <td>vikings transport us brutal mysterious world r...</td>\n",
       "      <td>0.025177</td>\n",
       "      <td>0.025177</td>\n",
       "      <td>0.899292</td>\n",
       "      <td>0.025177</td>\n",
       "      <td>0.025177</td>\n",
       "      <td>0.118722</td>\n",
       "      <td>-0.028396</td>\n",
       "      <td>-0.080808</td>\n",
       "      <td>0.027768</td>\n",
       "      <td>0.016996</td>\n",
       "      <td>0.127396</td>\n",
       "      <td>-0.056874</td>\n",
       "      <td>-0.040274</td>\n",
       "      <td>-0.029825</td>\n",
       "      <td>-0.022236</td>\n",
       "    </tr>\n",
       "    <tr>\n",
       "      <th>3</th>\n",
       "      <td>The Boys</td>\n",
       "      <td>/title/tt1190634/</td>\n",
       "      <td>group vigilante set take corrupt superheroes a...</td>\n",
       "      <td>0.015854</td>\n",
       "      <td>0.015854</td>\n",
       "      <td>0.936583</td>\n",
       "      <td>0.015854</td>\n",
       "      <td>0.015854</td>\n",
       "      <td>0.295292</td>\n",
       "      <td>0.046381</td>\n",
       "      <td>-0.039057</td>\n",
       "      <td>-0.106146</td>\n",
       "      <td>-0.076353</td>\n",
       "      <td>0.074971</td>\n",
       "      <td>-0.130190</td>\n",
       "      <td>-0.068372</td>\n",
       "      <td>-0.248528</td>\n",
       "      <td>0.035764</td>\n",
       "    </tr>\n",
       "    <tr>\n",
       "      <th>4</th>\n",
       "      <td>The Mandalorian</td>\n",
       "      <td>/title/tt8111088/</td>\n",
       "      <td>travel lone bounty hunter outer reach galaxy f...</td>\n",
       "      <td>0.018286</td>\n",
       "      <td>0.018286</td>\n",
       "      <td>0.926856</td>\n",
       "      <td>0.018286</td>\n",
       "      <td>0.018286</td>\n",
       "      <td>0.149727</td>\n",
       "      <td>-0.046886</td>\n",
       "      <td>-0.102071</td>\n",
       "      <td>0.059495</td>\n",
       "      <td>-0.065898</td>\n",
       "      <td>0.123360</td>\n",
       "      <td>-0.100009</td>\n",
       "      <td>-0.042234</td>\n",
       "      <td>0.005015</td>\n",
       "      <td>-0.119780</td>\n",
       "    </tr>\n",
       "  </tbody>\n",
       "</table>\n",
       "</div>"
      ],
      "text/plain": [
       "              name               href  \\\n",
       "0  Game of Thrones  /title/tt0944947/   \n",
       "1     Prison Break  /title/tt0455275/   \n",
       "2          Vikings  /title/tt2306299/   \n",
       "3         The Boys  /title/tt1190634/   \n",
       "4  The Mandalorian  /title/tt8111088/   \n",
       "\n",
       "                                      tokenized_text  lda_topic0_match_pct  \\\n",
       "0  nine noble family fight control land westeros ...              0.009928   \n",
       "1  due political conspiracy innocent man send dea...              0.017903   \n",
       "2  vikings transport us brutal mysterious world r...              0.025177   \n",
       "3  group vigilante set take corrupt superheroes a...              0.015854   \n",
       "4  travel lone bounty hunter outer reach galaxy f...              0.018286   \n",
       "\n",
       "   lda_topic1_match_pct  lda_topic2_match_pct  lda_topic3_match_pct  \\\n",
       "0              0.009928              0.960288              0.009928   \n",
       "1              0.017903              0.928387              0.017903   \n",
       "2              0.025177              0.899292              0.025177   \n",
       "3              0.015854              0.936583              0.015854   \n",
       "4              0.018286              0.926856              0.018286   \n",
       "\n",
       "   lda_topic4_match_pct  lsa_topic0_cos_match  lsa_topic1_cos_match  \\\n",
       "0              0.009928              0.268433             -0.020426   \n",
       "1              0.017903              0.137642              0.094227   \n",
       "2              0.025177              0.118722             -0.028396   \n",
       "3              0.015854              0.295292              0.046381   \n",
       "4              0.018286              0.149727             -0.046886   \n",
       "\n",
       "   lsa_topic2_cos_match  lsa_topic3_cos_match  lsa_topic4_cos_match  \\\n",
       "0             -0.090606              0.210743             -0.063944   \n",
       "1             -0.045861             -0.034546              0.009111   \n",
       "2             -0.080808              0.027768              0.016996   \n",
       "3             -0.039057             -0.106146             -0.076353   \n",
       "4             -0.102071              0.059495             -0.065898   \n",
       "\n",
       "   lsa_topic5_cos_match  lsa_topic6_cos_match  lsa_topic7_cos_match  \\\n",
       "0              0.141392             -0.023703             -0.087125   \n",
       "1              0.031247             -0.046990              0.009384   \n",
       "2              0.127396             -0.056874             -0.040274   \n",
       "3              0.074971             -0.130190             -0.068372   \n",
       "4              0.123360             -0.100009             -0.042234   \n",
       "\n",
       "   lsa_topic8_cos_match  lsa_topic9_cos_match  \n",
       "0             -0.060328             -0.034420  \n",
       "1             -0.067450             -0.029514  \n",
       "2             -0.029825             -0.022236  \n",
       "3             -0.248528              0.035764  \n",
       "4              0.005015             -0.119780  "
      ]
     },
     "execution_count": 31,
     "metadata": {},
     "output_type": "execute_result"
    }
   ],
   "source": [
    "df.head()"
   ]
  },
  {
   "cell_type": "code",
   "execution_count": 32,
   "metadata": {},
   "outputs": [
    {
     "data": {
      "text/plain": [
       "(2484, 18)"
      ]
     },
     "execution_count": 32,
     "metadata": {},
     "output_type": "execute_result"
    }
   ],
   "source": [
    "df.shape"
   ]
  },
  {
   "cell_type": "code",
   "execution_count": null,
   "metadata": {},
   "outputs": [],
   "source": []
  },
  {
   "attachments": {},
   "cell_type": "markdown",
   "metadata": {},
   "source": [
    "## Force LDA evaluate with different parameters"
   ]
  },
  {
   "attachments": {},
   "cell_type": "markdown",
   "metadata": {},
   "source": [
    "#### Generate same output items for forced alternate (20+ topic) model"
   ]
  },
  {
   "cell_type": "code",
   "execution_count": 33,
   "metadata": {},
   "outputs": [],
   "source": [
    "# Define Grid Search Parameters\n",
    "search_params2 = {'n_components': [20, 30],       # testing suggests it always picks 5 topics as \"best\"\n",
    "                    'learning_decay': [.5, .7, .9]}     # does not always return same \"best\" learning decay"
   ]
  },
  {
   "cell_type": "code",
   "execution_count": 34,
   "metadata": {},
   "outputs": [
    {
     "name": "stdout",
     "output_type": "stream",
     "text": [
      "Fitting 5 folds for each of 6 candidates, totalling 30 fits\n",
      "Best Model's Params:  {'learning_decay': 0.9, 'n_components': 20}\n",
      "Model Log Likelihood Score:  -59804.22611211679\n",
      "Model Perplexity:  75292.33828470572\n"
     ]
    },
    {
     "data": {
      "image/png": "[encoded data removed]",
      "text/plain": [
       "<Figure size 1200x800 with 1 Axes>"
      ]
     },
     "metadata": {},
     "output_type": "display_data"
    }
   ],
   "source": [
    "# tfidf_vectorizer, dtm_tfidf = make_tfidf(input_df, text_colname)\n",
    "model_gs2, best_lda_model2 = lda_gridsearch(dtm_tfidf, search_params2)\n",
    "lda_plot_performance(model_gs2, search_params2)"
   ]
  },
  {
   "cell_type": "code",
   "execution_count": 35,
   "metadata": {},
   "outputs": [
    {
     "name": "stderr",
     "output_type": "stream",
     "text": [
      "20it [00:00, 654.63it/s]\n"
     ]
    },
    {
     "data": {
      "text/html": [
       "<div>\n",
       "<style scoped>\n",
       "    .dataframe tbody tr th:only-of-type {\n",
       "        vertical-align: middle;\n",
       "    }\n",
       "\n",
       "    .dataframe tbody tr th {\n",
       "        vertical-align: top;\n",
       "    }\n",
       "\n",
       "    .dataframe thead th {\n",
       "        text-align: right;\n",
       "    }\n",
       "</style>\n",
       "<table border=\"1\" class=\"dataframe\">\n",
       "  <thead>\n",
       "    <tr style=\"text-align: right;\">\n",
       "      <th></th>\n",
       "      <th>Topic 1 words</th>\n",
       "      <th>Topic 1 weights</th>\n",
       "      <th>Topic 2 words</th>\n",
       "      <th>Topic 2 weights</th>\n",
       "      <th>Topic 3 words</th>\n",
       "      <th>Topic 3 weights</th>\n",
       "      <th>Topic 4 words</th>\n",
       "      <th>Topic 4 weights</th>\n",
       "      <th>Topic 5 words</th>\n",
       "      <th>Topic 5 weights</th>\n",
       "      <th>...</th>\n",
       "      <th>Topic 16 words</th>\n",
       "      <th>Topic 16 weights</th>\n",
       "      <th>Topic 17 words</th>\n",
       "      <th>Topic 17 weights</th>\n",
       "      <th>Topic 18 words</th>\n",
       "      <th>Topic 18 weights</th>\n",
       "      <th>Topic 19 words</th>\n",
       "      <th>Topic 19 weights</th>\n",
       "      <th>Topic 20 words</th>\n",
       "      <th>Topic 20 weights</th>\n",
       "    </tr>\n",
       "  </thead>\n",
       "  <tbody>\n",
       "    <tr>\n",
       "      <th>0</th>\n",
       "      <td>sas</td>\n",
       "      <td>1.4</td>\n",
       "      <td>paramedic</td>\n",
       "      <td>2.2</td>\n",
       "      <td>extramarital</td>\n",
       "      <td>2.6</td>\n",
       "      <td>parenthood</td>\n",
       "      <td>3.5</td>\n",
       "      <td>islam</td>\n",
       "      <td>0.7</td>\n",
       "      <td>...</td>\n",
       "      <td>startup</td>\n",
       "      <td>1.7</td>\n",
       "      <td>anime</td>\n",
       "      <td>54.9</td>\n",
       "      <td>trek</td>\n",
       "      <td>3.4</td>\n",
       "      <td>bionic</td>\n",
       "      <td>2.4</td>\n",
       "      <td>mermaid</td>\n",
       "      <td>2.5</td>\n",
       "    </tr>\n",
       "    <tr>\n",
       "      <th>1</th>\n",
       "      <td>autism</td>\n",
       "      <td>1.0</td>\n",
       "      <td>wormhole</td>\n",
       "      <td>2.1</td>\n",
       "      <td>hologram</td>\n",
       "      <td>2.1</td>\n",
       "      <td>psychotherapist</td>\n",
       "      <td>1.7</td>\n",
       "      <td>approved</td>\n",
       "      <td>0.5</td>\n",
       "      <td>...</td>\n",
       "      <td>skating</td>\n",
       "      <td>1.3</td>\n",
       "      <td>manga</td>\n",
       "      <td>33.7</td>\n",
       "      <td>simpler</td>\n",
       "      <td>3.1</td>\n",
       "      <td>catholicism</td>\n",
       "      <td>2.3</td>\n",
       "      <td>sonic</td>\n",
       "      <td>2.0</td>\n",
       "    </tr>\n",
       "    <tr>\n",
       "      <th>2</th>\n",
       "      <td>aging</td>\n",
       "      <td>0.7</td>\n",
       "      <td>mushroom</td>\n",
       "      <td>0.9</td>\n",
       "      <td>downstairs</td>\n",
       "      <td>1.5</td>\n",
       "      <td>ncis</td>\n",
       "      <td>1.7</td>\n",
       "      <td>gianni</td>\n",
       "      <td>0.4</td>\n",
       "      <td>...</td>\n",
       "      <td>impostor</td>\n",
       "      <td>1.2</td>\n",
       "      <td>shounen</td>\n",
       "      <td>16.7</td>\n",
       "      <td>hawaii</td>\n",
       "      <td>2.2</td>\n",
       "      <td>ottoman</td>\n",
       "      <td>2.2</td>\n",
       "      <td>scooby</td>\n",
       "      <td>1.8</td>\n",
       "    </tr>\n",
       "    <tr>\n",
       "      <th>3</th>\n",
       "      <td>crab</td>\n",
       "      <td>0.7</td>\n",
       "      <td>grandparent</td>\n",
       "      <td>0.8</td>\n",
       "      <td>mossad</td>\n",
       "      <td>1.5</td>\n",
       "      <td>utopia</td>\n",
       "      <td>1.6</td>\n",
       "      <td>ramsay</td>\n",
       "      <td>0.4</td>\n",
       "      <td>...</td>\n",
       "      <td>autobiographical</td>\n",
       "      <td>0.8</td>\n",
       "      <td>martial</td>\n",
       "      <td>12.0</td>\n",
       "      <td>cyberpunk</td>\n",
       "      <td>2.2</td>\n",
       "      <td>exorcism</td>\n",
       "      <td>2.0</td>\n",
       "      <td>doo</td>\n",
       "      <td>1.8</td>\n",
       "    </tr>\n",
       "    <tr>\n",
       "      <th>4</th>\n",
       "      <td>dome</td>\n",
       "      <td>0.7</td>\n",
       "      <td>manufacturing</td>\n",
       "      <td>0.8</td>\n",
       "      <td>innuendo</td>\n",
       "      <td>1.4</td>\n",
       "      <td>hercules</td>\n",
       "      <td>1.2</td>\n",
       "      <td>nightmares</td>\n",
       "      <td>0.3</td>\n",
       "      <td>...</td>\n",
       "      <td>continents</td>\n",
       "      <td>0.5</td>\n",
       "      <td>seinen</td>\n",
       "      <td>10.1</td>\n",
       "      <td>starship</td>\n",
       "      <td>2.0</td>\n",
       "      <td>environmentalism</td>\n",
       "      <td>1.5</td>\n",
       "      <td>amnesia</td>\n",
       "      <td>1.7</td>\n",
       "    </tr>\n",
       "  </tbody>\n",
       "</table>\n",
       "<p>5 rows × 40 columns</p>\n",
       "</div>"
      ],
      "text/plain": [
       "  Topic 1 words Topic 1 weights  Topic 2 words Topic 2 weights Topic 3 words  \\\n",
       "0           sas             1.4      paramedic             2.2  extramarital   \n",
       "1        autism             1.0       wormhole             2.1      hologram   \n",
       "2         aging             0.7       mushroom             0.9    downstairs   \n",
       "3          crab             0.7    grandparent             0.8        mossad   \n",
       "4          dome             0.7  manufacturing             0.8      innuendo   \n",
       "\n",
       "  Topic 3 weights    Topic 4 words Topic 4 weights Topic 5 words  \\\n",
       "0             2.6       parenthood             3.5         islam   \n",
       "1             2.1  psychotherapist             1.7      approved   \n",
       "2             1.5             ncis             1.7        gianni   \n",
       "3             1.5           utopia             1.6        ramsay   \n",
       "4             1.4         hercules             1.2    nightmares   \n",
       "\n",
       "  Topic 5 weights  ...    Topic 16 words Topic 16 weights Topic 17 words  \\\n",
       "0             0.7  ...           startup              1.7          anime   \n",
       "1             0.5  ...           skating              1.3          manga   \n",
       "2             0.4  ...          impostor              1.2        shounen   \n",
       "3             0.4  ...  autobiographical              0.8        martial   \n",
       "4             0.3  ...        continents              0.5         seinen   \n",
       "\n",
       "  Topic 17 weights Topic 18 words Topic 18 weights    Topic 19 words  \\\n",
       "0             54.9           trek              3.4            bionic   \n",
       "1             33.7        simpler              3.1       catholicism   \n",
       "2             16.7         hawaii              2.2           ottoman   \n",
       "3             12.0      cyberpunk              2.2          exorcism   \n",
       "4             10.1       starship              2.0  environmentalism   \n",
       "\n",
       "  Topic 19 weights Topic 20 words Topic 20 weights  \n",
       "0              2.4        mermaid              2.5  \n",
       "1              2.3          sonic              2.0  \n",
       "2              2.2         scooby              1.8  \n",
       "3              2.0            doo              1.8  \n",
       "4              1.5        amnesia              1.7  \n",
       "\n",
       "[5 rows x 40 columns]"
      ]
     },
     "execution_count": 35,
     "metadata": {},
     "output_type": "execute_result"
    }
   ],
   "source": [
    "lda_topic_words2 = display_topics(best_lda_model2, tfidf_vectorizer.get_feature_names_out(), n_top_words = 30) \n",
    "lda_topic_words2.head()"
   ]
  },
  {
   "cell_type": "code",
   "execution_count": 36,
   "metadata": {},
   "outputs": [
    {
     "name": "stderr",
     "output_type": "stream",
     "text": [
      "d:\\anaconda3\\lib\\site-packages\\pyLDAvis\\_prepare.py:243: FutureWarning: In a future version of pandas all arguments of DataFrame.drop except for the argument 'labels' will be keyword-only.\n",
      "  default_term_info = default_term_info.sort_values(\n"
     ]
    },
    {
     "data": {
      "text/html": [
       "\n",
       "<link rel=\"stylesheet\" type=\"text/css\" href=\"https://cdn.jsdelivr.net/gh/bmabey/pyLDAvis@3.4.0/pyLDAvis/js/ldavis.v1.0.0.css\">\n",
       "\n",
       "\n",
       "<div id=\"ldavis_el4174424656975388968956498992\" style=\"background-color:white;\"></div>\n",
       "<script type=\"text/javascript\">\n",
       "\n",
       "var ldavis_el4174424656975388968956498992_data = {\"mdsDat\": {\"x\": [-0.18147786547196076, 0.12848203418963244, 0.005477689312500342, 0.004391560000460826, 0.004330149456784194, 0.0035645459805996875, 0.003808457963368687, 0.0034468732724594804, 0.0030101928589349298, 0.0029043704525413103, 0.0038949032890696384, 0.0030227277617838836, 0.0023404977437161347, 0.002512221391375231, 0.0023730009939840506, 0.0016967642566159365, 0.001890744745491027, 0.0017212981417819135, 0.0014118173000522121, 0.0011980163608084368], \"y\": [0.045165681283488336, 0.06710687139353508, -0.01603592336766895, -0.014082252030968119, -0.015391430698560478, -0.00848657335688848, -0.007932978626285461, -0.008121601615946203, -0.008800167717171826, -0.0077189351685572, -0.004824660030667868, -0.0066500527185803845, -0.005180430073846941, -0.003271447460593982, -0.0023848549600385895, -0.0025016844053116793, -0.001466758892891367, -0.0011151564260128083, 0.00021485112217261621, 0.0014775037507948363], \"topics\": [1, 2, 3, 4, 5, 6, 7, 8, 9, 10, 11, 12, 13, 14, 15, 16, 17, 18, 19, 20], \"cluster\": [1, 1, 1, 1, 1, 1, 1, 1, 1, 1, 1, 1, 1, 1, 1, 1, 1, 1, 1, 1], \"Freq\": [83.91678971905856, 4.068149569551999, 0.7579780889434413, 0.7438706907766098, 0.7321672561003769, 0.6918936074084605, 0.6899863603961831, 0.6872127757302353, 0.679176956677544, 0.6779731685388762, 0.6759312934165324, 0.6727196248902503, 0.6530793355175116, 0.6443925056106187, 0.6382178533239912, 0.6252097283151272, 0.6234298707864012, 0.6172417382048205, 0.607463241363386, 0.5971166153890961]}, \"tinfo\": {\"Term\": [\"anime\", \"manga\", \"animation\", \"marvel\", \"shounen\", \"martial\", \"japanese\", \"arts\", \"school\", \"seinen\", \"dragon\", \"slice\", \"japan\", \"super\", \"tragedy\", \"volume\", \"werewolf\", \"trek\", \"terrorism\", \"english\", \"mockumentary\", \"dramedy\", \"rivalry\", \"cinematic\", \"parallel\", \"bullying\", \"team\", \"agent\", \"man\", \"video\", \"comedy\", \"crime\", \"adventure\", \"romance\", \"action\", \"mystery\", \"fantasy\", \"thriller\", \"novel\", \"documentary\", \"horror\", \"sitcom\", \"book\", \"sci\", \"miniseries\", \"murder\", \"detective\", \"biography\", \"investigation\", \"police\", \"history\", \"superhero\", \"supernatural\", \"alien\", \"england\", \"war\", \"friendship\", \"power\", \"relationship\", \"reality\", \"animation\", \"school\", \"manga\", \"shounen\", \"seinen\", \"dragon\", \"martial\", \"mockumentary\", \"webtoon\", \"anime\", \"webcomic\", \"mecha\", \"tournament\", \"outlaw\", \"samurai\", \"harem\", \"airplane\", \"bounty\", \"gunfight\", \"terrorism\", \"swordplay\", \"immortality\", \"drastic\", \"deed\", \"dramedy\", \"angst\", \"shonen\", \"jung\", \"overweight\", \"soo\", \"disorders\", \"funimation\", \"tragedy\", \"android\", \"cyberpunk\", \"japanese\", \"slice\", \"japan\", \"arts\", \"volume\", \"animation\", \"simpler\", \"starship\", \"roddenberry\", \"hiv\", \"starfleet\", \"voyager\", \"picard\", \"magnum\", \"mmorpg\", \"chappelle\", \"hawaii\", \"gymnastics\", \"misunderstanding\", \"gamer\", \"spock\", \"challenger\", \"enterprise\", \"xena\", \"overlord\", \"flux\", \"locomotive\", \"kgb\", \"ponzi\", \"benefits\", \"trek\", \"shuttle\", \"suga\", \"weasel\", \"klingon\", \"ufo\", \"cyberpunk\", \"aids\", \"gaming\", \"glee\", \"futuristic\", \"pony\", \"daria\", \"mcu\", \"avengers\", \"cinematic\", \"panther\", \"feige\", \"fallon\", \"kentucky\", \"evangelion\", \"nobility\", \"hawkeye\", \"wandavision\", \"empress\", \"oppression\", \"starve\", \"docudrama\", \"poetry\", \"loeb\", \"invention\", \"dickinson\", \"airline\", \"rishi\", \"endgame\", \"kimmel\", \"symbolism\", \"dimensions\", \"toriyama\", \"marvel\", \"hatfield\", \"genocide\", \"danvers\", \"reenactment\", \"imperial\", \"holocaust\", \"austria\", \"ecchi\", \"oslo\", \"yakuza\", \"alchemy\", \"slasher\", \"alchemist\", \"detection\", \"cannabis\", \"promiscuity\", \"roswell\", \"transformers\", \"ripper\", \"tong\", \"unfaithful\", \"hipster\", \"cosplay\", \"housework\", \"ghostly\", \"mathematics\", \"housing\", \"vermont\", \"furry\", \"eiji\", \"viking\", \"axis\", \"vikings\", \"gangs\", \"nrk\", \"pornography\", \"beating\", \"bucket\", \"otaku\", \"erotic\", \"kimmy\", \"bionic\", \"catholicism\", \"ottoman\", \"exorcism\", \"environmentalism\", \"osman\", \"turtles\", \"blackout\", \"constantine\", \"neurosurgeon\", \"hun\", \"spirituality\", \"laziness\", \"optimism\", \"teleportation\", \"staten\", \"blizzard\", \"apparition\", \"conqueror\", \"magi\", \"splinter\", \"battlefield\", \"cursed\", \"mayfair\", \"conservation\", \"pains\", \"flashforward\", \"exorcist\", \"sensei\", \"warming\", \"turtle\", \"wildlife\", \"werewolf\", \"ninja\", \"filmmaking\", \"morgue\", \"gladiator\", \"hunted\", \"psychedelic\", \"folklore\", \"jungle\", \"tsubasa\", \"spartacus\", \"spongebob\", \"asteroid\", \"unicorn\", \"copycat\", \"attenborough\", \"capitalism\", \"eureka\", \"dictatorship\", \"dormitory\", \"dictator\", \"csupo\", \"migration\", \"klasky\", \"squarepants\", \"rugrats\", \"ripper\", \"godfather\", \"invisible\", \"germain\", \"savannah\", \"crab\", \"underwater\", \"surrealism\", \"housewife\", \"puberty\", \"antarctica\", \"liars\", \"shaman\", \"genocide\", \"steed\", \"excalibur\", \"incest\", \"pawn\", \"recess\", \"lantern\", \"diplomacy\", \"geeks\", \"felon\", \"mulder\", \"overtones\", \"railroad\", \"rowe\", \"avengers\", \"aya\", \"freaks\", \"merlin\", \"mccord\", \"kaze\", \"canine\", \"admitted\", \"descriptions\", \"offended\", \"fuentes\", \"slasher\", \"folklore\", \"sorcery\", \"prehistoric\", \"catastrophe\", \"opposites\", \"barney\", \"dinosaur\", \"ghoul\", \"silicon\", \"dinosaurs\", \"reenactment\", \"outpost\", \"intruder\", \"nursing\", \"kimetsu\", \"aquatic\", \"providence\", \"caveman\", \"midwife\", \"yaiba\", \"partisan\", \"convent\", \"biologist\", \"ghouls\", \"americana\", \"homemade\", \"mizuno\", \"spear\", \"attenborough\", \"ikeda\", \"blowing\", \"maternity\", \"primal\", \"vatican\", \"astronomy\", \"arcadia\", \"plantation\", \"cosmos\", \"tyranny\", \"cuisine\", \"quantico\", \"astronomer\", \"spacetime\", \"ineptitude\", \"institutional\", \"bronx\", \"ferb\", \"showbiz\", \"phineas\", \"docudrama\", \"mash\", \"mathematics\", \"macon\", \"calendar\", \"biology\", \"overseer\", \"solar\", \"nikolai\", \"aja\", \"rca\", \"christians\", \"admitted\", \"descriptions\", \"mundo\", \"culinary\", \"choi\", \"cooking\", \"sonic\", \"mermaid\", \"tennyson\", \"doo\", \"shaggy\", \"peele\", \"siren\", \"scooby\", \"graffiti\", \"mysticism\", \"gorilla\", \"aqua\", \"volcano\", \"vinci\", \"symbolism\", \"amnesia\", \"poisoning\", \"tails\", \"bunker\", \"serling\", \"battlefield\", \"jetix\", \"colossal\", \"pup\", \"inventor\", \"stooges\", \"welker\", \"cher\", \"bathing\", \"doe\", \"jingle\", \"twilight\", \"extramarital\", \"hologram\", \"mossad\", \"downstairs\", \"innuendo\", \"jurassic\", \"merlin\", \"camelot\", \"booster\", \"afro\", \"bicker\", \"improv\", \"callback\", \"fireworks\", \"milner\", \"quantum\", \"pharaoh\", \"ansari\", \"aristocracy\", \"estrangement\", \"englishman\", \"improvised\", \"commodore\", \"improvisation\", \"conversion\", \"limitless\", \"physics\", \"beatrice\", \"augment\", \"reunited\", \"infidelity\", \"parenthood\", \"utopia\", \"psychotherapist\", \"ncis\", \"pradesh\", \"builder\", \"hercules\", \"flu\", \"jag\", \"bertie\", \"torchwood\", \"panini\", \"milner\", \"admitted\", \"bye\", \"hasbro\", \"descriptions\", \"remembrance\", \"slain\", \"offended\", \"kikuchi\", \"translations\", \"ascribe\", \"honya\", \"blowing\", \"exams\", \"mizuki\", \"objectives\", \"redubbed\", \"eisenbeis\", \"bengali\", \"abhishek\", \"osaka\", \"attenborough\", \"bisexuality\", \"adoption\", \"asher\", \"awe\", \"lifeforms\", \"saves\", \"ubisoft\", \"humanitas\", \"grail\", \"mortality\", \"kenan\", \"grail\", \"renaissance\", \"reaper\", \"underwater\", \"standoff\", \"shipwreck\", \"chainsaw\", \"eater\", \"siege\", \"saber\", \"uncharted\", \"improvised\", \"improvisation\", \"grim\", \"orsini\", \"improvisational\", \"gamecube\", \"lux\", \"admitted\", \"descriptions\", \"remembrance\", \"slain\", \"offended\", \"kikuchi\", \"translations\", \"ascribe\", \"honya\", \"blowing\", \"exams\", \"mizuki\", \"vatican\", \"villa\", \"magi\", \"waves\", \"seventy\", \"caps\", \"compound\", \"sadness\", \"duchess\", \"wager\", \"swordsman\", \"paramedic\", \"wormhole\", \"mushroom\", \"manufacturing\", \"korra\", \"cougar\", \"postman\", \"grandparent\", \"salvation\", \"buddhism\", \"spirituality\", \"catastrophe\", \"wellness\", \"ambulance\", \"folklore\", \"norse\", \"intervenes\", \"admitted\", \"descriptions\", \"remembrance\", \"slain\", \"offended\", \"kikuchi\", \"translations\", \"ascribe\", \"honya\", \"blowing\", \"exams\", \"mizuki\", \"objectives\", \"versus\", \"conversion\", \"usurp\", \"maura\", \"humiliation\", \"steampunk\", \"stands\", \"pollution\", \"reinvigorate\", \"extramarital\", \"gorilla\", \"janine\", \"mint\", \"impostor\", \"skating\", \"startup\", \"drowned\", \"continents\", \"autobiographical\", \"paralegal\", \"polo\", \"antique\", \"accused\", \"reenactment\", \"iowa\", \"wrongfully\", \"tennessee\", \"nashville\", \"elevator\", \"eui\", \"admitted\", \"descriptions\", \"remembrance\", \"slain\", \"offended\", \"kikuchi\", \"translations\", \"ascribe\", \"honya\", \"blowing\", \"exams\", \"mizuki\", \"objectives\", \"ape\", \"designers\", \"kemp\", \"unicorn\", \"airlines\", \"entities\", \"chong\", \"regulations\", \"wonders\", \"fearing\", \"disastrous\", \"jenn\", \"artificially\", \"vigilantism\", \"stockholm\", \"tulsa\", \"massage\", \"quiz\", \"kardashian\", \"cricket\", \"lifeguard\", \"unintended\", \"rocko\", \"hostages\", \"swimming\", \"disparage\", \"colossal\", \"flirtation\", \"admitted\", \"descriptions\", \"remembrance\", \"slain\", \"offended\", \"kikuchi\", \"translations\", \"ascribe\", \"honya\", \"blowing\", \"exams\", \"mizuki\", \"objectives\", \"redubbed\", \"eisenbeis\", \"flirty\", \"rishi\", \"howe\", \"unworthy\", \"distorted\", \"processing\", \"individuality\", \"nut\", \"utopia\", \"cantankerous\", \"surrealism\", \"climbing\", \"warp\", \"rowdy\", \"agreements\", \"sas\", \"crab\", \"aging\", \"dome\", \"mozart\", \"morphine\", \"strait\", \"withdrawal\", \"illustrator\", \"autism\", \"architect\", \"autistic\", \"atypical\", \"invisible\", \"gilchrist\", \"okuda\", \"divorcee\", \"admitted\", \"descriptions\", \"remembrance\", \"slain\", \"offended\", \"kikuchi\", \"translations\", \"ascribe\", \"honya\", \"blowing\", \"exams\", \"mizuki\", \"objectives\", \"nika\", \"sasaki\", \"shanghai\", \"gems\", \"expenses\", \"butterfly\", \"symphony\", \"councilman\", \"conductor\", \"wireless\", \"challenger\", \"waves\", \"arri\", \"cheerleading\", \"zeitgeist\", \"apps\", \"modeling\", \"bewitched\", \"kentucky\", \"stash\", \"chess\", \"cycles\", \"counts\", \"admitted\", \"descriptions\", \"remembrance\", \"slain\", \"offended\", \"kikuchi\", \"trends\", \"translations\", \"ascribe\", \"honya\", \"blowing\", \"exams\", \"mizuki\", \"objectives\", \"redubbed\", \"eisenbeis\", \"starter\", \"toshio\", \"departing\", \"shimbun\", \"booster\", \"catastrophic\", \"orphanage\", \"harrowing\", \"carina\", \"teammates\", \"proportion\", \"humiliation\", \"carlsen\", \"perfection\", \"choreographed\", \"npd\", \"winners\", \"brunette\", \"resistant\", \"electrical\", \"pawn\", \"daze\", \"mathematics\", \"islam\", \"gianni\", \"approved\", \"nightmares\", \"ramsay\", \"greenfield\", \"tvshowsondvd\", \"admitted\", \"descriptions\", \"remembrance\", \"slain\", \"offended\", \"kikuchi\", \"translations\", \"ascribe\", \"honya\", \"blowing\", \"exams\", \"mizuki\", \"objectives\", \"redubbed\", \"eisenbeis\", \"starter\", \"toshio\", \"departing\", \"shimbun\", \"niconico\", \"saikyo\", \"orsini\", \"havrilesky\", \"osman\", \"hiv\", \"choi\", \"conversion\", \"crying\", \"deen\", \"abdul\", \"devious\", \"gown\", \"kardashian\", \"scholarly\", \"firstly\", \"doubtful\", \"instructions\", \"peninsula\", \"symbols\", \"tread\", \"backward\", \"masturbation\", \"obscenity\", \"ankle\", \"redirect\", \"casablanca\"], \"Freq\": [27.0, 15.0, 100.0, 6.0, 7.0, 5.0, 6.0, 7.0, 35.0, 4.0, 4.0, 5.0, 5.0, 17.0, 4.0, 5.0, 5.0, 2.0, 3.0, 6.0, 3.0, 3.0, 4.0, 1.0, 5.0, 4.0, 13.0, 13.0, 13.0, 12.0, 153.08315780650244, 114.26946580892623, 89.15404780497407, 81.87630528505184, 88.4857220786342, 71.12340997684052, 59.70404747548138, 51.86238770697532, 50.90861809427599, 47.39350991476122, 45.65239941050259, 41.50633195094603, 40.45560960967141, 39.12842987116678, 38.84944687051001, 36.17711648089159, 35.30669175467391, 35.06223945629931, 34.277082936951736, 33.8198706700229, 30.14138722724738, 29.838426208457346, 28.99825251494589, 27.41328935017731, 25.955724620610802, 25.604343902408488, 25.481041291687724, 25.469648880984227, 24.434623227303142, 23.09082509185033, 98.6955379048154, 34.210681875078926, 15.685303677183919, 7.785717554624917, 4.685281657970311, 4.4955283473604535, 5.575780596209147, 3.1729546779070077, 2.385146381636458, 25.550369857811937, 2.0313467915804337, 1.9190685453671559, 2.5198731279925415, 2.261203813298565, 1.8886006826650685, 1.8560955959112257, 1.854673761043562, 1.816671053554308, 1.7819373270166272, 3.2683809793843053, 1.5686049962922892, 1.8356370929747463, 1.8560578083057409, 2.0543845812053534, 2.90309152863045, 2.3138345267742984, 1.2002833480011508, 1.1555680436182434, 1.1062844511729837, 1.0850297996504643, 1.0659450385427771, 1.0270771235952083, 3.5334134490793647, 1.761149798105446, 2.019234234531106, 3.813701002202433, 3.0464581876470436, 2.510961295326408, 2.403328184889686, 1.7937706012706187, 1.840228456805405, 0.48525073201375196, 0.31698751953844073, 0.1328880597069708, 0.20133423731383918, 0.13006203266859484, 0.11842253044794376, 0.1434944936942008, 0.1642425708767818, 0.13354883337674678, 0.13052938763137142, 0.3432769212522776, 0.1170613060241797, 0.13061146227553008, 0.15568871477834578, 0.08385868627720369, 0.08698020549361071, 0.19583682894336898, 0.10665618970592168, 0.09411441453564624, 0.08644741111682003, 0.10437866546272521, 0.08902597138383908, 0.09908978111021131, 0.07469567083622922, 0.5346367080980673, 0.07999280194406064, 0.06045479560986395, 0.11144464623857174, 0.04921436321680363, 0.2876431931137744, 0.3428772869003415, 0.13876341537224773, 0.17131410308078082, 0.10656038952970688, 0.13607833308713552, 0.09733635090573349, 0.08960437744783856, 1.29914045678924, 0.23330251728976933, 0.6830282015405185, 0.1630221760856253, 0.10342779916397504, 0.22827692242407788, 0.11215355420569623, 0.09761766016446796, 0.08571876337296817, 0.06277979319000493, 0.07544315825866951, 0.09257263596510129, 0.062262496157451934, 0.060970264454811365, 0.0789958332372056, 0.10206438294466329, 0.07039067310185305, 0.14746110401510873, 0.07500654169145207, 0.06495449677198682, 0.06714221451284304, 0.04569779516221308, 0.10994712333283978, 0.05281413906952741, 0.09566549408664507, 0.04836787269119919, 0.7344070073061726, 0.04481127887654842, 0.058251435651683586, 0.027234601197936414, 0.07188895111490902, 0.0629925636783092, 0.05711177528625362, 0.0570969418848642, 0.7667825891380062, 0.2715455082941566, 0.37424645898095565, 0.25958407904616654, 0.2513552605517179, 0.179680113397562, 0.20220617224970563, 0.16216328868761218, 0.15477464320231127, 0.18245500561027364, 0.17795878567018264, 0.1857818924935177, 0.09138793965530706, 0.08979935388297251, 0.08617217861835112, 0.07586622104736064, 0.07270196060622036, 0.1168468973919148, 0.08814528461889681, 0.10142157353803041, 0.09063501553662082, 0.0740370061613845, 0.05274190276962738, 0.3173451948954537, 0.06728161159252087, 0.06882632493019744, 0.07536703093903312, 0.04908583539261447, 0.042188241372344996, 0.0683269118079218, 0.07595333437199413, 0.0844847443568322, 0.10518372780735712, 0.0679019109912902, 0.3488589633034014, 0.32608255391075136, 0.3208793140163538, 0.2919022295361046, 0.2180074846756253, 0.1453409690201197, 0.20603340066383888, 0.1697965015684812, 0.10597621154986256, 0.08673471731262974, 0.07245800948699359, 0.06900132259451576, 0.06351382936026978, 0.07597746047552097, 0.07435620226116206, 0.07846363494477102, 0.05980332208266668, 0.0560333817284517, 0.058222434808240214, 0.04894793861163376, 0.04109836855705748, 0.05094406245521788, 0.07617899513834044, 0.053152133699464255, 0.048335345390848466, 0.042080391233488626, 0.04870686705767691, 0.0660120977551664, 0.04411848607280494, 0.051041412807990204, 0.099814080679852, 0.0821648444290511, 0.07182771295845367, 0.0491100494680273, 0.32982202135453914, 0.27468849939682577, 0.17752207929919206, 0.20077417443131162, 0.20987043877142916, 0.3158031672774671, 0.260530874644413, 0.11270641913318645, 0.10040983855759299, 0.12705614032993506, 0.10817524015487646, 0.08831446274871181, 0.079568206330694, 0.05601427085798891, 0.07236433362639447, 0.10590908775192306, 0.08432577153066889, 0.06445945146462977, 0.07480907579865438, 0.05341171657312737, 0.04161878655074544, 0.04689756114721842, 0.05963575763012196, 0.12998590597057547, 0.08162591723248132, 0.08828470269391984, 0.04820059379535081, 0.0210854899166202, 0.057515784288547527, 0.025531510760100885, 0.0257800981481224, 0.9401908289085628, 0.3245055261744146, 0.16924139393269907, 0.13537540138161971, 0.13280763293664533, 0.15224447317721887, 0.14457194462025666, 0.08855952594033373, 0.07473484122764892, 0.09028908086822503, 0.09850101878155375, 0.07693654931282143, 0.09762441289360704, 0.06824680549066478, 0.0720849125552158, 0.06440960809044283, 0.05926402005346647, 0.04761050491009734, 0.12010582064260132, 0.09454005937626674, 0.06230814965242547, 0.04631018480679595, 0.032143054783534894, 0.0198308191970923, 0.018509298267365065, 0.008457435107985174, 0.009317023629553863, 0.007212925908146035, 0.007212927196333433, 0.007237690244285129, 0.008472241546438861, 0.010252788089860375, 0.00988973770411882, 0.010523347383077189, 0.3414351065016038, 0.16924016291715194, 0.1786195828667163, 0.20211592688236837, 0.5490321546541752, 0.22468389534039582, 0.15665020528444618, 0.12347409864656077, 0.1943144213309079, 0.0929250945848442, 0.07193211202830069, 0.11247946361506997, 0.05532689809841508, 0.07276382231259712, 0.058370256893582495, 0.08056808903921946, 0.07716377606682201, 0.0478498807924234, 0.05400631017045619, 0.05313551859700314, 0.06635953040119769, 0.03750788242429371, 0.04215570684517348, 0.04798548051096088, 0.01773897259017768, 0.028028493891077193, 0.01161569903706528, 0.010391749951321605, 0.008877232376912484, 0.020490001984770294, 0.01402200008373334, 0.310443416271474, 0.3405460619905938, 0.2603122943084431, 0.25204961442804524, 0.24829945688883906, 0.15806426007822405, 0.1360642543687664, 0.09983722475267623, 0.07351352523265552, 0.08435647160459929, 0.08749746491649807, 0.068353687995377, 0.11360797301632128, 0.08504665477277926, 0.10281152600535753, 0.07824850757649385, 0.06656152988889537, 0.052540345900138154, 0.051139249394691395, 0.03198354981994402, 0.044895241808626085, 0.049232517168385274, 0.014976272456866644, 0.05163317346914195, 0.01417930060794944, 0.014136981483566693, 0.01135445096756072, 0.007941295163030946, 0.007130419059223384, 0.007130419059282677, 0.008310024236383655, 0.05443069991254941, 0.012375864247762018, 0.01698092447112035, 0.2911185146854614, 0.35906193342365733, 0.15278886363713787, 0.255516904605694, 0.08078821263226409, 0.1273870755201258, 0.09413656722088426, 0.25745085068940177, 0.10118027477100347, 0.062175843303814565, 0.08216179525538765, 0.07195895497377072, 0.09226167202470716, 0.06264438085666535, 0.06195095719020546, 0.23989611714056533, 0.07701029039756446, 0.04720405245142688, 0.07510809921979411, 0.06634370272872675, 0.03843467652826537, 0.10113194268399875, 0.01906755177291352, 0.022641562779990975, 0.04935233664859881, 0.017961832566234796, 0.030530044610148067, 0.015239995499207595, 0.008688582903106295, 0.01693507486093439, 0.009353063250518927, 0.014074849392982518, 0.3679047631741315, 0.3009859558418963, 0.2117957180454997, 0.21514052325746083, 0.1956653420208589, 0.1175163146492068, 0.12458512019192537, 0.15577052087222754, 0.08817147664173033, 0.08117525927582724, 0.06314830087154233, 0.08111503427826472, 0.05534627734268255, 0.07129352342272915, 0.047564274706941995, 0.09088286302490044, 0.05802450412928551, 0.04041441781149172, 0.036343661200364565, 0.03322927032294666, 0.031476829636390966, 0.06866326568642912, 0.0299186109685367, 0.07661217790695801, 0.03068591575339337, 0.020076203020210244, 0.033163708583911225, 0.026107169332798455, 0.03189153329660231, 0.027096325234312216, 0.029879269307898894, 0.4818373248446405, 0.22704865828318352, 0.2341823494174704, 0.23079759219425752, 0.10369371056046085, 0.136892843093085, 0.15970130362321192, 0.08688576409089176, 0.06726255923787176, 0.06105332945269721, 0.09776046895282091, 0.05570977620410666, 0.016229035572293573, 0.011691599084807863, 0.016309017525053624, 0.018240625085502643, 0.0069116910698284115, 0.006911691069986558, 0.0069116910697640714, 0.00691169107038595, 0.0069116910697571065, 0.006911691069760288, 0.006911691070407696, 0.006911691069756601, 0.006911691069903014, 0.006911691069942455, 0.006911691069756611, 0.0069116910702373335, 0.006911691070330684, 0.006911691069756604, 0.008933049657965441, 0.013808724317457863, 0.009701517271879645, 0.0077887942118334596, 0.037770918265981376, 0.013046606094030726, 0.00845581527885203, 0.007083223662107372, 0.006983838784773905, 0.007220657167082086, 0.007025870794202028, 0.006944255907114292, 0.006978102527303697, 0.006923064492018542, 0.006967158768337145, 0.19496425974739345, 0.28512040556284696, 0.318365021842593, 0.20018060401877596, 0.10075842215461019, 0.06511195522511141, 0.06940476705217641, 0.05217298387224189, 0.06917532962993203, 0.05320149034824343, 0.061685450041191074, 0.08541617818010558, 0.09164046537285224, 0.1624858364373248, 0.011989876373384131, 0.012234508617353437, 0.008195069230687283, 0.007701657806455983, 0.006830871452607384, 0.006843329957334087, 0.006830871452821327, 0.006830871452600903, 0.006830871453217015, 0.006830871452594003, 0.006830871452597156, 0.00683087145323856, 0.006830872377476605, 0.006830871452738557, 0.006830871452777634, 0.006830871452593511, 0.011571658576712452, 0.007370943132182805, 0.007062155295784498, 0.006857582802486055, 0.006853636738598612, 0.006839065690378276, 0.006980895790276826, 0.006838055225885683, 0.006837427381578091, 0.006837096474990873, 0.006836041397611313, 0.2914781460360142, 0.2911056431177564, 0.11982933884165735, 0.10789390790637278, 0.08532737449932751, 0.08632447094862788, 0.07524927307730984, 0.10872846436666214, 0.061515686436264115, 0.04192514017912649, 0.04490469532129587, 0.055930956729694184, 0.05028080506651713, 0.04913332095281745, 0.05287540579425918, 0.05134310994754343, 0.008866096301413754, 0.006777572079388242, 0.006777572079445224, 0.006777572079601141, 0.006777572079381792, 0.006777572079994899, 0.006777572079374925, 0.006777572079378061, 0.006777572080016338, 0.006777572079374425, 0.006777572079518775, 0.006777910445615466, 0.0067775720793744375, 0.006777572079848379, 0.042687276587366464, 0.008742272223957253, 0.007858064470786817, 0.008061961399496019, 0.007095030551837526, 0.008643204140970227, 0.006809135085860981, 0.006930248729846815, 0.006793270902799628, 0.006788458428819931, 0.006785111805124503, 0.006783628881236762, 0.0067832476132618285, 0.15780225880853416, 0.1704819341673078, 0.22636253344073748, 0.06866793286954692, 0.07069225692396137, 0.10222749797503532, 0.06346606919394504, 0.061531496249771805, 0.06873185976447321, 0.05476585699657407, 0.061273895917096324, 0.05391953371686078, 0.044111850999012533, 0.043470454763953253, 0.0439162034236004, 0.026037914465749174, 0.008516274972375351, 0.0066549736855145356, 0.0066549736855705775, 0.006654973685723922, 0.006654973685508192, 0.0066549736861111815, 0.006654973685501439, 0.0066549736855045245, 0.006654973686132267, 0.0066549736855009475, 0.006654973685642915, 0.006654973685681158, 0.006654973685500959, 0.00665497368596708, 0.007832034094358628, 0.007422807382287137, 0.007016932517830035, 0.00728978727468882, 0.006850391614992291, 0.0066704667792640586, 0.006775465470685499, 0.006665528805682652, 0.0066620276952153775, 0.0066599999827707335, 0.0066572578889309425, 0.006657066822905382, 0.006656211876724758, 0.1131794627065789, 0.16460495010076442, 0.11620332074263996, 0.10039081289026751, 0.14965968536562266, 0.07428183771009748, 0.10121652461034947, 0.07261061509554899, 0.06742498367426296, 0.08460729139124684, 0.03013896692128226, 0.04796173627206528, 0.008111498714422596, 0.008276632739737395, 0.0075985716139100636, 0.0066454970068809535, 0.006645497006937037, 0.006645497007090493, 0.006645497006874605, 0.006645497007478134, 0.0066454970068678485, 0.006645497006870935, 0.006645497007499156, 0.006645497006867356, 0.006645497007009427, 0.006645497007047699, 0.006645497006867366, 0.00664549700733383, 0.006645497007424412, 0.00664549700686736, 0.007314495755334194, 0.010168881603514155, 0.008040353844676704, 0.006666377197327736, 0.00666958994040297, 0.006666352838488787, 0.006655973501053253, 0.0066636112918266495, 0.0066527033969022, 0.006651681163252248, 0.0066501196898996915, 0.006649861162078758, 0.006649749189658938, 0.006649210096442267, 0.006648975383850454, 0.1777452265706487, 0.09283587401175894, 0.09539336642606017, 0.08569297564319785, 0.06346642204774627, 0.05679588047148965, 0.04849622999869767, 0.04756954890904069, 0.0842690725731469, 0.13266860904334316, 0.07968204341582419, 0.055410842733802174, 0.019893096600181646, 0.04049350522994929, 0.010451363671192796, 0.007780182428581232, 0.008559517080947052, 0.006582081182258958, 0.006582081182314439, 0.0065820811824662375, 0.006582081182252677, 0.0065820811828496036, 0.006582081182245993, 0.006582081182249047, 0.0065820811828704775, 0.006582081182245506, 0.006582276784799682, 0.006582081182424006, 0.006582081182245517, 0.006582081182706951, 0.0082031283955167, 0.007683119033681345, 0.006729589082487072, 0.006802470060192815, 0.006588795899367393, 0.006709176389490717, 0.006688787659490015, 0.006604403246918369, 0.006636733216651047, 0.0065855464558624704, 0.006583931823984656, 0.006583549693615152, 0.006582967979287566, 0.13107992400864005, 0.08991112452776988, 0.1085058751962714, 0.06019878545781749, 0.05228161274475672, 0.0483610260369983, 0.03118877943577864, 0.0558441470199189, 0.022121962938254948, 0.008095964646849951, 0.006503423523898672, 0.006503423523953802, 0.006503423524104596, 0.006503423523892433, 0.006503423524485455, 0.006503423523885792, 0.007921013310547734, 0.006503423523888826, 0.006503423524506193, 0.006503423523885309, 0.006503423524024929, 0.00650342352406254, 0.00650342352388532, 0.006503423524343748, 0.006503423524432754, 0.006503423523885313, 0.006503425196214737, 0.006503423523885984, 0.006503423524049026, 0.00650342352388529, 0.009628515548756376, 0.00796945844005128, 0.0069547720689894146, 0.0065082094924046804, 0.006504308171597927, 0.006504180388811872, 0.006504024935336762, 0.00650380587663765, 0.006503805173937471, 0.006503726550036027, 0.006503700611337039, 0.006503661107078028, 0.006503628901505883, 0.006503625553615154, 0.006503564549981269, 0.0065035530536759764, 0.006503499024724614, 0.006503489020091373, 0.00650348833210021, 0.08754381531842488, 0.0575650662227747, 0.06882849012510345, 0.03832753390314205, 0.052494542101778195, 0.013468193191125565, 0.00827687516215341, 0.006407887265766312, 0.006407887265820724, 0.006407887265969608, 0.006407887265760152, 0.006407887266345603, 0.006407887265753596, 0.006407887265756591, 0.006407887266366075, 0.006407887265753118, 0.006407887265890956, 0.006407887265928087, 0.00640788726575313, 0.006407887266205693, 0.006407887266293575, 0.006407887265753123, 0.006407887269470738, 0.0064078872657537846, 0.006407887265914722, 0.006407887265753099, 0.006407887265753117, 0.006407887265753077, 0.0064078872657610695, 0.0064078872662615095, 0.006422049787264064, 0.0064093828111671134, 0.0064080517307435, 0.0064080119690502774, 0.0064079694064039655, 0.006407952020649111, 0.006407927903910259, 0.006407902936915649, 0.006407898942378646, 0.006407896066325965, 0.006407895544785406, 0.006407894292348901, 0.006407893243353615, 0.006407893171257009, 0.006407891875665143, 0.006407891336463475, 0.006407890291874714, 0.006407889940461046, 0.006407889597094688, 0.006407889208463731, 0.006407888769871473, 0.006407888762809797, 0.006407888445803562], \"Total\": [27.0, 15.0, 100.0, 6.0, 7.0, 5.0, 6.0, 7.0, 35.0, 4.0, 4.0, 5.0, 5.0, 17.0, 4.0, 5.0, 5.0, 2.0, 3.0, 6.0, 3.0, 3.0, 4.0, 1.0, 5.0, 4.0, 13.0, 13.0, 13.0, 12.0, 153.23289175007778, 114.41919975243039, 89.3037817496108, 82.02605435189022, 88.6488008239028, 71.27314392032346, 59.853781419138464, 52.012121650473894, 51.05835203785231, 47.54324385835335, 45.802133353958865, 41.65606589435185, 40.60534355321305, 39.27816381463255, 38.99918081403264, 36.32685042442835, 35.45642569819799, 35.21197339980598, 34.42681688040392, 33.969604613505645, 30.291121170776773, 29.988160151981653, 29.147986458876943, 27.56302329377688, 26.10545856405769, 25.754077845915276, 25.630775235466388, 25.619383165030435, 24.584357170850264, 23.240559035381914, 100.66224463489017, 35.20134900810695, 15.854300440199077, 7.954682649760856, 4.854246753203247, 4.7367939582126235, 5.8882634478581, 3.3556387076813152, 2.5541114767662485, 27.44453014170962, 2.2003454393711794, 2.0881451421273183, 2.7424150648773855, 2.4627824959965614, 2.0576185532228424, 2.025060691249216, 2.0239433338682624, 1.9862640042386168, 1.9509024270755722, 3.61007829939597, 1.7375701013750398, 2.0351171620841044, 2.0630641641908505, 2.284307918526393, 3.231314440580869, 2.608868791784122, 1.3692484433334262, 1.3246195517852812, 1.2757339832887256, 1.254155046194991, 1.23495112027753, 1.1960422200641252, 4.371451779308884, 2.120939381036204, 2.5232952652196197, 6.067360097745239, 5.181216002010378, 5.53541235754954, 7.288344831395534, 5.65144773968899, 100.66224463489017, 0.741993366129428, 0.562701528300142, 0.31735219692206706, 0.4836597672040419, 0.3145014449409279, 0.3051860719650095, 0.3805873189224916, 0.4576275101506245, 0.3740010808434856, 0.36588869764900206, 1.004097182940934, 0.36544814923127944, 0.43311185328456653, 0.5176204421221746, 0.30580596225177703, 0.3272383303076172, 0.7462148913760968, 0.4101812018654564, 0.4110018939184385, 0.3831442073989692, 0.46654508225774943, 0.4052131598302645, 0.45366148838756554, 0.34553455336254707, 2.5158571420839118, 0.40342228904242716, 0.311039850940926, 0.5778631671049594, 0.26025814102959843, 1.611198503290343, 2.5232952652196197, 0.946361898399668, 1.2618993938065415, 0.7257333559975755, 1.315712452792228, 0.6675466745771592, 0.564054349265138, 1.5061524791402643, 0.5714202792176631, 1.8944205245250603, 0.47282637752538825, 0.31474646841488646, 0.7383384287895256, 0.44186092181495634, 0.38512128000265033, 0.3883796605200678, 0.2851766999822506, 0.34738194639032355, 0.4357385542328804, 0.2961994765719083, 0.31218349651825755, 0.4181822091264522, 0.5723999497224649, 0.4121804263990578, 0.8684396432338755, 0.44326692256700156, 0.3878530324012687, 0.4062190717208925, 0.28938594331991885, 0.7287182222152638, 0.35294859648813137, 0.6994619927860761, 0.39923900014830077, 6.195092620869162, 0.38340023143001206, 0.5001822302622728, 0.2723901263930367, 0.723647179365435, 0.8341124329131122, 0.7800320775765649, 1.246413297780621, 0.9514993585860063, 0.4671849094694002, 0.6628594509806105, 0.5417096432128371, 0.5527302926927096, 0.41936956331568354, 0.4890970466117667, 0.42768765884929305, 0.41924738695433517, 0.5300157529525048, 0.5401534352025252, 0.6167828795431558, 0.32001125441762324, 0.34871051451464913, 0.3387312436751879, 0.3016464398650907, 0.3081677011125935, 0.5047038993395544, 0.3829677805074284, 0.4488129997285973, 0.403055933578201, 0.3618908660573087, 0.2710117147258159, 1.6438256946344902, 0.406884008695616, 0.42536530970857334, 0.47266589781272306, 0.32377304988069683, 0.28459290795664194, 0.46782407701016093, 0.5617202988653657, 0.6680043896741116, 0.9444756584752705, 0.6722676365175432, 0.5864692018134766, 0.5532757392517396, 0.5993577109724485, 0.5596297022653771, 0.4738707712332235, 0.3758082558186427, 0.6557808610488239, 0.5494781425267677, 0.47290436178205814, 0.41590520818818005, 0.35245511928642154, 0.34298962528001187, 0.3167205614095975, 0.38109601338561244, 0.3781790398297197, 0.4099457397596447, 0.32026907667340837, 0.32955727567789406, 0.35481669721149195, 0.30129356301474675, 0.3074767202508932, 0.3856153281832424, 0.623786718466693, 0.4392637650899642, 0.41260503558521294, 0.3941570085557044, 0.45948136320109334, 0.6395188189687381, 0.45226168179525017, 0.541584659674241, 1.5499435488470328, 1.6592669091455334, 5.8532652940859125, 3.2279421102330104, 0.7213838219067072, 0.6321249788386452, 0.41110978486030975, 0.5087406112098568, 0.6531423333550281, 1.0081437846610328, 0.850747064251978, 0.38659529668560844, 0.40705258327521654, 0.5251368789758722, 0.4591303120436879, 0.38388648875406384, 0.36269192648829984, 0.26820102000408813, 0.35142102726845764, 0.5521815023121541, 0.44513138096610894, 0.37553875213138, 0.47723891490270587, 0.3433719107628282, 0.28710825028679576, 0.33254684341236096, 0.4302954784134668, 0.9585987488049641, 0.6167828795431558, 1.0024395821163954, 0.5910945514690756, 0.286915903141944, 0.8278412422919783, 0.4475310869289561, 0.5621524347975954, 1.1257671193093113, 0.7184078348309848, 0.45615939757096713, 0.40870743246557667, 0.40939826680843633, 0.5119227545556121, 0.5001822302622728, 0.3556667779027241, 0.3052480164413658, 0.3896487525105974, 0.42695059319398665, 0.35145866864851866, 0.4522844529661368, 0.32492574322946133, 0.3885060245219167, 0.356655626737893, 0.33399385363615014, 0.29485917632050773, 0.7691216666654568, 0.6130416027261544, 0.5714202792176631, 0.45750027340089616, 0.6082239374998464, 0.39404552260820036, 0.4027629728928161, 0.24053517036143432, 0.28215470126662273, 0.22415255968023515, 0.2250378031850552, 0.22652842093972325, 0.29312805804640524, 0.5527302926927096, 1.0081437846610328, 2.2345848215575606, 0.6674109746109287, 0.477555087770722, 0.5299311557537295, 0.6111432025612396, 1.6678867937075408, 0.7728846517314615, 0.5418539114047041, 0.448575188372865, 0.723647179365435, 0.3722724264506263, 0.3246098736671307, 0.5479758423532052, 0.27478780360851895, 0.37604521959181764, 0.3132768976129211, 0.44365788878759166, 0.4250558923372381, 0.2748640680533035, 0.32876512034075656, 0.33959966062212094, 0.4418427296429203, 0.2857544675494738, 0.3386568252861572, 0.4688998745012961, 0.24549533284714226, 0.4047954830332015, 0.26820102000408813, 0.24132825694094293, 0.22873334301916706, 0.5454172779283913, 0.4613171762539211, 0.5170505091812119, 0.6184901732845411, 0.4829565665371049, 0.505480182594152, 0.5988163731225284, 0.38791373480606417, 0.4921296638086626, 0.37253335021804357, 0.2746134727532975, 0.33493549015266877, 0.36339394481790316, 0.2871377607241005, 0.49573931525749004, 0.3813044201056411, 0.539053820212905, 0.4461124052861348, 0.4181822091264522, 0.3669885328374639, 0.3829677805074284, 0.3382985724991161, 0.4985937616101404, 0.7753861143395734, 0.28448903013953997, 1.0673321294974223, 0.3007899225782264, 0.33404217358431015, 0.26927271401745184, 0.24611546735307946, 0.22415255968023515, 0.2250378031850552, 0.2662670528890867, 2.2380745817135743, 0.9923140946413169, 3.9033648081936057, 0.5744098323125517, 0.7416089436523122, 0.35010691241213865, 0.6739424378574209, 0.29543710624406355, 0.4879436330871778, 0.36647699303645104, 1.051991891529948, 0.4541269491531866, 0.29594984142549635, 0.4249881587156509, 0.39627583967281205, 0.5105462691065401, 0.34841382181175856, 0.35294859648813137, 1.4210578795092563, 0.45674076310878686, 0.2869023159679016, 0.4745857572183448, 0.6391453881592316, 0.3856153281832424, 1.0472782997817704, 0.2515959263595662, 0.29988181183629936, 0.664597703529576, 0.2468856092647446, 0.5397465922003208, 0.29472027857750555, 0.24154102452426915, 0.5263841299227122, 0.30540744375459067, 1.638478670898058, 0.6009333562255421, 0.5918440589752265, 0.5093529777534386, 0.5284286359352255, 0.5746429376622335, 0.3476640490585946, 0.39404552260820036, 0.535530106825633, 0.34459946340489855, 0.45323357222879757, 0.3594562004955947, 0.46310140558201884, 0.3210092816414888, 0.4385837188617061, 0.2947079886261182, 0.5726858827609409, 0.3894390505916943, 0.30679787727850777, 0.28182852803874586, 0.30067407777264943, 0.30563203538496525, 0.6904408392681615, 0.3014856951201566, 0.7923608832173145, 0.35656202902081097, 0.29143159615051095, 0.5254905248979863, 0.4236703951610494, 0.5650412083581191, 0.5932983695658006, 3.7394960390354477, 0.8047768042336798, 0.4646002460291951, 0.5290305739078695, 0.5824948502389756, 0.28948263389207496, 0.3989378914864632, 0.6276968176411587, 0.3600374387232068, 0.3209284409062669, 0.3285135753164982, 0.5723733157688904, 0.33347159342225147, 0.2947079886261182, 0.22415255968023515, 0.36574126911742233, 0.585314474558821, 0.2250378031850552, 0.22577471335088617, 0.22633580971770917, 0.22652842093972325, 0.22772124438067254, 0.22813219531531223, 0.22816104929655154, 0.2286264760717437, 0.22873334301916706, 0.2292526449519065, 0.22980997531125913, 0.22990173551171267, 0.23006164885324198, 0.23011872935824376, 0.3051885998023906, 0.5465282024677628, 0.353424298431692, 0.26820102000408813, 2.1694531178358756, 1.5665816689614154, 0.49995838598684333, 0.26234814925760847, 0.2437729144516591, 0.37548104907438146, 0.2760655782555819, 0.27994844571122085, 0.4284415986686847, 0.2603618380130692, 1.1489112114771323, 0.4284415986686847, 0.6798042505295535, 0.7699189122160587, 0.5621524347975954, 0.5158597354848882, 0.33663448350936753, 0.46952001353918965, 0.3540727441807649, 0.49070231313389917, 0.41184183183347806, 0.49743512669144596, 0.6904408392681615, 0.7923608832173145, 1.4697687679844276, 0.23311421090718376, 0.3052727985415097, 0.25410133105019184, 0.24633745254338207, 0.22415255968023515, 0.2250378031850552, 0.22577471335088617, 0.22633580971770917, 0.22652842093972325, 0.22772124438067254, 0.22813219531531223, 0.22816104929655154, 0.2286264760717437, 0.22873334301916706, 0.2292526449519065, 0.22980997531125913, 0.5170505091812119, 0.3857841175142595, 0.30129356301474675, 0.27126607206021147, 0.2638028957603465, 0.24035307778699677, 0.7763570701441332, 0.4275569217391244, 0.46971342645628605, 0.30445687444823, 0.5075244923627703, 0.5265889459711433, 0.5331352770692467, 0.4581852766266057, 0.42468995102044965, 0.3673900909904326, 0.37527160708339546, 0.34429530988290263, 0.5624055631934975, 0.3374169442756712, 0.28994982376178224, 0.34298962528001187, 0.477555087770722, 0.6174215785218395, 0.9136340120781911, 1.0081437846610328, 1.0237601818165225, 0.26007755299476176, 0.22415255968023515, 0.2250378031850552, 0.22577471335088617, 0.22633580971770917, 0.22652842093972325, 0.22772124438067254, 0.22813219531531223, 0.22816104929655154, 0.2286264760717437, 0.22873334301916706, 0.2292526449519065, 0.22980997531125913, 0.22990173551171267, 1.8808265002491762, 0.35656202902081097, 0.3057974792594883, 0.5122816867941198, 0.31008057241080994, 2.3015811302757228, 0.24890320017667236, 0.39315013987651326, 0.2567629150332166, 0.6009333562255421, 0.4249881587156509, 0.5987821758468348, 0.32841749524123554, 0.4237275251090303, 0.5024763595352262, 0.6851308083706846, 0.32081959274561817, 0.3647781400040034, 0.5365340644997549, 0.37471436802376423, 0.4193509413302994, 0.622331771274934, 0.5510954693807417, 0.723647179365435, 0.6912126052225948, 0.6397781677036781, 0.8923179621111519, 1.1670199769330516, 0.7198512014076697, 0.24012652165854753, 0.22415255968023515, 0.2250378031850552, 0.22577471335088617, 0.22633580971770917, 0.22652842093972325, 0.22772124438067254, 0.22813219531531223, 0.22816104929655154, 0.2286264760717437, 0.22873334301916706, 0.2292526449519065, 0.22980997531125913, 0.22990173551171267, 0.3218967450112569, 0.33899117022944686, 0.30425231961002475, 0.38388648875406384, 0.29024498651992847, 0.23504611516114132, 0.34079919878956616, 0.23877268476774455, 0.3120854966190623, 0.2734352247767064, 0.41005877573657645, 0.3153430744727057, 0.33696816621536724, 0.35175680733289943, 0.520947029906772, 0.3761132001449725, 0.37593549132248866, 0.599661945016576, 0.3091805215970185, 0.4552607446927773, 0.3682761976505756, 0.37277220993783455, 0.5622868234243673, 0.2618971952576353, 0.43100138111834135, 0.24591172691416882, 0.2515959263595662, 0.24380016374600957, 0.22415255968023515, 0.2250378031850552, 0.22577471335088617, 0.22633580971770917, 0.22652842093972325, 0.22772124438067254, 0.22813219531531223, 0.22816104929655154, 0.2286264760717437, 0.22873334301916706, 0.2292526449519065, 0.22980997531125913, 0.22990173551171267, 0.23006164885324198, 0.23011872935824376, 0.25444378405034873, 0.4062190717208925, 0.38683263679272756, 0.24108479841463232, 0.24531195028843747, 0.2517400304488268, 0.25725991912040697, 0.3062063708348485, 0.4646002460291951, 0.2610571789441747, 1.1257671193093113, 0.24700582194085297, 0.5331543447230781, 0.3152032454193165, 0.24530382508089146, 0.4592135035909832, 0.4475310869289561, 0.4620493334304243, 0.4949559394737087, 0.37400781846661335, 0.3386709505704214, 0.3239431879828425, 0.325832533519149, 0.7859235817630205, 1.3771706533912298, 0.9127441302121546, 0.7772161435880485, 0.2886751374501519, 0.5910945514690756, 0.2962574034657188, 0.2351483917223929, 0.2631336116135959, 0.22415255968023515, 0.2250378031850552, 0.22577471335088617, 0.22633580971770917, 0.22652842093972325, 0.22772124438067254, 0.22813219531531223, 0.22816104929655154, 0.2286264760717437, 0.22873334301916706, 0.2292526449519065, 0.22980997531125913, 0.22990173551171267, 0.2896230830918482, 0.302727470641207, 0.33166676255528577, 0.4066364204621674, 0.23406889701367606, 0.7989864083832869, 0.9352376241970011, 0.2785091043212531, 0.7676443885479712, 0.24911022224856422, 0.3272383303076172, 0.27126607206021147, 0.23666750360566852, 0.4092755065018268, 0.3337751918231339, 0.488137130895432, 0.28175565570223376, 0.29881995646390597, 0.44186092181495634, 0.2918374049549187, 0.6492457785541427, 0.2598833921469891, 0.2431534734027592, 0.22415255968023515, 0.2250378031850552, 0.22577471335088617, 0.22633580971770917, 0.22652842093972325, 0.22772124438067254, 0.27742702768033695, 0.22813219531531223, 0.22816104929655154, 0.2286264760717437, 0.22873334301916706, 0.2292526449519065, 0.22980997531125913, 0.22990173551171267, 0.23006164885324198, 0.23011872935824376, 0.23015704071765775, 0.23160443227286268, 0.23202133475280073, 0.2325472590598719, 0.34459946340489855, 0.29192536358259524, 0.9098310418379042, 0.37631152619719294, 0.24767941959164172, 0.30925745807390875, 0.2948821082182588, 0.31008057241080994, 0.25527200682916884, 0.3275378299439598, 0.2572035813202119, 0.24117031080261653, 0.3857363605758527, 0.3368196931055219, 0.24744031928678323, 0.36134076154306166, 0.42695059319398665, 0.2604381326977318, 0.3829677805074284, 0.46532904379089274, 0.3372500376802359, 0.502958327745417, 0.6602231242514082, 1.0831316890168308, 0.3266348957674944, 0.2426254325185413, 0.22415255968023515, 0.2250378031850552, 0.22577471335088617, 0.22633580971770917, 0.22652842093972325, 0.22772124438067254, 0.22813219531531223, 0.22816104929655154, 0.2286264760717437, 0.22873334301916706, 0.2292526449519065, 0.22980997531125913, 0.22990173551171267, 0.23006164885324198, 0.23011872935824376, 0.23015704071765775, 0.23160443227286268, 0.23202133475280073, 0.2325472590598719, 0.2326044197285079, 0.2331054731026616, 0.23311421090718376, 0.23371331661424172, 0.3758082558186427, 0.4836597672040419, 0.9923140946413169, 0.35656202902081097, 0.26954702669457464, 0.3273535940322716, 0.38856295804888097, 0.3534146813674458, 0.266998483872917, 0.3091805215970185, 0.27182750881067985, 0.27510517815562635, 0.27831721614847194, 0.2685900418438264, 0.28368869485922305, 0.28523629127742123, 0.2922532524432081, 0.30092701016242007, 0.2982229877951323, 0.3039329825102384, 0.3327494884252438, 0.3101294574718272, 0.31731437952897196], \"Category\": [\"Default\", \"Default\", \"Default\", \"Default\", \"Default\", \"Default\", \"Default\", \"Default\", \"Default\", \"Default\", \"Default\", \"Default\", \"Default\", \"Default\", \"Default\", \"Default\", \"Default\", \"Default\", \"Default\", \"Default\", \"Default\", \"Default\", \"Default\", \"Default\", \"Default\", \"Default\", \"Default\", \"Default\", \"Default\", \"Default\", \"Topic1\", \"Topic1\", \"Topic1\", \"Topic1\", \"Topic1\", \"Topic1\", \"Topic1\", \"Topic1\", \"Topic1\", \"Topic1\", \"Topic1\", \"Topic1\", \"Topic1\", \"Topic1\", \"Topic1\", \"Topic1\", \"Topic1\", \"Topic1\", \"Topic1\", \"Topic1\", \"Topic1\", \"Topic1\", \"Topic1\", \"Topic1\", \"Topic1\", \"Topic1\", \"Topic1\", \"Topic1\", \"Topic1\", \"Topic1\", \"Topic1\", \"Topic1\", \"Topic2\", \"Topic2\", \"Topic2\", \"Topic2\", \"Topic2\", \"Topic2\", \"Topic2\", \"Topic2\", \"Topic2\", \"Topic2\", \"Topic2\", \"Topic2\", \"Topic2\", \"Topic2\", \"Topic2\", \"Topic2\", \"Topic2\", \"Topic2\", \"Topic2\", \"Topic2\", \"Topic2\", \"Topic2\", \"Topic2\", \"Topic2\", \"Topic2\", \"Topic2\", \"Topic2\", \"Topic2\", \"Topic2\", \"Topic2\", \"Topic2\", \"Topic2\", \"Topic2\", \"Topic2\", \"Topic2\", \"Topic2\", \"Topic2\", \"Topic2\", \"Topic2\", \"Topic3\", \"Topic3\", \"Topic3\", \"Topic3\", \"Topic3\", \"Topic3\", \"Topic3\", \"Topic3\", \"Topic3\", \"Topic3\", \"Topic3\", \"Topic3\", \"Topic3\", \"Topic3\", \"Topic3\", \"Topic3\", \"Topic3\", \"Topic3\", \"Topic3\", \"Topic3\", \"Topic3\", \"Topic3\", \"Topic3\", \"Topic3\", \"Topic3\", \"Topic3\", \"Topic3\", \"Topic3\", \"Topic3\", \"Topic3\", \"Topic3\", \"Topic3\", \"Topic3\", \"Topic3\", \"Topic3\", \"Topic3\", \"Topic3\", \"Topic4\", \"Topic4\", \"Topic4\", \"Topic4\", \"Topic4\", \"Topic4\", \"Topic4\", \"Topic4\", \"Topic4\", \"Topic4\", \"Topic4\", \"Topic4\", \"Topic4\", \"Topic4\", \"Topic4\", \"Topic4\", \"Topic4\", \"Topic4\", \"Topic4\", \"Topic4\", \"Topic4\", \"Topic4\", \"Topic4\", \"Topic4\", \"Topic4\", \"Topic4\", \"Topic4\", \"Topic4\", \"Topic4\", \"Topic4\", \"Topic4\", \"Topic4\", \"Topic4\", \"Topic4\", \"Topic5\", \"Topic5\", \"Topic5\", \"Topic5\", \"Topic5\", \"Topic5\", \"Topic5\", \"Topic5\", \"Topic5\", \"Topic5\", \"Topic5\", \"Topic5\", \"Topic5\", \"Topic5\", \"Topic5\", \"Topic5\", \"Topic5\", \"Topic5\", \"Topic5\", \"Topic5\", \"Topic5\", \"Topic5\", \"Topic5\", \"Topic5\", \"Topic5\", \"Topic5\", \"Topic5\", \"Topic5\", \"Topic5\", \"Topic5\", \"Topic5\", \"Topic5\", \"Topic5\", \"Topic5\", \"Topic6\", \"Topic6\", \"Topic6\", \"Topic6\", \"Topic6\", \"Topic6\", \"Topic6\", \"Topic6\", \"Topic6\", \"Topic6\", \"Topic6\", \"Topic6\", \"Topic6\", \"Topic6\", \"Topic6\", \"Topic6\", \"Topic6\", \"Topic6\", \"Topic6\", \"Topic6\", \"Topic6\", \"Topic6\", \"Topic6\", \"Topic6\", \"Topic6\", \"Topic6\", \"Topic6\", \"Topic6\", \"Topic6\", \"Topic6\", \"Topic6\", \"Topic6\", \"Topic6\", \"Topic6\", \"Topic7\", \"Topic7\", \"Topic7\", \"Topic7\", \"Topic7\", \"Topic7\", \"Topic7\", \"Topic7\", \"Topic7\", \"Topic7\", \"Topic7\", \"Topic7\", \"Topic7\", \"Topic7\", \"Topic7\", \"Topic7\", \"Topic7\", \"Topic7\", \"Topic7\", \"Topic7\", \"Topic7\", \"Topic7\", \"Topic7\", \"Topic7\", \"Topic7\", \"Topic7\", \"Topic7\", \"Topic7\", \"Topic7\", \"Topic7\", \"Topic7\", \"Topic8\", \"Topic8\", \"Topic8\", \"Topic8\", \"Topic8\", \"Topic8\", \"Topic8\", \"Topic8\", \"Topic8\", \"Topic8\", \"Topic8\", \"Topic8\", \"Topic8\", \"Topic8\", \"Topic8\", \"Topic8\", \"Topic8\", \"Topic8\", \"Topic8\", \"Topic8\", \"Topic8\", \"Topic8\", \"Topic8\", \"Topic8\", \"Topic8\", \"Topic8\", \"Topic8\", \"Topic8\", \"Topic8\", \"Topic8\", \"Topic8\", \"Topic8\", \"Topic8\", \"Topic8\", \"Topic9\", \"Topic9\", \"Topic9\", \"Topic9\", \"Topic9\", \"Topic9\", \"Topic9\", \"Topic9\", \"Topic9\", \"Topic9\", \"Topic9\", \"Topic9\", \"Topic9\", \"Topic9\", \"Topic9\", \"Topic9\", \"Topic9\", \"Topic9\", \"Topic9\", \"Topic9\", \"Topic9\", \"Topic9\", \"Topic9\", \"Topic9\", \"Topic9\", \"Topic9\", \"Topic9\", \"Topic9\", \"Topic9\", \"Topic9\", \"Topic9\", \"Topic10\", \"Topic10\", \"Topic10\", \"Topic10\", \"Topic10\", \"Topic10\", \"Topic10\", \"Topic10\", \"Topic10\", \"Topic10\", \"Topic10\", \"Topic10\", \"Topic10\", \"Topic10\", \"Topic10\", \"Topic10\", \"Topic10\", \"Topic10\", \"Topic10\", \"Topic10\", \"Topic10\", \"Topic10\", \"Topic10\", \"Topic10\", \"Topic10\", \"Topic10\", \"Topic10\", \"Topic10\", \"Topic10\", \"Topic10\", \"Topic10\", \"Topic10\", \"Topic10\", \"Topic10\", \"Topic11\", \"Topic11\", \"Topic11\", \"Topic11\", \"Topic11\", \"Topic11\", \"Topic11\", \"Topic11\", \"Topic11\", \"Topic11\", \"Topic11\", \"Topic11\", \"Topic11\", \"Topic11\", \"Topic11\", \"Topic11\", \"Topic11\", \"Topic11\", \"Topic11\", \"Topic11\", \"Topic11\", \"Topic11\", \"Topic11\", \"Topic11\", \"Topic11\", \"Topic11\", \"Topic11\", \"Topic11\", \"Topic11\", \"Topic11\", \"Topic11\", \"Topic11\", \"Topic12\", \"Topic12\", \"Topic12\", \"Topic12\", \"Topic12\", \"Topic12\", \"Topic12\", \"Topic12\", \"Topic12\", \"Topic12\", \"Topic12\", \"Topic12\", \"Topic12\", \"Topic12\", \"Topic12\", \"Topic12\", \"Topic12\", \"Topic12\", \"Topic12\", \"Topic12\", \"Topic12\", \"Topic12\", \"Topic12\", \"Topic12\", \"Topic12\", \"Topic12\", \"Topic12\", \"Topic12\", \"Topic12\", \"Topic12\", \"Topic12\", \"Topic13\", \"Topic13\", \"Topic13\", \"Topic13\", \"Topic13\", \"Topic13\", \"Topic13\", \"Topic13\", \"Topic13\", \"Topic13\", \"Topic13\", \"Topic13\", \"Topic13\", \"Topic13\", \"Topic13\", \"Topic13\", \"Topic13\", \"Topic13\", \"Topic13\", \"Topic13\", \"Topic13\", \"Topic13\", \"Topic13\", \"Topic13\", \"Topic13\", \"Topic13\", \"Topic13\", \"Topic13\", \"Topic13\", \"Topic13\", \"Topic13\", \"Topic13\", \"Topic13\", \"Topic13\", \"Topic13\", \"Topic13\", \"Topic13\", \"Topic13\", \"Topic13\", \"Topic13\", \"Topic13\", \"Topic13\", \"Topic13\", \"Topic13\", \"Topic13\", \"Topic14\", \"Topic14\", \"Topic14\", \"Topic14\", \"Topic14\", \"Topic14\", \"Topic14\", \"Topic14\", \"Topic14\", \"Topic14\", \"Topic14\", \"Topic14\", \"Topic14\", \"Topic14\", \"Topic14\", \"Topic14\", \"Topic14\", \"Topic14\", \"Topic14\", \"Topic14\", \"Topic14\", \"Topic14\", \"Topic14\", \"Topic14\", \"Topic14\", \"Topic14\", \"Topic14\", \"Topic14\", \"Topic14\", \"Topic14\", \"Topic14\", \"Topic14\", \"Topic14\", \"Topic14\", \"Topic14\", \"Topic14\", \"Topic14\", \"Topic14\", \"Topic14\", \"Topic14\", \"Topic14\", \"Topic15\", \"Topic15\", \"Topic15\", \"Topic15\", \"Topic15\", \"Topic15\", \"Topic15\", \"Topic15\", \"Topic15\", \"Topic15\", \"Topic15\", \"Topic15\", \"Topic15\", \"Topic15\", \"Topic15\", \"Topic15\", \"Topic15\", \"Topic15\", \"Topic15\", \"Topic15\", \"Topic15\", \"Topic15\", \"Topic15\", \"Topic15\", \"Topic15\", \"Topic15\", \"Topic15\", \"Topic15\", \"Topic15\", \"Topic15\", \"Topic15\", \"Topic15\", \"Topic15\", \"Topic15\", \"Topic15\", \"Topic15\", \"Topic15\", \"Topic15\", \"Topic15\", \"Topic15\", \"Topic15\", \"Topic15\", \"Topic15\", \"Topic16\", \"Topic16\", \"Topic16\", \"Topic16\", \"Topic16\", \"Topic16\", \"Topic16\", \"Topic16\", \"Topic16\", \"Topic16\", \"Topic16\", \"Topic16\", \"Topic16\", \"Topic16\", \"Topic16\", \"Topic16\", \"Topic16\", \"Topic16\", \"Topic16\", \"Topic16\", \"Topic16\", \"Topic16\", \"Topic16\", \"Topic16\", \"Topic16\", \"Topic16\", \"Topic16\", \"Topic16\", \"Topic16\", \"Topic16\", \"Topic16\", \"Topic16\", \"Topic16\", \"Topic16\", \"Topic16\", \"Topic16\", \"Topic16\", \"Topic16\", \"Topic16\", \"Topic16\", \"Topic16\", \"Topic16\", \"Topic16\", \"Topic17\", \"Topic17\", \"Topic17\", \"Topic17\", \"Topic17\", \"Topic17\", \"Topic17\", \"Topic17\", \"Topic17\", \"Topic17\", \"Topic17\", \"Topic17\", \"Topic17\", \"Topic17\", \"Topic17\", \"Topic17\", \"Topic17\", \"Topic17\", \"Topic17\", \"Topic17\", \"Topic17\", \"Topic17\", \"Topic17\", \"Topic17\", \"Topic17\", \"Topic17\", \"Topic17\", \"Topic17\", \"Topic17\", \"Topic17\", \"Topic17\", \"Topic17\", \"Topic17\", \"Topic17\", \"Topic17\", \"Topic17\", \"Topic17\", \"Topic17\", \"Topic17\", \"Topic17\", \"Topic17\", \"Topic17\", \"Topic17\", \"Topic17\", \"Topic17\", \"Topic18\", \"Topic18\", \"Topic18\", \"Topic18\", \"Topic18\", \"Topic18\", \"Topic18\", \"Topic18\", \"Topic18\", \"Topic18\", \"Topic18\", \"Topic18\", \"Topic18\", \"Topic18\", \"Topic18\", \"Topic18\", \"Topic18\", \"Topic18\", \"Topic18\", \"Topic18\", \"Topic18\", \"Topic18\", \"Topic18\", \"Topic18\", \"Topic18\", \"Topic18\", \"Topic18\", \"Topic18\", \"Topic18\", \"Topic18\", \"Topic18\", \"Topic18\", \"Topic18\", \"Topic18\", \"Topic18\", \"Topic18\", \"Topic18\", \"Topic18\", \"Topic18\", \"Topic18\", \"Topic18\", \"Topic18\", \"Topic18\", \"Topic19\", \"Topic19\", \"Topic19\", \"Topic19\", \"Topic19\", \"Topic19\", \"Topic19\", \"Topic19\", \"Topic19\", \"Topic19\", \"Topic19\", \"Topic19\", \"Topic19\", \"Topic19\", \"Topic19\", \"Topic19\", \"Topic19\", \"Topic19\", \"Topic19\", \"Topic19\", \"Topic19\", \"Topic19\", \"Topic19\", \"Topic19\", \"Topic19\", \"Topic19\", \"Topic19\", \"Topic19\", \"Topic19\", \"Topic19\", \"Topic19\", \"Topic19\", \"Topic19\", \"Topic19\", \"Topic19\", \"Topic19\", \"Topic19\", \"Topic19\", \"Topic19\", \"Topic19\", \"Topic19\", \"Topic19\", \"Topic19\", \"Topic19\", \"Topic19\", \"Topic19\", \"Topic19\", \"Topic19\", \"Topic19\", \"Topic20\", \"Topic20\", \"Topic20\", \"Topic20\", \"Topic20\", \"Topic20\", \"Topic20\", \"Topic20\", \"Topic20\", \"Topic20\", \"Topic20\", \"Topic20\", \"Topic20\", \"Topic20\", \"Topic20\", \"Topic20\", \"Topic20\", \"Topic20\", \"Topic20\", \"Topic20\", \"Topic20\", \"Topic20\", \"Topic20\", \"Topic20\", \"Topic20\", \"Topic20\", \"Topic20\", \"Topic20\", \"Topic20\", \"Topic20\", \"Topic20\", \"Topic20\", \"Topic20\", \"Topic20\", \"Topic20\", \"Topic20\", \"Topic20\", \"Topic20\", \"Topic20\", \"Topic20\", \"Topic20\", \"Topic20\", \"Topic20\", \"Topic20\", \"Topic20\", \"Topic20\", \"Topic20\", \"Topic20\", \"Topic20\", \"Topic20\", \"Topic20\", \"Topic20\", \"Topic20\"], \"logprob\": [30.0, 29.0, 28.0, 27.0, 26.0, 25.0, 24.0, 23.0, 22.0, 21.0, 20.0, 19.0, 18.0, 17.0, 16.0, 15.0, 14.0, 13.0, 12.0, 11.0, 10.0, 9.0, 8.0, 7.0, 6.0, 5.0, 4.0, 3.0, 2.0, 1.0, -4.6041, -4.8965, -5.1447, -5.2299, -5.1522, -5.3707, -5.5457, -5.6865, -5.7051, -5.7766, -5.814, -5.9092, -5.9349, -5.9682, -5.9754, -6.0467, -6.071, -6.078, -6.1006, -6.114, -6.2292, -6.2393, -6.2679, -6.3241, -6.3787, -6.3923, -6.3972, -6.3976, -6.4391, -6.4957, -5.0431, -6.1026, -3.8557, -4.5562, -5.064, -5.1054, -4.89, -5.4538, -5.7392, -3.3678, -5.8998, -5.9566, -5.6842, -5.7926, -5.9726, -5.99, -5.9907, -6.0114, -6.0308, -5.4242, -6.1583, -6.0011, -5.99, -5.8885, -5.5427, -5.7695, -6.4259, -6.4639, -6.5074, -6.5268, -6.5446, -6.5817, -5.3462, -6.0425, -5.9057, -5.2699, -5.4945, -5.6878, -5.7316, -6.0241, -5.9986, -5.6513, -6.0771, -6.9464, -6.531, -6.9679, -7.0617, -6.8696, -6.7346, -6.9415, -6.9643, -5.9974, -7.0732, -6.9637, -6.7881, -7.4068, -7.3702, -6.5586, -7.1663, -7.2914, -7.3764, -7.1879, -7.347, -7.2399, -7.5225, -5.5543, -7.454, -7.734, -7.1224, -7.9397, -6.1742, -5.9985, -6.9031, -6.6924, -7.1672, -6.9227, -7.2577, -7.3405, -4.6477, -6.3648, -5.2906, -6.7232, -7.1783, -6.3866, -7.0973, -7.2361, -7.3661, -7.6775, -7.4938, -7.2891, -7.6858, -7.7067, -7.4477, -7.1915, -7.5631, -6.8236, -7.4996, -7.6434, -7.6103, -7.9951, -7.1171, -7.8504, -7.2563, -7.9383, -5.2181, -8.0147, -7.7524, -8.5126, -7.542, -7.6741, -7.7721, -7.7724, -5.1591, -6.1971, -5.8764, -6.2422, -6.2744, -6.6101, -6.492, -6.7127, -6.7593, -6.5948, -6.6197, -6.5767, -7.2862, -7.3037, -7.3449, -7.4723, -7.5149, -7.0404, -7.3223, -7.182, -7.2944, -7.4967, -7.8359, -6.0413, -7.5924, -7.5697, -7.4789, -7.9077, -8.0591, -7.577, -7.4712, -7.3647, -7.1456, -7.5832, -5.89, -5.9575, -5.9736, -6.0683, -6.3602, -6.7656, -6.4167, -6.6101, -7.0815, -7.2818, -7.4617, -7.5106, -7.5934, -7.4143, -7.4358, -7.3821, -7.6536, -7.7187, -7.6804, -7.8539, -8.0287, -7.814, -7.4116, -7.7715, -7.8665, -8.0051, -7.8589, -7.5549, -7.9578, -7.8121, -7.1414, -7.336, -7.4704, -7.8506, -5.9434, -6.1263, -6.5628, -6.4398, -6.3954, -5.9868, -6.1792, -7.0172, -7.1327, -6.8973, -7.0582, -7.261, -7.3653, -7.7163, -7.4602, -7.0794, -7.3072, -7.5759, -7.427, -7.7639, -8.0134, -7.894, -7.6537, -6.8745, -7.3398, -7.2614, -7.8666, -8.6934, -7.6899, -8.502, -8.4923, -4.8918, -5.9556, -6.6066, -6.8299, -6.849, -6.7124, -6.7641, -7.2542, -7.424, -7.2349, -7.1478, -7.3949, -7.1568, -7.5148, -7.4601, -7.5726, -7.6559, -7.8749, -6.9495, -7.1889, -7.6058, -7.9025, -8.2677, -8.7507, -8.8196, -9.6029, -9.5061, -9.762, -9.762, -9.7586, -9.6011, -9.4104, -9.4464, -9.3843, -5.893, -6.5948, -6.5409, -6.4173, -5.418, -6.3115, -6.6721, -6.9101, -6.4567, -7.1944, -7.4504, -7.0034, -7.7129, -7.4389, -7.6593, -7.337, -7.3802, -7.8581, -7.737, -7.7533, -7.5311, -8.1016, -7.9848, -7.8552, -8.8504, -8.3929, -9.2738, -9.3851, -9.5427, -8.7062, -9.0855, -5.9864, -5.8938, -6.1625, -6.1947, -6.2097, -6.6614, -6.8112, -7.1208, -7.4269, -7.2893, -7.2528, -7.4997, -6.9916, -7.2812, -7.0915, -7.3645, -7.5262, -7.7628, -7.7898, -8.2592, -7.92, -7.8278, -9.0179, -7.7802, -9.0726, -9.0756, -9.2948, -9.6523, -9.76, -9.76, -9.6069, -7.7274, -9.2086, -8.8923, -6.0476, -5.8379, -6.6923, -6.1781, -7.3295, -6.8741, -7.1766, -6.1705, -7.1045, -7.5914, -7.3127, -7.4453, -7.1967, -7.5839, -7.595, -6.2412, -7.3774, -7.8669, -7.4024, -7.5265, -8.0724, -7.1049, -8.7734, -8.6016, -7.8224, -8.8331, -8.3026, -8.9974, -9.5593, -8.892, -9.4857, -9.077, -5.8088, -6.0095, -6.361, -6.3453, -6.4402, -6.95, -6.8916, -6.6682, -7.2373, -7.32, -7.5711, -7.3207, -7.703, -7.4498, -7.8545, -7.207, -7.6557, -8.0174, -8.1236, -8.2132, -8.2673, -7.4874, -8.3181, -7.3778, -8.2928, -8.7171, -8.2151, -8.4544, -8.2543, -8.4172, -8.3194, -5.5094, -6.2618, -6.2309, -6.2454, -7.0455, -6.7678, -6.6137, -7.2224, -7.4784, -7.5752, -7.1044, -7.6668, -8.9002, -9.2281, -8.8952, -8.7833, -9.7537, -9.7537, -9.7537, -9.7537, -9.7537, -9.7537, -9.7537, -9.7537, -9.7537, -9.7537, -9.7537, -9.7537, -9.7537, -9.7537, -9.4972, -9.0617, -9.4147, -9.6343, -8.0554, -9.1184, -9.5521, -9.7292, -9.7434, -9.71, -9.7374, -9.749, -9.7442, -9.7521, -9.7458, -6.4008, -6.0207, -5.9104, -6.3744, -7.0608, -7.4975, -7.4336, -7.719, -7.4369, -7.6995, -7.5515, -7.226, -7.1557, -6.583, -9.1895, -9.1693, -9.57, -9.6321, -9.7521, -9.7503, -9.7521, -9.7521, -9.7521, -9.7521, -9.7521, -9.7521, -9.7521, -9.7521, -9.7521, -9.7521, -9.225, -9.676, -9.7188, -9.7482, -9.7488, -9.7509, -9.7304, -9.7511, -9.7512, -9.7512, -9.7514, -5.989, -5.9903, -6.8779, -6.9828, -7.2174, -7.2058, -7.3431, -6.9751, -7.5447, -7.9281, -7.8594, -7.6398, -7.7463, -7.7694, -7.696, -7.7254, -9.4817, -9.7503, -9.7503, -9.7503, -9.7503, -9.7503, -9.7503, -9.7503, -9.7503, -9.7503, -9.7503, -9.7503, -9.7503, -9.7503, -7.91, -9.4958, -9.6024, -9.5768, -9.7046, -9.5072, -9.7457, -9.728, -9.748, -9.7487, -9.7492, -9.7494, -9.7495, -6.582, -6.5047, -6.2212, -7.4141, -7.385, -7.0162, -7.4928, -7.5238, -7.4131, -7.6403, -7.528, -7.6559, -7.8566, -7.8713, -7.8611, -8.3838, -9.5014, -9.748, -9.748, -9.748, -9.748, -9.748, -9.748, -9.748, -9.748, -9.748, -9.748, -9.748, -9.748, -9.748, -9.5851, -9.6388, -9.695, -9.6569, -9.719, -9.7457, -9.73, -9.7464, -9.7469, -9.7472, -9.7476, -9.7477, -9.7478, -6.9115, -6.537, -6.8852, -7.0314, -6.6321, -7.3326, -7.0232, -7.3554, -7.4295, -7.2025, -8.2347, -7.7701, -9.5472, -9.5271, -9.6125, -9.7466, -9.7466, -9.7466, -9.7466, -9.7466, -9.7466, -9.7466, -9.7466, -9.7466, -9.7466, -9.7466, -9.7466, -9.7466, -9.7466, -9.7466, -9.6506, -9.3212, -9.556, -9.7434, -9.7429, -9.7434, -9.745, -9.7438, -9.7455, -9.7456, -9.7459, -9.7459, -9.7459, -9.746, -9.746, -6.4502, -7.0997, -7.0725, -7.1798, -7.48, -7.5911, -7.749, -7.7683, -7.1965, -6.7427, -7.2525, -7.6158, -8.6402, -7.9294, -9.2838, -9.5789, -9.4835, -9.7462, -9.7462, -9.7462, -9.7462, -9.7462, -9.7462, -9.7462, -9.7462, -9.7462, -9.7461, -9.7462, -9.7462, -9.7462, -9.526, -9.5915, -9.724, -9.7132, -9.7452, -9.727, -9.7301, -9.7428, -9.7379, -9.7456, -9.7459, -9.746, -9.746, -6.7387, -7.1157, -6.9278, -7.5169, -7.6579, -7.7359, -8.1745, -7.592, -8.518, -9.5232, -9.7422, -9.7422, -9.7422, -9.7422, -9.7422, -9.7422, -9.545, -9.7422, -9.7422, -9.7422, -9.7422, -9.7422, -9.7422, -9.7422, -9.7422, -9.7422, -9.7422, -9.7422, -9.7422, -9.7422, -9.3498, -9.5389, -9.6751, -9.7415, -9.7421, -9.7421, -9.7421, -9.7422, -9.7422, -9.7422, -9.7422, -9.7422, -9.7422, -9.7422, -9.7422, -9.7422, -9.7422, -9.7422, -9.7422, -7.1252, -7.5445, -7.3658, -7.9512, -7.6367, -8.997, -9.4839, -9.7398, -9.7398, -9.7398, -9.7398, -9.7398, -9.7398, -9.7398, -9.7398, -9.7398, -9.7398, -9.7398, -9.7398, -9.7398, -9.7398, -9.7398, -9.7398, -9.7398, -9.7398, -9.7398, -9.7398, -9.7398, -9.7398, -9.7398, -9.7376, -9.7396, -9.7398, -9.7398, -9.7398, -9.7398, -9.7398, -9.7398, -9.7398, -9.7398, -9.7398, -9.7398, -9.7398, -9.7398, -9.7398, -9.7398, -9.7398, -9.7398, -9.7398, -9.7398, -9.7398, -9.7398, -9.7398], \"loglift\": [30.0, 29.0, 28.0, 27.0, 26.0, 25.0, 24.0, 23.0, 22.0, 21.0, 20.0, 19.0, 18.0, 17.0, 16.0, 15.0, 14.0, 13.0, 12.0, 11.0, 10.0, 9.0, 8.0, 7.0, 6.0, 5.0, 4.0, 3.0, 2.0, 1.0, 0.1744, 0.174, 0.1737, 0.1735, 0.1735, 0.1732, 0.1728, 0.1725, 0.1724, 0.1722, 0.1721, 0.1717, 0.1717, 0.1715, 0.1715, 0.1712, 0.1711, 0.1711, 0.171, 0.1709, 0.1704, 0.1703, 0.1702, 0.1699, 0.1696, 0.1695, 0.1695, 0.1695, 0.1692, 0.1689, 0.1556, 0.1468, 3.1913, 3.1805, 3.1666, 3.1497, 3.1475, 3.146, 3.1335, 3.1305, 3.1221, 3.1175, 3.1174, 3.1166, 3.1163, 3.1149, 3.1146, 3.1127, 3.1114, 3.1025, 3.0997, 3.0988, 3.0962, 3.0959, 3.0949, 3.082, 3.0703, 3.0654, 3.0595, 3.0571, 3.0548, 3.0497, 2.9892, 3.0161, 2.9791, 2.7377, 2.6709, 2.4115, 2.0926, 2.0544, -0.7999, 4.4576, 4.3084, 4.0118, 4.0059, 3.9993, 3.9356, 3.9069, 3.8576, 3.8525, 3.8515, 3.809, 3.7438, 3.6835, 3.6809, 3.5885, 3.5573, 3.5445, 3.5353, 3.4082, 3.3934, 3.3849, 3.3668, 3.3609, 3.3506, 3.3335, 3.2642, 3.2442, 3.2365, 3.2168, 3.1593, 2.8863, 2.9624, 2.8854, 2.9638, 2.6134, 2.9568, 3.0425, 4.7532, 4.0053, 3.8809, 3.8362, 3.7882, 3.7272, 3.5299, 3.5286, 3.3901, 3.3876, 3.374, 3.352, 3.3414, 3.2679, 3.2345, 3.1768, 3.1337, 3.1279, 3.1245, 3.1141, 3.101, 3.0553, 3.0098, 3.0015, 2.9116, 2.7903, 2.7686, 2.7544, 2.7509, 2.5983, 2.5919, 2.3177, 2.2867, 1.8178, 4.7011, 4.3743, 4.3453, 4.1813, 4.1289, 4.0693, 4.0336, 3.9471, 3.9204, 3.8505, 3.8066, 3.717, 3.6637, 3.5603, 3.5481, 3.5366, 3.4726, 3.4538, 3.448, 3.4296, 3.4247, 3.3301, 3.2802, 3.2721, 3.1173, 3.0956, 3.0809, 3.0304, 3.008, 2.9931, 2.916, 2.8492, 2.722, 2.6243, 4.454, 4.4448, 4.3487, 4.3226, 4.1971, 4.0235, 3.8157, 3.7991, 3.4778, 3.4059, 3.3916, 3.3699, 3.3667, 3.3609, 3.347, 3.3201, 3.2954, 3.2017, 3.1662, 3.1562, 2.9611, 2.9494, 2.8708, 2.8616, 2.8292, 2.7363, 2.7292, 2.7026, 2.6461, 2.6116, 2.2308, 1.9681, 0.573, 0.788, 4.1936, 4.1428, 4.1365, 4.0465, 3.8409, 3.8155, 3.7929, 3.7437, 3.5766, 3.5572, 3.5307, 3.5068, 3.4593, 3.4101, 3.396, 3.325, 3.3126, 3.2139, 3.1232, 3.1155, 3.0449, 3.0174, 3.0, 2.9782, 2.9539, 2.5466, 2.4696, 2.3656, 2.3095, 2.1124, 1.8941, 4.8001, 4.1855, 3.9888, 3.8753, 3.8545, 3.7676, 3.7391, 3.59, 3.5731, 3.5181, 3.5137, 3.4612, 3.4471, 3.4198, 3.2958, 3.2688, 3.2512, 3.1568, 3.1234, 3.1109, 2.7642, 2.6899, 2.0399, 1.9911, 1.9002, 1.6325, 1.5697, 1.5438, 1.5399, 1.5367, 1.4365, 0.993, 0.3559, -0.3779, 4.3218, 3.9547, 3.9046, 3.8856, 3.8809, 3.7566, 3.7511, 3.702, 3.6772, 3.6042, 3.4851, 3.4086, 3.3893, 3.3496, 3.3118, 3.2861, 3.2858, 3.2438, 3.1858, 3.1371, 3.0962, 2.9615, 2.9084, 2.7126, 2.3645, 2.3219, 1.8527, 1.8469, 1.743, 1.7104, 1.4986, 4.4837, 4.3971, 4.3758, 4.2979, 4.1135, 4.096, 3.7082, 3.677, 3.6759, 3.6149, 3.5699, 3.5586, 3.5205, 3.4934, 3.3369, 3.2531, 3.156, 3.0501, 2.9804, 2.6351, 2.5864, 2.237, 2.0496, 1.9651, 1.9392, 1.8313, 1.8277, 1.5601, 1.5459, 1.5419, 1.5268, 1.2774, 0.6095, -0.4437, 4.3172, 4.2715, 4.1677, 4.027, 3.7002, 3.6539, 3.6376, 3.5892, 3.4954, 3.4366, 3.3535, 3.2908, 3.286, 3.2809, 3.2569, 3.2179, 3.2167, 3.1922, 3.1533, 2.7316, 2.691, 2.6593, 2.417, 2.4132, 2.3966, 2.3762, 2.1244, 2.0347, 1.6718, 1.5602, 1.5109, 0.2397, 4.5109, 4.3254, 4.1241, 4.103, 3.9243, 3.9169, 3.8501, 3.7667, 3.6385, 3.2818, 3.2625, 3.2595, 3.2437, 3.1849, 3.1777, 3.1608, 3.0978, 2.9746, 2.9533, 2.799, 2.7285, 2.6935, 2.6914, 2.6653, 2.5489, 2.3263, 2.2387, 2.2149, 2.127, 1.9153, 0.1721, 4.5183, 4.3152, 4.2163, 4.1054, 4.0046, 3.9616, 3.6625, 3.6096, 3.4686, 3.3484, 3.264, 3.2418, 2.132, 2.0778, 1.921, 1.5627, 1.5482, 1.5449, 1.5424, 1.5416, 1.5363, 1.5345, 1.5344, 1.5324, 1.5319, 1.5296, 1.5272, 1.5268, 1.5261, 1.5258, 1.5001, 1.3529, 1.4358, 1.4922, 0.9805, 0.2431, 0.9516, 1.4193, 1.4786, 1.08, 1.3602, 1.3345, 0.9138, 1.404, -0.0741, 4.2573, 4.1757, 4.1615, 4.0121, 3.4115, 3.4017, 3.1329, 3.1297, 3.0854, 2.9981, 2.9572, 2.9548, 2.8875, 2.8423, 2.0772, 1.8277, 1.6104, 1.5794, 1.5537, 1.5516, 1.5465, 1.544, 1.5432, 1.5379, 1.5361, 1.536, 1.534, 1.5335, 1.5312, 1.5288, 1.245, 1.0869, 1.2913, 1.3669, 1.3942, 1.4852, 0.3332, 0.909, 0.8149, 1.2485, 0.7373, 4.4628, 4.4492, 3.713, 3.684, 3.5943, 3.5847, 3.5336, 3.4109, 3.3522, 3.1204, 3.0211, 2.9097, 2.5463, 2.1314, 2.1063, 2.0615, 1.6755, 1.5555, 1.5516, 1.5483, 1.5458, 1.545, 1.5397, 1.5379, 1.5378, 1.5358, 1.5353, 1.5331, 1.5306, 1.5302, 1.2687, 1.3459, 1.3929, 0.9025, 1.2768, -0.5303, 1.4554, 1.0159, 1.422, 0.571, 0.9169, 0.5739, 1.1744, 4.0871, 3.9939, 3.9674, 3.5332, 3.4339, 3.4169, 3.2992, 3.1557, 2.8716, 2.766, 2.6059, 2.5239, 2.4004, 2.0531, 1.7949, 1.7553, 1.7357, 1.5579, 1.5539, 1.5507, 1.5482, 1.5473, 1.5421, 1.5403, 1.5402, 1.5381, 1.5376, 1.5354, 1.533, 1.5326, 1.3588, 1.2534, 1.3053, 1.111, 1.3284, 1.5127, 1.1569, 1.4963, 1.228, 1.3599, 0.9542, 1.2169, 1.1504, 3.9437, 3.9256, 3.9031, 3.7573, 3.6897, 3.6516, 3.5741, 3.454, 3.3677, 3.1837, 2.9156, 2.882, 1.666, 1.6633, 1.6093, 1.5593, 1.5554, 1.5521, 1.5496, 1.5488, 1.5435, 1.5417, 1.5416, 1.5395, 1.5391, 1.5368, 1.5344, 1.534, 1.5333, 1.533, 1.5285, 1.3901, 1.2042, 1.4896, 1.4727, 1.4464, 1.4231, 1.2501, 0.8315, 1.4078, -0.0539, 1.4629, 0.6935, 1.219, 1.4697, 4.1385, 3.5148, 3.51, 3.334, 3.3139, 3.3021, 3.1886, 3.1635, 2.8548, 2.7477, 2.6493, 2.4467, 2.4127, 2.4068, 1.7432, 1.679, 1.662, 1.5597, 1.5557, 1.5525, 1.55, 1.5491, 1.5439, 1.5421, 1.542, 1.5399, 1.5395, 1.5372, 1.5348, 1.5344, 1.5236, 1.4139, 1.19, 0.997, 1.5174, 0.3078, 0.1473, 1.346, 0.337, 1.4546, 1.1816, 1.3691, 1.5055, 3.9651, 3.792, 3.5998, 3.5602, 3.3604, 2.8913, 2.8675, 2.6504, 2.64, 1.7013, 1.5636, 1.5597, 1.5564, 1.5539, 1.5531, 1.5478, 1.5476, 1.546, 1.5459, 1.5439, 1.5434, 1.5411, 1.5387, 1.5383, 1.5376, 1.5374, 1.5372, 1.5309, 1.5291, 1.5269, 1.526, 1.5028, 0.2298, 1.0463, 1.464, 1.2419, 1.2895, 1.2392, 1.4337, 1.1844, 1.4261, 1.4905, 1.0208, 1.1564, 1.4648, 1.0862, 0.9193, 1.4136, 1.028, 3.4502, 3.3529, 3.1319, 2.2744, 2.0939, 1.9323, 1.7428, 1.566, 1.5621, 1.5588, 1.5563, 1.5555, 1.5502, 1.5484, 1.5483, 1.5463, 1.5458, 1.5435, 1.5411, 1.5407, 1.54, 1.5397, 1.5396, 1.5333, 1.5315, 1.5292, 1.529, 1.5269, 1.5268, 1.5242, 1.0515, 0.7972, 0.0783, 1.1019, 1.3816, 1.1873, 1.0159, 1.1107, 1.3911, 1.2444, 1.3732, 1.3612, 1.3496, 1.3852, 1.3305, 1.325, 1.3007, 1.2715, 1.2805, 1.2615, 1.171, 1.2414, 1.2184]}, \"token.table\": {\"Topic\": [1, 1, 1, 1, 1, 2, 1, 1, 2, 2, 2, 1, 2, 1, 2, 1, 1, 2, 1, 1, 1, 1, 1, 1, 1, 2, 1, 2, 2, 2, 1, 4, 1, 1, 1, 1, 1, 1, 2, 2, 1, 1, 9, 2, 1, 2, 2, 2, 5, 1, 1, 1, 2, 1, 1, 1, 2, 1, 1, 1, 1, 2, 2, 1, 1, 1, 2, 2, 1, 1, 1, 1, 2, 1, 2, 2, 2, 1, 1, 2, 2, 1, 4, 4, 2, 1, 2, 1, 1, 1, 1, 2, 1, 1, 1, 2, 2, 1, 2, 1, 1, 1, 1, 1, 1, 2, 1, 1, 2, 1, 1, 2, 1, 1, 2, 2, 2, 1, 1, 2, 1, 2, 1, 1, 1, 2, 1, 1, 8, 2, 1, 1, 1, 2, 1, 2, 1, 2, 1, 3, 1, 1, 1, 1, 1, 1, 1, 2, 1, 2, 2, 1, 1], \"Freq\": [0.9926812227816638, 0.6383325043391848, 0.9965983327507614, 0.9901561882043792, 1.0566782133674613, 0.9881699583839135, 0.9795732388361041, 1.0945301803348555, 0.703701104943971, 0.9429783886717602, 0.7666157862359433, 0.9834869106990485, 0.019868422438364616, 0.07287426637195155, 0.9473654628353702, 1.0955972949040647, 0.6860268161931392, 0.2744107264772557, 0.802302094963695, 0.7261264227040697, 1.286643372310129, 0.9939800761122026, 1.2896800465039782, 0.9218913207007153, 0.985092022373367, 1.0069154934752234, 0.6956782451098206, 0.2318927483699402, 1.2515857460247102, 1.0077454360471028, 0.527865902556511, 0.527865902556511, 0.998480145173677, 1.2880671001223016, 1.3026865237581406, 1.0247568947702623, 0.9963362813816439, 0.8936252689437663, 0.7926143355347383, 0.8755387063974283, 0.9871271373464702, 0.5995610755914093, 0.5995610755914093, 0.8097486480074373, 0.9885736896714106, 0.8444530277836606, 0.9284147535517195, 0.9694317969913531, 1.0509728577075124, 1.3891759825426409, 0.9959602868572901, 0.8903963942049244, 0.14839939903415408, 1.0587885362915188, 1.0024429297096136, 0.9753899275510965, 0.8360908864457858, 0.7600444898714628, 0.7924562012693283, 0.9975663549605206, 0.6803791329512012, 1.0251665958497094, 0.9876247208997195, 0.9903892243164102, 1.0043200312202059, 1.2723883380070533, 0.9827444027605065, 1.1988791445147635, 1.0696628524927507, 1.1514905011432033, 0.9876021973833176, 0.5419650436535975, 0.5419650436535975, 0.3296326520562448, 0.6592653041124896, 0.9548560303487409, 0.7549337458081689, 0.8703892781360536, 0.9760504124520241, 1.0091899078329245, 1.0189761468948106, 0.8070904352836791, 0.1614180870567358, 0.6639434013817883, 0.9577878278913508, 1.0000210052096035, 0.8940175809549369, 0.9910025113487803, 0.9961676459701453, 0.8568833608384469, 0.6195897979891681, 0.30979489899458407, 0.9767912620176696, 0.9988571499955766, 1.09910516790013, 0.8120895788609634, 0.7838624768951372, 0.9307160343644916, 0.18614320687289831, 1.0008947818745666, 0.975823650357208, 0.9232487703390063, 0.9896491717339638, 0.9762305287549622, 0.6561817327719363, 0.21872724425731208, 0.9996823649254364, 1.0431893440781648, 0.9719974564126113, 1.2079610786621109, 0.9658720747369575, 0.028408002198145807, 0.9929181054403332, 0.9505776689454, 1.030025924557826, 0.7303276515440154, 1.0056969400583826, 1.0082565191470658, 0.3860097705295387, 0.5790146557943081, 0.9369154852209619, 0.7973495805274813, 0.8950208471415065, 0.8689678472296155, 0.933551627895505, 0.058346976743469066, 1.0003948174198865, 0.9949229268688687, 0.8882831829495315, 1.1510326969929352, 1.0692469743810875, 0.9893948844600575, 1.1206767570094422, 0.8310069065543407, 0.9997669456640251, 1.0939263127677323, 0.2287569554657418, 0.9150278218629672, 0.7949576971383114, 0.3974788485691557, 0.6451847880162326, 0.6103222567138424, 0.6206559886679567, 0.5316811518061436, 1.0017289440286645, 0.6083370051119399, 0.7077832414354286, 0.3538916207177143, 1.009548862729858, 0.9089481879588712, 0.7830511777552454, 1.025068863026309, 0.602675792838517], \"Term\": [\"action\", \"adoption\", \"adventure\", \"agent\", \"aids\", \"airplane\", \"alien\", \"ambulance\", \"amnesia\", \"android\", \"angst\", \"animation\", \"animation\", \"anime\", \"anime\", \"architect\", \"arts\", \"arts\", \"austria\", \"autism\", \"autistic\", \"biography\", \"biology\", \"bisexuality\", \"book\", \"bounty\", \"bullying\", \"bullying\", \"butterfly\", \"choi\", \"cinematic\", \"cinematic\", \"comedy\", \"compound\", \"conductor\", \"cooking\", \"crime\", \"culinary\", \"cyberpunk\", \"deed\", \"detective\", \"dinosaur\", \"dinosaur\", \"disorders\", \"documentary\", \"dragon\", \"dramedy\", \"drastic\", \"ecchi\", \"elevator\", \"england\", \"english\", \"english\", \"erotic\", \"fantasy\", \"friendship\", \"funimation\", \"futuristic\", \"gaming\", \"godfather\", \"grim\", \"gunfight\", \"harem\", \"history\", \"horror\", \"illustrator\", \"immortality\", \"imperial\", \"infidelity\", \"invention\", \"investigation\", \"japan\", \"japan\", \"japanese\", \"japanese\", \"jetix\", \"jung\", \"kenan\", \"man\", \"manga\", \"martial\", \"marvel\", \"marvel\", \"mcu\", \"mecha\", \"miniseries\", \"mockumentary\", \"murder\", \"mystery\", \"nashville\", \"ninja\", \"ninja\", \"norse\", \"novel\", \"orphanage\", \"outlaw\", \"overweight\", \"parallel\", \"parallel\", \"police\", \"power\", \"ramsay\", \"reality\", \"relationship\", \"rivalry\", \"rivalry\", \"romance\", \"rugrats\", \"samurai\", \"savannah\", \"school\", \"school\", \"sci\", \"scooby\", \"seinen\", \"shonen\", \"shounen\", \"sitcom\", \"slice\", \"slice\", \"solar\", \"soo\", \"sorcery\", \"steampunk\", \"super\", \"super\", \"superhero\", \"supernatural\", \"surrealism\", \"swordplay\", \"symphony\", \"team\", \"tennessee\", \"terrorism\", \"thriller\", \"tournament\", \"tragedy\", \"tragedy\", \"trek\", \"trek\", \"turtle\", \"twilight\", \"ufo\", \"versus\", \"video\", \"viking\", \"volume\", \"volume\", \"war\", \"webcomic\", \"webtoon\", \"werewolf\", \"wildlife\"]}, \"R\": 30, \"lambda.step\": 0.01, \"plot.opts\": {\"xlab\": \"PC1\", \"ylab\": \"PC2\"}, \"topic.order\": [11, 17, 18, 12, 6, 19, 15, 7, 13, 10, 20, 3, 4, 14, 2, 16, 8, 1, 9, 5]};\n",
       "\n",
       "function LDAvis_load_lib(url, callback){\n",
       "  var s = document.createElement('script');\n",
       "  s.src = url;\n",
       "  s.async = true;\n",
       "  s.onreadystatechange = s.onload = callback;\n",
       "  s.onerror = function(){console.warn(\"failed to load library \" + url);};\n",
       "  document.getElementsByTagName(\"head\")[0].appendChild(s);\n",
       "}\n",
       "\n",
       "if(typeof(LDAvis) !== \"undefined\"){\n",
       "   // already loaded: just create the visualization\n",
       "   !function(LDAvis){\n",
       "       new LDAvis(\"#\" + \"ldavis_el4174424656975388968956498992\", ldavis_el4174424656975388968956498992_data);\n",
       "   }(LDAvis);\n",
       "}else if(typeof define === \"function\" && define.amd){\n",
       "   // require.js is available: use it to load d3/LDAvis\n",
       "   require.config({paths: {d3: \"https://d3js.org/d3.v5\"}});\n",
       "   require([\"d3\"], function(d3){\n",
       "      window.d3 = d3;\n",
       "      LDAvis_load_lib(\"https://cdn.jsdelivr.net/gh/bmabey/pyLDAvis@3.4.0/pyLDAvis/js/ldavis.v3.0.0.js\", function(){\n",
       "        new LDAvis(\"#\" + \"ldavis_el4174424656975388968956498992\", ldavis_el4174424656975388968956498992_data);\n",
       "      });\n",
       "    });\n",
       "}else{\n",
       "    // require.js not available: dynamically load d3 & LDAvis\n",
       "    LDAvis_load_lib(\"https://d3js.org/d3.v5.js\", function(){\n",
       "         LDAvis_load_lib(\"https://cdn.jsdelivr.net/gh/bmabey/pyLDAvis@3.4.0/pyLDAvis/js/ldavis.v3.0.0.js\", function(){\n",
       "                 new LDAvis(\"#\" + \"ldavis_el4174424656975388968956498992\", ldavis_el4174424656975388968956498992_data);\n",
       "            })\n",
       "         });\n",
       "}\n",
       "</script>"
      ],
      "text/plain": [
       "PreparedData(topic_coordinates=              x         y  topics  cluster       Freq\n",
       "topic                                                \n",
       "10    -0.181478  0.045166       1        1  83.916790\n",
       "16     0.128482  0.067107       2        1   4.068150\n",
       "17     0.005478 -0.016036       3        1   0.757978\n",
       "11     0.004392 -0.014082       4        1   0.743871\n",
       "5      0.004330 -0.015391       5        1   0.732167\n",
       "18     0.003565 -0.008487       6        1   0.691894\n",
       "14     0.003808 -0.007933       7        1   0.689986\n",
       "6      0.003447 -0.008122       8        1   0.687213\n",
       "12     0.003010 -0.008800       9        1   0.679177\n",
       "9      0.002904 -0.007719      10        1   0.677973\n",
       "19     0.003895 -0.004825      11        1   0.675931\n",
       "2      0.003023 -0.006650      12        1   0.672720\n",
       "3      0.002340 -0.005180      13        1   0.653079\n",
       "13     0.002512 -0.003271      14        1   0.644393\n",
       "1      0.002373 -0.002385      15        1   0.638218\n",
       "15     0.001697 -0.002502      16        1   0.625210\n",
       "7      0.001891 -0.001467      17        1   0.623430\n",
       "0      0.001721 -0.001115      18        1   0.617242\n",
       "8      0.001412  0.000215      19        1   0.607463\n",
       "4      0.001198  0.001478      20        1   0.597117, topic_info=               Term        Freq       Total Category  logprob  loglift\n",
       "641           anime   27.000000   27.000000  Default  30.0000  30.0000\n",
       "9254          manga   15.000000   15.000000  Default  29.0000  29.0000\n",
       "635       animation  100.000000  100.000000  Default  28.0000  28.0000\n",
       "9384         marvel    6.000000    6.000000  Default  27.0000  27.0000\n",
       "13836       shounen    7.000000    7.000000  Default  26.0000  26.0000\n",
       "...             ...         ...         ...      ...      ...      ...\n",
       "9420   masturbation    0.006408    0.298223  Topic20  -9.7398   1.2805\n",
       "10570     obscenity    0.006408    0.303933  Topic20  -9.7398   1.2615\n",
       "648           ankle    0.006408    0.332749  Topic20  -9.7398   1.1710\n",
       "12398      redirect    0.006408    0.310129  Topic20  -9.7398   1.2414\n",
       "2310     casablanca    0.006408    0.317314  Topic20  -9.7398   1.2184\n",
       "\n",
       "[795 rows x 6 columns], token_table=       Topic      Freq       Term\n",
       "term                             \n",
       "141        1  0.992681     action\n",
       "222        1  0.638333   adoption\n",
       "248        1  0.996598  adventure\n",
       "315        1  0.990156      agent\n",
       "348        1  1.056678       aids\n",
       "...      ...       ...        ...\n",
       "16405      1  1.009549        war\n",
       "16491      2  0.908948   webcomic\n",
       "16498      2  0.783051    webtoon\n",
       "16545      1  1.025069   werewolf\n",
       "16626      1  0.602676   wildlife\n",
       "\n",
       "[153 rows x 3 columns], R=30, lambda_step=0.01, plot_opts={'xlab': 'PC1', 'ylab': 'PC2'}, topic_order=[11, 17, 18, 12, 6, 19, 15, 7, 13, 10, 20, 3, 4, 14, 2, 16, 8, 1, 9, 5])"
      ]
     },
     "execution_count": 36,
     "metadata": {},
     "output_type": "execute_result"
    }
   ],
   "source": [
    "# Topic Modelling Visualization for the show description texts\n",
    "pyLDAvis.sklearn.prepare(best_lda_model2, dtm_tfidf, tfidf_vectorizer)"
   ]
  },
  {
   "cell_type": "code",
   "execution_count": 37,
   "metadata": {},
   "outputs": [],
   "source": [
    "lda_results2 = best_lda_model2.fit_transform(dtm_tfidf) "
   ]
  },
  {
   "cell_type": "code",
   "execution_count": 38,
   "metadata": {},
   "outputs": [
    {
     "name": "stderr",
     "output_type": "stream",
     "text": [
      "100%|██████████| 2484/2484 [00:02<00:00, 1066.21it/s]\n"
     ]
    }
   ],
   "source": [
    "make_lda_topic_pct_cols(lda_results2, df, \"forced_alt_\")"
   ]
  },
  {
   "attachments": {},
   "cell_type": "markdown",
   "metadata": {},
   "source": [
    "## Save final results dataframe"
   ]
  },
  {
   "attachments": {},
   "cell_type": "markdown",
   "metadata": {},
   "source": [
    "> Saves only the results columns.  All other columns can be obtained from prior dataframes"
   ]
  },
  {
   "cell_type": "code",
   "execution_count": 39,
   "metadata": {},
   "outputs": [
    {
     "data": {
      "text/plain": [
       "Index(['name', 'href', 'tokenized_text', 'lda_topic0_match_pct',\n",
       "       'lda_topic1_match_pct', 'lda_topic2_match_pct', 'lda_topic3_match_pct',\n",
       "       'lda_topic4_match_pct', 'lsa_topic0_cos_match', 'lsa_topic1_cos_match',\n",
       "       'lsa_topic2_cos_match', 'lsa_topic3_cos_match', 'lsa_topic4_cos_match',\n",
       "       'lsa_topic5_cos_match', 'lsa_topic6_cos_match', 'lsa_topic7_cos_match',\n",
       "       'lsa_topic8_cos_match', 'lsa_topic9_cos_match',\n",
       "       'forced_alt_lda_topic0_match_pct', 'forced_alt_lda_topic1_match_pct',\n",
       "       'forced_alt_lda_topic2_match_pct', 'forced_alt_lda_topic3_match_pct',\n",
       "       'forced_alt_lda_topic4_match_pct', 'forced_alt_lda_topic5_match_pct',\n",
       "       'forced_alt_lda_topic6_match_pct', 'forced_alt_lda_topic7_match_pct',\n",
       "       'forced_alt_lda_topic8_match_pct', 'forced_alt_lda_topic9_match_pct',\n",
       "       'forced_alt_lda_topic10_match_pct', 'forced_alt_lda_topic11_match_pct',\n",
       "       'forced_alt_lda_topic12_match_pct', 'forced_alt_lda_topic13_match_pct',\n",
       "       'forced_alt_lda_topic14_match_pct', 'forced_alt_lda_topic15_match_pct',\n",
       "       'forced_alt_lda_topic16_match_pct', 'forced_alt_lda_topic17_match_pct',\n",
       "       'forced_alt_lda_topic18_match_pct', 'forced_alt_lda_topic19_match_pct'],\n",
       "      dtype='object')"
      ]
     },
     "execution_count": 39,
     "metadata": {},
     "output_type": "execute_result"
    }
   ],
   "source": [
    "df.columns"
   ]
  },
  {
   "cell_type": "code",
   "execution_count": 40,
   "metadata": {},
   "outputs": [],
   "source": [
    "# (default) if reading from a tokenized-only df\n",
    "columns_to_drop = ['tokenized_text']\n",
    "\n",
    "# for cases run using other (non-standard) df's as input\n",
    "#columns_to_drop = ['combined_text', 'lemmatized_text', 'tokenized_text']"
   ]
  },
  {
   "cell_type": "code",
   "execution_count": 41,
   "metadata": {},
   "outputs": [],
   "source": [
    "df.drop(columns=columns_to_drop, inplace=True)"
   ]
  },
  {
   "cell_type": "code",
   "execution_count": 42,
   "metadata": {},
   "outputs": [],
   "source": [
    "df.to_csv(f\"{output_directory}{final_model_name}.csv\", index=False)\n",
    "# df.to_json(f\"{output_directory}{final_model_name}.json\")"
   ]
  },
  {
   "attachments": {},
   "cell_type": "markdown",
   "metadata": {},
   "source": [
    "#### Save topic words matrices"
   ]
  },
  {
   "cell_type": "code",
   "execution_count": 43,
   "metadata": {},
   "outputs": [],
   "source": [
    "lda_topic_words.to_csv(f\"{output_directory}{final_model_name}_topicwords.csv\", index=False)"
   ]
  },
  {
   "cell_type": "code",
   "execution_count": 44,
   "metadata": {},
   "outputs": [],
   "source": [
    "lda_topic_words2.to_csv(f\"{output_directory}{final_model_name}_topicwords_forced_alt.csv\", index=False)"
   ]
  }
 ],
 "metadata": {
  "kernelspec": {
   "display_name": "base",
   "language": "python",
   "name": "python3"
  },
  "language_info": {
   "codemirror_mode": {
    "name": "ipython",
    "version": 3
   },
   "file_extension": ".py",
   "mimetype": "text/x-python",
   "name": "python",
   "nbconvert_exporter": "python",
   "pygments_lexer": "ipython3",
   "version": "3.9.16"
  },
  "orig_nbformat": 4
 },
 "nbformat": 4,
 "nbformat_minor": 2
}
