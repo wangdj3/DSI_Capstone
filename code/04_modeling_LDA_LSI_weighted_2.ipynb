{
 "cells": [
  {
   "attachments": {},
   "cell_type": "markdown",
   "metadata": {},
   "source": [
    "# LDA (Latent Dirichlet Allocation) & LSI (Latent Semantic Indexing)"
   ]
  },
  {
   "cell_type": "markdown",
   "metadata": {},
   "source": [
    "#### Set parameters for how final model results will be saved"
   ]
  },
  {
   "cell_type": "code",
   "execution_count": 1,
   "metadata": {},
   "outputs": [],
   "source": [
    "tokenized_run_name = \"weighted_1_tokens\"  #manually input the filename (no extension) to be used as input"
   ]
  },
  {
   "cell_type": "code",
   "execution_count": 2,
   "metadata": {},
   "outputs": [],
   "source": [
    "data_directory = \"../data/\"\n",
    "output_directory = \"../outputs/\""
   ]
  },
  {
   "cell_type": "code",
   "execution_count": 3,
   "metadata": {},
   "outputs": [],
   "source": [
    "base_model_type = \"lda_lsi\"\n",
    "model_name_suffix = \"\"  #default should be blank; use to make note of any other mods\n",
    "run_number = 2"
   ]
  },
  {
   "cell_type": "code",
   "execution_count": 4,
   "metadata": {},
   "outputs": [],
   "source": [
    "final_model_name = f\"{base_model_type}_{tokenized_run_name[:-7]}_run{run_number}{model_name_suffix}\""
   ]
  },
  {
   "cell_type": "markdown",
   "metadata": {},
   "source": [
    "#### Imports"
   ]
  },
  {
   "cell_type": "code",
   "execution_count": 5,
   "metadata": {},
   "outputs": [],
   "source": [
    "# general use\n",
    "import numpy as np\n",
    "import pandas as pd\n",
    "import matplotlib.pyplot as plt\n",
    "\n",
    "from sklearn.feature_extraction.text import CountVectorizer, TfidfVectorizer\n",
    "\n",
    "# # for LDA modeling & presentation\n",
    "from sklearn.model_selection import GridSearchCV\n",
    "from sklearn.decomposition import LatentDirichletAllocation\n",
    "import pyLDAvis\n",
    "import pyLDAvis.sklearn\n",
    "pyLDAvis.enable_notebook()\n",
    "\n",
    "# # for LSA modeling\n",
    "from sklearn.decomposition import TruncatedSVD\n",
    "\n",
    "# for progress bar on loops\n",
    "from tqdm import tqdm"
   ]
  },
  {
   "attachments": {},
   "cell_type": "markdown",
   "metadata": {},
   "source": [
    "#### Read in Dataframe with tokenized text"
   ]
  },
  {
   "cell_type": "code",
   "execution_count": 6,
   "metadata": {},
   "outputs": [
    {
     "data": {
      "text/html": [
       "<div>\n",
       "<style scoped>\n",
       "    .dataframe tbody tr th:only-of-type {\n",
       "        vertical-align: middle;\n",
       "    }\n",
       "\n",
       "    .dataframe tbody tr th {\n",
       "        vertical-align: top;\n",
       "    }\n",
       "\n",
       "    .dataframe thead th {\n",
       "        text-align: right;\n",
       "    }\n",
       "</style>\n",
       "<table border=\"1\" class=\"dataframe\">\n",
       "  <thead>\n",
       "    <tr style=\"text-align: right;\">\n",
       "      <th></th>\n",
       "      <th>name</th>\n",
       "      <th>href</th>\n",
       "      <th>tokenized_text</th>\n",
       "    </tr>\n",
       "  </thead>\n",
       "  <tbody>\n",
       "    <tr>\n",
       "      <th>0</th>\n",
       "      <td>Game of Thrones</td>\n",
       "      <td>/title/tt0944947/</td>\n",
       "      <td>nine noble family fight control land westeros ...</td>\n",
       "    </tr>\n",
       "    <tr>\n",
       "      <th>1</th>\n",
       "      <td>Prison Break</td>\n",
       "      <td>/title/tt0455275/</td>\n",
       "      <td>due political conspiracy innocent man send dea...</td>\n",
       "    </tr>\n",
       "    <tr>\n",
       "      <th>2</th>\n",
       "      <td>Vikings</td>\n",
       "      <td>/title/tt2306299/</td>\n",
       "      <td>vikings transport us brutal mysterious world r...</td>\n",
       "    </tr>\n",
       "    <tr>\n",
       "      <th>3</th>\n",
       "      <td>The Boys</td>\n",
       "      <td>/title/tt1190634/</td>\n",
       "      <td>group vigilante set take corrupt superheroes a...</td>\n",
       "    </tr>\n",
       "    <tr>\n",
       "      <th>4</th>\n",
       "      <td>The Mandalorian</td>\n",
       "      <td>/title/tt8111088/</td>\n",
       "      <td>travel lone bounty hunter outer reach galaxy f...</td>\n",
       "    </tr>\n",
       "  </tbody>\n",
       "</table>\n",
       "</div>"
      ],
      "text/plain": [
       "              name               href  \\\n",
       "0  Game of Thrones  /title/tt0944947/   \n",
       "1     Prison Break  /title/tt0455275/   \n",
       "2          Vikings  /title/tt2306299/   \n",
       "3         The Boys  /title/tt1190634/   \n",
       "4  The Mandalorian  /title/tt8111088/   \n",
       "\n",
       "                                      tokenized_text  \n",
       "0  nine noble family fight control land westeros ...  \n",
       "1  due political conspiracy innocent man send dea...  \n",
       "2  vikings transport us brutal mysterious world r...  \n",
       "3  group vigilante set take corrupt superheroes a...  \n",
       "4  travel lone bounty hunter outer reach galaxy f...  "
      ]
     },
     "execution_count": 6,
     "metadata": {},
     "output_type": "execute_result"
    }
   ],
   "source": [
    "df = pd.read_csv(f\"{data_directory}{tokenized_run_name}.csv\")\n",
    "df.head()"
   ]
  },
  {
   "cell_type": "code",
   "execution_count": 7,
   "metadata": {},
   "outputs": [
    {
     "data": {
      "text/plain": [
       "name              0\n",
       "href              0\n",
       "tokenized_text    0\n",
       "dtype: int64"
      ]
     },
     "execution_count": 7,
     "metadata": {},
     "output_type": "execute_result"
    }
   ],
   "source": [
    "df.isna().sum()"
   ]
  },
  {
   "cell_type": "code",
   "execution_count": 8,
   "metadata": {},
   "outputs": [],
   "source": [
    "df.fillna(\"\",inplace=True)"
   ]
  },
  {
   "attachments": {},
   "cell_type": "markdown",
   "metadata": {},
   "source": [
    "#### Count Vectorization & TfIDF"
   ]
  },
  {
   "cell_type": "code",
   "execution_count": 9,
   "metadata": {},
   "outputs": [],
   "source": [
    "# Function draws heavily from Jiamei Wang's code: \n",
    "# Technique reference: (Jiamei Wang) https://medium.com/swlh/sentiment-analysis-topic-modeling-for-hotel-reviews-6b83653f5b08\n",
    "# (Separated into sub-functions to allow for faster parameter tuning)\n",
    "\n",
    "def make_tfidf(input_df, text_colname='tokenized_text'):\n",
    "    '''\n",
    "    INPUTS:\n",
    "        input_df - dataframe that contains the combined text summaries\n",
    "        text_colname: name of column that contains the combined text summaries\n",
    "        \n",
    "    OUTPUTS:\n",
    "        dtm_tfidf - document-term matrix in the tfidf format\n",
    "        tfidf_vectorizer - word frequency in the reviews\n",
    "    '''\n",
    "    docs_raw = input_df[text_colname].tolist()\n",
    "\n",
    "    #************   Step 1: Convert to document-term matrix   ************#\n",
    "\n",
    "    #Transform text to vector form using the vectorizer object \n",
    "    cvec = CountVectorizer(strip_accents = 'unicode',\n",
    "                            stop_words = 'english',\n",
    "                            lowercase = True,\n",
    "                            token_pattern = r'\\b[a-zA-Z]{3,}\\b', # num chars > 3 to avoid some meaningless words\n",
    "                            max_df = 0.5,                        # discard words that appear in > 50% of the reviews\n",
    "                            min_df = 10)                         # discard words that appear in < 10 reviews    \n",
    "\n",
    "    #apply transformation\n",
    "    tfidf_vectorizer = TfidfVectorizer(**cvec.get_params())\n",
    "\n",
    "    #convert to document-term matrix\n",
    "    dtm_tfidf = tfidf_vectorizer.fit_transform(docs_raw)  \n",
    "\n",
    "    print(\"The shape of the tfidf is {}, meaning that there are {} non-unique words in {} and {} tokens made through the filtering process.\".\\\n",
    "              format(dtm_tfidf.shape,dtm_tfidf.shape[0], text_colname, dtm_tfidf.shape[1]))\n",
    "    \n",
    "    # return tf_vectorizer, tfidf_vectorizer, dtm_tfidf\n",
    "    return tfidf_vectorizer, dtm_tfidf"
   ]
  },
  {
   "cell_type": "code",
   "execution_count": 10,
   "metadata": {},
   "outputs": [
    {
     "name": "stderr",
     "output_type": "stream",
     "text": [
      "d:\\anaconda3\\lib\\site-packages\\sklearn\\feature_extraction\\text.py:2070: UserWarning: Only (<class 'numpy.float64'>, <class 'numpy.float32'>, <class 'numpy.float16'>) 'dtype' should be used. <class 'numpy.int64'> 'dtype' will be converted to np.float64.\n",
      "  warnings.warn(\n"
     ]
    },
    {
     "name": "stdout",
     "output_type": "stream",
     "text": [
      "The shape of the tfidf is (2484, 16937), meaning that there are 2484 non-unique words in tokenized_text and 16937 tokens made through the filtering process.\n"
     ]
    }
   ],
   "source": [
    "tfidf_vectorizer, dtm_tfidf = make_tfidf(df, 'tokenized_text')"
   ]
  },
  {
   "attachments": {},
   "cell_type": "markdown",
   "metadata": {},
   "source": [
    "#### Grid Search for best LDA model"
   ]
  },
  {
   "cell_type": "code",
   "execution_count": 11,
   "metadata": {},
   "outputs": [],
   "source": [
    "# Define Grid Search Parameters\n",
    "search_params = {'n_components': [5, 10, 20, 30],       # testing suggests it always picks 5 topics as \"best\"\n",
    "                    'learning_decay': [.5, .7, .9]}     # does not always return same \"best\" learning decay"
   ]
  },
  {
   "cell_type": "code",
   "execution_count": 12,
   "metadata": {},
   "outputs": [],
   "source": [
    "# Function draws from Jiamei Wang's code, with modifications & optimizations: \n",
    "# Technique reference: (Jiamei Wang) https://medium.com/swlh/sentiment-analysis-topic-modeling-for-hotel-reviews-6b83653f5b08\n",
    "# (Separated into sub-functions to allow for faster parameter tuning)\n",
    "\n",
    "def lda_gridsearch(dtm_tfidf, search_params):\n",
    "    '''\n",
    "    INPUTS:\n",
    "        dtm_tfidf - document-term matrix in the tfidf format\n",
    "        search_params - a dictionary of parameters to be used in the grid search\n",
    "        \n",
    "    OUTPUTS:\n",
    "        model_gs - the GridSearchCV object\n",
    "        best_lda_model - the best model, as determined by the grid search\n",
    "    '''\n",
    "\n",
    "    #*******   Step 2: GridSearch & parameter tuning to find the optimal LDA model   *******#\n",
    "\n",
    "    # Init the Model\n",
    "    lda = LatentDirichletAllocation()\n",
    "\n",
    "    # Init Grid Search Class\n",
    "    model_gs = GridSearchCV(lda, param_grid=search_params, n_jobs=8, verbose=3)\n",
    "\n",
    "    # Do the Grid Search\n",
    "    model_gs.fit(dtm_tfidf)\n",
    "\n",
    "    #*****  Step 3: Output the optimal lda model and its parameters  *****#\n",
    "\n",
    "    # Best Model\n",
    "    best_lda_model = model_gs.best_estimator_\n",
    "\n",
    "    # Model Parameters\n",
    "    print(\"Best Model's Params: \", model_gs.best_params_)\n",
    "\n",
    "    # Log Likelihood Score: Higher the better\n",
    "    print(\"Model Log Likelihood Score: \", model_gs.best_score_)\n",
    "\n",
    "    # Perplexity: Lower the better. Perplexity = exp(-1. * log-likelihood per word)\n",
    "    print(\"Model Perplexity: \", best_lda_model.perplexity(dtm_tfidf))\n",
    "\n",
    "    return model_gs, best_lda_model"
   ]
  },
  {
   "cell_type": "code",
   "execution_count": 13,
   "metadata": {},
   "outputs": [
    {
     "name": "stdout",
     "output_type": "stream",
     "text": [
      "Fitting 5 folds for each of 12 candidates, totalling 60 fits\n",
      "Best Model's Params:  {'learning_decay': 0.7, 'n_components': 5}\n",
      "Model Log Likelihood Score:  -44048.63107989624\n",
      "Model Perplexity:  22453.80443074519\n"
     ]
    }
   ],
   "source": [
    "model_gs, best_lda_model = lda_gridsearch(dtm_tfidf, search_params)"
   ]
  },
  {
   "attachments": {},
   "cell_type": "markdown",
   "metadata": {},
   "source": [
    "#### Plotting LDA model performance"
   ]
  },
  {
   "cell_type": "code",
   "execution_count": 14,
   "metadata": {},
   "outputs": [],
   "source": [
    "# Function draws from Jiamei Wang's code, with modifications & optimizations: \n",
    "# Technique reference: (Jiamei Wang) https://medium.com/swlh/sentiment-analysis-topic-modeling-for-hotel-reviews-6b83653f5b08\n",
    "# (Separated into sub-functions to allow for faster parameter tuning)\n",
    "\n",
    "def lda_plot_performance(model_gs, search_params):\n",
    "    ''' \n",
    "    INPUTS:\n",
    "        model_gs - the GridSearchCV object\n",
    "        \n",
    "    OUTPUTS:\n",
    "        A graph comparing LDA Model Performance Scores with different params\n",
    "    '''\n",
    "\n",
    "    #***********   Step 4: Compare LDA Model Performance Scores   ***********#\n",
    "\n",
    "    #Get Log Likelihoods from Grid Search Output\n",
    "    gscore=model_gs.cv_results_\n",
    "\n",
    "    log_likelihoods = {}\n",
    "    for i in search_params['learning_decay']:\n",
    "        log_likelihoods[i] = [gscore['mean_test_score'][gscore['params'].index(v)] for v in gscore['params'] if v['learning_decay']==i]\n",
    "\n",
    "    # Show graph\n",
    "    plt.figure(figsize=(12, 8))\n",
    "    for i in log_likelihoods:\n",
    "        plt.plot(search_params['n_components'], log_likelihoods[i], label=i)\n",
    " \n",
    "    plt.title(\"Choosing Optimal LDA Model\")\n",
    "    plt.xlabel(\"Num Topics\")\n",
    "    plt.ylabel(\"Log Likelihood Scores\")\n",
    "    plt.legend(title='Learning decay', loc='best')\n",
    "    plt.show()\n",
    "    \n",
    "    return"
   ]
  },
  {
   "cell_type": "code",
   "execution_count": 15,
   "metadata": {},
   "outputs": [
    {
     "data": {
      "image/png": "[encoded data removed]",
      "text/plain": [
       "<Figure size 1200x800 with 1 Axes>"
      ]
     },
     "metadata": {},
     "output_type": "display_data"
    }
   ],
   "source": [
    "lda_plot_performance(model_gs, search_params)"
   ]
  },
  {
   "attachments": {},
   "cell_type": "markdown",
   "metadata": {},
   "source": [
    "#### (optional) Combined function for creating \"best\" LDA model with performance plot"
   ]
  },
  {
   "cell_type": "code",
   "execution_count": 16,
   "metadata": {},
   "outputs": [],
   "source": [
    "# Technique reference: (Jiamei Wang) https://medium.com/swlh/sentiment-analysis-topic-modeling-for-hotel-reviews-6b83653f5b08\n",
    "# (Separated into sub-functions to allow for more convenient parameter tuning)\n",
    "# Once tuned/optimized, all 3 sub-functions can be run together in one command, wholly recreating the method used in the source referenced above\n",
    "\n",
    "def optimal_lda_model(input_df, text_colname, search_params):\n",
    "    '''\n",
    "    INPUTS:\n",
    "        input_df - dataframe that contains the combined text summaries\n",
    "        text_colname: name of column that contains the combined text summaries\n",
    "        search_params - a dictionary of parameters to be used in the grid search\n",
    "        \n",
    "    OUTPUTS:\n",
    "        best_lda_model - the best model, as determined by the grid search\n",
    "        dtm_tfidf - document-term matrix in the tfidf format\n",
    "        tfidf_vectorizer - word frequency in the reviews\n",
    "    '''\n",
    "    \n",
    "    tfidf_vectorizer, dtm_tfidf = make_tfidf(input_df, text_colname)\n",
    "    model_gs, best_lda_model = lda_gridsearch(dtm_tfidf, search_params)\n",
    "    lda_plot_performance(model_gs, search_params)\n",
    "\n",
    "    return best_lda_model, dtm_tfidf, tfidf_vectorizer"
   ]
  },
  {
   "cell_type": "code",
   "execution_count": 17,
   "metadata": {},
   "outputs": [],
   "source": [
    "# (Same as above, in one single function call)\n",
    "\n",
    "# best_lda_model, dtm_tfidf, tfidf_vectorizer = optimal_lda_model(df, 'combined_text', search_params)"
   ]
  },
  {
   "cell_type": "code",
   "execution_count": null,
   "metadata": {},
   "outputs": [],
   "source": []
  },
  {
   "attachments": {},
   "cell_type": "markdown",
   "metadata": {},
   "source": [
    "#### Display topic keywords & weights"
   ]
  },
  {
   "cell_type": "code",
   "execution_count": 18,
   "metadata": {},
   "outputs": [],
   "source": [
    "# Function excerpted directly with no additional modifications from: (Jiamei Wang)\n",
    "# https://medium.com/swlh/sentiment-analysis-topic-modeling-for-hotel-reviews-6b83653f5b08\n",
    "\n",
    "#Create a function to inspect the topics we created \n",
    "def display_topics(model, feature_names, n_top_words):\n",
    "    '''\n",
    "    INPUTS:\n",
    "        model - the model we created\n",
    "        feature_names - tells us what word each column in the matric represents\n",
    "        n_top_words - number of top words to display\n",
    "    OUTPUTS:\n",
    "        a dataframe that contains the topics we created and the weights of each token\n",
    "    '''\n",
    "    topic_dict = {}\n",
    "    for topic_idx, topic in tqdm(enumerate(model.components_)):\n",
    "        topic_dict[\"Topic %d words\" % (topic_idx+1)]= ['{}'.format(feature_names[i])\n",
    "                        for i in topic.argsort()[:-n_top_words - 1:-1]]\n",
    "        topic_dict[\"Topic %d weights\" % (topic_idx+1)]= ['{:.1f}'.format(topic[i])\n",
    "                        for i in topic.argsort()[:-n_top_words - 1:-1]]\n",
    "    return pd.DataFrame(topic_dict)\n"
   ]
  },
  {
   "cell_type": "code",
   "execution_count": 19,
   "metadata": {},
   "outputs": [
    {
     "name": "stderr",
     "output_type": "stream",
     "text": [
      "5it [00:00, 357.14it/s]\n"
     ]
    },
    {
     "data": {
      "text/html": [
       "<div>\n",
       "<style scoped>\n",
       "    .dataframe tbody tr th:only-of-type {\n",
       "        vertical-align: middle;\n",
       "    }\n",
       "\n",
       "    .dataframe tbody tr th {\n",
       "        vertical-align: top;\n",
       "    }\n",
       "\n",
       "    .dataframe thead th {\n",
       "        text-align: right;\n",
       "    }\n",
       "</style>\n",
       "<table border=\"1\" class=\"dataframe\">\n",
       "  <thead>\n",
       "    <tr style=\"text-align: right;\">\n",
       "      <th></th>\n",
       "      <th>Topic 1 words</th>\n",
       "      <th>Topic 1 weights</th>\n",
       "      <th>Topic 2 words</th>\n",
       "      <th>Topic 2 weights</th>\n",
       "      <th>Topic 3 words</th>\n",
       "      <th>Topic 3 weights</th>\n",
       "      <th>Topic 4 words</th>\n",
       "      <th>Topic 4 weights</th>\n",
       "      <th>Topic 5 words</th>\n",
       "      <th>Topic 5 weights</th>\n",
       "    </tr>\n",
       "  </thead>\n",
       "  <tbody>\n",
       "    <tr>\n",
       "      <th>0</th>\n",
       "      <td>astronomy</td>\n",
       "      <td>1.4</td>\n",
       "      <td>yeon</td>\n",
       "      <td>0.2</td>\n",
       "      <td>webtoon</td>\n",
       "      <td>2.7</td>\n",
       "      <td>comedy</td>\n",
       "      <td>180.3</td>\n",
       "      <td>gymnastics</td>\n",
       "      <td>0.7</td>\n",
       "    </tr>\n",
       "    <tr>\n",
       "      <th>1</th>\n",
       "      <td>improvised</td>\n",
       "      <td>1.2</td>\n",
       "      <td>kyung</td>\n",
       "      <td>0.2</td>\n",
       "      <td>webcomic</td>\n",
       "      <td>1.7</td>\n",
       "      <td>crime</td>\n",
       "      <td>134.6</td>\n",
       "      <td>molest</td>\n",
       "      <td>0.2</td>\n",
       "    </tr>\n",
       "    <tr>\n",
       "      <th>2</th>\n",
       "      <td>improvisation</td>\n",
       "      <td>0.9</td>\n",
       "      <td>chul</td>\n",
       "      <td>0.2</td>\n",
       "      <td>genetics</td>\n",
       "      <td>1.5</td>\n",
       "      <td>animation</td>\n",
       "      <td>120.2</td>\n",
       "      <td>culminates</td>\n",
       "      <td>0.2</td>\n",
       "    </tr>\n",
       "    <tr>\n",
       "      <th>3</th>\n",
       "      <td>improv</td>\n",
       "      <td>0.7</td>\n",
       "      <td>bok</td>\n",
       "      <td>0.2</td>\n",
       "      <td>hyun</td>\n",
       "      <td>1.1</td>\n",
       "      <td>adventure</td>\n",
       "      <td>105.1</td>\n",
       "      <td>beijing</td>\n",
       "      <td>0.2</td>\n",
       "    </tr>\n",
       "    <tr>\n",
       "      <th>4</th>\n",
       "      <td>improvisational</td>\n",
       "      <td>0.2</td>\n",
       "      <td>seon</td>\n",
       "      <td>0.2</td>\n",
       "      <td>joon</td>\n",
       "      <td>1.1</td>\n",
       "      <td>action</td>\n",
       "      <td>104.3</td>\n",
       "      <td>tryout</td>\n",
       "      <td>0.2</td>\n",
       "    </tr>\n",
       "    <tr>\n",
       "      <th>5</th>\n",
       "      <td>hawking</td>\n",
       "      <td>0.2</td>\n",
       "      <td>tae</td>\n",
       "      <td>0.2</td>\n",
       "      <td>yeon</td>\n",
       "      <td>1.0</td>\n",
       "      <td>romance</td>\n",
       "      <td>96.5</td>\n",
       "      <td>championships</td>\n",
       "      <td>0.2</td>\n",
       "    </tr>\n",
       "    <tr>\n",
       "      <th>6</th>\n",
       "      <td>stiles</td>\n",
       "      <td>0.2</td>\n",
       "      <td>astronomy</td>\n",
       "      <td>0.2</td>\n",
       "      <td>cha</td>\n",
       "      <td>1.0</td>\n",
       "      <td>mystery</td>\n",
       "      <td>83.9</td>\n",
       "      <td>undergone</td>\n",
       "      <td>0.2</td>\n",
       "    </tr>\n",
       "    <tr>\n",
       "      <th>7</th>\n",
       "      <td>horizons</td>\n",
       "      <td>0.2</td>\n",
       "      <td>hye</td>\n",
       "      <td>0.2</td>\n",
       "      <td>soo</td>\n",
       "      <td>0.9</td>\n",
       "      <td>fantasy</td>\n",
       "      <td>70.4</td>\n",
       "      <td>revitalize</td>\n",
       "      <td>0.2</td>\n",
       "    </tr>\n",
       "    <tr>\n",
       "      <th>8</th>\n",
       "      <td>spontaneous</td>\n",
       "      <td>0.2</td>\n",
       "      <td>pil</td>\n",
       "      <td>0.2</td>\n",
       "      <td>eun</td>\n",
       "      <td>0.9</td>\n",
       "      <td>thriller</td>\n",
       "      <td>61.2</td>\n",
       "      <td>ankle</td>\n",
       "      <td>0.2</td>\n",
       "    </tr>\n",
       "    <tr>\n",
       "      <th>9</th>\n",
       "      <td>skits</td>\n",
       "      <td>0.2</td>\n",
       "      <td>suk</td>\n",
       "      <td>0.2</td>\n",
       "      <td>jae</td>\n",
       "      <td>0.9</td>\n",
       "      <td>novel</td>\n",
       "      <td>60.1</td>\n",
       "      <td>teammates</td>\n",
       "      <td>0.2</td>\n",
       "    </tr>\n",
       "  </tbody>\n",
       "</table>\n",
       "</div>"
      ],
      "text/plain": [
       "     Topic 1 words Topic 1 weights Topic 2 words Topic 2 weights  \\\n",
       "0        astronomy             1.4          yeon             0.2   \n",
       "1       improvised             1.2         kyung             0.2   \n",
       "2    improvisation             0.9          chul             0.2   \n",
       "3           improv             0.7           bok             0.2   \n",
       "4  improvisational             0.2          seon             0.2   \n",
       "5          hawking             0.2           tae             0.2   \n",
       "6           stiles             0.2     astronomy             0.2   \n",
       "7         horizons             0.2           hye             0.2   \n",
       "8      spontaneous             0.2           pil             0.2   \n",
       "9            skits             0.2           suk             0.2   \n",
       "\n",
       "  Topic 3 words Topic 3 weights Topic 4 words Topic 4 weights  Topic 5 words  \\\n",
       "0       webtoon             2.7        comedy           180.3     gymnastics   \n",
       "1      webcomic             1.7         crime           134.6         molest   \n",
       "2      genetics             1.5     animation           120.2     culminates   \n",
       "3          hyun             1.1     adventure           105.1        beijing   \n",
       "4          joon             1.1        action           104.3         tryout   \n",
       "5          yeon             1.0       romance            96.5  championships   \n",
       "6           cha             1.0       mystery            83.9      undergone   \n",
       "7           soo             0.9       fantasy            70.4     revitalize   \n",
       "8           eun             0.9      thriller            61.2          ankle   \n",
       "9           jae             0.9         novel            60.1      teammates   \n",
       "\n",
       "  Topic 5 weights  \n",
       "0             0.7  \n",
       "1             0.2  \n",
       "2             0.2  \n",
       "3             0.2  \n",
       "4             0.2  \n",
       "5             0.2  \n",
       "6             0.2  \n",
       "7             0.2  \n",
       "8             0.2  \n",
       "9             0.2  "
      ]
     },
     "execution_count": 19,
     "metadata": {},
     "output_type": "execute_result"
    }
   ],
   "source": [
    "lda_topic_words = display_topics(best_lda_model, tfidf_vectorizer.get_feature_names_out(), n_top_words = 30) \n",
    "lda_topic_words.head(10)"
   ]
  },
  {
   "attachments": {},
   "cell_type": "markdown",
   "metadata": {},
   "source": [
    "#### Visualizing LDA output with the pyLDAvis library"
   ]
  },
  {
   "cell_type": "code",
   "execution_count": 20,
   "metadata": {},
   "outputs": [
    {
     "name": "stderr",
     "output_type": "stream",
     "text": [
      "d:\\anaconda3\\lib\\site-packages\\pyLDAvis\\_prepare.py:243: FutureWarning: In a future version of pandas all arguments of DataFrame.drop except for the argument 'labels' will be keyword-only.\n",
      "  default_term_info = default_term_info.sort_values(\n"
     ]
    },
    {
     "data": {
      "text/html": [
       "\n",
       "<link rel=\"stylesheet\" type=\"text/css\" href=\"https://cdn.jsdelivr.net/gh/bmabey/pyLDAvis@3.4.0/pyLDAvis/js/ldavis.v1.0.0.css\">\n",
       "\n",
       "\n",
       "<div id=\"ldavis_el2467625348519921448374820248\" style=\"background-color:white;\"></div>\n",
       "<script type=\"text/javascript\">\n",
       "\n",
       "var ldavis_el2467625348519921448374820248_data = {\"mdsDat\": {\"x\": [0.10985649173187609, -0.028097257610587865, -0.02732991380025387, -0.027230260340182732, -0.027199059980851644], \"y\": [-3.215518328093994e-06, -0.0005541127952998604, 0.0004118464780445472, 9.956539742538972e-05, 4.5916438158364204e-05], \"topics\": [1, 2, 3, 4, 5], \"cluster\": [1, 1, 1, 1, 1], \"Freq\": [90.52189114665744, 2.3812709767374147, 2.370894199212272, 2.363899768636979, 2.3620439087558833]}, \"tinfo\": {\"Term\": [\"webtoon\", \"webcomic\", \"comedy\", \"astronomy\", \"soo\", \"crime\", \"improvisation\", \"comedian\", \"building\", \"franchise\", \"master\", \"trauma\", \"care\", \"coach\", \"scenes\", \"quest\", \"security\", \"staff\", \"explore\", \"mexico\", \"away\", \"basketball\", \"claim\", \"mixed\", \"support\", \"danny\", \"miller\", \"disc\", \"usually\", \"central\", \"comedy\", \"crime\", \"animation\", \"adventure\", \"action\", \"romance\", \"mystery\", \"fantasy\", \"thriller\", \"novel\", \"anime\", \"documentary\", \"horror\", \"sitcom\", \"book\", \"sci\", \"miniseries\", \"murder\", \"school\", \"detective\", \"biography\", \"investigation\", \"police\", \"history\", \"superhero\", \"supernatural\", \"manga\", \"alien\", \"england\", \"war\", \"genetics\", \"zeitgeist\", \"yeon\", \"benefits\", \"hyeon\", \"narcissist\", \"myung\", \"joon\", \"kyung\", \"hyun\", \"apps\", \"pil\", \"bok\", \"cha\", \"geun\", \"tae\", \"hye\", \"eun\", \"bae\", \"webtoon\", \"jae\", \"wook\", \"suk\", \"chul\", \"accused\", \"seon\", \"woong\", \"hancinema\", \"wrongfully\", \"seo\", \"webcomic\", \"soo\", \"hee\", \"seoul\", \"seung\", \"yoon\", \"improvised\", \"improv\", \"astronomy\", \"improvisation\", \"investigated\", \"considerations\", \"hyeon\", \"resultant\", \"remade\", \"epitomize\", \"descriptions\", \"dissuade\", \"messaging\", \"redone\", \"geun\", \"segregate\", \"motivated\", \"agreements\", \"slain\", \"stalwart\", \"starter\", \"offended\", \"rhythmic\", \"treated\", \"accompanying\", \"rife\", \"ascribe\", \"consumers\", \"melodic\", \"remembrance\", \"hawking\", \"improvisational\", \"horizons\", \"spontaneous\", \"skits\", \"stiles\", \"daum\", \"users\", \"ostensibly\", \"pil\", \"kikuchi\", \"cosmos\", \"comedian\", \"topics\", \"aisha\", \"likewise\", \"pluto\", \"disambiguation\", \"celebrity\", \"planets\", \"killers\", \"spacetime\", \"suggestion\", \"skit\", \"contribution\", \"universe\", \"versions\", \"odyssey\", \"game\", \"gymnastics\", \"investigated\", \"considerations\", \"hyeon\", \"resultant\", \"remade\", \"epitomize\", \"descriptions\", \"dissuade\", \"messaging\", \"redone\", \"geun\", \"segregate\", \"motivated\", \"agreements\", \"slain\", \"stalwart\", \"starter\", \"offended\", \"rhythmic\", \"treated\", \"accompanying\", \"rife\", \"ascribe\", \"consumers\", \"melodic\", \"remembrance\", \"sadden\", \"disagreed\", \"kikuchi\", \"sabc\", \"molest\", \"culminates\", \"beijing\", \"tryout\", \"championships\", \"revitalize\", \"undergone\", \"daum\", \"ankle\", \"teammates\", \"boycott\", \"pil\", \"bars\", \"spine\", \"fracture\", \"hobbs\", \"stealing\", \"olympic\", \"perfection\", \"olympics\", \"zee\", \"loren\", \"probation\", \"exposed\", \"zane\", \"training\", \"careers\", \"turmoil\", \"yeon\", \"harder\", \"kyung\", \"investigated\", \"considerations\", \"hyeon\", \"resultant\", \"remade\", \"epitomize\", \"descriptions\", \"dissuade\", \"messaging\", \"redone\", \"geun\", \"segregate\", \"motivated\", \"agreements\", \"slain\", \"stalwart\", \"starter\", \"offended\", \"rhythmic\", \"treated\", \"accompanying\", \"rife\", \"ascribe\", \"consumers\", \"melodic\", \"remembrance\", \"sadden\", \"disagreed\", \"kikuchi\", \"sabc\", \"sequential\", \"daum\", \"pil\", \"honya\", \"carried\", \"forests\", \"objectives\", \"translations\", \"yeon\", \"kyung\", \"chul\", \"bok\", \"seon\", \"tae\", \"astronomy\", \"hye\", \"suk\", \"hancinema\", \"bae\", \"wook\", \"woong\", \"myung\", \"moo\", \"heo\", \"sik\", \"zeitgeist\", \"institutional\", \"hyun\", \"kst\", \"seung\", \"pension\", \"joon\", \"seok\", \"gymnastics\", \"byung\"], \"Freq\": [2.0, 2.0, 137.0, 1.0, 1.0, 103.0, 1.0, 3.0, 3.0, 3.0, 3.0, 3.0, 3.0, 3.0, 3.0, 3.0, 3.0, 3.0, 3.0, 3.0, 3.0, 3.0, 3.0, 3.0, 3.0, 3.0, 3.0, 3.0, 3.0, 3.0, 137.82485668873727, 102.90889355601439, 91.88514990367682, 80.3156499982438, 79.7363552379225, 73.76863813297122, 64.0956119698182, 53.82301847089126, 46.76883742171015, 45.910872126572805, 43.6580666482872, 42.74858309006156, 41.18246430238637, 37.45279890355907, 36.5075677156795, 35.31366391544144, 35.062679256504424, 32.65865786260207, 32.27176092075414, 31.87571285273601, 31.655791873899176, 30.94950643352899, 30.53818317280941, 27.229100302077683, 26.956604474975194, 26.200768973166134, 25.893101754372736, 24.77498088218439, 23.46378996708832, 23.147690487299197, 0.18951460461601172, 0.0996381466102834, 0.12582749775957433, 0.07710481590044338, 0.0570634640736218, 0.08005776620674873, 0.08010616704362104, 0.1348220886177461, 0.09838724489709866, 0.1452467524676959, 0.10257025773429353, 0.05176577538624943, 0.05853109574689233, 0.12294689070847976, 0.0449476370393235, 0.11439033857887881, 0.08267533264785464, 0.1162503121769115, 0.06173055284423054, 0.3380446030636039, 0.1149311229394055, 0.06510445511116107, 0.04761733869483449, 0.05809821002430512, 0.07061260813671603, 0.042374506250296144, 0.036944135230132874, 0.04545987535781108, 0.06631444121290835, 0.08531084172952332, 0.2199317187490239, 0.12027328474008646, 0.08985151460563211, 0.06421354398202841, 0.05606714697729036, 0.06687795474075894, 0.14689042015782272, 0.08617454614333434, 0.1745895719124186, 0.11845823470238848, 0.02548837429585327, 0.025486021528958454, 0.025489360109067907, 0.02548558256999522, 0.02548610624122631, 0.025485844394038254, 0.025486370345167958, 0.025487189754093535, 0.025485567941781515, 0.025486157883817365, 0.025500446958608942, 0.025485622252538125, 0.025486461107592482, 0.025485502140569827, 0.025485404289029498, 0.025487868903692187, 0.02548726337569276, 0.0254853275542557, 0.025485046273087317, 0.025486908436425038, 0.02548747284427258, 0.025486054055103437, 0.02548459894303455, 0.025485811573651134, 0.02548496807092098, 0.025485014204880974, 0.02615821088642612, 0.026555460330904366, 0.02582582181526614, 0.025791110687985463, 0.025779101884955868, 0.025846418278001593, 0.025497322074063505, 0.025670593106285486, 0.025681516327296698, 0.02550209949001361, 0.025488409552119236, 0.025704048227220257, 0.02570064625485225, 0.025625385568341222, 0.02561497508293947, 0.025613695073426604, 0.025594448563264035, 0.025589776931661617, 0.025586383574088857, 0.025583728917523387, 0.025577263693055855, 0.025572080336343613, 0.025566402660422472, 0.025555907592161413, 0.025553950655928616, 0.025550999558170872, 0.025550771072863177, 0.025548355590442738, 0.0255424721767091, 0.09426861404545174, 0.02543437888299303, 0.025432026709136663, 0.025435363705254926, 0.025431590049703877, 0.025432113160363135, 0.02543184850767248, 0.02543237695763869, 0.025433195327437284, 0.0254315754206352, 0.025432163185867673, 0.025446439289220794, 0.025431627425926757, 0.02543246766864366, 0.025431507859891365, 0.0254314117052723, 0.025433873979770844, 0.025433269032467593, 0.02543131609473507, 0.025431038450747828, 0.025432914466488668, 0.025433478377320625, 0.025432062945989837, 0.02543060630567161, 0.02543181829422058, 0.02543097933680788, 0.02543102159663753, 0.025432140156566835, 0.025431464833269173, 0.025434414096770108, 0.025434424752766943, 0.02557483465696089, 0.025556716004145295, 0.02554359797947766, 0.02553057227245938, 0.025523719588087693, 0.025520230027573594, 0.025520722687809944, 0.025443317608849065, 0.025510576585934926, 0.025501031597861237, 0.025496326848339634, 0.025448090195367343, 0.02549245633875405, 0.025489794291008474, 0.025488558835748767, 0.025483137001872234, 0.025480117798412055, 0.025479129133210637, 0.02547251080552683, 0.0254689972569695, 0.025467514189525833, 0.025466475980443003, 0.025463072544601267, 0.02545790542185895, 0.02545761964835942, 0.0254573580110057, 0.02545715428928079, 0.02545696713576685, 0.025455905915928667, 0.025455235270198183, 0.025454321435261856, 0.025418608034166464, 0.025416257014245682, 0.02541959244566541, 0.02541582044427834, 0.025416343371708564, 0.025416078694136604, 0.0254166070567444, 0.025417425036461792, 0.025415805814586467, 0.025416393421658877, 0.025430663013839245, 0.025415857810324974, 0.025416697700611352, 0.025415738301165256, 0.025415642170293202, 0.02541810340221215, 0.025417498739424622, 0.025415546651480575, 0.02541526827865748, 0.025417144383296876, 0.025417707923100642, 0.025416291274768927, 0.0254148371362695, 0.025416048650338488, 0.025415206849255995, 0.02541525229324283, 0.025416370302007118, 0.025415695325217078, 0.025418643229970884, 0.025418653888547058, 0.02541729343891922, 0.02542754274843694, 0.025432313185936938, 0.025418971229945297, 0.025418173366628168, 0.0254191519383136, 0.0254179119044324, 0.025417642301664687, 0.025440125355776076, 0.025438541585484878, 0.025434438908425682, 0.025433764375102932, 0.025433748579872583, 0.025433656702235966, 0.02543303374960226, 0.02543250454726652, 0.02543139322493783, 0.025430292037115373, 0.02542982262422883, 0.02542955275108835, 0.025428735563393895, 0.025427746075922648, 0.02542761223199031, 0.02542653361242187, 0.02542607552734766, 0.02542592213349326, 0.025425910051309043, 0.02542560245972521, 0.025425224514267777, 0.025425172089267804, 0.02542498881035411, 0.025424979699143146, 0.02542494147344079, 0.025424475944271097, 0.025424208234110065], \"Total\": [2.0, 2.0, 137.0, 1.0, 1.0, 103.0, 1.0, 3.0, 3.0, 3.0, 3.0, 3.0, 3.0, 3.0, 3.0, 3.0, 3.0, 3.0, 3.0, 3.0, 3.0, 3.0, 3.0, 3.0, 3.0, 3.0, 3.0, 3.0, 3.0, 3.0, 137.92663011512036, 103.010665768107, 91.98691033443367, 80.41741366071976, 79.83812141202976, 73.8704241918747, 64.19738567973619, 53.9247885679684, 46.87060601958545, 46.012636476956715, 43.759827633770996, 42.85037618141331, 41.28423289258117, 37.55455941537758, 36.609332179745785, 35.41542857643716, 35.16444682842537, 32.760433739202625, 32.37353538868012, 31.977476993995445, 31.7575588269299, 31.05126928739871, 30.639950160898938, 27.330866881253346, 27.058364156378186, 26.302534169992246, 25.994862917453688, 24.876744248903158, 23.56555279008373, 23.249454120977692, 0.549818903991703, 0.42511339672051685, 0.6314659261127424, 0.4019972900931899, 0.30456061298677106, 0.45809476477162997, 0.4612480618128456, 0.7914353996078903, 0.590987648096945, 0.8888723294024358, 0.641884202348099, 0.32841052099027396, 0.3790000870258297, 0.828363821821772, 0.310072787819863, 0.8155753301681815, 0.6053619623602752, 0.8536219384210934, 0.4553100753851491, 2.570102092057684, 0.8832558839865358, 0.5023756961933412, 0.37128283603772655, 0.4802068292168326, 0.5840308450503354, 0.35344339574389083, 0.33622361131025535, 0.42433576983153654, 0.6337493687330206, 0.8516791489434579, 2.580426104470192, 1.5245397850558124, 1.1786141738004674, 0.9140917806634998, 0.6542939069928198, 1.3188312936492728, 0.7415030387771283, 0.5275747645148474, 1.3793176326408587, 1.3577941989334883, 0.2991544598124928, 0.29984332456742435, 0.30456061298677106, 0.30571234920437684, 0.3060108547964877, 0.30748737738120513, 0.3083562970089232, 0.3087887863424499, 0.3089735487566568, 0.3091144206564758, 0.310072787819863, 0.3100275866539558, 0.31029544873248066, 0.3104725599716315, 0.3105409834952737, 0.3106023969179731, 0.3106664436648909, 0.3109297637222598, 0.3110239755546728, 0.3111003363259838, 0.31116983909144014, 0.31170553075974944, 0.31170844054908964, 0.311767895520971, 0.3117733649831125, 0.31185185516749275, 0.34509697349736085, 0.4562701970774273, 0.4131722525062455, 0.4020572199127167, 0.40814791245446336, 0.4793971805730016, 0.3172963525632777, 0.4702803024324999, 0.5694837649392314, 0.32841052099027396, 0.31276564308397314, 1.856641547491554, 3.674602581553604, 0.6481746336255251, 0.6945062219848536, 0.6581079717201528, 0.5507620825321047, 0.8124923328563426, 6.279133501576134, 0.5955867501730892, 0.6019691639613034, 0.7269169268320322, 0.7793927456818035, 0.9108045664008009, 0.6426798903707511, 8.890266674514386, 0.8643106174984103, 0.7167467774500198, 20.315559954243636, 0.5035353806843363, 0.2991544598124928, 0.29984332456742435, 0.30456061298677106, 0.30571234920437684, 0.3060108547964877, 0.30748737738120513, 0.3083562970089232, 0.3087887863424499, 0.3089735487566568, 0.3091144206564758, 0.310072787819863, 0.3100275866539558, 0.31029544873248066, 0.3104725599716315, 0.3105409834952737, 0.3106023969179731, 0.3106664436648909, 0.3109297637222598, 0.3110239755546728, 0.3111003363259838, 0.31116983909144014, 0.31170553075974944, 0.31170844054908964, 0.311767895520971, 0.3117733649831125, 0.31185185516749275, 0.3125855429760915, 0.3126619540033921, 0.31276564308397314, 0.3128740189352574, 0.3372917790437905, 0.34585563932566465, 0.35301088316907914, 0.3615762652364742, 0.3685039995710169, 0.3681212895051767, 0.36930378124839114, 0.3172963525632777, 0.3805089355897639, 0.38887745368308435, 0.39629829311562714, 0.32841052099027396, 0.39514289385642515, 0.40651707878369464, 0.40826313022453414, 0.419885271420005, 0.4279259140892949, 0.8051291738418133, 0.4390731240585496, 0.698147926091554, 0.4557762849751448, 0.46323236977005744, 0.47285586481119957, 0.4900047637254705, 0.5153044201777408, 3.9612560991731205, 0.4906444214980042, 0.5061949741918126, 0.6314659261127424, 0.49734350761546664, 0.590987648096945, 0.2991544598124928, 0.29984332456742435, 0.30456061298677106, 0.30571234920437684, 0.3060108547964877, 0.30748737738120513, 0.3083562970089232, 0.3087887863424499, 0.3089735487566568, 0.3091144206564758, 0.310072787819863, 0.3100275866539558, 0.31029544873248066, 0.3104725599716315, 0.3105409834952737, 0.3106023969179731, 0.3106664436648909, 0.3109297637222598, 0.3110239755546728, 0.3111003363259838, 0.31116983909144014, 0.31170553075974944, 0.31170844054908964, 0.311767895520971, 0.3117733649831125, 0.31185185516749275, 0.3125855429760915, 0.3126619540033921, 0.31276564308397314, 0.3128740189352574, 0.31295630198284063, 0.3172963525632777, 0.32841052099027396, 0.3142470138100315, 0.3138833224152337, 0.31519923753376483, 0.31376677962535227, 0.3134577983377549, 0.6314659261127424, 0.590987648096945, 0.4802068292168326, 0.3790000870258297, 0.35344339574389083, 0.8155753301681815, 1.3793176326408587, 0.6053619623602752, 0.37128283603772655, 0.42433576983153654, 0.4553100753851491, 0.5023756961933412, 0.33622361131025535, 0.4612480618128456, 0.4909701630846079, 0.3856240531861323, 0.4659824297388797, 0.42511339672051685, 0.6377864586647725, 0.8888723294024358, 0.41574777524155926, 0.6542939069928198, 0.34236967899702403, 0.7914353996078903, 0.5334223342182429, 0.5035353806843363, 0.4350350386739428], \"Category\": [\"Default\", \"Default\", \"Default\", \"Default\", \"Default\", \"Default\", \"Default\", \"Default\", \"Default\", \"Default\", \"Default\", \"Default\", \"Default\", \"Default\", \"Default\", \"Default\", \"Default\", \"Default\", \"Default\", \"Default\", \"Default\", \"Default\", \"Default\", \"Default\", \"Default\", \"Default\", \"Default\", \"Default\", \"Default\", \"Default\", \"Topic1\", \"Topic1\", \"Topic1\", \"Topic1\", \"Topic1\", \"Topic1\", \"Topic1\", \"Topic1\", \"Topic1\", \"Topic1\", \"Topic1\", \"Topic1\", \"Topic1\", \"Topic1\", \"Topic1\", \"Topic1\", \"Topic1\", \"Topic1\", \"Topic1\", \"Topic1\", \"Topic1\", \"Topic1\", \"Topic1\", \"Topic1\", \"Topic1\", \"Topic1\", \"Topic1\", \"Topic1\", \"Topic1\", \"Topic1\", \"Topic2\", \"Topic2\", \"Topic2\", \"Topic2\", \"Topic2\", \"Topic2\", \"Topic2\", \"Topic2\", \"Topic2\", \"Topic2\", \"Topic2\", \"Topic2\", \"Topic2\", \"Topic2\", \"Topic2\", \"Topic2\", \"Topic2\", \"Topic2\", \"Topic2\", \"Topic2\", \"Topic2\", \"Topic2\", \"Topic2\", \"Topic2\", \"Topic2\", \"Topic2\", \"Topic2\", \"Topic2\", \"Topic2\", \"Topic2\", \"Topic2\", \"Topic2\", \"Topic2\", \"Topic2\", \"Topic2\", \"Topic2\", \"Topic3\", \"Topic3\", \"Topic3\", \"Topic3\", \"Topic3\", \"Topic3\", \"Topic3\", \"Topic3\", \"Topic3\", \"Topic3\", \"Topic3\", \"Topic3\", \"Topic3\", \"Topic3\", \"Topic3\", \"Topic3\", \"Topic3\", \"Topic3\", \"Topic3\", \"Topic3\", \"Topic3\", \"Topic3\", \"Topic3\", \"Topic3\", \"Topic3\", \"Topic3\", \"Topic3\", \"Topic3\", \"Topic3\", \"Topic3\", \"Topic3\", \"Topic3\", \"Topic3\", \"Topic3\", \"Topic3\", \"Topic3\", \"Topic3\", \"Topic3\", \"Topic3\", \"Topic3\", \"Topic3\", \"Topic3\", \"Topic3\", \"Topic3\", \"Topic3\", \"Topic3\", \"Topic3\", \"Topic3\", \"Topic3\", \"Topic3\", \"Topic3\", \"Topic3\", \"Topic3\", \"Topic3\", \"Topic3\", \"Topic3\", \"Topic3\", \"Topic3\", \"Topic3\", \"Topic4\", \"Topic4\", \"Topic4\", \"Topic4\", \"Topic4\", \"Topic4\", \"Topic4\", \"Topic4\", \"Topic4\", \"Topic4\", \"Topic4\", \"Topic4\", \"Topic4\", \"Topic4\", \"Topic4\", \"Topic4\", \"Topic4\", \"Topic4\", \"Topic4\", \"Topic4\", \"Topic4\", \"Topic4\", \"Topic4\", \"Topic4\", \"Topic4\", \"Topic4\", \"Topic4\", \"Topic4\", \"Topic4\", \"Topic4\", \"Topic4\", \"Topic4\", \"Topic4\", \"Topic4\", \"Topic4\", \"Topic4\", \"Topic4\", \"Topic4\", \"Topic4\", \"Topic4\", \"Topic4\", \"Topic4\", \"Topic4\", \"Topic4\", \"Topic4\", \"Topic4\", \"Topic4\", \"Topic4\", \"Topic4\", \"Topic4\", \"Topic4\", \"Topic4\", \"Topic4\", \"Topic4\", \"Topic4\", \"Topic4\", \"Topic4\", \"Topic4\", \"Topic4\", \"Topic4\", \"Topic4\", \"Topic4\", \"Topic5\", \"Topic5\", \"Topic5\", \"Topic5\", \"Topic5\", \"Topic5\", \"Topic5\", \"Topic5\", \"Topic5\", \"Topic5\", \"Topic5\", \"Topic5\", \"Topic5\", \"Topic5\", \"Topic5\", \"Topic5\", \"Topic5\", \"Topic5\", \"Topic5\", \"Topic5\", \"Topic5\", \"Topic5\", \"Topic5\", \"Topic5\", \"Topic5\", \"Topic5\", \"Topic5\", \"Topic5\", \"Topic5\", \"Topic5\", \"Topic5\", \"Topic5\", \"Topic5\", \"Topic5\", \"Topic5\", \"Topic5\", \"Topic5\", \"Topic5\", \"Topic5\", \"Topic5\", \"Topic5\", \"Topic5\", \"Topic5\", \"Topic5\", \"Topic5\", \"Topic5\", \"Topic5\", \"Topic5\", \"Topic5\", \"Topic5\", \"Topic5\", \"Topic5\", \"Topic5\", \"Topic5\", \"Topic5\", \"Topic5\", \"Topic5\", \"Topic5\", \"Topic5\", \"Topic5\", \"Topic5\", \"Topic5\", \"Topic5\", \"Topic5\", \"Topic5\"], \"logprob\": [30.0, 29.0, 28.0, 27.0, 26.0, 25.0, 24.0, 23.0, 22.0, 21.0, 20.0, 19.0, 18.0, 17.0, 16.0, 15.0, 14.0, 13.0, 12.0, 11.0, 10.0, 9.0, 8.0, 7.0, 6.0, 5.0, 4.0, 3.0, 2.0, 1.0, -4.7849, -5.077, -5.1903, -5.3249, -5.3321, -5.4099, -5.5505, -5.7252, -5.8656, -5.8842, -5.9345, -5.9555, -5.9928, -6.0878, -6.1133, -6.1466, -6.1537, -6.2247, -6.2367, -6.249, -6.2559, -6.2785, -6.2919, -6.4066, -6.4166, -6.4451, -6.4569, -6.501, -6.5554, -6.569, -7.7362, -8.3791, -8.1457, -8.6355, -8.9365, -8.5979, -8.5973, -8.0767, -8.3917, -8.0022, -8.3501, -9.0339, -8.9111, -8.1689, -9.1752, -8.241, -8.5657, -8.2249, -8.8579, -7.1575, -8.2363, -8.8047, -9.1175, -8.9185, -8.7234, -9.2341, -9.3712, -9.1638, -8.7862, -8.5344, -7.5873, -8.1909, -8.4825, -8.8184, -8.9541, -8.7778, -7.9866, -8.5199, -7.8138, -8.2017, -9.7381, -9.7382, -9.738, -9.7382, -9.7382, -9.7382, -9.7381, -9.7381, -9.7382, -9.7382, -9.7376, -9.7382, -9.7381, -9.7382, -9.7382, -9.7381, -9.7381, -9.7382, -9.7382, -9.7381, -9.7381, -9.7382, -9.7382, -9.7382, -9.7382, -9.7382, -9.7121, -9.6971, -9.7249, -9.7263, -9.7267, -9.7241, -9.7377, -9.7309, -9.7305, -9.7375, -9.7381, -9.7296, -9.7298, -9.7327, -9.7331, -9.7332, -9.7339, -9.7341, -9.7342, -9.7343, -9.7346, -9.7348, -9.735, -9.7354, -9.7355, -9.7356, -9.7356, -9.7357, -9.7359, -8.4272, -9.7372, -9.7373, -9.7372, -9.7373, -9.7373, -9.7373, -9.7373, -9.7373, -9.7373, -9.7373, -9.7368, -9.7373, -9.7373, -9.7373, -9.7373, -9.7373, -9.7373, -9.7374, -9.7374, -9.7373, -9.7373, -9.7373, -9.7374, -9.7373, -9.7374, -9.7374, -9.7373, -9.7373, -9.7372, -9.7372, -9.7317, -9.7324, -9.7329, -9.7335, -9.7337, -9.7339, -9.7338, -9.7369, -9.7342, -9.7346, -9.7348, -9.7367, -9.735, -9.7351, -9.7351, -9.7353, -9.7354, -9.7355, -9.7357, -9.7359, -9.7359, -9.736, -9.7361, -9.7363, -9.7363, -9.7363, -9.7363, -9.7363, -9.7364, -9.7364, -9.7364, -9.7371, -9.7372, -9.737, -9.7372, -9.7372, -9.7372, -9.7371, -9.7371, -9.7372, -9.7372, -9.7366, -9.7372, -9.7371, -9.7372, -9.7372, -9.7371, -9.7371, -9.7372, -9.7372, -9.7371, -9.7371, -9.7372, -9.7372, -9.7372, -9.7372, -9.7372, -9.7372, -9.7372, -9.7371, -9.7371, -9.7371, -9.7367, -9.7365, -9.7371, -9.7371, -9.737, -9.7371, -9.7371, -9.7362, -9.7363, -9.7364, -9.7365, -9.7365, -9.7365, -9.7365, -9.7365, -9.7366, -9.7366, -9.7366, -9.7366, -9.7367, -9.7367, -9.7367, -9.7368, -9.7368, -9.7368, -9.7368, -9.7368, -9.7368, -9.7368, -9.7368, -9.7368, -9.7368, -9.7368, -9.7368], \"loglift\": [30.0, 29.0, 28.0, 27.0, 26.0, 25.0, 24.0, 23.0, 22.0, 21.0, 20.0, 19.0, 18.0, 17.0, 16.0, 15.0, 14.0, 13.0, 12.0, 11.0, 10.0, 9.0, 8.0, 7.0, 6.0, 5.0, 4.0, 3.0, 2.0, 1.0, 0.0988, 0.0986, 0.0985, 0.0983, 0.0983, 0.0982, 0.098, 0.0977, 0.0974, 0.0974, 0.0973, 0.0972, 0.0971, 0.0969, 0.0968, 0.0967, 0.0967, 0.0965, 0.0964, 0.0964, 0.0964, 0.0963, 0.0963, 0.0958, 0.0958, 0.0957, 0.0957, 0.0955, 0.0953, 0.0952, 2.6724, 2.2867, 2.1244, 2.0863, 2.0628, 1.9932, 1.987, 1.9676, 1.9447, 1.926, 1.9037, 1.89, 1.8696, 1.8298, 1.8062, 1.7733, 1.7466, 1.7438, 1.7393, 1.709, 1.6983, 1.6942, 1.6838, 1.6255, 1.6248, 1.6164, 1.5292, 1.5038, 1.4803, 1.4366, 1.2751, 1.1979, 1.1636, 1.0818, 1.2805, 0.7559, 2.1229, 1.93, 1.675, 1.3028, 1.2792, 1.2768, 1.2613, 1.2574, 1.2564, 1.2516, 1.2488, 1.2474, 1.2468, 1.2463, 1.2438, 1.2434, 1.2425, 1.2419, 1.2417, 1.2416, 1.2414, 1.2404, 1.2401, 1.24, 1.2398, 1.238, 1.2379, 1.2378, 1.2377, 1.2375, 1.1622, 0.8981, 0.9694, 0.9953, 0.9798, 0.8215, 1.2206, 0.8339, 0.6429, 1.1864, 1.2347, -0.538, -1.2208, 0.5113, 0.4419, 0.4957, 0.673, 0.284, -1.761, 0.5943, 0.5834, 0.3946, 0.3247, 0.1684, 0.517, -2.1101, 0.2206, 0.4078, -2.9369, 2.0694, 1.28, 1.2776, 1.2621, 1.2582, 1.2572, 1.2524, 1.2496, 1.2483, 1.2476, 1.2472, 1.2446, 1.2442, 1.2434, 1.2428, 1.2425, 1.2424, 1.2422, 1.2413, 1.241, 1.2408, 1.2406, 1.2388, 1.2387, 1.2386, 1.2385, 1.2383, 1.236, 1.2357, 1.2355, 1.2352, 1.1655, 1.1397, 1.1187, 1.0943, 1.075, 1.0759, 1.0727, 1.2215, 1.0424, 1.0203, 1.0012, 1.1872, 1.004, 0.9755, 0.9712, 0.9429, 0.9238, 0.2917, 0.8978, 0.4339, 0.8603, 0.844, 0.8233, 0.7875, 0.7371, -1.3025, 0.7861, 0.7549, 0.5338, 0.7725, 0.5999, 1.2802, 1.2778, 1.2623, 1.2584, 1.2574, 1.2526, 1.2498, 1.2484, 1.2478, 1.2473, 1.2448, 1.2444, 1.2435, 1.2429, 1.2427, 1.2426, 1.2424, 1.2414, 1.2411, 1.241, 1.2408, 1.239, 1.2389, 1.2388, 1.2387, 1.2385, 1.2362, 1.2359, 1.2357, 1.2353, 1.235, 1.2216, 1.1874, 1.231, 1.2321, 1.2279, 1.2324, 1.2334, 0.5339, 0.6001, 0.8075, 1.0442, 1.114, 0.2778, -0.2477, 0.5758, 1.0647, 0.9311, 0.8606, 0.7622, 1.1637, 0.8475, 0.7851, 1.0266, 0.8373, 0.9291, 0.5234, 0.1914, 0.9513, 0.4978, 1.1455, 0.3075, 0.7021, 0.7597, 0.9059]}, \"token.table\": {\"Topic\": [1, 1, 1, 1, 1, 1, 1, 1, 1, 1, 1, 1, 1, 1, 1, 1, 1, 1, 1, 1, 1, 1, 1, 1, 1, 1, 1, 1, 1, 1, 1, 1, 1, 1, 1, 1, 1, 1, 1, 1, 1, 1, 1, 1, 1, 1, 1, 1, 1, 1, 1, 1, 1, 1, 1, 1, 1, 1, 1, 1, 1, 1, 1, 1, 1, 1, 1, 1, 1, 1, 1, 1, 1, 1, 1, 1, 1, 1, 1, 1, 1, 1, 1, 1, 1, 1, 1, 1, 1], \"Freq\": [1.0020275851323557, 0.9948094120201276, 1.439871909487096, 1.0049546576458563, 1.000142299219734, 1.0054884212122366, 0.7249961693633884, 0.849343101461197, 0.8477079584552533, 1.0076341249776577, 1.0106712632269854, 0.8415970570086657, 0.8546206551155132, 0.9555458565252565, 0.8639945427526557, 1.2071990273558284, 0.855152758290228, 0.868658247550739, 1.088553091449911, 1.0005319486513837, 1.5559845811001134, 1.077213855685893, 0.9998964595750598, 0.8564910898087064, 1.000704339682858, 1.2307808450135993, 0.8590241820176647, 1.0034917737467048, 0.9760008689326519, 1.1714787952259704, 0.8609325140020428, 1.0013947469063658, 0.8652265683117919, 0.9844670806537272, 0.8484540761761569, 0.9878940217048039, 0.9931152192334365, 1.1250209584904869, 0.7364886378108507, 1.348612140078589, 1.5679229096420986, 0.9983488827163817, 1.1321747390875505, 1.2635270048514904, 1.6612146599327857, 1.5195075017648167, 1.0001976191435449, 0.8610335241519353, 0.8602154703958096, 0.8581602700558695, 0.9953234916724912, 0.8678540726304426, 1.0073126706045623, 0.9969253314968168, 0.9997253694218752, 1.3951928790774815, 1.242036722167608, 1.432361198289747, 1.0117509929751956, 0.8576504841383674, 1.0017540958989044, 0.8459650359586524, 0.9884617053962315, 0.9882698418984105, 0.8637198649902246, 1.1741510887527775, 1.0939820498923456, 1.5283651418917676, 0.9852332333540703, 1.0979303759440624, 0.6559356533705617, 1.375673014464098, 0.8577160718819148, 1.2830501766156572, 0.9978430271674635, 0.9884979079187968, 0.8513055028072962, 1.2261283084589965, 1.0027606636952908, 1.5427940991867597, 1.0097807109302948, 0.8500412107778694, 1.0123430859279154, 0.8516577113268773, 1.1569914562594614, 0.9892705385821247, 0.77506579108594, 0.7781792039236671, 0.7582470971195637], \"Term\": [\"action\", \"adventure\", \"aisha\", \"alien\", \"animation\", \"anime\", \"astronomy\", \"away\", \"basketball\", \"biography\", \"book\", \"building\", \"care\", \"celebrity\", \"central\", \"cha\", \"claim\", \"coach\", \"comedian\", \"comedy\", \"contribution\", \"cosmos\", \"crime\", \"danny\", \"detective\", \"disambiguation\", \"disc\", \"documentary\", \"england\", \"eun\", \"explore\", \"fantasy\", \"franchise\", \"game\", \"hee\", \"history\", \"horror\", \"hyun\", \"improvisation\", \"improvised\", \"institutional\", \"investigation\", \"jae\", \"joon\", \"killers\", \"likewise\", \"manga\", \"master\", \"mexico\", \"miller\", \"miniseries\", \"mixed\", \"murder\", \"mystery\", \"novel\", \"odyssey\", \"olympic\", \"olympics\", \"police\", \"quest\", \"romance\", \"scenes\", \"school\", \"sci\", \"security\", \"seo\", \"seoul\", \"seung\", \"sitcom\", \"skit\", \"soo\", \"spacetime\", \"staff\", \"suggestion\", \"superhero\", \"supernatural\", \"support\", \"tae\", \"thriller\", \"topics\", \"training\", \"trauma\", \"universe\", \"usually\", \"versions\", \"war\", \"webcomic\", \"webtoon\", \"yoon\"]}, \"R\": 30, \"lambda.step\": 0.01, \"plot.opts\": {\"xlab\": \"PC1\", \"ylab\": \"PC2\"}, \"topic.order\": [4, 3, 1, 5, 2]};\n",
       "\n",
       "function LDAvis_load_lib(url, callback){\n",
       "  var s = document.createElement('script');\n",
       "  s.src = url;\n",
       "  s.async = true;\n",
       "  s.onreadystatechange = s.onload = callback;\n",
       "  s.onerror = function(){console.warn(\"failed to load library \" + url);};\n",
       "  document.getElementsByTagName(\"head\")[0].appendChild(s);\n",
       "}\n",
       "\n",
       "if(typeof(LDAvis) !== \"undefined\"){\n",
       "   // already loaded: just create the visualization\n",
       "   !function(LDAvis){\n",
       "       new LDAvis(\"#\" + \"ldavis_el2467625348519921448374820248\", ldavis_el2467625348519921448374820248_data);\n",
       "   }(LDAvis);\n",
       "}else if(typeof define === \"function\" && define.amd){\n",
       "   // require.js is available: use it to load d3/LDAvis\n",
       "   require.config({paths: {d3: \"https://d3js.org/d3.v5\"}});\n",
       "   require([\"d3\"], function(d3){\n",
       "      window.d3 = d3;\n",
       "      LDAvis_load_lib(\"https://cdn.jsdelivr.net/gh/bmabey/pyLDAvis@3.4.0/pyLDAvis/js/ldavis.v3.0.0.js\", function(){\n",
       "        new LDAvis(\"#\" + \"ldavis_el2467625348519921448374820248\", ldavis_el2467625348519921448374820248_data);\n",
       "      });\n",
       "    });\n",
       "}else{\n",
       "    // require.js not available: dynamically load d3 & LDAvis\n",
       "    LDAvis_load_lib(\"https://d3js.org/d3.v5.js\", function(){\n",
       "         LDAvis_load_lib(\"https://cdn.jsdelivr.net/gh/bmabey/pyLDAvis@3.4.0/pyLDAvis/js/ldavis.v3.0.0.js\", function(){\n",
       "                 new LDAvis(\"#\" + \"ldavis_el2467625348519921448374820248\", ldavis_el2467625348519921448374820248_data);\n",
       "            })\n",
       "         });\n",
       "}\n",
       "</script>"
      ],
      "text/plain": [
       "PreparedData(topic_coordinates=              x         y  topics  cluster       Freq\n",
       "topic                                                \n",
       "3      0.109856 -0.000003       1        1  90.521891\n",
       "2     -0.028097 -0.000554       2        1   2.381271\n",
       "0     -0.027330  0.000412       3        1   2.370894\n",
       "4     -0.027230  0.000100       4        1   2.363900\n",
       "1     -0.027199  0.000046       5        1   2.362044, topic_info=             Term        Freq       Total Category  logprob  loglift\n",
       "16498     webtoon    2.000000    2.000000  Default  30.0000  30.0000\n",
       "16491    webcomic    2.000000    2.000000  Default  29.0000  29.0000\n",
       "2947       comedy  137.000000  137.000000  Default  28.0000  28.0000\n",
       "1000    astronomy    1.000000    1.000000  Default  27.0000  27.0000\n",
       "14196         soo    1.000000    1.000000  Default  26.0000  26.0000\n",
       "...           ...         ...         ...      ...      ...      ...\n",
       "11201     pension    0.025425    0.342370   Topic5  -9.7368   1.1455\n",
       "8176         joon    0.025425    0.791435   Topic5  -9.7368   0.3075\n",
       "13600        seok    0.025425    0.533422   Topic5  -9.7368   0.7021\n",
       "6683   gymnastics    0.025424    0.503535   Topic5  -9.7368   0.7597\n",
       "2092        byung    0.025424    0.435035   Topic5  -9.7368   0.9059\n",
       "\n",
       "[282 rows x 6 columns], token_table=       Topic      Freq       Term\n",
       "term                             \n",
       "141        1  1.002028     action\n",
       "248        1  0.994809  adventure\n",
       "369        1  1.439872      aisha\n",
       "436        1  1.004955      alien\n",
       "635        1  1.000142  animation\n",
       "...      ...       ...        ...\n",
       "16191      1  1.156991   versions\n",
       "16405      1  0.989271        war\n",
       "16491      1  0.775066   webcomic\n",
       "16498      1  0.778179    webtoon\n",
       "16864      1  0.758247       yoon\n",
       "\n",
       "[89 rows x 3 columns], R=30, lambda_step=0.01, plot_opts={'xlab': 'PC1', 'ylab': 'PC2'}, topic_order=[4, 3, 1, 5, 2])"
      ]
     },
     "execution_count": 20,
     "metadata": {},
     "output_type": "execute_result"
    }
   ],
   "source": [
    "# Topic Modelling Visualization for the show description texts\n",
    "pyLDAvis.sklearn.prepare(best_lda_model, dtm_tfidf, tfidf_vectorizer)"
   ]
  },
  {
   "attachments": {},
   "cell_type": "markdown",
   "metadata": {},
   "source": [
    "#### Generate results (fit-transorm) from a LDA model and tfidf matrix"
   ]
  },
  {
   "cell_type": "code",
   "execution_count": 21,
   "metadata": {},
   "outputs": [],
   "source": [
    "lda_results = best_lda_model.fit_transform(dtm_tfidf) "
   ]
  },
  {
   "attachments": {},
   "cell_type": "markdown",
   "metadata": {},
   "source": [
    "#### Append the LDA topic % matches onto the results dataframe"
   ]
  },
  {
   "cell_type": "code",
   "execution_count": 22,
   "metadata": {},
   "outputs": [],
   "source": [
    "# Technique reference: (Mimi Dutta) https://www.analyticsvidhya.com/blog/2021/07/topic-modelling-with-lda-a-hands-on-introduction/\n",
    "\n",
    "def make_lda_topic_pct_cols(lda_results, df_to_append_to, name_prefix=\"\"):\n",
    "    \n",
    "    for j in tqdm(range(len(df_to_append_to))):\n",
    "        for i,topic in enumerate(lda_results[j]):\n",
    "            df_to_append_to.loc[j, f\"{name_prefix}lda_topic{i}_match_pct\"] = topic\n",
    "    return\n",
    "        "
   ]
  },
  {
   "cell_type": "code",
   "execution_count": 23,
   "metadata": {},
   "outputs": [
    {
     "name": "stderr",
     "output_type": "stream",
     "text": [
      "100%|██████████| 2484/2484 [00:00<00:00, 4215.71it/s]\n"
     ]
    }
   ],
   "source": [
    "make_lda_topic_pct_cols(lda_results, df)"
   ]
  },
  {
   "cell_type": "code",
   "execution_count": 24,
   "metadata": {},
   "outputs": [
    {
     "data": {
      "text/html": [
       "<div>\n",
       "<style scoped>\n",
       "    .dataframe tbody tr th:only-of-type {\n",
       "        vertical-align: middle;\n",
       "    }\n",
       "\n",
       "    .dataframe tbody tr th {\n",
       "        vertical-align: top;\n",
       "    }\n",
       "\n",
       "    .dataframe thead th {\n",
       "        text-align: right;\n",
       "    }\n",
       "</style>\n",
       "<table border=\"1\" class=\"dataframe\">\n",
       "  <thead>\n",
       "    <tr style=\"text-align: right;\">\n",
       "      <th></th>\n",
       "      <th>name</th>\n",
       "      <th>href</th>\n",
       "      <th>tokenized_text</th>\n",
       "      <th>lda_topic0_match_pct</th>\n",
       "      <th>lda_topic1_match_pct</th>\n",
       "      <th>lda_topic2_match_pct</th>\n",
       "      <th>lda_topic3_match_pct</th>\n",
       "      <th>lda_topic4_match_pct</th>\n",
       "    </tr>\n",
       "  </thead>\n",
       "  <tbody>\n",
       "    <tr>\n",
       "      <th>0</th>\n",
       "      <td>Game of Thrones</td>\n",
       "      <td>/title/tt0944947/</td>\n",
       "      <td>nine noble family fight control land westeros ...</td>\n",
       "      <td>0.009947</td>\n",
       "      <td>0.960270</td>\n",
       "      <td>0.009928</td>\n",
       "      <td>0.009928</td>\n",
       "      <td>0.009928</td>\n",
       "    </tr>\n",
       "    <tr>\n",
       "      <th>1</th>\n",
       "      <td>Prison Break</td>\n",
       "      <td>/title/tt0455275/</td>\n",
       "      <td>due political conspiracy innocent man send dea...</td>\n",
       "      <td>0.019565</td>\n",
       "      <td>0.926716</td>\n",
       "      <td>0.017906</td>\n",
       "      <td>0.017906</td>\n",
       "      <td>0.017906</td>\n",
       "    </tr>\n",
       "    <tr>\n",
       "      <th>2</th>\n",
       "      <td>Vikings</td>\n",
       "      <td>/title/tt2306299/</td>\n",
       "      <td>vikings transport us brutal mysterious world r...</td>\n",
       "      <td>0.025214</td>\n",
       "      <td>0.899254</td>\n",
       "      <td>0.025177</td>\n",
       "      <td>0.025177</td>\n",
       "      <td>0.025177</td>\n",
       "    </tr>\n",
       "    <tr>\n",
       "      <th>3</th>\n",
       "      <td>The Boys</td>\n",
       "      <td>/title/tt1190634/</td>\n",
       "      <td>group vigilante set take corrupt superheroes a...</td>\n",
       "      <td>0.015936</td>\n",
       "      <td>0.936501</td>\n",
       "      <td>0.015854</td>\n",
       "      <td>0.015854</td>\n",
       "      <td>0.015854</td>\n",
       "    </tr>\n",
       "    <tr>\n",
       "      <th>4</th>\n",
       "      <td>The Mandalorian</td>\n",
       "      <td>/title/tt8111088/</td>\n",
       "      <td>travel lone bounty hunter outer reach galaxy f...</td>\n",
       "      <td>0.018289</td>\n",
       "      <td>0.926854</td>\n",
       "      <td>0.018286</td>\n",
       "      <td>0.018286</td>\n",
       "      <td>0.018286</td>\n",
       "    </tr>\n",
       "  </tbody>\n",
       "</table>\n",
       "</div>"
      ],
      "text/plain": [
       "              name               href  \\\n",
       "0  Game of Thrones  /title/tt0944947/   \n",
       "1     Prison Break  /title/tt0455275/   \n",
       "2          Vikings  /title/tt2306299/   \n",
       "3         The Boys  /title/tt1190634/   \n",
       "4  The Mandalorian  /title/tt8111088/   \n",
       "\n",
       "                                      tokenized_text  lda_topic0_match_pct  \\\n",
       "0  nine noble family fight control land westeros ...              0.009947   \n",
       "1  due political conspiracy innocent man send dea...              0.019565   \n",
       "2  vikings transport us brutal mysterious world r...              0.025214   \n",
       "3  group vigilante set take corrupt superheroes a...              0.015936   \n",
       "4  travel lone bounty hunter outer reach galaxy f...              0.018289   \n",
       "\n",
       "   lda_topic1_match_pct  lda_topic2_match_pct  lda_topic3_match_pct  \\\n",
       "0              0.960270              0.009928              0.009928   \n",
       "1              0.926716              0.017906              0.017906   \n",
       "2              0.899254              0.025177              0.025177   \n",
       "3              0.936501              0.015854              0.015854   \n",
       "4              0.926854              0.018286              0.018286   \n",
       "\n",
       "   lda_topic4_match_pct  \n",
       "0              0.009928  \n",
       "1              0.017906  \n",
       "2              0.025177  \n",
       "3              0.015854  \n",
       "4              0.018286  "
      ]
     },
     "execution_count": 24,
     "metadata": {},
     "output_type": "execute_result"
    }
   ],
   "source": [
    "df.head()"
   ]
  },
  {
   "cell_type": "code",
   "execution_count": 25,
   "metadata": {},
   "outputs": [
    {
     "data": {
      "text/plain": [
       "(2484, 8)"
      ]
     },
     "execution_count": 25,
     "metadata": {},
     "output_type": "execute_result"
    }
   ],
   "source": [
    "df.shape"
   ]
  },
  {
   "cell_type": "code",
   "execution_count": null,
   "metadata": {},
   "outputs": [],
   "source": []
  },
  {
   "attachments": {},
   "cell_type": "markdown",
   "metadata": {},
   "source": [
    "# LSA model"
   ]
  },
  {
   "cell_type": "code",
   "execution_count": 26,
   "metadata": {},
   "outputs": [],
   "source": [
    "# Technique reference: (Avinash Navlani) https://machinelearninggeek.com/latent-semantic-indexing-using-scikit-learn/\n",
    "\n",
    "\n",
    "# Define the number of topics or components\n",
    "num_components=10\n",
    "\n",
    "# Create SVD object\n",
    "lsa = TruncatedSVD(n_components=num_components, n_iter=100, random_state=42)\n",
    "\n",
    "# Fit SVD model on data\n",
    "lsa_results = lsa.fit_transform(dtm_tfidf)\n",
    "\n",
    "# Get Singular values and Components \n",
    "Sigma = lsa.singular_values_ \n",
    "V_transpose = lsa.components_.T"
   ]
  },
  {
   "cell_type": "code",
   "execution_count": 27,
   "metadata": {},
   "outputs": [],
   "source": [
    "# Technique reference: (Avinash Navlani) https://machinelearninggeek.com/latent-semantic-indexing-using-scikit-learn/\n",
    "\n",
    "# Print the topics with their terms\n",
    "\n",
    "def lsa_topics_out(tfidf_vectorizer, svd_object):\n",
    "    terms = tfidf_vectorizer.get_feature_names_out()\n",
    "\n",
    "    for index, component in enumerate(svd_object.components_):\n",
    "        zipped = zip(terms, component)\n",
    "        top_terms_key=sorted(zipped, key = lambda t: t[1], reverse=True)[:10]\n",
    "        top_terms_list=list(dict(top_terms_key).keys())\n",
    "        print(\"Topic \"+str(index)+\": \",top_terms_list)\n",
    "\n",
    "    return"
   ]
  },
  {
   "cell_type": "code",
   "execution_count": 28,
   "metadata": {},
   "outputs": [
    {
     "name": "stdout",
     "output_type": "stream",
     "text": [
      "Topic 0:  ['comedy', 'animation', 'crime', 'adventure', 'action', 'romance', 'mystery', 'anime', 'fantasy', 'novel']\n",
      "Topic 1:  ['crime', 'mystery', 'murder', 'investigation', 'thriller', 'detective', 'police', 'documentary', 'biography', 'miniseries']\n",
      "Topic 2:  ['comedy', 'romance', 'sitcom', 'friendship', 'workplace', 'lgbt', 'teen', 'school', 'relationship', 'satire']\n",
      "Topic 3:  ['horror', 'fantasy', 'romance', 'novel', 'book', 'supernatural', 'mystery', 'anthology', 'vampire', 'sci']\n",
      "Topic 4:  ['romance', 'anime', 'manga', 'shounen', 'school', 'novel', 'crime', 'biography', 'seinen', 'slice']\n",
      "Topic 5:  ['documentary', 'biography', 'miniseries', 'adventure', 'history', 'action', 'war', 'superhero', 'alien', 'historical']\n",
      "Topic 6:  ['documentary', 'anime', 'biography', 'horror', 'fantasy', 'manga', 'animation', 'supernatural', 'miniseries', 'anthology']\n",
      "Topic 7:  ['thriller', 'documentary', 'anime', 'psychological', 'sci', 'manga', 'horror', 'comedy', 'conspiracy', 'sport']\n",
      "Topic 8:  ['mystery', 'animation', 'sci', 'alien', 'documentary', 'novel', 'space', 'murder', 'book', 'miniseries']\n",
      "Topic 9:  ['animation', 'romance', 'horror', 'biography', 'thriller', 'adult', 'anthology', 'cartoon', 'superhero', 'short']\n"
     ]
    }
   ],
   "source": [
    "lsa_topics_out(tfidf_vectorizer, lsa)"
   ]
  },
  {
   "cell_type": "code",
   "execution_count": 29,
   "metadata": {},
   "outputs": [],
   "source": [
    "# Technique reference: (Mimi Dutta) https://www.analyticsvidhya.com/blog/2021/07/topic-modelling-with-lda-a-hands-on-introduction/\n",
    "\n",
    "def make_lsa_topic_pct_cols(lsa_results, df_to_append_to):\n",
    "    for j in tqdm(range(len(df_to_append_to))):\n",
    "        for i,topic in enumerate(lsa_results[j]):\n",
    "            df_to_append_to.loc[j, f\"lsa_topic{i}_cos_match\"] = topic\n",
    "    return"
   ]
  },
  {
   "cell_type": "code",
   "execution_count": 30,
   "metadata": {},
   "outputs": [
    {
     "name": "stderr",
     "output_type": "stream",
     "text": [
      "100%|██████████| 2484/2484 [00:01<00:00, 2152.42it/s]\n"
     ]
    }
   ],
   "source": [
    "make_lsa_topic_pct_cols(lsa_results, df)"
   ]
  },
  {
   "cell_type": "code",
   "execution_count": 31,
   "metadata": {},
   "outputs": [
    {
     "data": {
      "text/html": [
       "<div>\n",
       "<style scoped>\n",
       "    .dataframe tbody tr th:only-of-type {\n",
       "        vertical-align: middle;\n",
       "    }\n",
       "\n",
       "    .dataframe tbody tr th {\n",
       "        vertical-align: top;\n",
       "    }\n",
       "\n",
       "    .dataframe thead th {\n",
       "        text-align: right;\n",
       "    }\n",
       "</style>\n",
       "<table border=\"1\" class=\"dataframe\">\n",
       "  <thead>\n",
       "    <tr style=\"text-align: right;\">\n",
       "      <th></th>\n",
       "      <th>name</th>\n",
       "      <th>href</th>\n",
       "      <th>tokenized_text</th>\n",
       "      <th>lda_topic0_match_pct</th>\n",
       "      <th>lda_topic1_match_pct</th>\n",
       "      <th>lda_topic2_match_pct</th>\n",
       "      <th>lda_topic3_match_pct</th>\n",
       "      <th>lda_topic4_match_pct</th>\n",
       "      <th>lsa_topic0_cos_match</th>\n",
       "      <th>lsa_topic1_cos_match</th>\n",
       "      <th>lsa_topic2_cos_match</th>\n",
       "      <th>lsa_topic3_cos_match</th>\n",
       "      <th>lsa_topic4_cos_match</th>\n",
       "      <th>lsa_topic5_cos_match</th>\n",
       "      <th>lsa_topic6_cos_match</th>\n",
       "      <th>lsa_topic7_cos_match</th>\n",
       "      <th>lsa_topic8_cos_match</th>\n",
       "      <th>lsa_topic9_cos_match</th>\n",
       "    </tr>\n",
       "  </thead>\n",
       "  <tbody>\n",
       "    <tr>\n",
       "      <th>0</th>\n",
       "      <td>Game of Thrones</td>\n",
       "      <td>/title/tt0944947/</td>\n",
       "      <td>nine noble family fight control land westeros ...</td>\n",
       "      <td>0.009947</td>\n",
       "      <td>0.960270</td>\n",
       "      <td>0.009928</td>\n",
       "      <td>0.009928</td>\n",
       "      <td>0.009928</td>\n",
       "      <td>0.268433</td>\n",
       "      <td>-0.020426</td>\n",
       "      <td>-0.090606</td>\n",
       "      <td>0.210743</td>\n",
       "      <td>-0.063944</td>\n",
       "      <td>0.141392</td>\n",
       "      <td>-0.023703</td>\n",
       "      <td>-0.087125</td>\n",
       "      <td>-0.060328</td>\n",
       "      <td>-0.034420</td>\n",
       "    </tr>\n",
       "    <tr>\n",
       "      <th>1</th>\n",
       "      <td>Prison Break</td>\n",
       "      <td>/title/tt0455275/</td>\n",
       "      <td>due political conspiracy innocent man send dea...</td>\n",
       "      <td>0.019565</td>\n",
       "      <td>0.926716</td>\n",
       "      <td>0.017906</td>\n",
       "      <td>0.017906</td>\n",
       "      <td>0.017906</td>\n",
       "      <td>0.137642</td>\n",
       "      <td>0.094227</td>\n",
       "      <td>-0.045861</td>\n",
       "      <td>-0.034546</td>\n",
       "      <td>0.009111</td>\n",
       "      <td>0.031247</td>\n",
       "      <td>-0.046990</td>\n",
       "      <td>0.009384</td>\n",
       "      <td>-0.067450</td>\n",
       "      <td>-0.029514</td>\n",
       "    </tr>\n",
       "    <tr>\n",
       "      <th>2</th>\n",
       "      <td>Vikings</td>\n",
       "      <td>/title/tt2306299/</td>\n",
       "      <td>vikings transport us brutal mysterious world r...</td>\n",
       "      <td>0.025214</td>\n",
       "      <td>0.899254</td>\n",
       "      <td>0.025177</td>\n",
       "      <td>0.025177</td>\n",
       "      <td>0.025177</td>\n",
       "      <td>0.118722</td>\n",
       "      <td>-0.028396</td>\n",
       "      <td>-0.080808</td>\n",
       "      <td>0.027768</td>\n",
       "      <td>0.016996</td>\n",
       "      <td>0.127396</td>\n",
       "      <td>-0.056874</td>\n",
       "      <td>-0.040274</td>\n",
       "      <td>-0.029825</td>\n",
       "      <td>-0.022236</td>\n",
       "    </tr>\n",
       "    <tr>\n",
       "      <th>3</th>\n",
       "      <td>The Boys</td>\n",
       "      <td>/title/tt1190634/</td>\n",
       "      <td>group vigilante set take corrupt superheroes a...</td>\n",
       "      <td>0.015936</td>\n",
       "      <td>0.936501</td>\n",
       "      <td>0.015854</td>\n",
       "      <td>0.015854</td>\n",
       "      <td>0.015854</td>\n",
       "      <td>0.295292</td>\n",
       "      <td>0.046381</td>\n",
       "      <td>-0.039057</td>\n",
       "      <td>-0.106146</td>\n",
       "      <td>-0.076353</td>\n",
       "      <td>0.074971</td>\n",
       "      <td>-0.130190</td>\n",
       "      <td>-0.068372</td>\n",
       "      <td>-0.248528</td>\n",
       "      <td>0.035764</td>\n",
       "    </tr>\n",
       "    <tr>\n",
       "      <th>4</th>\n",
       "      <td>The Mandalorian</td>\n",
       "      <td>/title/tt8111088/</td>\n",
       "      <td>travel lone bounty hunter outer reach galaxy f...</td>\n",
       "      <td>0.018289</td>\n",
       "      <td>0.926854</td>\n",
       "      <td>0.018286</td>\n",
       "      <td>0.018286</td>\n",
       "      <td>0.018286</td>\n",
       "      <td>0.149727</td>\n",
       "      <td>-0.046886</td>\n",
       "      <td>-0.102071</td>\n",
       "      <td>0.059495</td>\n",
       "      <td>-0.065898</td>\n",
       "      <td>0.123360</td>\n",
       "      <td>-0.100009</td>\n",
       "      <td>-0.042234</td>\n",
       "      <td>0.005015</td>\n",
       "      <td>-0.119780</td>\n",
       "    </tr>\n",
       "  </tbody>\n",
       "</table>\n",
       "</div>"
      ],
      "text/plain": [
       "              name               href  \\\n",
       "0  Game of Thrones  /title/tt0944947/   \n",
       "1     Prison Break  /title/tt0455275/   \n",
       "2          Vikings  /title/tt2306299/   \n",
       "3         The Boys  /title/tt1190634/   \n",
       "4  The Mandalorian  /title/tt8111088/   \n",
       "\n",
       "                                      tokenized_text  lda_topic0_match_pct  \\\n",
       "0  nine noble family fight control land westeros ...              0.009947   \n",
       "1  due political conspiracy innocent man send dea...              0.019565   \n",
       "2  vikings transport us brutal mysterious world r...              0.025214   \n",
       "3  group vigilante set take corrupt superheroes a...              0.015936   \n",
       "4  travel lone bounty hunter outer reach galaxy f...              0.018289   \n",
       "\n",
       "   lda_topic1_match_pct  lda_topic2_match_pct  lda_topic3_match_pct  \\\n",
       "0              0.960270              0.009928              0.009928   \n",
       "1              0.926716              0.017906              0.017906   \n",
       "2              0.899254              0.025177              0.025177   \n",
       "3              0.936501              0.015854              0.015854   \n",
       "4              0.926854              0.018286              0.018286   \n",
       "\n",
       "   lda_topic4_match_pct  lsa_topic0_cos_match  lsa_topic1_cos_match  \\\n",
       "0              0.009928              0.268433             -0.020426   \n",
       "1              0.017906              0.137642              0.094227   \n",
       "2              0.025177              0.118722             -0.028396   \n",
       "3              0.015854              0.295292              0.046381   \n",
       "4              0.018286              0.149727             -0.046886   \n",
       "\n",
       "   lsa_topic2_cos_match  lsa_topic3_cos_match  lsa_topic4_cos_match  \\\n",
       "0             -0.090606              0.210743             -0.063944   \n",
       "1             -0.045861             -0.034546              0.009111   \n",
       "2             -0.080808              0.027768              0.016996   \n",
       "3             -0.039057             -0.106146             -0.076353   \n",
       "4             -0.102071              0.059495             -0.065898   \n",
       "\n",
       "   lsa_topic5_cos_match  lsa_topic6_cos_match  lsa_topic7_cos_match  \\\n",
       "0              0.141392             -0.023703             -0.087125   \n",
       "1              0.031247             -0.046990              0.009384   \n",
       "2              0.127396             -0.056874             -0.040274   \n",
       "3              0.074971             -0.130190             -0.068372   \n",
       "4              0.123360             -0.100009             -0.042234   \n",
       "\n",
       "   lsa_topic8_cos_match  lsa_topic9_cos_match  \n",
       "0             -0.060328             -0.034420  \n",
       "1             -0.067450             -0.029514  \n",
       "2             -0.029825             -0.022236  \n",
       "3             -0.248528              0.035764  \n",
       "4              0.005015             -0.119780  "
      ]
     },
     "execution_count": 31,
     "metadata": {},
     "output_type": "execute_result"
    }
   ],
   "source": [
    "df.head()"
   ]
  },
  {
   "cell_type": "code",
   "execution_count": 32,
   "metadata": {},
   "outputs": [
    {
     "data": {
      "text/plain": [
       "(2484, 18)"
      ]
     },
     "execution_count": 32,
     "metadata": {},
     "output_type": "execute_result"
    }
   ],
   "source": [
    "df.shape"
   ]
  },
  {
   "cell_type": "code",
   "execution_count": null,
   "metadata": {},
   "outputs": [],
   "source": []
  },
  {
   "attachments": {},
   "cell_type": "markdown",
   "metadata": {},
   "source": [
    "## Force LDA evaluate with different parameters"
   ]
  },
  {
   "attachments": {},
   "cell_type": "markdown",
   "metadata": {},
   "source": [
    "#### Generate same output items for forced alternate (20+ topic) model"
   ]
  },
  {
   "cell_type": "code",
   "execution_count": 33,
   "metadata": {},
   "outputs": [],
   "source": [
    "# Define Grid Search Parameters\n",
    "search_params2 = {'n_components': [20, 30],       # testing suggests it always picks 5 topics as \"best\"\n",
    "                    'learning_decay': [.5, .7, .9]}     # does not always return same \"best\" learning decay"
   ]
  },
  {
   "cell_type": "code",
   "execution_count": 34,
   "metadata": {},
   "outputs": [
    {
     "name": "stdout",
     "output_type": "stream",
     "text": [
      "Fitting 5 folds for each of 6 candidates, totalling 30 fits\n",
      "Best Model's Params:  {'learning_decay': 0.9, 'n_components': 20}\n",
      "Model Log Likelihood Score:  -60028.66769194584\n",
      "Model Perplexity:  94660.36881659045\n"
     ]
    },
    {
     "data": {
      "image/png": "[encoded data removed]",
      "text/plain": [
       "<Figure size 1200x800 with 1 Axes>"
      ]
     },
     "metadata": {},
     "output_type": "display_data"
    }
   ],
   "source": [
    "# tfidf_vectorizer, dtm_tfidf = make_tfidf(input_df, text_colname)\n",
    "model_gs2, best_lda_model2 = lda_gridsearch(dtm_tfidf, search_params2)\n",
    "lda_plot_performance(model_gs2, search_params2)"
   ]
  },
  {
   "cell_type": "code",
   "execution_count": 35,
   "metadata": {},
   "outputs": [
    {
     "name": "stderr",
     "output_type": "stream",
     "text": [
      "20it [00:00, 656.58it/s]\n"
     ]
    },
    {
     "data": {
      "text/html": [
       "<div>\n",
       "<style scoped>\n",
       "    .dataframe tbody tr th:only-of-type {\n",
       "        vertical-align: middle;\n",
       "    }\n",
       "\n",
       "    .dataframe tbody tr th {\n",
       "        vertical-align: top;\n",
       "    }\n",
       "\n",
       "    .dataframe thead th {\n",
       "        text-align: right;\n",
       "    }\n",
       "</style>\n",
       "<table border=\"1\" class=\"dataframe\">\n",
       "  <thead>\n",
       "    <tr style=\"text-align: right;\">\n",
       "      <th></th>\n",
       "      <th>Topic 1 words</th>\n",
       "      <th>Topic 1 weights</th>\n",
       "      <th>Topic 2 words</th>\n",
       "      <th>Topic 2 weights</th>\n",
       "      <th>Topic 3 words</th>\n",
       "      <th>Topic 3 weights</th>\n",
       "      <th>Topic 4 words</th>\n",
       "      <th>Topic 4 weights</th>\n",
       "      <th>Topic 5 words</th>\n",
       "      <th>Topic 5 weights</th>\n",
       "      <th>...</th>\n",
       "      <th>Topic 16 words</th>\n",
       "      <th>Topic 16 weights</th>\n",
       "      <th>Topic 17 words</th>\n",
       "      <th>Topic 17 weights</th>\n",
       "      <th>Topic 18 words</th>\n",
       "      <th>Topic 18 weights</th>\n",
       "      <th>Topic 19 words</th>\n",
       "      <th>Topic 19 weights</th>\n",
       "      <th>Topic 20 words</th>\n",
       "      <th>Topic 20 weights</th>\n",
       "    </tr>\n",
       "  </thead>\n",
       "  <tbody>\n",
       "    <tr>\n",
       "      <th>0</th>\n",
       "      <td>comedy</td>\n",
       "      <td>170.3</td>\n",
       "      <td>romance</td>\n",
       "      <td>37.7</td>\n",
       "      <td>psychotherapist</td>\n",
       "      <td>1.7</td>\n",
       "      <td>halo</td>\n",
       "      <td>1.5</td>\n",
       "      <td>smuggling</td>\n",
       "      <td>0.9</td>\n",
       "      <td>...</td>\n",
       "      <td>startup</td>\n",
       "      <td>1.8</td>\n",
       "      <td>roswell</td>\n",
       "      <td>1.2</td>\n",
       "      <td>culinary</td>\n",
       "      <td>2.7</td>\n",
       "      <td>anime</td>\n",
       "      <td>52.6</td>\n",
       "      <td>arcadia</td>\n",
       "      <td>1.7</td>\n",
       "    </tr>\n",
       "    <tr>\n",
       "      <th>1</th>\n",
       "      <td>crime</td>\n",
       "      <td>134.5</td>\n",
       "      <td>lgbt</td>\n",
       "      <td>21.8</td>\n",
       "      <td>bake</td>\n",
       "      <td>1.3</td>\n",
       "      <td>jockey</td>\n",
       "      <td>1.1</td>\n",
       "      <td>empress</td>\n",
       "      <td>0.6</td>\n",
       "      <td>...</td>\n",
       "      <td>silicon</td>\n",
       "      <td>1.2</td>\n",
       "      <td>quebec</td>\n",
       "      <td>0.8</td>\n",
       "      <td>elves</td>\n",
       "      <td>2.1</td>\n",
       "      <td>manga</td>\n",
       "      <td>33.5</td>\n",
       "      <td>nye</td>\n",
       "      <td>1.1</td>\n",
       "    </tr>\n",
       "    <tr>\n",
       "      <th>2</th>\n",
       "      <td>animation</td>\n",
       "      <td>111.3</td>\n",
       "      <td>sport</td>\n",
       "      <td>21.1</td>\n",
       "      <td>camelot</td>\n",
       "      <td>0.9</td>\n",
       "      <td>cheerleading</td>\n",
       "      <td>1.0</td>\n",
       "      <td>austria</td>\n",
       "      <td>0.6</td>\n",
       "      <td>...</td>\n",
       "      <td>manufacturing</td>\n",
       "      <td>0.8</td>\n",
       "      <td>improv</td>\n",
       "      <td>0.6</td>\n",
       "      <td>stargate</td>\n",
       "      <td>2.1</td>\n",
       "      <td>shounen</td>\n",
       "      <td>16.7</td>\n",
       "      <td>shaman</td>\n",
       "      <td>1.1</td>\n",
       "    </tr>\n",
       "    <tr>\n",
       "      <th>3</th>\n",
       "      <td>adventure</td>\n",
       "      <td>104.9</td>\n",
       "      <td>competition</td>\n",
       "      <td>15.5</td>\n",
       "      <td>tulsa</td>\n",
       "      <td>0.9</td>\n",
       "      <td>mork</td>\n",
       "      <td>0.8</td>\n",
       "      <td>lifeguard</td>\n",
       "      <td>0.5</td>\n",
       "      <td>...</td>\n",
       "      <td>narcissist</td>\n",
       "      <td>0.6</td>\n",
       "      <td>chainsaw</td>\n",
       "      <td>0.6</td>\n",
       "      <td>cooking</td>\n",
       "      <td>1.6</td>\n",
       "      <td>seinen</td>\n",
       "      <td>10.1</td>\n",
       "      <td>catastrophe</td>\n",
       "      <td>1.0</td>\n",
       "    </tr>\n",
       "    <tr>\n",
       "      <th>4</th>\n",
       "      <td>action</td>\n",
       "      <td>103.5</td>\n",
       "      <td>spy</td>\n",
       "      <td>14.3</td>\n",
       "      <td>bronx</td>\n",
       "      <td>0.8</td>\n",
       "      <td>booster</td>\n",
       "      <td>0.6</td>\n",
       "      <td>swimming</td>\n",
       "      <td>0.4</td>\n",
       "      <td>...</td>\n",
       "      <td>postman</td>\n",
       "      <td>0.6</td>\n",
       "      <td>improvisation</td>\n",
       "      <td>0.5</td>\n",
       "      <td>puppetry</td>\n",
       "      <td>1.4</td>\n",
       "      <td>animation</td>\n",
       "      <td>8.4</td>\n",
       "      <td>docudrama</td>\n",
       "      <td>0.9</td>\n",
       "    </tr>\n",
       "  </tbody>\n",
       "</table>\n",
       "<p>5 rows × 40 columns</p>\n",
       "</div>"
      ],
      "text/plain": [
       "  Topic 1 words Topic 1 weights Topic 2 words Topic 2 weights  \\\n",
       "0        comedy           170.3       romance            37.7   \n",
       "1         crime           134.5          lgbt            21.8   \n",
       "2     animation           111.3         sport            21.1   \n",
       "3     adventure           104.9   competition            15.5   \n",
       "4        action           103.5           spy            14.3   \n",
       "\n",
       "     Topic 3 words Topic 3 weights Topic 4 words Topic 4 weights  \\\n",
       "0  psychotherapist             1.7          halo             1.5   \n",
       "1             bake             1.3        jockey             1.1   \n",
       "2          camelot             0.9  cheerleading             1.0   \n",
       "3            tulsa             0.9          mork             0.8   \n",
       "4            bronx             0.8       booster             0.6   \n",
       "\n",
       "  Topic 5 words Topic 5 weights  ... Topic 16 words Topic 16 weights  \\\n",
       "0     smuggling             0.9  ...        startup              1.8   \n",
       "1       empress             0.6  ...        silicon              1.2   \n",
       "2       austria             0.6  ...  manufacturing              0.8   \n",
       "3     lifeguard             0.5  ...     narcissist              0.6   \n",
       "4      swimming             0.4  ...        postman              0.6   \n",
       "\n",
       "  Topic 17 words Topic 17 weights Topic 18 words Topic 18 weights  \\\n",
       "0        roswell              1.2       culinary              2.7   \n",
       "1         quebec              0.8          elves              2.1   \n",
       "2         improv              0.6       stargate              2.1   \n",
       "3       chainsaw              0.6        cooking              1.6   \n",
       "4  improvisation              0.5       puppetry              1.4   \n",
       "\n",
       "  Topic 19 words Topic 19 weights Topic 20 words Topic 20 weights  \n",
       "0          anime             52.6        arcadia              1.7  \n",
       "1          manga             33.5            nye              1.1  \n",
       "2        shounen             16.7         shaman              1.1  \n",
       "3         seinen             10.1    catastrophe              1.0  \n",
       "4      animation              8.4      docudrama              0.9  \n",
       "\n",
       "[5 rows x 40 columns]"
      ]
     },
     "execution_count": 35,
     "metadata": {},
     "output_type": "execute_result"
    }
   ],
   "source": [
    "lda_topic_words2 = display_topics(best_lda_model2, tfidf_vectorizer.get_feature_names_out(), n_top_words = 30) \n",
    "lda_topic_words2.head()"
   ]
  },
  {
   "cell_type": "code",
   "execution_count": 36,
   "metadata": {},
   "outputs": [
    {
     "name": "stderr",
     "output_type": "stream",
     "text": [
      "d:\\anaconda3\\lib\\site-packages\\pyLDAvis\\_prepare.py:243: FutureWarning: In a future version of pandas all arguments of DataFrame.drop except for the argument 'labels' will be keyword-only.\n",
      "  default_term_info = default_term_info.sort_values(\n"
     ]
    },
    {
     "data": {
      "text/html": [
       "\n",
       "<link rel=\"stylesheet\" type=\"text/css\" href=\"https://cdn.jsdelivr.net/gh/bmabey/pyLDAvis@3.4.0/pyLDAvis/js/ldavis.v1.0.0.css\">\n",
       "\n",
       "\n",
       "<div id=\"ldavis_el2467625348523180329825511863\" style=\"background-color:white;\"></div>\n",
       "<script type=\"text/javascript\">\n",
       "\n",
       "var ldavis_el2467625348523180329825511863_data = {\"mdsDat\": {\"x\": [0.24181546191427286, -0.2178234864973028, -0.004159184048033355, -0.002783869281658126, -0.002017796653042963, -0.0017177728601035014, -0.0016211725464556099, -0.0016285075233703923, -0.0012756522424654485, -0.0017677931978092862, -0.0007513919201905548, -0.0007771373804129609, -0.0010004900581469368, -0.0007290290737297487, -0.0007214052062816145, -0.0007073126884362579, -0.000496768499464323, -0.000975332033283043, -0.00047228334735426145, -0.00038907685673178244], \"y\": [-0.052951177114495256, -0.06105554328605, 0.11641780545935686, 0.0049200351590667725, 0.0009299400405107477, 0.0001687596701598543, 0.00182345911812185, -0.0005204956307425214, -0.00023855859355897458, -0.0004545257659066198, 0.0002003251313022948, 0.00015713308043533786, -0.0009834682347622389, -0.000797979460401847, -0.0008975227373135198, -0.001259182655267639, -0.000850517235524814, -0.001678237031737286, -0.0014211201562369833, -0.0015091297569564302], \"topics\": [1, 2, 3, 4, 5, 6, 7, 8, 9, 10, 11, 12, 13, 14, 15, 16, 17, 18, 19, 20], \"cluster\": [1, 1, 1, 1, 1, 1, 1, 1, 1, 1, 1, 1, 1, 1, 1, 1, 1, 1, 1, 1], \"Freq\": [70.85238833450974, 15.607919919020311, 2.3077328406766755, 0.860118088257604, 0.6963608734726525, 0.696069586143803, 0.6907811918773833, 0.6668421227093758, 0.659603137845623, 0.6592766166436763, 0.6537242914048544, 0.6525167768728497, 0.6435264965206238, 0.6375070928332126, 0.6275647902384042, 0.624362584099394, 0.6219575078701071, 0.6206469101889946, 0.6145446393677325, 0.6065561994469899]}, \"tinfo\": {\"Term\": [\"animation\", \"anime\", \"romance\", \"manga\", \"lgbt\", \"super\", \"sport\", \"crime\", \"shounen\", \"marvel\", \"martial\", \"action\", \"japanese\", \"competition\", \"arts\", \"adventure\", \"demon\", \"spy\", \"dragon\", \"volume\", \"english\", \"mystery\", \"noir\", \"seinen\", \"dystopia\", \"protagonist\", \"tragedy\", \"school\", \"japan\", \"lawyer\", \"crime\", \"adventure\", \"mystery\", \"fantasy\", \"thriller\", \"novel\", \"documentary\", \"horror\", \"book\", \"sci\", \"miniseries\", \"action\", \"murder\", \"detective\", \"biography\", \"investigation\", \"police\", \"history\", \"superhero\", \"supernatural\", \"alien\", \"england\", \"war\", \"power\", \"space\", \"adult\", \"city\", \"comic\", \"historical\", \"york\", \"animation\", \"comedy\", \"sitcom\", \"romance\", \"relationship\", \"school\", \"lgbt\", \"sport\", \"competition\", \"spy\", \"protagonist\", \"lawyer\", \"gay\", \"sports\", \"zombie\", \"slice\", \"triangle\", \"football\", \"religion\", \"invasion\", \"abuse\", \"superhuman\", \"espionage\", \"surrealism\", \"romantic\", \"teacher\", \"florida\", \"cult\", \"moon\", \"restaurant\", \"courtroom\", \"dealer\", \"hidden\", \"soccer\", \"affair\", \"hotel\", \"food\", \"demon\", \"romance\", \"school\", \"friendship\", \"comedy\", \"manga\", \"shounen\", \"seinen\", \"cyberpunk\", \"ecchi\", \"harem\", \"gunfight\", \"swordplay\", \"mecha\", \"anime\", \"shonen\", \"drastic\", \"funimation\", \"tournament\", \"deity\", \"unrated\", \"catholicism\", \"terrorism\", \"steampunk\", \"crunchyroll\", \"tankobon\", \"ova\", \"shueisha\", \"kodansha\", \"tokyo\", \"viz\", \"tragedy\", \"circulation\", \"sonic\", \"alchemist\", \"angst\", \"japan\", \"japanese\", \"amnesia\", \"fighting\", \"gore\", \"dystopia\", \"martial\", \"volume\", \"demon\", \"animation\", \"arts\", \"english\", \"morgue\", \"mcu\", \"extramarital\", \"prehistoric\", \"jedi\", \"dinosaur\", \"mandalorian\", \"lucasfilm\", \"showbiz\", \"avengers\", \"telenovela\", \"whedon\", \"cinematic\", \"hulk\", \"standoff\", \"spider\", \"loki\", \"dinosaurs\", \"nikita\", \"skywalker\", \"obi\", \"feige\", \"darth\", \"ottoman\", \"murdoch\", \"sith\", \"locomotive\", \"wandavision\", \"droid\", \"callback\", \"marvel\", \"midwife\", \"osman\", \"nazi\", \"snl\", \"mining\", \"loeb\", \"warden\", \"disorders\", \"sorcery\", \"nordic\", \"yakuza\", \"dissociative\", \"mushroom\", \"schizophrenia\", \"antisocial\", \"outpost\", \"hamptons\", \"napoleon\", \"excalibur\", \"kimetsu\", \"furry\", \"aristocratic\", \"yaiba\", \"goof\", \"maniac\", \"miniature\", \"craftsman\", \"atomic\", \"reactor\", \"lund\", \"extinction\", \"noir\", \"border\", \"yle\", \"alchemy\", \"sybil\", \"jurgen\", \"nazi\", \"wellness\", \"culinary\", \"puppetry\", \"stargate\", \"elves\", \"muppets\", \"nashville\", \"cuisine\", \"atlantis\", \"steed\", \"dining\", \"aging\", \"tennessee\", \"diplomacy\", \"housework\", \"ponzi\", \"shipwreck\", \"illustrator\", \"egypt\", \"panda\", \"antique\", \"architect\", \"cooking\", \"iowa\", \"avengers\", \"kung\", \"cosmos\", \"chef\", \"wookieepedia\", \"kikuchi\", \"eisenbeis\", \"cook\", \"food\", \"arts\", \"naruto\", \"stripper\", \"neo\", \"weasel\", \"parenting\", \"jackass\", \"kishimoto\", \"graffiti\", \"tong\", \"apps\", \"pyo\", \"chappelle\", \"challenger\", \"personification\", \"drag\", \"capitalist\", \"miner\", \"shuttle\", \"rupaul\", \"deadwood\", \"filmmaking\", \"noir\", \"volcano\", \"mining\", \"saloon\", \"godfather\", \"impersonation\", \"ninja\", \"wookieepedia\", \"kikuchi\", \"lip\", \"nasa\", \"mermaid\", \"charmed\", \"autobiography\", \"ewing\", \"genocide\", \"laundering\", \"cattle\", \"memoir\", \"bosch\", \"siren\", \"mcleod\", \"cadet\", \"dictatorship\", \"dictator\", \"bipolar\", \"starve\", \"halo\", \"concentration\", \"slacker\", \"psychotic\", \"unto\", \"trend\", \"colonies\", \"ranch\", \"entrepreneur\", \"wookieepedia\", \"kikuchi\", \"eisenbeis\", \"shigeru\", \"toshio\", \"neo\", \"western\", \"deity\", \"bomber\", \"oil\", \"cannabis\", \"viking\", \"norse\", \"nobility\", \"drowned\", \"autobiographical\", \"staten\", \"vikings\", \"nordic\", \"aquatic\", \"daria\", \"mozart\", \"rig\", \"capitalism\", \"eddy\", \"sarcasm\", \"laundering\", \"biologist\", \"biker\", \"gangs\", \"wet\", \"beating\", \"painting\", \"eiji\", \"elevator\", \"oil\", \"reenactment\", \"wookieepedia\", \"kikuchi\", \"eisenbeis\", \"lam\", \"noir\", \"hotel\", \"norway\", \"ufo\", \"detection\", \"karate\", \"zeitgeist\", \"renaissance\", \"dojo\", \"judaism\", \"torchwood\", \"cougar\", \"eastenders\", \"intruder\", \"afro\", \"iranian\", \"fireworks\", \"spirituality\", \"improvised\", \"frog\", \"nypd\", \"accused\", \"improvisation\", \"lying\", \"wrongfully\", \"yuji\", \"wookieepedia\", \"kikuchi\", \"eisenbeis\", \"shigeru\", \"toshio\", \"shimbun\", \"niconico\", \"phenomena\", \"mutilation\", \"counts\", \"orsini\", \"improvisational\", \"reached\", \"alessandro\", \"mutilation\", \"paramedic\", \"genetics\", \"exorcist\", \"ghoul\", \"massage\", \"brigade\", \"xena\", \"glitch\", \"firefighter\", \"jurassic\", \"ambulance\", \"ishida\", \"sui\", \"firehouse\", \"telepathy\", \"wookieepedia\", \"kikuchi\", \"eisenbeis\", \"shigeru\", \"toshio\", \"shimbun\", \"niconico\", \"saikyo\", \"uchiyama\", \"douresseaux\", \"kazuyuki\", \"ushio\", \"shuhei\", \"seiun\", \"deity\", \"shapeshifting\", \"anew\", \"reset\", \"massively\", \"restart\", \"disambiguation\", \"voodoo\", \"frequents\", \"fandom\", \"exams\", \"ghouls\", \"rotation\", \"turnover\", \"sas\", \"plantation\", \"shen\", \"filmmaking\", \"ottoman\", \"gamer\", \"spartacus\", \"unfaithful\", \"tipton\", \"copycat\", \"eureka\", \"suga\", \"gladiator\", \"morphine\", \"invention\", \"withdrawal\", \"captivity\", \"yakuza\", \"uprising\", \"macon\", \"conquest\", \"railroad\", \"wookieepedia\", \"kikuchi\", \"eisenbeis\", \"shigeru\", \"toshio\", \"shimbun\", \"niconico\", \"saikyo\", \"turkey\", \"slavery\", \"invasion\", \"wins\", \"dare\", \"wag\", \"geologist\", \"mehmet\", \"astronomy\", \"turtles\", \"cosmos\", \"ferb\", \"neurosurgeon\", \"blizzard\", \"laziness\", \"phineas\", \"turtle\", \"sneaky\", \"pervert\", \"recess\", \"cane\", \"mayfair\", \"ninja\", \"splinter\", \"satanic\", \"wookieepedia\", \"kikuchi\", \"eisenbeis\", \"shigeru\", \"toshio\", \"shimbun\", \"niconico\", \"saikyo\", \"uchiyama\", \"douresseaux\", \"kazuyuki\", \"ushio\", \"shuhei\", \"mutant\", \"astronaut\", \"rendering\", \"scientists\", \"ritual\", \"sequential\", \"viceland\", \"shen\", \"users\", \"puppetry\", \"toru\", \"generated\", \"aforementioned\", \"psychotherapist\", \"bake\", \"tulsa\", \"dusk\", \"cricket\", \"bronx\", \"hipster\", \"asteroid\", \"camelot\", \"paralegal\", \"bicker\", \"impostor\", \"arcade\", \"jinn\", \"merlin\", \"oklahoma\", \"bisexuality\", \"reunited\", \"wookieepedia\", \"kikuchi\", \"eisenbeis\", \"shigeru\", \"toshio\", \"shimbun\", \"niconico\", \"saikyo\", \"uchiyama\", \"douresseaux\", \"kazuyuki\", \"ushio\", \"bucket\", \"skywalker\", \"gamers\", \"enslavement\", \"underrepresented\", \"hana\", \"grad\", \"garment\", \"mantra\", \"ail\", \"covington\", \"accompanying\", \"arcadia\", \"docudrama\", \"nye\", \"shaman\", \"catastrophe\", \"atheist\", \"institutional\", \"modeling\", \"hms\", \"grotesque\", \"recreational\", \"axis\", \"malaysia\", \"monkeys\", \"reenactment\", \"nomura\", \"wookieepedia\", \"kikuchi\", \"eisenbeis\", \"shigeru\", \"toshio\", \"shimbun\", \"niconico\", \"saikyo\", \"uchiyama\", \"douresseaux\", \"kazuyuki\", \"yamashita\", \"ushio\", \"shuhei\", \"imperial\", \"bombing\", \"helping\", \"yuko\", \"deviate\", \"ryu\", \"ishikawa\", \"yamamoto\", \"illogical\", \"upheaval\", \"serialization\", \"alexei\", \"oskar\", \"halo\", \"jockey\", \"cheerleading\", \"continents\", \"benefits\", \"booster\", \"homelessness\", \"mork\", \"partisan\", \"impostor\", \"environmentalism\", \"banshee\", \"playboy\", \"wildlife\", \"wookieepedia\", \"kikuchi\", \"eisenbeis\", \"shigeru\", \"toshio\", \"shimbun\", \"niconico\", \"saikyo\", \"uchiyama\", \"douresseaux\", \"kazuyuki\", \"ushio\", \"shuhei\", \"seiun\", \"kaze\", \"tomokazu\", \"pines\", \"colbert\", \"artbook\", \"adrift\", \"behold\", \"extinction\", \"wayward\", \"shea\", \"distinct\", \"rip\", \"vulnerable\", \"skywalker\", \"tangle\", \"shaky\", \"wonderful\", \"burnout\", \"tsubasa\", \"evangelion\", \"ghostly\", \"flux\", \"islam\", \"sickness\", \"poetry\", \"nightmares\", \"airline\", \"antisocial\", \"dickinson\", \"norms\", \"ramsay\", \"symbolism\", \"zucker\", \"reenactment\", \"wookieepedia\", \"deconstruction\", \"kikuchi\", \"eisenbeis\", \"shigeru\", \"toshio\", \"shimbun\", \"niconico\", \"saikyo\", \"uchiyama\", \"douresseaux\", \"kazuyuki\", \"ushio\", \"shuhei\", \"jfk\", \"oklahoma\", \"controversial\", \"approved\", \"delights\", \"helping\", \"remade\", \"authentically\", \"clones\", \"yee\", \"offended\", \"rhythmic\", \"bellafante\", \"roswell\", \"quebec\", \"chainsaw\", \"symbolism\", \"improv\", \"felon\", \"homemade\", \"norse\", \"salvation\", \"improvised\", \"explosive\", \"catastrophe\", \"pines\", \"improvisation\", \"reenactment\", \"wookieepedia\", \"kikuchi\", \"eisenbeis\", \"shigeru\", \"toshio\", \"shimbun\", \"niconico\", \"saikyo\", \"uchiyama\", \"douresseaux\", \"kazuyuki\", \"ushio\", \"shuhei\", \"seiun\", \"kaze\", \"comedian\", \"versus\", \"spontaneous\", \"improvisational\", \"yakuza\", \"disambiguation\", \"skit\", \"versions\", \"panel\", \"sequential\", \"loki\", \"deteriorate\", \"jaded\", \"counseling\", \"stilted\", \"startup\", \"silicon\", \"manufacturing\", \"narcissist\", \"postman\", \"messiah\", \"prophet\", \"simulation\", \"wookieepedia\", \"kikuchi\", \"eisenbeis\", \"shigeru\", \"toshio\", \"shimbun\", \"niconico\", \"saikyo\", \"uchiyama\", \"douresseaux\", \"kazuyuki\", \"ushio\", \"shuhei\", \"seiun\", \"kaze\", \"tomokazu\", \"masaki\", \"atsuko\", \"toho\", \"gakuen\", \"dubs\", \"yume\", \"mizuno\", \"blowing\", \"stunningly\", \"disruption\", \"mesmerize\", \"vent\", \"agreements\", \"tighter\", \"customary\", \"mulroney\", \"interdimensional\", \"wary\", \"pyo\", \"eui\", \"rediscover\", \"manufactured\", \"theoretical\", \"regulations\", \"geller\", \"mercurial\", \"dermot\", \"shortlist\", \"smuggling\", \"lifeguard\", \"empress\", \"swimming\", \"aristocracy\", \"gon\", \"estrangement\", \"englishman\", \"austria\", \"catholicism\", \"wookieepedia\", \"kikuchi\", \"eisenbeis\", \"shigeru\", \"toshio\", \"shimbun\", \"niconico\", \"saikyo\", \"uchiyama\", \"douresseaux\", \"kazuyuki\", \"ushio\", \"shuhei\", \"seiun\", \"kaze\", \"tomokazu\", \"masaki\", \"atsuko\", \"toho\", \"gakuen\", \"agreements\", \"cocaine\", \"mandalorian\", \"florian\", \"scored\", \"hangover\", \"aquatic\", \"predominant\", \"waltz\", \"intimately\", \"napoleon\", \"shortlist\", \"ferdinand\", \"billed\", \"pornographic\", \"continents\", \"brook\", \"remastering\", \"maximilian\", \"casablanca\"], \"Freq\": [97.0, 22.0, 76.0, 11.0, 15.0, 16.0, 15.0, 113.0, 6.0, 5.0, 7.0, 87.0, 5.0, 11.0, 7.0, 88.0, 8.0, 10.0, 7.0, 5.0, 6.0, 70.0, 4.0, 3.0, 5.0, 8.0, 3.0, 34.0, 3.0, 8.0, 113.54141476189696, 88.58578899260456, 70.67025766007534, 59.32365194292225, 51.5319232394593, 50.584261342028356, 47.09154915549883, 45.361531881087835, 40.197852659689296, 38.87912885128378, 38.6019233496401, 87.39326654352521, 35.9466193188673, 35.081740375476066, 34.83884556880678, 34.0586915585351, 33.604392352087714, 29.94934582380764, 29.648315076504577, 28.813494425562308, 27.238625780650718, 25.790351549215348, 25.4412096013209, 25.307372267078716, 22.614384170885373, 22.49292501544632, 21.727485596718054, 21.582766879784767, 21.088191311485307, 21.02140730991698, 94.00848481698827, 143.75314867792608, 40.30972460096906, 49.59450685929519, 23.20619549689353, 26.6049276680446, 15.632084628832072, 15.117204247906448, 11.144962116410177, 10.27594416558549, 8.362054160656685, 7.913403720799834, 7.761215647658313, 7.283573974529082, 6.450488777362261, 6.3541940924615945, 6.244249897964656, 6.107688692511715, 5.9905806745052095, 5.825115963117084, 5.447984770995793, 5.259449105808792, 4.82424891946916, 4.672910721312774, 4.662925445521306, 4.5362818667002, 4.496615564087387, 4.358409878851794, 4.054494570687702, 3.948241293461292, 3.853099665099324, 3.8096722782981702, 3.764456566090306, 3.761675786599134, 3.7368650605975686, 4.09571595575781, 4.441729524876345, 6.661384234329892, 27.003143423069577, 7.604935852231144, 6.300803047068652, 7.129721735399226, 11.63259602262649, 5.80586431698262, 3.4938474716277774, 2.2525103379267537, 1.756597974594243, 1.3841035341821772, 1.3285078135857644, 1.169707949847056, 1.4080016319132087, 18.255844804128618, 0.8949419644109604, 1.341723127133964, 0.7656741176753145, 1.7739242464940623, 0.6517879854244006, 0.7873409725191243, 0.7174086925663864, 2.2080051537085708, 0.8772728844565352, 0.514008002405673, 0.449061357492001, 0.4769144699508291, 0.4383090972056328, 0.4771827515175735, 1.2657589148077564, 0.47866378366359397, 2.4911565584518782, 0.47432103773258133, 0.6902997976493019, 0.432233247687821, 1.501694112398477, 2.4357187164956047, 2.5663650658397437, 1.0034999524489032, 1.2632130979261336, 1.6501456246355788, 1.4747543001909822, 1.7589793727475644, 1.3400898159876917, 1.3478951106124502, 2.906702609304104, 1.1417164413102472, 0.892881556874277, 0.36206956297946696, 1.295643525571892, 0.443461678538404, 0.419862346414089, 0.27006792828260123, 0.7737572206867078, 0.20194589643581426, 0.16055601679301387, 0.19820742819398535, 0.268078725774901, 0.3069827704628678, 0.23109114174794515, 0.7183568383240656, 0.23850033656404954, 0.14720606908609568, 0.4306255394878479, 0.14058732073685148, 0.15457934840375817, 0.18698747876975427, 0.10405846085322215, 0.10504944510225774, 0.10611431755027788, 0.08838271806665958, 0.16443897935692442, 0.09282028464096326, 0.08738401226576857, 0.11813960543792663, 0.0843562916920643, 0.0649099500434189, 0.07030220131297515, 0.9009771041486941, 0.09382316946137674, 0.11659865456023451, 0.2699191173202706, 0.10264166318850083, 0.10981507373189416, 0.09435644886692561, 0.09734594476043013, 0.33333110518191356, 0.33563074587424085, 0.585774857426079, 0.2875667787568683, 0.17313491530610198, 0.1344076469318089, 0.12393070869625983, 0.10055859084441826, 0.09502477202885767, 0.10246960045601289, 0.09530126625646047, 0.07522424629347642, 0.05613198693407895, 0.0713269007301947, 0.0785890067147174, 0.04761341310002587, 0.08170390183905311, 0.04065282320802344, 0.05530512491745033, 0.05120440429792354, 0.10850070515198842, 0.0641784314491212, 0.04348131531873212, 0.0850562538337484, 0.37072690008352854, 0.07555248327208179, 0.02546941355284541, 0.06176610093291454, 0.031961152976904446, 0.02039613686437804, 0.040925531204785655, 0.025638352443526736, 0.3976422159206787, 0.20010318408542685, 0.3042302675083346, 0.31154449990911526, 0.167437359831448, 0.17958362284812024, 0.14944778487325797, 0.19311849576646944, 0.0887510701514867, 0.08106879171723888, 0.10622015306801497, 0.11661284040937071, 0.06863777250046993, 0.07032138045548618, 0.09287976065602122, 0.06717522346997551, 0.09831812927781643, 0.09098895507050485, 0.0740252243442314, 0.07724379454222806, 0.09587242121083726, 0.23579488156346753, 0.06364584276657743, 0.0579808758006496, 0.12326629421475356, 0.040661177186002255, 0.1332821395163193, 0.007275696859658211, 0.007275696900757879, 0.0072756970049848236, 0.050584831909258395, 0.05203027573639784, 0.04479092565107242, 0.2658856645918303, 0.2605246109808355, 0.7682505080051436, 0.1335703607687021, 0.1537767089979491, 0.12019986835139233, 0.08561471565903668, 0.1052334170020149, 0.08601776075242808, 0.1201286300852804, 0.07662666833247443, 0.10256541313560114, 0.0799128723926026, 0.08364289355242953, 0.2547560511247291, 0.07270333745652421, 0.07241751617818985, 0.0694698194649322, 0.05872798796453699, 0.04394781006472273, 0.09692711844075351, 0.47445548509815794, 0.06963972864985658, 0.10211899607709664, 0.055445583913930174, 0.0868979201351728, 0.05031038140715879, 0.10091099514323619, 0.007204764524811476, 0.0072047645248095055, 0.011476463502200735, 0.007288627143697199, 0.35586570759686903, 0.17821199987204417, 0.19529830652959085, 0.1299071529686664, 0.17600973100781028, 0.1469354149365736, 0.13841200631535316, 0.17332436566909315, 0.10662189836624456, 0.09118115477806019, 0.0682573349605015, 0.08621561462460801, 0.07932802449594886, 0.07319438136596798, 0.05516453756963397, 0.05462365559884503, 0.04957105919976214, 0.04517597107133201, 0.07415367804552245, 0.04742953772017581, 0.02396549844915717, 0.04592945242827205, 0.019783828840489216, 0.1080674489842535, 0.06380157444567537, 0.007028359696038901, 0.00702835969603696, 0.007028359696037001, 0.007028359696036974, 0.007028359696036982, 0.05275268161063102, 0.024347755361847103, 0.00930988428282869, 0.008145011735790837, 0.007963326337634215, 0.1479133649830821, 0.3539586909730421, 0.1057846859514327, 0.07930972462807624, 0.07173692820095562, 0.11070517153609802, 0.07817626389804126, 0.07492004100490333, 0.23318220745911936, 0.07151260294786897, 0.08976239546042955, 0.06440355974215126, 0.0717603898106503, 0.06922877404604509, 0.08805380844871691, 0.05686810586124916, 0.0730213442449763, 0.06352555537049671, 0.0667668539075596, 0.06663442535634015, 0.07821010038021439, 0.06125348439904674, 0.10790414043437059, 0.034098190353144035, 0.05238074788963366, 0.13431583130583627, 0.0584360134283676, 0.006951557208633338, 0.006951557208631418, 0.006951557208631458, 0.008911641311471806, 0.05892296733916058, 0.026876333535880315, 0.01640896870683489, 0.40362866950823384, 0.18717632252374228, 0.25087992265970827, 0.0968615804562259, 0.24314664836959737, 0.13084353524503048, 0.08600108404633319, 0.11295806629169734, 0.08848967344780159, 0.10619068681714704, 0.06994891334311928, 0.08139595015093931, 0.09068482003374008, 0.06953435009257022, 0.06599033794186572, 0.08856644853210426, 0.0924940555834745, 0.282993727511033, 0.05308258898923914, 0.09284567031675146, 0.09544729516086126, 0.04045725631636757, 0.010160485125113609, 0.0069311430581961, 0.006931143203962556, 0.006931143058194235, 0.00693114305819421, 0.0069311431452131565, 0.006931143058194196, 0.006931143126267356, 0.07153925679304579, 0.008603997895180954, 0.006931940964498927, 0.006931625973005889, 0.006931375353805534, 0.006931366554540235, 0.0069313625860836494, 0.38559104286341556, 0.2814947250488929, 0.19617458223764603, 0.15647813199677954, 0.2270903713816371, 0.10425391628836192, 0.14814607648481892, 0.094581546778185, 0.11889631301571292, 0.301821049830939, 0.06615758688578655, 0.07903692665848983, 0.02914821928641694, 0.029066281494206876, 0.03417221819512343, 0.05672703398690481, 0.006903773207539474, 0.006903773207537564, 0.006903773319385159, 0.0069037732075375785, 0.006903773259999248, 0.006903773207537565, 0.0069037732075375585, 0.006903773222627457, 0.00690377327925104, 0.006903773570891739, 0.006903773207537536, 0.006903773217284792, 0.006903775261347555, 0.006903773207537533, 0.006934355669175519, 0.006909128540134242, 0.006904537046096942, 0.006904208048935931, 0.0069039972696235295, 0.006903951216783934, 0.006903814074524478, 0.006903798345573604, 0.006903796102305659, 0.0069037953660874875, 0.006903783921018405, 0.0069037834689343845, 0.006903782292928118, 0.0069037819569772434, 0.18495925180112746, 0.2115510027577375, 0.10076867541684927, 0.21729173823239042, 0.1786330210816311, 0.13618447074906445, 0.09749411935568375, 0.08181581509565597, 0.0869484865814457, 0.07507009631843083, 0.09984992658091316, 0.053659659572393666, 0.09452966837438623, 0.059433658097906274, 0.13325182382620723, 0.0497514667036388, 0.05518234057704826, 0.0773463694391603, 0.06258549126470438, 0.035281678026154735, 0.048950980501628355, 0.04559973361162663, 0.006895803025959973, 0.006895803025958067, 0.006895803025958106, 0.00689580302595808, 0.006895803025958088, 0.006895803025958068, 0.00689580302595806, 0.006895803025958044, 0.04277620504789498, 0.0492342593575195, 0.0075145526834574745, 0.0069519505592252635, 0.006921634348551115, 0.006900257776685949, 0.006896743333622717, 0.006896377026121459, 0.3255168401105351, 0.21426183637576088, 0.2367436644136912, 0.08109703323237893, 0.08182081334684994, 0.05687553430684871, 0.05774648298859588, 0.07343086975185914, 0.17604186338816982, 0.046686570007709774, 0.058139952216271606, 0.06292028321730393, 0.049049811070774454, 0.04300007462556125, 0.1806120015053375, 0.02225843999873624, 0.030219977836850265, 0.006816763957047508, 0.006816763957045614, 0.0068167639570456545, 0.006816763957045629, 0.0068167639570456354, 0.0068167639570456155, 0.0068167639570456086, 0.006816763957045591, 0.006816763957045613, 0.0068167639570455825, 0.006816763957045585, 0.006816763957045575, 0.006816763957045591, 0.09259368654950763, 0.05360735404448262, 0.00696706812762858, 0.006947751916988692, 0.0071000506788933, 0.0068251778118811526, 0.006848794573503556, 0.006849174259932327, 0.006820866847021033, 0.006818862060707993, 0.006818037725449345, 0.006817856244263726, 0.006817673217461424, 0.22953250601694142, 0.17977952531774774, 0.11863117067703921, 0.07224241014183425, 0.10375744545065026, 0.10821861734756555, 0.07538047828770397, 0.09970059395003064, 0.12257098903248122, 0.0627496557562523, 0.060437934731308963, 0.06289804947058651, 0.06555851560879973, 0.04089455871665923, 0.0566243629475572, 0.07279646324828996, 0.07591991070563836, 0.019689915386907886, 0.006770137206167436, 0.00677013720616555, 0.00677013720616559, 0.0067701372061655645, 0.006770137206165571, 0.006770137206165551, 0.006770137206165543, 0.006770137206165526, 0.00677013720616555, 0.006770137206165518, 0.006770137206165522, 0.006770137206165511, 0.007809345589853655, 0.006770278911201332, 0.006770194712899074, 0.0067701693078489915, 0.006770163259284095, 0.006770161855965547, 0.0067701603868733015, 0.006770155842340344, 0.006770151607989147, 0.006770151332151599, 0.0067701493892239825, 0.00677014865995756, 0.22943032429665738, 0.1243875332777182, 0.14992254562483306, 0.1420607411552723, 0.1334959745656582, 0.08643886350437023, 0.06554015613069501, 0.06132487654361054, 0.06330836356911287, 0.0654652641725129, 0.05200667688063392, 0.05684010089913961, 0.07940842739292703, 0.0433679013903437, 0.04916985114696729, 0.008074716846503287, 0.006674978459772648, 0.006674978459770782, 0.006674978459770821, 0.006674978459770796, 0.006674978459770803, 0.006674978459770783, 0.006674979741957615, 0.0066749784597707595, 0.006674978459770781, 0.006674978459770751, 0.006674978459770754, 0.007563357081858672, 0.006674978459770745, 0.0066749784597707595, 0.00878915378338071, 0.0066932039961135874, 0.006691038824521939, 0.0066785553575927645, 0.006676187743387087, 0.006676174997334689, 0.006675477766168, 0.006675129831524744, 0.006675100523235429, 0.006675057582323249, 0.006675033911419627, 0.0066750306027365085, 0.0066750292619318224, 0.20479556606319585, 0.1450065233982093, 0.1339485230022643, 0.07126991269091952, 0.061873491155506145, 0.07828707236838121, 0.06287221791750716, 0.1009864911998962, 0.052036167240582215, 0.050328106728694554, 0.06642846462271954, 0.025728031251088093, 0.034782240581341675, 0.06111544829575138, 0.006655260744084543, 0.006655260744082681, 0.00665526074408272, 0.006655260744082695, 0.006655260744082701, 0.006655260744082682, 0.0066552607440826745, 0.006655260744082658, 0.0066552607440826805, 0.006655260744082649, 0.006655260744082654, 0.006655260744082643, 0.006655260744082658, 0.00665526074408265, 0.006655260744219739, 0.0066552607440826415, 0.006827633256517093, 0.007101595234087262, 0.0066584476553242155, 0.00665803560796888, 0.006655443671250322, 0.006655384531011542, 0.006655382977837553, 0.006655370554061486, 0.006655365018920272, 0.006655348498548859, 0.006655347712477688, 0.006655326842051022, 0.006655318884719469, 0.006655293388909705, 0.006655290463167044, 0.006655278886569663, 0.10367408001649274, 0.08942097782695624, 0.10054812726633096, 0.07099553698431145, 0.08437351367436687, 0.06168582667109024, 0.08727180594200934, 0.07274183600844546, 0.05649222932469075, 0.05668262050815193, 0.06362622763562205, 0.05097603698800799, 0.1072530407066385, 0.04580790792984285, 0.04212987520041124, 0.10434065166667994, 0.006626374259977301, 0.008901197884577943, 0.0066263742599754465, 0.006626374259975485, 0.0066263742599754595, 0.006626376615077121, 0.006626379993612985, 0.00662637425997544, 0.006626375865149115, 0.006626374259975445, 0.006626374259975415, 0.006626374259975419, 0.006626374259975408, 0.006626374259975423, 0.012811353188752582, 0.012720173450758715, 0.007950844491040445, 0.006635588943578407, 0.006626390376524752, 0.006626387884202952, 0.006626387336073103, 0.006626386361094581, 0.006626384726741551, 0.006626381002260601, 0.006626380602524657, 0.0066263805537310145, 0.006626380138000699, 0.16168638295460555, 0.10308228882432448, 0.07317889483134682, 0.057918760922394924, 0.07601427262999244, 0.058255291418814935, 0.057312364352681486, 0.06374299996291985, 0.05805290025653291, 0.06703187113966379, 0.04674962413236687, 0.053454443469753914, 0.034751276641333845, 0.07155122998237319, 0.035877127340887764, 0.0066206720232035495, 0.0066206720232016925, 0.006620672023201732, 0.006620672023201706, 0.006620672023201713, 0.006620672023201693, 0.006620672023201687, 0.00662067202320167, 0.0066206720232016925, 0.006620672023201661, 0.006620672023201666, 0.006620672295766643, 0.00662067202320167, 0.006620672023201662, 0.006620672245778118, 0.048606111483654284, 0.010874829590405751, 0.006654956823388826, 0.0066297783892558014, 0.006621494395046963, 0.006621491321448853, 0.006621235527778977, 0.0066212036923946616, 0.006620723197804967, 0.006620684200918481, 0.006620684087874524, 0.006620683872218727, 0.006620681996918593, 0.0066206807147189285, 0.006620679968984372, 0.23485479055094624, 0.15326992130267403, 0.10462637502551436, 0.07550312091993534, 0.07291865570902754, 0.06762815147378144, 0.05738123863740485, 0.03938947947226771, 0.006567568826561572, 0.006567568826559728, 0.006567568826559768, 0.006567568826559742, 0.00656756882655975, 0.00656756882655973, 0.006567568826559723, 0.006567568826559705, 0.006567568826559727, 0.006567568826559697, 0.006567568826559701, 0.006567568826559691, 0.006567568826559705, 0.0065675688265596985, 0.006567568826695507, 0.00656756882655969, 0.006567568827122968, 0.006567568826781583, 0.006567568826559687, 0.006567568826559686, 0.006567568826622112, 0.006567568826559694, 0.0065688855115655555, 0.006567626166920107, 0.0065676198768392065, 0.006567605949416043, 0.006567594139181764, 0.006567582948283909, 0.006567579523448717, 0.006567577370495163, 0.006567577186065938, 0.006567576193631999, 0.006567575910576338, 0.006567575312750519, 0.006567574043604533, 0.0065675740187929885, 0.00656757383566778, 0.0065675737346997465, 0.006567573656914711, 0.006567573187118863, 0.00656757272855473, 0.006567572608887646, 0.0065675724829566805, 0.006567572076784913, 0.12136519251371064, 0.07103247585903844, 0.07847159041664226, 0.05428617459867209, 0.030786714498391234, 0.028173051445683547, 0.030427365374506993, 0.029284918444725323, 0.07200106117770247, 0.030404216042514587, 0.006497665661399443, 0.006497665661397612, 0.006497665661397651, 0.0064976656613976265, 0.006497665661397633, 0.006497665661397613, 0.0064976656613976065, 0.006497665661397589, 0.006497665661397612, 0.006497665661397581, 0.006497665661397585, 0.006497665661397575, 0.006497665661397589, 0.006497665661397583, 0.006497665661532366, 0.006497665661397573, 0.0064976656619565995, 0.006497665661617791, 0.006497665661397572, 0.006497665661397571, 0.006497677280425045, 0.006497674962668335, 0.006497673877292802, 0.006497671682230196, 0.006497670963613855, 0.006497670350620702, 0.006497669863678408, 0.006497669054944772, 0.006497669014884885, 0.006497668810522194, 0.0064976676427799685, 0.0064976675955265226, 0.006497667518050608, 0.006497667466668733, 0.006497667351127645, 0.006497667291756399, 0.006497667267826739, 0.006497667212603895, 0.006497667204081989, 0.006497667177777296], \"Total\": [97.0, 22.0, 76.0, 11.0, 15.0, 16.0, 15.0, 113.0, 6.0, 5.0, 7.0, 87.0, 5.0, 11.0, 7.0, 88.0, 8.0, 10.0, 7.0, 5.0, 6.0, 70.0, 4.0, 3.0, 5.0, 8.0, 3.0, 34.0, 3.0, 8.0, 113.71292852301737, 88.75739598179855, 70.8417714214871, 59.49516570424727, 51.703463249003136, 50.755775103742636, 47.26306291697652, 45.53304564211459, 40.369366420943976, 39.05064261242572, 38.773437110820616, 87.79190826007641, 36.11813308001968, 35.25325413652073, 35.010359329968836, 34.230205319548, 33.77590611312289, 30.120859585050546, 29.819828837702588, 28.985008187182043, 27.41014280198693, 25.961865310326612, 25.612723362492723, 25.478886488558842, 22.785897932098162, 22.664438779810546, 21.898999357938912, 21.75428064117431, 21.259705072782793, 21.192921071129557, 97.34353221685355, 151.01853880477975, 41.27272439210664, 76.73331867390257, 24.28856933812875, 34.34553191215004, 15.80996914434519, 15.29508876336346, 11.322846637905576, 10.453828682095759, 8.539938678040286, 8.091288237208108, 7.939100163534891, 7.461458489970694, 6.628373294996926, 6.532078613610736, 6.422134413884268, 6.285573209717272, 6.1684651912659, 6.003619230038908, 5.62586928830831, 5.437333623291394, 5.002133435424754, 4.8507952375105905, 4.840809964857596, 4.714166403526057, 4.674500081361227, 4.536294395911238, 4.232392148552436, 4.126125825642973, 4.030984181794047, 3.9875567981269877, 3.9423410911022545, 3.9395603019625653, 3.9147495773423535, 4.293525253091993, 4.664368624749779, 8.169821945602852, 76.73331867390257, 34.34553191215004, 24.37674306211654, 151.01853880477975, 11.96139082243292, 6.002252284296469, 3.690235439014588, 2.4490307457145084, 1.9529859419325764, 1.580491503351601, 1.525572457329922, 1.3661238779390064, 1.6521483916708808, 22.107203125290525, 1.0916068480298666, 1.6790097202747887, 0.9625816173865938, 2.23288341330871, 0.8635077467277847, 1.0575096870925458, 0.9800303388832821, 3.023978038987893, 1.2087232224791085, 0.71039632390651, 0.6454493251558565, 0.685767695157649, 0.6354201469702041, 0.7010442538244323, 1.8687711131239988, 0.7073556232644729, 3.7022539819395184, 0.7371371319376976, 1.078868848967726, 0.6782032330632864, 2.3680281114616673, 3.876947051246249, 5.509788012506672, 1.8840614211693971, 2.6714063854257617, 4.63569363212945, 5.491703786923608, 7.93775640743839, 5.195693257329036, 8.169821945602852, 97.34353221685355, 7.4273935700521045, 6.113927075336756, 0.5720643241011226, 2.1947333430111904, 0.7588281326989232, 0.7327482226056482, 0.47722901165847714, 1.372479220522891, 0.4451974487816524, 0.3673440305522375, 0.48945733953888954, 0.6738326424669243, 0.8454519771280725, 0.6367109147212159, 1.9903041611120362, 0.6729218728408852, 0.4394751265504675, 1.3068539810314925, 0.43386551526362976, 0.4835132795533193, 0.6056183910716381, 0.34786970610705065, 0.3699349272241782, 0.3752382192851706, 0.3291163018180996, 0.6500383438728028, 0.3709860257368882, 0.35990305472739714, 0.48814754606307126, 0.37787383962873744, 0.29680284661588163, 0.3314332352606554, 5.867306137169562, 0.4586242829884854, 0.6803939076263888, 3.3157628397751027, 0.6197308475038635, 0.986307742567447, 0.47804425438989495, 0.8920130714887493, 0.5409690460156735, 0.6647396409015165, 1.2039185364761071, 0.6550450561146418, 0.47838581151715237, 0.45943319206158034, 0.4349737575503429, 0.4078088108258409, 0.39413344847650833, 0.4313478051546508, 0.41818053157461166, 0.36528375469959784, 0.2890305587587194, 0.3794030070614717, 0.45918584222463144, 0.28825710196898585, 0.5412229966837697, 0.3114090395552811, 0.4472764188762445, 0.4347369359920728, 0.927488956552567, 0.5571320162459257, 0.39073638367903124, 0.9725984563670131, 4.270424165583928, 0.8848243950194775, 0.32247747962929574, 0.7885446010705399, 0.48672816050856105, 0.33476777868360547, 3.3157628397751027, 0.7758064940004992, 0.6048158382181862, 0.4107509404033398, 0.7443073982794325, 0.7761087651683761, 0.4390617202612797, 0.5541801803573453, 0.4642171583705695, 0.771699407106505, 0.36732438120354843, 0.34536965925141155, 0.48804558456929287, 0.5422891798567834, 0.33655947067902214, 0.35288626839353576, 0.46705265767275245, 0.3718438912759906, 0.7146601820316538, 0.6669504601816131, 0.5866497711987659, 0.6371954965836091, 0.8101495152335708, 2.4886393671155203, 0.6916948577714501, 0.6738326424669243, 1.5537660349340836, 0.6302369769881073, 3.324932408361096, 0.23519915691736543, 0.24020276645892533, 0.24199075651992616, 2.4240005532051243, 4.664368624749779, 7.4273935700521045, 0.5456294332360146, 0.6329930262236952, 1.994907591511048, 0.4422458800229781, 0.5489038633546937, 0.45769668322555596, 0.3431134596494605, 0.4400293283734151, 0.36844703532564627, 0.5197934011109248, 0.33337091143022674, 0.4747975909385078, 0.3913268646496561, 0.45509366140621416, 1.4074678757318082, 0.4433458860613477, 0.45338688803273874, 0.441027285375958, 0.40326434062039335, 0.33246225018994385, 0.7904015981201205, 4.270424165583928, 0.6477468188329889, 0.986307742567447, 0.5990673938076324, 1.024644992078218, 0.6135290139204425, 2.556295017212603, 0.23519915691736543, 0.24020276645892533, 0.9522015155041884, 1.4384555642807884, 0.7248673538573339, 0.5069292862496705, 0.6009146818688954, 0.42988576488237523, 0.5850949320219185, 0.5180386124185347, 0.5494800621581608, 0.7470319462404662, 0.5132336983478987, 0.4676267791490631, 0.36581387805747134, 0.48566586573836396, 0.4481667300194096, 0.49344042551929373, 0.3721546279343942, 0.3856515701922335, 0.5767637305399216, 0.6182369525647224, 1.0591337441632973, 0.7830520131034268, 0.3963506922650339, 0.8507497644803621, 0.42330765593720676, 2.399139349388915, 1.8714963750859364, 0.23519915691736543, 0.24020276645892533, 0.24199075651992616, 0.24291738660400075, 0.24309851130551158, 1.994907591511048, 7.640522839818084, 0.8635077467277847, 0.7538254959962216, 1.8919388381788693, 0.46837620571706085, 1.3154500831769114, 0.4647954222244754, 0.3764497917251059, 0.344623667570538, 0.5408225435308421, 0.39405813406846774, 0.3813279681074936, 1.2039185364761071, 0.37512024065429306, 0.49113099885366895, 0.41123298264385316, 0.46018476214873844, 0.44908623763208794, 0.6018589606090593, 0.4022770494373737, 0.5180386124185347, 0.46666411368011695, 0.5009000457935413, 0.5003353829292443, 0.595118280481757, 0.49055656960593413, 0.8865483176391933, 0.3017045177073585, 0.6112378907131863, 1.8919388381788693, 1.0756412020002504, 0.23519915691736543, 0.24020276645892533, 0.24199075651992616, 0.3344615735334731, 4.270424165583928, 4.293525253091993, 2.060110427526407, 0.8091589249726997, 0.4696845118300445, 0.7370774485451562, 0.35511948485224537, 0.939051098127071, 0.5057798945675233, 0.35344629494356555, 0.4866636169081771, 0.39685868503355315, 0.5137488879859177, 0.3438250336572236, 0.4358035375696116, 0.5307122512893877, 0.4587807092789131, 0.45654501885431203, 0.6326615945227146, 0.7717132636754677, 2.5403982651886174, 0.5927600314454509, 1.0395064982473983, 1.5266449856144513, 0.6881525554641129, 0.31432626139338926, 0.23519915691736543, 0.24020276645892533, 0.24199075651992616, 0.24291738660400075, 0.24309851130551158, 0.24380169356415665, 0.24384429711783262, 3.9404524154103844, 0.5944684882466887, 0.29388858909329213, 0.2729621824852894, 0.40800786224657937, 0.3049357791510995, 0.39113634208829834, 0.5944684882466887, 0.6447618326711504, 0.47986097429137065, 0.4765668675135685, 0.736597025252162, 0.3871858935975328, 0.585946948000303, 0.42001552321351443, 0.5740071082305581, 1.592143228195288, 0.650022034396197, 0.78332986639068, 0.2936558853711653, 0.3346729934128857, 0.5277195313526349, 1.2450218205605037, 0.23519915691736543, 0.24020276645892533, 0.24199075651992616, 0.24291738660400075, 0.24309851130551158, 0.24380169356415665, 0.24384429711783262, 0.24421791559017791, 0.2446579825830669, 0.2459423148236725, 0.2469298470828697, 0.2475590479717858, 0.24776466238688094, 0.2484244274973677, 0.8635077467277847, 1.375850030456316, 0.344048837735901, 0.3649127354139393, 0.28933326628104933, 0.4642437312027963, 0.7375811459135344, 0.3454290556814857, 0.2910721499778807, 0.6564308820780731, 0.2805947545498704, 0.4197617340030422, 0.3823941750030691, 0.282941795108791, 0.5345601809928396, 0.6906989641025445, 0.3527702416239662, 0.7904015981201205, 0.6500383438728028, 0.502050587382289, 0.3983647679361096, 0.3512177888727662, 0.4446582708300494, 0.38477799715695543, 0.5738858256200757, 0.30960558807130023, 0.5678846098344982, 0.36231514157415157, 0.8670623880050564, 0.3491424764831425, 0.4128541534450716, 0.6550450561146418, 0.562753257354395, 0.33593431324741396, 0.4685076775639097, 1.2481498706763445, 0.23519915691736543, 0.24020276645892533, 0.24199075651992616, 0.24291738660400075, 0.24309851130551158, 0.24380169356415665, 0.24384429711783262, 0.24421791559017791, 1.6697183144783825, 2.9747196552368655, 6.003619230038908, 0.5526804642400421, 0.6721371474431421, 0.2972073660893211, 0.3008489629570924, 0.397687255491488, 0.6249966517981204, 0.5383233547559825, 0.6302369769881073, 0.39976089970232453, 0.40971689738153666, 0.33539911285968244, 0.3453073037093299, 0.4704722075058036, 1.1320405893329273, 0.30869241446571405, 0.39226632594915295, 0.45087769230800245, 0.4043216581595369, 0.49350254405373833, 2.556295017212603, 0.47826836105711334, 0.8363723247204993, 0.23519915691736543, 0.24020276645892533, 0.24199075651992616, 0.24291738660400075, 0.24309851130551158, 0.24380169356415665, 0.24384429711783262, 0.24421791559017791, 0.2446579825830669, 0.2459423148236725, 0.2469298470828697, 0.2475590479717858, 0.24776466238688094, 3.762891798816777, 3.3172445887890354, 0.3149075061582301, 0.3757819480575987, 0.7984355931674997, 0.2595004079786039, 0.33963615465079255, 0.3527702416239662, 0.4169516239549096, 0.4107509404033398, 0.31005756819014657, 0.5009060441216416, 0.5254365620498899, 0.5444212654255425, 0.5020664944067099, 0.39790300711463045, 0.29992658888617085, 0.4741060860163342, 0.5087754517462378, 0.35522453500516993, 0.48197892180862867, 0.638902160976662, 0.3853535747269219, 0.3774120781446857, 0.47267324455685533, 0.5305355483295783, 0.35441824647970827, 0.8591569107032001, 1.1494275394263642, 1.9741447962688032, 0.6440252663443645, 0.23519915691736543, 0.24020276645892533, 0.24199075651992616, 0.24291738660400075, 0.24309851130551158, 0.24380169356415665, 0.24384429711783262, 0.24421791559017791, 0.2446579825830669, 0.2459423148236725, 0.2469298470828697, 0.2475590479717858, 0.888833813976034, 0.34786970610705065, 0.2973528833077123, 0.2964081918439658, 0.3137362603446445, 0.33050937425661936, 0.30243616405044393, 0.3047641537527674, 0.3053921597785554, 0.3195040590738427, 0.33146525349239386, 0.2763900915735965, 0.5947799710454575, 0.42500127319729025, 0.5175328102839024, 0.5152683199646995, 0.6457740464062667, 0.4208438560645838, 0.32378008029536254, 0.33630069937477125, 0.34717899319122014, 0.4355327417372283, 0.3553429127556071, 0.4079703207375215, 0.6469816528765163, 0.3771954787366276, 1.0756412020002504, 0.2567520819462593, 0.23519915691736543, 0.24020276645892533, 0.24199075651992616, 0.24291738660400075, 0.24309851130551158, 0.24380169356415665, 0.24384429711783262, 0.24421791559017791, 0.2446579825830669, 0.2459423148236725, 0.2469298470828697, 0.28008936872511925, 0.2475590479717858, 0.24776466238688094, 1.5238345274729739, 1.2412541375236086, 0.31537341652447426, 0.3706899690223826, 0.4273796265160555, 0.43614949254268726, 0.3162784108021195, 0.332303790447522, 0.29052684627270087, 0.3018280030962838, 0.5276475965901043, 0.3116858858289699, 0.3183604671579918, 0.5767637305399216, 0.4602382369738087, 0.43412855414930124, 0.3668061686795296, 0.3526809414050981, 0.45614478224978816, 0.3703046916961479, 0.6069944914867996, 0.3260443507336053, 0.47267324455685533, 1.0552730664578585, 0.43924824991525163, 0.6696136263833782, 1.520475545717682, 0.23519915691736543, 0.24020276645892533, 0.24199075651992616, 0.24291738660400075, 0.24309851130551158, 0.24380169356415665, 0.24384429711783262, 0.24421791559017791, 0.2446579825830669, 0.2459423148236725, 0.2469298470828697, 0.2475590479717858, 0.24776466238688094, 0.2484244274973677, 0.2500326390784494, 0.2502621055510272, 0.4821809729406964, 1.860485155673513, 0.25910152495019845, 0.33105276478888757, 0.332306264033856, 0.9725984563670131, 0.508896172567832, 0.6752129194625064, 0.7476211685725357, 0.7128862424186931, 0.5681926928251292, 0.34786970610705065, 0.3745638711077873, 0.2951450421842678, 0.7999878803566528, 0.3068317627742982, 0.37628163679576804, 0.37336587553362616, 0.5205901141032122, 0.40633652906983725, 0.4867374437789619, 0.38700828659437114, 0.5827960561420165, 0.5022244989973207, 0.3978408722286109, 0.4078088108258409, 0.4597938346130698, 0.38670065270868464, 0.8163391569180598, 0.3613646811127868, 0.41781193343410306, 1.0756412020002504, 0.23519915691736543, 0.318776345241524, 0.24020276645892533, 0.24199075651992616, 0.24291738660400075, 0.24309851130551158, 0.24380169356415665, 0.24384429711783262, 0.24421791559017791, 0.2446579825830669, 0.2459423148236725, 0.2469298470828697, 0.2475590479717858, 0.24776466238688094, 0.6591850001538854, 1.1494275394263642, 0.9736826084130021, 0.8969721603112538, 0.29829369833568486, 0.31537341652447426, 0.2706610220703797, 0.30338116342222776, 0.3172843453454534, 0.3045930848521349, 0.27607740446726725, 0.27617534618316064, 0.2939406626578958, 0.49478062744576295, 0.6340100255340091, 0.4559617301966188, 0.3613646811127868, 0.47753974009900957, 0.37743909779110074, 0.39436001088096967, 0.4647954222244754, 0.43130479124746696, 0.6326615945227146, 0.5452091938781379, 0.6457740464062667, 0.4821809729406964, 1.0395064982473983, 1.0756412020002504, 0.23519915691736543, 0.24020276645892533, 0.24199075651992616, 0.24291738660400075, 0.24309851130551158, 0.24380169356415665, 0.24384429711783262, 0.24421791559017791, 0.2446579825830669, 0.2459423148236725, 0.2469298470828697, 0.2475590479717858, 0.24776466238688094, 0.2484244274973677, 0.2500326390784494, 3.2369752517272863, 1.8917925383688887, 0.35342665747632945, 0.40800786224657937, 0.6550450561146418, 0.7375811459135344, 0.8295411130259558, 0.7859437293711824, 3.1318423682826793, 0.2595004079786039, 0.43386551526362976, 0.37011354587160983, 0.2869281489797292, 0.2863093251576884, 0.30524120699246504, 0.6397806578872536, 0.501702552605232, 0.44181892547933266, 0.3540553535106752, 0.3631448552046849, 0.4794104031261986, 0.6838944837979526, 1.1055001582019994, 0.23519915691736543, 0.24020276645892533, 0.24199075651992616, 0.24291738660400075, 0.24309851130551158, 0.24380169356415665, 0.24384429711783262, 0.24421791559017791, 0.2446579825830669, 0.2459423148236725, 0.2469298470828697, 0.2475590479717858, 0.24776466238688094, 0.2484244274973677, 0.2500326390784494, 0.2502621055510272, 0.2503307154098692, 0.25084439911463285, 0.25122171064748783, 0.25173786246407387, 0.25402955467370736, 0.25403189627088246, 0.3535295218721558, 0.2759884741801654, 0.2775327845882879, 0.31751901928426146, 0.2875331006683777, 0.28461020566335243, 0.27557659023383924, 0.27847623684949757, 0.3022790299202846, 0.3772199426508993, 0.390274433567079, 0.3783332326812867, 0.33337091143022674, 0.2946737159841654, 0.31572416130880276, 0.33152888957752535, 0.301096079092564, 0.2874110650869326, 0.41520864113213257, 0.29023942288183346, 0.4168661006541148, 0.33079334214937284, 0.47643773645711607, 0.3874124868022894, 0.44180801577606155, 0.3873399222396237, 0.31459765575052445, 0.2938678753865456, 0.3198283645054033, 0.3223300106433822, 1.1220632412857738, 0.9800303388832821, 0.23519915691736543, 0.24020276645892533, 0.24199075651992616, 0.24291738660400075, 0.24309851130551158, 0.24380169356415665, 0.24384429711783262, 0.24421791559017791, 0.2446579825830669, 0.2459423148236725, 0.2469298470828697, 0.2475590479717858, 0.24776466238688094, 0.2484244274973677, 0.2500326390784494, 0.2502621055510272, 0.2503307154098692, 0.25084439911463285, 0.25122171064748783, 0.25173786246407387, 0.27557659023383924, 1.5591546771986806, 0.4451974487816524, 0.27866009350704174, 0.30451496835608816, 0.28834153239341315, 0.37512024065429306, 0.2932110229193815, 0.3485549526635091, 0.29784406001919694, 0.41818053157461166, 0.33079334214937284, 0.33227494482369085, 0.304993274440531, 0.3337338732849716, 0.3668061686795296, 0.33604327223495545, 0.30816219851647014, 0.3641502214351855, 0.3192691357482927], \"Category\": [\"Default\", \"Default\", \"Default\", \"Default\", \"Default\", \"Default\", \"Default\", \"Default\", \"Default\", \"Default\", \"Default\", \"Default\", \"Default\", \"Default\", \"Default\", \"Default\", \"Default\", \"Default\", \"Default\", \"Default\", \"Default\", \"Default\", \"Default\", \"Default\", \"Default\", \"Default\", \"Default\", \"Default\", \"Default\", \"Default\", \"Topic1\", \"Topic1\", \"Topic1\", \"Topic1\", \"Topic1\", \"Topic1\", \"Topic1\", \"Topic1\", \"Topic1\", \"Topic1\", \"Topic1\", \"Topic1\", \"Topic1\", \"Topic1\", \"Topic1\", \"Topic1\", \"Topic1\", \"Topic1\", \"Topic1\", \"Topic1\", \"Topic1\", \"Topic1\", \"Topic1\", \"Topic1\", \"Topic1\", \"Topic1\", \"Topic1\", \"Topic1\", \"Topic1\", \"Topic1\", \"Topic1\", \"Topic1\", \"Topic1\", \"Topic1\", \"Topic1\", \"Topic1\", \"Topic2\", \"Topic2\", \"Topic2\", \"Topic2\", \"Topic2\", \"Topic2\", \"Topic2\", \"Topic2\", \"Topic2\", \"Topic2\", \"Topic2\", \"Topic2\", \"Topic2\", \"Topic2\", \"Topic2\", \"Topic2\", \"Topic2\", \"Topic2\", \"Topic2\", \"Topic2\", \"Topic2\", \"Topic2\", \"Topic2\", \"Topic2\", \"Topic2\", \"Topic2\", \"Topic2\", \"Topic2\", \"Topic2\", \"Topic2\", \"Topic2\", \"Topic2\", \"Topic2\", \"Topic2\", \"Topic2\", \"Topic2\", \"Topic3\", \"Topic3\", \"Topic3\", \"Topic3\", \"Topic3\", \"Topic3\", \"Topic3\", \"Topic3\", \"Topic3\", \"Topic3\", \"Topic3\", \"Topic3\", \"Topic3\", \"Topic3\", \"Topic3\", \"Topic3\", \"Topic3\", \"Topic3\", \"Topic3\", \"Topic3\", \"Topic3\", \"Topic3\", \"Topic3\", \"Topic3\", \"Topic3\", \"Topic3\", \"Topic3\", \"Topic3\", \"Topic3\", \"Topic3\", \"Topic3\", \"Topic3\", \"Topic3\", \"Topic3\", \"Topic3\", \"Topic3\", \"Topic3\", \"Topic3\", \"Topic3\", \"Topic3\", \"Topic3\", \"Topic3\", \"Topic3\", \"Topic4\", \"Topic4\", \"Topic4\", \"Topic4\", \"Topic4\", \"Topic4\", \"Topic4\", \"Topic4\", \"Topic4\", \"Topic4\", \"Topic4\", \"Topic4\", \"Topic4\", \"Topic4\", \"Topic4\", \"Topic4\", \"Topic4\", \"Topic4\", \"Topic4\", \"Topic4\", \"Topic4\", \"Topic4\", \"Topic4\", \"Topic4\", \"Topic4\", \"Topic4\", \"Topic4\", \"Topic4\", \"Topic4\", \"Topic4\", \"Topic4\", \"Topic4\", \"Topic4\", \"Topic4\", \"Topic4\", \"Topic4\", \"Topic4\", \"Topic4\", \"Topic5\", \"Topic5\", \"Topic5\", \"Topic5\", \"Topic5\", \"Topic5\", \"Topic5\", \"Topic5\", \"Topic5\", \"Topic5\", \"Topic5\", \"Topic5\", \"Topic5\", \"Topic5\", \"Topic5\", \"Topic5\", \"Topic5\", \"Topic5\", \"Topic5\", \"Topic5\", \"Topic5\", \"Topic5\", \"Topic5\", \"Topic5\", \"Topic5\", \"Topic5\", \"Topic5\", \"Topic5\", \"Topic5\", \"Topic5\", \"Topic5\", \"Topic5\", \"Topic6\", \"Topic6\", \"Topic6\", \"Topic6\", \"Topic6\", \"Topic6\", \"Topic6\", \"Topic6\", \"Topic6\", \"Topic6\", \"Topic6\", \"Topic6\", \"Topic6\", \"Topic6\", \"Topic6\", \"Topic6\", \"Topic6\", \"Topic6\", \"Topic6\", \"Topic6\", \"Topic6\", \"Topic6\", \"Topic6\", \"Topic6\", \"Topic6\", \"Topic6\", \"Topic6\", \"Topic6\", \"Topic6\", \"Topic6\", \"Topic6\", \"Topic6\", \"Topic6\", \"Topic7\", \"Topic7\", \"Topic7\", \"Topic7\", \"Topic7\", \"Topic7\", \"Topic7\", \"Topic7\", \"Topic7\", \"Topic7\", \"Topic7\", \"Topic7\", \"Topic7\", \"Topic7\", \"Topic7\", \"Topic7\", \"Topic7\", \"Topic7\", \"Topic7\", \"Topic7\", \"Topic7\", \"Topic7\", \"Topic7\", \"Topic7\", \"Topic7\", \"Topic7\", \"Topic7\", \"Topic7\", \"Topic7\", \"Topic7\", \"Topic7\", \"Topic7\", \"Topic8\", \"Topic8\", \"Topic8\", \"Topic8\", \"Topic8\", \"Topic8\", \"Topic8\", \"Topic8\", \"Topic8\", \"Topic8\", \"Topic8\", \"Topic8\", \"Topic8\", \"Topic8\", \"Topic8\", \"Topic8\", \"Topic8\", \"Topic8\", \"Topic8\", \"Topic8\", \"Topic8\", \"Topic8\", \"Topic8\", \"Topic8\", \"Topic8\", \"Topic8\", \"Topic8\", \"Topic8\", \"Topic8\", \"Topic8\", \"Topic8\", \"Topic8\", \"Topic8\", \"Topic8\", \"Topic8\", \"Topic9\", \"Topic9\", \"Topic9\", \"Topic9\", \"Topic9\", \"Topic9\", \"Topic9\", \"Topic9\", \"Topic9\", \"Topic9\", \"Topic9\", \"Topic9\", \"Topic9\", \"Topic9\", \"Topic9\", \"Topic9\", \"Topic9\", \"Topic9\", \"Topic9\", \"Topic9\", \"Topic9\", \"Topic9\", \"Topic9\", \"Topic9\", \"Topic9\", \"Topic9\", \"Topic9\", \"Topic9\", \"Topic9\", \"Topic9\", \"Topic9\", \"Topic9\", \"Topic9\", \"Topic9\", \"Topic10\", \"Topic10\", \"Topic10\", \"Topic10\", \"Topic10\", \"Topic10\", \"Topic10\", \"Topic10\", \"Topic10\", \"Topic10\", \"Topic10\", \"Topic10\", \"Topic10\", \"Topic10\", \"Topic10\", \"Topic10\", \"Topic10\", \"Topic10\", \"Topic10\", \"Topic10\", \"Topic10\", \"Topic10\", \"Topic10\", \"Topic10\", \"Topic10\", \"Topic10\", \"Topic10\", \"Topic10\", \"Topic10\", \"Topic10\", \"Topic10\", \"Topic10\", \"Topic10\", \"Topic10\", \"Topic10\", \"Topic10\", \"Topic10\", \"Topic11\", \"Topic11\", \"Topic11\", \"Topic11\", \"Topic11\", \"Topic11\", \"Topic11\", \"Topic11\", \"Topic11\", \"Topic11\", \"Topic11\", \"Topic11\", \"Topic11\", \"Topic11\", \"Topic11\", \"Topic11\", \"Topic11\", \"Topic11\", \"Topic11\", \"Topic11\", \"Topic11\", \"Topic11\", \"Topic11\", \"Topic11\", \"Topic11\", \"Topic11\", \"Topic11\", \"Topic11\", \"Topic11\", \"Topic11\", \"Topic11\", \"Topic11\", \"Topic11\", \"Topic11\", \"Topic11\", \"Topic11\", \"Topic11\", \"Topic11\", \"Topic11\", \"Topic11\", \"Topic11\", \"Topic11\", \"Topic11\", \"Topic11\", \"Topic12\", \"Topic12\", \"Topic12\", \"Topic12\", \"Topic12\", \"Topic12\", \"Topic12\", \"Topic12\", \"Topic12\", \"Topic12\", \"Topic12\", \"Topic12\", \"Topic12\", \"Topic12\", \"Topic12\", \"Topic12\", \"Topic12\", \"Topic12\", \"Topic12\", \"Topic12\", \"Topic12\", \"Topic12\", \"Topic12\", \"Topic12\", \"Topic12\", \"Topic12\", \"Topic12\", \"Topic12\", \"Topic12\", \"Topic12\", \"Topic12\", \"Topic12\", \"Topic12\", \"Topic12\", \"Topic12\", \"Topic12\", \"Topic12\", \"Topic12\", \"Topic13\", \"Topic13\", \"Topic13\", \"Topic13\", \"Topic13\", \"Topic13\", \"Topic13\", \"Topic13\", \"Topic13\", \"Topic13\", \"Topic13\", \"Topic13\", \"Topic13\", \"Topic13\", \"Topic13\", \"Topic13\", \"Topic13\", \"Topic13\", \"Topic13\", \"Topic13\", \"Topic13\", \"Topic13\", \"Topic13\", \"Topic13\", \"Topic13\", \"Topic13\", \"Topic13\", \"Topic13\", \"Topic13\", \"Topic13\", \"Topic13\", \"Topic13\", \"Topic13\", \"Topic13\", \"Topic13\", \"Topic13\", \"Topic13\", \"Topic13\", \"Topic13\", \"Topic13\", \"Topic13\", \"Topic13\", \"Topic13\", \"Topic14\", \"Topic14\", \"Topic14\", \"Topic14\", \"Topic14\", \"Topic14\", \"Topic14\", \"Topic14\", \"Topic14\", \"Topic14\", \"Topic14\", \"Topic14\", \"Topic14\", \"Topic14\", \"Topic14\", \"Topic14\", \"Topic14\", \"Topic14\", \"Topic14\", \"Topic14\", \"Topic14\", \"Topic14\", \"Topic14\", \"Topic14\", \"Topic14\", \"Topic14\", \"Topic14\", \"Topic14\", \"Topic14\", \"Topic14\", \"Topic14\", \"Topic14\", \"Topic14\", \"Topic14\", \"Topic14\", \"Topic14\", \"Topic14\", \"Topic14\", \"Topic14\", \"Topic14\", \"Topic14\", \"Topic14\", \"Topic15\", \"Topic15\", \"Topic15\", \"Topic15\", \"Topic15\", \"Topic15\", \"Topic15\", \"Topic15\", \"Topic15\", \"Topic15\", \"Topic15\", \"Topic15\", \"Topic15\", \"Topic15\", \"Topic15\", \"Topic15\", \"Topic15\", \"Topic15\", \"Topic15\", \"Topic15\", \"Topic15\", \"Topic15\", \"Topic15\", \"Topic15\", \"Topic15\", \"Topic15\", \"Topic15\", \"Topic15\", \"Topic15\", \"Topic15\", \"Topic15\", \"Topic15\", \"Topic15\", \"Topic15\", \"Topic15\", \"Topic15\", \"Topic15\", \"Topic15\", \"Topic15\", \"Topic15\", \"Topic15\", \"Topic15\", \"Topic15\", \"Topic16\", \"Topic16\", \"Topic16\", \"Topic16\", \"Topic16\", \"Topic16\", \"Topic16\", \"Topic16\", \"Topic16\", \"Topic16\", \"Topic16\", \"Topic16\", \"Topic16\", \"Topic16\", \"Topic16\", \"Topic16\", \"Topic16\", \"Topic16\", \"Topic16\", \"Topic16\", \"Topic16\", \"Topic16\", \"Topic16\", \"Topic16\", \"Topic16\", \"Topic16\", \"Topic16\", \"Topic16\", \"Topic16\", \"Topic16\", \"Topic16\", \"Topic16\", \"Topic16\", \"Topic16\", \"Topic16\", \"Topic16\", \"Topic16\", \"Topic16\", \"Topic16\", \"Topic16\", \"Topic16\", \"Topic16\", \"Topic16\", \"Topic16\", \"Topic16\", \"Topic16\", \"Topic17\", \"Topic17\", \"Topic17\", \"Topic17\", \"Topic17\", \"Topic17\", \"Topic17\", \"Topic17\", \"Topic17\", \"Topic17\", \"Topic17\", \"Topic17\", \"Topic17\", \"Topic17\", \"Topic17\", \"Topic17\", \"Topic17\", \"Topic17\", \"Topic17\", \"Topic17\", \"Topic17\", \"Topic17\", \"Topic17\", \"Topic17\", \"Topic17\", \"Topic17\", \"Topic17\", \"Topic17\", \"Topic17\", \"Topic17\", \"Topic17\", \"Topic17\", \"Topic17\", \"Topic17\", \"Topic17\", \"Topic17\", \"Topic17\", \"Topic17\", \"Topic17\", \"Topic17\", \"Topic17\", \"Topic17\", \"Topic17\", \"Topic18\", \"Topic18\", \"Topic18\", \"Topic18\", \"Topic18\", \"Topic18\", \"Topic18\", \"Topic18\", \"Topic18\", \"Topic18\", \"Topic18\", \"Topic18\", \"Topic18\", \"Topic18\", \"Topic18\", \"Topic18\", \"Topic18\", \"Topic18\", \"Topic18\", \"Topic18\", \"Topic18\", \"Topic18\", \"Topic18\", \"Topic18\", \"Topic18\", \"Topic18\", \"Topic18\", \"Topic18\", \"Topic18\", \"Topic18\", \"Topic18\", \"Topic18\", \"Topic18\", \"Topic18\", \"Topic18\", \"Topic18\", \"Topic18\", \"Topic18\", \"Topic18\", \"Topic18\", \"Topic18\", \"Topic18\", \"Topic18\", \"Topic18\", \"Topic18\", \"Topic19\", \"Topic19\", \"Topic19\", \"Topic19\", \"Topic19\", \"Topic19\", \"Topic19\", \"Topic19\", \"Topic19\", \"Topic19\", \"Topic19\", \"Topic19\", \"Topic19\", \"Topic19\", \"Topic19\", \"Topic19\", \"Topic19\", \"Topic19\", \"Topic19\", \"Topic19\", \"Topic19\", \"Topic19\", \"Topic19\", \"Topic19\", \"Topic19\", \"Topic19\", \"Topic19\", \"Topic19\", \"Topic19\", \"Topic19\", \"Topic19\", \"Topic19\", \"Topic19\", \"Topic19\", \"Topic19\", \"Topic19\", \"Topic19\", \"Topic19\", \"Topic19\", \"Topic19\", \"Topic19\", \"Topic19\", \"Topic19\", \"Topic19\", \"Topic19\", \"Topic19\", \"Topic19\", \"Topic19\", \"Topic19\", \"Topic19\", \"Topic19\", \"Topic19\", \"Topic20\", \"Topic20\", \"Topic20\", \"Topic20\", \"Topic20\", \"Topic20\", \"Topic20\", \"Topic20\", \"Topic20\", \"Topic20\", \"Topic20\", \"Topic20\", \"Topic20\", \"Topic20\", \"Topic20\", \"Topic20\", \"Topic20\", \"Topic20\", \"Topic20\", \"Topic20\", \"Topic20\", \"Topic20\", \"Topic20\", \"Topic20\", \"Topic20\", \"Topic20\", \"Topic20\", \"Topic20\", \"Topic20\", \"Topic20\", \"Topic20\", \"Topic20\", \"Topic20\", \"Topic20\", \"Topic20\", \"Topic20\", \"Topic20\", \"Topic20\", \"Topic20\", \"Topic20\", \"Topic20\", \"Topic20\", \"Topic20\", \"Topic20\", \"Topic20\", \"Topic20\", \"Topic20\", \"Topic20\", \"Topic20\", \"Topic20\"], \"logprob\": [30.0, 29.0, 28.0, 27.0, 26.0, 25.0, 24.0, 23.0, 22.0, 21.0, 20.0, 19.0, 18.0, 17.0, 16.0, 15.0, 14.0, 13.0, 12.0, 11.0, 10.0, 9.0, 8.0, 7.0, 6.0, 5.0, 4.0, 3.0, 2.0, 1.0, -4.7337, -4.9819, -5.2078, -5.3829, -5.5237, -5.5422, -5.6138, -5.6512, -5.7721, -5.8054, -5.8126, -4.9954, -5.8838, -5.9082, -5.9151, -5.9378, -5.9512, -6.0664, -6.0765, -6.105, -6.1612, -6.2159, -6.2295, -6.2348, -6.3473, -6.3527, -6.3873, -6.394, -6.4172, -6.4203, -4.9225, -4.4978, -5.7693, -5.562, -6.3214, -6.1848, -5.2037, -5.2372, -5.5421, -5.6232, -5.8293, -5.8845, -5.9039, -5.9674, -6.0889, -6.1039, -6.1214, -6.1435, -6.1629, -6.1909, -6.2578, -6.293, -6.3794, -6.4113, -6.4134, -6.4409, -6.4497, -6.4809, -6.5532, -6.5798, -6.6042, -6.6155, -6.6274, -6.6282, -6.6348, -6.5431, -6.462, -6.0567, -4.6571, -5.9242, -6.1124, -5.9888, -3.5877, -4.2827, -4.7905, -5.2295, -5.4782, -5.7165, -5.7575, -5.8848, -5.6994, -3.137, -6.1525, -5.7476, -6.3085, -5.4683, -6.4696, -6.2806, -6.3736, -5.2494, -6.1725, -6.707, -6.8421, -6.7819, -6.8664, -6.7814, -5.8059, -6.7783, -5.1288, -6.7874, -6.4122, -6.8803, -5.6349, -5.1513, -5.099, -6.038, -5.8079, -5.5407, -5.653, -5.4768, -5.7488, -5.743, -4.9745, -5.909, -6.1548, -6.0705, -4.7956, -5.8677, -5.9224, -6.3637, -5.3111, -6.6543, -6.8837, -6.673, -6.3711, -6.2355, -6.5195, -5.3854, -6.488, -6.9705, -5.8971, -7.0165, -6.9216, -6.7313, -7.3174, -7.3079, -7.2978, -7.4807, -6.8598, -7.4317, -7.492, -7.1905, -7.5273, -7.7893, -7.7095, -5.1589, -7.4209, -7.2036, -6.3642, -7.3311, -7.2635, -7.4153, -7.3841, -5.942, -5.9351, -5.3782, -6.0897, -6.5971, -6.8503, -6.9314, -7.1404, -7.197, -7.1216, -7.1941, -7.4307, -7.7234, -7.4839, -7.3869, -7.888, -7.348, -8.0461, -7.7383, -7.8153, -7.0644, -7.5895, -7.9788, -7.3078, -5.8357, -7.4263, -8.5137, -7.6278, -8.2866, -8.7358, -8.0394, -8.507, -5.7652, -6.4519, -6.0329, -6.0092, -6.6301, -6.5601, -6.7438, -6.4874, -7.2649, -7.3554, -7.0852, -6.9919, -7.5219, -7.4976, -7.2194, -7.5434, -7.1625, -7.24, -7.4463, -7.4037, -7.1877, -6.2878, -7.5974, -7.6906, -6.9364, -8.0454, -6.8582, -9.7662, -9.7662, -9.7662, -7.8271, -7.7989, -7.9487, -6.16, -6.1804, -5.099, -6.8485, -6.7076, -6.9539, -7.2932, -7.0869, -7.2885, -6.9545, -7.4041, -7.1126, -7.3622, -7.3165, -6.2028, -7.4567, -7.4606, -7.5022, -7.6702, -7.9601, -7.1691, -5.5809, -7.4998, -7.1169, -7.7277, -7.2784, -7.8249, -7.1288, -9.7683, -9.7683, -9.3028, -9.7568, -5.8333, -6.5248, -6.4333, -6.841, -6.5373, -6.7178, -6.7776, -6.5527, -7.0385, -7.195, -7.4845, -7.251, -7.3342, -7.4147, -7.6975, -7.7074, -7.8044, -7.8973, -7.4017, -7.8486, -8.5312, -7.8807, -8.723, -7.0251, -7.552, -9.7579, -9.7579, -9.7579, -9.7579, -9.7579, -7.7422, -8.5154, -9.4767, -9.6104, -9.633, -6.7003, -5.8277, -7.0355, -7.3235, -7.4239, -6.99, -7.3379, -7.3805, -6.2451, -7.427, -7.1997, -7.5317, -7.4236, -7.4595, -7.219, -7.6562, -7.4062, -7.5455, -7.4957, -7.4977, -7.3375, -7.5819, -7.0157, -8.1677, -7.7384, -6.7967, -7.629, -9.7579, -9.7579, -9.7579, -9.5095, -7.6207, -8.4057, -8.8991, -5.6959, -6.4644, -6.1714, -7.1231, -6.2027, -6.8224, -7.242, -6.9694, -7.2135, -7.0312, -7.4486, -7.2971, -7.189, -7.4546, -7.5069, -7.2127, -7.1693, -6.051, -7.7246, -7.1655, -7.1378, -7.9962, -9.3779, -9.7604, -9.7604, -9.7604, -9.7604, -9.7604, -9.7604, -9.7604, -7.4262, -9.5442, -9.7603, -9.7603, -9.7603, -9.7604, -9.7604, -5.7332, -6.0478, -6.4089, -6.635, -6.2626, -7.0411, -6.6898, -7.1385, -6.9097, -5.9781, -7.4959, -7.318, -8.3156, -8.3184, -8.1565, -7.6497, -9.7559, -9.7559, -9.7559, -9.7559, -9.7559, -9.7559, -9.7559, -9.7559, -9.7559, -9.7559, -9.7559, -9.7559, -9.7559, -9.7559, -9.7515, -9.7551, -9.7558, -9.7558, -9.7559, -9.7559, -9.7559, -9.7559, -9.7559, -9.7559, -9.7559, -9.7559, -9.7559, -9.7559, -6.466, -6.3316, -7.0733, -6.3049, -6.5008, -6.7721, -7.1063, -7.2816, -7.2208, -7.3677, -7.0824, -7.7034, -7.1372, -7.6012, -6.7939, -7.7791, -7.6755, -7.3378, -7.5496, -8.1227, -7.7953, -7.8662, -9.7552, -9.7552, -9.7552, -9.7552, -9.7552, -9.7552, -9.7552, -9.7552, -7.9301, -7.7895, -9.6693, -9.7471, -9.7514, -9.7545, -9.7551, -9.7551, -5.8868, -6.305, -6.2053, -7.2766, -7.2677, -7.6314, -7.6162, -7.3759, -6.5015, -7.8288, -7.6094, -7.5304, -7.7794, -7.911, -6.4759, -8.5695, -8.2637, -9.7528, -9.7528, -9.7528, -9.7528, -9.7528, -9.7528, -9.7528, -9.7528, -9.7528, -9.7528, -9.7528, -9.7528, -9.7528, -7.144, -7.6905, -9.731, -9.7338, -9.7121, -9.7516, -9.7482, -9.7481, -9.7522, -9.7525, -9.7527, -9.7527, -9.7527, -6.2268, -6.4711, -6.8868, -7.3828, -7.0208, -6.9787, -7.3403, -7.0607, -6.8541, -7.5237, -7.5612, -7.5213, -7.4799, -7.9518, -7.6264, -7.3752, -7.3332, -8.6827, -9.7503, -9.7503, -9.7503, -9.7503, -9.7503, -9.7503, -9.7503, -9.7503, -9.7503, -9.7503, -9.7503, -9.7503, -9.6075, -9.7503, -9.7503, -9.7503, -9.7503, -9.7503, -9.7503, -9.7503, -9.7503, -9.7503, -9.7503, -9.7503, -6.2115, -6.8237, -6.637, -6.6909, -6.753, -7.1877, -7.4644, -7.5309, -7.4991, -7.4656, -7.6957, -7.6069, -7.2725, -7.8774, -7.7518, -9.5584, -9.7487, -9.7487, -9.7487, -9.7487, -9.7487, -9.7487, -9.7487, -9.7487, -9.7487, -9.7487, -9.7487, -9.6238, -9.7487, -9.7487, -9.4736, -9.746, -9.7463, -9.7482, -9.7486, -9.7486, -9.7487, -9.7487, -9.7487, -9.7487, -9.7487, -9.7487, -9.7487, -6.32, -6.6652, -6.7445, -7.3755, -7.5169, -7.2816, -7.5009, -7.027, -7.6901, -7.7234, -7.4459, -8.3944, -8.0929, -7.5292, -9.7466, -9.7466, -9.7466, -9.7466, -9.7466, -9.7466, -9.7466, -9.7466, -9.7466, -9.7466, -9.7466, -9.7466, -9.7466, -9.7466, -9.7466, -9.7466, -9.721, -9.6817, -9.7461, -9.7462, -9.7466, -9.7466, -9.7466, -9.7466, -9.7466, -9.7466, -9.7466, -9.7466, -9.7466, -9.7466, -9.7466, -9.7466, -6.9969, -7.1448, -7.0275, -7.3755, -7.2029, -7.5161, -7.1691, -7.3512, -7.604, -7.6007, -7.4851, -7.7068, -6.9629, -7.8137, -7.8974, -6.9905, -9.7471, -9.452, -9.7471, -9.7471, -9.7471, -9.7471, -9.7471, -9.7471, -9.7471, -9.7471, -9.7471, -9.7471, -9.7471, -9.7471, -9.0878, -9.0949, -9.5649, -9.7457, -9.7471, -9.7471, -9.7471, -9.7471, -9.7471, -9.7471, -9.7471, -9.7471, -9.7471, -6.5504, -7.0005, -7.3431, -7.577, -7.3051, -7.5712, -7.5875, -7.4812, -7.5747, -7.4309, -7.7912, -7.6572, -8.0878, -7.3656, -8.0559, -9.7458, -9.7458, -9.7458, -9.7458, -9.7458, -9.7458, -9.7458, -9.7458, -9.7458, -9.7458, -9.7458, -9.7458, -9.7458, -9.7458, -9.7458, -7.7523, -9.2496, -9.7407, -9.7445, -9.7457, -9.7457, -9.7457, -9.7458, -9.7458, -9.7458, -9.7458, -9.7458, -9.7458, -9.7458, -9.7458, -6.1672, -6.5939, -6.9758, -7.302, -7.3368, -7.4121, -7.5764, -7.9526, -9.744, -9.744, -9.744, -9.744, -9.744, -9.744, -9.744, -9.744, -9.744, -9.744, -9.744, -9.744, -9.744, -9.744, -9.744, -9.744, -9.744, -9.744, -9.744, -9.744, -9.744, -9.744, -9.7438, -9.744, -9.744, -9.744, -9.744, -9.744, -9.744, -9.744, -9.744, -9.744, -9.744, -9.744, -9.744, -9.744, -9.744, -9.744, -9.744, -9.744, -9.744, -9.744, -9.744, -9.744, -6.8143, -7.3499, -7.2503, -7.6188, -8.186, -8.2747, -8.1977, -8.236, -7.3364, -8.1985, -9.7416, -9.7416, -9.7416, -9.7416, -9.7416, -9.7416, -9.7416, -9.7416, -9.7416, -9.7416, -9.7416, -9.7416, -9.7416, -9.7416, -9.7416, -9.7416, -9.7416, -9.7416, -9.7416, -9.7416, -9.7416, -9.7416, -9.7416, -9.7416, -9.7416, -9.7416, -9.7416, -9.7416, -9.7416, -9.7416, -9.7416, -9.7416, -9.7416, -9.7416, -9.7416, -9.7416, -9.7416, -9.7416, -9.7416, -9.7416], \"loglift\": [30.0, 29.0, 28.0, 27.0, 26.0, 25.0, 24.0, 23.0, 22.0, 21.0, 20.0, 19.0, 18.0, 17.0, 16.0, 15.0, 14.0, 13.0, 12.0, 11.0, 10.0, 9.0, 8.0, 7.0, 6.0, 5.0, 4.0, 3.0, 2.0, 1.0, 0.3431, 0.3426, 0.3421, 0.3417, 0.3412, 0.3412, 0.3409, 0.3408, 0.3403, 0.3402, 0.3401, 0.34, 0.3398, 0.3397, 0.3397, 0.3395, 0.3395, 0.3389, 0.3388, 0.3386, 0.3383, 0.3379, 0.3379, 0.3378, 0.337, 0.337, 0.3367, 0.3367, 0.3365, 0.3364, 0.3097, 0.2953, 0.321, -0.0919, 0.299, 0.0892, 1.8461, 1.8457, 1.8416, 1.8402, 1.8363, 1.8352, 1.8347, 1.8333, 1.8302, 1.8298, 1.8293, 1.8287, 1.8281, 1.8272, 1.8253, 1.8241, 1.8212, 1.82, 1.82, 1.8189, 1.8186, 1.8174, 1.8145, 1.8133, 1.8123, 1.8118, 1.8112, 1.8112, 1.8109, 1.8102, 1.8085, 1.6533, 0.813, 0.3497, 0.5044, -1.1957, 3.741, 3.7356, 3.7142, 3.6853, 3.6629, 3.6362, 3.6306, 3.6137, 3.609, 3.5775, 3.5703, 3.5447, 3.54, 3.5388, 3.4876, 3.4739, 3.457, 3.4544, 3.4484, 3.4453, 3.4061, 3.4057, 3.3975, 3.3842, 3.3793, 3.3784, 3.3727, 3.328, 3.3224, 3.3184, 3.3134, 3.3041, 3.0049, 3.139, 3.02, 2.736, 2.4542, 2.262, 2.4138, 1.967, 0.2577, 1.8963, 1.845, 4.2984, 4.2288, 4.2187, 4.199, 4.1865, 4.1827, 3.9653, 3.9282, 3.8519, 3.8342, 3.7428, 3.7424, 3.7368, 3.7186, 3.6621, 3.6457, 3.6289, 3.6155, 3.5806, 3.549, 3.497, 3.4928, 3.4411, 3.3814, 3.3704, 3.3403, 3.3371, 3.2563, 3.2358, 3.2052, 2.8822, 3.169, 2.9919, 2.2475, 2.9578, 2.5607, 3.1332, 2.5406, 4.4828, 4.2837, 4.2467, 4.1438, 3.9507, 3.7379, 3.7115, 3.567, 3.5445, 3.5297, 3.4882, 3.3869, 3.3282, 3.2957, 3.2018, 3.1663, 3.0763, 2.931, 2.8767, 2.8281, 2.8213, 2.8059, 2.7714, 2.5304, 2.5231, 2.5065, 2.4285, 2.4202, 2.2439, 2.169, 0.5724, 1.5572, 4.5481, 4.2483, 4.0728, 4.0547, 4.0034, 3.8406, 3.8341, 3.5822, 3.5471, 3.5182, 3.4426, 3.4305, 3.3775, 3.3544, 3.3523, 3.2563, 2.9839, 2.9755, 2.8975, 2.8574, 2.8333, 2.6109, 2.5817, 2.5146, 2.4334, 2.2267, 1.7507, 1.4916, 1.4705, 1.4631, 1.098, 0.4716, -0.1434, 4.2562, 4.0873, 4.0209, 3.7779, 3.7027, 3.6381, 3.5869, 3.5444, 3.5204, 3.5102, 3.5048, 3.4427, 3.3865, 3.2812, 3.2659, 3.1671, 3.1408, 3.1269, 3.0484, 2.9516, 2.8765, 2.7778, 2.7449, 2.7073, 2.5951, 2.5077, 2.4741, 1.743, 1.4894, 1.4684, 0.5566, -0.3099, 4.2989, 3.965, 3.8864, 3.8137, 3.8091, 3.7503, 3.6316, 3.5494, 3.4389, 3.3755, 3.3315, 3.2817, 3.2788, 3.1021, 3.1014, 3.0559, 2.5563, 2.3941, 2.3513, 2.2064, 2.2047, 2.0914, 1.9471, 1.9103, 1.6317, 1.4999, 1.4788, 1.4714, 1.4676, 1.4669, 1.3776, -0.7384, 0.4804, 0.4826, -0.4601, 3.8686, 3.7085, 3.5411, 3.4639, 3.4518, 3.4351, 3.4038, 3.394, 3.3798, 3.3639, 3.3217, 3.1673, 3.163, 3.1515, 3.0992, 3.0649, 3.062, 3.0271, 3.0061, 3.0052, 2.9919, 2.9408, 2.9152, 2.8411, 2.5643, 2.3761, 2.1085, 1.4998, 1.4788, 1.4714, 1.3961, 0.738, -0.0523, 0.1886, 4.3263, 4.1018, 3.9441, 3.7226, 3.6706, 3.6697, 3.6084, 3.5612, 3.5211, 3.4453, 3.4294, 3.3439, 3.255, 3.135, 3.0876, 3.0556, 2.9003, 2.8271, 2.6088, 2.6062, 2.2495, 2.188, 1.5899, 1.4974, 1.4763, 1.4689, 1.4651, 1.4643, 1.4615, 1.4613, 1.013, 0.7863, 1.2747, 1.3485, 0.9466, 1.2377, 0.9888, 4.5973, 4.2015, 4.1357, 3.9165, 3.8535, 3.7182, 3.6552, 3.5394, 3.4558, 3.3672, 2.7453, 2.7366, 2.7202, 2.5867, 2.2931, 1.9416, 1.5019, 1.4808, 1.4734, 1.4696, 1.4688, 1.466, 1.4658, 1.4642, 1.4624, 1.4572, 1.4532, 1.4507, 1.4498, 1.4472, 0.2057, -0.2637, 1.1216, 1.0627, 1.2948, 0.8219, 0.3589, 1.1175, 1.2887, 0.4755, 1.3254, 0.9226, 1.0159, 1.3171, 3.9708, 3.8489, 3.7791, 3.7408, 3.7404, 3.7274, 3.6245, 3.5752, 3.4001, 3.3978, 3.2833, 3.2795, 3.2391, 3.2244, 3.1592, 3.0836, 3.0196, 2.8957, 2.8358, 2.7785, 2.7734, 1.7226, 1.5026, 1.4815, 1.4741, 1.4703, 1.4695, 1.4666, 1.4665, 1.4649, 1.3677, 0.9308, -1.6512, 0.6563, 0.4563, 1.2692, 1.2565, 0.9774, 4.3936, 4.1247, 4.0668, 3.4507, 3.435, 3.2715, 3.2576, 3.1886, 3.1849, 3.1571, 3.1369, 3.0766, 2.9366, 2.6056, 2.396, 1.9785, 1.7254, 1.5049, 1.4839, 1.4764, 1.4726, 1.4719, 1.469, 1.4688, 1.4673, 1.4655, 1.4603, 1.4562, 1.4537, 1.4529, 1.3412, 0.9208, 1.2349, 1.0554, 0.3234, 1.4078, 1.1422, 1.1043, 0.933, 0.9477, 1.2288, 0.7491, 0.7013, 4.1917, 4.0284, 3.8452, 3.6318, 3.536, 3.5075, 3.5052, 3.4796, 3.4043, 3.2404, 3.2236, 3.0385, 2.9644, 2.8959, 2.3358, 2.296, 1.7971, 1.5677, 1.5074, 1.4864, 1.479, 1.4752, 1.4744, 1.4715, 1.4714, 1.4698, 1.468, 1.4628, 1.4588, 1.4562, 0.3208, 1.1161, 1.273, 1.2761, 1.2193, 1.1673, 1.256, 1.2483, 1.2463, 1.2011, 1.1644, 1.3461, 4.1185, 3.8424, 3.8321, 3.7826, 3.4947, 3.4883, 3.4737, 3.3693, 3.3693, 3.176, 3.1494, 3.1001, 2.9734, 2.908, 1.9857, 1.6117, 1.509, 1.488, 1.4805, 1.4767, 1.476, 1.4731, 1.4729, 1.4714, 1.4696, 1.4643, 1.4603, 1.4593, 1.4578, 1.457, -0.0844, -0.1517, 1.2181, 1.0546, 0.912, 0.8916, 1.2129, 1.1634, 1.2978, 1.2596, 0.701, 1.2275, 1.2063, 4.0408, 3.9212, 3.9003, 3.4378, 3.3357, 3.3138, 3.303, 3.2827, 3.2411, 2.8364, 2.3108, 2.2387, 2.1186, 1.8622, 1.5112, 1.4901, 1.4827, 1.4789, 1.4781, 1.4752, 1.4751, 1.4735, 1.4717, 1.4665, 1.4625, 1.46, 1.4591, 1.4565, 1.45, 1.4491, 0.8189, -0.4921, 1.4149, 1.1697, 1.1656, 0.0916, 0.7394, 0.4566, 0.3547, 0.4023, 0.6292, 1.1198, 1.0458, 1.2841, 0.287, 1.2453, 3.791, 3.6509, 3.4357, 3.3355, 3.3276, 3.2437, 3.1812, 3.1479, 3.1281, 3.1067, 3.1023, 3.0538, 3.0504, 3.0146, 2.7858, 2.747, 1.5107, 1.5017, 1.4896, 1.4822, 1.4784, 1.4776, 1.4748, 1.4746, 1.4731, 1.4713, 1.466, 1.462, 1.4595, 1.4586, 1.1394, 0.5762, 0.2722, 0.1735, 1.273, 1.2174, 1.3702, 1.2561, 1.2113, 1.2521, 1.3504, 1.3501, 1.2877, 3.9637, 3.2656, 3.2527, 3.2513, 3.2444, 3.2136, 3.1534, 3.0954, 3.0767, 2.8374, 2.6258, 2.5905, 2.4521, 2.4061, 1.6816, 1.5119, 1.4909, 1.4835, 1.4796, 1.4789, 1.476, 1.4758, 1.4743, 1.4725, 1.4673, 1.4633, 1.4607, 1.4599, 1.4572, 1.4508, 0.8835, -0.0767, 1.1098, 0.9624, 0.4878, 0.3691, 0.2516, 0.3056, -1.077, 1.4136, 0.8996, 1.0586, 1.3131, 1.3153, 1.2513, 4.0899, 3.9062, 3.6515, 3.5468, 3.4866, 3.1335, 2.614, 1.7575, 1.5138, 1.4927, 1.4853, 1.4815, 1.4807, 1.4778, 1.4777, 1.4761, 1.4743, 1.4691, 1.4651, 1.4625, 1.4617, 1.459, 1.4526, 1.4517, 1.4514, 1.4494, 1.4479, 1.4458, 1.4367, 1.4367, 1.1064, 1.3538, 1.3483, 1.2137, 1.3129, 1.3231, 1.3553, 1.3449, 1.2628, 1.0414, 1.0073, 1.0384, 1.1649, 1.2883, 1.2193, 1.1705, 1.2668, 1.3133, 0.9454, 1.3035, 0.9414, 1.1727, 3.7376, 3.4088, 3.377, 3.1401, 2.7809, 2.7604, 2.7527, 2.7066, 2.3589, 1.6321, 1.5161, 1.4951, 1.4877, 1.4838, 1.4831, 1.4802, 1.48, 1.4785, 1.4767, 1.4715, 1.4675, 1.4649, 1.4641, 1.4614, 1.455, 1.4541, 1.4538, 1.4517, 1.4502, 1.4482, 1.3577, -0.3753, 0.8781, 1.3466, 1.2579, 1.3124, 1.0493, 1.2957, 1.1228, 1.28, 0.9407, 1.1751, 1.1706, 1.2563, 1.1662, 1.0717, 1.1593, 1.2459, 1.079, 1.2105]}, \"token.table\": {\"Topic\": [2, 1, 1, 1, 2, 1, 1, 1, 3, 1, 3, 1, 3, 1, 3, 2, 2, 1, 3, 2, 2, 1, 1, 1, 1, 2, 1, 2, 1, 3, 1, 2, 4, 1, 2, 2, 2, 1, 2, 1, 2, 2, 2, 2, 2, 1, 3, 2, 3, 2, 3, 2, 3, 1, 4, 2, 2, 1, 1, 1, 3, 3, 2, 3, 3, 1, 1, 3, 2, 2, 2, 2, 1, 1, 3, 1, 2, 2, 2, 1, 2, 2, 3, 2, 1, 2, 3, 3, 3, 2, 1, 1, 1, 2, 1, 2, 2, 1, 1, 2, 3, 1, 3, 2, 2, 2, 1, 2, 3, 1, 3, 1, 2, 4, 2, 4, 3, 1, 2, 1, 2, 1, 2, 1, 1, 2, 2, 3, 7, 1, 2, 5, 2, 1, 2, 2, 2, 1, 2, 2, 1, 1, 2, 2, 1, 1, 2, 1, 1, 2, 2, 1, 2, 2, 1, 1, 2, 2, 2, 1, 2, 1, 3, 2, 3, 3, 1, 1, 2, 2, 2, 1, 2, 2, 3, 1, 2, 2, 2, 2, 3, 1, 3, 1, 2, 1, 2, 3, 2, 3, 2, 3, 1, 3, 3, 1, 3, 2, 2, 2, 1, 3, 2, 2, 1, 1, 3, 1, 2, 1, 1, 2, 2, 1, 2], \"Freq\": [0.8887515410980144, 0.9909797124157451, 0.97068364294101, 1.002733338619479, 1.021776724404303, 0.9850368235966579, 1.2766013947708428, 0.5307682588072533, 0.5307682588072533, 0.4222922840990892, 0.8445845681981784, 0.9656522406706476, 0.030818688532041946, 0.1809365018872071, 0.814214258492432, 1.1148618031277526, 1.2343400584664848, 0.8078203939794601, 0.13463673232991002, 0.9043650293797462, 1.0781799534486676, 0.8912153639879501, 0.9997041067224932, 1.0130969135496362, 1.326566964518022, 0.8056367908630476, 0.9908503290070872, 1.1301677549000977, 1.1250697085056707, 1.0203765744022504, 0.9022739808051438, 0.5024357681296678, 0.5024357681296678, 1.0046121121979243, 0.6413731842158799, 1.0749884211121166, 0.9267911450355286, 0.953525316425869, 0.0463519251040353, 1.0112952187607902, 0.9714871491039383, 1.0270287169141208, 0.825082319950591, 0.8036519981270399, 0.9923134945718748, 1.0025245280436563, 1.4076649418749, 0.8817769859922179, 0.8166496086256757, 1.0031205077452081, 1.1580672018165965, 0.8568118187407412, 0.12240168839153445, 0.9928161486726874, 0.7286084809495456, 1.3557830288102681, 1.33757582320648, 0.9944340696361845, 0.7104957898098053, 0.8240293602846706, 0.13733822671411178, 0.5955891665929955, 0.7283714044308927, 0.18209285110772316, 1.0240729116671987, 1.001468873257663, 0.8178049784351736, 0.16356099568703472, 1.0686635713671435, 0.9476220248438741, 0.9995734948992674, 1.0281735421782807, 0.9916772111080628, 0.3743346596218541, 0.3743346596218541, 0.6280841963781808, 0.8557064777791573, 0.8575651544295733, 0.954566878757249, 0.7384087346752027, 0.24613624489173425, 1.2958180804580999, 1.038872945356049, 1.0076708739291171, 0.9759477748207873, 0.6471523439787632, 0.4314348959858421, 0.6554916452478525, 0.6327145687777462, 1.014625550546065, 0.987784163896268, 0.9959875120857928, 0.9882932135420004, 0.9316353728487773, 0.6562392319974096, 0.961994948262463, 0.9993971586304475, 1.1533195463602193, 0.993274789987411, 0.2579349129048716, 0.5158698258097432, 0.544485557918072, 0.544485557918072, 0.6435975414036024, 0.9887177128620489, 1.012019685422522, 1.0501978664363945, 0.6550311365268169, 1.0032278167430724, 0.7558810943577787, 0.2519603647859262, 0.681743871290417, 0.17043596782260426, 0.17043596782260426, 0.45563621803275317, 0.45563621803275317, 0.6052725076278783, 1.1639317423187845, 1.0138823379779123, 1.0058432500717394, 0.945092009342301, 0.9967292584099527, 0.7972591720397955, 1.002233549152399, 0.6951900530205039, 0.9047691722739375, 0.5012763519750544, 0.5012763519750544, 0.5012763519750544, 0.7823823097620439, 0.7025063281014351, 0.83062098447875, 0.9708217449301578, 1.004811765671161, 0.7872781317033003, 1.0571166253583268, 0.8699982954115247, 1.127970106201227, 0.9579026168054001, 1.0151118649109265, 1.006634726130709, 0.9812045754521539, 0.9367748764486222, 1.277054376039154, 0.8011858379299613, 1.2249810529428948, 0.8336322775537903, 0.9296780358919045, 0.9469474994516897, 0.04117163041094303, 0.9726892855771587, 1.0649047767416395, 0.9694323850089281, 1.402748349592471, 1.2524491750585263, 0.6516074224873226, 0.3518680081431542, 1.0328849998859824, 1.1956397533050633, 0.7861284567978553, 0.23292695016232748, 0.9987031554658821, 0.8129562597233896, 0.7268234021613089, 0.9160807316341054, 0.9996247601417285, 0.9045679392994512, 0.9691630632372297, 0.024229076580930743, 1.2054857611001983, 0.9441678215908301, 1.0084983957122244, 0.9185437522901123, 1.0153417369972293, 0.926896722392913, 1.0093962532676948, 0.7651964293751514, 0.9807069597353179, 0.9381543848845421, 0.9565873235637552, 0.8273192583732989, 0.9172411345967241, 0.06114940897311494, 1.0060419918329515, 0.9195683668520855, 1.0005172264475877, 1.030758825137707, 0.7319980392324621, 1.0606329034673339, 0.8031987740984364, 0.33069023223948213, 0.6613804644789643, 1.0057353363268675, 0.535111011175849, 0.8957028334212842, 0.2701057261004349, 0.5402114522008697, 1.1754337664857304, 0.9342688292272988, 0.5989034146232016, 0.8833605521064096, 0.9456178153311678, 1.2723557204280764, 1.0571983763739803, 0.7601960825339145, 0.7698683894314983, 0.19246709735787457, 0.9760773833449513, 1.1210598050217169, 1.2889812185554568, 0.9161676689872529, 0.6576889729114246, 1.2500189372296207, 0.9908969098463558, 0.9051994709665462], \"Term\": [\"abuse\", \"action\", \"adult\", \"adventure\", \"affair\", \"alien\", \"ambulance\", \"amnesia\", \"amnesia\", \"angst\", \"angst\", \"animation\", \"animation\", \"anime\", \"anime\", \"approved\", \"architect\", \"arts\", \"arts\", \"astronaut\", \"atomic\", \"austria\", \"biography\", \"bisexuality\", \"bomber\", \"bombing\", \"book\", \"border\", \"bucket\", \"catholicism\", \"chef\", \"cinematic\", \"cinematic\", \"city\", \"cocaine\", \"colbert\", \"comedian\", \"comedy\", \"comedy\", \"comic\", \"competition\", \"controversial\", \"cook\", \"cooking\", \"courtroom\", \"crime\", \"crunchyroll\", \"cult\", \"cyberpunk\", \"dealer\", \"deity\", \"demon\", \"demon\", \"detective\", \"dinosaur\", \"disambiguation\", \"distinct\", \"documentary\", \"drag\", \"dragon\", \"dragon\", \"drastic\", \"dystopia\", \"dystopia\", \"ecchi\", \"england\", \"english\", \"english\", \"entrepreneur\", \"environmentalism\", \"espionage\", \"extinction\", \"fantasy\", \"fighting\", \"fighting\", \"firefighter\", \"florida\", \"food\", \"football\", \"friendship\", \"friendship\", \"frog\", \"funimation\", \"gay\", \"godfather\", \"gore\", \"gore\", \"gunfight\", \"harem\", \"hidden\", \"historical\", \"history\", \"horror\", \"hotel\", \"imperial\", \"improvisation\", \"invasion\", \"invention\", \"investigation\", \"japan\", \"japan\", \"japanese\", \"japanese\", \"kung\", \"lawyer\", \"lgbt\", \"lip\", \"lying\", \"manga\", \"martial\", \"martial\", \"marvel\", \"marvel\", \"marvel\", \"mcu\", \"mcu\", \"mecha\", \"merlin\", \"mining\", \"miniseries\", \"moon\", \"murder\", \"mutant\", \"mystery\", \"nasa\", \"nazi\", \"neo\", \"neo\", \"neo\", \"ninja\", \"noir\", \"nordic\", \"norway\", \"novel\", \"nypd\", \"oil\", \"oklahoma\", \"painting\", \"panel\", \"phenomena\", \"police\", \"power\", \"protagonist\", \"psychotic\", \"railroad\", \"ramsay\", \"ranch\", \"reenactment\", \"relationship\", \"relationship\", \"religion\", \"renaissance\", \"restaurant\", \"rip\", \"ritual\", \"romance\", \"romance\", \"romantic\", \"satanic\", \"school\", \"school\", \"sci\", \"seinen\", \"shapeshifting\", \"shonen\", \"shounen\", \"simulation\", \"sitcom\", \"sitcom\", \"skit\", \"slacker\", \"slavery\", \"slice\", \"soccer\", \"sonic\", \"space\", \"spider\", \"sport\", \"sports\", \"spy\", \"steampunk\", \"super\", \"super\", \"superhero\", \"superhuman\", \"supernatural\", \"surrealism\", \"swordplay\", \"teacher\", \"telepathy\", \"terrorism\", \"terrorism\", \"thriller\", \"tokyo\", \"tournament\", \"tragedy\", \"tragedy\", \"trend\", \"triangle\", \"turkey\", \"turtle\", \"unrated\", \"versions\", \"versus\", \"viking\", \"volume\", \"volume\", \"war\", \"warden\", \"wellness\", \"western\", \"wildlife\", \"wonderful\", \"york\", \"zombie\"]}, \"R\": 30, \"lambda.step\": 0.01, \"plot.opts\": {\"xlab\": \"PC1\", \"ylab\": \"PC2\"}, \"topic.order\": [1, 2, 19, 8, 14, 18, 11, 13, 9, 6, 7, 15, 10, 3, 20, 4, 12, 17, 16, 5]};\n",
       "\n",
       "function LDAvis_load_lib(url, callback){\n",
       "  var s = document.createElement('script');\n",
       "  s.src = url;\n",
       "  s.async = true;\n",
       "  s.onreadystatechange = s.onload = callback;\n",
       "  s.onerror = function(){console.warn(\"failed to load library \" + url);};\n",
       "  document.getElementsByTagName(\"head\")[0].appendChild(s);\n",
       "}\n",
       "\n",
       "if(typeof(LDAvis) !== \"undefined\"){\n",
       "   // already loaded: just create the visualization\n",
       "   !function(LDAvis){\n",
       "       new LDAvis(\"#\" + \"ldavis_el2467625348523180329825511863\", ldavis_el2467625348523180329825511863_data);\n",
       "   }(LDAvis);\n",
       "}else if(typeof define === \"function\" && define.amd){\n",
       "   // require.js is available: use it to load d3/LDAvis\n",
       "   require.config({paths: {d3: \"https://d3js.org/d3.v5\"}});\n",
       "   require([\"d3\"], function(d3){\n",
       "      window.d3 = d3;\n",
       "      LDAvis_load_lib(\"https://cdn.jsdelivr.net/gh/bmabey/pyLDAvis@3.4.0/pyLDAvis/js/ldavis.v3.0.0.js\", function(){\n",
       "        new LDAvis(\"#\" + \"ldavis_el2467625348523180329825511863\", ldavis_el2467625348523180329825511863_data);\n",
       "      });\n",
       "    });\n",
       "}else{\n",
       "    // require.js not available: dynamically load d3 & LDAvis\n",
       "    LDAvis_load_lib(\"https://d3js.org/d3.v5.js\", function(){\n",
       "         LDAvis_load_lib(\"https://cdn.jsdelivr.net/gh/bmabey/pyLDAvis@3.4.0/pyLDAvis/js/ldavis.v3.0.0.js\", function(){\n",
       "                 new LDAvis(\"#\" + \"ldavis_el2467625348523180329825511863\", ldavis_el2467625348523180329825511863_data);\n",
       "            })\n",
       "         });\n",
       "}\n",
       "</script>"
      ],
      "text/plain": [
       "PreparedData(topic_coordinates=              x         y  topics  cluster       Freq\n",
       "topic                                                \n",
       "0      0.241815 -0.052951       1        1  70.852388\n",
       "1     -0.217823 -0.061056       2        1  15.607920\n",
       "18    -0.004159  0.116418       3        1   2.307733\n",
       "7     -0.002784  0.004920       4        1   0.860118\n",
       "13    -0.002018  0.000930       5        1   0.696361\n",
       "17    -0.001718  0.000169       6        1   0.696070\n",
       "10    -0.001621  0.001823       7        1   0.690781\n",
       "12    -0.001629 -0.000520       8        1   0.666842\n",
       "8     -0.001276 -0.000239       9        1   0.659603\n",
       "5     -0.001768 -0.000455      10        1   0.659277\n",
       "6     -0.000751  0.000200      11        1   0.653724\n",
       "14    -0.000777  0.000157      12        1   0.652517\n",
       "9     -0.001000 -0.000983      13        1   0.643526\n",
       "2     -0.000729 -0.000798      14        1   0.637507\n",
       "19    -0.000721 -0.000898      15        1   0.627565\n",
       "3     -0.000707 -0.001259      16        1   0.624363\n",
       "11    -0.000497 -0.000851      17        1   0.621958\n",
       "16    -0.000975 -0.001678      18        1   0.620647\n",
       "15    -0.000472 -0.001421      19        1   0.614545\n",
       "4     -0.000389 -0.001509      20        1   0.606556, topic_info=              Term       Freq      Total Category  logprob  loglift\n",
       "635      animation  97.000000  97.000000  Default  30.0000  30.0000\n",
       "641          anime  22.000000  22.000000  Default  29.0000  29.0000\n",
       "13041      romance  76.000000  76.000000  Default  28.0000  28.0000\n",
       "9254         manga  11.000000  11.000000  Default  27.0000  27.0000\n",
       "8790          lgbt  15.000000  15.000000  Default  26.0000  26.0000\n",
       "...            ...        ...        ...      ...      ...      ...\n",
       "3260    continents   0.006498   0.366806  Topic20  -9.7416   1.0717\n",
       "1941         brook   0.006498   0.336043  Topic20  -9.7416   1.1593\n",
       "12575  remastering   0.006498   0.308162  Topic20  -9.7416   1.2459\n",
       "9465    maximilian   0.006498   0.364150  Topic20  -9.7416   1.0790\n",
       "2310    casablanca   0.006498   0.319269  Topic20  -9.7416   1.2105\n",
       "\n",
       "[832 rows x 6 columns], token_table=       Topic      Freq       Term\n",
       "term                             \n",
       "54         2  0.888752      abuse\n",
       "141        1  0.990980     action\n",
       "236        1  0.970684      adult\n",
       "248        1  1.002733  adventure\n",
       "275        2  1.021777     affair\n",
       "...      ...       ...        ...\n",
       "16553      1  0.916168    western\n",
       "16626      2  0.657689   wildlife\n",
       "16727      2  1.250019  wonderful\n",
       "16865      1  0.990897       york\n",
       "16928      2  0.905199     zombie\n",
       "\n",
       "[215 rows x 3 columns], R=30, lambda_step=0.01, plot_opts={'xlab': 'PC1', 'ylab': 'PC2'}, topic_order=[1, 2, 19, 8, 14, 18, 11, 13, 9, 6, 7, 15, 10, 3, 20, 4, 12, 17, 16, 5])"
      ]
     },
     "execution_count": 36,
     "metadata": {},
     "output_type": "execute_result"
    }
   ],
   "source": [
    "# Topic Modelling Visualization for the show description texts\n",
    "pyLDAvis.sklearn.prepare(best_lda_model2, dtm_tfidf, tfidf_vectorizer)"
   ]
  },
  {
   "cell_type": "code",
   "execution_count": 37,
   "metadata": {},
   "outputs": [],
   "source": [
    "lda_results2 = best_lda_model2.fit_transform(dtm_tfidf) "
   ]
  },
  {
   "cell_type": "code",
   "execution_count": 38,
   "metadata": {},
   "outputs": [
    {
     "name": "stderr",
     "output_type": "stream",
     "text": [
      "100%|██████████| 2484/2484 [00:02<00:00, 1075.02it/s]\n"
     ]
    }
   ],
   "source": [
    "make_lda_topic_pct_cols(lda_results2, df, \"forced_alt_\")"
   ]
  },
  {
   "attachments": {},
   "cell_type": "markdown",
   "metadata": {},
   "source": [
    "## Save final results dataframe"
   ]
  },
  {
   "attachments": {},
   "cell_type": "markdown",
   "metadata": {},
   "source": [
    "> Saves only the results columns.  All other columns can be obtained from prior dataframes"
   ]
  },
  {
   "cell_type": "code",
   "execution_count": 39,
   "metadata": {},
   "outputs": [
    {
     "data": {
      "text/plain": [
       "Index(['name', 'href', 'tokenized_text', 'lda_topic0_match_pct',\n",
       "       'lda_topic1_match_pct', 'lda_topic2_match_pct', 'lda_topic3_match_pct',\n",
       "       'lda_topic4_match_pct', 'lsa_topic0_cos_match', 'lsa_topic1_cos_match',\n",
       "       'lsa_topic2_cos_match', 'lsa_topic3_cos_match', 'lsa_topic4_cos_match',\n",
       "       'lsa_topic5_cos_match', 'lsa_topic6_cos_match', 'lsa_topic7_cos_match',\n",
       "       'lsa_topic8_cos_match', 'lsa_topic9_cos_match',\n",
       "       'forced_alt_lda_topic0_match_pct', 'forced_alt_lda_topic1_match_pct',\n",
       "       'forced_alt_lda_topic2_match_pct', 'forced_alt_lda_topic3_match_pct',\n",
       "       'forced_alt_lda_topic4_match_pct', 'forced_alt_lda_topic5_match_pct',\n",
       "       'forced_alt_lda_topic6_match_pct', 'forced_alt_lda_topic7_match_pct',\n",
       "       'forced_alt_lda_topic8_match_pct', 'forced_alt_lda_topic9_match_pct',\n",
       "       'forced_alt_lda_topic10_match_pct', 'forced_alt_lda_topic11_match_pct',\n",
       "       'forced_alt_lda_topic12_match_pct', 'forced_alt_lda_topic13_match_pct',\n",
       "       'forced_alt_lda_topic14_match_pct', 'forced_alt_lda_topic15_match_pct',\n",
       "       'forced_alt_lda_topic16_match_pct', 'forced_alt_lda_topic17_match_pct',\n",
       "       'forced_alt_lda_topic18_match_pct', 'forced_alt_lda_topic19_match_pct'],\n",
       "      dtype='object')"
      ]
     },
     "execution_count": 39,
     "metadata": {},
     "output_type": "execute_result"
    }
   ],
   "source": [
    "df.columns"
   ]
  },
  {
   "cell_type": "code",
   "execution_count": 40,
   "metadata": {},
   "outputs": [],
   "source": [
    "# (default) if reading from a tokenized-only df\n",
    "columns_to_drop = ['tokenized_text']\n",
    "\n",
    "# for cases run using other (non-standard) df's as input\n",
    "#columns_to_drop = ['combined_text', 'lemmatized_text', 'tokenized_text']"
   ]
  },
  {
   "cell_type": "code",
   "execution_count": 41,
   "metadata": {},
   "outputs": [],
   "source": [
    "df.drop(columns=columns_to_drop, inplace=True)"
   ]
  },
  {
   "cell_type": "code",
   "execution_count": 42,
   "metadata": {},
   "outputs": [],
   "source": [
    "df.to_csv(f\"{output_directory}{final_model_name}.csv\", index=False)\n",
    "# df.to_json(f\"{output_directory}{final_model_name}.json\")"
   ]
  },
  {
   "attachments": {},
   "cell_type": "markdown",
   "metadata": {},
   "source": [
    "#### Save topic words matrices"
   ]
  },
  {
   "cell_type": "code",
   "execution_count": 43,
   "metadata": {},
   "outputs": [],
   "source": [
    "lda_topic_words.to_csv(f\"{output_directory}{final_model_name}_topicwords.csv\", index=False)"
   ]
  },
  {
   "cell_type": "code",
   "execution_count": 44,
   "metadata": {},
   "outputs": [],
   "source": [
    "lda_topic_words2.to_csv(f\"{output_directory}{final_model_name}_topicwords_forced_alt.csv\", index=False)"
   ]
  }
 ],
 "metadata": {
  "kernelspec": {
   "display_name": "base",
   "language": "python",
   "name": "python3"
  },
  "language_info": {
   "codemirror_mode": {
    "name": "ipython",
    "version": 3
   },
   "file_extension": ".py",
   "mimetype": "text/x-python",
   "name": "python",
   "nbconvert_exporter": "python",
   "pygments_lexer": "ipython3",
   "version": "3.9.16"
  },
  "orig_nbformat": 4
 },
 "nbformat": 4,
 "nbformat_minor": 2
}
