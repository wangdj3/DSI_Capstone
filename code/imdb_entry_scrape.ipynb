{
 "cells": [
  {
   "cell_type": "code",
   "execution_count": 1,
   "metadata": {},
   "outputs": [],
   "source": [
    "# Import libaries\n",
    "import pandas as pd\n",
    "import requests\n",
    "from bs4 import BeautifulSoup\n",
    "from urllib.request import Request, urlopen"
   ]
  },
  {
   "attachments": {},
   "cell_type": "markdown",
   "metadata": {},
   "source": [
    "### Data read in"
   ]
  },
  {
   "cell_type": "code",
   "execution_count": 2,
   "metadata": {},
   "outputs": [],
   "source": [
    "no_dupes = pd.read_csv('../data/imdb_titles_no_dupes.csv')"
   ]
  },
  {
   "cell_type": "code",
   "execution_count": 3,
   "metadata": {},
   "outputs": [
    {
     "data": {
      "text/plain": [
       "(2484, 9)"
      ]
     },
     "execution_count": 3,
     "metadata": {},
     "output_type": "execute_result"
    }
   ],
   "source": [
    "no_dupes.shape"
   ]
  },
  {
   "cell_type": "code",
   "execution_count": 4,
   "metadata": {},
   "outputs": [
    {
     "data": {
      "text/html": [
       "<div>\n",
       "<style scoped>\n",
       "    .dataframe tbody tr th:only-of-type {\n",
       "        vertical-align: middle;\n",
       "    }\n",
       "\n",
       "    .dataframe tbody tr th {\n",
       "        vertical-align: top;\n",
       "    }\n",
       "\n",
       "    .dataframe thead th {\n",
       "        text-align: right;\n",
       "    }\n",
       "</style>\n",
       "<table border=\"1\" class=\"dataframe\">\n",
       "  <thead>\n",
       "    <tr style=\"text-align: right;\">\n",
       "      <th></th>\n",
       "      <th>name</th>\n",
       "      <th>href</th>\n",
       "      <th>years</th>\n",
       "      <th>imdb_description</th>\n",
       "      <th>pg_rating</th>\n",
       "      <th>imdb_genre_tags</th>\n",
       "      <th>imdb_rating</th>\n",
       "      <th>num_votes</th>\n",
       "      <th>img_thumbnail</th>\n",
       "    </tr>\n",
       "  </thead>\n",
       "  <tbody>\n",
       "    <tr>\n",
       "      <th>0</th>\n",
       "      <td>Game of Thrones</td>\n",
       "      <td>/title/tt0944947/</td>\n",
       "      <td>(2011–2019)</td>\n",
       "      <td>Nine noble families fight for control over the...</td>\n",
       "      <td>TV-MA</td>\n",
       "      <td>Action, Adventure, Drama</td>\n",
       "      <td>9.2</td>\n",
       "      <td>2148311</td>\n",
       "      <td>https://m.media-amazon.com/images/M/MV5BYTRiND...</td>\n",
       "    </tr>\n",
       "    <tr>\n",
       "      <th>1</th>\n",
       "      <td>Prison Break</td>\n",
       "      <td>/title/tt0455275/</td>\n",
       "      <td>(2005–2017)</td>\n",
       "      <td>Due to a political conspiracy, an innocent man...</td>\n",
       "      <td>TV-14</td>\n",
       "      <td>Action, Crime, Drama</td>\n",
       "      <td>8.3</td>\n",
       "      <td>548267</td>\n",
       "      <td>https://m.media-amazon.com/images/M/MV5BMTg3NT...</td>\n",
       "    </tr>\n",
       "    <tr>\n",
       "      <th>2</th>\n",
       "      <td>Vikings</td>\n",
       "      <td>/title/tt2306299/</td>\n",
       "      <td>(2013–2020)</td>\n",
       "      <td>Vikings transports us to the brutal and myster...</td>\n",
       "      <td>TV-MA</td>\n",
       "      <td>Action, Adventure, Drama</td>\n",
       "      <td>8.5</td>\n",
       "      <td>547494</td>\n",
       "      <td>https://m.media-amazon.com/images/M/MV5BODk4Zj...</td>\n",
       "    </tr>\n",
       "    <tr>\n",
       "      <th>3</th>\n",
       "      <td>The Boys</td>\n",
       "      <td>/title/tt1190634/</td>\n",
       "      <td>(2019– )</td>\n",
       "      <td>A group of vigilantes set out to take down cor...</td>\n",
       "      <td>TV-MA</td>\n",
       "      <td>Action, Comedy, Crime</td>\n",
       "      <td>8.7</td>\n",
       "      <td>542317</td>\n",
       "      <td>https://m.media-amazon.com/images/M/MV5BOTEyND...</td>\n",
       "    </tr>\n",
       "    <tr>\n",
       "      <th>4</th>\n",
       "      <td>The Mandalorian</td>\n",
       "      <td>/title/tt8111088/</td>\n",
       "      <td>(2019– )</td>\n",
       "      <td>The travels of a lone bounty hunter in the out...</td>\n",
       "      <td>TV-14</td>\n",
       "      <td>Action, Adventure, Fantasy</td>\n",
       "      <td>8.7</td>\n",
       "      <td>527088</td>\n",
       "      <td>https://m.media-amazon.com/images/M/MV5BZjRlZD...</td>\n",
       "    </tr>\n",
       "  </tbody>\n",
       "</table>\n",
       "</div>"
      ],
      "text/plain": [
       "              name               href        years  \\\n",
       "0  Game of Thrones  /title/tt0944947/  (2011–2019)   \n",
       "1     Prison Break  /title/tt0455275/  (2005–2017)   \n",
       "2          Vikings  /title/tt2306299/  (2013–2020)   \n",
       "3         The Boys  /title/tt1190634/     (2019– )   \n",
       "4  The Mandalorian  /title/tt8111088/     (2019– )   \n",
       "\n",
       "                                    imdb_description pg_rating  \\\n",
       "0  Nine noble families fight for control over the...     TV-MA   \n",
       "1  Due to a political conspiracy, an innocent man...     TV-14   \n",
       "2  Vikings transports us to the brutal and myster...     TV-MA   \n",
       "3  A group of vigilantes set out to take down cor...     TV-MA   \n",
       "4  The travels of a lone bounty hunter in the out...     TV-14   \n",
       "\n",
       "              imdb_genre_tags  imdb_rating  num_votes  \\\n",
       "0    Action, Adventure, Drama          9.2    2148311   \n",
       "1        Action, Crime, Drama          8.3     548267   \n",
       "2    Action, Adventure, Drama          8.5     547494   \n",
       "3       Action, Comedy, Crime          8.7     542317   \n",
       "4  Action, Adventure, Fantasy          8.7     527088   \n",
       "\n",
       "                                       img_thumbnail  \n",
       "0  https://m.media-amazon.com/images/M/MV5BYTRiND...  \n",
       "1  https://m.media-amazon.com/images/M/MV5BMTg3NT...  \n",
       "2  https://m.media-amazon.com/images/M/MV5BODk4Zj...  \n",
       "3  https://m.media-amazon.com/images/M/MV5BOTEyND...  \n",
       "4  https://m.media-amazon.com/images/M/MV5BZjRlZD...  "
      ]
     },
     "execution_count": 4,
     "metadata": {},
     "output_type": "execute_result"
    }
   ],
   "source": [
    "no_dupes.head()"
   ]
  },
  {
   "cell_type": "code",
   "execution_count": 5,
   "metadata": {},
   "outputs": [],
   "source": [
    "base_url = 'https://www.imdb.com'\n",
    "\n",
    "test_df = no_dupes.head().copy()"
   ]
  },
  {
   "attachments": {},
   "cell_type": "markdown",
   "metadata": {},
   "source": [
    "### Convert back to list of dictionaries"
   ]
  },
  {
   "cell_type": "code",
   "execution_count": 8,
   "metadata": {},
   "outputs": [],
   "source": [
    "# Technique reference: https://www.geeksforgeeks.org/create-a-list-from-rows-in-pandas-dataframe/\n",
    "\n",
    "# Create an empty list\n",
    "entries_list =[]\n",
    "\n",
    "# Iterate over each row\n",
    "for index, rows in test_df.iterrows():\n",
    "    # Create list for the current row\n",
    "    my_dict ={'name': rows['name'], \n",
    "              'href' : rows['href'], \n",
    "              'years' : rows['years'], \n",
    "            #   'imdb_description' : rows['imdb_description'], \n",
    "              'pg_rating' : rows['pg_rating'], \n",
    "              # 'imdb_genre_tags' : rows['imdb_genre_tags'], \n",
    "              'imdb_rating' : rows['imdb_rating'],\n",
    "              'num_votes' : rows['num_votes'],\n",
    "              'img_thumbnail' : rows['img_thumbnail']\n",
    "    }\n",
    "    \n",
    "    # append the list to the final list\n",
    "    entries_list.append(my_dict)\n",
    "  \n",
    "# Print the list\n",
    "# print(entries_list)"
   ]
  },
  {
   "attachments": {},
   "cell_type": "markdown",
   "metadata": {},
   "source": [
    "### Iterate thru list and scrape each URL for descriptions and genre tags"
   ]
  },
  {
   "cell_type": "code",
   "execution_count": 9,
   "metadata": {},
   "outputs": [],
   "source": [
    "base_url = 'https://www.imdb.com'\n",
    "\n",
    "for entry in entries_list:\n",
    "    full_url = base_url + entry['href']\n",
    "    # print(full_url)\n",
    "\n",
    "    # Technique reference to avoid 403 error: \n",
    "    # https://medium.com/@raiyanquaium/how-to-web-scrape-using-beautiful-soup-in-python-without-running-into-http-error-403-554875e5abed\n",
    "\n",
    "    req = Request(full_url, headers={'User-Agent': 'Mozilla/5.0'})\n",
    "    webpage = urlopen(req).read()\n",
    "    soup = BeautifulSoup(webpage, \"html.parser\")\n",
    "    \n",
    "    description_obj = soup.find('p')\n",
    "    description = description_obj.text\n",
    "\n",
    "    genre_tags = []\n",
    "    span_obj = soup.find_all('span', attrs='ipc-chip__text')\n",
    "\n",
    "    for item in span_obj:\n",
    "        if item.text != 'Back to top':\n",
    "            genre_tags.append(item.text)\n",
    "    \n",
    "    entry['imdb_description'] = description\n",
    "    entry['imdb_genre_tags'] = genre_tags\n"
   ]
  },
  {
   "cell_type": "code",
   "execution_count": 12,
   "metadata": {},
   "outputs": [
    {
     "data": {
      "text/plain": [
       "5"
      ]
     },
     "execution_count": 12,
     "metadata": {},
     "output_type": "execute_result"
    }
   ],
   "source": []
  },
  {
   "cell_type": "code",
   "execution_count": 11,
   "metadata": {},
   "outputs": [
    {
     "data": {
      "text/plain": [
       "[{'name': 'Game of Thrones',\n",
       "  'href': '/title/tt0944947/',\n",
       "  'years': '(2011–2019)',\n",
       "  'pg_rating': 'TV-MA',\n",
       "  'imdb_rating': 9.2,\n",
       "  'num_votes': 2148311,\n",
       "  'img_thumbnail': 'https://m.media-amazon.com/images/M/MV5BYTRiNDQwYzAtMzVlZS00NTI5LWJjYjUtMzkwNTUzMWMxZTllXkEyXkFqcGdeQXVyNDIzMzcwNjc@._V1_UY98_CR2,0,67,98_AL_.jpg',\n",
       "  'imdb_description': 'Nine noble families fight for control over the lands of Westeros, while an ancient enemy returns after being dormant for millennia.Nine noble families fight for control over the lands of Westeros, while an ancient enemy returns after being dormant for millennia.Nine noble families fight for control over the lands of Westeros, while an ancient enemy returns after being dormant for millennia.',\n",
       "  'imdb_genre_tags': ['Action', 'Adventure', 'Drama']},\n",
       " {'name': 'Prison Break',\n",
       "  'href': '/title/tt0455275/',\n",
       "  'years': '(2005–2017)',\n",
       "  'pg_rating': 'TV-14',\n",
       "  'imdb_rating': 8.3,\n",
       "  'num_votes': 548267,\n",
       "  'img_thumbnail': 'https://m.media-amazon.com/images/M/MV5BMTg3NTkwNzAxOF5BMl5BanBnXkFtZTcwMjM1NjI5MQ@@._V1_UX67_CR0,0,67,98_AL_.jpg',\n",
       "  'imdb_description': 'Due to a political conspiracy, an innocent man is sent to death row and his only hope is his brother, who makes it his mission to deliberately get himself sent to the same prison in order to... Read allDue to a political conspiracy, an innocent man is sent to death row and his only hope is his brother, who makes it his mission to deliberately get himself sent to the same prison in order to break the both of them out, from the inside.Due to a political conspiracy, an innocent man is sent to death row and his only hope is his brother, who makes it his mission to deliberately get himself sent to the same prison in order to break the both of them out, from the inside.',\n",
       "  'imdb_genre_tags': ['Action', 'Crime', 'Drama']},\n",
       " {'name': 'Vikings',\n",
       "  'href': '/title/tt2306299/',\n",
       "  'years': '(2013–2020)',\n",
       "  'pg_rating': 'TV-MA',\n",
       "  'imdb_rating': 8.5,\n",
       "  'num_votes': 547494,\n",
       "  'img_thumbnail': 'https://m.media-amazon.com/images/M/MV5BODk4ZjU0NDUtYjdlOS00OTljLTgwZTUtYjkyZjk1NzExZGIzXkEyXkFqcGdeQXVyMDM2NDM2MQ@@._V1_UX67_CR0,0,67,98_AL_.jpg',\n",
       "  'imdb_description': 'Vikings transports us to the brutal and mysterious world of Ragnar Lothbrok, a Viking warrior and farmer who yearns to explore--and raid--the distant shores across the ocean.Vikings transports us to the brutal and mysterious world of Ragnar Lothbrok, a Viking warrior and farmer who yearns to explore--and raid--the distant shores across the ocean.Vikings transports us to the brutal and mysterious world of Ragnar Lothbrok, a Viking warrior and farmer who yearns to explore--and raid--the distant shores across the ocean.',\n",
       "  'imdb_genre_tags': ['Action', 'Adventure', 'Drama']}]"
      ]
     },
     "execution_count": 11,
     "metadata": {},
     "output_type": "execute_result"
    }
   ],
   "source": [
    "entries_list[0:3]"
   ]
  },
  {
   "cell_type": "code",
   "execution_count": 101,
   "metadata": {},
   "outputs": [
    {
     "data": {
      "text/html": [
       "<div>\n",
       "<style scoped>\n",
       "    .dataframe tbody tr th:only-of-type {\n",
       "        vertical-align: middle;\n",
       "    }\n",
       "\n",
       "    .dataframe tbody tr th {\n",
       "        vertical-align: top;\n",
       "    }\n",
       "\n",
       "    .dataframe thead th {\n",
       "        text-align: right;\n",
       "    }\n",
       "</style>\n",
       "<table border=\"1\" class=\"dataframe\">\n",
       "  <thead>\n",
       "    <tr style=\"text-align: right;\">\n",
       "      <th></th>\n",
       "      <th>name</th>\n",
       "      <th>href</th>\n",
       "      <th>verifiation</th>\n",
       "      <th>genre</th>\n",
       "      <th>description</th>\n",
       "      <th>genre_tags</th>\n",
       "    </tr>\n",
       "  </thead>\n",
       "  <tbody>\n",
       "    <tr>\n",
       "      <th>0</th>\n",
       "      <td>Avatar: The Last Airbender</td>\n",
       "      <td>/title/tt0417299/</td>\n",
       "      <td>1. Avatar: The Last Airbender (2005–2008)</td>\n",
       "      <td>Action</td>\n",
       "      <td>In a war-torn world of elemental magic, a youn...</td>\n",
       "      <td>[Animation, Action, Adventure]</td>\n",
       "    </tr>\n",
       "    <tr>\n",
       "      <th>1</th>\n",
       "      <td>Game of Thrones</td>\n",
       "      <td>/title/tt0944947/</td>\n",
       "      <td>2. Game of Thrones (2011–2019)</td>\n",
       "      <td>Action</td>\n",
       "      <td>Nine noble families fight for control over the...</td>\n",
       "      <td>[Action, Adventure, Drama]</td>\n",
       "    </tr>\n",
       "    <tr>\n",
       "      <th>2</th>\n",
       "      <td>Fullmetal Alchemist: Brotherhood</td>\n",
       "      <td>/title/tt1355642/</td>\n",
       "      <td>3. Fullmetal Alchemist: Brotherhood (2009–2010)</td>\n",
       "      <td>Action</td>\n",
       "      <td>Two brothers search for a Philosopher's Stone ...</td>\n",
       "      <td>[Animation, Action, Adventure]</td>\n",
       "    </tr>\n",
       "    <tr>\n",
       "      <th>3</th>\n",
       "      <td>Attack on Titan</td>\n",
       "      <td>/title/tt2560140/</td>\n",
       "      <td>4. Attack on Titan (2013–2023)</td>\n",
       "      <td>Action</td>\n",
       "      <td>After his hometown is destroyed and his mother...</td>\n",
       "      <td>[Animation, Action, Adventure]</td>\n",
       "    </tr>\n",
       "    <tr>\n",
       "      <th>4</th>\n",
       "      <td>Arcane</td>\n",
       "      <td>/title/tt11126994/</td>\n",
       "      <td>5. Arcane (2021– )</td>\n",
       "      <td>Action</td>\n",
       "      <td>Set in Utopian Piltover and the oppressed unde...</td>\n",
       "      <td>[Animation, Action, Adventure]</td>\n",
       "    </tr>\n",
       "  </tbody>\n",
       "</table>\n",
       "</div>"
      ],
      "text/plain": [
       "                               name                href  \\\n",
       "0        Avatar: The Last Airbender   /title/tt0417299/   \n",
       "1                   Game of Thrones   /title/tt0944947/   \n",
       "2  Fullmetal Alchemist: Brotherhood   /title/tt1355642/   \n",
       "3                   Attack on Titan   /title/tt2560140/   \n",
       "4                            Arcane  /title/tt11126994/   \n",
       "\n",
       "                                       verifiation   genre  \\\n",
       "0        1. Avatar: The Last Airbender (2005–2008)  Action   \n",
       "1                   2. Game of Thrones (2011–2019)  Action   \n",
       "2  3. Fullmetal Alchemist: Brotherhood (2009–2010)  Action   \n",
       "3                   4. Attack on Titan (2013–2023)  Action   \n",
       "4                               5. Arcane (2021– )  Action   \n",
       "\n",
       "                                         description  \\\n",
       "0  In a war-torn world of elemental magic, a youn...   \n",
       "1  Nine noble families fight for control over the...   \n",
       "2  Two brothers search for a Philosopher's Stone ...   \n",
       "3  After his hometown is destroyed and his mother...   \n",
       "4  Set in Utopian Piltover and the oppressed unde...   \n",
       "\n",
       "                       genre_tags  \n",
       "0  [Animation, Action, Adventure]  \n",
       "1      [Action, Adventure, Drama]  \n",
       "2  [Animation, Action, Adventure]  \n",
       "3  [Animation, Action, Adventure]  \n",
       "4  [Animation, Action, Adventure]  "
      ]
     },
     "execution_count": 101,
     "metadata": {},
     "output_type": "execute_result"
    }
   ],
   "source": [
    "pd.DataFrame(entries_list)"
   ]
  },
  {
   "cell_type": "code",
   "execution_count": 46,
   "metadata": {},
   "outputs": [
    {
     "name": "stdout",
     "output_type": "stream",
     "text": [
      "Avatar: The Last Airbender (TV Series 2005–2008) - IMDb\n",
      "https://www.imdb.com/title/tt0417299/\n",
      "Avatar: The Last Airbender: Created by Michael Dante DiMartino, Bryan Konietzko. With Dee Bradley Baker, Zach Tyler Eisen, Mae Whitman, Jack De Sena. In a war-torn world of elemental magic, a young boy reawakens to undertake a dangerous mystic quest to fulfill his destiny as the Avatar, and bring peace to the world.\n"
     ]
    }
   ],
   "source": [
    "# Alternate method\n",
    "\n",
    "# # Technique reference: https://stackoverflow.com/questions/36768068/get-meta-tag-content-property-with-beautifulsoup-and-python\n",
    "\n",
    "# title = soup.find(\"meta\", property=\"og:title\")\n",
    "# url = soup.find(\"meta\", property=\"og:url\")\n",
    "# description = soup.find(\"meta\", property=\"og:description\")\n",
    "\n",
    "# print(title[\"content\"] if title else \"No meta title given\")\n",
    "# print(url[\"content\"] if url else \"No meta url given\")\n",
    "# print(description[\"content\"] if description else \"No meta description given\")"
   ]
  }
 ],
 "metadata": {
  "kernelspec": {
   "display_name": "base",
   "language": "python",
   "name": "python3"
  },
  "language_info": {
   "codemirror_mode": {
    "name": "ipython",
    "version": 3
   },
   "file_extension": ".py",
   "mimetype": "text/x-python",
   "name": "python",
   "nbconvert_exporter": "python",
   "pygments_lexer": "ipython3",
   "version": "3.9.16"
  },
  "orig_nbformat": 4
 },
 "nbformat": 4,
 "nbformat_minor": 2
}
