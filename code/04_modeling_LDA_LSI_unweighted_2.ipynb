{
 "cells": [
  {
   "attachments": {},
   "cell_type": "markdown",
   "metadata": {},
   "source": [
    "# LDA (Latent Dirichlet Allocation) & LSI (Latent Semantic Indexing)"
   ]
  },
  {
   "cell_type": "markdown",
   "metadata": {},
   "source": [
    "#### Set parameters for how final model results will be saved"
   ]
  },
  {
   "cell_type": "code",
   "execution_count": 1,
   "metadata": {},
   "outputs": [],
   "source": [
    "tokenized_run_name = \"unweighted_1_tokens\"  #manually input the filename (no extension) to be used as input"
   ]
  },
  {
   "cell_type": "code",
   "execution_count": 2,
   "metadata": {},
   "outputs": [],
   "source": [
    "data_directory = \"../data/\"\n",
    "output_directory = \"../outputs/\""
   ]
  },
  {
   "cell_type": "code",
   "execution_count": 3,
   "metadata": {},
   "outputs": [],
   "source": [
    "base_model_type = \"lda_lsi\"\n",
    "model_name_suffix = \"\"  #default should be blank; use to make note of any other mods\n",
    "run_number = 2"
   ]
  },
  {
   "cell_type": "code",
   "execution_count": 4,
   "metadata": {},
   "outputs": [],
   "source": [
    "final_model_name = f\"{base_model_type}_{tokenized_run_name[:-7]}_run{run_number}{model_name_suffix}\""
   ]
  },
  {
   "cell_type": "markdown",
   "metadata": {},
   "source": [
    "#### Imports"
   ]
  },
  {
   "cell_type": "code",
   "execution_count": 5,
   "metadata": {},
   "outputs": [],
   "source": [
    "# general use\n",
    "import numpy as np\n",
    "import pandas as pd\n",
    "import matplotlib.pyplot as plt\n",
    "\n",
    "from sklearn.feature_extraction.text import CountVectorizer, TfidfVectorizer\n",
    "\n",
    "# # for LDA modeling & presentation\n",
    "from sklearn.model_selection import GridSearchCV\n",
    "from sklearn.decomposition import LatentDirichletAllocation\n",
    "import pyLDAvis\n",
    "import pyLDAvis.sklearn\n",
    "pyLDAvis.enable_notebook()\n",
    "\n",
    "# # for LSA modeling\n",
    "from sklearn.decomposition import TruncatedSVD\n",
    "\n",
    "# for progress bar on loops\n",
    "from tqdm import tqdm"
   ]
  },
  {
   "attachments": {},
   "cell_type": "markdown",
   "metadata": {},
   "source": [
    "#### Read in Dataframe with tokenized text"
   ]
  },
  {
   "cell_type": "code",
   "execution_count": 6,
   "metadata": {},
   "outputs": [
    {
     "data": {
      "text/html": [
       "<div>\n",
       "<style scoped>\n",
       "    .dataframe tbody tr th:only-of-type {\n",
       "        vertical-align: middle;\n",
       "    }\n",
       "\n",
       "    .dataframe tbody tr th {\n",
       "        vertical-align: top;\n",
       "    }\n",
       "\n",
       "    .dataframe thead th {\n",
       "        text-align: right;\n",
       "    }\n",
       "</style>\n",
       "<table border=\"1\" class=\"dataframe\">\n",
       "  <thead>\n",
       "    <tr style=\"text-align: right;\">\n",
       "      <th></th>\n",
       "      <th>name</th>\n",
       "      <th>href</th>\n",
       "      <th>tokenized_text</th>\n",
       "    </tr>\n",
       "  </thead>\n",
       "  <tbody>\n",
       "    <tr>\n",
       "      <th>0</th>\n",
       "      <td>Game of Thrones</td>\n",
       "      <td>/title/tt0944947/</td>\n",
       "      <td>nine noble family fight control land westeros ...</td>\n",
       "    </tr>\n",
       "    <tr>\n",
       "      <th>1</th>\n",
       "      <td>Prison Break</td>\n",
       "      <td>/title/tt0455275/</td>\n",
       "      <td>due political conspiracy innocent man send dea...</td>\n",
       "    </tr>\n",
       "    <tr>\n",
       "      <th>2</th>\n",
       "      <td>Vikings</td>\n",
       "      <td>/title/tt2306299/</td>\n",
       "      <td>vikings transport us brutal mysterious world r...</td>\n",
       "    </tr>\n",
       "    <tr>\n",
       "      <th>3</th>\n",
       "      <td>The Boys</td>\n",
       "      <td>/title/tt1190634/</td>\n",
       "      <td>group vigilante set take corrupt superheroes a...</td>\n",
       "    </tr>\n",
       "    <tr>\n",
       "      <th>4</th>\n",
       "      <td>The Mandalorian</td>\n",
       "      <td>/title/tt8111088/</td>\n",
       "      <td>travel lone bounty hunter outer reach galaxy f...</td>\n",
       "    </tr>\n",
       "  </tbody>\n",
       "</table>\n",
       "</div>"
      ],
      "text/plain": [
       "              name               href  \\\n",
       "0  Game of Thrones  /title/tt0944947/   \n",
       "1     Prison Break  /title/tt0455275/   \n",
       "2          Vikings  /title/tt2306299/   \n",
       "3         The Boys  /title/tt1190634/   \n",
       "4  The Mandalorian  /title/tt8111088/   \n",
       "\n",
       "                                      tokenized_text  \n",
       "0  nine noble family fight control land westeros ...  \n",
       "1  due political conspiracy innocent man send dea...  \n",
       "2  vikings transport us brutal mysterious world r...  \n",
       "3  group vigilante set take corrupt superheroes a...  \n",
       "4  travel lone bounty hunter outer reach galaxy f...  "
      ]
     },
     "execution_count": 6,
     "metadata": {},
     "output_type": "execute_result"
    }
   ],
   "source": [
    "df = pd.read_csv(f\"{data_directory}{tokenized_run_name}.csv\")\n",
    "df.head()"
   ]
  },
  {
   "cell_type": "code",
   "execution_count": 7,
   "metadata": {},
   "outputs": [
    {
     "data": {
      "text/plain": [
       "name              0\n",
       "href              0\n",
       "tokenized_text    0\n",
       "dtype: int64"
      ]
     },
     "execution_count": 7,
     "metadata": {},
     "output_type": "execute_result"
    }
   ],
   "source": [
    "df.isna().sum()"
   ]
  },
  {
   "cell_type": "code",
   "execution_count": 8,
   "metadata": {},
   "outputs": [],
   "source": [
    "df.fillna(\"\",inplace=True)"
   ]
  },
  {
   "attachments": {},
   "cell_type": "markdown",
   "metadata": {},
   "source": [
    "#### Count Vectorization & TfIDF"
   ]
  },
  {
   "cell_type": "code",
   "execution_count": 9,
   "metadata": {},
   "outputs": [],
   "source": [
    "# Function draws heavily from Jiamei Wang's code: \n",
    "# Technique reference: (Jiamei Wang) https://medium.com/swlh/sentiment-analysis-topic-modeling-for-hotel-reviews-6b83653f5b08\n",
    "# (Separated into sub-functions to allow for faster parameter tuning)\n",
    "\n",
    "def make_tfidf(input_df, text_colname='tokenized_text'):\n",
    "    '''\n",
    "    INPUTS:\n",
    "        input_df - dataframe that contains the combined text summaries\n",
    "        text_colname: name of column that contains the combined text summaries\n",
    "        \n",
    "    OUTPUTS:\n",
    "        dtm_tfidf - document-term matrix in the tfidf format\n",
    "        tfidf_vectorizer - word frequency in the reviews\n",
    "    '''\n",
    "    docs_raw = input_df[text_colname].tolist()\n",
    "\n",
    "    #************   Step 1: Convert to document-term matrix   ************#\n",
    "\n",
    "    #Transform text to vector form using the vectorizer object \n",
    "    cvec = CountVectorizer(strip_accents = 'unicode',\n",
    "                            stop_words = 'english',\n",
    "                            lowercase = True,\n",
    "                            token_pattern = r'\\b[a-zA-Z]{3,}\\b', # num chars > 3 to avoid some meaningless words\n",
    "                            max_df = 0.5,                        # discard words that appear in > 50% of the reviews\n",
    "                            min_df = 10)                         # discard words that appear in < 10 reviews    \n",
    "\n",
    "    #apply transformation\n",
    "    tfidf_vectorizer = TfidfVectorizer(**cvec.get_params())\n",
    "\n",
    "    #convert to document-term matrix\n",
    "    dtm_tfidf = tfidf_vectorizer.fit_transform(docs_raw)  \n",
    "\n",
    "    print(\"The shape of the tfidf is {}, meaning that there are {} non-unique words in {} and {} tokens made through the filtering process.\".\\\n",
    "              format(dtm_tfidf.shape,dtm_tfidf.shape[0], text_colname, dtm_tfidf.shape[1]))\n",
    "    \n",
    "    # return tf_vectorizer, tfidf_vectorizer, dtm_tfidf\n",
    "    return tfidf_vectorizer, dtm_tfidf"
   ]
  },
  {
   "cell_type": "code",
   "execution_count": 10,
   "metadata": {},
   "outputs": [
    {
     "name": "stderr",
     "output_type": "stream",
     "text": [
      "d:\\anaconda3\\lib\\site-packages\\sklearn\\feature_extraction\\text.py:2070: UserWarning: Only (<class 'numpy.float64'>, <class 'numpy.float32'>, <class 'numpy.float16'>) 'dtype' should be used. <class 'numpy.int64'> 'dtype' will be converted to np.float64.\n",
      "  warnings.warn(\n"
     ]
    },
    {
     "name": "stdout",
     "output_type": "stream",
     "text": [
      "The shape of the tfidf is (2484, 16937), meaning that there are 2484 non-unique words in tokenized_text and 16937 tokens made through the filtering process.\n"
     ]
    }
   ],
   "source": [
    "tfidf_vectorizer, dtm_tfidf = make_tfidf(df, 'tokenized_text')"
   ]
  },
  {
   "attachments": {},
   "cell_type": "markdown",
   "metadata": {},
   "source": [
    "#### Grid Search for best LDA model"
   ]
  },
  {
   "cell_type": "code",
   "execution_count": 11,
   "metadata": {},
   "outputs": [],
   "source": [
    "# Define Grid Search Parameters\n",
    "search_params = {'n_components': [5, 10, 20, 30],       # testing suggests it always picks 5 topics as \"best\"\n",
    "                    'learning_decay': [.5, .7, .9]}     # does not always return same \"best\" learning decay"
   ]
  },
  {
   "cell_type": "code",
   "execution_count": 12,
   "metadata": {},
   "outputs": [],
   "source": [
    "# Function draws from Jiamei Wang's code, with modifications & optimizations: \n",
    "# Technique reference: (Jiamei Wang) https://medium.com/swlh/sentiment-analysis-topic-modeling-for-hotel-reviews-6b83653f5b08\n",
    "# (Separated into sub-functions to allow for faster parameter tuning)\n",
    "\n",
    "def lda_gridsearch(dtm_tfidf, search_params):\n",
    "    '''\n",
    "    INPUTS:\n",
    "        dtm_tfidf - document-term matrix in the tfidf format\n",
    "        search_params - a dictionary of parameters to be used in the grid search\n",
    "        \n",
    "    OUTPUTS:\n",
    "        model_gs - the GridSearchCV object\n",
    "        best_lda_model - the best model, as determined by the grid search\n",
    "    '''\n",
    "\n",
    "    #*******   Step 2: GridSearch & parameter tuning to find the optimal LDA model   *******#\n",
    "\n",
    "    # Init the Model\n",
    "    lda = LatentDirichletAllocation()\n",
    "\n",
    "    # Init Grid Search Class\n",
    "    model_gs = GridSearchCV(lda, param_grid=search_params, n_jobs=8, verbose=3)\n",
    "\n",
    "    # Do the Grid Search\n",
    "    model_gs.fit(dtm_tfidf)\n",
    "\n",
    "    #*****  Step 3: Output the optimal lda model and its parameters  *****#\n",
    "\n",
    "    # Best Model\n",
    "    best_lda_model = model_gs.best_estimator_\n",
    "\n",
    "    # Model Parameters\n",
    "    print(\"Best Model's Params: \", model_gs.best_params_)\n",
    "\n",
    "    # Log Likelihood Score: Higher the better\n",
    "    print(\"Model Log Likelihood Score: \", model_gs.best_score_)\n",
    "\n",
    "    # Perplexity: Lower the better. Perplexity = exp(-1. * log-likelihood per word)\n",
    "    print(\"Model Perplexity: \", best_lda_model.perplexity(dtm_tfidf))\n",
    "\n",
    "    return model_gs, best_lda_model"
   ]
  },
  {
   "cell_type": "code",
   "execution_count": 13,
   "metadata": {},
   "outputs": [
    {
     "name": "stdout",
     "output_type": "stream",
     "text": [
      "Fitting 5 folds for each of 12 candidates, totalling 60 fits\n",
      "Best Model's Params:  {'learning_decay': 0.9, 'n_components': 5}\n",
      "Model Log Likelihood Score:  -69917.44192305811\n",
      "Model Perplexity:  24650.788041959437\n"
     ]
    }
   ],
   "source": [
    "model_gs, best_lda_model = lda_gridsearch(dtm_tfidf, search_params)"
   ]
  },
  {
   "attachments": {},
   "cell_type": "markdown",
   "metadata": {},
   "source": [
    "#### Plotting LDA model performance"
   ]
  },
  {
   "cell_type": "code",
   "execution_count": 14,
   "metadata": {},
   "outputs": [],
   "source": [
    "# Function draws from Jiamei Wang's code, with modifications & optimizations: \n",
    "# Technique reference: (Jiamei Wang) https://medium.com/swlh/sentiment-analysis-topic-modeling-for-hotel-reviews-6b83653f5b08\n",
    "# (Separated into sub-functions to allow for faster parameter tuning)\n",
    "\n",
    "def lda_plot_performance(model_gs, search_params):\n",
    "    ''' \n",
    "    INPUTS:\n",
    "        model_gs - the GridSearchCV object\n",
    "        \n",
    "    OUTPUTS:\n",
    "        A graph comparing LDA Model Performance Scores with different params\n",
    "    '''\n",
    "\n",
    "    #***********   Step 4: Compare LDA Model Performance Scores   ***********#\n",
    "\n",
    "    #Get Log Likelihoods from Grid Search Output\n",
    "    gscore=model_gs.cv_results_\n",
    "\n",
    "    log_likelihoods = {}\n",
    "    for i in search_params['learning_decay']:\n",
    "        log_likelihoods[i] = [gscore['mean_test_score'][gscore['params'].index(v)] for v in gscore['params'] if v['learning_decay']==i]\n",
    "\n",
    "    # Show graph\n",
    "    plt.figure(figsize=(12, 8))\n",
    "    for i in log_likelihoods:\n",
    "        plt.plot(search_params['n_components'], log_likelihoods[i], label=i)\n",
    " \n",
    "    plt.title(\"Choosing Optimal LDA Model\")\n",
    "    plt.xlabel(\"Num Topics\")\n",
    "    plt.ylabel(\"Log Likelihood Scores\")\n",
    "    plt.legend(title='Learning decay', loc='best')\n",
    "    plt.show()\n",
    "    \n",
    "    return"
   ]
  },
  {
   "cell_type": "code",
   "execution_count": 15,
   "metadata": {},
   "outputs": [
    {
     "data": {
      "image/png": "[encoded data removed]",
      "text/plain": [
       "<Figure size 1200x800 with 1 Axes>"
      ]
     },
     "metadata": {},
     "output_type": "display_data"
    }
   ],
   "source": [
    "lda_plot_performance(model_gs, search_params)"
   ]
  },
  {
   "attachments": {},
   "cell_type": "markdown",
   "metadata": {},
   "source": [
    "#### (optional) Combined function for creating \"best\" LDA model with performance plot"
   ]
  },
  {
   "cell_type": "code",
   "execution_count": 16,
   "metadata": {},
   "outputs": [],
   "source": [
    "# Technique reference: (Jiamei Wang) https://medium.com/swlh/sentiment-analysis-topic-modeling-for-hotel-reviews-6b83653f5b08\n",
    "# (Separated into sub-functions to allow for more convenient parameter tuning)\n",
    "# Once tuned/optimized, all 3 sub-functions can be run together in one command, wholly recreating the method used in the source referenced above\n",
    "\n",
    "def optimal_lda_model(input_df, text_colname, search_params):\n",
    "    '''\n",
    "    INPUTS:\n",
    "        input_df - dataframe that contains the combined text summaries\n",
    "        text_colname: name of column that contains the combined text summaries\n",
    "        search_params - a dictionary of parameters to be used in the grid search\n",
    "        \n",
    "    OUTPUTS:\n",
    "        best_lda_model - the best model, as determined by the grid search\n",
    "        dtm_tfidf - document-term matrix in the tfidf format\n",
    "        tfidf_vectorizer - word frequency in the reviews\n",
    "    '''\n",
    "    \n",
    "    tfidf_vectorizer, dtm_tfidf = make_tfidf(input_df, text_colname)\n",
    "    model_gs, best_lda_model = lda_gridsearch(dtm_tfidf, search_params)\n",
    "    lda_plot_performance(model_gs, search_params)\n",
    "\n",
    "    return best_lda_model, dtm_tfidf, tfidf_vectorizer"
   ]
  },
  {
   "cell_type": "code",
   "execution_count": 17,
   "metadata": {},
   "outputs": [],
   "source": [
    "# (Same as above, in one single function call)\n",
    "\n",
    "# best_lda_model, dtm_tfidf, tfidf_vectorizer = optimal_lda_model(df, 'combined_text', search_params)"
   ]
  },
  {
   "cell_type": "code",
   "execution_count": null,
   "metadata": {},
   "outputs": [],
   "source": []
  },
  {
   "attachments": {},
   "cell_type": "markdown",
   "metadata": {},
   "source": [
    "#### Display topic keywords & weights"
   ]
  },
  {
   "cell_type": "code",
   "execution_count": 18,
   "metadata": {},
   "outputs": [],
   "source": [
    "# Function excerpted directly with no additional modifications from: (Jiamei Wang)\n",
    "# https://medium.com/swlh/sentiment-analysis-topic-modeling-for-hotel-reviews-6b83653f5b08\n",
    "\n",
    "#Create a function to inspect the topics we created \n",
    "def display_topics(model, feature_names, n_top_words):\n",
    "    '''\n",
    "    INPUTS:\n",
    "        model - the model we created\n",
    "        feature_names - tells us what word each column in the matric represents\n",
    "        n_top_words - number of top words to display\n",
    "    OUTPUTS:\n",
    "        a dataframe that contains the topics we created and the weights of each token\n",
    "    '''\n",
    "    topic_dict = {}\n",
    "    for topic_idx, topic in tqdm(enumerate(model.components_)):\n",
    "        topic_dict[\"Topic %d words\" % (topic_idx+1)]= ['{}'.format(feature_names[i])\n",
    "                        for i in topic.argsort()[:-n_top_words - 1:-1]]\n",
    "        topic_dict[\"Topic %d weights\" % (topic_idx+1)]= ['{:.1f}'.format(topic[i])\n",
    "                        for i in topic.argsort()[:-n_top_words - 1:-1]]\n",
    "    return pd.DataFrame(topic_dict)\n"
   ]
  },
  {
   "cell_type": "code",
   "execution_count": 19,
   "metadata": {},
   "outputs": [
    {
     "name": "stderr",
     "output_type": "stream",
     "text": [
      "5it [00:00, 454.42it/s]\n"
     ]
    },
    {
     "data": {
      "text/html": [
       "<div>\n",
       "<style scoped>\n",
       "    .dataframe tbody tr th:only-of-type {\n",
       "        vertical-align: middle;\n",
       "    }\n",
       "\n",
       "    .dataframe tbody tr th {\n",
       "        vertical-align: top;\n",
       "    }\n",
       "\n",
       "    .dataframe thead th {\n",
       "        text-align: right;\n",
       "    }\n",
       "</style>\n",
       "<table border=\"1\" class=\"dataframe\">\n",
       "  <thead>\n",
       "    <tr style=\"text-align: right;\">\n",
       "      <th></th>\n",
       "      <th>Topic 1 words</th>\n",
       "      <th>Topic 1 weights</th>\n",
       "      <th>Topic 2 words</th>\n",
       "      <th>Topic 2 weights</th>\n",
       "      <th>Topic 3 words</th>\n",
       "      <th>Topic 3 weights</th>\n",
       "      <th>Topic 4 words</th>\n",
       "      <th>Topic 4 weights</th>\n",
       "      <th>Topic 5 words</th>\n",
       "      <th>Topic 5 weights</th>\n",
       "    </tr>\n",
       "  </thead>\n",
       "  <tbody>\n",
       "    <tr>\n",
       "      <th>0</th>\n",
       "      <td>hostages</td>\n",
       "      <td>1.0</td>\n",
       "      <td>netflix</td>\n",
       "      <td>43.4</td>\n",
       "      <td>mvm</td>\n",
       "      <td>0.2</td>\n",
       "      <td>maniac</td>\n",
       "      <td>1.1</td>\n",
       "      <td>manga</td>\n",
       "      <td>28.4</td>\n",
       "    </tr>\n",
       "    <tr>\n",
       "      <th>1</th>\n",
       "      <td>carlisle</td>\n",
       "      <td>0.2</td>\n",
       "      <td>seasons</td>\n",
       "      <td>37.1</td>\n",
       "      <td>yume</td>\n",
       "      <td>0.2</td>\n",
       "      <td>euphoria</td>\n",
       "      <td>1.1</td>\n",
       "      <td>anime</td>\n",
       "      <td>17.3</td>\n",
       "    </tr>\n",
       "    <tr>\n",
       "      <th>2</th>\n",
       "      <td>georgian</td>\n",
       "      <td>0.2</td>\n",
       "      <td>comedy</td>\n",
       "      <td>35.5</td>\n",
       "      <td>nippon</td>\n",
       "      <td>0.2</td>\n",
       "      <td>clap</td>\n",
       "      <td>0.2</td>\n",
       "      <td>shonen</td>\n",
       "      <td>6.9</td>\n",
       "    </tr>\n",
       "    <tr>\n",
       "      <th>3</th>\n",
       "      <td>octane</td>\n",
       "      <td>0.2</td>\n",
       "      <td>school</td>\n",
       "      <td>30.4</td>\n",
       "      <td>toriyama</td>\n",
       "      <td>0.2</td>\n",
       "      <td>whatsoever</td>\n",
       "      <td>0.2</td>\n",
       "      <td>kim</td>\n",
       "      <td>6.5</td>\n",
       "    </tr>\n",
       "    <tr>\n",
       "      <th>4</th>\n",
       "      <td>assassinate</td>\n",
       "      <td>0.2</td>\n",
       "      <td>bbc</td>\n",
       "      <td>29.9</td>\n",
       "      <td>kikuchi</td>\n",
       "      <td>0.2</td>\n",
       "      <td>leftover</td>\n",
       "      <td>0.2</td>\n",
       "      <td>jung</td>\n",
       "      <td>6.3</td>\n",
       "    </tr>\n",
       "    <tr>\n",
       "      <th>5</th>\n",
       "      <td>tactical</td>\n",
       "      <td>0.2</td>\n",
       "      <td>anime</td>\n",
       "      <td>29.3</td>\n",
       "      <td>miura</td>\n",
       "      <td>0.2</td>\n",
       "      <td>manic</td>\n",
       "      <td>0.2</td>\n",
       "      <td>soo</td>\n",
       "      <td>6.1</td>\n",
       "    </tr>\n",
       "    <tr>\n",
       "      <th>6</th>\n",
       "      <td>seize</td>\n",
       "      <td>0.2</td>\n",
       "      <td>crime</td>\n",
       "      <td>28.8</td>\n",
       "      <td>ryu</td>\n",
       "      <td>0.2</td>\n",
       "      <td>cells</td>\n",
       "      <td>0.2</td>\n",
       "      <td>jin</td>\n",
       "      <td>5.7</td>\n",
       "    </tr>\n",
       "    <tr>\n",
       "      <th>7</th>\n",
       "      <td>hostage</td>\n",
       "      <td>0.2</td>\n",
       "      <td>game</td>\n",
       "      <td>28.7</td>\n",
       "      <td>yuka</td>\n",
       "      <td>0.2</td>\n",
       "      <td>salmon</td>\n",
       "      <td>0.2</td>\n",
       "      <td>hee</td>\n",
       "      <td>5.2</td>\n",
       "    </tr>\n",
       "    <tr>\n",
       "      <th>8</th>\n",
       "      <td>thrust</td>\n",
       "      <td>0.2</td>\n",
       "      <td>pilot</td>\n",
       "      <td>28.4</td>\n",
       "      <td>australasia</td>\n",
       "      <td>0.2</td>\n",
       "      <td>ascent</td>\n",
       "      <td>0.2</td>\n",
       "      <td>min</td>\n",
       "      <td>5.2</td>\n",
       "    </tr>\n",
       "    <tr>\n",
       "      <th>9</th>\n",
       "      <td>sanders</td>\n",
       "      <td>0.2</td>\n",
       "      <td>novel</td>\n",
       "      <td>27.9</td>\n",
       "      <td>uchiyama</td>\n",
       "      <td>0.2</td>\n",
       "      <td>caravan</td>\n",
       "      <td>0.2</td>\n",
       "      <td>korean</td>\n",
       "      <td>5.0</td>\n",
       "    </tr>\n",
       "  </tbody>\n",
       "</table>\n",
       "</div>"
      ],
      "text/plain": [
       "  Topic 1 words Topic 1 weights Topic 2 words Topic 2 weights Topic 3 words  \\\n",
       "0      hostages             1.0       netflix            43.4           mvm   \n",
       "1      carlisle             0.2       seasons            37.1          yume   \n",
       "2      georgian             0.2        comedy            35.5        nippon   \n",
       "3        octane             0.2        school            30.4      toriyama   \n",
       "4   assassinate             0.2           bbc            29.9       kikuchi   \n",
       "5      tactical             0.2         anime            29.3         miura   \n",
       "6         seize             0.2         crime            28.8           ryu   \n",
       "7       hostage             0.2          game            28.7          yuka   \n",
       "8        thrust             0.2         pilot            28.4   australasia   \n",
       "9       sanders             0.2         novel            27.9      uchiyama   \n",
       "\n",
       "  Topic 3 weights Topic 4 words Topic 4 weights Topic 5 words Topic 5 weights  \n",
       "0             0.2        maniac             1.1         manga            28.4  \n",
       "1             0.2      euphoria             1.1         anime            17.3  \n",
       "2             0.2          clap             0.2        shonen             6.9  \n",
       "3             0.2    whatsoever             0.2           kim             6.5  \n",
       "4             0.2      leftover             0.2          jung             6.3  \n",
       "5             0.2         manic             0.2           soo             6.1  \n",
       "6             0.2         cells             0.2           jin             5.7  \n",
       "7             0.2        salmon             0.2           hee             5.2  \n",
       "8             0.2        ascent             0.2           min             5.2  \n",
       "9             0.2       caravan             0.2        korean             5.0  "
      ]
     },
     "execution_count": 19,
     "metadata": {},
     "output_type": "execute_result"
    }
   ],
   "source": [
    "lda_topic_words = display_topics(best_lda_model, tfidf_vectorizer.get_feature_names_out(), n_top_words = 30) \n",
    "lda_topic_words.head(10)"
   ]
  },
  {
   "attachments": {},
   "cell_type": "markdown",
   "metadata": {},
   "source": [
    "#### Visualizing LDA output with the pyLDAvis library"
   ]
  },
  {
   "cell_type": "code",
   "execution_count": 20,
   "metadata": {},
   "outputs": [
    {
     "name": "stderr",
     "output_type": "stream",
     "text": [
      "d:\\anaconda3\\lib\\site-packages\\pyLDAvis\\_prepare.py:243: FutureWarning: In a future version of pandas all arguments of DataFrame.drop except for the argument 'labels' will be keyword-only.\n",
      "  default_term_info = default_term_info.sort_values(\n"
     ]
    },
    {
     "data": {
      "text/html": [
       "\n",
       "<link rel=\"stylesheet\" type=\"text/css\" href=\"https://cdn.jsdelivr.net/gh/bmabey/pyLDAvis@3.4.0/pyLDAvis/js/ldavis.v1.0.0.css\">\n",
       "\n",
       "\n",
       "<div id=\"ldavis_el3756812841007580964261284012\" style=\"background-color:white;\"></div>\n",
       "<script type=\"text/javascript\">\n",
       "\n",
       "var ldavis_el3756812841007580964261284012_data = {\"mdsDat\": {\"x\": [0.09512175871326506, -0.04167990386436558, -0.01786926090076584, -0.01781015832999804, -0.017762435618135588], \"y\": [0.0013532568412433412, 0.0064049852646822355, -0.0028766667816664255, -0.0025652921143621563, -0.0023162832098967924], \"topics\": [1, 2, 3, 4, 5], \"cluster\": [1, 1, 1, 1, 1], \"Freq\": [92.61078887786344, 2.7383476975545764, 1.552830272691008, 1.5501295868646523, 1.5479035650263147]}, \"tinfo\": {\"Term\": [\"anime\", \"manga\", \"japanese\", \"kim\", \"volume\", \"lee\", \"korean\", \"tokyo\", \"japan\", \"copy\", \"funimation\", \"license\", \"jump\", \"illustrate\", \"jin\", \"chapter\", \"min\", \"volumes\", \"korea\", \"jung\", \"choi\", \"kang\", \"soo\", \"han\", \"shonen\", \"jun\", \"sung\", \"serialize\", \"shin\", \"woo\", \"netflix\", \"seasons\", \"comedy\", \"school\", \"bbc\", \"crime\", \"game\", \"pilot\", \"novel\", \"voiced\", \"team\", \"man\", \"john\", \"detective\", \"guest\", \"police\", \"animation\", \"book\", \"million\", \"music\", \"murder\", \"channel\", \"michael\", \"video\", \"city\", \"dvd\", \"abc\", \"david\", \"war\", \"version\", \"anime\", \"shonen\", \"hyun\", \"crunchyroll\", \"eun\", \"seo\", \"kodansha\", \"joon\", \"tankobon\", \"hee\", \"yeon\", \"tae\", \"shueisha\", \"joo\", \"ova\", \"kyung\", \"yoon\", \"naruto\", \"yoo\", \"circulation\", \"jung\", \"soo\", \"jang\", \"hye\", \"jae\", \"aniplex\", \"hae\", \"seung\", \"webtoon\", \"viz\", \"hyuk\", \"wook\", \"manga\", \"jin\", \"min\", \"dong\", \"woo\", \"anime\", \"choi\", \"funimation\", \"kim\", \"korean\", \"tokyo\", \"japanese\", \"maniac\", \"euphoria\", \"honya\", \"douresseaux\", \"saikyo\", \"fanbook\", \"shuhei\", \"bookscan\", \"niconico\", \"sosenkyo\", \"daum\", \"shimbun\", \"gakuen\", \"takarajimasha\", \"uchiyama\", \"cours\", \"toho\", \"seiun\", \"resultant\", \"ascribe\", \"jumped\", \"akatsuki\", \"michi\", \"kikuchi\", \"aichi\", \"messaging\", \"yuichi\", \"succeeded\", \"masashi\", \"gaiden\", \"clap\", \"leftover\", \"whatsoever\", \"manic\", \"salmon\", \"cells\", \"ascent\", \"athletes\", \"deficit\", \"caravan\", \"battery\", \"beetle\", \"pornography\", \"hysterical\", \"pharmaceutical\", \"handheld\", \"complication\", \"compilations\", \"schizophrenia\", \"wrestler\", \"disorders\", \"rehabilitation\", \"assured\", \"comparable\", \"exploitation\", \"sven\", \"solved\", \"usher\", \"hostages\", \"honya\", \"douresseaux\", \"saikyo\", \"fanbook\", \"shuhei\", \"bookscan\", \"niconico\", \"sosenkyo\", \"daum\", \"shimbun\", \"gakuen\", \"takarajimasha\", \"uchiyama\", \"cours\", \"toho\", \"seiun\", \"resultant\", \"ascribe\", \"jumped\", \"akatsuki\", \"michi\", \"kikuchi\", \"aichi\", \"messaging\", \"yuichi\", \"succeeded\", \"masashi\", \"gaiden\", \"median\", \"carlisle\", \"yume\", \"georgian\", \"octane\", \"assassinate\", \"tactical\", \"seize\", \"hostage\", \"thrust\", \"sanders\", \"captive\", \"shooter\", \"chill\", \"rogue\", \"surgeon\", \"israeli\", \"suspense\", \"blackmail\", \"painting\", \"compel\", \"disambiguation\", \"reasons\", \"federal\", \"assassination\", \"desperate\", \"duncan\", \"operate\", \"mvm\", \"nippon\", \"honya\", \"douresseaux\", \"saikyo\", \"fanbook\", \"shuhei\", \"bookscan\", \"niconico\", \"sosenkyo\", \"daum\", \"shimbun\", \"gakuen\", \"takarajimasha\", \"uchiyama\", \"cours\", \"toho\", \"seiun\", \"resultant\", \"ascribe\", \"jumped\", \"akatsuki\", \"michi\", \"kikuchi\", \"aichi\", \"messaging\", \"yuichi\", \"succeeded\", \"masashi\", \"gaiden\", \"median\", \"translations\", \"yume\", \"kotaro\", \"mvm\", \"nippon\", \"toriyama\", \"miura\", \"ryu\", \"yuka\", \"australasia\", \"shounen\", \"beveridge\", \"otaku\", \"kayano\", \"nomura\", \"tomokazu\", \"atsushi\", \"nakagawa\", \"kenichi\", \"geneon\", \"namco\", \"aoi\", \"megumi\", \"kyoto\", \"takuya\", \"ichiro\", \"ushio\"], \"Freq\": [28.0, 11.0, 19.0, 8.0, 15.0, 11.0, 4.0, 4.0, 11.0, 5.0, 3.0, 7.0, 5.0, 4.0, 2.0, 7.0, 2.0, 3.0, 3.0, 1.0, 2.0, 2.0, 1.0, 2.0, 1.0, 2.0, 2.0, 2.0, 1.0, 1.0, 36.55219199132056, 31.170715966000994, 29.866457660875582, 25.573217759434737, 25.161562874078136, 24.239415025173592, 24.17983156935165, 23.855723559140984, 23.460788699310182, 23.425922832067037, 23.0002632704439, 22.150422688109906, 21.509502473248677, 21.51830311510522, 21.447697835912553, 21.140006887186672, 21.146523773703322, 20.89175072056284, 20.76126829557049, 20.54438024558427, 20.09923832018498, 20.005214546694123, 19.907331942862942, 19.924669421581367, 19.620363829406795, 19.587905931198218, 19.41592874447334, 19.20714105785516, 19.091181536389932, 18.87877646250972, 24.654423763540713, 1.4638962069266288, 1.0123926612392977, 0.9874529685070021, 0.9314510911373729, 0.8664670282076035, 0.9204910498680923, 0.926271315333395, 0.8157993549511193, 1.1086287768954992, 0.7309974562635554, 0.7455451157232175, 0.7265539358687004, 0.6923097434228208, 0.8653491239615162, 0.6526719204408249, 1.036757982108184, 0.6308385462714694, 0.8431308356866433, 0.8137517253375903, 1.3436756356731183, 1.2835864139504172, 0.5530911421376966, 0.5214129319012625, 0.8384953936588622, 0.5324589658367702, 0.4481916090015234, 0.4725207438356431, 0.44404438098158816, 0.7025205998504145, 0.4125262865281598, 0.4455800769811177, 6.0214806017701585, 1.210036947104825, 1.1058365327017148, 0.5886916408433787, 0.7951808220835251, 3.6587857977677674, 0.8586456141574382, 1.0405860730158876, 1.3779542839910939, 1.0542381612109235, 0.835660662416271, 0.7774485541487292, 0.14836294698727442, 0.1449529899768995, 0.026971757163575534, 0.026975793788041356, 0.026981152679888456, 0.026973918783401864, 0.026976060544693835, 0.02697710923078297, 0.026977594745367327, 0.026971537635857395, 0.02697006919709487, 0.026979309843657442, 0.026974803472762494, 0.026973903453041116, 0.026982923321991543, 0.026972262193054725, 0.02697992405614603, 0.026980118505881442, 0.0269764713403676, 0.026975609302371004, 0.026976854034166924, 0.026981528405622388, 0.026978961184099464, 0.02698548439849357, 0.026977237982344502, 0.026976269967438675, 0.026976811889131768, 0.026975380325093615, 0.026973663692320852, 0.026977027591268944, 0.02756928407482953, 0.027334461008723065, 0.027522161261674578, 0.02731394721881914, 0.02722945619388557, 0.027247893216695452, 0.027206211234935936, 0.02717729374493059, 0.027176528800567718, 0.027200195468044495, 0.027176408852256174, 0.027151686047768468, 0.02714150497727599, 0.027159346691383163, 0.027139466790188742, 0.0271287606300075, 0.027124735752507085, 0.027119395586539325, 0.027114271118990278, 0.027110793232381514, 0.027099206602306917, 0.027098928125818943, 0.027095659784408335, 0.027089755864009517, 0.027087378440942347, 0.027083579650124878, 0.027081166647352547, 0.02707786941677256, 0.13657928772352193, 0.02693285496533606, 0.026936890375002357, 0.02694224314752189, 0.026935017512148822, 0.026937156824812635, 0.026938196918859646, 0.026938689278864832, 0.02693263717478482, 0.026931172326986313, 0.02694039472160732, 0.0269359011817399, 0.026935000306170777, 0.02694401175980786, 0.026933362815906407, 0.02694098004989194, 0.026941210774773884, 0.02693754349277297, 0.026936706106289753, 0.026937949387007054, 0.026942621381712717, 0.026940054152548756, 0.026946569923863857, 0.02693833294723641, 0.02693736601960138, 0.026937907307526505, 0.026936477381616426, 0.026934762712775024, 0.02693813053922832, 0.026936347195312273, 0.02753700479981714, 0.02694796997325543, 0.02726396445124364, 0.02722590171477218, 0.02711268280895365, 0.02708188468398144, 0.027076344711668355, 0.02706698234867088, 0.027058677595222253, 0.027039140350528124, 0.027027884061647123, 0.027002975108081917, 0.027002316598170234, 0.02699810567011108, 0.02698989379920609, 0.02698879311081537, 0.02698025077639562, 0.0269765332061876, 0.026974982162062084, 0.026971817095948564, 0.026964660618254668, 0.026962020419852937, 0.02695516954217093, 0.026953869574614833, 0.026952725073783164, 0.02695225606321515, 0.026950504397374106, 0.026949827868495542, 0.02694703349528025, 0.026900817957676716, 0.026904849575096937, 0.026910197320601348, 0.026902978471155234, 0.02690511577598248, 0.026906154830853648, 0.02690664678928247, 0.026900600371968952, 0.026899136901763633, 0.026908350632278602, 0.02690386131311417, 0.026902961282292057, 0.02691196427653921, 0.026901325330994423, 0.026908935412423313, 0.026909162790151434, 0.026905502073223328, 0.026904665495699993, 0.026905907609653366, 0.026910572267577957, 0.026908010382892488, 0.02691452003766731, 0.026906290796984915, 0.02690532477289392, 0.026905865554282465, 0.026904436983008876, 0.026902723913252408, 0.026906080814404834, 0.026904306886310885, 0.02690878312808779, 0.026915918765111405, 0.026910921776710624, 0.026917774924618287, 0.026914983167840488, 0.02691457478316052, 0.026913719183566522, 0.0269126318317715, 0.02691250529713987, 0.026912354132410596, 0.026911794673413952, 0.026911588046640643, 0.0269115300426133, 0.026911401388043748, 0.026911335397997716, 0.02691114048772784, 0.026911107118137496, 0.02691077613224798, 0.02691069842554952, 0.02691060601424218, 0.026910574851316125, 0.026910393453948175, 0.02691020893640697, 0.026910179413101695, 0.026910093038385707, 0.026910074334459338, 0.026910037606987618], \"Total\": [28.0, 11.0, 19.0, 8.0, 15.0, 11.0, 4.0, 4.0, 11.0, 5.0, 3.0, 7.0, 5.0, 4.0, 2.0, 7.0, 2.0, 3.0, 3.0, 1.0, 2.0, 2.0, 1.0, 2.0, 1.0, 2.0, 2.0, 2.0, 1.0, 1.0, 36.67557480903117, 31.293935022096957, 29.989753799620058, 25.696937456379462, 25.28477675302366, 24.36272536058965, 24.303355730909722, 23.978946276924333, 23.584281283365243, 23.549384156270218, 23.12374481249132, 22.273872353782547, 21.632715637110042, 21.641753073922494, 21.57091790093925, 21.263315549999437, 21.270032130127387, 21.015082760350126, 20.88474250400414, 20.66771937879209, 20.222755337311202, 20.128478480692078, 20.030547986337872, 20.048057706318154, 19.743664978535456, 19.711254412192535, 19.53914276232529, 19.330364864015735, 19.21451060496111, 19.002087912422734, 28.394014002191188, 1.7229896478655717, 1.2775345317742919, 1.2508329891285939, 1.1858495411212389, 1.1199763461230074, 1.1975145720945826, 1.2147721070050916, 1.0765455007698057, 1.4645860598496832, 0.9872089359155856, 1.0106395643139083, 0.9906356353147403, 0.9450477556424907, 1.183472731381162, 0.9026969533802829, 1.4439794356196538, 0.8819954839908649, 1.2047837147653977, 1.1643479735612527, 1.9328969190967908, 1.8574870697793573, 0.8102054406707998, 0.7769278107970231, 1.2529192004152347, 0.8051220895996406, 0.7024806688616203, 0.7449600936589904, 0.7048602128123862, 1.115664694548847, 0.6628900690775233, 0.7185939607973713, 11.960370192589737, 2.310285060072956, 2.086479799445948, 1.0135003009100496, 1.5964547378707374, 28.394014002191188, 2.0761120128697694, 3.0670277652618263, 8.781094086792622, 4.626796249496858, 4.836450889633608, 19.399649798702185, 0.5959957732196062, 0.7461995958973591, 0.34935470723920575, 0.3507986644511204, 0.35789661550167207, 0.36131710652111027, 0.3613925549804243, 0.36541357715270334, 0.3688493915505086, 0.36990951432303354, 0.37013708189820793, 0.37155423537179766, 0.3738747153537492, 0.37793331294658616, 0.3784441002527575, 0.3787831208014528, 0.37963324711455015, 0.3797943384793334, 0.3801645324097283, 0.38021389000658423, 0.38094664399922007, 0.3827864388322206, 0.38315862857351246, 0.3855158211766118, 0.3855018153903174, 0.38737804236697415, 0.38744484765956333, 0.3879920289287982, 0.39012447236361203, 0.3905009826369731, 0.4727066114088368, 0.4814802066584984, 0.6032251803364979, 0.5533959483303743, 0.5462094421647232, 0.5899670551766206, 0.6254463745744859, 0.5666033072468059, 0.5754895945229495, 0.6410399773775776, 0.6473072207048065, 0.6141018715285405, 0.6117975901071099, 0.684240543331691, 0.9496400630653391, 0.6945341481728615, 0.9322996698803333, 0.6384341036164607, 0.7659889207857553, 1.3926570563141263, 0.8081572872726118, 0.6933479715963755, 0.7783561225074556, 0.6774579382609561, 0.8182901057927339, 0.8524974794241471, 0.8284878447132202, 0.731388200488098, 0.6808431736396177, 0.34935470723920575, 0.3507986644511204, 0.35789661550167207, 0.36131710652111027, 0.3613925549804243, 0.36541357715270334, 0.3688493915505086, 0.36990951432303354, 0.37013708189820793, 0.37155423537179766, 0.3738747153537492, 0.37793331294658616, 0.3784441002527575, 0.3787831208014528, 0.37963324711455015, 0.3797943384793334, 0.3801645324097283, 0.38021389000658423, 0.38094664399922007, 0.3827864388322206, 0.38315862857351246, 0.3855158211766118, 0.3855018153903174, 0.38737804236697415, 0.38744484765956333, 0.3879920289287982, 0.39012447236361203, 0.3905009826369731, 0.392447757752935, 0.5975035964418025, 0.39545912724101695, 0.7261563616258099, 0.7579886009297565, 1.278354337499648, 0.9816478365272968, 0.9741950388240471, 1.9001248253235805, 1.1075558233844827, 1.759231787055546, 1.2299482842392149, 1.5483930967502635, 1.5378031900695197, 2.3872219018359546, 3.677984580445543, 1.856100242342794, 1.826875692054798, 1.8585731861685868, 2.019878657001272, 2.0164998083086974, 3.183609729960981, 2.2488588250280124, 2.8412416004485936, 3.181293786067383, 3.090393677539782, 3.3846474196767455, 3.038213953584583, 0.506152674463092, 0.6479853883210539, 0.34935470723920575, 0.3507986644511204, 0.35789661550167207, 0.36131710652111027, 0.3613925549804243, 0.36541357715270334, 0.3688493915505086, 0.36990951432303354, 0.37013708189820793, 0.37155423537179766, 0.3738747153537492, 0.37793331294658616, 0.3784441002527575, 0.3787831208014528, 0.37963324711455015, 0.3797943384793334, 0.3801645324097283, 0.38021389000658423, 0.38094664399922007, 0.3827864388322206, 0.38315862857351246, 0.3855158211766118, 0.3855018153903174, 0.38737804236697415, 0.38744484765956333, 0.3879920289287982, 0.39012447236361203, 0.3905009826369731, 0.392447757752935, 0.39391419053800864, 0.39545912724101695, 0.39757689771789195, 0.506152674463092, 0.6479853883210539, 0.542388429595892, 0.4534871719801541, 0.6821585608730493, 0.4600767966290792, 0.4991552007216744, 0.666078638884466, 0.4563058245347499, 0.5598041824611028, 0.4233743424098193, 0.42196078314364815, 0.40100965309514464, 0.5521357573278494, 0.45606430574621615, 0.48869590209673625, 0.7512436775544751, 0.515233655265859, 0.5675863545717801, 0.5763467635635411, 0.5798381668388415, 0.41255851585561487, 0.4179237763592973, 0.41760353074367246], \"Category\": [\"Default\", \"Default\", \"Default\", \"Default\", \"Default\", \"Default\", \"Default\", \"Default\", \"Default\", \"Default\", \"Default\", \"Default\", \"Default\", \"Default\", \"Default\", \"Default\", \"Default\", \"Default\", \"Default\", \"Default\", \"Default\", \"Default\", \"Default\", \"Default\", \"Default\", \"Default\", \"Default\", \"Default\", \"Default\", \"Default\", \"Topic1\", \"Topic1\", \"Topic1\", \"Topic1\", \"Topic1\", \"Topic1\", \"Topic1\", \"Topic1\", \"Topic1\", \"Topic1\", \"Topic1\", \"Topic1\", \"Topic1\", \"Topic1\", \"Topic1\", \"Topic1\", \"Topic1\", \"Topic1\", \"Topic1\", \"Topic1\", \"Topic1\", \"Topic1\", \"Topic1\", \"Topic1\", \"Topic1\", \"Topic1\", \"Topic1\", \"Topic1\", \"Topic1\", \"Topic1\", \"Topic1\", \"Topic2\", \"Topic2\", \"Topic2\", \"Topic2\", \"Topic2\", \"Topic2\", \"Topic2\", \"Topic2\", \"Topic2\", \"Topic2\", \"Topic2\", \"Topic2\", \"Topic2\", \"Topic2\", \"Topic2\", \"Topic2\", \"Topic2\", \"Topic2\", \"Topic2\", \"Topic2\", \"Topic2\", \"Topic2\", \"Topic2\", \"Topic2\", \"Topic2\", \"Topic2\", \"Topic2\", \"Topic2\", \"Topic2\", \"Topic2\", \"Topic2\", \"Topic2\", \"Topic2\", \"Topic2\", \"Topic2\", \"Topic2\", \"Topic2\", \"Topic2\", \"Topic2\", \"Topic2\", \"Topic2\", \"Topic2\", \"Topic2\", \"Topic3\", \"Topic3\", \"Topic3\", \"Topic3\", \"Topic3\", \"Topic3\", \"Topic3\", \"Topic3\", \"Topic3\", \"Topic3\", \"Topic3\", \"Topic3\", \"Topic3\", \"Topic3\", \"Topic3\", \"Topic3\", \"Topic3\", \"Topic3\", \"Topic3\", \"Topic3\", \"Topic3\", \"Topic3\", \"Topic3\", \"Topic3\", \"Topic3\", \"Topic3\", \"Topic3\", \"Topic3\", \"Topic3\", \"Topic3\", \"Topic3\", \"Topic3\", \"Topic3\", \"Topic3\", \"Topic3\", \"Topic3\", \"Topic3\", \"Topic3\", \"Topic3\", \"Topic3\", \"Topic3\", \"Topic3\", \"Topic3\", \"Topic3\", \"Topic3\", \"Topic3\", \"Topic3\", \"Topic3\", \"Topic3\", \"Topic3\", \"Topic3\", \"Topic3\", \"Topic3\", \"Topic3\", \"Topic3\", \"Topic3\", \"Topic3\", \"Topic3\", \"Topic4\", \"Topic4\", \"Topic4\", \"Topic4\", \"Topic4\", \"Topic4\", \"Topic4\", \"Topic4\", \"Topic4\", \"Topic4\", \"Topic4\", \"Topic4\", \"Topic4\", \"Topic4\", \"Topic4\", \"Topic4\", \"Topic4\", \"Topic4\", \"Topic4\", \"Topic4\", \"Topic4\", \"Topic4\", \"Topic4\", \"Topic4\", \"Topic4\", \"Topic4\", \"Topic4\", \"Topic4\", \"Topic4\", \"Topic4\", \"Topic4\", \"Topic4\", \"Topic4\", \"Topic4\", \"Topic4\", \"Topic4\", \"Topic4\", \"Topic4\", \"Topic4\", \"Topic4\", \"Topic4\", \"Topic4\", \"Topic4\", \"Topic4\", \"Topic4\", \"Topic4\", \"Topic4\", \"Topic4\", \"Topic4\", \"Topic4\", \"Topic4\", \"Topic4\", \"Topic4\", \"Topic4\", \"Topic4\", \"Topic4\", \"Topic4\", \"Topic4\", \"Topic4\", \"Topic5\", \"Topic5\", \"Topic5\", \"Topic5\", \"Topic5\", \"Topic5\", \"Topic5\", \"Topic5\", \"Topic5\", \"Topic5\", \"Topic5\", \"Topic5\", \"Topic5\", \"Topic5\", \"Topic5\", \"Topic5\", \"Topic5\", \"Topic5\", \"Topic5\", \"Topic5\", \"Topic5\", \"Topic5\", \"Topic5\", \"Topic5\", \"Topic5\", \"Topic5\", \"Topic5\", \"Topic5\", \"Topic5\", \"Topic5\", \"Topic5\", \"Topic5\", \"Topic5\", \"Topic5\", \"Topic5\", \"Topic5\", \"Topic5\", \"Topic5\", \"Topic5\", \"Topic5\", \"Topic5\", \"Topic5\", \"Topic5\", \"Topic5\", \"Topic5\", \"Topic5\", \"Topic5\", \"Topic5\", \"Topic5\", \"Topic5\", \"Topic5\", \"Topic5\", \"Topic5\", \"Topic5\", \"Topic5\", \"Topic5\"], \"logprob\": [30.0, 29.0, 28.0, 27.0, 26.0, 25.0, 24.0, 23.0, 22.0, 21.0, 20.0, 19.0, 18.0, 17.0, 16.0, 15.0, 14.0, 13.0, 12.0, 11.0, 10.0, 9.0, 8.0, 7.0, 6.0, 5.0, 4.0, 3.0, 2.0, 1.0, -6.6144, -6.7737, -6.8164, -6.9716, -6.9879, -7.0252, -7.0276, -7.0411, -7.0578, -7.0593, -7.0777, -7.1153, -7.1447, -7.1443, -7.1476, -7.162, -7.1617, -7.1738, -7.1801, -7.1906, -7.2125, -7.2172, -7.2221, -7.2212, -7.2366, -7.2383, -7.2471, -7.2579, -7.2639, -7.2751, -7.0082, -6.311, -6.6798, -6.7047, -6.7631, -6.8354, -6.775, -6.7687, -6.8957, -6.589, -7.0055, -6.9858, -7.0116, -7.0598, -6.8367, -7.1188, -6.656, -7.1528, -6.8628, -6.8982, -6.3967, -6.4425, -7.2843, -7.3433, -6.8683, -7.3224, -7.4947, -7.4418, -7.5039, -7.0452, -7.5776, -7.5005, -4.8968, -6.5015, -6.5915, -7.222, -6.9213, -5.395, -6.8445, -6.6523, -6.3715, -6.6393, -6.8716, -6.9439, -8.0329, -8.0562, -9.7378, -9.7377, -9.7375, -9.7377, -9.7376, -9.7376, -9.7376, -9.7378, -9.7379, -9.7375, -9.7377, -9.7377, -9.7374, -9.7378, -9.7375, -9.7375, -9.7376, -9.7377, -9.7376, -9.7374, -9.7375, -9.7373, -9.7376, -9.7376, -9.7376, -9.7377, -9.7377, -9.7376, -9.7159, -9.7244, -9.7176, -9.7252, -9.7283, -9.7276, -9.7292, -9.7302, -9.7302, -9.7294, -9.7302, -9.7312, -9.7315, -9.7309, -9.7316, -9.732, -9.7322, -9.7323, -9.7325, -9.7327, -9.7331, -9.7331, -9.7332, -9.7334, -9.7335, -9.7337, -9.7338, -9.7339, -8.114, -9.7375, -9.7374, -9.7372, -9.7374, -9.7373, -9.7373, -9.7373, -9.7375, -9.7376, -9.7372, -9.7374, -9.7374, -9.7371, -9.7375, -9.7372, -9.7372, -9.7373, -9.7374, -9.7373, -9.7371, -9.7372, -9.737, -9.7373, -9.7373, -9.7373, -9.7374, -9.7374, -9.7373, -9.7374, -9.7153, -9.7369, -9.7253, -9.7267, -9.7309, -9.732, -9.7322, -9.7325, -9.7328, -9.7336, -9.734, -9.7349, -9.7349, -9.7351, -9.7354, -9.7354, -9.7358, -9.7359, -9.7359, -9.7361, -9.7363, -9.7364, -9.7367, -9.7367, -9.7368, -9.7368, -9.7369, -9.7369, -9.737, -9.7373, -9.7371, -9.7369, -9.7372, -9.7371, -9.7371, -9.737, -9.7373, -9.7373, -9.737, -9.7371, -9.7372, -9.7368, -9.7372, -9.737, -9.737, -9.7371, -9.7371, -9.7371, -9.7369, -9.737, -9.7368, -9.7371, -9.7371, -9.7371, -9.7371, -9.7372, -9.7371, -9.7371, -9.737, -9.7367, -9.7369, -9.7366, -9.7367, -9.7368, -9.7368, -9.7368, -9.7368, -9.7368, -9.7369, -9.7369, -9.7369, -9.7369, -9.7369, -9.7369, -9.7369, -9.7369, -9.7369, -9.7369, -9.7369, -9.7369, -9.7369, -9.7369, -9.7369, -9.7369, -9.7369], \"loglift\": [30.0, 29.0, 28.0, 27.0, 26.0, 25.0, 24.0, 23.0, 22.0, 21.0, 20.0, 19.0, 18.0, 17.0, 16.0, 15.0, 14.0, 13.0, 12.0, 11.0, 10.0, 9.0, 8.0, 7.0, 6.0, 5.0, 4.0, 3.0, 2.0, 1.0, 0.0734, 0.0728, 0.0726, 0.0719, 0.0719, 0.0717, 0.0717, 0.0716, 0.0715, 0.0715, 0.0714, 0.0712, 0.0711, 0.071, 0.071, 0.0709, 0.0709, 0.0709, 0.0708, 0.0708, 0.0706, 0.0706, 0.0706, 0.0706, 0.0705, 0.0705, 0.0704, 0.0704, 0.0703, 0.0703, -0.0645, 3.4349, 3.3652, 3.3614, 3.3563, 3.3412, 3.3347, 3.3267, 3.3205, 3.3194, 3.2973, 3.2936, 3.2878, 3.2866, 3.2847, 3.2735, 3.2665, 3.2627, 3.2409, 3.2396, 3.2342, 3.2282, 3.2161, 3.199, 3.1962, 3.1843, 3.1484, 3.1426, 3.1357, 3.1353, 3.1235, 3.1199, 2.9115, 2.9511, 2.9629, 3.0546, 2.9008, 1.5488, 2.7149, 2.5169, 1.7458, 2.1188, 1.8421, 0.3808, 2.7745, 2.5265, 1.6038, 1.5998, 1.58, 1.5702, 1.5701, 1.559, 1.5497, 1.5466, 1.5459, 1.5425, 1.5361, 1.5252, 1.5242, 1.5229, 1.521, 1.5206, 1.5195, 1.5193, 1.5174, 1.5128, 1.5117, 1.5058, 1.5055, 1.5006, 1.5005, 1.499, 1.4935, 1.4926, 1.3233, 1.2964, 1.0778, 1.1564, 1.1664, 1.09, 1.0301, 1.1278, 1.1122, 1.0052, 0.9946, 1.0464, 1.0498, 0.9385, 0.61, 0.9224, 0.6279, 1.0063, 0.824, 0.2261, 0.7698, 0.9231, 0.8073, 0.9459, 0.7569, 0.7158, 0.7443, 0.8689, 2.5604, 1.6041, 1.6001, 1.5803, 1.5705, 1.5704, 1.5593, 1.55, 1.5469, 1.5462, 1.5428, 1.5364, 1.5255, 1.5245, 1.5232, 1.5213, 1.5209, 1.5197, 1.5196, 1.5177, 1.5131, 1.512, 1.5061, 1.5058, 1.5009, 1.5008, 1.4993, 1.4938, 1.4929, 1.4879, 1.0896, 1.4807, 0.8846, 0.8403, 0.3135, 0.5765, 0.5839, -0.0845, 0.4549, -0.0085, 0.349, 0.1178, 0.1246, -0.3153, -0.7478, -0.064, -0.0484, -0.0658, -0.1491, -0.1475, -0.6044, -0.2569, -0.491, -0.6041, -0.5751, -0.6661, -0.5582, 1.234, 0.9868, 1.6043, 1.6004, 1.5805, 1.5707, 1.5706, 1.5596, 1.5503, 1.5472, 1.5465, 1.543, 1.5366, 1.5258, 1.5248, 1.5235, 1.5215, 1.5211, 1.52, 1.5198, 1.518, 1.5133, 1.5122, 1.5064, 1.5061, 1.5012, 1.501, 1.4996, 1.494, 1.4932, 1.4882, 1.4846, 1.4809, 1.4754, 1.2342, 0.9871, 1.165, 1.3439, 0.9356, 1.3295, 1.2479, 0.9594, 1.3377, 1.1332, 1.4126, 1.4159, 1.4668, 1.147, 1.3382, 1.2691, 0.8391, 1.2162, 1.1194, 1.1041, 1.098, 1.4384, 1.4255, 1.4262]}, \"token.table\": {\"Topic\": [1, 1, 1, 2, 2, 1, 1, 1, 1, 1, 1, 1, 1, 1, 1, 1, 1, 1, 1, 2, 2, 1, 1, 1, 1, 1, 1, 1, 1, 2, 1, 1, 1, 1, 1, 2, 1, 1, 2, 1, 1, 1, 1, 2, 1, 1, 1, 1, 1, 2, 1, 2, 1, 2, 1, 1, 2, 2, 1, 1, 2, 1, 2, 1, 2, 2, 1, 1, 1, 2, 1, 2, 1, 2, 2, 1, 1, 2, 2, 1, 2, 1, 1, 1, 2, 1, 1, 1, 2, 1, 1, 2, 1, 1, 1, 1, 2, 1, 1, 1, 1, 1, 1, 1, 1, 1, 1, 1, 1, 2, 1, 2, 1, 2, 2, 1, 2, 1, 2, 1, 2, 1, 1, 1, 1, 2, 2, 1, 1, 1, 2, 1, 1, 1, 2, 1, 1, 2, 1, 1, 1, 2, 1, 2, 2, 2], \"Freq\": [0.9724070411438496, 0.9873045734733561, 0.8804672702517767, 0.14087476324028428, 1.2420476508069298, 1.5988580966359212, 0.7822557257136661, 0.943012560845098, 1.2847589568365236, 1.5448614939150094, 0.9887372249395239, 1.076094293667801, 0.9992822887959983, 0.8130423147169562, 1.5599651118341908, 0.9936170793626891, 0.9981244389638619, 0.6502782712752683, 0.4816695793873469, 0.4816695793873469, 0.8588497791956634, 1.012983152912249, 1.000341656702099, 1.4761064023650143, 0.9918175998625379, 1.5663323659175168, 1.0726164904985502, 0.9290391859418209, 0.985111462070807, 0.799467241983009, 0.9829095381106477, 0.9707501092185308, 1.016553507696619, 0.9423265583614008, 1.2373828903712834, 0.9866795294506303, 0.8863552470958758, 1.0146487677430036, 0.8432773006383969, 1.3401240170834288, 1.2220604806546345, 1.0558764166786592, 0.6520971289052755, 0.32604856445263775, 0.987517948785817, 1.3771138736030277, 0.9735329806751343, 0.8225465673102081, 1.4398140143731444, 0.6827867801108488, 1.0525624281864805, 1.2871208703085746, 1.461474345163499, 0.7827577064481845, 0.9556034489717213, 1.077528009734848, 0.7981360646948232, 1.2342548566102718, 0.9695529634312453, 0.9793991230331941, 0.05154732226490495, 0.43284701844040896, 0.43284701844040896, 1.0169781903044985, 1.058147584637297, 0.8231996719659687, 0.9505268908928237, 0.8455705522034972, 0.5173581633454528, 0.5173581633454528, 0.4564427575106096, 0.4564427575106096, 0.7971671788061682, 0.1138810255437383, 0.8350629072102995, 0.82594404994316, 0.6483968254115869, 0.21613227513719566, 1.1077914866726328, 0.9452816185250497, 0.08593469259318634, 0.918646447984407, 0.9877043223812837, 0.5016567132443281, 0.5016567132443281, 0.9984749300738698, 1.0055187415393683, 0.4792761474448705, 0.4792761474448705, 0.9889849165657354, 1.0160772756353986, 1.1337926533083669, 1.0088458106698561, 0.9752258177238856, 1.3192810535321902, 0.9874222309000006, 0.8449708839788462, 0.9901584895051152, 1.0530305521990135, 1.0008780086844737, 0.9876164397137283, 0.8893399522200276, 1.442277241682245, 0.837793922073959, 1.1368598582154041, 1.3055019111427812, 1.0117937222727411, 0.9906072847058254, 1.026488495781196, 0.8928759999813153, 0.479442224964611, 0.479442224964611, 0.5221720438041184, 0.5221720438041184, 0.58038653989523, 0.6458308307488454, 1.0094528849472333, 1.207018312195212, 0.5383617556588352, 0.484202084136848, 0.484202084136848, 1.087552139632801, 1.0947652370099021, 1.1730239961242928, 1.018695261976664, 0.989472444292114, 0.9288971058677313, 0.9946485825070828, 0.9028890272493785, 0.8270527482401513, 0.20676318706003782, 1.3672629655942516, 0.9998901219470009, 0.997602874701273, 0.8963266516239276, 0.9766709756558989, 0.9736968988498588, 0.06491312658999059, 0.9680177525930983, 0.9888360099629223, 0.626387943408746, 0.626387943408746, 0.7180518674472871, 1.0129567952832106, 0.8300244996212666, 0.6925306381325789], \"Term\": [\"abc\", \"animation\", \"anime\", \"anime\", \"aniplex\", \"ascent\", \"assassinate\", \"assassination\", \"assured\", \"battery\", \"bbc\", \"blackmail\", \"book\", \"captive\", \"caravan\", \"channel\", \"chapter\", \"chill\", \"choi\", \"choi\", \"circulation\", \"city\", \"comedy\", \"comparable\", \"compel\", \"compilations\", \"complication\", \"copy\", \"crime\", \"crunchyroll\", \"david\", \"desperate\", \"detective\", \"disambiguation\", \"disorders\", \"dong\", \"duncan\", \"dvd\", \"eun\", \"euphoria\", \"exploitation\", \"federal\", \"funimation\", \"funimation\", \"game\", \"georgian\", \"guest\", \"han\", \"handheld\", \"hee\", \"hostage\", \"hye\", \"hysterical\", \"hyun\", \"illustrate\", \"israeli\", \"jae\", \"jang\", \"japan\", \"japanese\", \"japanese\", \"jin\", \"jin\", \"john\", \"joo\", \"joon\", \"jump\", \"jun\", \"jung\", \"jung\", \"kang\", \"kang\", \"kim\", \"kim\", \"kodansha\", \"korea\", \"korean\", \"korean\", \"kyung\", \"lee\", \"lee\", \"license\", \"man\", \"manga\", \"manga\", \"michael\", \"million\", \"min\", \"min\", \"murder\", \"music\", \"naruto\", \"netflix\", \"novel\", \"octane\", \"operate\", \"ova\", \"painting\", \"pharmaceutical\", \"pilot\", \"police\", \"reasons\", \"rehabilitation\", \"rogue\", \"sanders\", \"schizophrenia\", \"school\", \"seasons\", \"seize\", \"seo\", \"serialize\", \"serialize\", \"shin\", \"shin\", \"shonen\", \"shooter\", \"shueisha\", \"solved\", \"soo\", \"sung\", \"sung\", \"surgeon\", \"suspense\", \"sven\", \"tactical\", \"tae\", \"tankobon\", \"team\", \"thrust\", \"tokyo\", \"tokyo\", \"usher\", \"version\", \"video\", \"viz\", \"voiced\", \"volume\", \"volume\", \"volumes\", \"war\", \"woo\", \"woo\", \"wrestler\", \"yeon\", \"yoo\", \"yoon\"]}, \"R\": 30, \"lambda.step\": 0.01, \"plot.opts\": {\"xlab\": \"PC1\", \"ylab\": \"PC2\"}, \"topic.order\": [2, 5, 4, 1, 3]};\n",
       "\n",
       "function LDAvis_load_lib(url, callback){\n",
       "  var s = document.createElement('script');\n",
       "  s.src = url;\n",
       "  s.async = true;\n",
       "  s.onreadystatechange = s.onload = callback;\n",
       "  s.onerror = function(){console.warn(\"failed to load library \" + url);};\n",
       "  document.getElementsByTagName(\"head\")[0].appendChild(s);\n",
       "}\n",
       "\n",
       "if(typeof(LDAvis) !== \"undefined\"){\n",
       "   // already loaded: just create the visualization\n",
       "   !function(LDAvis){\n",
       "       new LDAvis(\"#\" + \"ldavis_el3756812841007580964261284012\", ldavis_el3756812841007580964261284012_data);\n",
       "   }(LDAvis);\n",
       "}else if(typeof define === \"function\" && define.amd){\n",
       "   // require.js is available: use it to load d3/LDAvis\n",
       "   require.config({paths: {d3: \"https://d3js.org/d3.v5\"}});\n",
       "   require([\"d3\"], function(d3){\n",
       "      window.d3 = d3;\n",
       "      LDAvis_load_lib(\"https://cdn.jsdelivr.net/gh/bmabey/pyLDAvis@3.4.0/pyLDAvis/js/ldavis.v3.0.0.js\", function(){\n",
       "        new LDAvis(\"#\" + \"ldavis_el3756812841007580964261284012\", ldavis_el3756812841007580964261284012_data);\n",
       "      });\n",
       "    });\n",
       "}else{\n",
       "    // require.js not available: dynamically load d3 & LDAvis\n",
       "    LDAvis_load_lib(\"https://d3js.org/d3.v5.js\", function(){\n",
       "         LDAvis_load_lib(\"https://cdn.jsdelivr.net/gh/bmabey/pyLDAvis@3.4.0/pyLDAvis/js/ldavis.v3.0.0.js\", function(){\n",
       "                 new LDAvis(\"#\" + \"ldavis_el3756812841007580964261284012\", ldavis_el3756812841007580964261284012_data);\n",
       "            })\n",
       "         });\n",
       "}\n",
       "</script>"
      ],
      "text/plain": [
       "PreparedData(topic_coordinates=              x         y  topics  cluster       Freq\n",
       "topic                                                \n",
       "1      0.095122  0.001353       1        1  92.610789\n",
       "4     -0.041680  0.006405       2        1   2.738348\n",
       "3     -0.017869 -0.002877       3        1   1.552830\n",
       "0     -0.017810 -0.002565       4        1   1.550130\n",
       "2     -0.017762 -0.002316       5        1   1.547904, topic_info=           Term      Freq      Total Category  logprob  loglift\n",
       "641       anime  28.00000  28.000000  Default  30.0000  30.0000\n",
       "9254      manga  11.00000  11.000000  Default  29.0000  29.0000\n",
       "8040   japanese  19.00000  19.000000  Default  28.0000  28.0000\n",
       "8416        kim   8.00000   8.000000  Default  27.0000  27.0000\n",
       "16332    volume  15.00000  15.000000  Default  26.0000  26.0000\n",
       "...         ...       ...        ...      ...      ...      ...\n",
       "9596     megumi   0.02691   0.576347   Topic5  -9.7369   1.1041\n",
       "8532      kyoto   0.02691   0.579838   Topic5  -9.7369   1.0980\n",
       "15012    takuya   0.02691   0.412559   Topic5  -9.7369   1.4384\n",
       "7349     ichiro   0.02691   0.417924   Topic5  -9.7369   1.4255\n",
       "16076     ushio   0.02691   0.417604   Topic5  -9.7369   1.4262\n",
       "\n",
       "[277 rows x 6 columns], token_table=       Topic      Freq       Term\n",
       "term                             \n",
       "12         1  0.972407        abc\n",
       "635        1  0.987305  animation\n",
       "641        1  0.880467      anime\n",
       "641        2  0.140875      anime\n",
       "644        2  1.242048    aniplex\n",
       "...      ...       ...        ...\n",
       "16733      2  0.626388        woo\n",
       "16793      1  0.718052   wrestler\n",
       "16850      2  1.012957       yeon\n",
       "16863      2  0.830024        yoo\n",
       "16864      2  0.692531       yoon\n",
       "\n",
       "[146 rows x 3 columns], R=30, lambda_step=0.01, plot_opts={'xlab': 'PC1', 'ylab': 'PC2'}, topic_order=[2, 5, 4, 1, 3])"
      ]
     },
     "execution_count": 20,
     "metadata": {},
     "output_type": "execute_result"
    }
   ],
   "source": [
    "# Topic Modelling Visualization for the show description texts\n",
    "pyLDAvis.sklearn.prepare(best_lda_model, dtm_tfidf, tfidf_vectorizer)"
   ]
  },
  {
   "attachments": {},
   "cell_type": "markdown",
   "metadata": {},
   "source": [
    "#### Generate results (fit-transorm) from a LDA model and tfidf matrix"
   ]
  },
  {
   "cell_type": "code",
   "execution_count": 21,
   "metadata": {},
   "outputs": [],
   "source": [
    "lda_results = best_lda_model.fit_transform(dtm_tfidf) "
   ]
  },
  {
   "attachments": {},
   "cell_type": "markdown",
   "metadata": {},
   "source": [
    "#### Append the LDA topic % matches onto the results dataframe"
   ]
  },
  {
   "cell_type": "code",
   "execution_count": 22,
   "metadata": {},
   "outputs": [],
   "source": [
    "# Technique reference: (Mimi Dutta) https://www.analyticsvidhya.com/blog/2021/07/topic-modelling-with-lda-a-hands-on-introduction/\n",
    "\n",
    "def make_lda_topic_pct_cols(lda_results, df_to_append_to, name_prefix=\"\"):\n",
    "    \n",
    "    for j in tqdm(range(len(df_to_append_to))):\n",
    "        for i,topic in enumerate(lda_results[j]):\n",
    "            df_to_append_to.loc[j, f\"{name_prefix}lda_topic{i}_match_pct\"] = topic\n",
    "    return\n",
    "        "
   ]
  },
  {
   "cell_type": "code",
   "execution_count": 23,
   "metadata": {},
   "outputs": [
    {
     "name": "stderr",
     "output_type": "stream",
     "text": [
      "100%|██████████| 2484/2484 [00:00<00:00, 4062.42it/s]\n"
     ]
    }
   ],
   "source": [
    "make_lda_topic_pct_cols(lda_results, df)"
   ]
  },
  {
   "cell_type": "code",
   "execution_count": 24,
   "metadata": {},
   "outputs": [
    {
     "data": {
      "text/html": [
       "<div>\n",
       "<style scoped>\n",
       "    .dataframe tbody tr th:only-of-type {\n",
       "        vertical-align: middle;\n",
       "    }\n",
       "\n",
       "    .dataframe tbody tr th {\n",
       "        vertical-align: top;\n",
       "    }\n",
       "\n",
       "    .dataframe thead th {\n",
       "        text-align: right;\n",
       "    }\n",
       "</style>\n",
       "<table border=\"1\" class=\"dataframe\">\n",
       "  <thead>\n",
       "    <tr style=\"text-align: right;\">\n",
       "      <th></th>\n",
       "      <th>name</th>\n",
       "      <th>href</th>\n",
       "      <th>tokenized_text</th>\n",
       "      <th>lda_topic0_match_pct</th>\n",
       "      <th>lda_topic1_match_pct</th>\n",
       "      <th>lda_topic2_match_pct</th>\n",
       "      <th>lda_topic3_match_pct</th>\n",
       "      <th>lda_topic4_match_pct</th>\n",
       "    </tr>\n",
       "  </thead>\n",
       "  <tbody>\n",
       "    <tr>\n",
       "      <th>0</th>\n",
       "      <td>Game of Thrones</td>\n",
       "      <td>/title/tt0944947/</td>\n",
       "      <td>nine noble family fight control land westeros ...</td>\n",
       "      <td>0.965242</td>\n",
       "      <td>0.008690</td>\n",
       "      <td>0.008690</td>\n",
       "      <td>0.008690</td>\n",
       "      <td>0.008690</td>\n",
       "    </tr>\n",
       "    <tr>\n",
       "      <th>1</th>\n",
       "      <td>Prison Break</td>\n",
       "      <td>/title/tt0455275/</td>\n",
       "      <td>due political conspiracy innocent man send dea...</td>\n",
       "      <td>0.954077</td>\n",
       "      <td>0.011481</td>\n",
       "      <td>0.011481</td>\n",
       "      <td>0.011481</td>\n",
       "      <td>0.011481</td>\n",
       "    </tr>\n",
       "    <tr>\n",
       "      <th>2</th>\n",
       "      <td>Vikings</td>\n",
       "      <td>/title/tt2306299/</td>\n",
       "      <td>vikings transport us brutal mysterious world r...</td>\n",
       "      <td>0.946007</td>\n",
       "      <td>0.013498</td>\n",
       "      <td>0.013498</td>\n",
       "      <td>0.013498</td>\n",
       "      <td>0.013498</td>\n",
       "    </tr>\n",
       "    <tr>\n",
       "      <th>3</th>\n",
       "      <td>The Boys</td>\n",
       "      <td>/title/tt1190634/</td>\n",
       "      <td>group vigilante set take corrupt superheroes a...</td>\n",
       "      <td>0.962833</td>\n",
       "      <td>0.009292</td>\n",
       "      <td>0.009292</td>\n",
       "      <td>0.009292</td>\n",
       "      <td>0.009292</td>\n",
       "    </tr>\n",
       "    <tr>\n",
       "      <th>4</th>\n",
       "      <td>The Mandalorian</td>\n",
       "      <td>/title/tt8111088/</td>\n",
       "      <td>travel lone bounty hunter outer reach galaxy f...</td>\n",
       "      <td>0.936987</td>\n",
       "      <td>0.015753</td>\n",
       "      <td>0.015753</td>\n",
       "      <td>0.015753</td>\n",
       "      <td>0.015753</td>\n",
       "    </tr>\n",
       "  </tbody>\n",
       "</table>\n",
       "</div>"
      ],
      "text/plain": [
       "              name               href  \\\n",
       "0  Game of Thrones  /title/tt0944947/   \n",
       "1     Prison Break  /title/tt0455275/   \n",
       "2          Vikings  /title/tt2306299/   \n",
       "3         The Boys  /title/tt1190634/   \n",
       "4  The Mandalorian  /title/tt8111088/   \n",
       "\n",
       "                                      tokenized_text  lda_topic0_match_pct  \\\n",
       "0  nine noble family fight control land westeros ...              0.965242   \n",
       "1  due political conspiracy innocent man send dea...              0.954077   \n",
       "2  vikings transport us brutal mysterious world r...              0.946007   \n",
       "3  group vigilante set take corrupt superheroes a...              0.962833   \n",
       "4  travel lone bounty hunter outer reach galaxy f...              0.936987   \n",
       "\n",
       "   lda_topic1_match_pct  lda_topic2_match_pct  lda_topic3_match_pct  \\\n",
       "0              0.008690              0.008690              0.008690   \n",
       "1              0.011481              0.011481              0.011481   \n",
       "2              0.013498              0.013498              0.013498   \n",
       "3              0.009292              0.009292              0.009292   \n",
       "4              0.015753              0.015753              0.015753   \n",
       "\n",
       "   lda_topic4_match_pct  \n",
       "0              0.008690  \n",
       "1              0.011481  \n",
       "2              0.013498  \n",
       "3              0.009292  \n",
       "4              0.015753  "
      ]
     },
     "execution_count": 24,
     "metadata": {},
     "output_type": "execute_result"
    }
   ],
   "source": [
    "df.head()"
   ]
  },
  {
   "cell_type": "code",
   "execution_count": 25,
   "metadata": {},
   "outputs": [
    {
     "data": {
      "text/plain": [
       "(2484, 8)"
      ]
     },
     "execution_count": 25,
     "metadata": {},
     "output_type": "execute_result"
    }
   ],
   "source": [
    "df.shape"
   ]
  },
  {
   "cell_type": "code",
   "execution_count": null,
   "metadata": {},
   "outputs": [],
   "source": []
  },
  {
   "attachments": {},
   "cell_type": "markdown",
   "metadata": {},
   "source": [
    "# LSA model"
   ]
  },
  {
   "cell_type": "code",
   "execution_count": 26,
   "metadata": {},
   "outputs": [],
   "source": [
    "# Technique reference: (Avinash Navlani) https://machinelearninggeek.com/latent-semantic-indexing-using-scikit-learn/\n",
    "\n",
    "\n",
    "# Define the number of topics or components\n",
    "num_components=10\n",
    "\n",
    "# Create SVD object\n",
    "lsa = TruncatedSVD(n_components=num_components, n_iter=100, random_state=42)\n",
    "\n",
    "# Fit SVD model on data\n",
    "lsa_results = lsa.fit_transform(dtm_tfidf)\n",
    "\n",
    "# Get Singular values and Components \n",
    "Sigma = lsa.singular_values_ \n",
    "V_transpose = lsa.components_.T"
   ]
  },
  {
   "cell_type": "code",
   "execution_count": 27,
   "metadata": {},
   "outputs": [],
   "source": [
    "# Technique reference: (Avinash Navlani) https://machinelearninggeek.com/latent-semantic-indexing-using-scikit-learn/\n",
    "\n",
    "# Print the topics with their terms\n",
    "\n",
    "def lsa_topics_out(tfidf_vectorizer, svd_object):\n",
    "    terms = tfidf_vectorizer.get_feature_names_out()\n",
    "\n",
    "    for index, component in enumerate(svd_object.components_):\n",
    "        zipped = zip(terms, component)\n",
    "        top_terms_key=sorted(zipped, key = lambda t: t[1], reverse=True)[:10]\n",
    "        top_terms_list=list(dict(top_terms_key).keys())\n",
    "        print(\"Topic \"+str(index)+\": \",top_terms_list)\n",
    "\n",
    "    return"
   ]
  },
  {
   "cell_type": "code",
   "execution_count": 28,
   "metadata": {},
   "outputs": [
    {
     "name": "stdout",
     "output_type": "stream",
     "text": [
      "Topic 0:  ['anime', 'manga', 'netflix', 'seasons', 'comedy', 'japanese', 'school', 'game', 'voiced', 'novel']\n",
      "Topic 1:  ['anime', 'manga', 'japanese', 'volume', 'english', 'japan', 'voiced', 'shonen', 'animation', 'license']\n",
      "Topic 2:  ['kim', 'jung', 'soo', 'korean', 'lee', 'jin', 'hee', 'min', 'hyun', 'yoon']\n",
      "Topic 3:  ['voiced', 'cartoon', 'disney', 'animation', 'voice', 'animated', 'nickelodeon', 'game', 'marvel', 'batman']\n",
      "Topic 4:  ['bbc', 'planet', 'war', 'programme', 'documentary', 'earth', 'british', 'miniseries', 'london', 'novel']\n",
      "Topic 5:  ['voiced', 'crime', 'detective', 'japanese', 'netflix', 'police', 'murder', 'dragon', 'batman', 'english']\n",
      "Topic 6:  ['voiced', 'detective', 'bbc', 'police', 'murder', 'crime', 'japanese', 'programme', 'case', 'english']\n",
      "Topic 7:  ['trek', 'detective', 'police', 'fbi', 'cbs', 'marvel', 'team', 'crime', 'nbc', 'agent']\n",
      "Topic 8:  ['netflix', 'marvel', 'crime', 'documentary', 'singh', 'disney', 'indian', 'murder', 'mcu', 'killer']\n",
      "Topic 9:  ['marvel', 'disney', 'batman', 'detective', 'dragon', 'bbc', 'vampire', 'mcu', 'abc', 'spider']\n"
     ]
    }
   ],
   "source": [
    "lsa_topics_out(tfidf_vectorizer, lsa)"
   ]
  },
  {
   "cell_type": "code",
   "execution_count": 29,
   "metadata": {},
   "outputs": [],
   "source": [
    "# Technique reference: (Mimi Dutta) https://www.analyticsvidhya.com/blog/2021/07/topic-modelling-with-lda-a-hands-on-introduction/\n",
    "\n",
    "def make_lsa_topic_pct_cols(lsa_results, df_to_append_to):\n",
    "    for j in tqdm(range(len(df_to_append_to))):\n",
    "        for i,topic in enumerate(lsa_results[j]):\n",
    "            df_to_append_to.loc[j, f\"lsa_topic{i}_cos_match\"] = topic\n",
    "    return"
   ]
  },
  {
   "cell_type": "code",
   "execution_count": 30,
   "metadata": {},
   "outputs": [
    {
     "name": "stderr",
     "output_type": "stream",
     "text": [
      "100%|██████████| 2484/2484 [00:01<00:00, 2083.86it/s]\n"
     ]
    }
   ],
   "source": [
    "make_lsa_topic_pct_cols(lsa_results, df)"
   ]
  },
  {
   "cell_type": "code",
   "execution_count": 31,
   "metadata": {},
   "outputs": [
    {
     "data": {
      "text/html": [
       "<div>\n",
       "<style scoped>\n",
       "    .dataframe tbody tr th:only-of-type {\n",
       "        vertical-align: middle;\n",
       "    }\n",
       "\n",
       "    .dataframe tbody tr th {\n",
       "        vertical-align: top;\n",
       "    }\n",
       "\n",
       "    .dataframe thead th {\n",
       "        text-align: right;\n",
       "    }\n",
       "</style>\n",
       "<table border=\"1\" class=\"dataframe\">\n",
       "  <thead>\n",
       "    <tr style=\"text-align: right;\">\n",
       "      <th></th>\n",
       "      <th>name</th>\n",
       "      <th>href</th>\n",
       "      <th>tokenized_text</th>\n",
       "      <th>lda_topic0_match_pct</th>\n",
       "      <th>lda_topic1_match_pct</th>\n",
       "      <th>lda_topic2_match_pct</th>\n",
       "      <th>lda_topic3_match_pct</th>\n",
       "      <th>lda_topic4_match_pct</th>\n",
       "      <th>lsa_topic0_cos_match</th>\n",
       "      <th>lsa_topic1_cos_match</th>\n",
       "      <th>lsa_topic2_cos_match</th>\n",
       "      <th>lsa_topic3_cos_match</th>\n",
       "      <th>lsa_topic4_cos_match</th>\n",
       "      <th>lsa_topic5_cos_match</th>\n",
       "      <th>lsa_topic6_cos_match</th>\n",
       "      <th>lsa_topic7_cos_match</th>\n",
       "      <th>lsa_topic8_cos_match</th>\n",
       "      <th>lsa_topic9_cos_match</th>\n",
       "    </tr>\n",
       "  </thead>\n",
       "  <tbody>\n",
       "    <tr>\n",
       "      <th>0</th>\n",
       "      <td>Game of Thrones</td>\n",
       "      <td>/title/tt0944947/</td>\n",
       "      <td>nine noble family fight control land westeros ...</td>\n",
       "      <td>0.965242</td>\n",
       "      <td>0.008690</td>\n",
       "      <td>0.008690</td>\n",
       "      <td>0.008690</td>\n",
       "      <td>0.008690</td>\n",
       "      <td>0.347465</td>\n",
       "      <td>-0.026348</td>\n",
       "      <td>-0.027834</td>\n",
       "      <td>0.047141</td>\n",
       "      <td>0.108406</td>\n",
       "      <td>-0.068647</td>\n",
       "      <td>-0.038896</td>\n",
       "      <td>-0.019839</td>\n",
       "      <td>0.015816</td>\n",
       "      <td>-0.000741</td>\n",
       "    </tr>\n",
       "    <tr>\n",
       "      <th>1</th>\n",
       "      <td>Prison Break</td>\n",
       "      <td>/title/tt0455275/</td>\n",
       "      <td>due political conspiracy innocent man send dea...</td>\n",
       "      <td>0.954077</td>\n",
       "      <td>0.011481</td>\n",
       "      <td>0.011481</td>\n",
       "      <td>0.011481</td>\n",
       "      <td>0.011481</td>\n",
       "      <td>0.275600</td>\n",
       "      <td>-0.063611</td>\n",
       "      <td>-0.018882</td>\n",
       "      <td>-0.034794</td>\n",
       "      <td>-0.037084</td>\n",
       "      <td>-0.009950</td>\n",
       "      <td>0.017834</td>\n",
       "      <td>0.078940</td>\n",
       "      <td>-0.046593</td>\n",
       "      <td>-0.043410</td>\n",
       "    </tr>\n",
       "    <tr>\n",
       "      <th>2</th>\n",
       "      <td>Vikings</td>\n",
       "      <td>/title/tt2306299/</td>\n",
       "      <td>vikings transport us brutal mysterious world r...</td>\n",
       "      <td>0.946007</td>\n",
       "      <td>0.013498</td>\n",
       "      <td>0.013498</td>\n",
       "      <td>0.013498</td>\n",
       "      <td>0.013498</td>\n",
       "      <td>0.186671</td>\n",
       "      <td>-0.034689</td>\n",
       "      <td>-0.016880</td>\n",
       "      <td>0.003262</td>\n",
       "      <td>0.066695</td>\n",
       "      <td>0.000323</td>\n",
       "      <td>-0.048242</td>\n",
       "      <td>-0.040307</td>\n",
       "      <td>0.003310</td>\n",
       "      <td>-0.000493</td>\n",
       "    </tr>\n",
       "    <tr>\n",
       "      <th>3</th>\n",
       "      <td>The Boys</td>\n",
       "      <td>/title/tt1190634/</td>\n",
       "      <td>group vigilante set take corrupt superheroes a...</td>\n",
       "      <td>0.962833</td>\n",
       "      <td>0.009292</td>\n",
       "      <td>0.009292</td>\n",
       "      <td>0.009292</td>\n",
       "      <td>0.009292</td>\n",
       "      <td>0.295748</td>\n",
       "      <td>-0.066046</td>\n",
       "      <td>-0.015771</td>\n",
       "      <td>0.019903</td>\n",
       "      <td>-0.008302</td>\n",
       "      <td>0.014673</td>\n",
       "      <td>-0.080466</td>\n",
       "      <td>0.024328</td>\n",
       "      <td>0.039867</td>\n",
       "      <td>-0.007650</td>\n",
       "    </tr>\n",
       "    <tr>\n",
       "      <th>4</th>\n",
       "      <td>The Mandalorian</td>\n",
       "      <td>/title/tt8111088/</td>\n",
       "      <td>travel lone bounty hunter outer reach galaxy f...</td>\n",
       "      <td>0.936987</td>\n",
       "      <td>0.015753</td>\n",
       "      <td>0.015753</td>\n",
       "      <td>0.015753</td>\n",
       "      <td>0.015753</td>\n",
       "      <td>0.152946</td>\n",
       "      <td>-0.010827</td>\n",
       "      <td>-0.011497</td>\n",
       "      <td>0.076112</td>\n",
       "      <td>0.033428</td>\n",
       "      <td>0.010131</td>\n",
       "      <td>-0.083739</td>\n",
       "      <td>0.041084</td>\n",
       "      <td>0.043047</td>\n",
       "      <td>0.027144</td>\n",
       "    </tr>\n",
       "  </tbody>\n",
       "</table>\n",
       "</div>"
      ],
      "text/plain": [
       "              name               href  \\\n",
       "0  Game of Thrones  /title/tt0944947/   \n",
       "1     Prison Break  /title/tt0455275/   \n",
       "2          Vikings  /title/tt2306299/   \n",
       "3         The Boys  /title/tt1190634/   \n",
       "4  The Mandalorian  /title/tt8111088/   \n",
       "\n",
       "                                      tokenized_text  lda_topic0_match_pct  \\\n",
       "0  nine noble family fight control land westeros ...              0.965242   \n",
       "1  due political conspiracy innocent man send dea...              0.954077   \n",
       "2  vikings transport us brutal mysterious world r...              0.946007   \n",
       "3  group vigilante set take corrupt superheroes a...              0.962833   \n",
       "4  travel lone bounty hunter outer reach galaxy f...              0.936987   \n",
       "\n",
       "   lda_topic1_match_pct  lda_topic2_match_pct  lda_topic3_match_pct  \\\n",
       "0              0.008690              0.008690              0.008690   \n",
       "1              0.011481              0.011481              0.011481   \n",
       "2              0.013498              0.013498              0.013498   \n",
       "3              0.009292              0.009292              0.009292   \n",
       "4              0.015753              0.015753              0.015753   \n",
       "\n",
       "   lda_topic4_match_pct  lsa_topic0_cos_match  lsa_topic1_cos_match  \\\n",
       "0              0.008690              0.347465             -0.026348   \n",
       "1              0.011481              0.275600             -0.063611   \n",
       "2              0.013498              0.186671             -0.034689   \n",
       "3              0.009292              0.295748             -0.066046   \n",
       "4              0.015753              0.152946             -0.010827   \n",
       "\n",
       "   lsa_topic2_cos_match  lsa_topic3_cos_match  lsa_topic4_cos_match  \\\n",
       "0             -0.027834              0.047141              0.108406   \n",
       "1             -0.018882             -0.034794             -0.037084   \n",
       "2             -0.016880              0.003262              0.066695   \n",
       "3             -0.015771              0.019903             -0.008302   \n",
       "4             -0.011497              0.076112              0.033428   \n",
       "\n",
       "   lsa_topic5_cos_match  lsa_topic6_cos_match  lsa_topic7_cos_match  \\\n",
       "0             -0.068647             -0.038896             -0.019839   \n",
       "1             -0.009950              0.017834              0.078940   \n",
       "2              0.000323             -0.048242             -0.040307   \n",
       "3              0.014673             -0.080466              0.024328   \n",
       "4              0.010131             -0.083739              0.041084   \n",
       "\n",
       "   lsa_topic8_cos_match  lsa_topic9_cos_match  \n",
       "0              0.015816             -0.000741  \n",
       "1             -0.046593             -0.043410  \n",
       "2              0.003310             -0.000493  \n",
       "3              0.039867             -0.007650  \n",
       "4              0.043047              0.027144  "
      ]
     },
     "execution_count": 31,
     "metadata": {},
     "output_type": "execute_result"
    }
   ],
   "source": [
    "df.head()"
   ]
  },
  {
   "cell_type": "code",
   "execution_count": 32,
   "metadata": {},
   "outputs": [
    {
     "data": {
      "text/plain": [
       "(2484, 18)"
      ]
     },
     "execution_count": 32,
     "metadata": {},
     "output_type": "execute_result"
    }
   ],
   "source": [
    "df.shape"
   ]
  },
  {
   "cell_type": "code",
   "execution_count": null,
   "metadata": {},
   "outputs": [],
   "source": []
  },
  {
   "attachments": {},
   "cell_type": "markdown",
   "metadata": {},
   "source": [
    "## Force LDA evaluate with different parameters"
   ]
  },
  {
   "attachments": {},
   "cell_type": "markdown",
   "metadata": {},
   "source": [
    "#### Generate same output items for forced alternate (20+ topic) model"
   ]
  },
  {
   "cell_type": "code",
   "execution_count": 33,
   "metadata": {},
   "outputs": [],
   "source": [
    "# Define Grid Search Parameters\n",
    "search_params2 = {'n_components': [20, 30],       # testing suggests it always picks 5 topics as \"best\"\n",
    "                    'learning_decay': [.5, .7, .9]}     # does not always return same \"best\" learning decay"
   ]
  },
  {
   "cell_type": "code",
   "execution_count": 34,
   "metadata": {},
   "outputs": [
    {
     "name": "stdout",
     "output_type": "stream",
     "text": [
      "Fitting 5 folds for each of 6 candidates, totalling 30 fits\n",
      "Best Model's Params:  {'learning_decay': 0.5, 'n_components': 20}\n",
      "Model Log Likelihood Score:  -91814.75083354759\n",
      "Model Perplexity:  92588.39203493182\n"
     ]
    },
    {
     "data": {
      "image/png": "[encoded data removed]",
      "text/plain": [
       "<Figure size 1200x800 with 1 Axes>"
      ]
     },
     "metadata": {},
     "output_type": "display_data"
    }
   ],
   "source": [
    "# tfidf_vectorizer, dtm_tfidf = make_tfidf(input_df, text_colname)\n",
    "model_gs2, best_lda_model2 = lda_gridsearch(dtm_tfidf, search_params2)\n",
    "lda_plot_performance(model_gs2, search_params2)"
   ]
  },
  {
   "cell_type": "code",
   "execution_count": 35,
   "metadata": {},
   "outputs": [
    {
     "name": "stderr",
     "output_type": "stream",
     "text": [
      "20it [00:00, 787.91it/s]\n"
     ]
    },
    {
     "data": {
      "text/html": [
       "<div>\n",
       "<style scoped>\n",
       "    .dataframe tbody tr th:only-of-type {\n",
       "        vertical-align: middle;\n",
       "    }\n",
       "\n",
       "    .dataframe tbody tr th {\n",
       "        vertical-align: top;\n",
       "    }\n",
       "\n",
       "    .dataframe thead th {\n",
       "        text-align: right;\n",
       "    }\n",
       "</style>\n",
       "<table border=\"1\" class=\"dataframe\">\n",
       "  <thead>\n",
       "    <tr style=\"text-align: right;\">\n",
       "      <th></th>\n",
       "      <th>Topic 1 words</th>\n",
       "      <th>Topic 1 weights</th>\n",
       "      <th>Topic 2 words</th>\n",
       "      <th>Topic 2 weights</th>\n",
       "      <th>Topic 3 words</th>\n",
       "      <th>Topic 3 weights</th>\n",
       "      <th>Topic 4 words</th>\n",
       "      <th>Topic 4 weights</th>\n",
       "      <th>Topic 5 words</th>\n",
       "      <th>Topic 5 weights</th>\n",
       "      <th>...</th>\n",
       "      <th>Topic 16 words</th>\n",
       "      <th>Topic 16 weights</th>\n",
       "      <th>Topic 17 words</th>\n",
       "      <th>Topic 17 weights</th>\n",
       "      <th>Topic 18 words</th>\n",
       "      <th>Topic 18 weights</th>\n",
       "      <th>Topic 19 words</th>\n",
       "      <th>Topic 19 weights</th>\n",
       "      <th>Topic 20 words</th>\n",
       "      <th>Topic 20 weights</th>\n",
       "    </tr>\n",
       "  </thead>\n",
       "  <tbody>\n",
       "    <tr>\n",
       "      <th>0</th>\n",
       "      <td>angela</td>\n",
       "      <td>5.1</td>\n",
       "      <td>sonic</td>\n",
       "      <td>2.5</td>\n",
       "      <td>trek</td>\n",
       "      <td>5.9</td>\n",
       "      <td>choi</td>\n",
       "      <td>5.1</td>\n",
       "      <td>kim</td>\n",
       "      <td>7.8</td>\n",
       "      <td>...</td>\n",
       "      <td>chappelle</td>\n",
       "      <td>0.9</td>\n",
       "      <td>moonlight</td>\n",
       "      <td>1.0</td>\n",
       "      <td>morse</td>\n",
       "      <td>1.6</td>\n",
       "      <td>ghoul</td>\n",
       "      <td>3.1</td>\n",
       "      <td>nikita</td>\n",
       "      <td>1.6</td>\n",
       "    </tr>\n",
       "    <tr>\n",
       "      <th>1</th>\n",
       "      <td>gabriel</td>\n",
       "      <td>4.7</td>\n",
       "      <td>maniac</td>\n",
       "      <td>1.0</td>\n",
       "      <td>hirano</td>\n",
       "      <td>1.5</td>\n",
       "      <td>nominated</td>\n",
       "      <td>4.5</td>\n",
       "      <td>jung</td>\n",
       "      <td>6.2</td>\n",
       "      <td>...</td>\n",
       "      <td>flux</td>\n",
       "      <td>0.8</td>\n",
       "      <td>flames</td>\n",
       "      <td>0.9</td>\n",
       "      <td>xena</td>\n",
       "      <td>0.9</td>\n",
       "      <td>arcadia</td>\n",
       "      <td>1.9</td>\n",
       "      <td>daria</td>\n",
       "      <td>1.0</td>\n",
       "    </tr>\n",
       "    <tr>\n",
       "      <th>2</th>\n",
       "      <td>maddie</td>\n",
       "      <td>4.6</td>\n",
       "      <td>cosby</td>\n",
       "      <td>0.9</td>\n",
       "      <td>enterprise</td>\n",
       "      <td>1.5</td>\n",
       "      <td>eun</td>\n",
       "      <td>4.2</td>\n",
       "      <td>soo</td>\n",
       "      <td>5.9</td>\n",
       "      <td>...</td>\n",
       "      <td>drafts</td>\n",
       "      <td>0.1</td>\n",
       "      <td>outpost</td>\n",
       "      <td>0.7</td>\n",
       "      <td>sesame</td>\n",
       "      <td>0.8</td>\n",
       "      <td>spartacus</td>\n",
       "      <td>1.3</td>\n",
       "      <td>kaori</td>\n",
       "      <td>0.9</td>\n",
       "    </tr>\n",
       "    <tr>\n",
       "      <th>3</th>\n",
       "      <td>paranormal</td>\n",
       "      <td>4.3</td>\n",
       "      <td>claudius</td>\n",
       "      <td>0.8</td>\n",
       "      <td>roddenberry</td>\n",
       "      <td>1.3</td>\n",
       "      <td>ceo</td>\n",
       "      <td>4.0</td>\n",
       "      <td>korean</td>\n",
       "      <td>5.8</td>\n",
       "      <td>...</td>\n",
       "      <td>avant</td>\n",
       "      <td>0.1</td>\n",
       "      <td>dame</td>\n",
       "      <td>0.6</td>\n",
       "      <td>steed</td>\n",
       "      <td>0.7</td>\n",
       "      <td>gladiator</td>\n",
       "      <td>1.0</td>\n",
       "      <td>yamashita</td>\n",
       "      <td>0.1</td>\n",
       "    </tr>\n",
       "    <tr>\n",
       "      <th>4</th>\n",
       "      <td>maya</td>\n",
       "      <td>4.3</td>\n",
       "      <td>frasier</td>\n",
       "      <td>0.8</td>\n",
       "      <td>picard</td>\n",
       "      <td>1.3</td>\n",
       "      <td>gus</td>\n",
       "      <td>3.9</td>\n",
       "      <td>jin</td>\n",
       "      <td>5.2</td>\n",
       "      <td>...</td>\n",
       "      <td>mart</td>\n",
       "      <td>0.1</td>\n",
       "      <td>monopoly</td>\n",
       "      <td>0.5</td>\n",
       "      <td>avengers</td>\n",
       "      <td>0.4</td>\n",
       "      <td>korra</td>\n",
       "      <td>0.9</td>\n",
       "      <td>monotone</td>\n",
       "      <td>0.1</td>\n",
       "    </tr>\n",
       "  </tbody>\n",
       "</table>\n",
       "<p>5 rows × 40 columns</p>\n",
       "</div>"
      ],
      "text/plain": [
       "  Topic 1 words Topic 1 weights Topic 2 words Topic 2 weights Topic 3 words  \\\n",
       "0        angela             5.1         sonic             2.5          trek   \n",
       "1       gabriel             4.7        maniac             1.0        hirano   \n",
       "2        maddie             4.6         cosby             0.9    enterprise   \n",
       "3    paranormal             4.3      claudius             0.8   roddenberry   \n",
       "4          maya             4.3       frasier             0.8        picard   \n",
       "\n",
       "  Topic 3 weights Topic 4 words Topic 4 weights Topic 5 words Topic 5 weights  \\\n",
       "0             5.9          choi             5.1           kim             7.8   \n",
       "1             1.5     nominated             4.5          jung             6.2   \n",
       "2             1.5           eun             4.2           soo             5.9   \n",
       "3             1.3           ceo             4.0        korean             5.8   \n",
       "4             1.3           gus             3.9           jin             5.2   \n",
       "\n",
       "   ... Topic 16 words Topic 16 weights Topic 17 words Topic 17 weights  \\\n",
       "0  ...      chappelle              0.9      moonlight              1.0   \n",
       "1  ...           flux              0.8         flames              0.9   \n",
       "2  ...         drafts              0.1        outpost              0.7   \n",
       "3  ...          avant              0.1           dame              0.6   \n",
       "4  ...           mart              0.1       monopoly              0.5   \n",
       "\n",
       "  Topic 18 words Topic 18 weights Topic 19 words Topic 19 weights  \\\n",
       "0          morse              1.6          ghoul              3.1   \n",
       "1           xena              0.9        arcadia              1.9   \n",
       "2         sesame              0.8      spartacus              1.3   \n",
       "3          steed              0.7      gladiator              1.0   \n",
       "4       avengers              0.4          korra              0.9   \n",
       "\n",
       "  Topic 20 words Topic 20 weights  \n",
       "0         nikita              1.6  \n",
       "1          daria              1.0  \n",
       "2          kaori              0.9  \n",
       "3      yamashita              0.1  \n",
       "4       monotone              0.1  \n",
       "\n",
       "[5 rows x 40 columns]"
      ]
     },
     "execution_count": 35,
     "metadata": {},
     "output_type": "execute_result"
    }
   ],
   "source": [
    "lda_topic_words2 = display_topics(best_lda_model2, tfidf_vectorizer.get_feature_names_out(), n_top_words = 30) \n",
    "lda_topic_words2.head()"
   ]
  },
  {
   "cell_type": "code",
   "execution_count": 36,
   "metadata": {},
   "outputs": [
    {
     "name": "stderr",
     "output_type": "stream",
     "text": [
      "d:\\anaconda3\\lib\\site-packages\\pyLDAvis\\_prepare.py:243: FutureWarning: In a future version of pandas all arguments of DataFrame.drop except for the argument 'labels' will be keyword-only.\n",
      "  default_term_info = default_term_info.sort_values(\n"
     ]
    },
    {
     "data": {
      "text/html": [
       "\n",
       "<link rel=\"stylesheet\" type=\"text/css\" href=\"https://cdn.jsdelivr.net/gh/bmabey/pyLDAvis@3.4.0/pyLDAvis/js/ldavis.v1.0.0.css\">\n",
       "\n",
       "\n",
       "<div id=\"ldavis_el3756812841007931684314933789\" style=\"background-color:white;\"></div>\n",
       "<script type=\"text/javascript\">\n",
       "\n",
       "var ldavis_el3756812841007931684314933789_data = {\"mdsDat\": {\"x\": [-0.284665732530622, 0.18039575108243405, 0.0566738952281634, 0.05665526196098324, 0.0018480274443207372, -0.00015469555022684295, -0.0006358325465506511, -0.0006506137221903302, -0.0006148192540783393, -0.000649610917980867, -0.0004570157993757784, -0.000575753475275538, -0.0007173284316168075, -0.0008354799731852502, -0.0008996150040392786, -0.0009095074851141047, -0.000944434005258466, -0.0009022354650377189, -0.0009681845458594324, -0.0009920770094897673], \"y\": [0.08569764931583797, 0.22653984283943018, -0.14850315551157428, -0.14204224609759505, -0.00873033750988368, -0.0015662364856583793, -0.0018507784762527102, -0.001492786507703278, -0.0011927408985023423, -0.0012195761649080035, -0.0008762691471581518, -0.0009432525122253833, -0.0007332779776926062, -0.0007436544204214781, -0.00040192448183955107, -0.0005254276110852042, -0.0003994960041799635, -0.0004223022881689897, -0.00033337288152681635, -0.00026065717889145966], \"topics\": [1, 2, 3, 4, 5, 6, 7, 8, 9, 10, 11, 12, 13, 14, 15, 16, 17, 18, 19, 20], \"cluster\": [1, 1, 1, 1, 1, 1, 1, 1, 1, 1, 1, 1, 1, 1, 1, 1, 1, 1, 1, 1], \"Freq\": [62.52960452717797, 20.43071093501834, 5.03464816997676, 4.974636292302833, 0.8841377551544954, 0.4544142928913708, 0.438642411535525, 0.4364834965687847, 0.422669770991185, 0.4134697096682207, 0.4108233039782748, 0.40854360449190646, 0.4002989047944485, 0.39927863758003335, 0.396940450107537, 0.3969357330266218, 0.393932194564783, 0.39344795760911844, 0.391592361882237, 0.38878949067953356]}, \"tinfo\": {\"Term\": [\"lee\", \"kim\", \"park\", \"anime\", \"hbo\", \"fox\", \"manga\", \"game\", \"novel\", \"voiced\", \"team\", \"korean\", \"bbc\", \"japanese\", \"animation\", \"music\", \"man\", \"channel\", \"video\", \"dvd\", \"school\", \"alex\", \"version\", \"voice\", \"theme\", \"song\", \"special\", \"english\", \"disney\", \"house\", \"anime\", \"manga\", \"game\", \"novel\", \"voiced\", \"team\", \"japanese\", \"animation\", \"music\", \"channel\", \"video\", \"dvd\", \"version\", \"voice\", \"theme\", \"song\", \"special\", \"bbc\", \"english\", \"disney\", \"house\", \"volume\", \"action\", \"man\", \"brother\", \"actor\", \"british\", \"comic\", \"kill\", \"child\", \"school\", \"million\", \"king\", \"death\", \"netflix\", \"comedy\", \"book\", \"war\", \"seasons\", \"pilot\", \"detective\", \"crime\", \"hbo\", \"alex\", \"marvel\", \"vampire\", \"jane\", \"supernatural\", \"kate\", \"anthology\", \"harry\", \"emma\", \"medical\", \"luke\", \"cia\", \"johnny\", \"jennifer\", \"hotel\", \"jake\", \"sheriff\", \"twin\", \"hope\", \"alice\", \"greg\", \"kyle\", \"davis\", \"syfy\", \"parker\", \"hannah\", \"revival\", \"rebecca\", \"producers\", \"fox\", \"hospital\", \"los\", \"government\", \"sam\", \"angeles\", \"showrunner\", \"charlie\", \"metacritic\", \"jason\", \"weighted\", \"daniel\", \"consensus\", \"tomatoes\", \"recur\", \"critics\", \"approval\", \"rotten\", \"angela\", \"gabriel\", \"maddie\", \"paranormal\", \"maya\", \"beverly\", \"cassie\", \"nypd\", \"flynn\", \"twilight\", \"cartel\", \"forensic\", \"queer\", \"titans\", \"henson\", \"woody\", \"bonnie\", \"tess\", \"lynch\", \"gina\", \"ripper\", \"barnes\", \"conan\", \"brooklyn\", \"cody\", \"teddy\", \"mae\", \"bravo\", \"byrne\", \"outer\", \"elena\", \"fuller\", \"crimes\", \"lapd\", \"solid\", \"cameron\", \"spider\", \"ward\", \"choi\", \"nominated\", \"eun\", \"gus\", \"dexter\", \"stargate\", \"ceo\", \"data\", \"dracula\", \"rush\", \"nuclear\", \"lena\", \"dong\", \"galaxy\", \"cage\", \"cha\", \"hudson\", \"angels\", \"eliza\", \"vega\", \"billie\", \"mehta\", \"atlantis\", \"oregon\", \"sutherland\", \"whedon\", \"gotham\", \"baltimore\", \"zoey\", \"continuation\", \"barbera\", \"grim\", \"peterson\", \"hanna\", \"rhys\", \"foreign\", \"hyun\", \"joon\", \"hee\", \"mcu\", \"seo\", \"yoon\", \"joo\", \"yeon\", \"soo\", \"kyung\", \"jung\", \"jang\", \"tae\", \"yoo\", \"hye\", \"jae\", \"seung\", \"hae\", \"webtoon\", \"sang\", \"woo\", \"min\", \"seok\", \"hoon\", \"bae\", \"nam\", \"hancinema\", \"pyo\", \"transformers\", \"feige\", \"jeong\", \"jin\", \"korean\", \"kang\", \"kim\", \"avengers\", \"korea\", \"lee\", \"park\", \"hirano\", \"roddenberry\", \"picard\", \"straczynski\", \"voyager\", \"starfleet\", \"trek\", \"frakes\", \"spock\", \"torchwood\", \"murdoch\", \"klingon\", \"ewing\", \"tsubasa\", \"ghosh\", \"enterprise\", \"hajime\", \"chiang\", \"starship\", \"kurtzman\", \"riker\", \"ensign\", \"federation\", \"wookieepedia\", \"perrin\", \"zreik\", \"cours\", \"resultant\", \"fisk\", \"drafts\", \"flames\", \"mcu\", \"madrid\", \"yeon\", \"bae\", \"ghouls\", \"maeda\", \"shaggy\", \"madrid\", \"jackass\", \"crews\", \"scooby\", \"otsuka\", \"doo\", \"alf\", \"gon\", \"kimmy\", \"hailey\", \"reiss\", \"koichi\", \"faceless\", \"weaving\", \"pup\", \"unbreakable\", \"barbera\", \"mei\", \"laff\", \"moreau\", \"wookieepedia\", \"zreik\", \"cours\", \"curious\", \"ghosh\", \"resultant\", \"fisk\", \"riker\", \"hanna\", \"perpetrator\", \"yogi\", \"medina\", \"angels\", \"messick\", \"turtles\", \"jedi\", \"jtbc\", \"kgb\", \"reactor\", \"sith\", \"skywalker\", \"mina\", \"perrin\", \"darth\", \"moreau\", \"obi\", \"droid\", \"birdman\", \"pharmacist\", \"wookieepedia\", \"fugitives\", \"restaurateur\", \"jinn\", \"splinter\", \"southeastern\", \"bachelor\", \"mace\", \"pill\", \"poisoning\", \"zreik\", \"cours\", \"ghosh\", \"resultant\", \"fisk\", \"wan\", \"jed\", \"maul\", \"chiang\", \"lanter\", \"ghoul\", \"arcadia\", \"poisoning\", \"yamashita\", \"gladiator\", \"spartacus\", \"terrace\", \"korra\", \"dunk\", \"ghouls\", \"lindy\", \"hawley\", \"slam\", \"whim\", \"lawless\", \"wookieepedia\", \"reiss\", \"zreik\", \"cours\", \"ghosh\", \"resultant\", \"fisk\", \"riker\", \"drafts\", \"epitomize\", \"perrin\", \"moonves\", \"tidy\", \"varying\", \"jumped\", \"kimetsu\", \"weller\", \"hyun\", \"manu\", \"jinn\", \"blowing\", \"paralyze\", \"yutaka\", \"sosenkyo\", \"frequents\", \"kazuhiro\", \"gianni\", \"animelab\", \"sonic\", \"maniac\", \"claudius\", \"challenger\", \"smiley\", \"cosby\", \"serpent\", \"frasier\", \"alchemy\", \"tails\", \"shuttle\", \"significance\", \"cours\", \"festa\", \"engineers\", \"wookieepedia\", \"zreik\", \"ghosh\", \"resultant\", \"otsuka\", \"fisk\", \"riker\", \"drafts\", \"epitomize\", \"perrin\", \"moonves\", \"tidy\", \"varying\", \"jumped\", \"rhythmic\", \"klingon\", \"honya\", \"heartbreak\", \"heiress\", \"disorders\", \"peel\", \"whatsoever\", \"manic\", \"hampshire\", \"conan\", \"hysterical\", \"walrus\", \"solid\", \"rashad\", \"onofrio\", \"sherlock\", \"fisk\", \"kazuya\", \"afro\", \"pension\", \"happiness\", \"melancholic\", \"sana\", \"murdock\", \"holmes\", \"flanders\", \"shocking\", \"wookieepedia\", \"daredevil\", \"zreik\", \"cours\", \"ghosh\", \"resultant\", \"riker\", \"drafts\", \"epitomize\", \"perrin\", \"moonves\", \"tidy\", \"varying\", \"jumped\", \"rhythmic\", \"klingon\", \"admitted\", \"terrible\", \"quesada\", \"cumberbatch\", \"mcu\", \"jeph\", \"correlate\", \"feige\", \"defenders\", \"utility\", \"maki\", \"expenses\", \"contents\", \"asylum\", \"literature\", \"lousy\", \"gianni\", \"tapes\", \"conversations\", \"glitch\", \"conman\", \"steele\", \"ruined\", \"masquerade\", \"unbelievable\", \"deft\", \"multitude\", \"incomplete\", \"unforgettable\", \"wookieepedia\", \"zreik\", \"cours\", \"ghosh\", \"resultant\", \"fisk\", \"riker\", \"drafts\", \"epitomize\", \"perrin\", \"moonves\", \"tidy\", \"varying\", \"jumped\", \"rhythmic\", \"klingon\", \"admitted\", \"thread\", \"seventeen\", \"installment\", \"confess\", \"astronomy\", \"tin\", \"backward\", \"bundy\", \"weaving\", \"imposter\", \"kutcher\", \"fondly\", \"greet\", \"massively\", \"metv\", \"signed\", \"chips\", \"flames\", \"outpost\", \"dame\", \"moonlight\", \"monopoly\", \"idols\", \"undone\", \"franchises\", \"scam\", \"perpetrate\", \"hoax\", \"wookieepedia\", \"zreik\", \"cours\", \"ghosh\", \"resultant\", \"fisk\", \"riker\", \"drafts\", \"epitomize\", \"perrin\", \"moonves\", \"tidy\", \"varying\", \"jumped\", \"rhythmic\", \"klingon\", \"admitted\", \"quotes\", \"bees\", \"tip\", \"exist\", \"undiscovered\", \"ariana\", \"plastic\", \"paranormal\", \"reflected\", \"laser\", \"grande\", \"interspecies\", \"levinson\", \"shipwreck\", \"stevie\", \"pole\", \"artfully\", \"kansas\", \"xena\", \"literature\", \"nfl\", \"xena\", \"morse\", \"steed\", \"sesame\", \"avengers\", \"wookieepedia\", \"zreik\", \"cours\", \"ghosh\", \"resultant\", \"fisk\", \"riker\", \"drafts\", \"epitomize\", \"perrin\", \"moonves\", \"tidy\", \"varying\", \"jumped\", \"rhythmic\", \"klingon\", \"admitted\", \"quotes\", \"bees\", \"detrimental\", \"redo\", \"daum\", \"enduring\", \"expenses\", \"capitan\", \"disadvantage\", \"gown\", \"outreach\", \"realising\", \"cupid\", \"responds\", \"thaw\", \"procure\", \"formulate\", \"agreements\", \"faked\", \"medal\", \"endeavour\", \"payroll\", \"modeling\", \"mortuary\", \"rican\", \"loom\", \"revolver\", \"diabetes\", \"concussion\", \"institutional\", \"veiled\", \"reused\", \"objectives\", \"bleach\", \"sneaky\", \"kimetsu\", \"cours\", \"yaiba\", \"cellmate\", \"festa\", \"tatsuya\", \"wookieepedia\", \"zreik\", \"ghosh\", \"resultant\", \"fisk\", \"riker\", \"drafts\", \"epitomize\", \"perrin\", \"moonves\", \"tidy\", \"varying\", \"jumped\", \"rhythmic\", \"klingon\", \"admitted\", \"quotes\", \"bees\", \"detrimental\", \"redo\", \"daum\", \"enduring\", \"hirano\", \"hen\", \"winged\", \"unabashedly\", \"rapport\", \"flowing\", \"martindale\", \"forcefully\", \"sleight\", \"livestream\", \"reunites\", \"understated\", \"noh\", \"margin\", \"npd\", \"simplicity\", \"fanbook\", \"deliciously\", \"novelization\", \"mcgregor\", \"gaiden\", \"kaori\", \"nikita\", \"daria\", \"yamashita\", \"wookieepedia\", \"zreik\", \"cours\", \"ghosh\", \"resultant\", \"fisk\", \"riker\", \"drafts\", \"epitomize\", \"perrin\", \"moonves\", \"tidy\", \"varying\", \"jumped\", \"rhythmic\", \"klingon\", \"admitted\", \"quotes\", \"bees\", \"detrimental\", \"redo\", \"daum\", \"enduring\", \"expenses\", \"capitan\", \"hospitalized\", \"monotone\", \"mechanics\", \"identifiable\", \"admires\", \"pretentious\", \"jaded\", \"sarcasm\", \"employers\", \"sealed\", \"cartoonish\", \"loaded\", \"bernstein\", \"confidante\", \"coldly\", \"relevance\", \"highland\", \"concerts\", \"gives\", \"interrogator\", \"culminating\", \"steer\", \"fetched\", \"staton\", \"inferno\", \"mug\", \"jinn\", \"banshee\", \"zucker\", \"martel\", \"wookieepedia\", \"zreik\", \"cours\", \"ghosh\", \"resultant\", \"fisk\", \"riker\", \"drafts\", \"epitomize\", \"perrin\", \"moonves\", \"tidy\", \"varying\", \"jumped\", \"rhythmic\", \"klingon\", \"admitted\", \"quotes\", \"bees\", \"detrimental\", \"redo\", \"daum\", \"enduring\", \"expenses\", \"capitan\", \"hospitalized\", \"wordplay\", \"tragically\", \"bloopers\", \"incoming\", \"universally\", \"loot\", \"imposing\", \"uncovered\", \"assumed\", \"shatner\", \"trapping\", \"gunfire\", \"hoon\", \"impostor\", \"faison\", \"assert\", \"loom\", \"successes\", \"undertaker\", \"cloth\", \"incentives\", \"fried\", \"mir\", \"waterfront\", \"georg\", \"coy\", \"monkeys\", \"cheerleading\", \"bundy\", \"cheer\", \"wookieepedia\", \"zreik\", \"cours\", \"ghosh\", \"resultant\", \"fisk\", \"riker\", \"drafts\", \"epitomize\", \"perrin\", \"moonves\", \"tidy\", \"varying\", \"jumped\", \"rhythmic\", \"klingon\", \"admitted\", \"quotes\", \"bees\", \"detrimental\", \"redo\", \"daum\", \"enduring\", \"expenses\", \"capitan\", \"hospitalized\", \"leach\", \"weaving\", \"sociopath\", \"laced\", \"vile\", \"zoller\", \"seitz\", \"reports\", \"cheerlead\", \"stalking\", \"boisterous\", \"deliberation\", \"booster\", \"mat\", \"cards\", \"abduction\", \"brands\", \"texan\", \"sideline\", \"fundraising\", \"nationally\", \"balancing\", \"conceit\", \"teammates\", \"inspirational\", \"perfection\", \"chappelle\", \"flux\", \"wookieepedia\", \"zreik\", \"cours\", \"ghosh\", \"resultant\", \"fisk\", \"riker\", \"drafts\", \"epitomize\", \"perrin\", \"moonves\", \"tidy\", \"varying\", \"jumped\", \"rhythmic\", \"klingon\", \"admitted\", \"quotes\", \"bees\", \"detrimental\", \"redo\", \"daum\", \"enduring\", \"expenses\", \"capitan\", \"hospitalized\", \"messaging\", \"loaded\", \"avant\", \"mart\", \"visibility\", \"acknowledged\", \"futile\", \"osbourne\", \"garde\", \"terrace\", \"modeling\", \"libbed\", \"cellmate\", \"inanimate\", \"snippet\", \"ads\", \"armour\", \"arsenio\", \"scientifically\", \"symbolism\", \"flop\", \"recess\", \"wayward\", \"vocabulary\", \"aborted\", \"ethnicity\", \"shouting\", \"bitch\", \"sociopath\", \"laverne\", \"wookieepedia\", \"zreik\", \"cours\", \"ghosh\", \"resultant\", \"fisk\", \"riker\", \"drafts\", \"epitomize\", \"perrin\", \"moonves\", \"tidy\", \"varying\", \"jumped\", \"rhythmic\", \"klingon\", \"admitted\", \"quotes\", \"bees\", \"detrimental\", \"redo\", \"daum\", \"enduring\", \"expenses\", \"capitan\", \"hospitalized\", \"messaging\", \"loaded\", \"agreements\", \"chant\", \"pester\", \"jazzy\", \"envious\", \"ram\", \"meek\", \"bills\", \"fabian\", \"mork\", \"desirable\", \"mckean\", \"fictitious\", \"edna\", \"sonny\", \"apartments\", \"puzzles\", \"graduating\", \"garry\", \"jigsaw\", \"sweater\", \"recite\", \"perky\", \"necessitate\", \"carmine\", \"eisner\", \"substitution\", \"gloves\", \"barbecue\", \"landlady\"], \"Freq\": [10.0, 8.0, 10.0, 41.0, 14.0, 15.0, 31.0, 25.0, 25.0, 25.0, 24.0, 4.0, 26.0, 22.0, 22.0, 21.0, 23.0, 21.0, 21.0, 20.0, 27.0, 11.0, 20.0, 19.0, 19.0, 19.0, 19.0, 18.0, 18.0, 18.0, 41.446098084560454, 31.402540886526157, 25.64394179741178, 24.87726040850259, 24.839955233843632, 24.38626868658146, 22.74100778502986, 22.410190908686936, 21.767561838049318, 21.192450633366935, 21.1071219533096, 20.747938388454518, 19.99181119879457, 19.609893557049613, 19.592283665627658, 19.590183502534614, 19.524018572934267, 26.599828924613067, 18.775179728179825, 18.606951129242333, 18.24367431202012, 17.965901171253282, 17.95197079849322, 23.40217748616713, 17.73736619118368, 18.204324171776324, 17.117225242887994, 16.038907123474743, 19.03003334455575, 15.712326976181918, 26.893318525572788, 21.806184874049464, 17.848796523011448, 19.075669251235894, 34.42120420062962, 28.932282178230007, 21.289654971007458, 19.53015909916484, 26.071393192023237, 21.445724217663205, 20.37989035513659, 20.13526087789727, 14.689890280869074, 11.307483506231957, 9.8066888189088, 9.777877428001611, 9.297965542101297, 8.896367559841917, 7.736823920478015, 7.448382822295477, 7.338313876765462, 7.320417088144441, 7.086101471213694, 6.740175341342224, 6.66496577616719, 6.510951917687539, 6.347088370581433, 6.229042601859957, 6.211229575436811, 6.07083634603436, 6.00850646240153, 5.963908978092371, 5.892629087423622, 5.8263455754910085, 5.812185439286403, 5.608371012919824, 5.577909190497607, 5.516680187982514, 5.509011892043601, 5.499714613593065, 5.4842696935179545, 5.452147931479294, 14.259634860754131, 8.344532994987235, 9.720045907934928, 6.404685441060203, 9.557608593957603, 8.745407670379704, 6.634685397433471, 7.765327336755123, 8.155123381117988, 6.734701889406365, 6.681373085107901, 6.802518377504185, 7.519655871190406, 7.4793627382278185, 7.325401336603491, 7.308808976659315, 6.8911581305528, 6.888822440673596, 3.2229982104934325, 2.9968024478725037, 2.9398369373541726, 2.762106068758478, 2.733435742670831, 2.6725827221328626, 2.599363394694825, 2.5707176590445737, 2.4036064181471923, 2.319981606258395, 2.314802842790019, 2.2793807657684413, 2.1811754762434434, 2.1408414313255544, 2.1392417490062954, 2.0963888729027285, 2.0895138961887643, 2.0480110185500364, 2.0337779596045547, 2.0221778478353274, 2.0129659564990265, 1.9735066480550865, 1.9484453684337373, 1.9437011666434545, 1.9333946676753118, 1.8922277684918303, 1.888179535714579, 1.8715489989857128, 1.8454676583297842, 1.7984413570014328, 1.90861321020744, 2.003925746339613, 2.2553125628993356, 2.2021051243386056, 1.9163654142760052, 2.2797949143348406, 1.9536300871530672, 1.9852747001174076, 3.192358246182887, 2.852385024505269, 2.6858609952463866, 2.462197612392642, 2.4138080134506557, 2.306041022689095, 2.53973829034947, 2.043005185039268, 2.015514966040157, 1.8871414991175532, 1.8666600177668333, 1.8659909313584049, 1.7921833971191732, 1.7869767474755005, 1.7744390807809807, 1.7425030189411932, 1.7388118457344195, 1.7102045444935692, 1.6569547920714776, 1.6529024980732694, 1.6262634125118332, 1.6147831794797216, 1.6045546672237903, 1.598375757374704, 1.5839056607951505, 1.554108086527551, 1.5497078080767077, 1.545879401862986, 1.5367865623136185, 1.5274630653196541, 1.7750265547565156, 1.5911982998779006, 1.7006525837584718, 2.011859176545718, 1.6461967808402997, 1.6142326209143858, 1.1971876856818655, 1.0981924729449282, 1.3183195719894547, 1.030942150648596, 1.01567567722622, 1.2323160782765383, 0.8042426600027593, 0.8460057279381684, 1.52044187886423, 0.7552116598903594, 1.602231066404469, 0.6363222512424493, 0.8481347578201559, 0.9762319078279371, 0.5972920131156539, 0.9668573564002285, 0.5411397032421527, 0.5078687243767742, 0.5048713691887678, 0.7110133978361701, 0.9637336765966592, 1.3058174543183958, 0.3642832007628862, 0.5043744996183682, 0.3625146375188203, 0.4183391028220536, 0.3012989842374082, 0.29512356041406285, 0.587670147333987, 0.29145189843674607, 0.5552763107669596, 1.3289257664641032, 1.488669411776539, 0.8244948382057834, 2.020821126825202, 0.5436080730774979, 0.7029280968354487, 1.1149813818651018, 0.6006017435973868, 0.23736347975828093, 0.2051270056126434, 0.19869590033221554, 0.18258947276527793, 0.18208597817899355, 0.1383687431079396, 0.9015371390043959, 0.10813706331754741, 0.1077709867225895, 0.1413681320761419, 0.1383843852330109, 0.07468082327614095, 0.16915824576174018, 0.13991874861805403, 0.0674108320300763, 0.23141355017500287, 0.1035832469110196, 0.07788477970714154, 0.0841745196251232, 0.12180555968983448, 0.030799868632922965, 0.026498921941183914, 0.026585150177855617, 0.00768947009401724, 0.008482184732051817, 0.007689470094413024, 0.007689470096365948, 0.0076894700940161615, 0.00768947009450107, 0.00768947009403146, 0.007745898261108874, 0.007717121374198423, 0.007691128001588709, 0.007689826252763012, 0.0076894996813970115, 0.007689491182194463, 0.22533636055699197, 0.1590207872746779, 0.14853061779807059, 0.19971933337751835, 0.3225034541048297, 0.4992080993319248, 0.08859809916250762, 0.398326139200488, 0.1461272155796035, 0.10831001558610824, 0.12282625924686975, 0.09954840740491132, 0.053676576469420485, 0.046034640645075744, 0.04717597253892845, 0.062243004782769576, 0.034939591810663945, 0.03290198808769037, 0.062249501412930314, 0.02504216429939395, 0.01229044841127494, 0.009214835078325913, 0.007458491533272662, 0.007458491533657354, 0.007593251360883746, 0.021648229989261372, 0.007458491533553035, 0.00745852422555124, 0.007458491533742933, 0.0074584915332716805, 0.029098417782230424, 0.011316546900538618, 0.010009402451059971, 0.010570623817300746, 0.01097142007698282, 0.007735081415866333, 0.47181543198607334, 0.33904855957244284, 0.18197750733270113, 0.1372299403130764, 0.1250171178438976, 0.1248283044721835, 0.13053974515969333, 0.10638115765327227, 0.08879501363515023, 0.09752683369454482, 0.08643866627059167, 0.11839700835561603, 0.08674065603860785, 0.1068320394473028, 0.10790159706209439, 0.03988765062263576, 0.058428378619078424, 0.05731386750203128, 0.03098257595093456, 0.055263442142793724, 0.025263775061261238, 0.10157053045213592, 0.025555276337730717, 0.03381997330036786, 0.010533053191603576, 0.007432095525675289, 0.007432095500783287, 0.007432095498784368, 0.007432095498503453, 0.007432095498973924, 0.02714908592621835, 0.021217187781601258, 0.010949460972281546, 0.00802604624505684, 0.00803558280059742, 0.44842014438535743, 0.2763330158904804, 0.11808984986928273, 0.10211616269440044, 0.14462540621789102, 0.18765486945147014, 0.11791484992307506, 0.12384592178577748, 0.09230708048586611, 0.06433685296446277, 0.08871949894536227, 0.09771918223104498, 0.08141525202253333, 0.019696830679805488, 0.0300435325956988, 0.007233953618404141, 0.012239972978473549, 0.0072395913477799395, 0.007233954598487648, 0.007233953662299007, 0.007233953618403116, 0.00723395361886343, 0.007233953618403182, 0.007233953618403316, 0.007233953618402978, 0.007233953618845057, 0.007233953618403104, 0.007233953618403016, 0.007233953618402981, 0.007233953618402951, 0.007782561376714229, 0.007446548412413764, 0.007238615043744014, 0.007236874333538697, 0.007234538368678116, 0.007234469814909286, 0.007234107542951573, 0.007234031220789274, 0.007234007693702984, 0.0072340014908518395, 0.007233987335019486, 0.007233984601648847, 0.007233981362073598, 0.35642230568520533, 0.1415220150786925, 0.11829343574280564, 0.10631333623175639, 0.0847649898349019, 0.12790767358430685, 0.08806636930243283, 0.10733195556593562, 0.07376373406627473, 0.05202174566072399, 0.06247971540041081, 0.03903313768749182, 0.015809458144289905, 0.025558953041338744, 0.01554959963368583, 0.007108417918899768, 0.007108417919271224, 0.007108417919170495, 0.007108417918898756, 0.007583116161633525, 0.007108417919353859, 0.0071084179188988204, 0.007108417918898952, 0.007108417918898619, 0.007108418045876113, 0.007108417918898742, 0.0071084179188986565, 0.007108417918898621, 0.0071084179188985915, 0.007108417918898622, 0.007109324856554238, 0.007110216833848217, 0.007108699396035993, 0.007108603770766344, 0.007108493352885197, 0.007108441935911767, 0.007108438984756873, 0.007108434439265062, 0.007108428096538243, 0.007108424206956217, 0.00710842419407106, 0.007108423870357418, 0.007108421949339763, 0.007108421208869687, 0.13881349026130396, 0.384109919759717, 0.07681277171396726, 0.10192637174083499, 0.091575289800501, 0.03881173539783054, 0.12631798788668508, 0.04142266267690049, 0.04189424470752361, 0.03683155660655111, 0.16949938459630254, 0.020239786933698618, 0.03437347845185382, 0.00706447883847714, 0.045526064625517365, 0.007068737253072264, 0.007064478840666135, 0.007064478838745982, 0.007064478838476136, 0.007064478838476199, 0.007064478838476331, 0.0070644788384759995, 0.007064478838910032, 0.007064478838476123, 0.007064478838476036, 0.007064478838476001, 0.007064478838475972, 0.007064478838756841, 0.007064478838488386, 0.00706447883847598, 0.029812162999562998, 0.007854609737499848, 0.007729987398892647, 0.007449543455212771, 0.00711261743425221, 0.007074245480543595, 0.0070815440542891794, 0.007065718567169135, 0.00706512655206181, 0.007064837362252728, 0.007064606059427897, 0.007064534212139416, 0.007064528791642956, 0.007064521414243554, 0.007064505658797882, 0.208535138546202, 0.16624678973141688, 0.18854723261804082, 0.14259677452863992, 0.09070533787684476, 0.13508829070475564, 0.03537162083208148, 0.03343343654706379, 0.03343343645496465, 0.020516490966242466, 0.020516492227125784, 0.01975536301743005, 0.02023497795871631, 0.007036532858776919, 0.0070365328591454985, 0.007036532860964191, 0.00703653285904555, 0.007036532858775914, 0.007036532859227494, 0.007036532858775979, 0.007036532858776109, 0.007036532858775779, 0.007036532859209469, 0.007036532858775902, 0.007036532858775817, 0.0070365328587757795, 0.007036532858775751, 0.007036532858775781, 0.007036532858788156, 0.0070365328587757596, 0.016889162776590198, 0.017003055947115497, 0.023059054339562225, 0.023906233679179267, 0.007036778159023032, 0.007036675177567335, 0.0070366304272948595, 0.007036624541932703, 0.007036579851252589, 0.0070365488574160185, 0.0070365458408806, 0.007036544573305519, 0.0070365420046859676, 0.007036538308264067, 0.007036537976008868, 0.007036537970769164, 0.007036537457387897, 0.12506167786844172, 0.0981458937854359, 0.0772601524110778, 0.134748506367291, 0.0710597919070876, 0.041850481709627865, 0.04675859708245104, 0.028198679676974425, 0.06416070718971498, 0.02044891549998054, 0.023786654666171435, 0.0069158551969717135, 0.006915855197335303, 0.006915855210639778, 0.006915855197236707, 0.006915855196970899, 0.006915855197416188, 0.0069158551969707854, 0.006915855196970915, 0.006915855196970588, 0.006915855197398407, 0.00691585519697071, 0.006915855196970625, 0.00691585519697059, 0.006915855196970562, 0.006915855196970591, 0.006915855196982798, 0.0069158551969705695, 0.006915855196970606, 0.006915855196970799, 0.019801819431287077, 0.03194964688146925, 0.006915933246692827, 0.006915925738650358, 0.006915881781158891, 0.006915865283637337, 0.006915861455828919, 0.0069158587017994315, 0.00691585842254825, 0.0069158577814095006, 0.00691585694370167, 0.006915856815170239, 0.006915856788269507, 0.006915856731570618, 0.006915856551023792, 0.006915856272593371, 0.006915856268657926, 0.0069158561726341515, 0.006915856112379497, 0.13081613072487197, 0.2269221681787852, 0.09748946066548837, 0.1130309206430356, 0.05871385844530056, 0.006904079783232638, 0.006904079783595924, 0.00690407978538849, 0.006904079783497411, 0.006904079783231648, 0.006904079783676739, 0.006904079783231713, 0.00690407978323184, 0.006904079783231515, 0.006904079783658976, 0.006904079783231636, 0.006904079783231551, 0.006904079783231517, 0.006904079783231488, 0.0069040797832315174, 0.006904079783243714, 0.006904079783231496, 0.006904079783231533, 0.006904079783231725, 0.006904079783231541, 0.006904079783231514, 0.006904079783231412, 0.006904079783231567, 0.006904079783232013, 0.006904079783231527, 0.006904086644808051, 0.006904086427049389, 0.006904084082589791, 0.006904082891513131, 0.0069040821917450215, 0.006904081549142765, 0.006904081466253444, 0.006904081392364383, 0.006904081385793975, 0.006904081321673212, 0.006904081292765955, 0.006904081183911442, 0.006904081049280234, 0.00690408098971231, 0.006904080891707597, 0.0069040808584867495, 0.006904080810526874, 0.006904080786746512, 0.006904080672881641, 0.006904080666744518, 0.0069040806066182885, 0.00690408057666645, 0.006904080550120851, 0.00690408048553149, 0.0069040804298424975, 0.1817364687320946, 0.08283731391479293, 0.08701854270973826, 0.050012615716275424, 0.05842323082570121, 0.03529320181330971, 0.02501837878780405, 0.020466468709978577, 0.006868903096807869, 0.006868903097169607, 0.006868903097071515, 0.006868903096806883, 0.006868903097250081, 0.006868903096806946, 0.0068689030968070745, 0.006868913438129072, 0.006868903097232391, 0.006868903096806871, 0.006868903096806786, 0.006868903096806752, 0.006868903096806723, 0.006868903096806753, 0.0068689030968188975, 0.00686890309680673, 0.0068689030968067675, 0.006868903096806959, 0.006868903096806776, 0.006868903096806748, 0.006868903096806648, 0.006868903096806801, 0.009495562243134907, 0.018386231340081716, 0.006868912183446584, 0.006868910491050915, 0.006868910157115743, 0.006868909724048395, 0.006868906505509552, 0.0068689056722336305, 0.0068689053500077075, 0.006868905164135629, 0.006868905008127862, 0.00686890491342754, 0.0068689048972744625, 0.006868904827512804, 0.006868904544680408, 0.006868904411409792, 0.00686890430466735, 0.0068689041648872734, 0.006868904072099406, 0.006868903984360627, 0.006868903863894645, 0.12745310883054922, 0.22624884345518712, 0.1310919474041021, 0.009329086592908166, 0.006870790718733592, 0.006870790719095027, 0.006870790720878465, 0.0068707907189970155, 0.006870790718732607, 0.006870790719175432, 0.006870790718732669, 0.006870790718732798, 0.006870790718732473, 0.0068707907191577575, 0.006870790718732594, 0.006870790718732509, 0.006870790721332145, 0.006870790718732446, 0.006870790718732476, 0.006870790718744611, 0.0068707907187324545, 0.006870790718732491, 0.006870790718732682, 0.0068707907187325, 0.006870790718732473, 0.006870790718732371, 0.006870790718732525, 0.006870790718732968, 0.006870790718732486, 0.006870793160489803, 0.006870805964257212, 0.0068708048951484305, 0.006870801437234493, 0.006870799651061561, 0.006870795125308203, 0.00687079507944572, 0.006870794977921561, 0.006870794776880491, 0.006870794102847521, 0.006870793388112838, 0.006870793329128676, 0.006870793179044404, 0.006870792987030307, 0.006870792680161638, 0.006870792609015521, 0.006870792434387163, 0.006870792239560471, 0.0068707922259193255, 0.006870792141954066, 0.006870792053476291, 0.006870791980404262, 0.006870791968767059, 0.006870791952919351, 0.006870791914249255, 0.006870791797298233, 0.13177439260274748, 0.10218686750358927, 0.08250599184805979, 0.04083178780808512, 0.006826660241502308, 0.006826660241862208, 0.006826660243638073, 0.006826660241764613, 0.006826660241501327, 0.006826660241942273, 0.006826660241501389, 0.006826660241501518, 0.006826660241501194, 0.006826660241924673, 0.006826660241501315, 0.0068266602415012305, 0.006826660241501197, 0.006826660241501168, 0.006826660241501197, 0.00682666024151328, 0.006826660241501175, 0.006826660241501212, 0.006826660241501403, 0.006826660241501221, 0.006826660241501193, 0.006826660241501093, 0.006826660241501247, 0.0068266602415016885, 0.006826660241501206, 0.006826660241501181, 0.006826669506860598, 0.006826667231393795, 0.006826665196397748, 0.006826663936347696, 0.006826662484579681, 0.00682666225615397, 0.006826661660313305, 0.006826661315475316, 0.006826661233509795, 0.006826660850494544, 0.006826660819807537, 0.006826660759103659, 0.00682666072647233, 0.006826660684572903, 0.006826660619480786, 0.006826660594335304, 0.00682666049942069, 0.006826660474359936, 0.006826660474155594, 0.006826660466777751, 0.006826660453110159, 0.0068266604406734465, 0.006826660440172405, 0.006826660422378737, 0.00682666041318839, 0.0068266604104071085, 0.08369674144551967, 0.059304448265469864, 0.11810599063784903, 0.08372355945636437, 0.006818922625561678, 0.0068189226259212435, 0.006818922627695458, 0.006818922625823738, 0.006818922625560697, 0.006818922626001232, 0.006818922625560759, 0.006818922625560888, 0.006818922625560565, 0.006818922625983648, 0.0068189226255606855, 0.006818922625560601, 0.006818922625560567, 0.006818922625560538, 0.006818922625560567, 0.006818922625572639, 0.006818922625560545, 0.006818922625560582, 0.006818922625560772, 0.006818922625560591, 0.006818922625560563, 0.0068189226255604635, 0.006818922625560616, 0.006818922625561058, 0.006818922625560576, 0.006818922625560551, 0.007773972822303346, 0.006819022538874784, 0.006818946195534005, 0.006818940560823502, 0.0068189292514087676, 0.006818927664651325, 0.006818925936861327, 0.006818924884786416, 0.006818924615001843, 0.006818924397906671, 0.0068189242912743584, 0.006818924122410685, 0.006818923748743007, 0.006818923300802407, 0.006818923293766781, 0.006818923273461325, 0.006818923252416384, 0.006818923220690607, 0.006818923212589518, 0.006818923183557861, 0.006818923137416445, 0.006818923079334344, 0.006818923048850487, 0.006818923017692219, 0.006818923017452516, 0.006818923003601432, 0.12204639550786425, 0.11279036040248683, 0.006792416600410262, 0.00679241660076805, 0.006792416602533491, 0.006792416600671027, 0.006792416600409286, 0.006792416600847643, 0.006792416600409348, 0.006792441508730604, 0.006792416600409155, 0.006792416600830146, 0.006792416600409274, 0.006792416600409191, 0.006792416600409156, 0.006792416600409128, 0.006792416600409157, 0.006792416600421169, 0.0067924166004091355, 0.006792416600409173, 0.006792416600409362, 0.0067924166004091815, 0.006792416600409154, 0.006792416600409054, 0.006792416600409206, 0.006792416600409645, 0.006792416600409166, 0.006792416600409141, 0.006792416600409111, 0.006792416600409196, 0.006792425510897944, 0.0067924226726655745, 0.0067924202871770265, 0.006792420123634901, 0.006792419873341872, 0.006792419663043297, 0.006792419587049787, 0.00679241925307754, 0.006792418528877709, 0.00679241840282246, 0.006792418396530846, 0.00679241828783005, 0.006792418177846452, 0.006792418075098007, 0.006792418074455689, 0.006792417672411277, 0.006792417671371262, 0.006792417667807651, 0.006792417475816279, 0.00679241742237394, 0.006792417416793606, 0.0067924173267769825, 0.006792417318209556, 0.006792417260735223, 0.0067924172320895666, 0.006792417225317333, 0.006792417049756615, 0.1068157772931479, 0.006750860696325892, 0.0067508606966823065, 0.006750860698440972, 0.006750860696585656, 0.00675086069632492, 0.006750860696761595, 0.006750860696324982, 0.006750860696325109, 0.006750860696324789, 0.006750860696744165, 0.0067508606963249075, 0.006750860696324825, 0.0067508606963247895, 0.006750860696324762, 0.00675086069632479, 0.006750860696336757, 0.0067508606963247704, 0.006750860696324806, 0.006750860696324995, 0.006750860696324815, 0.006750860696324788, 0.006750860696324687, 0.00675086069632484, 0.006750860696325277, 0.0067508606963248, 0.006750860696324776, 0.006750860696324745, 0.006750860696324829, 0.0067508606963248, 0.006750868083975039, 0.006750867954749977, 0.006750866299484854, 0.006750863888868649, 0.00675086317297335, 0.006750862902965458, 0.006750861656424053, 0.006750861545593149, 0.0067508613951073266, 0.0067508613604810915, 0.0067508611098906855, 0.006750861084867301, 0.00675086105986268, 0.006750861051579476, 0.006750861030216594, 0.006750861022238052, 0.006750860995728637, 0.0067508609903818, 0.006750860922348568, 0.006750860920187334, 0.006750860912570417, 0.006750860888047172, 0.006750860885460021, 0.006750860854640025, 0.006750860849067759, 0.006750860840634058, 0.0067508608176532385, 0.006750860808106398, 0.006750860804779122], \"Total\": [10.0, 8.0, 10.0, 41.0, 14.0, 15.0, 31.0, 25.0, 25.0, 25.0, 24.0, 4.0, 26.0, 22.0, 22.0, 21.0, 23.0, 21.0, 21.0, 20.0, 27.0, 11.0, 20.0, 19.0, 19.0, 19.0, 19.0, 18.0, 18.0, 18.0, 41.668950270677165, 31.625393072614948, 25.86679398400384, 25.10011259539761, 25.062807420360365, 24.609120881777283, 22.963859971363263, 22.633043095205185, 21.990414036454947, 21.41530719818913, 21.329974139972162, 20.9707905958679, 20.214663385455868, 19.832745743734527, 19.81513585224674, 19.813035690336815, 19.746870759848075, 26.904034735143625, 18.998031914688504, 18.8300427018454, 18.466689023365408, 18.18875335752312, 18.17482303503534, 23.696016863024937, 17.96029684676219, 18.43473824660278, 17.34947658814039, 16.261891237756693, 19.294704499239344, 15.93527457547249, 27.33179649017129, 22.204868893703605, 18.121449207157614, 19.539176157328697, 38.66015216523336, 31.679394901094742, 22.284624746381997, 20.379462146326624, 32.68823675333118, 25.174583159934034, 22.81152698322935, 25.429753426085945, 14.94176268606101, 11.534357202894157, 10.033565267867132, 10.004751124654973, 9.524839238919025, 9.123241257210054, 7.9636976173571306, 7.675256519782137, 7.565187573707654, 7.547290785652435, 7.31297516804558, 6.967049038033193, 6.891839472819957, 6.737825614580919, 6.573962067560642, 6.455916299349836, 6.438103272383908, 6.2977100426047, 6.235380159516008, 6.190782675361975, 6.119502806546275, 6.0532192727907015, 6.0390591381379695, 5.835244709994328, 5.804782887412673, 5.743553885091867, 5.735885588920337, 5.726588311096107, 5.711143390377995, 5.679021628568929, 15.905441186628586, 9.126661660520282, 11.420659124822063, 6.998171527145789, 12.460800666348606, 11.197196565559121, 7.558362759128483, 9.813276478332423, 13.364271095745389, 8.683679163818576, 8.624159517415713, 9.279866979361294, 13.542275595330862, 16.965612291215574, 16.083433404282513, 17.19538740992421, 13.33984261497976, 17.170985693188417, 3.4589209317420857, 3.2327250023175025, 3.175759486248422, 2.998028645579761, 2.9725903365844317, 2.90850528348294, 2.83528593925443, 2.8066402158272266, 2.6395290390755957, 2.5559041501729967, 2.5507253914543644, 2.5153033375240015, 2.4170980266543305, 2.3767639762912274, 2.3751643025077684, 2.3323114637232942, 2.325436452424429, 2.283933588092658, 2.2697005201242195, 2.2581004092700567, 2.2488884994755884, 2.2094292009418766, 2.1843679365812214, 2.1796237505439424, 2.169317231330838, 2.1281503481312467, 2.1241021397960336, 2.107471559708814, 2.0813902045835917, 2.034363912509522, 2.1655582990858275, 2.282846215780863, 2.602931642107174, 2.7393462076565087, 2.1823782881617904, 3.40772257796408, 2.6523308510624775, 3.730500194039289, 3.4284522152539263, 3.0884789970122974, 2.9219549588587084, 2.6982915923349586, 2.649902089350187, 2.542134987561389, 2.825817569376228, 2.2790991560786784, 2.251608930902304, 2.1232354853166346, 2.1027540101204276, 2.102084908115371, 2.028277375806235, 2.0230707260524, 2.010533051227341, 1.9785981786547577, 1.974905821954674, 1.9499788192209626, 1.893048765968532, 1.8889964780915416, 1.8623575825242102, 1.8508771554945762, 1.8406486350306126, 1.834469746483558, 1.819999631387082, 1.790202067989019, 1.7858017794661736, 1.781973376013533, 1.7728805374506358, 1.7635570614224958, 2.0659115972922297, 1.857368258050443, 2.052544690670966, 3.1398194803434825, 2.0376077327284046, 1.9778778338889316, 1.4521167860569308, 1.3566799181262037, 1.6314177042707863, 1.2863923237045012, 1.271901780029464, 1.5810102617151178, 1.0590474207835023, 1.1163816139482678, 2.0232425406630594, 1.01001624392616, 2.1646097773183945, 0.8911269021350905, 1.1886707452835628, 1.3729088259331514, 0.8521452724159675, 1.380284393518765, 0.8007266794095397, 0.7627999021694332, 0.7596778590052482, 1.1373864346885176, 1.5462885265542161, 2.1104893585297853, 0.6190877849345439, 0.9098800413345002, 0.6655936741026007, 0.768776615246034, 0.5561035684894077, 0.549979151081801, 1.1023609244910275, 0.5468977584997133, 1.0534013473097514, 2.8518927084669277, 4.191322329384568, 2.1881876346934055, 8.500663003278111, 1.2363725651759694, 2.5750470508056877, 10.9646940982737, 10.260295366234315, 0.5000810611847665, 0.46513154069573903, 0.4672472531455248, 0.44264156775668784, 0.5086488886009282, 0.39837303305081984, 3.102636007366432, 0.4257369857943763, 0.4343317552839014, 0.6154727475617799, 0.6369992315968177, 0.3558054574654742, 0.8160328217237508, 0.6777480086774437, 0.3288848964413741, 1.2544619059276259, 0.6522387521819113, 0.5579431981837851, 0.6448176432081474, 0.9412270955002499, 0.3477781159708152, 0.41936587838101597, 0.9954407528405144, 0.30015535518114755, 0.3526759780797957, 0.3208592811187482, 0.3280237020822701, 0.3347676569413465, 0.3406928928319093, 0.34916072639280177, 0.3936650105522832, 1.2863923237045012, 0.4254280374846146, 1.1163816139482678, 0.6655936741026007, 0.4180236046746801, 0.48581584291821683, 0.4196527509153348, 0.4254280374846146, 0.6011524621069037, 0.9725419412622954, 1.7053734003396979, 0.3632152402392468, 1.9693231043634232, 0.7942341196454448, 0.7184196861092876, 0.8176032540703971, 0.8896096765394071, 0.5123012745250096, 0.4538509717585099, 0.4712594519534037, 0.6363681255956843, 0.4735212656740784, 0.5526728976270148, 2.0659115972922297, 0.9296856388705058, 0.47918421157565794, 0.36341768663340196, 0.30015535518114755, 0.3208592811187482, 0.3280237020822701, 0.9474138705129366, 0.3288848964413741, 0.3347676569413465, 0.3406928928319093, 0.3477781159708152, 3.1398194803434825, 0.9691134693118281, 0.9568208310794961, 1.582424959662865, 1.9499788192209626, 0.6464980902506887, 0.7328679337273722, 0.637264734722253, 0.45662729555902043, 0.4008841765132282, 0.38554551829565414, 0.4044145421513881, 0.4498251249820757, 0.409442207999766, 0.3526759780797957, 0.4083884944311768, 0.36341768663340196, 0.5249994757296135, 0.39422868600501804, 0.5723542430437251, 0.7769701430880873, 0.30015535518114755, 0.5503360978148736, 0.638543416368836, 0.41642632425087067, 0.7890857297624035, 0.4300528072500994, 2.0374265887890974, 0.581539782808971, 0.8908873818651115, 0.3826975042907902, 0.3208592811187482, 0.3280237020822701, 0.3288848964413741, 0.3347676569413465, 0.3406928928319093, 1.3700985542262538, 1.3166781283376472, 0.6223177284367029, 0.5579431981837851, 0.6447627833028128, 0.9565807676283983, 0.6394555863055883, 0.3826975042907902, 0.3723634039321128, 0.5430131728710397, 0.7348681176388485, 0.5273441847386697, 0.5948782013585625, 0.5610932525568876, 0.4180236046746801, 0.7189277506902974, 0.8089384950026468, 0.6863859205445693, 0.45231032162829726, 0.7328927284703988, 0.30015535518114755, 0.5123012745250096, 0.3208592811187482, 0.3280237020822701, 0.3288848964413741, 0.3347676569413465, 0.3406928928319093, 0.3477781159708152, 0.34916072639280177, 0.35220911798695814, 0.3526759780797957, 0.35302353607731407, 0.3536017868735727, 0.35404059978971636, 0.3547277769964598, 0.44606371535653416, 0.6909595728095905, 1.4521167860569308, 0.8810192873224779, 0.41642632425087067, 0.39523604303751503, 0.45151761282027125, 0.4670550371995825, 0.49080772146641893, 0.4367848460413781, 0.5485324305886582, 0.46980681364772414, 0.5675372755378806, 1.002336414572624, 0.5118263967615676, 0.586106245656354, 0.5616371055882045, 0.4666054967574896, 0.7394448380278615, 0.6033856371052714, 0.7620884707846824, 0.6125853232520156, 0.4651507227449616, 0.7044652347708149, 0.6389286418087305, 0.3280237020822701, 0.6854829814103556, 0.6043889665806469, 0.30015535518114755, 0.3208592811187482, 0.3288848964413741, 0.3347676569413465, 0.3632152402392468, 0.3406928928319093, 0.3477781159708152, 0.34916072639280177, 0.35220911798695814, 0.3526759780797957, 0.35302353607731407, 0.3536017868735727, 0.35404059978971636, 0.3547277769964598, 0.35479314290798314, 0.3558054574654742, 0.4946385118501496, 1.0310553579256485, 0.8463369438045368, 0.6585778618846773, 1.015663759142934, 0.5041853475854491, 0.4671558751087835, 1.0004372945523294, 2.1843679365812214, 0.5635949641924628, 0.47285289884118825, 2.1823782881617904, 0.5215053845237047, 0.399720327621543, 1.4063609507419346, 0.3406928928319093, 0.6414178762112989, 0.7479271793073502, 0.4547239792293112, 1.5336411831885453, 0.5093350547188542, 0.7115006456722898, 0.6440482431872214, 3.1886392765647824, 0.41559428722981556, 1.0303626229152287, 0.30015535518114755, 1.9426527503168256, 0.3208592811187482, 0.3280237020822701, 0.3288848964413741, 0.3347676569413465, 0.3477781159708152, 0.34916072639280177, 0.35220911798695814, 0.3526759780797957, 0.35302353607731407, 0.3536017868735727, 0.35404059978971636, 0.3547277769964598, 0.35479314290798314, 0.3558054574654742, 0.3562910431092773, 1.5228874725737866, 0.4744480313324389, 0.9858384427251365, 1.2863923237045012, 0.4999888626921727, 0.39339096982774097, 0.5468977584997133, 1.3139217102104437, 0.3737253141104197, 0.6241565160921835, 0.36145962995278713, 0.46031312070012365, 1.3056265170297057, 1.3339045634916142, 0.4151644820003244, 0.46980681364772414, 0.9259108233449163, 1.085800497755616, 0.943849581910516, 0.7430548686383601, 1.1257371456810372, 0.6103259798502115, 0.6384259539786378, 0.9409193083084285, 0.6308808995994049, 0.6665609190979583, 0.7181876456119737, 0.844928800589578, 0.30015535518114755, 0.3208592811187482, 0.3280237020822701, 0.3288848964413741, 0.3347676569413465, 0.3406928928319093, 0.3477781159708152, 0.34916072639280177, 0.35220911798695814, 0.3526759780797957, 0.35302353607731407, 0.3536017868735727, 0.35404059978971636, 0.3547277769964598, 0.35479314290798314, 0.3558054574654742, 0.3562910431092773, 0.9206938673057128, 1.058176993038889, 1.7468117910086614, 1.9244635707784439, 0.7005619349814338, 0.8386284052326357, 0.43512297434775415, 0.9406081702361327, 0.6363681255956843, 0.44824196104034997, 0.9801525334900809, 0.46491302759385916, 0.6808384555546979, 0.42944586934421325, 0.6338697395255022, 0.4145918179353679, 0.7783858968759536, 0.3936650105522832, 0.5499903956153929, 0.4798432796860882, 1.0074295080828495, 0.5810992979986237, 0.45595039258269576, 0.5248210281267959, 0.46205674361958426, 1.236758458853041, 0.41720379784800826, 0.6624491796947862, 0.30015535518114755, 0.3208592811187482, 0.3280237020822701, 0.3288848964413741, 0.3347676569413465, 0.3406928928319093, 0.3477781159708152, 0.34916072639280177, 0.35220911798695814, 0.3526759780797957, 0.35302353607731407, 0.3536017868735727, 0.35404059978971636, 0.3547277769964598, 0.35479314290798314, 0.3558054574654742, 0.3562910431092773, 0.3565247162341461, 0.35708663592445367, 1.1601555645276092, 3.8589779350972293, 0.5534033398090167, 0.9597284112387942, 1.4212020697769658, 2.998028645579761, 0.4200522642077843, 0.7637703841101428, 0.8394771177660043, 0.4517403657836633, 0.8378795849870738, 0.5013391337634371, 1.1469747626769455, 1.1323186608499887, 0.4791102666025704, 1.33756999123546, 0.6498869371719485, 1.3339045634916142, 1.401435853936673, 0.6498869371719485, 1.201148637500745, 0.5326889323921765, 0.6894623662645967, 1.2363725651759694, 0.30015535518114755, 0.3208592811187482, 0.3280237020822701, 0.3288848964413741, 0.3347676569413465, 0.3406928928319093, 0.3477781159708152, 0.34916072639280177, 0.35220911798695814, 0.3526759780797957, 0.35302353607731407, 0.3536017868735727, 0.35404059978971636, 0.3547277769964598, 0.35479314290798314, 0.3558054574654742, 0.3562910431092773, 0.3565247162341461, 0.35708663592445367, 0.35922666944656256, 0.35948714175289675, 0.3608331197410867, 0.3612766836402528, 0.36145962995278713, 0.3617619570862968, 0.3812612983131592, 0.38311939303829656, 0.40946464174210495, 0.3683777057973975, 0.4082149103006545, 0.43557915200889447, 0.49878533559327526, 0.4440792322619008, 0.4439677469534071, 0.3625869935818021, 0.4485656592527804, 0.45198418466021434, 0.6554084327592569, 0.46373317274152037, 0.40754036989871734, 0.4839259023071251, 0.41085607253505285, 0.5379984301944656, 0.3772282703995556, 0.40735686687464717, 0.4016624934396581, 0.4237503593037944, 0.4347927958172821, 0.3888373158077855, 0.4346669967262683, 0.8003555327823287, 0.4245598842009799, 0.44606371535653416, 0.3280237020822701, 0.5610683263155872, 0.4144268929854909, 0.6854829814103556, 0.6025174887108506, 0.30015535518114755, 0.3208592811187482, 0.3288848964413741, 0.3347676569413465, 0.3406928928319093, 0.3477781159708152, 0.34916072639280177, 0.35220911798695814, 0.3526759780797957, 0.35302353607731407, 0.3536017868735727, 0.35404059978971636, 0.3547277769964598, 0.35479314290798314, 0.3558054574654742, 0.3562910431092773, 0.3565247162341461, 0.35708663592445367, 0.35922666944656256, 0.35948714175289675, 0.3608331197410867, 0.3612766836402528, 0.5000810611847665, 1.3152484407785483, 0.4215418323919269, 0.4005584991980049, 0.5280494349697888, 0.4050074198907962, 0.7515546860034661, 0.45256017586757724, 0.41371263695381355, 0.6984216651233551, 0.4387881579061274, 0.5436007175039759, 0.6076969315159736, 0.4751289692596763, 0.39257651522701614, 0.37292331480993063, 0.45666829036019074, 0.4540999088661129, 0.8207504913017754, 1.6356830959963604, 0.5171329552910934, 0.3886277565541188, 0.8479507976090614, 0.7988679515157164, 0.3723634039321128, 0.30015535518114755, 0.3208592811187482, 0.3280237020822701, 0.3288848964413741, 0.3347676569413465, 0.3406928928319093, 0.3477781159708152, 0.34916072639280177, 0.35220911798695814, 0.3526759780797957, 0.35302353607731407, 0.3536017868735727, 0.35404059978971636, 0.3547277769964598, 0.35479314290798314, 0.3558054574654742, 0.3562910431092773, 0.3565247162341461, 0.35708663592445367, 0.35922666944656256, 0.35948714175289675, 0.3608331197410867, 0.3612766836402528, 0.36145962995278713, 0.3617619570862968, 0.3618133854533594, 0.421981761735875, 0.4226088485247293, 0.3790588969000957, 0.3695718648611131, 0.5031711853755477, 0.41287769529089124, 0.500083466028082, 0.40940146408760963, 0.46300452395008196, 0.5599316432332707, 0.3625029325085333, 0.5591984346023223, 0.574651420112214, 0.4245738442637401, 0.5929260973702898, 0.4196690470065858, 0.37449866195515874, 0.4722788564438597, 0.5342781964414265, 0.6554335467551651, 0.6637132078233351, 0.48663412296590425, 1.093675490301735, 0.7051527069399969, 0.3873568110964245, 0.41642632425087067, 0.6244056964017943, 0.5222108976673951, 0.42274574961892547, 0.30015535518114755, 0.3208592811187482, 0.3280237020822701, 0.3288848964413741, 0.3347676569413465, 0.3406928928319093, 0.3477781159708152, 0.34916072639280177, 0.35220911798695814, 0.3526759780797957, 0.35302353607731407, 0.3536017868735727, 0.35404059978971636, 0.3547277769964598, 0.35479314290798314, 0.3558054574654742, 0.3562910431092773, 0.3565247162341461, 0.35708663592445367, 0.35922666944656256, 0.35948714175289675, 0.3608331197410867, 0.3612766836402528, 0.36145962995278713, 0.3617619570862968, 0.3618133854533594, 0.43612582787609133, 0.45104021495492963, 0.4756070839747851, 0.3936997112962149, 0.5460514447452646, 0.41797253308575505, 0.4552074537419312, 0.4518470453100242, 0.46130166902608055, 0.8102508038932016, 0.5002775983975579, 0.4225535506899918, 0.9098800413345002, 0.49049399087936113, 0.6377336927189773, 0.9404321320737906, 0.5379984301944656, 0.47917310084240633, 0.45791582266473635, 0.46201067239230104, 0.43460732236712873, 0.6103189344007763, 0.951693786476406, 0.45648346950277696, 0.482909426229057, 0.6107960593723033, 0.5519846199473358, 0.4636512076972121, 0.9406081702361327, 0.7969685692871014, 0.30015535518114755, 0.3208592811187482, 0.3280237020822701, 0.3288848964413741, 0.3347676569413465, 0.3406928928319093, 0.3477781159708152, 0.34916072639280177, 0.35220911798695814, 0.3526759780797957, 0.35302353607731407, 0.3536017868735727, 0.35404059978971636, 0.3547277769964598, 0.35479314290798314, 0.3558054574654742, 0.3562910431092773, 0.3565247162341461, 0.35708663592445367, 0.35922666944656256, 0.35948714175289675, 0.3608331197410867, 0.3612766836402528, 0.36145962995278713, 0.3617619570862968, 0.3618133854533594, 0.6467309425398786, 0.6363681255956843, 0.48410276437891164, 0.5072224896239141, 0.4724860339080996, 0.6822318727121846, 0.7922295212871809, 0.5714808622903382, 0.4482266772260318, 0.6259479467192632, 0.4609470749412311, 0.4430995441714328, 0.560762041297321, 0.7314245770170519, 1.7153001274399673, 0.8600608936286305, 0.5153204625870162, 0.4960497678175827, 0.5317010301269594, 0.5019147146565139, 0.5637181608848829, 0.5171647758388511, 0.566078260799405, 0.5743985977389902, 0.5301693061966944, 0.6109854948422901, 0.5746282429233158, 0.5983420968074027, 0.30015535518114755, 0.3208592811187482, 0.3280237020822701, 0.3288848964413741, 0.3347676569413465, 0.3406928928319093, 0.3477781159708152, 0.34916072639280177, 0.35220911798695814, 0.3526759780797957, 0.35302353607731407, 0.3536017868735727, 0.35404059978971636, 0.3547277769964598, 0.35479314290798314, 0.3558054574654742, 0.3562910431092773, 0.3565247162341461, 0.35708663592445367, 0.35922666944656256, 0.35948714175289675, 0.3608331197410867, 0.3612766836402528, 0.36145962995278713, 0.3617619570862968, 0.3618133854533594, 0.36202733038065443, 0.3625029325085333, 0.37843315591662235, 0.38430434698133514, 0.4034410467829682, 0.3800416275580826, 0.3878519108641759, 0.41017913428618225, 0.4192158816232168, 0.5273441847386697, 0.40754036989871734, 0.40551592923673685, 0.4144268929854909, 0.4491224745401343, 0.4528628961570429, 0.4120757087263466, 0.4143483087846514, 0.43021760317447494, 0.4352805308315749, 0.39764546241527976, 0.4998069644707144, 1.2295747455178283, 1.0161589643138436, 0.467240849703577, 0.4181981206610583, 0.5021854668548472, 0.4323142119756236, 0.6018438443121849, 0.48410276437891164, 0.7788038918017337, 0.30015535518114755, 0.3208592811187482, 0.3280237020822701, 0.3288848964413741, 0.3347676569413465, 0.3406928928319093, 0.3477781159708152, 0.34916072639280177, 0.35220911798695814, 0.3526759780797957, 0.35302353607731407, 0.3536017868735727, 0.35404059978971636, 0.3547277769964598, 0.35479314290798314, 0.3558054574654742, 0.3562910431092773, 0.3565247162341461, 0.35708663592445367, 0.35922666944656256, 0.35948714175289675, 0.3608331197410867, 0.3612766836402528, 0.36145962995278713, 0.3617619570862968, 0.3618133854533594, 0.36202733038065443, 0.3625029325085333, 0.3625869935818021, 0.48396572982823016, 0.4189509747166311, 0.4316293479916514, 0.46656283495908407, 1.322630187537761, 0.4978283195688953, 0.5922918400861351, 0.6154439610025274, 0.7093127939417135, 0.4172635822189519, 0.608023876722052, 0.984956858099763, 0.6107811106394224, 1.6367945244953883, 0.43690121245302377, 0.4368794350733992, 0.45378993856643, 0.5847147479241248, 0.45798457430726625, 0.4706592183083569, 0.5306379023883994, 0.4882392430463073, 0.4827647932111918, 0.6844094216762143, 0.5800998973382787, 0.5124108101116113, 0.4925304725351655, 0.5026224612023636, 0.6406411097356027], \"Category\": [\"Default\", \"Default\", \"Default\", \"Default\", \"Default\", \"Default\", \"Default\", \"Default\", \"Default\", \"Default\", \"Default\", \"Default\", \"Default\", \"Default\", \"Default\", \"Default\", \"Default\", \"Default\", \"Default\", \"Default\", \"Default\", \"Default\", \"Default\", \"Default\", \"Default\", \"Default\", \"Default\", \"Default\", \"Default\", \"Default\", \"Topic1\", \"Topic1\", \"Topic1\", \"Topic1\", \"Topic1\", \"Topic1\", \"Topic1\", \"Topic1\", \"Topic1\", \"Topic1\", \"Topic1\", \"Topic1\", \"Topic1\", \"Topic1\", \"Topic1\", \"Topic1\", \"Topic1\", \"Topic1\", \"Topic1\", \"Topic1\", \"Topic1\", \"Topic1\", \"Topic1\", \"Topic1\", \"Topic1\", \"Topic1\", \"Topic1\", \"Topic1\", \"Topic1\", \"Topic1\", \"Topic1\", \"Topic1\", \"Topic1\", \"Topic1\", \"Topic1\", \"Topic1\", \"Topic1\", \"Topic1\", \"Topic1\", \"Topic1\", \"Topic1\", \"Topic1\", \"Topic2\", \"Topic2\", \"Topic2\", \"Topic2\", \"Topic2\", \"Topic2\", \"Topic2\", \"Topic2\", \"Topic2\", \"Topic2\", \"Topic2\", \"Topic2\", \"Topic2\", \"Topic2\", \"Topic2\", \"Topic2\", \"Topic2\", \"Topic2\", \"Topic2\", \"Topic2\", \"Topic2\", \"Topic2\", \"Topic2\", \"Topic2\", \"Topic2\", \"Topic2\", \"Topic2\", \"Topic2\", \"Topic2\", \"Topic2\", \"Topic2\", \"Topic2\", \"Topic2\", \"Topic2\", \"Topic2\", \"Topic2\", \"Topic2\", \"Topic2\", \"Topic2\", \"Topic2\", \"Topic2\", \"Topic2\", \"Topic2\", \"Topic2\", \"Topic2\", \"Topic2\", \"Topic2\", \"Topic2\", \"Topic3\", \"Topic3\", \"Topic3\", \"Topic3\", \"Topic3\", \"Topic3\", \"Topic3\", \"Topic3\", \"Topic3\", \"Topic3\", \"Topic3\", \"Topic3\", \"Topic3\", \"Topic3\", \"Topic3\", \"Topic3\", \"Topic3\", \"Topic3\", \"Topic3\", \"Topic3\", \"Topic3\", \"Topic3\", \"Topic3\", \"Topic3\", \"Topic3\", \"Topic3\", \"Topic3\", \"Topic3\", \"Topic3\", \"Topic3\", \"Topic3\", \"Topic3\", \"Topic3\", \"Topic3\", \"Topic3\", \"Topic3\", \"Topic3\", \"Topic3\", \"Topic4\", \"Topic4\", \"Topic4\", \"Topic4\", \"Topic4\", \"Topic4\", \"Topic4\", \"Topic4\", \"Topic4\", \"Topic4\", \"Topic4\", \"Topic4\", \"Topic4\", \"Topic4\", \"Topic4\", \"Topic4\", \"Topic4\", \"Topic4\", \"Topic4\", \"Topic4\", \"Topic4\", \"Topic4\", \"Topic4\", \"Topic4\", \"Topic4\", \"Topic4\", \"Topic4\", \"Topic4\", \"Topic4\", \"Topic4\", \"Topic4\", \"Topic4\", \"Topic4\", \"Topic4\", \"Topic4\", \"Topic4\", \"Topic5\", \"Topic5\", \"Topic5\", \"Topic5\", \"Topic5\", \"Topic5\", \"Topic5\", \"Topic5\", \"Topic5\", \"Topic5\", \"Topic5\", \"Topic5\", \"Topic5\", \"Topic5\", \"Topic5\", \"Topic5\", \"Topic5\", \"Topic5\", \"Topic5\", \"Topic5\", \"Topic5\", \"Topic5\", \"Topic5\", \"Topic5\", \"Topic5\", \"Topic5\", \"Topic5\", \"Topic5\", \"Topic5\", \"Topic5\", \"Topic5\", \"Topic5\", \"Topic5\", \"Topic5\", \"Topic5\", \"Topic5\", \"Topic5\", \"Topic5\", \"Topic5\", \"Topic6\", \"Topic6\", \"Topic6\", \"Topic6\", \"Topic6\", \"Topic6\", \"Topic6\", \"Topic6\", \"Topic6\", \"Topic6\", \"Topic6\", \"Topic6\", \"Topic6\", \"Topic6\", \"Topic6\", \"Topic6\", \"Topic6\", \"Topic6\", \"Topic6\", \"Topic6\", \"Topic6\", \"Topic6\", \"Topic6\", \"Topic6\", \"Topic6\", \"Topic6\", \"Topic6\", \"Topic6\", \"Topic6\", \"Topic6\", \"Topic6\", \"Topic6\", \"Topic6\", \"Topic6\", \"Topic6\", \"Topic6\", \"Topic7\", \"Topic7\", \"Topic7\", \"Topic7\", \"Topic7\", \"Topic7\", \"Topic7\", \"Topic7\", \"Topic7\", \"Topic7\", \"Topic7\", \"Topic7\", \"Topic7\", \"Topic7\", \"Topic7\", \"Topic7\", \"Topic7\", \"Topic7\", \"Topic7\", \"Topic7\", \"Topic7\", \"Topic7\", \"Topic7\", \"Topic7\", \"Topic7\", \"Topic7\", \"Topic7\", \"Topic7\", \"Topic7\", \"Topic7\", \"Topic7\", \"Topic7\", \"Topic7\", \"Topic7\", \"Topic7\", \"Topic7\", \"Topic8\", \"Topic8\", \"Topic8\", \"Topic8\", \"Topic8\", \"Topic8\", \"Topic8\", \"Topic8\", \"Topic8\", \"Topic8\", \"Topic8\", \"Topic8\", \"Topic8\", \"Topic8\", \"Topic8\", \"Topic8\", \"Topic8\", \"Topic8\", \"Topic8\", \"Topic8\", \"Topic8\", \"Topic8\", \"Topic8\", \"Topic8\", \"Topic8\", \"Topic8\", \"Topic8\", \"Topic8\", \"Topic8\", \"Topic8\", \"Topic8\", \"Topic8\", \"Topic8\", \"Topic8\", \"Topic8\", \"Topic9\", \"Topic9\", \"Topic9\", \"Topic9\", \"Topic9\", \"Topic9\", \"Topic9\", \"Topic9\", \"Topic9\", \"Topic9\", \"Topic9\", \"Topic9\", \"Topic9\", \"Topic9\", \"Topic9\", \"Topic9\", \"Topic9\", \"Topic9\", \"Topic9\", \"Topic9\", \"Topic9\", \"Topic9\", \"Topic9\", \"Topic9\", \"Topic9\", \"Topic9\", \"Topic9\", \"Topic9\", \"Topic9\", \"Topic9\", \"Topic9\", \"Topic9\", \"Topic9\", \"Topic9\", \"Topic9\", \"Topic9\", \"Topic9\", \"Topic9\", \"Topic9\", \"Topic9\", \"Topic9\", \"Topic9\", \"Topic9\", \"Topic10\", \"Topic10\", \"Topic10\", \"Topic10\", \"Topic10\", \"Topic10\", \"Topic10\", \"Topic10\", \"Topic10\", \"Topic10\", \"Topic10\", \"Topic10\", \"Topic10\", \"Topic10\", \"Topic10\", \"Topic10\", \"Topic10\", \"Topic10\", \"Topic10\", \"Topic10\", \"Topic10\", \"Topic10\", \"Topic10\", \"Topic10\", \"Topic10\", \"Topic10\", \"Topic10\", \"Topic10\", \"Topic10\", \"Topic10\", \"Topic10\", \"Topic10\", \"Topic10\", \"Topic10\", \"Topic10\", \"Topic10\", \"Topic10\", \"Topic10\", \"Topic10\", \"Topic10\", \"Topic10\", \"Topic10\", \"Topic10\", \"Topic10\", \"Topic11\", \"Topic11\", \"Topic11\", \"Topic11\", \"Topic11\", \"Topic11\", \"Topic11\", \"Topic11\", \"Topic11\", \"Topic11\", \"Topic11\", \"Topic11\", \"Topic11\", \"Topic11\", \"Topic11\", \"Topic11\", \"Topic11\", \"Topic11\", \"Topic11\", \"Topic11\", \"Topic11\", \"Topic11\", \"Topic11\", \"Topic11\", \"Topic11\", \"Topic11\", \"Topic11\", \"Topic11\", \"Topic11\", \"Topic11\", \"Topic11\", \"Topic11\", \"Topic11\", \"Topic11\", \"Topic11\", \"Topic11\", \"Topic11\", \"Topic11\", \"Topic11\", \"Topic11\", \"Topic11\", \"Topic11\", \"Topic11\", \"Topic11\", \"Topic11\", \"Topic12\", \"Topic12\", \"Topic12\", \"Topic12\", \"Topic12\", \"Topic12\", \"Topic12\", \"Topic12\", \"Topic12\", \"Topic12\", \"Topic12\", \"Topic12\", \"Topic12\", \"Topic12\", \"Topic12\", \"Topic12\", \"Topic12\", \"Topic12\", \"Topic12\", \"Topic12\", \"Topic12\", \"Topic12\", \"Topic12\", \"Topic12\", \"Topic12\", \"Topic12\", \"Topic12\", \"Topic12\", \"Topic12\", \"Topic12\", \"Topic12\", \"Topic12\", \"Topic12\", \"Topic12\", \"Topic12\", \"Topic12\", \"Topic12\", \"Topic12\", \"Topic12\", \"Topic12\", \"Topic12\", \"Topic12\", \"Topic12\", \"Topic12\", \"Topic12\", \"Topic12\", \"Topic12\", \"Topic13\", \"Topic13\", \"Topic13\", \"Topic13\", \"Topic13\", \"Topic13\", \"Topic13\", \"Topic13\", \"Topic13\", \"Topic13\", \"Topic13\", \"Topic13\", \"Topic13\", \"Topic13\", \"Topic13\", \"Topic13\", \"Topic13\", \"Topic13\", \"Topic13\", \"Topic13\", \"Topic13\", \"Topic13\", \"Topic13\", \"Topic13\", \"Topic13\", \"Topic13\", \"Topic13\", \"Topic13\", \"Topic13\", \"Topic13\", \"Topic13\", \"Topic13\", \"Topic13\", \"Topic13\", \"Topic13\", \"Topic13\", \"Topic13\", \"Topic13\", \"Topic13\", \"Topic13\", \"Topic13\", \"Topic13\", \"Topic13\", \"Topic13\", \"Topic13\", \"Topic13\", \"Topic13\", \"Topic13\", \"Topic13\", \"Topic14\", \"Topic14\", \"Topic14\", \"Topic14\", \"Topic14\", \"Topic14\", \"Topic14\", \"Topic14\", \"Topic14\", \"Topic14\", \"Topic14\", \"Topic14\", \"Topic14\", \"Topic14\", \"Topic14\", \"Topic14\", \"Topic14\", \"Topic14\", \"Topic14\", \"Topic14\", \"Topic14\", \"Topic14\", \"Topic14\", \"Topic14\", \"Topic14\", \"Topic14\", \"Topic14\", \"Topic14\", \"Topic14\", \"Topic14\", \"Topic14\", \"Topic14\", \"Topic14\", \"Topic14\", \"Topic14\", \"Topic14\", \"Topic14\", \"Topic14\", \"Topic14\", \"Topic14\", \"Topic14\", \"Topic14\", \"Topic14\", \"Topic14\", \"Topic14\", \"Topic14\", \"Topic14\", \"Topic14\", \"Topic14\", \"Topic14\", \"Topic14\", \"Topic14\", \"Topic14\", \"Topic14\", \"Topic14\", \"Topic15\", \"Topic15\", \"Topic15\", \"Topic15\", \"Topic15\", \"Topic15\", \"Topic15\", \"Topic15\", \"Topic15\", \"Topic15\", \"Topic15\", \"Topic15\", \"Topic15\", \"Topic15\", \"Topic15\", \"Topic15\", \"Topic15\", \"Topic15\", \"Topic15\", \"Topic15\", \"Topic15\", \"Topic15\", \"Topic15\", \"Topic15\", \"Topic15\", \"Topic15\", \"Topic15\", \"Topic15\", \"Topic15\", \"Topic15\", \"Topic15\", \"Topic15\", \"Topic15\", \"Topic15\", \"Topic15\", \"Topic15\", \"Topic15\", \"Topic15\", \"Topic15\", \"Topic15\", \"Topic15\", \"Topic15\", \"Topic15\", \"Topic15\", \"Topic15\", \"Topic15\", \"Topic15\", \"Topic15\", \"Topic15\", \"Topic15\", \"Topic15\", \"Topic16\", \"Topic16\", \"Topic16\", \"Topic16\", \"Topic16\", \"Topic16\", \"Topic16\", \"Topic16\", \"Topic16\", \"Topic16\", \"Topic16\", \"Topic16\", \"Topic16\", \"Topic16\", \"Topic16\", \"Topic16\", \"Topic16\", \"Topic16\", \"Topic16\", \"Topic16\", \"Topic16\", \"Topic16\", \"Topic16\", \"Topic16\", \"Topic16\", \"Topic16\", \"Topic16\", \"Topic16\", \"Topic16\", \"Topic16\", \"Topic16\", \"Topic16\", \"Topic16\", \"Topic16\", \"Topic16\", \"Topic16\", \"Topic16\", \"Topic16\", \"Topic16\", \"Topic16\", \"Topic16\", \"Topic16\", \"Topic16\", \"Topic16\", \"Topic16\", \"Topic16\", \"Topic16\", \"Topic16\", \"Topic16\", \"Topic16\", \"Topic16\", \"Topic16\", \"Topic16\", \"Topic16\", \"Topic16\", \"Topic17\", \"Topic17\", \"Topic17\", \"Topic17\", \"Topic17\", \"Topic17\", \"Topic17\", \"Topic17\", \"Topic17\", \"Topic17\", \"Topic17\", \"Topic17\", \"Topic17\", \"Topic17\", \"Topic17\", \"Topic17\", \"Topic17\", \"Topic17\", \"Topic17\", \"Topic17\", \"Topic17\", \"Topic17\", \"Topic17\", \"Topic17\", \"Topic17\", \"Topic17\", \"Topic17\", \"Topic17\", \"Topic17\", \"Topic17\", \"Topic17\", \"Topic17\", \"Topic17\", \"Topic17\", \"Topic17\", \"Topic17\", \"Topic17\", \"Topic17\", \"Topic17\", \"Topic17\", \"Topic17\", \"Topic17\", \"Topic17\", \"Topic17\", \"Topic17\", \"Topic17\", \"Topic17\", \"Topic17\", \"Topic17\", \"Topic17\", \"Topic17\", \"Topic17\", \"Topic17\", \"Topic17\", \"Topic17\", \"Topic17\", \"Topic18\", \"Topic18\", \"Topic18\", \"Topic18\", \"Topic18\", \"Topic18\", \"Topic18\", \"Topic18\", \"Topic18\", \"Topic18\", \"Topic18\", \"Topic18\", \"Topic18\", \"Topic18\", \"Topic18\", \"Topic18\", \"Topic18\", \"Topic18\", \"Topic18\", \"Topic18\", \"Topic18\", \"Topic18\", \"Topic18\", \"Topic18\", \"Topic18\", \"Topic18\", \"Topic18\", \"Topic18\", \"Topic18\", \"Topic18\", \"Topic18\", \"Topic18\", \"Topic18\", \"Topic18\", \"Topic18\", \"Topic18\", \"Topic18\", \"Topic18\", \"Topic18\", \"Topic18\", \"Topic18\", \"Topic18\", \"Topic18\", \"Topic18\", \"Topic18\", \"Topic18\", \"Topic18\", \"Topic18\", \"Topic18\", \"Topic18\", \"Topic18\", \"Topic18\", \"Topic18\", \"Topic18\", \"Topic18\", \"Topic18\", \"Topic19\", \"Topic19\", \"Topic19\", \"Topic19\", \"Topic19\", \"Topic19\", \"Topic19\", \"Topic19\", \"Topic19\", \"Topic19\", \"Topic19\", \"Topic19\", \"Topic19\", \"Topic19\", \"Topic19\", \"Topic19\", \"Topic19\", \"Topic19\", \"Topic19\", \"Topic19\", \"Topic19\", \"Topic19\", \"Topic19\", \"Topic19\", \"Topic19\", \"Topic19\", \"Topic19\", \"Topic19\", \"Topic19\", \"Topic19\", \"Topic19\", \"Topic19\", \"Topic19\", \"Topic19\", \"Topic19\", \"Topic19\", \"Topic19\", \"Topic19\", \"Topic19\", \"Topic19\", \"Topic19\", \"Topic19\", \"Topic19\", \"Topic19\", \"Topic19\", \"Topic19\", \"Topic19\", \"Topic19\", \"Topic19\", \"Topic19\", \"Topic19\", \"Topic19\", \"Topic19\", \"Topic19\", \"Topic19\", \"Topic19\", \"Topic19\", \"Topic20\", \"Topic20\", \"Topic20\", \"Topic20\", \"Topic20\", \"Topic20\", \"Topic20\", \"Topic20\", \"Topic20\", \"Topic20\", \"Topic20\", \"Topic20\", \"Topic20\", \"Topic20\", \"Topic20\", \"Topic20\", \"Topic20\", \"Topic20\", \"Topic20\", \"Topic20\", \"Topic20\", \"Topic20\", \"Topic20\", \"Topic20\", \"Topic20\", \"Topic20\", \"Topic20\", \"Topic20\", \"Topic20\", \"Topic20\", \"Topic20\", \"Topic20\", \"Topic20\", \"Topic20\", \"Topic20\", \"Topic20\", \"Topic20\", \"Topic20\", \"Topic20\", \"Topic20\", \"Topic20\", \"Topic20\", \"Topic20\", \"Topic20\", \"Topic20\", \"Topic20\", \"Topic20\", \"Topic20\", \"Topic20\", \"Topic20\", \"Topic20\", \"Topic20\", \"Topic20\", \"Topic20\", \"Topic20\", \"Topic20\", \"Topic20\", \"Topic20\", \"Topic20\"], \"logprob\": [30.0, 29.0, 28.0, 27.0, 26.0, 25.0, 24.0, 23.0, 22.0, 21.0, 20.0, 19.0, 18.0, 17.0, 16.0, 15.0, 14.0, 13.0, 12.0, 11.0, 10.0, 9.0, 8.0, 7.0, 6.0, 5.0, 4.0, 3.0, 2.0, 1.0, -6.096, -6.3735, -6.5761, -6.6064, -6.6079, -6.6264, -6.6962, -6.7109, -6.74, -6.7668, -6.7708, -6.788, -6.8251, -6.8444, -6.8453, -6.8454, -6.8488, -6.5395, -6.8879, -6.8969, -6.9166, -6.9319, -6.9327, -6.6676, -6.9447, -6.9187, -6.9803, -7.0454, -6.8744, -7.066, -6.5285, -6.7382, -6.9385, -6.872, -6.2817, -6.4554, -6.7622, -6.8484, -6.5596, -6.7549, -6.8059, -6.8179, -6.0146, -6.2763, -6.4187, -6.4217, -6.472, -6.5162, -6.6558, -6.6938, -6.7087, -6.7111, -6.7437, -6.7937, -6.8049, -6.8283, -6.8538, -6.8726, -6.8754, -6.8983, -6.9086, -6.9161, -6.9281, -6.9394, -6.9418, -6.9775, -6.983, -6.994, -6.9954, -6.9971, -6.9999, -7.0058, -6.0444, -6.5802, -6.4276, -6.8448, -6.4445, -6.5333, -6.8095, -6.6521, -6.6032, -6.7945, -6.8025, -6.7845, -6.6843, -6.6897, -6.7105, -6.7127, -6.7716, -6.7719, -6.1308, -6.2036, -6.2228, -6.2851, -6.2955, -6.3181, -6.3458, -6.3569, -6.4241, -6.4595, -6.4618, -6.4772, -6.5212, -6.5399, -6.5407, -6.5609, -6.5642, -6.5842, -6.5912, -6.5969, -6.6015, -6.6213, -6.6341, -6.6365, -6.6418, -6.6634, -6.6655, -6.6743, -6.6884, -6.7142, -6.6547, -6.606, -6.4878, -6.5117, -6.6507, -6.477, -6.6314, -6.6153, -6.1284, -6.241, -6.3011, -6.3881, -6.4079, -6.4536, -6.3571, -6.5747, -6.5882, -6.6541, -6.665, -6.6653, -6.7057, -6.7086, -6.7156, -6.7338, -6.7359, -6.7525, -6.7841, -6.7866, -6.8028, -6.8099, -6.8163, -6.8201, -6.8292, -6.8482, -6.851, -6.8535, -6.8594, -6.8655, -6.7153, -6.8246, -6.7581, -6.5901, -6.7906, -6.8103, -5.3816, -5.468, -5.2853, -5.5311, -5.5461, -5.3527, -5.7795, -5.7288, -5.1426, -5.8424, -5.0902, -6.0137, -5.7263, -5.5857, -6.077, -5.5953, -6.1757, -6.2392, -6.2451, -5.9027, -5.5986, -5.2948, -6.5714, -6.2461, -6.5763, -6.4331, -6.7613, -6.782, -6.0932, -6.7945, -6.1499, -5.2772, -5.1637, -5.7546, -4.8581, -6.1711, -5.9141, -5.4528, -6.0714, -6.3342, -6.4801, -6.512, -6.5965, -6.5993, -6.8738, -4.9997, -7.1204, -7.1238, -6.8524, -6.8737, -7.4905, -6.6729, -6.8627, -7.593, -6.3596, -7.1634, -7.4485, -7.3709, -7.0013, -8.3763, -8.5267, -8.5234, -9.7639, -9.6658, -9.7639, -9.7639, -9.7639, -9.7639, -9.7639, -9.7566, -9.7603, -9.7637, -9.7639, -9.7639, -9.7639, -6.3509, -6.6994, -6.7677, -6.4715, -5.9923, -5.5554, -7.2843, -5.7812, -6.784, -7.0834, -6.9577, -7.1678, -7.7855, -7.9391, -7.9146, -7.6374, -8.2148, -8.2749, -7.6373, -8.5479, -9.2596, -9.5476, -9.7591, -9.7591, -9.7412, -8.6935, -9.7591, -9.7591, -9.7591, -9.7591, -8.3978, -9.3422, -9.4649, -9.4104, -9.3732, -9.7227, -5.6069, -5.9374, -6.5596, -6.8419, -6.9351, -6.9366, -6.8918, -7.0965, -7.2772, -7.1834, -7.3041, -6.9895, -7.3006, -7.0923, -7.0823, -8.0774, -7.6957, -7.715, -8.3301, -7.7514, -8.5341, -7.1428, -8.5227, -8.2425, -9.409, -9.7577, -9.7577, -9.7577, -9.7577, -9.7577, -8.4622, -8.7087, -9.3702, -9.6808, -9.6796, -5.6256, -6.1097, -6.9599, -7.1052, -6.7572, -6.4967, -6.9614, -6.9123, -7.2062, -7.5672, -7.2459, -7.1493, -7.3318, -8.7509, -8.3287, -9.7526, -9.2266, -9.7518, -9.7526, -9.7526, -9.7526, -9.7526, -9.7526, -9.7526, -9.7526, -9.7526, -9.7526, -9.7526, -9.7526, -9.7526, -9.6795, -9.7236, -9.7519, -9.7522, -9.7525, -9.7525, -9.7525, -9.7526, -9.7526, -9.7526, -9.7526, -9.7526, -9.7526, -5.8332, -6.7569, -6.9362, -7.043, -7.2695, -6.858, -7.2313, -7.0334, -7.4085, -7.7577, -7.5745, -8.0449, -8.9487, -8.4684, -8.9653, -9.7481, -9.7481, -9.7481, -9.7481, -9.6834, -9.7481, -9.7481, -9.7481, -9.7481, -9.7481, -9.7481, -9.7481, -9.7481, -9.7481, -9.7481, -9.7479, -9.7478, -9.748, -9.748, -9.7481, -9.7481, -9.7481, -9.7481, -9.7481, -9.7481, -9.7481, -9.7481, -9.7481, -9.7481, -6.7698, -5.752, -7.3616, -7.0787, -7.1858, -8.0442, -6.8641, -7.9791, -7.9678, -8.0966, -6.5701, -8.6953, -8.1656, -9.7478, -7.8846, -9.7472, -9.7478, -9.7478, -9.7478, -9.7478, -9.7478, -9.7478, -9.7478, -9.7478, -9.7478, -9.7478, -9.7478, -9.7478, -9.7478, -9.7478, -8.308, -9.6418, -9.6578, -9.6948, -9.7411, -9.7465, -9.7454, -9.7477, -9.7478, -9.7478, -9.7478, -9.7478, -9.7478, -9.7478, -9.7478, -6.3573, -6.5839, -6.458, -6.7373, -7.1897, -6.7914, -8.1315, -8.1878, -8.1878, -8.6761, -8.6761, -8.7139, -8.6899, -9.7462, -9.7462, -9.7462, -9.7462, -9.7462, -9.7462, -9.7462, -9.7462, -9.7462, -9.7462, -9.7462, -9.7462, -9.7462, -9.7462, -9.7462, -9.7462, -9.7462, -8.8707, -8.864, -8.5593, -8.5232, -9.7462, -9.7462, -9.7462, -9.7462, -9.7462, -9.7462, -9.7462, -9.7462, -9.7462, -9.7462, -9.7462, -9.7462, -9.7462, -6.8482, -7.0905, -7.3298, -6.7736, -7.4135, -7.9429, -7.832, -8.3377, -7.5156, -8.659, -8.5078, -9.7432, -9.7432, -9.7432, -9.7432, -9.7432, -9.7432, -9.7432, -9.7432, -9.7432, -9.7432, -9.7432, -9.7432, -9.7432, -9.7432, -9.7432, -9.7432, -9.7432, -9.7432, -9.7432, -8.6912, -8.2128, -9.7431, -9.7431, -9.7432, -9.7432, -9.7432, -9.7432, -9.7432, -9.7432, -9.7432, -9.7432, -9.7432, -9.7432, -9.7432, -9.7432, -9.7432, -9.7432, -9.7432, -6.8006, -6.2498, -7.0947, -6.9468, -7.6017, -9.7423, -9.7423, -9.7423, -9.7423, -9.7423, -9.7423, -9.7423, -9.7423, -9.7423, -9.7423, -9.7423, -9.7423, -9.7423, -9.7423, -9.7423, -9.7423, -9.7423, -9.7423, -9.7423, -9.7423, -9.7423, -9.7423, -9.7423, -9.7423, -9.7423, -9.7423, -9.7423, -9.7423, -9.7423, -9.7423, -9.7423, -9.7423, -9.7423, -9.7423, -9.7423, -9.7423, -9.7423, -9.7423, -9.7423, -9.7423, -9.7423, -9.7423, -9.7423, -9.7423, -9.7423, -9.7423, -9.7423, -9.7423, -9.7423, -9.7423, -6.466, -7.2517, -7.2024, -7.7563, -7.6008, -8.1049, -8.4489, -8.6498, -9.7415, -9.7415, -9.7415, -9.7415, -9.7415, -9.7415, -9.7415, -9.7415, -9.7415, -9.7415, -9.7415, -9.7415, -9.7415, -9.7415, -9.7415, -9.7415, -9.7415, -9.7415, -9.7415, -9.7415, -9.7415, -9.7415, -9.4177, -8.7569, -9.7415, -9.7415, -9.7415, -9.7415, -9.7415, -9.7415, -9.7415, -9.7415, -9.7415, -9.7415, -9.7415, -9.7415, -9.7415, -9.7415, -9.7415, -9.7415, -9.7415, -9.7415, -9.7415, -6.8208, -6.2469, -6.7926, -9.4354, -9.7413, -9.7413, -9.7413, -9.7413, -9.7413, -9.7413, -9.7413, -9.7413, -9.7413, -9.7413, -9.7413, -9.7413, -9.7413, -9.7413, -9.7413, -9.7413, -9.7413, -9.7413, -9.7413, -9.7413, -9.7413, -9.7413, -9.7413, -9.7413, -9.7413, -9.7413, -9.7413, -9.7413, -9.7413, -9.7413, -9.7413, -9.7413, -9.7413, -9.7413, -9.7413, -9.7413, -9.7413, -9.7413, -9.7413, -9.7413, -9.7413, -9.7413, -9.7413, -9.7413, -9.7413, -9.7413, -9.7413, -9.7413, -9.7413, -9.7413, -9.7413, -6.7799, -7.0341, -7.2481, -7.9515, -9.7401, -9.7401, -9.7401, -9.7401, -9.7401, -9.7401, -9.7401, -9.7401, -9.7401, -9.7401, -9.7401, -9.7401, -9.7401, -9.7401, -9.7401, -9.7401, -9.7401, -9.7401, -9.7401, -9.7401, -9.7401, -9.7401, -9.7401, -9.7401, -9.7401, -9.7401, -9.7401, -9.7401, -9.7401, -9.7401, -9.7401, -9.7401, -9.7401, -9.7401, -9.7401, -9.7401, -9.7401, -9.7401, -9.7401, -9.7401, -9.7401, -9.7401, -9.7401, -9.7401, -9.7401, -9.7401, -9.7401, -9.7401, -9.7401, -9.7401, -9.7401, -9.7401, -7.2325, -7.577, -6.8881, -7.2322, -9.74, -9.74, -9.74, -9.74, -9.74, -9.74, -9.74, -9.74, -9.74, -9.74, -9.74, -9.74, -9.74, -9.74, -9.74, -9.74, -9.74, -9.74, -9.74, -9.74, -9.74, -9.74, -9.74, -9.74, -9.74, -9.74, -9.6089, -9.74, -9.74, -9.74, -9.74, -9.74, -9.74, -9.74, -9.74, -9.74, -9.74, -9.74, -9.74, -9.74, -9.74, -9.74, -9.74, -9.74, -9.74, -9.74, -9.74, -9.74, -9.74, -9.74, -9.74, -9.74, -6.8506, -6.9295, -9.7392, -9.7392, -9.7392, -9.7392, -9.7392, -9.7392, -9.7392, -9.7392, -9.7392, -9.7392, -9.7392, -9.7392, -9.7392, -9.7392, -9.7392, -9.7392, -9.7392, -9.7392, -9.7392, -9.7392, -9.7392, -9.7392, -9.7392, -9.7392, -9.7392, -9.7392, -9.7392, -9.7392, -9.7392, -9.7392, -9.7392, -9.7392, -9.7392, -9.7392, -9.7392, -9.7392, -9.7392, -9.7392, -9.7392, -9.7392, -9.7392, -9.7392, -9.7392, -9.7392, -9.7392, -9.7392, -9.7392, -9.7392, -9.7392, -9.7392, -9.7392, -9.7392, -9.7392, -9.7392, -9.7392, -6.9767, -9.7381, -9.7381, -9.7381, -9.7381, -9.7381, -9.7381, -9.7381, -9.7381, -9.7381, -9.7381, -9.7381, -9.7381, -9.7381, -9.7381, -9.7381, -9.7381, -9.7381, -9.7381, -9.7381, -9.7381, -9.7381, -9.7381, -9.7381, -9.7381, -9.7381, -9.7381, -9.7381, -9.7381, -9.7381, -9.7381, -9.7381, -9.7381, -9.7381, -9.7381, -9.7381, -9.7381, -9.7381, -9.7381, -9.7381, -9.7381, -9.7381, -9.7381, -9.7381, -9.7381, -9.7381, -9.7381, -9.7381, -9.7381, -9.7381, -9.7381, -9.7381, -9.7381, -9.7381, -9.7381, -9.7381, -9.7381, -9.7381, -9.7381], \"loglift\": [30.0, 29.0, 28.0, 27.0, 26.0, 25.0, 24.0, 23.0, 22.0, 21.0, 20.0, 19.0, 18.0, 17.0, 16.0, 15.0, 14.0, 13.0, 12.0, 11.0, 10.0, 9.0, 8.0, 7.0, 6.0, 5.0, 4.0, 3.0, 2.0, 1.0, 0.4642, 0.4625, 0.4609, 0.4606, 0.4606, 0.4604, 0.4598, 0.4596, 0.4593, 0.4591, 0.459, 0.4588, 0.4584, 0.4582, 0.4582, 0.4582, 0.4582, 0.4582, 0.4577, 0.4576, 0.4574, 0.4572, 0.4572, 0.4571, 0.457, 0.457, 0.4561, 0.4557, 0.4557, 0.4554, 0.4534, 0.4514, 0.4544, 0.4455, 0.3534, 0.3788, 0.4239, 0.427, 0.2434, 0.3092, 0.3568, 0.2361, 1.5711, 1.5683, 1.5653, 1.5652, 1.564, 1.5629, 1.5592, 1.5581, 1.5577, 1.5576, 1.5566, 1.555, 1.5547, 1.5539, 1.553, 1.5524, 1.5523, 1.5514, 1.5511, 1.5508, 1.5504, 1.5499, 1.5498, 1.5485, 1.5483, 1.5478, 1.5478, 1.5477, 1.5476, 1.5474, 1.4789, 1.4985, 1.4269, 1.4995, 1.3229, 1.341, 1.4578, 1.3541, 1.0942, 1.334, 1.3329, 1.2776, 0.9998, 0.7691, 0.8017, 0.7326, 0.9276, 0.6748, 2.9182, 2.913, 2.9116, 2.9069, 2.905, 2.9042, 2.902, 2.901, 2.8952, 2.892, 2.8918, 2.8903, 2.8861, 2.8843, 2.8842, 2.8822, 2.8819, 2.8798, 2.8791, 2.8785, 2.878, 2.8759, 2.8745, 2.8743, 2.8737, 2.8713, 2.8711, 2.8701, 2.8685, 2.8656, 2.8625, 2.8585, 2.8455, 2.7705, 2.8588, 2.5869, 2.6831, 2.358, 2.9295, 2.9213, 2.9166, 2.9093, 2.9075, 2.9033, 2.8941, 2.8915, 2.89, 2.8829, 2.8817, 2.8817, 2.8771, 2.8767, 2.8759, 2.8738, 2.8735, 2.8696, 2.8676, 2.8673, 2.8653, 2.8644, 2.8635, 2.8631, 2.8619, 2.8594, 2.859, 2.8587, 2.8579, 2.8571, 2.8491, 2.8461, 2.8127, 2.5557, 2.7875, 2.7977, 4.5353, 4.5169, 4.5152, 4.5069, 4.5034, 4.4791, 4.4531, 4.451, 4.4426, 4.4376, 4.4275, 4.3915, 4.3908, 4.3873, 4.373, 4.3723, 4.3365, 4.3215, 4.3197, 4.2585, 4.2555, 4.2482, 4.198, 4.1383, 4.1207, 4.1198, 4.1155, 4.1058, 4.0993, 4.0989, 4.088, 3.9647, 3.6932, 3.7523, 3.2917, 3.9066, 3.4299, 2.4425, 1.8902, 4.6487, 4.5752, 4.5388, 4.5084, 4.3666, 4.3364, 4.158, 4.0235, 4.0001, 3.9229, 3.8672, 3.8328, 3.8203, 3.8162, 3.809, 3.7037, 3.5539, 3.4249, 3.3578, 3.3492, 2.9699, 2.6323, 1.7711, 1.7295, 1.6663, 1.6628, 1.6407, 1.6203, 1.6028, 1.5782, 1.4656, 0.2778, 1.3809, 0.416, 0.9331, 1.3982, 4.661, 4.4588, 4.3769, 4.3273, 4.3254, 4.2007, 4.0184, 3.8311, 3.7363, 3.5372, 3.5336, 3.2391, 3.1733, 3.1409, 3.1277, 3.1045, 2.8227, 2.608, 1.9271, 1.815, 1.766, 1.7545, 1.7343, 1.6676, 1.6634, 1.6504, 1.6429, 1.6252, 1.6076, 1.587, 0.748, 0.9791, 0.8691, 0.4206, 0.249, 1.0034, 4.9938, 4.8031, 4.5142, 4.3622, 4.308, 4.2587, 4.197, 4.0864, 4.055, 4.0021, 3.9981, 3.9448, 3.9202, 3.7557, 3.46, 3.4159, 3.1914, 3.0235, 2.8359, 2.7754, 2.5996, 2.4355, 2.3093, 2.163, 1.8414, 1.669, 1.6469, 1.6443, 1.6265, 1.609, 1.5129, 1.3061, 1.394, 1.1926, 1.0492, 4.7087, 4.6273, 4.2905, 4.1726, 4.1433, 4.1012, 3.9684, 3.897, 3.6616, 3.5949, 3.3741, 3.3527, 3.3345, 2.3324, 2.272, 1.7408, 1.7321, 1.6749, 1.652, 1.6494, 1.6317, 1.6141, 1.5936, 1.5896, 1.5809, 1.5796, 1.5786, 1.5769, 1.5757, 1.5738, 1.4178, 0.936, 0.165, 0.6644, 1.4135, 1.4657, 1.3325, 1.2987, 1.2491, 1.3657, 1.1379, 1.2928, 1.1038, 4.4544, 4.2028, 3.888, 3.8239, 3.7827, 3.7338, 3.5639, 3.5282, 3.3715, 3.2976, 3.0657, 2.693, 2.4559, 2.1992, 1.8282, 1.7453, 1.6786, 1.6539, 1.6362, 1.6193, 1.6186, 1.5981, 1.5941, 1.5854, 1.5841, 1.5831, 1.5814, 1.5802, 1.5783, 1.5781, 1.5754, 1.246, 0.5113, 0.7087, 0.9595, 0.5263, 1.2267, 1.303, 0.5414, -0.2395, 1.1153, 1.2908, -0.2385, 1.1929, 4.4371, 4.1969, 4.0052, 3.6553, 3.3946, 3.0338, 2.9982, 2.9855, 2.6625, 2.6333, 2.5603, 2.4727, 2.0944, 1.7455, 1.7412, 1.6794, 1.6568, 1.6541, 1.6364, 1.5983, 1.5943, 1.5856, 1.5843, 1.5833, 1.5817, 1.5804, 1.5785, 1.5783, 1.5755, 1.5741, 1.5613, 1.3937, 0.6464, 0.3433, 1.242, 1.4764, 1.148, 0.2692, 1.5264, 1.0135, 1.5597, 1.3179, 0.2754, 0.254, 1.4212, 4.6881, 3.783, 3.7496, 3.6104, 3.3972, 3.3801, 2.6522, 2.5509, 2.163, 2.0744, 2.0194, 1.907, 1.7685, 1.7471, 1.6804, 1.6584, 1.6557, 1.638, 1.6205, 1.5999, 1.5959, 1.5872, 1.5859, 1.5849, 1.5833, 1.582, 1.5801, 1.5799, 1.5771, 1.5757, 1.5019, 1.3694, 1.1728, 1.1121, 0.8996, 0.7197, 1.3758, 0.6049, 0.9957, 1.3461, 0.5637, 1.3096, 0.9281, 1.3889, 0.9996, 1.4241, 0.7942, 4.374, 3.7973, 3.6944, 3.509, 3.4193, 3.1324, 3.1027, 2.7243, 2.5619, 2.5051, 2.1939, 1.7502, 1.6835, 1.6614, 1.6588, 1.6411, 1.6235, 1.603, 1.599, 1.5903, 1.589, 1.588, 1.5864, 1.5851, 1.5832, 1.583, 1.5801, 1.5788, 1.5781, 1.5766, 1.4502, 0.7267, 1.1385, 0.5879, 0.1953, -0.5512, 1.4142, 0.8163, 0.7218, 1.3414, 0.7237, 1.2372, 0.4096, 0.4225, 1.2826, 0.2559, 0.9777, 0.2587, 0.2093, 3.9203, 3.8568, 3.8251, 3.715, 2.476, 1.7511, 1.6844, 1.6623, 1.6597, 1.6419, 1.6244, 1.6038, 1.5998, 1.5912, 1.5898, 1.5888, 1.5872, 1.586, 1.584, 1.5838, 1.581, 1.5796, 1.579, 1.5774, 1.5714, 1.5707, 1.567, 1.5657, 1.5652, 1.5644, 1.5119, 1.507, 1.4405, 1.5463, 1.4436, 1.3787, 1.2432, 1.3594, 1.3596, 1.5621, 1.3493, 1.3417, 0.9701, 1.3161, 1.4452, 1.2734, 1.4371, 1.1675, 1.5225, 1.4457, 1.4598, 1.4062, 1.3805, 1.4922, 1.3808, 4.0466, 3.895, 3.8948, 3.6483, 3.267, 3.0659, 2.2186, 2.1468, 1.7518, 1.6851, 1.6604, 1.6427, 1.6252, 1.6046, 1.6006, 1.5919, 1.5906, 1.5896, 1.588, 1.5867, 1.5848, 1.5846, 1.5818, 1.5804, 1.5797, 1.5782, 1.5722, 1.5715, 1.5677, 1.5665, 1.5652, 1.259, 1.4122, 1.4633, 1.187, 1.4522, 0.834, 1.3412, 1.431, 0.9073, 1.3721, 1.1579, 1.0465, 1.2926, 1.4834, 1.5348, 1.3322, 1.3378, 0.7459, 0.0563, 1.2078, 4.4143, 4.208, 3.7219, 1.8424, 1.7521, 1.6854, 1.6633, 1.6607, 1.643, 1.6254, 1.6049, 1.6009, 1.5922, 1.5909, 1.5899, 1.5883, 1.587, 1.5851, 1.5849, 1.582, 1.5807, 1.58, 1.5785, 1.5725, 1.5718, 1.568, 1.5668, 1.5663, 1.5654, 1.5653, 1.4115, 1.41, 1.5187, 1.5441, 1.2355, 1.4333, 1.2417, 1.4417, 1.3187, 1.1286, 1.5634, 1.1299, 1.1027, 1.4053, 1.0714, 1.417, 1.5308, 1.2989, 1.1755, 0.9711, 0.9586, 1.2689, 0.4591, 0.898, 1.4971, 4.3861, 3.7267, 3.6915, 3.1994, 1.7533, 1.6866, 1.6645, 1.6619, 1.6441, 1.6266, 1.606, 1.602, 1.5934, 1.592, 1.591, 1.5894, 1.5882, 1.5862, 1.586, 1.5832, 1.5818, 1.5812, 1.5796, 1.5736, 1.5729, 1.5692, 1.5679, 1.5674, 1.5666, 1.5665, 1.3797, 1.346, 1.293, 1.482, 1.1549, 1.4222, 1.3368, 1.3442, 1.3235, 0.7602, 1.2424, 1.4113, 0.6443, 1.2622, 0.9997, 0.6112, 1.1697, 1.2855, 1.3309, 1.322, 1.3831, 1.0436, 0.5993, 1.334, 1.2778, 1.0428, 3.6517, 3.4815, 3.463, 3.2847, 1.7534, 1.6867, 1.6646, 1.662, 1.6442, 1.6267, 1.6061, 1.6021, 1.5935, 1.5921, 1.5911, 1.5895, 1.5883, 1.5863, 1.5861, 1.5833, 1.5819, 1.5813, 1.5797, 1.5737, 1.573, 1.5693, 1.568, 1.5675, 1.5667, 1.5665, 1.1168, 1.0019, 1.2754, 1.2287, 1.2997, 0.9323, 0.7828, 1.1094, 1.3524, 1.0184, 1.3244, 1.3639, 1.1284, 0.8627, 0.0103, 0.7007, 1.2129, 1.251, 1.1816, 1.2392, 1.1231, 1.2093, 1.1189, 1.1044, 1.1845, 1.0426, 3.9934, 3.8741, 1.7542, 1.6875, 1.6654, 1.6628, 1.6451, 1.6275, 1.6069, 1.603, 1.5943, 1.593, 1.592, 1.5903, 1.5891, 1.5872, 1.587, 1.5841, 1.5828, 1.5821, 1.5805, 1.5746, 1.5738, 1.5701, 1.5689, 1.5684, 1.5675, 1.5674, 1.5668, 1.5655, 1.5225, 1.5071, 1.4585, 1.5182, 1.4979, 1.4419, 1.4201, 1.1907, 1.4484, 1.4534, 1.4316, 1.3512, 1.3429, 1.4373, 1.4318, 1.3942, 1.3825, 1.473, 1.2443, 0.3441, 0.5347, 1.3117, 1.4226, 1.2395, 1.3894, 1.0585, 1.2762, 3.5632, 1.7553, 1.6886, 1.6665, 1.6638, 1.6461, 1.6286, 1.608, 1.604, 1.5953, 1.594, 1.593, 1.5914, 1.5901, 1.5882, 1.588, 1.5852, 1.5838, 1.5832, 1.5816, 1.5756, 1.5749, 1.5711, 1.5699, 1.5694, 1.5686, 1.5684, 1.5678, 1.5665, 1.5663, 1.2775, 1.4218, 1.392, 1.3142, 0.2722, 1.2493, 1.0756, 1.0372, 0.8953, 1.4258, 1.0493, 0.567, 1.0448, 0.0591, 1.3799, 1.3799, 1.3419, 1.0884, 1.3327, 1.3054, 1.1855, 1.2688, 1.28, 0.931, 1.0964, 1.2204, 1.26, 1.2397, 0.9971]}, \"token.table\": {\"Topic\": [3, 1, 1, 2, 2, 3, 1, 2, 4, 1, 1, 2, 1, 2, 3, 3, 4, 4, 5, 1, 4, 4, 3, 1, 3, 4, 3, 1, 2, 3, 1, 3, 1, 3, 3, 4, 3, 4, 4, 3, 3, 4, 4, 1, 1, 2, 1, 4, 4, 2, 3, 1, 2, 1, 3, 2, 1, 2, 4, 1, 2, 3, 1, 2, 4, 4, 1, 2, 1, 4, 2, 1, 1, 1, 2, 4, 1, 4, 1, 4, 1, 3, 4, 2, 1, 2, 4, 2, 4, 3, 3, 4, 3, 1, 2, 3, 3, 4, 1, 3, 4, 4, 2, 4, 2, 4, 4, 5, 1, 3, 1, 4, 2, 2, 2, 2, 3, 5, 3, 3, 3, 2, 4, 5, 2, 1, 2, 2, 1, 4, 5, 5, 3, 4, 5, 2, 2, 5, 1, 1, 2, 3, 2, 5, 1, 5, 2, 5, 5, 5, 1, 5, 4, 2, 1, 1, 2, 5, 1, 2, 5, 2, 5, 3, 1, 2, 5, 3, 4, 1, 2, 5, 4, 3, 4, 1, 2, 2, 3, 3, 3, 1, 1, 1, 4, 2, 3, 4, 5, 2, 1, 4, 3, 1, 2, 1, 4, 5, 3, 3, 3, 1, 1, 2, 2, 3, 4, 1, 4, 4, 3, 4, 3, 3, 1, 5, 2, 3, 3, 4, 4, 1, 2, 3, 4, 2, 3, 4, 2, 1, 1, 2, 2, 4, 3, 1, 2, 4, 1, 2, 5, 4, 1, 1, 1, 2, 4, 5, 5, 2, 3, 2, 3, 3, 1, 2, 3, 1, 3, 5, 1, 3, 1, 4, 2, 4, 4, 2, 4, 2, 5, 4, 1, 3, 3, 4, 3, 1, 4, 4, 4, 3, 1, 2, 5, 2, 6, 3, 2, 2, 4, 2, 4, 1, 1, 1, 1, 1, 4, 1, 2, 3, 4, 2, 5, 1, 2, 4, 5, 3, 5, 4, 5, 5, 4], \"Freq\": [1.1627083703119683, 0.990381032338068, 0.9764174440240346, 0.9536725633258455, 0.9804718111382451, 0.8673225145071616, 0.17861613737778764, 0.8037726182000444, 1.0256521662112317, 0.9720301378589565, 0.983946073363218, 0.9120216349718426, 0.4497804189430539, 0.5247438221002295, 1.041961442726515, 1.063340953477263, 0.7659158166264848, 1.086573483899461, 0.8088176882650845, 0.9816304602114075, 1.1223512241659952, 0.9680956351769265, 0.9052111736132585, 1.0035669469579973, 1.0314576415028873, 1.073907620516803, 0.8600536032342923, 0.9423537635925163, 0.04487398874250078, 0.9490045029487074, 0.9798566494865163, 0.9175895608133671, 1.0022106067386614, 1.063141945438298, 0.960896229642882, 0.994761065369748, 0.5869022358019784, 0.2934511179009892, 0.5829883552171533, 0.7840906773816394, 1.0580943383752268, 1.061639658735019, 1.0108166587719156, 0.9806069931967052, 0.203805528603619, 0.815222114414476, 1.0040617702707888, 1.2847098129777184, 0.875030425289975, 1.0156939997814236, 0.9219490681743376, 0.9154215252702901, 0.09469877847623691, 0.9838954009759556, 0.9155966659766221, 1.0392506412532412, 0.4430570001151575, 0.5907426668202099, 1.1340716122827281, 0.7864802959309829, 0.19662007398274572, 0.7683643963776638, 0.5815513056849515, 0.40708591397946603, 1.0143649878733851, 1.0555049183083978, 0.21552033067371124, 0.7543211573579893, 1.0295200723206048, 0.8775397045212878, 1.028234512551545, 0.972405379173243, 0.761080353744848, 0.8767497245889617, 0.08767497245889617, 0.7547448670039137, 1.0090258583501748, 0.986058427637396, 0.5077886903293335, 0.8882537160653937, 1.0013928613706082, 0.9235493686982629, 1.0564968192865063, 0.9274851332490267, 1.0001035941680871, 0.7971545371563427, 1.0267098713841145, 1.0365438899300723, 1.0045801291000753, 1.0152728942151428, 0.7577109288785969, 1.0111847990467497, 0.7951327262057973, 0.06287156629397252, 0.8802019281156152, 0.8760993124172783, 0.9280096506350943, 0.9885961841297473, 1.0051496917661513, 0.8857002070366352, 1.0594908544387187, 1.11994512660742, 0.857366810276956, 1.1912176982991212, 0.9912081042512497, 1.0767923869331482, 0.7412097364426451, 1.3109597905767427, 1.1240884922587764, 0.9995628965906103, 0.318489647656624, 0.636979295313248, 1.0460459691856192, 0.6520430012976903, 0.9252910032697763, 1.0038976200574594, 0.9698800285678861, 0.6129638028214127, 1.1815625057139796, 0.7603126291547321, 0.8420470103429649, 0.6272267969284567, 0.31361339846422837, 1.0990459781196245, 0.9691827858662766, 0.10956908858863003, 0.8765527087090402, 0.9293800789524254, 0.9747280618212112, 1.0127065188457893, 1.1735088280955204, 0.6886498452479115, 0.5724715193401403, 0.5724715193401403, 0.7244883769573716, 0.9319514997121681, 0.9448978375640712, 1.1221746281074623, 1.0015737784798289, 0.23031712276211233, 0.8061099296673931, 0.7594870595006659, 0.9126916064221194, 0.9493057917135463, 0.35064432719755545, 0.35064432719755545, 1.0389108297566687, 0.9442447810884446, 0.7370935374212387, 0.9239540636639276, 0.456999200683315, 0.456999200683315, 0.7476244282935355, 1.0045584833060144, 0.9847261460132254, 0.7058272981397121, 0.11763788302328534, 0.2352757660465707, 0.9932980411351624, 0.7766848374184987, 0.38834241870924935, 0.47717637605162894, 0.23858818802581447, 1.0624428522943372, 1.0202493651057016, 0.9935322477815621, 0.9900830863004494, 0.7301012170020619, 1.3092940244928255, 0.7296145180429187, 0.18240362951072966, 0.09120181475536483, 0.951436353630979, 1.1934889188348314, 0.749678820636471, 0.17512124108959085, 0.8756062054479542, 1.0047295435681487, 0.8811735214699343, 0.9446559202579758, 0.9415743068702194, 0.9706272633477487, 0.9802249707638737, 1.135048930698349, 1.330575164553479, 0.996654701796317, 1.0092208008208297, 0.6113653692745781, 0.77736782284291, 0.9572027579947022, 0.6319414983273833, 1.0805687422651107, 1.0756324053955706, 0.37413188973634226, 0.5986110235781477, 0.9907736949637339, 0.4738237584370587, 0.4738237584370587, 1.050758147431481, 0.9926252824408649, 0.8325364311953273, 1.000435915555258, 0.8794585146660601, 0.10346570760777177, 0.7135538863166457, 0.7135538863166457, 0.9713519188254511, 0.9960114682746097, 1.2183970775502317, 0.9511336040136512, 1.068893684014922, 1.0902332970242448, 0.983108276597803, 1.0006575502282626, 0.8771677304357308, 0.09746308115952565, 1.0446493791193936, 0.9845778103216444, 1.0318709126085148, 0.9744002209015048, 1.1224763313029045, 0.834174685895972, 0.15889041636113754, 0.7036297098532466, 0.883143618996209, 0.8804333434560211, 0.827438514261805, 0.7560692394762463, 0.8754814330916445, 0.8132893129476694, 0.5595820104930819, 0.43523045260573034, 0.873120211961416, 0.9815431929687237, 0.8893282172354805, 0.582377749226529, 0.40766442445857026, 0.9419586352202206, 0.24075499482964535, 0.8025166494321512, 0.8792086572351797, 0.8085653207720054, 0.9878604214585527, 0.5863818444692566, 0.7953931622619688, 0.18355226821430048, 1.2622604600435015, 0.7862242318560436, 1.2488655938595747, 0.9450214912801919, 1.2341857548243902, 0.952727254733759, 0.7110550100757872, 0.9705320998258622, 0.13230378481004595, 0.9261264936703216, 0.9164314046051993, 1.0094364292572475, 0.6109502353744082, 0.9885122321244578, 1.0128187014150425, 0.7540537407687412, 1.2672894240542196, 0.7867402831816391, 0.9143480025543128, 0.8883068341811089, 0.8718587649357529, 0.9864915051859823, 1.098901321466606, 1.0336303900376091, 0.8412758570595136, 1.0800176159378194, 0.9752481657226395, 0.9397832261974456, 0.6566473347567368, 0.6566473347567368, 0.8756822047834699, 1.0093294413488616, 1.0861373530447922, 1.192423239852697, 0.8619533712336059, 0.8414802731573116, 0.5304848328203282, 0.4125993144158109, 0.9071439106585816, 0.6446131596653624, 0.3223065798326812, 0.7825019572289633, 0.9622508726822716, 1.0627903914500234, 1.1835316766362038, 0.9995251131591605, 1.0587632233282962, 0.9893808083091645, 0.9845300262528779, 1.0084332375570493, 0.9974939990039048, 0.9896225236654249, 0.7298745020315255, 0.9813801687403697, 0.04906900843701849, 0.5361211354969672, 0.5361211354969672, 0.984097995607651, 1.3163474335153573, 0.23190665663838667, 0.8116732982343533, 1.1171923191032018, 0.6467098363773172, 0.8575184022837185, 0.8957510474069301, 1.0451277475551914, 0.7283804875537243, 0.6325069635633965, 1.1281075953803166], \"Term\": [\"abduction\", \"action\", \"actor\", \"alex\", \"alice\", \"angela\", \"angeles\", \"angeles\", \"angels\", \"animation\", \"anime\", \"anthology\", \"approval\", \"approval\", \"ariana\", \"assert\", \"asylum\", \"atlantis\", \"avengers\", \"bachelor\", \"baltimore\", \"barbera\", \"barnes\", \"bbc\", \"beverly\", \"billie\", \"bonnie\", \"book\", \"book\", \"bravo\", \"british\", \"brooklyn\", \"brother\", \"bundy\", \"byrne\", \"cage\", \"cameron\", \"cameron\", \"cards\", \"cartel\", \"cassie\", \"ceo\", \"cha\", \"channel\", \"charlie\", \"charlie\", \"child\", \"chips\", \"choi\", \"cia\", \"cody\", \"comedy\", \"comedy\", \"comic\", \"conan\", \"confess\", \"consensus\", \"consensus\", \"continuation\", \"crime\", \"crime\", \"crimes\", \"critics\", \"critics\", \"cumberbatch\", \"curious\", \"daniel\", \"daniel\", \"daredevil\", \"data\", \"davis\", \"death\", \"defenders\", \"detective\", \"detective\", \"dexter\", \"disney\", \"dong\", \"doo\", \"dracula\", \"dvd\", \"elena\", \"eliza\", \"emma\", \"english\", \"enterprise\", \"eun\", \"exist\", \"federation\", \"fictitious\", \"flynn\", \"foreign\", \"forensic\", \"fox\", \"fox\", \"fuller\", \"gabriel\", \"galaxy\", \"game\", \"gina\", \"glitch\", \"gotham\", \"government\", \"grande\", \"greg\", \"grim\", \"gus\", \"hae\", \"hailey\", \"hampshire\", \"hanna\", \"hanna\", \"hannah\", \"happiness\", \"harry\", \"hbo\", \"heartbreak\", \"hee\", \"heiress\", \"hen\", \"henson\", \"holmes\", \"holmes\", \"hoon\", \"hope\", \"hospital\", \"hospital\", \"hotel\", \"house\", \"hudson\", \"hye\", \"hyun\", \"installment\", \"installment\", \"jae\", \"jake\", \"jane\", \"jang\", \"japanese\", \"jason\", \"jason\", \"jed\", \"jennifer\", \"jeong\", \"jin\", \"jin\", \"johnny\", \"joo\", \"joon\", \"jung\", \"kang\", \"kang\", \"kansas\", \"kate\", \"kill\", \"kim\", \"kim\", \"kim\", \"king\", \"korea\", \"korea\", \"korean\", \"korean\", \"kurtzman\", \"kutcher\", \"kyle\", \"kyung\", \"lapd\", \"laser\", \"lee\", \"lee\", \"lee\", \"lena\", \"levinson\", \"literature\", \"los\", \"los\", \"luke\", \"lynch\", \"maddie\", \"mae\", \"man\", \"manga\", \"manu\", \"martindale\", \"marvel\", \"maya\", \"mcgregor\", \"mcu\", \"medical\", \"medina\", \"mehta\", \"mei\", \"metacritic\", \"metacritic\", \"million\", \"min\", \"min\", \"mir\", \"moonlight\", \"morse\", \"music\", \"netflix\", \"netflix\", \"nfl\", \"nfl\", \"nominated\", \"novel\", \"novelization\", \"nuclear\", \"nypd\", \"oregon\", \"outer\", \"paranormal\", \"park\", \"park\", \"parker\", \"peel\", \"perpetrator\", \"peterson\", \"pill\", \"pilot\", \"pilot\", \"plastic\", \"pole\", \"producers\", \"queer\", \"ram\", \"rebecca\", \"recess\", \"recur\", \"recur\", \"revival\", \"rhys\", \"ripper\", \"rotten\", \"rotten\", \"rush\", \"sam\", \"sam\", \"sang\", \"scam\", \"school\", \"scooby\", \"seasons\", \"seasons\", \"seitz\", \"seo\", \"seung\", \"seventeen\", \"shatner\", \"sheriff\", \"sherlock\", \"shocking\", \"showrunner\", \"showrunner\", \"solid\", \"song\", \"sonny\", \"soo\", \"special\", \"spider\", \"splinter\", \"stargate\", \"staton\", \"steele\", \"stevie\", \"supernatural\", \"sutherland\", \"syfy\", \"tae\", \"tapes\", \"team\", \"teddy\", \"terrible\", \"terrible\", \"tess\", \"theme\", \"thread\", \"tin\", \"tip\", \"titans\", \"tomatoes\", \"tomatoes\", \"transformers\", \"trek\", \"trek\", \"twilight\", \"twin\", \"unbelievable\", \"unforgettable\", \"vampire\", \"vega\", \"version\", \"video\", \"voice\", \"voiced\", \"volume\", \"wan\", \"war\", \"war\", \"ward\", \"ward\", \"wayward\", \"webtoon\", \"weighted\", \"weighted\", \"whedon\", \"woo\", \"woody\", \"yeon\", \"yogi\", \"yoo\", \"yoon\", \"zoey\"]}, \"R\": 30, \"lambda.step\": 0.01, \"plot.opts\": {\"xlab\": \"PC1\", \"ylab\": \"PC2\"}, \"topic.order\": [14, 15, 1, 4, 5, 3, 8, 13, 19, 2, 7, 6, 17, 18, 11, 20, 12, 9, 16, 10]};\n",
       "\n",
       "function LDAvis_load_lib(url, callback){\n",
       "  var s = document.createElement('script');\n",
       "  s.src = url;\n",
       "  s.async = true;\n",
       "  s.onreadystatechange = s.onload = callback;\n",
       "  s.onerror = function(){console.warn(\"failed to load library \" + url);};\n",
       "  document.getElementsByTagName(\"head\")[0].appendChild(s);\n",
       "}\n",
       "\n",
       "if(typeof(LDAvis) !== \"undefined\"){\n",
       "   // already loaded: just create the visualization\n",
       "   !function(LDAvis){\n",
       "       new LDAvis(\"#\" + \"ldavis_el3756812841007931684314933789\", ldavis_el3756812841007931684314933789_data);\n",
       "   }(LDAvis);\n",
       "}else if(typeof define === \"function\" && define.amd){\n",
       "   // require.js is available: use it to load d3/LDAvis\n",
       "   require.config({paths: {d3: \"https://d3js.org/d3.v5\"}});\n",
       "   require([\"d3\"], function(d3){\n",
       "      window.d3 = d3;\n",
       "      LDAvis_load_lib(\"https://cdn.jsdelivr.net/gh/bmabey/pyLDAvis@3.4.0/pyLDAvis/js/ldavis.v3.0.0.js\", function(){\n",
       "        new LDAvis(\"#\" + \"ldavis_el3756812841007931684314933789\", ldavis_el3756812841007931684314933789_data);\n",
       "      });\n",
       "    });\n",
       "}else{\n",
       "    // require.js not available: dynamically load d3 & LDAvis\n",
       "    LDAvis_load_lib(\"https://d3js.org/d3.v5.js\", function(){\n",
       "         LDAvis_load_lib(\"https://cdn.jsdelivr.net/gh/bmabey/pyLDAvis@3.4.0/pyLDAvis/js/ldavis.v3.0.0.js\", function(){\n",
       "                 new LDAvis(\"#\" + \"ldavis_el3756812841007931684314933789\", ldavis_el3756812841007931684314933789_data);\n",
       "            })\n",
       "         });\n",
       "}\n",
       "</script>"
      ],
      "text/plain": [
       "PreparedData(topic_coordinates=              x         y  topics  cluster       Freq\n",
       "topic                                                \n",
       "13    -0.284666  0.085698       1        1  62.529605\n",
       "14     0.180396  0.226540       2        1  20.430711\n",
       "0      0.056674 -0.148503       3        1   5.034648\n",
       "3      0.056655 -0.142042       4        1   4.974636\n",
       "4      0.001848 -0.008730       5        1   0.884138\n",
       "2     -0.000155 -0.001566       6        1   0.454414\n",
       "7     -0.000636 -0.001851       7        1   0.438642\n",
       "12    -0.000651 -0.001493       8        1   0.436483\n",
       "18    -0.000615 -0.001193       9        1   0.422670\n",
       "1     -0.000650 -0.001220      10        1   0.413470\n",
       "6     -0.000457 -0.000876      11        1   0.410823\n",
       "5     -0.000576 -0.000943      12        1   0.408544\n",
       "16    -0.000717 -0.000733      13        1   0.400299\n",
       "17    -0.000835 -0.000744      14        1   0.399279\n",
       "10    -0.000900 -0.000402      15        1   0.396940\n",
       "19    -0.000910 -0.000525      16        1   0.396936\n",
       "11    -0.000944 -0.000399      17        1   0.393932\n",
       "8     -0.000902 -0.000422      18        1   0.393448\n",
       "15    -0.000968 -0.000333      19        1   0.391592\n",
       "9     -0.000992 -0.000261      20        1   0.388789, topic_info=               Term       Freq      Total Category  logprob  loglift\n",
       "8708            lee  10.000000  10.000000  Default  30.0000  30.0000\n",
       "8416            kim   8.000000   8.000000  Default  29.0000  29.0000\n",
       "11035          park  10.000000  10.000000  Default  28.0000  28.0000\n",
       "641           anime  41.000000  41.000000  Default  27.0000  27.0000\n",
       "6900            hbo  14.000000  14.000000  Default  26.0000  26.0000\n",
       "...             ...        ...        ...      ...      ...      ...\n",
       "4846         eisner   0.006751   0.580100  Topic20  -9.7381   1.0964\n",
       "14709  substitution   0.006751   0.512411  Topic20  -9.7381   1.2204\n",
       "6406         gloves   0.006751   0.492530  Topic20  -9.7381   1.2600\n",
       "1277       barbecue   0.006751   0.502622  Topic20  -9.7381   1.2397\n",
       "8589       landlady   0.006751   0.640641  Topic20  -9.7381   0.9971\n",
       "\n",
       "[957 rows x 6 columns], token_table=       Topic      Freq       Term\n",
       "term                             \n",
       "15         3  1.162708  abduction\n",
       "141        1  0.990381     action\n",
       "150        1  0.976417      actor\n",
       "416        2  0.953673       alex\n",
       "434        2  0.980472      alice\n",
       "...      ...       ...        ...\n",
       "16850      5  0.895751       yeon\n",
       "16859      4  1.045128       yogi\n",
       "16863      5  0.728380        yoo\n",
       "16864      5  0.632507       yoon\n",
       "16926      4  1.128108       zoey\n",
       "\n",
       "[315 rows x 3 columns], R=30, lambda_step=0.01, plot_opts={'xlab': 'PC1', 'ylab': 'PC2'}, topic_order=[14, 15, 1, 4, 5, 3, 8, 13, 19, 2, 7, 6, 17, 18, 11, 20, 12, 9, 16, 10])"
      ]
     },
     "execution_count": 36,
     "metadata": {},
     "output_type": "execute_result"
    }
   ],
   "source": [
    "# Topic Modelling Visualization for the show description texts\n",
    "pyLDAvis.sklearn.prepare(best_lda_model2, dtm_tfidf, tfidf_vectorizer)"
   ]
  },
  {
   "cell_type": "code",
   "execution_count": 37,
   "metadata": {},
   "outputs": [],
   "source": [
    "lda_results2 = best_lda_model2.fit_transform(dtm_tfidf) "
   ]
  },
  {
   "cell_type": "code",
   "execution_count": 38,
   "metadata": {},
   "outputs": [
    {
     "name": "stderr",
     "output_type": "stream",
     "text": [
      "100%|██████████| 2484/2484 [00:02<00:00, 1056.68it/s]\n"
     ]
    }
   ],
   "source": [
    "make_lda_topic_pct_cols(lda_results2, df, \"forced_alt_\")"
   ]
  },
  {
   "attachments": {},
   "cell_type": "markdown",
   "metadata": {},
   "source": [
    "## Save final results dataframe"
   ]
  },
  {
   "attachments": {},
   "cell_type": "markdown",
   "metadata": {},
   "source": [
    "> Saves only the results columns.  All other columns can be obtained from prior dataframes"
   ]
  },
  {
   "cell_type": "code",
   "execution_count": 39,
   "metadata": {},
   "outputs": [
    {
     "data": {
      "text/plain": [
       "Index(['name', 'href', 'tokenized_text', 'lda_topic0_match_pct',\n",
       "       'lda_topic1_match_pct', 'lda_topic2_match_pct', 'lda_topic3_match_pct',\n",
       "       'lda_topic4_match_pct', 'lsa_topic0_cos_match', 'lsa_topic1_cos_match',\n",
       "       'lsa_topic2_cos_match', 'lsa_topic3_cos_match', 'lsa_topic4_cos_match',\n",
       "       'lsa_topic5_cos_match', 'lsa_topic6_cos_match', 'lsa_topic7_cos_match',\n",
       "       'lsa_topic8_cos_match', 'lsa_topic9_cos_match',\n",
       "       'forced_alt_lda_topic0_match_pct', 'forced_alt_lda_topic1_match_pct',\n",
       "       'forced_alt_lda_topic2_match_pct', 'forced_alt_lda_topic3_match_pct',\n",
       "       'forced_alt_lda_topic4_match_pct', 'forced_alt_lda_topic5_match_pct',\n",
       "       'forced_alt_lda_topic6_match_pct', 'forced_alt_lda_topic7_match_pct',\n",
       "       'forced_alt_lda_topic8_match_pct', 'forced_alt_lda_topic9_match_pct',\n",
       "       'forced_alt_lda_topic10_match_pct', 'forced_alt_lda_topic11_match_pct',\n",
       "       'forced_alt_lda_topic12_match_pct', 'forced_alt_lda_topic13_match_pct',\n",
       "       'forced_alt_lda_topic14_match_pct', 'forced_alt_lda_topic15_match_pct',\n",
       "       'forced_alt_lda_topic16_match_pct', 'forced_alt_lda_topic17_match_pct',\n",
       "       'forced_alt_lda_topic18_match_pct', 'forced_alt_lda_topic19_match_pct'],\n",
       "      dtype='object')"
      ]
     },
     "execution_count": 39,
     "metadata": {},
     "output_type": "execute_result"
    }
   ],
   "source": [
    "df.columns"
   ]
  },
  {
   "cell_type": "code",
   "execution_count": 40,
   "metadata": {},
   "outputs": [],
   "source": [
    "# (default) if reading from a tokenized-only df\n",
    "columns_to_drop = ['tokenized_text']\n",
    "\n",
    "# for cases run using other (non-standard) df's as input\n",
    "#columns_to_drop = ['combined_text', 'lemmatized_text', 'tokenized_text']"
   ]
  },
  {
   "cell_type": "code",
   "execution_count": 41,
   "metadata": {},
   "outputs": [],
   "source": [
    "df.drop(columns=columns_to_drop, inplace=True)"
   ]
  },
  {
   "cell_type": "code",
   "execution_count": 42,
   "metadata": {},
   "outputs": [],
   "source": [
    "df.to_csv(f\"{output_directory}{final_model_name}.csv\", index=False)\n",
    "# df.to_json(f\"{output_directory}{final_model_name}.json\")"
   ]
  },
  {
   "attachments": {},
   "cell_type": "markdown",
   "metadata": {},
   "source": [
    "#### Save topic words matrices"
   ]
  },
  {
   "cell_type": "code",
   "execution_count": 43,
   "metadata": {},
   "outputs": [],
   "source": [
    "lda_topic_words.to_csv(f\"{output_directory}{final_model_name}_topicwords.csv\", index=False)"
   ]
  },
  {
   "cell_type": "code",
   "execution_count": 44,
   "metadata": {},
   "outputs": [],
   "source": [
    "lda_topic_words2.to_csv(f\"{output_directory}{final_model_name}_topicwords_forced_alt.csv\", index=False)"
   ]
  }
 ],
 "metadata": {
  "kernelspec": {
   "display_name": "base",
   "language": "python",
   "name": "python3"
  },
  "language_info": {
   "codemirror_mode": {
    "name": "ipython",
    "version": 3
   },
   "file_extension": ".py",
   "mimetype": "text/x-python",
   "name": "python",
   "nbconvert_exporter": "python",
   "pygments_lexer": "ipython3",
   "version": "3.9.16"
  },
  "orig_nbformat": 4
 },
 "nbformat": 4,
 "nbformat_minor": 2
}
