{
 "cells": [
  {
   "cell_type": "code",
   "execution_count": 18,
   "metadata": {},
   "outputs": [],
   "source": [
    "# Import libaries\n",
    "import pandas as pd\n",
    "import requests\n",
    "from bs4 import BeautifulSoup\n",
    "from urllib.request import Request, urlopen"
   ]
  },
  {
   "attachments": {},
   "cell_type": "markdown",
   "metadata": {},
   "source": [
    "### Data read in"
   ]
  },
  {
   "cell_type": "code",
   "execution_count": 103,
   "metadata": {},
   "outputs": [],
   "source": [
    "no_dupes = pd.read_csv('./data/imdb_titles_no_dupes.csv')"
   ]
  },
  {
   "cell_type": "code",
   "execution_count": 104,
   "metadata": {},
   "outputs": [
    {
     "data": {
      "text/plain": [
       "(1886, 6)"
      ]
     },
     "execution_count": 104,
     "metadata": {},
     "output_type": "execute_result"
    }
   ],
   "source": [
    "no_dupes.shape"
   ]
  },
  {
   "cell_type": "code",
   "execution_count": 105,
   "metadata": {},
   "outputs": [
    {
     "data": {
      "text/html": [
       "<div>\n",
       "<style scoped>\n",
       "    .dataframe tbody tr th:only-of-type {\n",
       "        vertical-align: middle;\n",
       "    }\n",
       "\n",
       "    .dataframe tbody tr th {\n",
       "        vertical-align: top;\n",
       "    }\n",
       "\n",
       "    .dataframe thead th {\n",
       "        text-align: right;\n",
       "    }\n",
       "</style>\n",
       "<table border=\"1\" class=\"dataframe\">\n",
       "  <thead>\n",
       "    <tr style=\"text-align: right;\">\n",
       "      <th></th>\n",
       "      <th>name</th>\n",
       "      <th>href</th>\n",
       "      <th>verification</th>\n",
       "      <th>input_genre</th>\n",
       "      <th>scraped_genres</th>\n",
       "      <th>description</th>\n",
       "    </tr>\n",
       "  </thead>\n",
       "  <tbody>\n",
       "    <tr>\n",
       "      <th>0</th>\n",
       "      <td>Avatar: The Last Airbender</td>\n",
       "      <td>/title/tt0417299/</td>\n",
       "      <td>1. Avatar: The Last Airbender (2005–2008)</td>\n",
       "      <td>Action</td>\n",
       "      <td>Animation, Action, Adventure</td>\n",
       "      <td>In a war-torn world of elemental magic, a youn...</td>\n",
       "    </tr>\n",
       "    <tr>\n",
       "      <th>1</th>\n",
       "      <td>Game of Thrones</td>\n",
       "      <td>/title/tt0944947/</td>\n",
       "      <td>2. Game of Thrones (2011–2019)</td>\n",
       "      <td>Action</td>\n",
       "      <td>Action, Adventure, Drama</td>\n",
       "      <td>Nine noble families fight for control over the...</td>\n",
       "    </tr>\n",
       "    <tr>\n",
       "      <th>2</th>\n",
       "      <td>Fullmetal Alchemist: Brotherhood</td>\n",
       "      <td>/title/tt1355642/</td>\n",
       "      <td>3. Fullmetal Alchemist: Brotherhood (2009–2010)</td>\n",
       "      <td>Action</td>\n",
       "      <td>Animation, Action, Adventure</td>\n",
       "      <td>Two brothers search for a Philosopher's Stone ...</td>\n",
       "    </tr>\n",
       "    <tr>\n",
       "      <th>3</th>\n",
       "      <td>Attack on Titan</td>\n",
       "      <td>/title/tt2560140/</td>\n",
       "      <td>4. Attack on Titan (2013–2023)</td>\n",
       "      <td>Action</td>\n",
       "      <td>Animation, Action, Adventure</td>\n",
       "      <td>After his hometown is destroyed and his mother...</td>\n",
       "    </tr>\n",
       "    <tr>\n",
       "      <th>4</th>\n",
       "      <td>Arcane</td>\n",
       "      <td>/title/tt11126994/</td>\n",
       "      <td>5. Arcane (2021– )</td>\n",
       "      <td>Action</td>\n",
       "      <td>Animation, Action, Adventure</td>\n",
       "      <td>Set in Utopian Piltover and the oppressed unde...</td>\n",
       "    </tr>\n",
       "  </tbody>\n",
       "</table>\n",
       "</div>"
      ],
      "text/plain": [
       "                               name                href  \\\n",
       "0        Avatar: The Last Airbender   /title/tt0417299/   \n",
       "1                   Game of Thrones   /title/tt0944947/   \n",
       "2  Fullmetal Alchemist: Brotherhood   /title/tt1355642/   \n",
       "3                   Attack on Titan   /title/tt2560140/   \n",
       "4                            Arcane  /title/tt11126994/   \n",
       "\n",
       "                                      verification input_genre  \\\n",
       "0        1. Avatar: The Last Airbender (2005–2008)      Action   \n",
       "1                   2. Game of Thrones (2011–2019)      Action   \n",
       "2  3. Fullmetal Alchemist: Brotherhood (2009–2010)      Action   \n",
       "3                   4. Attack on Titan (2013–2023)      Action   \n",
       "4                               5. Arcane (2021– )      Action   \n",
       "\n",
       "                 scraped_genres  \\\n",
       "0  Animation, Action, Adventure   \n",
       "1      Action, Adventure, Drama   \n",
       "2  Animation, Action, Adventure   \n",
       "3  Animation, Action, Adventure   \n",
       "4  Animation, Action, Adventure   \n",
       "\n",
       "                                         description  \n",
       "0  In a war-torn world of elemental magic, a youn...  \n",
       "1  Nine noble families fight for control over the...  \n",
       "2  Two brothers search for a Philosopher's Stone ...  \n",
       "3  After his hometown is destroyed and his mother...  \n",
       "4  Set in Utopian Piltover and the oppressed unde...  "
      ]
     },
     "execution_count": 105,
     "metadata": {},
     "output_type": "execute_result"
    }
   ],
   "source": [
    "no_dupes.head()"
   ]
  },
  {
   "cell_type": "code",
   "execution_count": 102,
   "metadata": {},
   "outputs": [],
   "source": [
    "base_url = 'https://www.imdb.com'\n",
    "\n",
    "test_df = no_dupes.head().copy()"
   ]
  },
  {
   "attachments": {},
   "cell_type": "markdown",
   "metadata": {},
   "source": [
    "### Convert back to list of dictionaries"
   ]
  },
  {
   "cell_type": "code",
   "execution_count": 95,
   "metadata": {},
   "outputs": [],
   "source": [
    "# Technique reference: https://www.geeksforgeeks.org/create-a-list-from-rows-in-pandas-dataframe/\n",
    "\n",
    "# Create an empty list\n",
    "entries_list =[]\n",
    "\n",
    "# Iterate over each row\n",
    "for index, rows in test_df.iterrows():\n",
    "    # Create list for the current row\n",
    "    my_dict ={'name': rows['name'], 'href' : rows['href'], 'verifiation' : rows['verification'], 'scrape_genre' : rows['scrape_genre']}\n",
    "    \n",
    "    # append the list to the final list\n",
    "    entries_list.append(my_dict)\n",
    "  \n",
    "# Print the list\n",
    "# print(entries_list)"
   ]
  },
  {
   "attachments": {},
   "cell_type": "markdown",
   "metadata": {},
   "source": [
    "### Iterate thru list and scrape each URL for descriptions and genre tags"
   ]
  },
  {
   "cell_type": "code",
   "execution_count": 99,
   "metadata": {},
   "outputs": [
    {
     "name": "stdout",
     "output_type": "stream",
     "text": [
      "https://www.imdb.com/title/tt0417299/\n",
      "https://www.imdb.com/title/tt0944947/\n",
      "https://www.imdb.com/title/tt1355642/\n",
      "https://www.imdb.com/title/tt2560140/\n",
      "https://www.imdb.com/title/tt11126994/\n"
     ]
    }
   ],
   "source": [
    "base_url = 'https://www.imdb.com'\n",
    "\n",
    "for entry in entries_list:\n",
    "    full_url = base_url + entry['href']\n",
    "    # print(full_url)\n",
    "\n",
    "    # Technique reference to avoid 403 error: \n",
    "    # https://medium.com/@raiyanquaium/how-to-web-scrape-using-beautiful-soup-in-python-without-running-into-http-error-403-554875e5abed\n",
    "\n",
    "    req = Request(full_url, headers={'User-Agent': 'Mozilla/5.0'})\n",
    "    webpage = urlopen(req).read()\n",
    "    soup = BeautifulSoup(webpage, \"html.parser\")\n",
    "    \n",
    "    description_obj = soup.find('p')\n",
    "    description = description_obj.text\n",
    "\n",
    "    genre_tags = []\n",
    "    span_obj = soup.find_all('span', attrs='ipc-chip__text')\n",
    "\n",
    "    for item in span_obj:\n",
    "        if item.text != 'Back to top':\n",
    "            genre_tags.append(item.text)\n",
    "    \n",
    "    entry['description'] = description\n",
    "    entry['genre_tags'] = genre_tags\n"
   ]
  },
  {
   "cell_type": "code",
   "execution_count": 100,
   "metadata": {},
   "outputs": [
    {
     "data": {
      "text/plain": [
       "[{'name': 'Avatar: The Last Airbender',\n",
       "  'href': '/title/tt0417299/',\n",
       "  'verifiation': '1. Avatar: The Last Airbender (2005–2008)',\n",
       "  'genre': 'Action',\n",
       "  'description': 'In a war-torn world of elemental magic, a young boy reawakens to undertake a dangerous mystic quest to fulfill his destiny as the Avatar, and bring peace to the world.In a war-torn world of elemental magic, a young boy reawakens to undertake a dangerous mystic quest to fulfill his destiny as the Avatar, and bring peace to the world.In a war-torn world of elemental magic, a young boy reawakens to undertake a dangerous mystic quest to fulfill his destiny as the Avatar, and bring peace to the world.',\n",
       "  'genre_tags': ['Animation', 'Action', 'Adventure']},\n",
       " {'name': 'Game of Thrones',\n",
       "  'href': '/title/tt0944947/',\n",
       "  'verifiation': '2. Game of Thrones (2011–2019)',\n",
       "  'genre': 'Action',\n",
       "  'description': 'Nine noble families fight for control over the lands of Westeros, while an ancient enemy returns after being dormant for millennia.Nine noble families fight for control over the lands of Westeros, while an ancient enemy returns after being dormant for millennia.Nine noble families fight for control over the lands of Westeros, while an ancient enemy returns after being dormant for millennia.',\n",
       "  'genre_tags': ['Action', 'Adventure', 'Drama']},\n",
       " {'name': 'Fullmetal Alchemist: Brotherhood',\n",
       "  'href': '/title/tt1355642/',\n",
       "  'verifiation': '3. Fullmetal Alchemist: Brotherhood (2009–2010)',\n",
       "  'genre': 'Action',\n",
       "  'description': \"Two brothers search for a Philosopher's Stone after an attempt to revive their deceased mother goes awry and leaves them in damaged physical forms.Two brothers search for a Philosopher's Stone after an attempt to revive their deceased mother goes awry and leaves them in damaged physical forms.Two brothers search for a Philosopher's Stone after an attempt to revive their deceased mother goes awry and leaves them in damaged physical forms.\",\n",
       "  'genre_tags': ['Animation', 'Action', 'Adventure']},\n",
       " {'name': 'Attack on Titan',\n",
       "  'href': '/title/tt2560140/',\n",
       "  'verifiation': '4. Attack on Titan (2013–2023)',\n",
       "  'genre': 'Action',\n",
       "  'description': 'After his hometown is destroyed and his mother is killed, young Eren Jaeger vows to cleanse the earth of the giant humanoid Titans that have brought humanity to the brink of extinction.After his hometown is destroyed and his mother is killed, young Eren Jaeger vows to cleanse the earth of the giant humanoid Titans that have brought humanity to the brink of extinction.After his hometown is destroyed and his mother is killed, young Eren Jaeger vows to cleanse the earth of the giant humanoid Titans that have brought humanity to the brink of extinction.',\n",
       "  'genre_tags': ['Animation', 'Action', 'Adventure']},\n",
       " {'name': 'Arcane',\n",
       "  'href': '/title/tt11126994/',\n",
       "  'verifiation': '5. Arcane (2021– )',\n",
       "  'genre': 'Action',\n",
       "  'description': 'Set in Utopian Piltover and the oppressed underground of Zaun, the story follows the origins of two iconic League Of Legends champions and the power that will tear them apart.Set in Utopian Piltover and the oppressed underground of Zaun, the story follows the origins of two iconic League Of Legends champions and the power that will tear them apart.Set in Utopian Piltover and the oppressed underground of Zaun, the story follows the origins of two iconic League Of Legends champions and the power that will tear them apart.',\n",
       "  'genre_tags': ['Animation', 'Action', 'Adventure']}]"
      ]
     },
     "execution_count": 100,
     "metadata": {},
     "output_type": "execute_result"
    }
   ],
   "source": [
    "entries_list"
   ]
  },
  {
   "cell_type": "code",
   "execution_count": 101,
   "metadata": {},
   "outputs": [
    {
     "data": {
      "text/html": [
       "<div>\n",
       "<style scoped>\n",
       "    .dataframe tbody tr th:only-of-type {\n",
       "        vertical-align: middle;\n",
       "    }\n",
       "\n",
       "    .dataframe tbody tr th {\n",
       "        vertical-align: top;\n",
       "    }\n",
       "\n",
       "    .dataframe thead th {\n",
       "        text-align: right;\n",
       "    }\n",
       "</style>\n",
       "<table border=\"1\" class=\"dataframe\">\n",
       "  <thead>\n",
       "    <tr style=\"text-align: right;\">\n",
       "      <th></th>\n",
       "      <th>name</th>\n",
       "      <th>href</th>\n",
       "      <th>verifiation</th>\n",
       "      <th>genre</th>\n",
       "      <th>description</th>\n",
       "      <th>genre_tags</th>\n",
       "    </tr>\n",
       "  </thead>\n",
       "  <tbody>\n",
       "    <tr>\n",
       "      <th>0</th>\n",
       "      <td>Avatar: The Last Airbender</td>\n",
       "      <td>/title/tt0417299/</td>\n",
       "      <td>1. Avatar: The Last Airbender (2005–2008)</td>\n",
       "      <td>Action</td>\n",
       "      <td>In a war-torn world of elemental magic, a youn...</td>\n",
       "      <td>[Animation, Action, Adventure]</td>\n",
       "    </tr>\n",
       "    <tr>\n",
       "      <th>1</th>\n",
       "      <td>Game of Thrones</td>\n",
       "      <td>/title/tt0944947/</td>\n",
       "      <td>2. Game of Thrones (2011–2019)</td>\n",
       "      <td>Action</td>\n",
       "      <td>Nine noble families fight for control over the...</td>\n",
       "      <td>[Action, Adventure, Drama]</td>\n",
       "    </tr>\n",
       "    <tr>\n",
       "      <th>2</th>\n",
       "      <td>Fullmetal Alchemist: Brotherhood</td>\n",
       "      <td>/title/tt1355642/</td>\n",
       "      <td>3. Fullmetal Alchemist: Brotherhood (2009–2010)</td>\n",
       "      <td>Action</td>\n",
       "      <td>Two brothers search for a Philosopher's Stone ...</td>\n",
       "      <td>[Animation, Action, Adventure]</td>\n",
       "    </tr>\n",
       "    <tr>\n",
       "      <th>3</th>\n",
       "      <td>Attack on Titan</td>\n",
       "      <td>/title/tt2560140/</td>\n",
       "      <td>4. Attack on Titan (2013–2023)</td>\n",
       "      <td>Action</td>\n",
       "      <td>After his hometown is destroyed and his mother...</td>\n",
       "      <td>[Animation, Action, Adventure]</td>\n",
       "    </tr>\n",
       "    <tr>\n",
       "      <th>4</th>\n",
       "      <td>Arcane</td>\n",
       "      <td>/title/tt11126994/</td>\n",
       "      <td>5. Arcane (2021– )</td>\n",
       "      <td>Action</td>\n",
       "      <td>Set in Utopian Piltover and the oppressed unde...</td>\n",
       "      <td>[Animation, Action, Adventure]</td>\n",
       "    </tr>\n",
       "  </tbody>\n",
       "</table>\n",
       "</div>"
      ],
      "text/plain": [
       "                               name                href  \\\n",
       "0        Avatar: The Last Airbender   /title/tt0417299/   \n",
       "1                   Game of Thrones   /title/tt0944947/   \n",
       "2  Fullmetal Alchemist: Brotherhood   /title/tt1355642/   \n",
       "3                   Attack on Titan   /title/tt2560140/   \n",
       "4                            Arcane  /title/tt11126994/   \n",
       "\n",
       "                                       verifiation   genre  \\\n",
       "0        1. Avatar: The Last Airbender (2005–2008)  Action   \n",
       "1                   2. Game of Thrones (2011–2019)  Action   \n",
       "2  3. Fullmetal Alchemist: Brotherhood (2009–2010)  Action   \n",
       "3                   4. Attack on Titan (2013–2023)  Action   \n",
       "4                               5. Arcane (2021– )  Action   \n",
       "\n",
       "                                         description  \\\n",
       "0  In a war-torn world of elemental magic, a youn...   \n",
       "1  Nine noble families fight for control over the...   \n",
       "2  Two brothers search for a Philosopher's Stone ...   \n",
       "3  After his hometown is destroyed and his mother...   \n",
       "4  Set in Utopian Piltover and the oppressed unde...   \n",
       "\n",
       "                       genre_tags  \n",
       "0  [Animation, Action, Adventure]  \n",
       "1      [Action, Adventure, Drama]  \n",
       "2  [Animation, Action, Adventure]  \n",
       "3  [Animation, Action, Adventure]  \n",
       "4  [Animation, Action, Adventure]  "
      ]
     },
     "execution_count": 101,
     "metadata": {},
     "output_type": "execute_result"
    }
   ],
   "source": [
    "pd.DataFrame(entries_list)"
   ]
  },
  {
   "cell_type": "code",
   "execution_count": 46,
   "metadata": {},
   "outputs": [
    {
     "name": "stdout",
     "output_type": "stream",
     "text": [
      "Avatar: The Last Airbender (TV Series 2005–2008) - IMDb\n",
      "https://www.imdb.com/title/tt0417299/\n",
      "Avatar: The Last Airbender: Created by Michael Dante DiMartino, Bryan Konietzko. With Dee Bradley Baker, Zach Tyler Eisen, Mae Whitman, Jack De Sena. In a war-torn world of elemental magic, a young boy reawakens to undertake a dangerous mystic quest to fulfill his destiny as the Avatar, and bring peace to the world.\n"
     ]
    }
   ],
   "source": [
    "# Alternate method\n",
    "\n",
    "# # Technique reference: https://stackoverflow.com/questions/36768068/get-meta-tag-content-property-with-beautifulsoup-and-python\n",
    "\n",
    "# title = soup.find(\"meta\", property=\"og:title\")\n",
    "# url = soup.find(\"meta\", property=\"og:url\")\n",
    "# description = soup.find(\"meta\", property=\"og:description\")\n",
    "\n",
    "# print(title[\"content\"] if title else \"No meta title given\")\n",
    "# print(url[\"content\"] if url else \"No meta url given\")\n",
    "# print(description[\"content\"] if description else \"No meta description given\")"
   ]
  }
 ],
 "metadata": {
  "kernelspec": {
   "display_name": "base",
   "language": "python",
   "name": "python3"
  },
  "language_info": {
   "codemirror_mode": {
    "name": "ipython",
    "version": 3
   },
   "file_extension": ".py",
   "mimetype": "text/x-python",
   "name": "python",
   "nbconvert_exporter": "python",
   "pygments_lexer": "ipython3",
   "version": "3.9.16"
  },
  "orig_nbformat": 4
 },
 "nbformat": 4,
 "nbformat_minor": 2
}
