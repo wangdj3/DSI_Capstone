{
 "cells": [
  {
   "cell_type": "code",
   "execution_count": 1,
   "metadata": {},
   "outputs": [],
   "source": [
    "import pandas as pd"
   ]
  },
  {
   "attachments": {},
   "cell_type": "markdown",
   "metadata": {},
   "source": [
    "#### Read in IMDB data"
   ]
  },
  {
   "cell_type": "code",
   "execution_count": 2,
   "metadata": {},
   "outputs": [
    {
     "data": {
      "text/html": [
       "<div>\n",
       "<style scoped>\n",
       "    .dataframe tbody tr th:only-of-type {\n",
       "        vertical-align: middle;\n",
       "    }\n",
       "\n",
       "    .dataframe tbody tr th {\n",
       "        vertical-align: top;\n",
       "    }\n",
       "\n",
       "    .dataframe thead th {\n",
       "        text-align: right;\n",
       "    }\n",
       "</style>\n",
       "<table border=\"1\" class=\"dataframe\">\n",
       "  <thead>\n",
       "    <tr style=\"text-align: right;\">\n",
       "      <th></th>\n",
       "      <th>name</th>\n",
       "      <th>href</th>\n",
       "      <th>years</th>\n",
       "      <th>imdb_description</th>\n",
       "      <th>pg_rating</th>\n",
       "      <th>imdb_genre_tags</th>\n",
       "      <th>imdb_rating</th>\n",
       "      <th>num_votes</th>\n",
       "      <th>img_thumbnail</th>\n",
       "    </tr>\n",
       "  </thead>\n",
       "  <tbody>\n",
       "    <tr>\n",
       "      <th>0</th>\n",
       "      <td>Game of Thrones</td>\n",
       "      <td>/title/tt0944947/</td>\n",
       "      <td>(2011–2019)</td>\n",
       "      <td>Nine noble families fight for control over the...</td>\n",
       "      <td>TV-MA</td>\n",
       "      <td>Action, Adventure, Drama</td>\n",
       "      <td>9.2</td>\n",
       "      <td>2148311</td>\n",
       "      <td>https://m.media-amazon.com/images/M/MV5BYTRiND...</td>\n",
       "    </tr>\n",
       "    <tr>\n",
       "      <th>1</th>\n",
       "      <td>Prison Break</td>\n",
       "      <td>/title/tt0455275/</td>\n",
       "      <td>(2005–2017)</td>\n",
       "      <td>Due to a political conspiracy, an innocent man...</td>\n",
       "      <td>TV-14</td>\n",
       "      <td>Action, Crime, Drama</td>\n",
       "      <td>8.3</td>\n",
       "      <td>548267</td>\n",
       "      <td>https://m.media-amazon.com/images/M/MV5BMTg3NT...</td>\n",
       "    </tr>\n",
       "    <tr>\n",
       "      <th>2</th>\n",
       "      <td>Vikings</td>\n",
       "      <td>/title/tt2306299/</td>\n",
       "      <td>(2013–2020)</td>\n",
       "      <td>Vikings transports us to the brutal and myster...</td>\n",
       "      <td>TV-MA</td>\n",
       "      <td>Action, Adventure, Drama</td>\n",
       "      <td>8.5</td>\n",
       "      <td>547494</td>\n",
       "      <td>https://m.media-amazon.com/images/M/MV5BODk4Zj...</td>\n",
       "    </tr>\n",
       "    <tr>\n",
       "      <th>3</th>\n",
       "      <td>The Boys</td>\n",
       "      <td>/title/tt1190634/</td>\n",
       "      <td>(2019– )</td>\n",
       "      <td>A group of vigilantes set out to take down cor...</td>\n",
       "      <td>TV-MA</td>\n",
       "      <td>Action, Comedy, Crime</td>\n",
       "      <td>8.7</td>\n",
       "      <td>542317</td>\n",
       "      <td>https://m.media-amazon.com/images/M/MV5BOTEyND...</td>\n",
       "    </tr>\n",
       "    <tr>\n",
       "      <th>4</th>\n",
       "      <td>The Mandalorian</td>\n",
       "      <td>/title/tt8111088/</td>\n",
       "      <td>(2019– )</td>\n",
       "      <td>The travels of a lone bounty hunter in the out...</td>\n",
       "      <td>TV-14</td>\n",
       "      <td>Action, Adventure, Fantasy</td>\n",
       "      <td>8.7</td>\n",
       "      <td>527088</td>\n",
       "      <td>https://m.media-amazon.com/images/M/MV5BZjRlZD...</td>\n",
       "    </tr>\n",
       "  </tbody>\n",
       "</table>\n",
       "</div>"
      ],
      "text/plain": [
       "              name               href        years  \\\n",
       "0  Game of Thrones  /title/tt0944947/  (2011–2019)   \n",
       "1     Prison Break  /title/tt0455275/  (2005–2017)   \n",
       "2          Vikings  /title/tt2306299/  (2013–2020)   \n",
       "3         The Boys  /title/tt1190634/     (2019– )   \n",
       "4  The Mandalorian  /title/tt8111088/     (2019– )   \n",
       "\n",
       "                                    imdb_description pg_rating  \\\n",
       "0  Nine noble families fight for control over the...     TV-MA   \n",
       "1  Due to a political conspiracy, an innocent man...     TV-14   \n",
       "2  Vikings transports us to the brutal and myster...     TV-MA   \n",
       "3  A group of vigilantes set out to take down cor...     TV-MA   \n",
       "4  The travels of a lone bounty hunter in the out...     TV-14   \n",
       "\n",
       "              imdb_genre_tags  imdb_rating  num_votes  \\\n",
       "0    Action, Adventure, Drama          9.2    2148311   \n",
       "1        Action, Crime, Drama          8.3     548267   \n",
       "2    Action, Adventure, Drama          8.5     547494   \n",
       "3       Action, Comedy, Crime          8.7     542317   \n",
       "4  Action, Adventure, Fantasy          8.7     527088   \n",
       "\n",
       "                                       img_thumbnail  \n",
       "0  https://m.media-amazon.com/images/M/MV5BYTRiND...  \n",
       "1  https://m.media-amazon.com/images/M/MV5BMTg3NT...  \n",
       "2  https://m.media-amazon.com/images/M/MV5BODk4Zj...  \n",
       "3  https://m.media-amazon.com/images/M/MV5BOTEyND...  \n",
       "4  https://m.media-amazon.com/images/M/MV5BZjRlZD...  "
      ]
     },
     "execution_count": 2,
     "metadata": {},
     "output_type": "execute_result"
    }
   ],
   "source": [
    "no_dupes = pd.read_csv('./data/imdb_titles_no_dupes.csv')\n",
    "no_dupes.head()"
   ]
  },
  {
   "cell_type": "code",
   "execution_count": 3,
   "metadata": {},
   "outputs": [
    {
     "data": {
      "text/plain": [
       "(2484, 9)"
      ]
     },
     "execution_count": 3,
     "metadata": {},
     "output_type": "execute_result"
    }
   ],
   "source": [
    "no_dupes.shape"
   ]
  },
  {
   "attachments": {},
   "cell_type": "markdown",
   "metadata": {},
   "source": [
    "#### Read in Wikipedia data"
   ]
  },
  {
   "cell_type": "code",
   "execution_count": 4,
   "metadata": {},
   "outputs": [
    {
     "data": {
      "text/html": [
       "<div>\n",
       "<style scoped>\n",
       "    .dataframe tbody tr th:only-of-type {\n",
       "        vertical-align: middle;\n",
       "    }\n",
       "\n",
       "    .dataframe tbody tr th {\n",
       "        vertical-align: top;\n",
       "    }\n",
       "\n",
       "    .dataframe thead th {\n",
       "        text-align: right;\n",
       "    }\n",
       "</style>\n",
       "<table border=\"1\" class=\"dataframe\">\n",
       "  <thead>\n",
       "    <tr style=\"text-align: right;\">\n",
       "      <th></th>\n",
       "      <th>name</th>\n",
       "      <th>wiki_warning_flag</th>\n",
       "      <th>wiki_search_term</th>\n",
       "      <th>wiki_search_url</th>\n",
       "      <th>wiki_text</th>\n",
       "    </tr>\n",
       "    <tr>\n",
       "      <th>index_no</th>\n",
       "      <th></th>\n",
       "      <th></th>\n",
       "      <th></th>\n",
       "      <th></th>\n",
       "      <th></th>\n",
       "    </tr>\n",
       "  </thead>\n",
       "  <tbody>\n",
       "    <tr>\n",
       "      <th>0</th>\n",
       "      <td>Game of Thrones</td>\n",
       "      <td>1</td>\n",
       "      <td>Game of thrones (TV series)</td>\n",
       "      <td>https://en.wikipedia.org/wiki/Game_of_thrones_...</td>\n",
       "      <td>Game of Thrones is an American fantasy drama t...</td>\n",
       "    </tr>\n",
       "    <tr>\n",
       "      <th>1</th>\n",
       "      <td>Prison Break</td>\n",
       "      <td>1</td>\n",
       "      <td>Prison break (TV series)</td>\n",
       "      <td>https://en.wikipedia.org/wiki/Prison_break_(TV...</td>\n",
       "      <td>Prison Break is an American serial drama telev...</td>\n",
       "    </tr>\n",
       "    <tr>\n",
       "      <th>2</th>\n",
       "      <td>Vikings</td>\n",
       "      <td>0</td>\n",
       "      <td>Vikings (2013 TV series)</td>\n",
       "      <td>https://en.wikipedia.org/wiki/Vikings_(2013_TV...</td>\n",
       "      <td>Vikings is a historical drama television serie...</td>\n",
       "    </tr>\n",
       "    <tr>\n",
       "      <th>3</th>\n",
       "      <td>The Boys</td>\n",
       "      <td>0</td>\n",
       "      <td>The Boys (2019 TV series)</td>\n",
       "      <td>https://en.wikipedia.org/wiki/The_Boys_(2019_T...</td>\n",
       "      <td>The Boys is an American superhero television s...</td>\n",
       "    </tr>\n",
       "    <tr>\n",
       "      <th>4</th>\n",
       "      <td>The Mandalorian</td>\n",
       "      <td>1</td>\n",
       "      <td>The Mandalorian (TV series)</td>\n",
       "      <td>https://en.wikipedia.org/wiki/The_Mandalorian_...</td>\n",
       "      <td>The Mandalorian is an American space Western t...</td>\n",
       "    </tr>\n",
       "  </tbody>\n",
       "</table>\n",
       "</div>"
      ],
      "text/plain": [
       "                     name  wiki_warning_flag             wiki_search_term  \\\n",
       "index_no                                                                    \n",
       "0         Game of Thrones                  1  Game of thrones (TV series)   \n",
       "1            Prison Break                  1     Prison break (TV series)   \n",
       "2                 Vikings                  0     Vikings (2013 TV series)   \n",
       "3                The Boys                  0    The Boys (2019 TV series)   \n",
       "4         The Mandalorian                  1  The Mandalorian (TV series)   \n",
       "\n",
       "                                            wiki_search_url  \\\n",
       "index_no                                                      \n",
       "0         https://en.wikipedia.org/wiki/Game_of_thrones_...   \n",
       "1         https://en.wikipedia.org/wiki/Prison_break_(TV...   \n",
       "2         https://en.wikipedia.org/wiki/Vikings_(2013_TV...   \n",
       "3         https://en.wikipedia.org/wiki/The_Boys_(2019_T...   \n",
       "4         https://en.wikipedia.org/wiki/The_Mandalorian_...   \n",
       "\n",
       "                                                  wiki_text  \n",
       "index_no                                                     \n",
       "0         Game of Thrones is an American fantasy drama t...  \n",
       "1         Prison Break is an American serial drama telev...  \n",
       "2         Vikings is a historical drama television serie...  \n",
       "3         The Boys is an American superhero television s...  \n",
       "4         The Mandalorian is an American space Western t...  "
      ]
     },
     "execution_count": 4,
     "metadata": {},
     "output_type": "execute_result"
    }
   ],
   "source": [
    "wiki_articles_df = pd.read_csv('./data/wiki_articles_df.csv', index_col=\"index_no\")\n",
    "wiki_articles_df.head()"
   ]
  },
  {
   "cell_type": "code",
   "execution_count": 5,
   "metadata": {},
   "outputs": [],
   "source": [
    "wiki_articles_df.drop(columns='name', inplace=True)"
   ]
  },
  {
   "cell_type": "code",
   "execution_count": 6,
   "metadata": {},
   "outputs": [
    {
     "data": {
      "text/plain": [
       "(2484, 4)"
      ]
     },
     "execution_count": 6,
     "metadata": {},
     "output_type": "execute_result"
    }
   ],
   "source": [
    "wiki_articles_df.shape"
   ]
  },
  {
   "attachments": {},
   "cell_type": "markdown",
   "metadata": {},
   "source": [
    "#### Merge dataframes"
   ]
  },
  {
   "cell_type": "code",
   "execution_count": null,
   "metadata": {},
   "outputs": [],
   "source": [
    "# wiki_articles_df_head = wiki_articles_df.head()"
   ]
  },
  {
   "cell_type": "code",
   "execution_count": null,
   "metadata": {},
   "outputs": [],
   "source": [
    "# no_dupes_head = no_dupes.head()"
   ]
  },
  {
   "cell_type": "code",
   "execution_count": 7,
   "metadata": {},
   "outputs": [
    {
     "data": {
      "text/plain": [
       "(2484, 13)"
      ]
     },
     "execution_count": 7,
     "metadata": {},
     "output_type": "execute_result"
    }
   ],
   "source": [
    "merged_df = pd.concat([no_dupes, wiki_articles_df], axis=1)\n",
    "merged_df.shape"
   ]
  },
  {
   "cell_type": "code",
   "execution_count": 8,
   "metadata": {},
   "outputs": [
    {
     "data": {
      "text/html": [
       "<div>\n",
       "<style scoped>\n",
       "    .dataframe tbody tr th:only-of-type {\n",
       "        vertical-align: middle;\n",
       "    }\n",
       "\n",
       "    .dataframe tbody tr th {\n",
       "        vertical-align: top;\n",
       "    }\n",
       "\n",
       "    .dataframe thead th {\n",
       "        text-align: right;\n",
       "    }\n",
       "</style>\n",
       "<table border=\"1\" class=\"dataframe\">\n",
       "  <thead>\n",
       "    <tr style=\"text-align: right;\">\n",
       "      <th></th>\n",
       "      <th>name</th>\n",
       "      <th>href</th>\n",
       "      <th>years</th>\n",
       "      <th>imdb_description</th>\n",
       "      <th>pg_rating</th>\n",
       "      <th>imdb_genre_tags</th>\n",
       "      <th>imdb_rating</th>\n",
       "      <th>num_votes</th>\n",
       "      <th>img_thumbnail</th>\n",
       "      <th>wiki_warning_flag</th>\n",
       "      <th>wiki_search_term</th>\n",
       "      <th>wiki_search_url</th>\n",
       "      <th>wiki_text</th>\n",
       "    </tr>\n",
       "  </thead>\n",
       "  <tbody>\n",
       "    <tr>\n",
       "      <th>0</th>\n",
       "      <td>Game of Thrones</td>\n",
       "      <td>/title/tt0944947/</td>\n",
       "      <td>(2011–2019)</td>\n",
       "      <td>Nine noble families fight for control over the...</td>\n",
       "      <td>TV-MA</td>\n",
       "      <td>Action, Adventure, Drama</td>\n",
       "      <td>9.2</td>\n",
       "      <td>2148311</td>\n",
       "      <td>https://m.media-amazon.com/images/M/MV5BYTRiND...</td>\n",
       "      <td>1</td>\n",
       "      <td>Game of thrones (TV series)</td>\n",
       "      <td>https://en.wikipedia.org/wiki/Game_of_thrones_...</td>\n",
       "      <td>Game of Thrones is an American fantasy drama t...</td>\n",
       "    </tr>\n",
       "    <tr>\n",
       "      <th>1</th>\n",
       "      <td>Prison Break</td>\n",
       "      <td>/title/tt0455275/</td>\n",
       "      <td>(2005–2017)</td>\n",
       "      <td>Due to a political conspiracy, an innocent man...</td>\n",
       "      <td>TV-14</td>\n",
       "      <td>Action, Crime, Drama</td>\n",
       "      <td>8.3</td>\n",
       "      <td>548267</td>\n",
       "      <td>https://m.media-amazon.com/images/M/MV5BMTg3NT...</td>\n",
       "      <td>1</td>\n",
       "      <td>Prison break (TV series)</td>\n",
       "      <td>https://en.wikipedia.org/wiki/Prison_break_(TV...</td>\n",
       "      <td>Prison Break is an American serial drama telev...</td>\n",
       "    </tr>\n",
       "    <tr>\n",
       "      <th>2</th>\n",
       "      <td>Vikings</td>\n",
       "      <td>/title/tt2306299/</td>\n",
       "      <td>(2013–2020)</td>\n",
       "      <td>Vikings transports us to the brutal and myster...</td>\n",
       "      <td>TV-MA</td>\n",
       "      <td>Action, Adventure, Drama</td>\n",
       "      <td>8.5</td>\n",
       "      <td>547494</td>\n",
       "      <td>https://m.media-amazon.com/images/M/MV5BODk4Zj...</td>\n",
       "      <td>0</td>\n",
       "      <td>Vikings (2013 TV series)</td>\n",
       "      <td>https://en.wikipedia.org/wiki/Vikings_(2013_TV...</td>\n",
       "      <td>Vikings is a historical drama television serie...</td>\n",
       "    </tr>\n",
       "    <tr>\n",
       "      <th>3</th>\n",
       "      <td>The Boys</td>\n",
       "      <td>/title/tt1190634/</td>\n",
       "      <td>(2019– )</td>\n",
       "      <td>A group of vigilantes set out to take down cor...</td>\n",
       "      <td>TV-MA</td>\n",
       "      <td>Action, Comedy, Crime</td>\n",
       "      <td>8.7</td>\n",
       "      <td>542317</td>\n",
       "      <td>https://m.media-amazon.com/images/M/MV5BOTEyND...</td>\n",
       "      <td>0</td>\n",
       "      <td>The Boys (2019 TV series)</td>\n",
       "      <td>https://en.wikipedia.org/wiki/The_Boys_(2019_T...</td>\n",
       "      <td>The Boys is an American superhero television s...</td>\n",
       "    </tr>\n",
       "    <tr>\n",
       "      <th>4</th>\n",
       "      <td>The Mandalorian</td>\n",
       "      <td>/title/tt8111088/</td>\n",
       "      <td>(2019– )</td>\n",
       "      <td>The travels of a lone bounty hunter in the out...</td>\n",
       "      <td>TV-14</td>\n",
       "      <td>Action, Adventure, Fantasy</td>\n",
       "      <td>8.7</td>\n",
       "      <td>527088</td>\n",
       "      <td>https://m.media-amazon.com/images/M/MV5BZjRlZD...</td>\n",
       "      <td>1</td>\n",
       "      <td>The Mandalorian (TV series)</td>\n",
       "      <td>https://en.wikipedia.org/wiki/The_Mandalorian_...</td>\n",
       "      <td>The Mandalorian is an American space Western t...</td>\n",
       "    </tr>\n",
       "  </tbody>\n",
       "</table>\n",
       "</div>"
      ],
      "text/plain": [
       "              name               href        years  \\\n",
       "0  Game of Thrones  /title/tt0944947/  (2011–2019)   \n",
       "1     Prison Break  /title/tt0455275/  (2005–2017)   \n",
       "2          Vikings  /title/tt2306299/  (2013–2020)   \n",
       "3         The Boys  /title/tt1190634/     (2019– )   \n",
       "4  The Mandalorian  /title/tt8111088/     (2019– )   \n",
       "\n",
       "                                    imdb_description pg_rating  \\\n",
       "0  Nine noble families fight for control over the...     TV-MA   \n",
       "1  Due to a political conspiracy, an innocent man...     TV-14   \n",
       "2  Vikings transports us to the brutal and myster...     TV-MA   \n",
       "3  A group of vigilantes set out to take down cor...     TV-MA   \n",
       "4  The travels of a lone bounty hunter in the out...     TV-14   \n",
       "\n",
       "              imdb_genre_tags  imdb_rating  num_votes  \\\n",
       "0    Action, Adventure, Drama          9.2    2148311   \n",
       "1        Action, Crime, Drama          8.3     548267   \n",
       "2    Action, Adventure, Drama          8.5     547494   \n",
       "3       Action, Comedy, Crime          8.7     542317   \n",
       "4  Action, Adventure, Fantasy          8.7     527088   \n",
       "\n",
       "                                       img_thumbnail  wiki_warning_flag  \\\n",
       "0  https://m.media-amazon.com/images/M/MV5BYTRiND...                  1   \n",
       "1  https://m.media-amazon.com/images/M/MV5BMTg3NT...                  1   \n",
       "2  https://m.media-amazon.com/images/M/MV5BODk4Zj...                  0   \n",
       "3  https://m.media-amazon.com/images/M/MV5BOTEyND...                  0   \n",
       "4  https://m.media-amazon.com/images/M/MV5BZjRlZD...                  1   \n",
       "\n",
       "              wiki_search_term  \\\n",
       "0  Game of thrones (TV series)   \n",
       "1     Prison break (TV series)   \n",
       "2     Vikings (2013 TV series)   \n",
       "3    The Boys (2019 TV series)   \n",
       "4  The Mandalorian (TV series)   \n",
       "\n",
       "                                     wiki_search_url  \\\n",
       "0  https://en.wikipedia.org/wiki/Game_of_thrones_...   \n",
       "1  https://en.wikipedia.org/wiki/Prison_break_(TV...   \n",
       "2  https://en.wikipedia.org/wiki/Vikings_(2013_TV...   \n",
       "3  https://en.wikipedia.org/wiki/The_Boys_(2019_T...   \n",
       "4  https://en.wikipedia.org/wiki/The_Mandalorian_...   \n",
       "\n",
       "                                           wiki_text  \n",
       "0  Game of Thrones is an American fantasy drama t...  \n",
       "1  Prison Break is an American serial drama telev...  \n",
       "2  Vikings is a historical drama television serie...  \n",
       "3  The Boys is an American superhero television s...  \n",
       "4  The Mandalorian is an American space Western t...  "
      ]
     },
     "execution_count": 8,
     "metadata": {},
     "output_type": "execute_result"
    }
   ],
   "source": [
    "merged_df.head()"
   ]
  },
  {
   "cell_type": "code",
   "execution_count": 9,
   "metadata": {},
   "outputs": [
    {
     "data": {
      "text/plain": [
       "Index(['name', 'href', 'years', 'imdb_description', 'pg_rating',\n",
       "       'imdb_genre_tags', 'imdb_rating', 'num_votes', 'img_thumbnail',\n",
       "       'wiki_warning_flag', 'wiki_search_term', 'wiki_search_url',\n",
       "       'wiki_text'],\n",
       "      dtype='object')"
      ]
     },
     "execution_count": 9,
     "metadata": {},
     "output_type": "execute_result"
    }
   ],
   "source": [
    "merged_df.columns"
   ]
  },
  {
   "attachments": {},
   "cell_type": "markdown",
   "metadata": {},
   "source": [
    "#### Write to disk"
   ]
  },
  {
   "cell_type": "code",
   "execution_count": 10,
   "metadata": {},
   "outputs": [],
   "source": [
    "merged_df.to_csv('./data/merged_df.csv', index=False)"
   ]
  },
  {
   "cell_type": "code",
   "execution_count": 13,
   "metadata": {},
   "outputs": [],
   "source": [
    "# test_read_in_csv = pd.read_csv('./data/merged_df.csv')\n",
    "# test_read_in_csv.head()"
   ]
  }
 ],
 "metadata": {
  "kernelspec": {
   "display_name": "base",
   "language": "python",
   "name": "python3"
  },
  "language_info": {
   "codemirror_mode": {
    "name": "ipython",
    "version": 3
   },
   "file_extension": ".py",
   "mimetype": "text/x-python",
   "name": "python",
   "nbconvert_exporter": "python",
   "pygments_lexer": "ipython3",
   "version": "3.9.16"
  },
  "orig_nbformat": 4
 },
 "nbformat": 4,
 "nbformat_minor": 2
}
